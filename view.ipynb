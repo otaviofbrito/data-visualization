{
 "cells": [
  {
   "cell_type": "code",
   "execution_count": 6,
   "metadata": {},
   "outputs": [],
   "source": [
    "import mysql.connector\n",
    "import pandas as pd\n",
    "import plotly.express as px\n",
    "import networkx as nx\n",
    "import plotly.graph_objects as go"
   ]
  },
  {
   "cell_type": "code",
   "execution_count": 8,
   "metadata": {},
   "outputs": [
    {
     "name": "stderr",
     "output_type": "stream",
     "text": [
      "/tmp/ipykernel_11939/242327090.py:30: UserWarning:\n",
      "\n",
      "pandas only supports SQLAlchemy connectable (engine/connection) or database string URI or sqlite3 DBAPI2 connection. Other DBAPI2 objects are not tested. Please consider using SQLAlchemy.\n",
      "\n",
      "/tmp/ipykernel_11939/242327090.py:32: UserWarning:\n",
      "\n",
      "pandas only supports SQLAlchemy connectable (engine/connection) or database string URI or sqlite3 DBAPI2 connection. Other DBAPI2 objects are not tested. Please consider using SQLAlchemy.\n",
      "\n"
     ]
    }
   ],
   "source": [
    "\n",
    "connection = mysql.connector.connect(\n",
    "    host='localhost',\n",
    "    user='user',\n",
    "    password='user',\n",
    "    database='tm_db',\n",
    "    port=3307\n",
    ")\n",
    "\n",
    "query = \"\"\"\n",
    "SELECT p.name, t.year, t.transfer_fee, t.transfer_type,\n",
    " c1.country AS country_left,\n",
    " c2.country AS country_joined\n",
    "FROM transfers t\n",
    "JOIN (SELECT clubs.id, cts.country FROM clubs\n",
    "\t\tJOIN (SELECT l.id, c.country FROM leagues l\n",
    "\t\t\t\tJOIN countries c\n",
    "                ON l.country_id = c.country) cts\n",
    "\t\tON clubs.id_current_league = cts.id) c1\n",
    "ON left_club_id = c1.id\n",
    "JOIN (SELECT clubs.id, cts.country FROM clubs\n",
    "\t\tJOIN (SELECT l.id, c.country FROM leagues l\n",
    "\t\t\t\tJOIN countries c\n",
    "                ON l.country_id = c.country) cts\n",
    "\t\tON clubs.id_current_league = cts.id) c2\n",
    "ON joined_club_id = c2.id\n",
    "JOIN players p\n",
    "ON player_id = p.id;\n",
    "\"\"\"\n",
    "\n",
    "df = pd.read_sql(query, connection)\n",
    "\n",
    "country_coords = pd.read_sql(\n",
    "    \"SELECT country, latitude AS lat, longitude AS lon, name FROM tm_db.countries;\", connection)\n",
    "\n",
    "connection.close()\n",
    "\n",
    "country_coords.set_index('country', inplace=True)\n",
    "\n",
    "years = df['year'].unique()\n",
    "years = sorted(years)\n"
   ]
  },
  {
   "cell_type": "code",
   "execution_count": 4,
   "metadata": {},
   "outputs": [
    {
     "data": {
      "application/vnd.plotly.v1+json": {
       "config": {
        "plotlyServerURL": "https://plot.ly"
       },
       "data": [
        {
         "domain": {
          "x": [
           0,
           1
          ],
          "y": [
           0,
           1
          ]
         },
         "hovertemplate": "country=%{label}<br>qt=%{value}<extra></extra>",
         "labels": [
          "Germany",
          "Netherlands",
          "Russia",
          "Austria",
          "Other countries",
          "Belgium",
          "Other countries",
          "Other countries",
          "Other countries",
          "Other countries",
          "Argentina",
          "Other countries",
          "Other countries",
          "Other countries",
          "Brazil",
          "Other countries",
          "Bosnia-Herzegovina",
          "Other countries",
          "Switzerland",
          "Colombia",
          "France",
          "Other countries",
          "China",
          "Other countries",
          "England",
          "Other countries",
          "Other countries",
          "Czech Republic",
          "Denmark",
          "Other countries",
          "Spain",
          "Other countries",
          "Estonia",
          "Other countries",
          "Faroe Islands",
          "Finland",
          "Other countries",
          "Other countries",
          "Other countries",
          "Other countries",
          "Other countries",
          "Other countries",
          "Other countries",
          "Japan",
          "Other countries",
          "Italy",
          "Other countries",
          "Other countries",
          "Other countries",
          "Other countries",
          "Other countries",
          "Other countries",
          "Other countries",
          "Other countries",
          "Other countries",
          "Other countries",
          "Other countries",
          "Other countries",
          "Other countries",
          "Other countries",
          "Other countries",
          "Other countries",
          "Mexico",
          "Other countries",
          "Other countries",
          "Other countries",
          "United States",
          "Other countries",
          "Other countries",
          "Other countries",
          "Other countries",
          "Other countries",
          "Other countries",
          "Other countries",
          "Other countries",
          "Norway",
          "Other countries",
          "Other countries",
          "Other countries",
          "Other countries",
          "Poland",
          "Other countries",
          "Other countries",
          "Other countries",
          "Other countries",
          "Other countries",
          "Other countries",
          "Scotland",
          "Other countries",
          "Other countries",
          "Other countries",
          "Other countries",
          "Other countries",
          "Other countries",
          "Other countries",
          "Other countries",
          "Türkiye",
          "Other countries",
          "Other countries",
          "Other countries",
          "Other countries",
          "Other countries",
          "Other countries",
          "Other countries",
          "Other countries",
          "Uruguay",
          "Other countries",
          "Other countries",
          "Other countries",
          "Other countries",
          "Other countries"
         ],
         "legendgroup": "",
         "name": "",
         "showlegend": true,
         "type": "pie",
         "values": [
          73,
          7,
          9,
          16,
          3,
          7,
          2,
          1,
          1,
          2,
          7,
          2,
          1,
          2,
          9,
          1,
          5,
          2,
          12,
          7,
          20,
          1,
          8,
          2,
          9,
          2,
          2,
          5,
          5,
          1,
          9,
          3,
          8,
          1,
          5,
          14,
          1,
          2,
          1,
          1,
          3,
          1,
          3,
          21,
          1,
          20,
          2,
          2,
          2,
          3,
          3,
          2,
          1,
          4,
          3,
          1,
          1,
          2,
          2,
          1,
          1,
          2,
          5,
          2,
          1,
          1,
          5,
          2,
          1,
          1,
          1,
          1,
          1,
          3,
          4,
          10,
          1,
          1,
          3,
          1,
          8,
          2,
          4,
          2,
          1,
          2,
          2,
          7,
          4,
          2,
          1,
          1,
          3,
          3,
          1,
          1,
          9,
          1,
          2,
          2,
          1,
          3,
          1,
          1,
          2,
          5,
          2,
          1,
          2,
          3,
          2
         ]
        }
       ],
       "layout": {
        "legend": {
         "tracegroupgap": 0
        },
        "template": {
         "data": {
          "bar": [
           {
            "error_x": {
             "color": "#2a3f5f"
            },
            "error_y": {
             "color": "#2a3f5f"
            },
            "marker": {
             "line": {
              "color": "#E5ECF6",
              "width": 0.5
             },
             "pattern": {
              "fillmode": "overlay",
              "size": 10,
              "solidity": 0.2
             }
            },
            "type": "bar"
           }
          ],
          "barpolar": [
           {
            "marker": {
             "line": {
              "color": "#E5ECF6",
              "width": 0.5
             },
             "pattern": {
              "fillmode": "overlay",
              "size": 10,
              "solidity": 0.2
             }
            },
            "type": "barpolar"
           }
          ],
          "carpet": [
           {
            "aaxis": {
             "endlinecolor": "#2a3f5f",
             "gridcolor": "white",
             "linecolor": "white",
             "minorgridcolor": "white",
             "startlinecolor": "#2a3f5f"
            },
            "baxis": {
             "endlinecolor": "#2a3f5f",
             "gridcolor": "white",
             "linecolor": "white",
             "minorgridcolor": "white",
             "startlinecolor": "#2a3f5f"
            },
            "type": "carpet"
           }
          ],
          "choropleth": [
           {
            "colorbar": {
             "outlinewidth": 0,
             "ticks": ""
            },
            "type": "choropleth"
           }
          ],
          "contour": [
           {
            "colorbar": {
             "outlinewidth": 0,
             "ticks": ""
            },
            "colorscale": [
             [
              0,
              "#0d0887"
             ],
             [
              0.1111111111111111,
              "#46039f"
             ],
             [
              0.2222222222222222,
              "#7201a8"
             ],
             [
              0.3333333333333333,
              "#9c179e"
             ],
             [
              0.4444444444444444,
              "#bd3786"
             ],
             [
              0.5555555555555556,
              "#d8576b"
             ],
             [
              0.6666666666666666,
              "#ed7953"
             ],
             [
              0.7777777777777778,
              "#fb9f3a"
             ],
             [
              0.8888888888888888,
              "#fdca26"
             ],
             [
              1,
              "#f0f921"
             ]
            ],
            "type": "contour"
           }
          ],
          "contourcarpet": [
           {
            "colorbar": {
             "outlinewidth": 0,
             "ticks": ""
            },
            "type": "contourcarpet"
           }
          ],
          "heatmap": [
           {
            "colorbar": {
             "outlinewidth": 0,
             "ticks": ""
            },
            "colorscale": [
             [
              0,
              "#0d0887"
             ],
             [
              0.1111111111111111,
              "#46039f"
             ],
             [
              0.2222222222222222,
              "#7201a8"
             ],
             [
              0.3333333333333333,
              "#9c179e"
             ],
             [
              0.4444444444444444,
              "#bd3786"
             ],
             [
              0.5555555555555556,
              "#d8576b"
             ],
             [
              0.6666666666666666,
              "#ed7953"
             ],
             [
              0.7777777777777778,
              "#fb9f3a"
             ],
             [
              0.8888888888888888,
              "#fdca26"
             ],
             [
              1,
              "#f0f921"
             ]
            ],
            "type": "heatmap"
           }
          ],
          "heatmapgl": [
           {
            "colorbar": {
             "outlinewidth": 0,
             "ticks": ""
            },
            "colorscale": [
             [
              0,
              "#0d0887"
             ],
             [
              0.1111111111111111,
              "#46039f"
             ],
             [
              0.2222222222222222,
              "#7201a8"
             ],
             [
              0.3333333333333333,
              "#9c179e"
             ],
             [
              0.4444444444444444,
              "#bd3786"
             ],
             [
              0.5555555555555556,
              "#d8576b"
             ],
             [
              0.6666666666666666,
              "#ed7953"
             ],
             [
              0.7777777777777778,
              "#fb9f3a"
             ],
             [
              0.8888888888888888,
              "#fdca26"
             ],
             [
              1,
              "#f0f921"
             ]
            ],
            "type": "heatmapgl"
           }
          ],
          "histogram": [
           {
            "marker": {
             "pattern": {
              "fillmode": "overlay",
              "size": 10,
              "solidity": 0.2
             }
            },
            "type": "histogram"
           }
          ],
          "histogram2d": [
           {
            "colorbar": {
             "outlinewidth": 0,
             "ticks": ""
            },
            "colorscale": [
             [
              0,
              "#0d0887"
             ],
             [
              0.1111111111111111,
              "#46039f"
             ],
             [
              0.2222222222222222,
              "#7201a8"
             ],
             [
              0.3333333333333333,
              "#9c179e"
             ],
             [
              0.4444444444444444,
              "#bd3786"
             ],
             [
              0.5555555555555556,
              "#d8576b"
             ],
             [
              0.6666666666666666,
              "#ed7953"
             ],
             [
              0.7777777777777778,
              "#fb9f3a"
             ],
             [
              0.8888888888888888,
              "#fdca26"
             ],
             [
              1,
              "#f0f921"
             ]
            ],
            "type": "histogram2d"
           }
          ],
          "histogram2dcontour": [
           {
            "colorbar": {
             "outlinewidth": 0,
             "ticks": ""
            },
            "colorscale": [
             [
              0,
              "#0d0887"
             ],
             [
              0.1111111111111111,
              "#46039f"
             ],
             [
              0.2222222222222222,
              "#7201a8"
             ],
             [
              0.3333333333333333,
              "#9c179e"
             ],
             [
              0.4444444444444444,
              "#bd3786"
             ],
             [
              0.5555555555555556,
              "#d8576b"
             ],
             [
              0.6666666666666666,
              "#ed7953"
             ],
             [
              0.7777777777777778,
              "#fb9f3a"
             ],
             [
              0.8888888888888888,
              "#fdca26"
             ],
             [
              1,
              "#f0f921"
             ]
            ],
            "type": "histogram2dcontour"
           }
          ],
          "mesh3d": [
           {
            "colorbar": {
             "outlinewidth": 0,
             "ticks": ""
            },
            "type": "mesh3d"
           }
          ],
          "parcoords": [
           {
            "line": {
             "colorbar": {
              "outlinewidth": 0,
              "ticks": ""
             }
            },
            "type": "parcoords"
           }
          ],
          "pie": [
           {
            "automargin": true,
            "type": "pie"
           }
          ],
          "scatter": [
           {
            "fillpattern": {
             "fillmode": "overlay",
             "size": 10,
             "solidity": 0.2
            },
            "type": "scatter"
           }
          ],
          "scatter3d": [
           {
            "line": {
             "colorbar": {
              "outlinewidth": 0,
              "ticks": ""
             }
            },
            "marker": {
             "colorbar": {
              "outlinewidth": 0,
              "ticks": ""
             }
            },
            "type": "scatter3d"
           }
          ],
          "scattercarpet": [
           {
            "marker": {
             "colorbar": {
              "outlinewidth": 0,
              "ticks": ""
             }
            },
            "type": "scattercarpet"
           }
          ],
          "scattergeo": [
           {
            "marker": {
             "colorbar": {
              "outlinewidth": 0,
              "ticks": ""
             }
            },
            "type": "scattergeo"
           }
          ],
          "scattergl": [
           {
            "marker": {
             "colorbar": {
              "outlinewidth": 0,
              "ticks": ""
             }
            },
            "type": "scattergl"
           }
          ],
          "scattermapbox": [
           {
            "marker": {
             "colorbar": {
              "outlinewidth": 0,
              "ticks": ""
             }
            },
            "type": "scattermapbox"
           }
          ],
          "scatterpolar": [
           {
            "marker": {
             "colorbar": {
              "outlinewidth": 0,
              "ticks": ""
             }
            },
            "type": "scatterpolar"
           }
          ],
          "scatterpolargl": [
           {
            "marker": {
             "colorbar": {
              "outlinewidth": 0,
              "ticks": ""
             }
            },
            "type": "scatterpolargl"
           }
          ],
          "scatterternary": [
           {
            "marker": {
             "colorbar": {
              "outlinewidth": 0,
              "ticks": ""
             }
            },
            "type": "scatterternary"
           }
          ],
          "surface": [
           {
            "colorbar": {
             "outlinewidth": 0,
             "ticks": ""
            },
            "colorscale": [
             [
              0,
              "#0d0887"
             ],
             [
              0.1111111111111111,
              "#46039f"
             ],
             [
              0.2222222222222222,
              "#7201a8"
             ],
             [
              0.3333333333333333,
              "#9c179e"
             ],
             [
              0.4444444444444444,
              "#bd3786"
             ],
             [
              0.5555555555555556,
              "#d8576b"
             ],
             [
              0.6666666666666666,
              "#ed7953"
             ],
             [
              0.7777777777777778,
              "#fb9f3a"
             ],
             [
              0.8888888888888888,
              "#fdca26"
             ],
             [
              1,
              "#f0f921"
             ]
            ],
            "type": "surface"
           }
          ],
          "table": [
           {
            "cells": {
             "fill": {
              "color": "#EBF0F8"
             },
             "line": {
              "color": "white"
             }
            },
            "header": {
             "fill": {
              "color": "#C8D4E3"
             },
             "line": {
              "color": "white"
             }
            },
            "type": "table"
           }
          ]
         },
         "layout": {
          "annotationdefaults": {
           "arrowcolor": "#2a3f5f",
           "arrowhead": 0,
           "arrowwidth": 1
          },
          "autotypenumbers": "strict",
          "coloraxis": {
           "colorbar": {
            "outlinewidth": 0,
            "ticks": ""
           }
          },
          "colorscale": {
           "diverging": [
            [
             0,
             "#8e0152"
            ],
            [
             0.1,
             "#c51b7d"
            ],
            [
             0.2,
             "#de77ae"
            ],
            [
             0.3,
             "#f1b6da"
            ],
            [
             0.4,
             "#fde0ef"
            ],
            [
             0.5,
             "#f7f7f7"
            ],
            [
             0.6,
             "#e6f5d0"
            ],
            [
             0.7,
             "#b8e186"
            ],
            [
             0.8,
             "#7fbc41"
            ],
            [
             0.9,
             "#4d9221"
            ],
            [
             1,
             "#276419"
            ]
           ],
           "sequential": [
            [
             0,
             "#0d0887"
            ],
            [
             0.1111111111111111,
             "#46039f"
            ],
            [
             0.2222222222222222,
             "#7201a8"
            ],
            [
             0.3333333333333333,
             "#9c179e"
            ],
            [
             0.4444444444444444,
             "#bd3786"
            ],
            [
             0.5555555555555556,
             "#d8576b"
            ],
            [
             0.6666666666666666,
             "#ed7953"
            ],
            [
             0.7777777777777778,
             "#fb9f3a"
            ],
            [
             0.8888888888888888,
             "#fdca26"
            ],
            [
             1,
             "#f0f921"
            ]
           ],
           "sequentialminus": [
            [
             0,
             "#0d0887"
            ],
            [
             0.1111111111111111,
             "#46039f"
            ],
            [
             0.2222222222222222,
             "#7201a8"
            ],
            [
             0.3333333333333333,
             "#9c179e"
            ],
            [
             0.4444444444444444,
             "#bd3786"
            ],
            [
             0.5555555555555556,
             "#d8576b"
            ],
            [
             0.6666666666666666,
             "#ed7953"
            ],
            [
             0.7777777777777778,
             "#fb9f3a"
            ],
            [
             0.8888888888888888,
             "#fdca26"
            ],
            [
             1,
             "#f0f921"
            ]
           ]
          },
          "colorway": [
           "#636efa",
           "#EF553B",
           "#00cc96",
           "#ab63fa",
           "#FFA15A",
           "#19d3f3",
           "#FF6692",
           "#B6E880",
           "#FF97FF",
           "#FECB52"
          ],
          "font": {
           "color": "#2a3f5f"
          },
          "geo": {
           "bgcolor": "white",
           "lakecolor": "white",
           "landcolor": "#E5ECF6",
           "showlakes": true,
           "showland": true,
           "subunitcolor": "white"
          },
          "hoverlabel": {
           "align": "left"
          },
          "hovermode": "closest",
          "mapbox": {
           "style": "light"
          },
          "paper_bgcolor": "white",
          "plot_bgcolor": "#E5ECF6",
          "polar": {
           "angularaxis": {
            "gridcolor": "white",
            "linecolor": "white",
            "ticks": ""
           },
           "bgcolor": "#E5ECF6",
           "radialaxis": {
            "gridcolor": "white",
            "linecolor": "white",
            "ticks": ""
           }
          },
          "scene": {
           "xaxis": {
            "backgroundcolor": "#E5ECF6",
            "gridcolor": "white",
            "gridwidth": 2,
            "linecolor": "white",
            "showbackground": true,
            "ticks": "",
            "zerolinecolor": "white"
           },
           "yaxis": {
            "backgroundcolor": "#E5ECF6",
            "gridcolor": "white",
            "gridwidth": 2,
            "linecolor": "white",
            "showbackground": true,
            "ticks": "",
            "zerolinecolor": "white"
           },
           "zaxis": {
            "backgroundcolor": "#E5ECF6",
            "gridcolor": "white",
            "gridwidth": 2,
            "linecolor": "white",
            "showbackground": true,
            "ticks": "",
            "zerolinecolor": "white"
           }
          },
          "shapedefaults": {
           "line": {
            "color": "#2a3f5f"
           }
          },
          "ternary": {
           "aaxis": {
            "gridcolor": "white",
            "linecolor": "white",
            "ticks": ""
           },
           "baxis": {
            "gridcolor": "white",
            "linecolor": "white",
            "ticks": ""
           },
           "bgcolor": "#E5ECF6",
           "caxis": {
            "gridcolor": "white",
            "linecolor": "white",
            "ticks": ""
           }
          },
          "title": {
           "x": 0.05
          },
          "xaxis": {
           "automargin": true,
           "gridcolor": "white",
           "linecolor": "white",
           "ticks": "",
           "title": {
            "standoff": 15
           },
           "zerolinecolor": "white",
           "zerolinewidth": 2
          },
          "yaxis": {
           "automargin": true,
           "gridcolor": "white",
           "linecolor": "white",
           "ticks": "",
           "title": {
            "standoff": 15
           },
           "zerolinecolor": "white",
           "zerolinewidth": 2
          }
         }
        },
        "title": {
         "text": "Leagues"
        }
       }
      }
     },
     "metadata": {},
     "output_type": "display_data"
    }
   ],
   "source": [
    "df.loc[df['qt'] < 5, 'country'] = 'Other countries'\n",
    "\n",
    "fig = px.pie(df, values='qt', names='country', title='Leagues')\n",
    "fig.show()"
   ]
  },
  {
   "cell_type": "code",
   "execution_count": 9,
   "metadata": {},
   "outputs": [],
   "source": [
    "G = nx.DiGraph()\n",
    "for _, row in df.iterrows():\n",
    "    origin = row['country_left']\n",
    "    destination = row['country_joined']\n",
    "    G.add_edge(origin, destination, weight=1)\n",
    "        "
   ]
  },
  {
   "cell_type": "code",
   "execution_count": 10,
   "metadata": {},
   "outputs": [
    {
     "data": {
      "application/vnd.plotly.v1+json": {
       "config": {
        "plotlyServerURL": "https://plot.ly"
       },
       "data": [
        {
         "lat": [
          51.165691,
          51.165691
         ],
         "line": {
          "color": "blue",
          "width": 1
         },
         "locationmode": "ISO-3",
         "lon": [
          10.451526,
          10.451526
         ],
         "mode": "lines",
         "opacity": 0.6,
         "type": "scattergeo"
        },
        {
         "lat": [
          51.165691,
          47.516231
         ],
         "line": {
          "color": "blue",
          "width": 1
         },
         "locationmode": "ISO-3",
         "lon": [
          10.451526,
          14.550072
         ],
         "mode": "lines",
         "opacity": 0.6,
         "type": "scattergeo"
        },
        {
         "lat": [
          51.165691,
          39.074208
         ],
         "line": {
          "color": "blue",
          "width": 1
         },
         "locationmode": "ISO-3",
         "lon": [
          10.451526,
          21.824312
         ],
         "mode": "lines",
         "opacity": 0.6,
         "type": "scattergeo"
        },
        {
         "lat": [
          51.165691,
          40.463667
         ],
         "line": {
          "color": "blue",
          "width": 1
         },
         "locationmode": "ISO-3",
         "lon": [
          10.451526,
          -3.74922
         ],
         "mode": "lines",
         "opacity": 0.6,
         "type": "scattergeo"
        },
        {
         "lat": [
          51.165691,
          52.132633
         ],
         "line": {
          "color": "blue",
          "width": 1
         },
         "locationmode": "ISO-3",
         "lon": [
          10.451526,
          5.291266
         ],
         "mode": "lines",
         "opacity": 0.6,
         "type": "scattergeo"
        },
        {
         "lat": [
          51.165691,
          41.87194
         ],
         "line": {
          "color": "blue",
          "width": 1
         },
         "locationmode": "ISO-3",
         "lon": [
          10.451526,
          12.56738
         ],
         "mode": "lines",
         "opacity": 0.6,
         "type": "scattergeo"
        },
        {
         "lat": [
          51.165691,
          45.1
         ],
         "line": {
          "color": "blue",
          "width": 1
         },
         "locationmode": "ISO-3",
         "lon": [
          10.451526,
          15.2
         ],
         "mode": "lines",
         "opacity": 0.6,
         "type": "scattergeo"
        },
        {
         "lat": [
          51.165691,
          36.204824
         ],
         "line": {
          "color": "blue",
          "width": 1
         },
         "locationmode": "ISO-3",
         "lon": [
          10.451526,
          138.252924
         ],
         "mode": "lines",
         "opacity": 0.6,
         "type": "scattergeo"
        },
        {
         "lat": [
          51.165691,
          61.52401
         ],
         "line": {
          "color": "blue",
          "width": 1
         },
         "locationmode": "ISO-3",
         "lon": [
          10.451526,
          105.318756
         ],
         "mode": "lines",
         "opacity": 0.6,
         "type": "scattergeo"
        },
        {
         "lat": [
          51.165691,
          -14.235004
         ],
         "line": {
          "color": "blue",
          "width": 1
         },
         "locationmode": "ISO-3",
         "lon": [
          10.451526,
          -51.92528
         ],
         "mode": "lines",
         "opacity": 0.6,
         "type": "scattergeo"
        },
        {
         "lat": [
          51.165691,
          50.503887
         ],
         "line": {
          "color": "blue",
          "width": 1
         },
         "locationmode": "ISO-3",
         "lon": [
          10.451526,
          4.469936
         ],
         "mode": "lines",
         "opacity": 0.6,
         "type": "scattergeo"
        },
        {
         "lat": [
          51.165691,
          35.86166
         ],
         "line": {
          "color": "blue",
          "width": 1
         },
         "locationmode": "ISO-3",
         "lon": [
          10.451526,
          104.195397
         ],
         "mode": "lines",
         "opacity": 0.6,
         "type": "scattergeo"
        },
        {
         "lat": [
          51.165691,
          56.26392
         ],
         "line": {
          "color": "blue",
          "width": 1
         },
         "locationmode": "ISO-3",
         "lon": [
          10.451526,
          9.501785
         ],
         "mode": "lines",
         "opacity": 0.6,
         "type": "scattergeo"
        },
        {
         "lat": [
          51.165691,
          25.354826
         ],
         "line": {
          "color": "blue",
          "width": 1
         },
         "locationmode": "ISO-3",
         "lon": [
          10.451526,
          51.183884
         ],
         "mode": "lines",
         "opacity": 0.6,
         "type": "scattergeo"
        },
        {
         "lat": [
          51.165691,
          38.963745
         ],
         "line": {
          "color": "blue",
          "width": 1
         },
         "locationmode": "ISO-3",
         "lon": [
          10.451526,
          35.243322
         ],
         "mode": "lines",
         "opacity": 0.6,
         "type": "scattergeo"
        },
        {
         "lat": [
          51.165691,
          55.378051
         ],
         "line": {
          "color": "blue",
          "width": 1
         },
         "locationmode": "ISO-3",
         "lon": [
          10.451526,
          -3.435973
         ],
         "mode": "lines",
         "opacity": 0.6,
         "type": "scattergeo"
        },
        {
         "lat": [
          51.165691,
          46.818188
         ],
         "line": {
          "color": "blue",
          "width": 1
         },
         "locationmode": "ISO-3",
         "lon": [
          10.451526,
          8.227512
         ],
         "mode": "lines",
         "opacity": 0.6,
         "type": "scattergeo"
        },
        {
         "lat": [
          51.165691,
          46.227638
         ],
         "line": {
          "color": "blue",
          "width": 1
         },
         "locationmode": "ISO-3",
         "lon": [
          10.451526,
          2.213749
         ],
         "mode": "lines",
         "opacity": 0.6,
         "type": "scattergeo"
        },
        {
         "lat": [
          51.165691,
          9.081999
         ],
         "line": {
          "color": "blue",
          "width": 1
         },
         "locationmode": "ISO-3",
         "lon": [
          10.451526,
          8.675277
         ],
         "mode": "lines",
         "opacity": 0.6,
         "type": "scattergeo"
        },
        {
         "lat": [
          51.165691,
          51.919438
         ],
         "line": {
          "color": "blue",
          "width": 1
         },
         "locationmode": "ISO-3",
         "lon": [
          10.451526,
          19.145136
         ],
         "mode": "lines",
         "opacity": 0.6,
         "type": "scattergeo"
        },
        {
         "lat": [
          51.165691,
          49.817492
         ],
         "line": {
          "color": "blue",
          "width": 1
         },
         "locationmode": "ISO-3",
         "lon": [
          10.451526,
          15.472962
         ],
         "mode": "lines",
         "opacity": 0.6,
         "type": "scattergeo"
        },
        {
         "lat": [
          51.165691,
          42.733883
         ],
         "line": {
          "color": "blue",
          "width": 1
         },
         "locationmode": "ISO-3",
         "lon": [
          10.451526,
          25.48583
         ],
         "mode": "lines",
         "opacity": 0.6,
         "type": "scattergeo"
        },
        {
         "lat": [
          51.165691,
          60.472024
         ],
         "line": {
          "color": "blue",
          "width": 1
         },
         "locationmode": "ISO-3",
         "lon": [
          10.451526,
          8.468946
         ],
         "mode": "lines",
         "opacity": 0.6,
         "type": "scattergeo"
        },
        {
         "lat": [
          51.165691,
          -38.416097
         ],
         "line": {
          "color": "blue",
          "width": 1
         },
         "locationmode": "ISO-3",
         "lon": [
          10.451526,
          -63.616672
         ],
         "mode": "lines",
         "opacity": 0.6,
         "type": "scattergeo"
        },
        {
         "lat": [
          51.165691,
          37.09024
         ],
         "line": {
          "color": "blue",
          "width": 1
         },
         "locationmode": "ISO-3",
         "lon": [
          10.451526,
          -95.712891
         ],
         "mode": "lines",
         "opacity": 0.6,
         "type": "scattergeo"
        },
        {
         "lat": [
          51.165691,
          39.399872
         ],
         "line": {
          "color": "blue",
          "width": 1
         },
         "locationmode": "ISO-3",
         "lon": [
          10.451526,
          -8.224454
         ],
         "mode": "lines",
         "opacity": 0.6,
         "type": "scattergeo"
        },
        {
         "lat": [
          51.165691,
          41.608635
         ],
         "line": {
          "color": "blue",
          "width": 1
         },
         "locationmode": "ISO-3",
         "lon": [
          10.451526,
          21.745275
         ],
         "mode": "lines",
         "opacity": 0.6,
         "type": "scattergeo"
        },
        {
         "lat": [
          51.165691,
          61.92411
         ],
         "line": {
          "color": "blue",
          "width": 1
         },
         "locationmode": "ISO-3",
         "lon": [
          10.451526,
          25.748151
         ],
         "mode": "lines",
         "opacity": 0.6,
         "type": "scattergeo"
        },
        {
         "lat": [
          51.165691,
          49.815273
         ],
         "line": {
          "color": "blue",
          "width": 1
         },
         "locationmode": "ISO-3",
         "lon": [
          10.451526,
          6.129583
         ],
         "mode": "lines",
         "opacity": 0.6,
         "type": "scattergeo"
        },
        {
         "lat": [
          51.165691,
          64.963051
         ],
         "line": {
          "color": "blue",
          "width": 1
         },
         "locationmode": "ISO-3",
         "lon": [
          10.451526,
          -19.020835
         ],
         "mode": "lines",
         "opacity": 0.6,
         "type": "scattergeo"
        },
        {
         "lat": [
          51.165691,
          43.915886
         ],
         "line": {
          "color": "blue",
          "width": 1
         },
         "locationmode": "ISO-3",
         "lon": [
          10.451526,
          17.679076
         ],
         "mode": "lines",
         "opacity": 0.6,
         "type": "scattergeo"
        },
        {
         "lat": [
          51.165691,
          60.128161
         ],
         "line": {
          "color": "blue",
          "width": 1
         },
         "locationmode": "ISO-3",
         "lon": [
          10.451526,
          18.643501
         ],
         "mode": "lines",
         "opacity": 0.6,
         "type": "scattergeo"
        },
        {
         "lat": [
          51.165691,
          41.153332
         ],
         "line": {
          "color": "blue",
          "width": 1
         },
         "locationmode": "ISO-3",
         "lon": [
          10.451526,
          20.168331
         ],
         "mode": "lines",
         "opacity": 0.6,
         "type": "scattergeo"
        },
        {
         "lat": [
          51.165691,
          32.427908
         ],
         "line": {
          "color": "blue",
          "width": 1
         },
         "locationmode": "ISO-3",
         "lon": [
          10.451526,
          53.688046
         ],
         "mode": "lines",
         "opacity": 0.6,
         "type": "scattergeo"
        },
        {
         "lat": [
          51.165691,
          35.126413
         ],
         "line": {
          "color": "blue",
          "width": 1
         },
         "locationmode": "ISO-3",
         "lon": [
          10.451526,
          33.429859
         ],
         "mode": "lines",
         "opacity": 0.6,
         "type": "scattergeo"
        },
        {
         "lat": [
          51.165691,
          45.943161
         ],
         "line": {
          "color": "blue",
          "width": 1
         },
         "locationmode": "ISO-3",
         "lon": [
          10.451526,
          24.96676
         ],
         "mode": "lines",
         "opacity": 0.6,
         "type": "scattergeo"
        },
        {
         "lat": [
          51.165691,
          48.669026
         ],
         "line": {
          "color": "blue",
          "width": 1
         },
         "locationmode": "ISO-3",
         "lon": [
          10.451526,
          19.699024
         ],
         "mode": "lines",
         "opacity": 0.6,
         "type": "scattergeo"
        },
        {
         "lat": [
          51.165691,
          42.315407
         ],
         "line": {
          "color": "blue",
          "width": 1
         },
         "locationmode": "ISO-3",
         "lon": [
          10.451526,
          43.356892
         ],
         "mode": "lines",
         "opacity": 0.6,
         "type": "scattergeo"
        },
        {
         "lat": [
          51.165691,
          4.210484
         ],
         "line": {
          "color": "blue",
          "width": 1
         },
         "locationmode": "ISO-3",
         "lon": [
          10.451526,
          101.975766
         ],
         "mode": "lines",
         "opacity": 0.6,
         "type": "scattergeo"
        },
        {
         "lat": [
          51.165691,
          47.162494
         ],
         "line": {
          "color": "blue",
          "width": 1
         },
         "locationmode": "ISO-3",
         "lon": [
          10.451526,
          19.503304
         ],
         "mode": "lines",
         "opacity": 0.6,
         "type": "scattergeo"
        },
        {
         "lat": [
          51.165691,
          35.937496
         ],
         "line": {
          "color": "blue",
          "width": 1
         },
         "locationmode": "ISO-3",
         "lon": [
          10.451526,
          14.375416
         ],
         "mode": "lines",
         "opacity": 0.6,
         "type": "scattergeo"
        },
        {
         "lat": [
          51.165691,
          4.570868
         ],
         "line": {
          "color": "blue",
          "width": 1
         },
         "locationmode": "ISO-3",
         "lon": [
          10.451526,
          -74.297333
         ],
         "mode": "lines",
         "opacity": 0.6,
         "type": "scattergeo"
        },
        {
         "lat": [
          51.165691,
          33.854721
         ],
         "line": {
          "color": "blue",
          "width": 1
         },
         "locationmode": "ISO-3",
         "lon": [
          10.451526,
          35.862285
         ],
         "mode": "lines",
         "opacity": 0.6,
         "type": "scattergeo"
        },
        {
         "lat": [
          51.165691,
          23.424076
         ],
         "line": {
          "color": "blue",
          "width": 1
         },
         "locationmode": "ISO-3",
         "lon": [
          10.451526,
          53.847818
         ],
         "mode": "lines",
         "opacity": 0.6,
         "type": "scattergeo"
        },
        {
         "lat": [
          51.165691,
          46.151241
         ],
         "line": {
          "color": "blue",
          "width": 1
         },
         "locationmode": "ISO-3",
         "lon": [
          10.451526,
          14.995463
         ],
         "mode": "lines",
         "opacity": 0.6,
         "type": "scattergeo"
        },
        {
         "lat": [
          51.165691,
          42.708678
         ],
         "line": {
          "color": "blue",
          "width": 1
         },
         "locationmode": "ISO-3",
         "lon": [
          10.451526,
          19.37439
         ],
         "mode": "lines",
         "opacity": 0.6,
         "type": "scattergeo"
        },
        {
         "lat": [
          47.516231,
          51.165691
         ],
         "line": {
          "color": "blue",
          "width": 1
         },
         "locationmode": "ISO-3",
         "lon": [
          14.550072,
          10.451526
         ],
         "mode": "lines",
         "opacity": 0.6,
         "type": "scattergeo"
        },
        {
         "lat": [
          47.516231,
          47.162494
         ],
         "line": {
          "color": "blue",
          "width": 1
         },
         "locationmode": "ISO-3",
         "lon": [
          14.550072,
          19.503304
         ],
         "mode": "lines",
         "opacity": 0.6,
         "type": "scattergeo"
        },
        {
         "lat": [
          47.516231,
          47.516231
         ],
         "line": {
          "color": "blue",
          "width": 1
         },
         "locationmode": "ISO-3",
         "lon": [
          14.550072,
          14.550072
         ],
         "mode": "lines",
         "opacity": 0.6,
         "type": "scattergeo"
        },
        {
         "lat": [
          47.516231,
          -25.274398
         ],
         "line": {
          "color": "blue",
          "width": 1
         },
         "locationmode": "ISO-3",
         "lon": [
          14.550072,
          133.775136
         ],
         "mode": "lines",
         "opacity": 0.6,
         "type": "scattergeo"
        },
        {
         "lat": [
          47.516231,
          46.151241
         ],
         "line": {
          "color": "blue",
          "width": 1
         },
         "locationmode": "ISO-3",
         "lon": [
          14.550072,
          14.995463
         ],
         "mode": "lines",
         "opacity": 0.6,
         "type": "scattergeo"
        },
        {
         "lat": [
          47.516231,
          51.919438
         ],
         "line": {
          "color": "blue",
          "width": 1
         },
         "locationmode": "ISO-3",
         "lon": [
          14.550072,
          19.145136
         ],
         "mode": "lines",
         "opacity": 0.6,
         "type": "scattergeo"
        },
        {
         "lat": [
          47.516231,
          38.963745
         ],
         "line": {
          "color": "blue",
          "width": 1
         },
         "locationmode": "ISO-3",
         "lon": [
          14.550072,
          35.243322
         ],
         "mode": "lines",
         "opacity": 0.6,
         "type": "scattergeo"
        },
        {
         "lat": [
          47.516231,
          -35.675147
         ],
         "line": {
          "color": "blue",
          "width": 1
         },
         "locationmode": "ISO-3",
         "lon": [
          14.550072,
          -71.542969
         ],
         "mode": "lines",
         "opacity": 0.6,
         "type": "scattergeo"
        },
        {
         "lat": [
          47.516231,
          61.52401
         ],
         "line": {
          "color": "blue",
          "width": 1
         },
         "locationmode": "ISO-3",
         "lon": [
          14.550072,
          105.318756
         ],
         "mode": "lines",
         "opacity": 0.6,
         "type": "scattergeo"
        },
        {
         "lat": [
          47.516231,
          46.227638
         ],
         "line": {
          "color": "blue",
          "width": 1
         },
         "locationmode": "ISO-3",
         "lon": [
          14.550072,
          2.213749
         ],
         "mode": "lines",
         "opacity": 0.6,
         "type": "scattergeo"
        },
        {
         "lat": [
          47.516231,
          44.016521
         ],
         "line": {
          "color": "blue",
          "width": 1
         },
         "locationmode": "ISO-3",
         "lon": [
          14.550072,
          21.005859
         ],
         "mode": "lines",
         "opacity": 0.6,
         "type": "scattergeo"
        },
        {
         "lat": [
          47.516231,
          48.669026
         ],
         "line": {
          "color": "blue",
          "width": 1
         },
         "locationmode": "ISO-3",
         "lon": [
          14.550072,
          19.699024
         ],
         "mode": "lines",
         "opacity": 0.6,
         "type": "scattergeo"
        },
        {
         "lat": [
          47.516231,
          60.472024
         ],
         "line": {
          "color": "blue",
          "width": 1
         },
         "locationmode": "ISO-3",
         "lon": [
          14.550072,
          8.468946
         ],
         "mode": "lines",
         "opacity": 0.6,
         "type": "scattergeo"
        },
        {
         "lat": [
          47.516231,
          45.1
         ],
         "line": {
          "color": "blue",
          "width": 1
         },
         "locationmode": "ISO-3",
         "lon": [
          14.550072,
          15.2
         ],
         "mode": "lines",
         "opacity": 0.6,
         "type": "scattergeo"
        },
        {
         "lat": [
          47.516231,
          50.503887
         ],
         "line": {
          "color": "blue",
          "width": 1
         },
         "locationmode": "ISO-3",
         "lon": [
          14.550072,
          4.469936
         ],
         "mode": "lines",
         "opacity": 0.6,
         "type": "scattergeo"
        },
        {
         "lat": [
          47.516231,
          32.427908
         ],
         "line": {
          "color": "blue",
          "width": 1
         },
         "locationmode": "ISO-3",
         "lon": [
          14.550072,
          53.688046
         ],
         "mode": "lines",
         "opacity": 0.6,
         "type": "scattergeo"
        },
        {
         "lat": [
          47.516231,
          42.733883
         ],
         "line": {
          "color": "blue",
          "width": 1
         },
         "locationmode": "ISO-3",
         "lon": [
          14.550072,
          25.48583
         ],
         "mode": "lines",
         "opacity": 0.6,
         "type": "scattergeo"
        },
        {
         "lat": [
          47.516231,
          52.132633
         ],
         "line": {
          "color": "blue",
          "width": 1
         },
         "locationmode": "ISO-3",
         "lon": [
          14.550072,
          5.291266
         ],
         "mode": "lines",
         "opacity": 0.6,
         "type": "scattergeo"
        },
        {
         "lat": [
          47.516231,
          39.074208
         ],
         "line": {
          "color": "blue",
          "width": 1
         },
         "locationmode": "ISO-3",
         "lon": [
          14.550072,
          21.824312
         ],
         "mode": "lines",
         "opacity": 0.6,
         "type": "scattergeo"
        },
        {
         "lat": [
          47.516231,
          35.907757
         ],
         "line": {
          "color": "blue",
          "width": 1
         },
         "locationmode": "ISO-3",
         "lon": [
          14.550072,
          127.766922
         ],
         "mode": "lines",
         "opacity": 0.6,
         "type": "scattergeo"
        },
        {
         "lat": [
          47.516231,
          46.818188
         ],
         "line": {
          "color": "blue",
          "width": 1
         },
         "locationmode": "ISO-3",
         "lon": [
          14.550072,
          8.227512
         ],
         "mode": "lines",
         "opacity": 0.6,
         "type": "scattergeo"
        },
        {
         "lat": [
          47.516231,
          55.378051
         ],
         "line": {
          "color": "blue",
          "width": 1
         },
         "locationmode": "ISO-3",
         "lon": [
          14.550072,
          -3.435973
         ],
         "mode": "lines",
         "opacity": 0.6,
         "type": "scattergeo"
        },
        {
         "lat": [
          47.516231,
          49.817492
         ],
         "line": {
          "color": "blue",
          "width": 1
         },
         "locationmode": "ISO-3",
         "lon": [
          14.550072,
          15.472962
         ],
         "mode": "lines",
         "opacity": 0.6,
         "type": "scattergeo"
        },
        {
         "lat": [
          47.516231,
          56.26392
         ],
         "line": {
          "color": "blue",
          "width": 1
         },
         "locationmode": "ISO-3",
         "lon": [
          14.550072,
          9.501785
         ],
         "mode": "lines",
         "opacity": 0.6,
         "type": "scattergeo"
        },
        {
         "lat": [
          47.516231,
          -9.189967
         ],
         "line": {
          "color": "blue",
          "width": 1
         },
         "locationmode": "ISO-3",
         "lon": [
          14.550072,
          -75.015152
         ],
         "mode": "lines",
         "opacity": 0.6,
         "type": "scattergeo"
        },
        {
         "lat": [
          47.516231,
          1.352083
         ],
         "line": {
          "color": "blue",
          "width": 1
         },
         "locationmode": "ISO-3",
         "lon": [
          14.550072,
          103.819836
         ],
         "mode": "lines",
         "opacity": 0.6,
         "type": "scattergeo"
        },
        {
         "lat": [
          47.516231,
          41.153332
         ],
         "line": {
          "color": "blue",
          "width": 1
         },
         "locationmode": "ISO-3",
         "lon": [
          14.550072,
          20.168331
         ],
         "mode": "lines",
         "opacity": 0.6,
         "type": "scattergeo"
        },
        {
         "lat": [
          55.378051,
          44.016521
         ],
         "line": {
          "color": "blue",
          "width": 1
         },
         "locationmode": "ISO-3",
         "lon": [
          -3.435973,
          21.005859
         ],
         "mode": "lines",
         "opacity": 0.6,
         "type": "scattergeo"
        },
        {
         "lat": [
          55.378051,
          47.162494
         ],
         "line": {
          "color": "blue",
          "width": 1
         },
         "locationmode": "ISO-3",
         "lon": [
          -3.435973,
          19.503304
         ],
         "mode": "lines",
         "opacity": 0.6,
         "type": "scattergeo"
        },
        {
         "lat": [
          55.378051,
          51.165691
         ],
         "line": {
          "color": "blue",
          "width": 1
         },
         "locationmode": "ISO-3",
         "lon": [
          -3.435973,
          10.451526
         ],
         "mode": "lines",
         "opacity": 0.6,
         "type": "scattergeo"
        },
        {
         "lat": [
          55.378051,
          55.378051
         ],
         "line": {
          "color": "blue",
          "width": 1
         },
         "locationmode": "ISO-3",
         "lon": [
          -3.435973,
          -3.435973
         ],
         "mode": "lines",
         "opacity": 0.6,
         "type": "scattergeo"
        },
        {
         "lat": [
          55.378051,
          60.128161
         ],
         "line": {
          "color": "blue",
          "width": 1
         },
         "locationmode": "ISO-3",
         "lon": [
          -3.435973,
          18.643501
         ],
         "mode": "lines",
         "opacity": 0.6,
         "type": "scattergeo"
        },
        {
         "lat": [
          55.378051,
          46.227638
         ],
         "line": {
          "color": "blue",
          "width": 1
         },
         "locationmode": "ISO-3",
         "lon": [
          -3.435973,
          2.213749
         ],
         "mode": "lines",
         "opacity": 0.6,
         "type": "scattergeo"
        },
        {
         "lat": [
          55.378051,
          64.963051
         ],
         "line": {
          "color": "blue",
          "width": 1
         },
         "locationmode": "ISO-3",
         "lon": [
          -3.435973,
          -19.020835
         ],
         "mode": "lines",
         "opacity": 0.6,
         "type": "scattergeo"
        },
        {
         "lat": [
          55.378051,
          23.634501
         ],
         "line": {
          "color": "blue",
          "width": 1
         },
         "locationmode": "ISO-3",
         "lon": [
          -3.435973,
          -102.552784
         ],
         "mode": "lines",
         "opacity": 0.6,
         "type": "scattergeo"
        },
        {
         "lat": [
          55.378051,
          45.1
         ],
         "line": {
          "color": "blue",
          "width": 1
         },
         "locationmode": "ISO-3",
         "lon": [
          -3.435973,
          15.2
         ],
         "mode": "lines",
         "opacity": 0.6,
         "type": "scattergeo"
        },
        {
         "lat": [
          55.378051,
          48.379433
         ],
         "line": {
          "color": "blue",
          "width": 1
         },
         "locationmode": "ISO-3",
         "lon": [
          -3.435973,
          31.16558
         ],
         "mode": "lines",
         "opacity": 0.6,
         "type": "scattergeo"
        },
        {
         "lat": [
          55.378051,
          41.87194
         ],
         "line": {
          "color": "blue",
          "width": 1
         },
         "locationmode": "ISO-3",
         "lon": [
          -3.435973,
          12.56738
         ],
         "mode": "lines",
         "opacity": 0.6,
         "type": "scattergeo"
        },
        {
         "lat": [
          55.378051,
          37.09024
         ],
         "line": {
          "color": "blue",
          "width": 1
         },
         "locationmode": "ISO-3",
         "lon": [
          -3.435973,
          -95.712891
         ],
         "mode": "lines",
         "opacity": 0.6,
         "type": "scattergeo"
        },
        {
         "lat": [
          55.378051,
          52.132633
         ],
         "line": {
          "color": "blue",
          "width": 1
         },
         "locationmode": "ISO-3",
         "lon": [
          -3.435973,
          5.291266
         ],
         "mode": "lines",
         "opacity": 0.6,
         "type": "scattergeo"
        },
        {
         "lat": [
          55.378051,
          39.399872
         ],
         "line": {
          "color": "blue",
          "width": 1
         },
         "locationmode": "ISO-3",
         "lon": [
          -3.435973,
          -8.224454
         ],
         "mode": "lines",
         "opacity": 0.6,
         "type": "scattergeo"
        },
        {
         "lat": [
          55.378051,
          40.463667
         ],
         "line": {
          "color": "blue",
          "width": 1
         },
         "locationmode": "ISO-3",
         "lon": [
          -3.435973,
          -3.74922
         ],
         "mode": "lines",
         "opacity": 0.6,
         "type": "scattergeo"
        },
        {
         "lat": [
          55.378051,
          60.472024
         ],
         "line": {
          "color": "blue",
          "width": 1
         },
         "locationmode": "ISO-3",
         "lon": [
          -3.435973,
          8.468946
         ],
         "mode": "lines",
         "opacity": 0.6,
         "type": "scattergeo"
        },
        {
         "lat": [
          55.378051,
          -25.274398
         ],
         "line": {
          "color": "blue",
          "width": 1
         },
         "locationmode": "ISO-3",
         "lon": [
          -3.435973,
          133.775136
         ],
         "mode": "lines",
         "opacity": 0.6,
         "type": "scattergeo"
        },
        {
         "lat": [
          55.378051,
          38.963745
         ],
         "line": {
          "color": "blue",
          "width": 1
         },
         "locationmode": "ISO-3",
         "lon": [
          -3.435973,
          35.243322
         ],
         "mode": "lines",
         "opacity": 0.6,
         "type": "scattergeo"
        },
        {
         "lat": [
          55.378051,
          39.074208
         ],
         "line": {
          "color": "blue",
          "width": 1
         },
         "locationmode": "ISO-3",
         "lon": [
          -3.435973,
          21.824312
         ],
         "mode": "lines",
         "opacity": 0.6,
         "type": "scattergeo"
        },
        {
         "lat": [
          55.378051,
          -14.235004
         ],
         "line": {
          "color": "blue",
          "width": 1
         },
         "locationmode": "ISO-3",
         "lon": [
          -3.435973,
          -51.92528
         ],
         "mode": "lines",
         "opacity": 0.6,
         "type": "scattergeo"
        },
        {
         "lat": [
          55.378051,
          36.204824
         ],
         "line": {
          "color": "blue",
          "width": 1
         },
         "locationmode": "ISO-3",
         "lon": [
          -3.435973,
          138.252924
         ],
         "mode": "lines",
         "opacity": 0.6,
         "type": "scattergeo"
        },
        {
         "lat": [
          55.378051,
          49.817492
         ],
         "line": {
          "color": "blue",
          "width": 1
         },
         "locationmode": "ISO-3",
         "lon": [
          -3.435973,
          15.472962
         ],
         "mode": "lines",
         "opacity": 0.6,
         "type": "scattergeo"
        },
        {
         "lat": [
          55.378051,
          23.885942
         ],
         "line": {
          "color": "blue",
          "width": 1
         },
         "locationmode": "ISO-3",
         "lon": [
          -3.435973,
          45.079162
         ],
         "mode": "lines",
         "opacity": 0.6,
         "type": "scattergeo"
        },
        {
         "lat": [
          55.378051,
          -38.416097
         ],
         "line": {
          "color": "blue",
          "width": 1
         },
         "locationmode": "ISO-3",
         "lon": [
          -3.435973,
          -63.616672
         ],
         "mode": "lines",
         "opacity": 0.6,
         "type": "scattergeo"
        },
        {
         "lat": [
          55.378051,
          56.26392
         ],
         "line": {
          "color": "blue",
          "width": 1
         },
         "locationmode": "ISO-3",
         "lon": [
          -3.435973,
          9.501785
         ],
         "mode": "lines",
         "opacity": 0.6,
         "type": "scattergeo"
        },
        {
         "lat": [
          55.378051,
          50.503887
         ],
         "line": {
          "color": "blue",
          "width": 1
         },
         "locationmode": "ISO-3",
         "lon": [
          -3.435973,
          4.469936
         ],
         "mode": "lines",
         "opacity": 0.6,
         "type": "scattergeo"
        },
        {
         "lat": [
          55.378051,
          51.919438
         ],
         "line": {
          "color": "blue",
          "width": 1
         },
         "locationmode": "ISO-3",
         "lon": [
          -3.435973,
          19.145136
         ],
         "mode": "lines",
         "opacity": 0.6,
         "type": "scattergeo"
        },
        {
         "lat": [
          55.378051,
          53.41291
         ],
         "line": {
          "color": "blue",
          "width": 1
         },
         "locationmode": "ISO-3",
         "lon": [
          -3.435973,
          -8.24389
         ],
         "mode": "lines",
         "opacity": 0.6,
         "type": "scattergeo"
        },
        {
         "lat": [
          55.378051,
          31.046051
         ],
         "line": {
          "color": "blue",
          "width": 1
         },
         "locationmode": "ISO-3",
         "lon": [
          -3.435973,
          34.851612
         ],
         "mode": "lines",
         "opacity": 0.6,
         "type": "scattergeo"
        },
        {
         "lat": [
          55.378051,
          25.354826
         ],
         "line": {
          "color": "blue",
          "width": 1
         },
         "locationmode": "ISO-3",
         "lon": [
          -3.435973,
          51.183884
         ],
         "mode": "lines",
         "opacity": 0.6,
         "type": "scattergeo"
        },
        {
         "lat": [
          55.378051,
          61.52401
         ],
         "line": {
          "color": "blue",
          "width": 1
         },
         "locationmode": "ISO-3",
         "lon": [
          -3.435973,
          105.318756
         ],
         "mode": "lines",
         "opacity": 0.6,
         "type": "scattergeo"
        },
        {
         "lat": [
          55.378051,
          61.92411
         ],
         "line": {
          "color": "blue",
          "width": 1
         },
         "locationmode": "ISO-3",
         "lon": [
          -3.435973,
          25.748151
         ],
         "mode": "lines",
         "opacity": 0.6,
         "type": "scattergeo"
        },
        {
         "lat": [
          55.378051,
          46.818188
         ],
         "line": {
          "color": "blue",
          "width": 1
         },
         "locationmode": "ISO-3",
         "lon": [
          -3.435973,
          8.227512
         ],
         "mode": "lines",
         "opacity": 0.6,
         "type": "scattergeo"
        },
        {
         "lat": [
          55.378051,
          -23.442503
         ],
         "line": {
          "color": "blue",
          "width": 1
         },
         "locationmode": "ISO-3",
         "lon": [
          -3.435973,
          -58.443832
         ],
         "mode": "lines",
         "opacity": 0.6,
         "type": "scattergeo"
        },
        {
         "lat": [
          55.378051,
          1.352083
         ],
         "line": {
          "color": "blue",
          "width": 1
         },
         "locationmode": "ISO-3",
         "lon": [
          -3.435973,
          103.819836
         ],
         "mode": "lines",
         "opacity": 0.6,
         "type": "scattergeo"
        },
        {
         "lat": [
          55.378051,
          18.109581
         ],
         "line": {
          "color": "blue",
          "width": 1
         },
         "locationmode": "ISO-3",
         "lon": [
          -3.435973,
          -77.297508
         ],
         "mode": "lines",
         "opacity": 0.6,
         "type": "scattergeo"
        },
        {
         "lat": [
          55.378051,
          15.199999
         ],
         "line": {
          "color": "blue",
          "width": 1
         },
         "locationmode": "ISO-3",
         "lon": [
          -3.435973,
          -86.241905
         ],
         "mode": "lines",
         "opacity": 0.6,
         "type": "scattergeo"
        },
        {
         "lat": [
          55.378051,
          61.892635
         ],
         "line": {
          "color": "blue",
          "width": 1
         },
         "locationmode": "ISO-3",
         "lon": [
          -3.435973,
          -6.911806
         ],
         "mode": "lines",
         "opacity": 0.6,
         "type": "scattergeo"
        },
        {
         "lat": [
          55.378051,
          47.516231
         ],
         "line": {
          "color": "blue",
          "width": 1
         },
         "locationmode": "ISO-3",
         "lon": [
          -3.435973,
          14.550072
         ],
         "mode": "lines",
         "opacity": 0.6,
         "type": "scattergeo"
        },
        {
         "lat": [
          55.378051,
          35.86166
         ],
         "line": {
          "color": "blue",
          "width": 1
         },
         "locationmode": "ISO-3",
         "lon": [
          -3.435973,
          104.195397
         ],
         "mode": "lines",
         "opacity": 0.6,
         "type": "scattergeo"
        },
        {
         "lat": [
          55.378051,
          -32.522779
         ],
         "line": {
          "color": "blue",
          "width": 1
         },
         "locationmode": "ISO-3",
         "lon": [
          -3.435973,
          -55.765835
         ],
         "mode": "lines",
         "opacity": 0.6,
         "type": "scattergeo"
        },
        {
         "lat": [
          55.378051,
          15.783471
         ],
         "line": {
          "color": "blue",
          "width": 1
         },
         "locationmode": "ISO-3",
         "lon": [
          -3.435973,
          -90.230759
         ],
         "mode": "lines",
         "opacity": 0.6,
         "type": "scattergeo"
        },
        {
         "lat": [
          55.378051,
          35.937496
         ],
         "line": {
          "color": "blue",
          "width": 1
         },
         "locationmode": "ISO-3",
         "lon": [
          -3.435973,
          14.375416
         ],
         "mode": "lines",
         "opacity": 0.6,
         "type": "scattergeo"
        },
        {
         "lat": [
          44.016521,
          47.516231
         ],
         "line": {
          "color": "blue",
          "width": 1
         },
         "locationmode": "ISO-3",
         "lon": [
          21.005859,
          14.550072
         ],
         "mode": "lines",
         "opacity": 0.6,
         "type": "scattergeo"
        },
        {
         "lat": [
          44.016521,
          23.424076
         ],
         "line": {
          "color": "blue",
          "width": 1
         },
         "locationmode": "ISO-3",
         "lon": [
          21.005859,
          53.847818
         ],
         "mode": "lines",
         "opacity": 0.6,
         "type": "scattergeo"
        },
        {
         "lat": [
          44.016521,
          44.016521
         ],
         "line": {
          "color": "blue",
          "width": 1
         },
         "locationmode": "ISO-3",
         "lon": [
          21.005859,
          21.005859
         ],
         "mode": "lines",
         "opacity": 0.6,
         "type": "scattergeo"
        },
        {
         "lat": [
          44.016521,
          41.608635
         ],
         "line": {
          "color": "blue",
          "width": 1
         },
         "locationmode": "ISO-3",
         "lon": [
          21.005859,
          21.745275
         ],
         "mode": "lines",
         "opacity": 0.6,
         "type": "scattergeo"
        },
        {
         "lat": [
          44.016521,
          38.963745
         ],
         "line": {
          "color": "blue",
          "width": 1
         },
         "locationmode": "ISO-3",
         "lon": [
          21.005859,
          35.243322
         ],
         "mode": "lines",
         "opacity": 0.6,
         "type": "scattergeo"
        },
        {
         "lat": [
          44.016521,
          48.379433
         ],
         "line": {
          "color": "blue",
          "width": 1
         },
         "locationmode": "ISO-3",
         "lon": [
          21.005859,
          31.16558
         ],
         "mode": "lines",
         "opacity": 0.6,
         "type": "scattergeo"
        },
        {
         "lat": [
          44.016521,
          46.227638
         ],
         "line": {
          "color": "blue",
          "width": 1
         },
         "locationmode": "ISO-3",
         "lon": [
          21.005859,
          2.213749
         ],
         "mode": "lines",
         "opacity": 0.6,
         "type": "scattergeo"
        },
        {
         "lat": [
          44.016521,
          42.733883
         ],
         "line": {
          "color": "blue",
          "width": 1
         },
         "locationmode": "ISO-3",
         "lon": [
          21.005859,
          25.48583
         ],
         "mode": "lines",
         "opacity": 0.6,
         "type": "scattergeo"
        },
        {
         "lat": [
          44.016521,
          42.708678
         ],
         "line": {
          "color": "blue",
          "width": 1
         },
         "locationmode": "ISO-3",
         "lon": [
          21.005859,
          19.37439
         ],
         "mode": "lines",
         "opacity": 0.6,
         "type": "scattergeo"
        },
        {
         "lat": [
          44.016521,
          51.165691
         ],
         "line": {
          "color": "blue",
          "width": 1
         },
         "locationmode": "ISO-3",
         "lon": [
          21.005859,
          10.451526
         ],
         "mode": "lines",
         "opacity": 0.6,
         "type": "scattergeo"
        },
        {
         "lat": [
          44.016521,
          43.915886
         ],
         "line": {
          "color": "blue",
          "width": 1
         },
         "locationmode": "ISO-3",
         "lon": [
          21.005859,
          17.679076
         ],
         "mode": "lines",
         "opacity": 0.6,
         "type": "scattergeo"
        },
        {
         "lat": [
          44.016521,
          45.1
         ],
         "line": {
          "color": "blue",
          "width": 1
         },
         "locationmode": "ISO-3",
         "lon": [
          21.005859,
          15.2
         ],
         "mode": "lines",
         "opacity": 0.6,
         "type": "scattergeo"
        },
        {
         "lat": [
          44.016521,
          61.52401
         ],
         "line": {
          "color": "blue",
          "width": 1
         },
         "locationmode": "ISO-3",
         "lon": [
          21.005859,
          105.318756
         ],
         "mode": "lines",
         "opacity": 0.6,
         "type": "scattergeo"
        },
        {
         "lat": [
          44.016521,
          47.162494
         ],
         "line": {
          "color": "blue",
          "width": 1
         },
         "locationmode": "ISO-3",
         "lon": [
          21.005859,
          19.503304
         ],
         "mode": "lines",
         "opacity": 0.6,
         "type": "scattergeo"
        },
        {
         "lat": [
          44.016521,
          35.86166
         ],
         "line": {
          "color": "blue",
          "width": 1
         },
         "locationmode": "ISO-3",
         "lon": [
          21.005859,
          104.195397
         ],
         "mode": "lines",
         "opacity": 0.6,
         "type": "scattergeo"
        },
        {
         "lat": [
          44.016521,
          48.669026
         ],
         "line": {
          "color": "blue",
          "width": 1
         },
         "locationmode": "ISO-3",
         "lon": [
          21.005859,
          19.699024
         ],
         "mode": "lines",
         "opacity": 0.6,
         "type": "scattergeo"
        },
        {
         "lat": [
          44.016521,
          51.919438
         ],
         "line": {
          "color": "blue",
          "width": 1
         },
         "locationmode": "ISO-3",
         "lon": [
          21.005859,
          19.145136
         ],
         "mode": "lines",
         "opacity": 0.6,
         "type": "scattergeo"
        },
        {
         "lat": [
          44.016521,
          45.943161
         ],
         "line": {
          "color": "blue",
          "width": 1
         },
         "locationmode": "ISO-3",
         "lon": [
          21.005859,
          24.96676
         ],
         "mode": "lines",
         "opacity": 0.6,
         "type": "scattergeo"
        },
        {
         "lat": [
          44.016521,
          49.817492
         ],
         "line": {
          "color": "blue",
          "width": 1
         },
         "locationmode": "ISO-3",
         "lon": [
          21.005859,
          15.472962
         ],
         "mode": "lines",
         "opacity": 0.6,
         "type": "scattergeo"
        },
        {
         "lat": [
          44.016521,
          55.378051
         ],
         "line": {
          "color": "blue",
          "width": 1
         },
         "locationmode": "ISO-3",
         "lon": [
          21.005859,
          -3.435973
         ],
         "mode": "lines",
         "opacity": 0.6,
         "type": "scattergeo"
        },
        {
         "lat": [
          44.016521,
          22.396428
         ],
         "line": {
          "color": "blue",
          "width": 1
         },
         "locationmode": "ISO-3",
         "lon": [
          21.005859,
          114.109497
         ],
         "mode": "lines",
         "opacity": 0.6,
         "type": "scattergeo"
        },
        {
         "lat": [
          44.016521,
          61.92411
         ],
         "line": {
          "color": "blue",
          "width": 1
         },
         "locationmode": "ISO-3",
         "lon": [
          21.005859,
          25.748151
         ],
         "mode": "lines",
         "opacity": 0.6,
         "type": "scattergeo"
        },
        {
         "lat": [
          44.016521,
          31.046051
         ],
         "line": {
          "color": "blue",
          "width": 1
         },
         "locationmode": "ISO-3",
         "lon": [
          21.005859,
          34.851612
         ],
         "mode": "lines",
         "opacity": 0.6,
         "type": "scattergeo"
        },
        {
         "lat": [
          44.016521,
          39.074208
         ],
         "line": {
          "color": "blue",
          "width": 1
         },
         "locationmode": "ISO-3",
         "lon": [
          21.005859,
          21.824312
         ],
         "mode": "lines",
         "opacity": 0.6,
         "type": "scattergeo"
        },
        {
         "lat": [
          44.016521,
          48.019573
         ],
         "line": {
          "color": "blue",
          "width": 1
         },
         "locationmode": "ISO-3",
         "lon": [
          21.005859,
          66.923684
         ],
         "mode": "lines",
         "opacity": 0.6,
         "type": "scattergeo"
        },
        {
         "lat": [
          44.016521,
          35.937496
         ],
         "line": {
          "color": "blue",
          "width": 1
         },
         "locationmode": "ISO-3",
         "lon": [
          21.005859,
          14.375416
         ],
         "mode": "lines",
         "opacity": 0.6,
         "type": "scattergeo"
        },
        {
         "lat": [
          49.817492,
          49.817492
         ],
         "line": {
          "color": "blue",
          "width": 1
         },
         "locationmode": "ISO-3",
         "lon": [
          15.472962,
          15.472962
         ],
         "mode": "lines",
         "opacity": 0.6,
         "type": "scattergeo"
        },
        {
         "lat": [
          49.817492,
          51.165691
         ],
         "line": {
          "color": "blue",
          "width": 1
         },
         "locationmode": "ISO-3",
         "lon": [
          15.472962,
          10.451526
         ],
         "mode": "lines",
         "opacity": 0.6,
         "type": "scattergeo"
        },
        {
         "lat": [
          49.817492,
          43.915886
         ],
         "line": {
          "color": "blue",
          "width": 1
         },
         "locationmode": "ISO-3",
         "lon": [
          15.472962,
          17.679076
         ],
         "mode": "lines",
         "opacity": 0.6,
         "type": "scattergeo"
        },
        {
         "lat": [
          49.817492,
          47.516231
         ],
         "line": {
          "color": "blue",
          "width": 1
         },
         "locationmode": "ISO-3",
         "lon": [
          15.472962,
          14.550072
         ],
         "mode": "lines",
         "opacity": 0.6,
         "type": "scattergeo"
        },
        {
         "lat": [
          49.817492,
          48.669026
         ],
         "line": {
          "color": "blue",
          "width": 1
         },
         "locationmode": "ISO-3",
         "lon": [
          15.472962,
          19.699024
         ],
         "mode": "lines",
         "opacity": 0.6,
         "type": "scattergeo"
        },
        {
         "lat": [
          49.817492,
          38.963745
         ],
         "line": {
          "color": "blue",
          "width": 1
         },
         "locationmode": "ISO-3",
         "lon": [
          15.472962,
          35.243322
         ],
         "mode": "lines",
         "opacity": 0.6,
         "type": "scattergeo"
        },
        {
         "lat": [
          49.817492,
          39.074208
         ],
         "line": {
          "color": "blue",
          "width": 1
         },
         "locationmode": "ISO-3",
         "lon": [
          15.472962,
          21.824312
         ],
         "mode": "lines",
         "opacity": 0.6,
         "type": "scattergeo"
        },
        {
         "lat": [
          49.817492,
          46.818188
         ],
         "line": {
          "color": "blue",
          "width": 1
         },
         "locationmode": "ISO-3",
         "lon": [
          15.472962,
          8.227512
         ],
         "mode": "lines",
         "opacity": 0.6,
         "type": "scattergeo"
        },
        {
         "lat": [
          49.817492,
          55.378051
         ],
         "line": {
          "color": "blue",
          "width": 1
         },
         "locationmode": "ISO-3",
         "lon": [
          15.472962,
          -3.435973
         ],
         "mode": "lines",
         "opacity": 0.6,
         "type": "scattergeo"
        },
        {
         "lat": [
          49.817492,
          61.52401
         ],
         "line": {
          "color": "blue",
          "width": 1
         },
         "locationmode": "ISO-3",
         "lon": [
          15.472962,
          105.318756
         ],
         "mode": "lines",
         "opacity": 0.6,
         "type": "scattergeo"
        },
        {
         "lat": [
          49.817492,
          39.399872
         ],
         "line": {
          "color": "blue",
          "width": 1
         },
         "locationmode": "ISO-3",
         "lon": [
          15.472962,
          -8.224454
         ],
         "mode": "lines",
         "opacity": 0.6,
         "type": "scattergeo"
        },
        {
         "lat": [
          49.817492,
          60.128161
         ],
         "line": {
          "color": "blue",
          "width": 1
         },
         "locationmode": "ISO-3",
         "lon": [
          15.472962,
          18.643501
         ],
         "mode": "lines",
         "opacity": 0.6,
         "type": "scattergeo"
        },
        {
         "lat": [
          49.817492,
          50.503887
         ],
         "line": {
          "color": "blue",
          "width": 1
         },
         "locationmode": "ISO-3",
         "lon": [
          15.472962,
          4.469936
         ],
         "mode": "lines",
         "opacity": 0.6,
         "type": "scattergeo"
        },
        {
         "lat": [
          49.817492,
          23.634501
         ],
         "line": {
          "color": "blue",
          "width": 1
         },
         "locationmode": "ISO-3",
         "lon": [
          15.472962,
          -102.552784
         ],
         "mode": "lines",
         "opacity": 0.6,
         "type": "scattergeo"
        },
        {
         "lat": [
          49.817492,
          51.919438
         ],
         "line": {
          "color": "blue",
          "width": 1
         },
         "locationmode": "ISO-3",
         "lon": [
          15.472962,
          19.145136
         ],
         "mode": "lines",
         "opacity": 0.6,
         "type": "scattergeo"
        },
        {
         "lat": [
          49.817492,
          37.09024
         ],
         "line": {
          "color": "blue",
          "width": 1
         },
         "locationmode": "ISO-3",
         "lon": [
          15.472962,
          -95.712891
         ],
         "mode": "lines",
         "opacity": 0.6,
         "type": "scattergeo"
        },
        {
         "lat": [
          49.817492,
          42.733883
         ],
         "line": {
          "color": "blue",
          "width": 1
         },
         "locationmode": "ISO-3",
         "lon": [
          15.472962,
          25.48583
         ],
         "mode": "lines",
         "opacity": 0.6,
         "type": "scattergeo"
        },
        {
         "lat": [
          49.817492,
          32.427908
         ],
         "line": {
          "color": "blue",
          "width": 1
         },
         "locationmode": "ISO-3",
         "lon": [
          15.472962,
          53.688046
         ],
         "mode": "lines",
         "opacity": 0.6,
         "type": "scattergeo"
        },
        {
         "lat": [
          49.817492,
          35.126413
         ],
         "line": {
          "color": "blue",
          "width": 1
         },
         "locationmode": "ISO-3",
         "lon": [
          15.472962,
          33.429859
         ],
         "mode": "lines",
         "opacity": 0.6,
         "type": "scattergeo"
        },
        {
         "lat": [
          49.817492,
          61.92411
         ],
         "line": {
          "color": "blue",
          "width": 1
         },
         "locationmode": "ISO-3",
         "lon": [
          15.472962,
          25.748151
         ],
         "mode": "lines",
         "opacity": 0.6,
         "type": "scattergeo"
        },
        {
         "lat": [
          49.817492,
          -14.235004
         ],
         "line": {
          "color": "blue",
          "width": 1
         },
         "locationmode": "ISO-3",
         "lon": [
          15.472962,
          -51.92528
         ],
         "mode": "lines",
         "opacity": 0.6,
         "type": "scattergeo"
        },
        {
         "lat": [
          49.817492,
          41.153332
         ],
         "line": {
          "color": "blue",
          "width": 1
         },
         "locationmode": "ISO-3",
         "lon": [
          15.472962,
          20.168331
         ],
         "mode": "lines",
         "opacity": 0.6,
         "type": "scattergeo"
        },
        {
         "lat": [
          46.151241,
          35.126413
         ],
         "line": {
          "color": "blue",
          "width": 1
         },
         "locationmode": "ISO-3",
         "lon": [
          14.995463,
          33.429859
         ],
         "mode": "lines",
         "opacity": 0.6,
         "type": "scattergeo"
        },
        {
         "lat": [
          46.151241,
          51.919438
         ],
         "line": {
          "color": "blue",
          "width": 1
         },
         "locationmode": "ISO-3",
         "lon": [
          14.995463,
          19.145136
         ],
         "mode": "lines",
         "opacity": 0.6,
         "type": "scattergeo"
        },
        {
         "lat": [
          46.151241,
          47.516231
         ],
         "line": {
          "color": "blue",
          "width": 1
         },
         "locationmode": "ISO-3",
         "lon": [
          14.995463,
          14.550072
         ],
         "mode": "lines",
         "opacity": 0.6,
         "type": "scattergeo"
        },
        {
         "lat": [
          46.151241,
          35.907757
         ],
         "line": {
          "color": "blue",
          "width": 1
         },
         "locationmode": "ISO-3",
         "lon": [
          14.995463,
          127.766922
         ],
         "mode": "lines",
         "opacity": 0.6,
         "type": "scattergeo"
        },
        {
         "lat": [
          46.151241,
          46.151241
         ],
         "line": {
          "color": "blue",
          "width": 1
         },
         "locationmode": "ISO-3",
         "lon": [
          14.995463,
          14.995463
         ],
         "mode": "lines",
         "opacity": 0.6,
         "type": "scattergeo"
        },
        {
         "lat": [
          46.151241,
          51.165691
         ],
         "line": {
          "color": "blue",
          "width": 1
         },
         "locationmode": "ISO-3",
         "lon": [
          14.995463,
          10.451526
         ],
         "mode": "lines",
         "opacity": 0.6,
         "type": "scattergeo"
        },
        {
         "lat": [
          46.151241,
          31.046051
         ],
         "line": {
          "color": "blue",
          "width": 1
         },
         "locationmode": "ISO-3",
         "lon": [
          14.995463,
          34.851612
         ],
         "mode": "lines",
         "opacity": 0.6,
         "type": "scattergeo"
        },
        {
         "lat": [
          46.151241,
          39.399872
         ],
         "line": {
          "color": "blue",
          "width": 1
         },
         "locationmode": "ISO-3",
         "lon": [
          14.995463,
          -8.224454
         ],
         "mode": "lines",
         "opacity": 0.6,
         "type": "scattergeo"
        },
        {
         "lat": [
          46.151241,
          61.52401
         ],
         "line": {
          "color": "blue",
          "width": 1
         },
         "locationmode": "ISO-3",
         "lon": [
          14.995463,
          105.318756
         ],
         "mode": "lines",
         "opacity": 0.6,
         "type": "scattergeo"
        },
        {
         "lat": [
          46.151241,
          60.472024
         ],
         "line": {
          "color": "blue",
          "width": 1
         },
         "locationmode": "ISO-3",
         "lon": [
          14.995463,
          8.468946
         ],
         "mode": "lines",
         "opacity": 0.6,
         "type": "scattergeo"
        },
        {
         "lat": [
          46.151241,
          50.503887
         ],
         "line": {
          "color": "blue",
          "width": 1
         },
         "locationmode": "ISO-3",
         "lon": [
          14.995463,
          4.469936
         ],
         "mode": "lines",
         "opacity": 0.6,
         "type": "scattergeo"
        },
        {
         "lat": [
          46.151241,
          49.817492
         ],
         "line": {
          "color": "blue",
          "width": 1
         },
         "locationmode": "ISO-3",
         "lon": [
          14.995463,
          15.472962
         ],
         "mode": "lines",
         "opacity": 0.6,
         "type": "scattergeo"
        },
        {
         "lat": [
          46.151241,
          40.463667
         ],
         "line": {
          "color": "blue",
          "width": 1
         },
         "locationmode": "ISO-3",
         "lon": [
          14.995463,
          -3.74922
         ],
         "mode": "lines",
         "opacity": 0.6,
         "type": "scattergeo"
        },
        {
         "lat": [
          46.151241,
          43.915886
         ],
         "line": {
          "color": "blue",
          "width": 1
         },
         "locationmode": "ISO-3",
         "lon": [
          14.995463,
          17.679076
         ],
         "mode": "lines",
         "opacity": 0.6,
         "type": "scattergeo"
        },
        {
         "lat": [
          46.151241,
          42.733883
         ],
         "line": {
          "color": "blue",
          "width": 1
         },
         "locationmode": "ISO-3",
         "lon": [
          14.995463,
          25.48583
         ],
         "mode": "lines",
         "opacity": 0.6,
         "type": "scattergeo"
        },
        {
         "lat": [
          46.151241,
          44.016521
         ],
         "line": {
          "color": "blue",
          "width": 1
         },
         "locationmode": "ISO-3",
         "lon": [
          14.995463,
          21.005859
         ],
         "mode": "lines",
         "opacity": 0.6,
         "type": "scattergeo"
        },
        {
         "lat": [
          35.126413,
          35.126413
         ],
         "line": {
          "color": "blue",
          "width": 1
         },
         "locationmode": "ISO-3",
         "lon": [
          33.429859,
          33.429859
         ],
         "mode": "lines",
         "opacity": 0.6,
         "type": "scattergeo"
        },
        {
         "lat": [
          35.126413,
          51.165691
         ],
         "line": {
          "color": "blue",
          "width": 1
         },
         "locationmode": "ISO-3",
         "lon": [
          33.429859,
          10.451526
         ],
         "mode": "lines",
         "opacity": 0.6,
         "type": "scattergeo"
        },
        {
         "lat": [
          35.126413,
          46.151241
         ],
         "line": {
          "color": "blue",
          "width": 1
         },
         "locationmode": "ISO-3",
         "lon": [
          33.429859,
          14.995463
         ],
         "mode": "lines",
         "opacity": 0.6,
         "type": "scattergeo"
        },
        {
         "lat": [
          35.126413,
          35.937496
         ],
         "line": {
          "color": "blue",
          "width": 1
         },
         "locationmode": "ISO-3",
         "lon": [
          33.429859,
          14.375416
         ],
         "mode": "lines",
         "opacity": 0.6,
         "type": "scattergeo"
        },
        {
         "lat": [
          35.126413,
          61.52401
         ],
         "line": {
          "color": "blue",
          "width": 1
         },
         "locationmode": "ISO-3",
         "lon": [
          33.429859,
          105.318756
         ],
         "mode": "lines",
         "opacity": 0.6,
         "type": "scattergeo"
        },
        {
         "lat": [
          35.126413,
          47.516231
         ],
         "line": {
          "color": "blue",
          "width": 1
         },
         "locationmode": "ISO-3",
         "lon": [
          33.429859,
          14.550072
         ],
         "mode": "lines",
         "opacity": 0.6,
         "type": "scattergeo"
        },
        {
         "lat": [
          35.126413,
          -25.274398
         ],
         "line": {
          "color": "blue",
          "width": 1
         },
         "locationmode": "ISO-3",
         "lon": [
          33.429859,
          133.775136
         ],
         "mode": "lines",
         "opacity": 0.6,
         "type": "scattergeo"
        },
        {
         "lat": [
          35.126413,
          52.132633
         ],
         "line": {
          "color": "blue",
          "width": 1
         },
         "locationmode": "ISO-3",
         "lon": [
          33.429859,
          5.291266
         ],
         "mode": "lines",
         "opacity": 0.6,
         "type": "scattergeo"
        },
        {
         "lat": [
          35.126413,
          55.378051
         ],
         "line": {
          "color": "blue",
          "width": 1
         },
         "locationmode": "ISO-3",
         "lon": [
          33.429859,
          -3.435973
         ],
         "mode": "lines",
         "opacity": 0.6,
         "type": "scattergeo"
        },
        {
         "lat": [
          35.126413,
          31.046051
         ],
         "line": {
          "color": "blue",
          "width": 1
         },
         "locationmode": "ISO-3",
         "lon": [
          33.429859,
          34.851612
         ],
         "mode": "lines",
         "opacity": 0.6,
         "type": "scattergeo"
        },
        {
         "lat": [
          35.126413,
          39.074208
         ],
         "line": {
          "color": "blue",
          "width": 1
         },
         "locationmode": "ISO-3",
         "lon": [
          33.429859,
          21.824312
         ],
         "mode": "lines",
         "opacity": 0.6,
         "type": "scattergeo"
        },
        {
         "lat": [
          35.126413,
          32.427908
         ],
         "line": {
          "color": "blue",
          "width": 1
         },
         "locationmode": "ISO-3",
         "lon": [
          33.429859,
          53.688046
         ],
         "mode": "lines",
         "opacity": 0.6,
         "type": "scattergeo"
        },
        {
         "lat": [
          35.126413,
          49.817492
         ],
         "line": {
          "color": "blue",
          "width": 1
         },
         "locationmode": "ISO-3",
         "lon": [
          33.429859,
          15.472962
         ],
         "mode": "lines",
         "opacity": 0.6,
         "type": "scattergeo"
        },
        {
         "lat": [
          35.126413,
          47.162494
         ],
         "line": {
          "color": "blue",
          "width": 1
         },
         "locationmode": "ISO-3",
         "lon": [
          33.429859,
          19.503304
         ],
         "mode": "lines",
         "opacity": 0.6,
         "type": "scattergeo"
        },
        {
         "lat": [
          35.126413,
          60.472024
         ],
         "line": {
          "color": "blue",
          "width": 1
         },
         "locationmode": "ISO-3",
         "lon": [
          33.429859,
          8.468946
         ],
         "mode": "lines",
         "opacity": 0.6,
         "type": "scattergeo"
        },
        {
         "lat": [
          35.126413,
          45.943161
         ],
         "line": {
          "color": "blue",
          "width": 1
         },
         "locationmode": "ISO-3",
         "lon": [
          33.429859,
          24.96676
         ],
         "mode": "lines",
         "opacity": 0.6,
         "type": "scattergeo"
        },
        {
         "lat": [
          35.126413,
          44.016521
         ],
         "line": {
          "color": "blue",
          "width": 1
         },
         "locationmode": "ISO-3",
         "lon": [
          33.429859,
          21.005859
         ],
         "mode": "lines",
         "opacity": 0.6,
         "type": "scattergeo"
        },
        {
         "lat": [
          35.126413,
          51.919438
         ],
         "line": {
          "color": "blue",
          "width": 1
         },
         "locationmode": "ISO-3",
         "lon": [
          33.429859,
          19.145136
         ],
         "mode": "lines",
         "opacity": 0.6,
         "type": "scattergeo"
        },
        {
         "lat": [
          35.126413,
          45.1
         ],
         "line": {
          "color": "blue",
          "width": 1
         },
         "locationmode": "ISO-3",
         "lon": [
          33.429859,
          15.2
         ],
         "mode": "lines",
         "opacity": 0.6,
         "type": "scattergeo"
        },
        {
         "lat": [
          35.126413,
          50.503887
         ],
         "line": {
          "color": "blue",
          "width": 1
         },
         "locationmode": "ISO-3",
         "lon": [
          33.429859,
          4.469936
         ],
         "mode": "lines",
         "opacity": 0.6,
         "type": "scattergeo"
        },
        {
         "lat": [
          35.126413,
          41.608635
         ],
         "line": {
          "color": "blue",
          "width": 1
         },
         "locationmode": "ISO-3",
         "lon": [
          33.429859,
          21.745275
         ],
         "mode": "lines",
         "opacity": 0.6,
         "type": "scattergeo"
        },
        {
         "lat": [
          35.126413,
          64.963051
         ],
         "line": {
          "color": "blue",
          "width": 1
         },
         "locationmode": "ISO-3",
         "lon": [
          33.429859,
          -19.020835
         ],
         "mode": "lines",
         "opacity": 0.6,
         "type": "scattergeo"
        },
        {
         "lat": [
          35.126413,
          46.227638
         ],
         "line": {
          "color": "blue",
          "width": 1
         },
         "locationmode": "ISO-3",
         "lon": [
          33.429859,
          2.213749
         ],
         "mode": "lines",
         "opacity": 0.6,
         "type": "scattergeo"
        },
        {
         "lat": [
          35.126413,
          42.733883
         ],
         "line": {
          "color": "blue",
          "width": 1
         },
         "locationmode": "ISO-3",
         "lon": [
          33.429859,
          25.48583
         ],
         "mode": "lines",
         "opacity": 0.6,
         "type": "scattergeo"
        },
        {
         "lat": [
          39.074208,
          51.165691
         ],
         "line": {
          "color": "blue",
          "width": 1
         },
         "locationmode": "ISO-3",
         "lon": [
          21.824312,
          10.451526
         ],
         "mode": "lines",
         "opacity": 0.6,
         "type": "scattergeo"
        },
        {
         "lat": [
          39.074208,
          35.126413
         ],
         "line": {
          "color": "blue",
          "width": 1
         },
         "locationmode": "ISO-3",
         "lon": [
          21.824312,
          33.429859
         ],
         "mode": "lines",
         "opacity": 0.6,
         "type": "scattergeo"
        },
        {
         "lat": [
          39.074208,
          39.074208
         ],
         "line": {
          "color": "blue",
          "width": 1
         },
         "locationmode": "ISO-3",
         "lon": [
          21.824312,
          21.824312
         ],
         "mode": "lines",
         "opacity": 0.6,
         "type": "scattergeo"
        },
        {
         "lat": [
          39.074208,
          -14.235004
         ],
         "line": {
          "color": "blue",
          "width": 1
         },
         "locationmode": "ISO-3",
         "lon": [
          21.824312,
          -51.92528
         ],
         "mode": "lines",
         "opacity": 0.6,
         "type": "scattergeo"
        },
        {
         "lat": [
          39.074208,
          55.378051
         ],
         "line": {
          "color": "blue",
          "width": 1
         },
         "locationmode": "ISO-3",
         "lon": [
          21.824312,
          -3.435973
         ],
         "mode": "lines",
         "opacity": 0.6,
         "type": "scattergeo"
        },
        {
         "lat": [
          39.074208,
          38.963745
         ],
         "line": {
          "color": "blue",
          "width": 1
         },
         "locationmode": "ISO-3",
         "lon": [
          21.824312,
          35.243322
         ],
         "mode": "lines",
         "opacity": 0.6,
         "type": "scattergeo"
        },
        {
         "lat": [
          39.074208,
          61.52401
         ],
         "line": {
          "color": "blue",
          "width": 1
         },
         "locationmode": "ISO-3",
         "lon": [
          21.824312,
          105.318756
         ],
         "mode": "lines",
         "opacity": 0.6,
         "type": "scattergeo"
        },
        {
         "lat": [
          39.074208,
          48.669026
         ],
         "line": {
          "color": "blue",
          "width": 1
         },
         "locationmode": "ISO-3",
         "lon": [
          21.824312,
          19.699024
         ],
         "mode": "lines",
         "opacity": 0.6,
         "type": "scattergeo"
        },
        {
         "lat": [
          39.074208,
          56.26392
         ],
         "line": {
          "color": "blue",
          "width": 1
         },
         "locationmode": "ISO-3",
         "lon": [
          21.824312,
          9.501785
         ],
         "mode": "lines",
         "opacity": 0.6,
         "type": "scattergeo"
        },
        {
         "lat": [
          39.074208,
          45.1
         ],
         "line": {
          "color": "blue",
          "width": 1
         },
         "locationmode": "ISO-3",
         "lon": [
          21.824312,
          15.2
         ],
         "mode": "lines",
         "opacity": 0.6,
         "type": "scattergeo"
        },
        {
         "lat": [
          39.074208,
          47.516231
         ],
         "line": {
          "color": "blue",
          "width": 1
         },
         "locationmode": "ISO-3",
         "lon": [
          21.824312,
          14.550072
         ],
         "mode": "lines",
         "opacity": 0.6,
         "type": "scattergeo"
        },
        {
         "lat": [
          39.074208,
          45.943161
         ],
         "line": {
          "color": "blue",
          "width": 1
         },
         "locationmode": "ISO-3",
         "lon": [
          21.824312,
          24.96676
         ],
         "mode": "lines",
         "opacity": 0.6,
         "type": "scattergeo"
        },
        {
         "lat": [
          39.074208,
          41.87194
         ],
         "line": {
          "color": "blue",
          "width": 1
         },
         "locationmode": "ISO-3",
         "lon": [
          21.824312,
          12.56738
         ],
         "mode": "lines",
         "opacity": 0.6,
         "type": "scattergeo"
        },
        {
         "lat": [
          39.074208,
          51.919438
         ],
         "line": {
          "color": "blue",
          "width": 1
         },
         "locationmode": "ISO-3",
         "lon": [
          21.824312,
          19.145136
         ],
         "mode": "lines",
         "opacity": 0.6,
         "type": "scattergeo"
        },
        {
         "lat": [
          39.074208,
          52.132633
         ],
         "line": {
          "color": "blue",
          "width": 1
         },
         "locationmode": "ISO-3",
         "lon": [
          21.824312,
          5.291266
         ],
         "mode": "lines",
         "opacity": 0.6,
         "type": "scattergeo"
        },
        {
         "lat": [
          39.074208,
          47.162494
         ],
         "line": {
          "color": "blue",
          "width": 1
         },
         "locationmode": "ISO-3",
         "lon": [
          21.824312,
          19.503304
         ],
         "mode": "lines",
         "opacity": 0.6,
         "type": "scattergeo"
        },
        {
         "lat": [
          39.074208,
          39.399872
         ],
         "line": {
          "color": "blue",
          "width": 1
         },
         "locationmode": "ISO-3",
         "lon": [
          21.824312,
          -8.224454
         ],
         "mode": "lines",
         "opacity": 0.6,
         "type": "scattergeo"
        },
        {
         "lat": [
          39.074208,
          -30.559482
         ],
         "line": {
          "color": "blue",
          "width": 1
         },
         "locationmode": "ISO-3",
         "lon": [
          21.824312,
          22.937506
         ],
         "mode": "lines",
         "opacity": 0.6,
         "type": "scattergeo"
        },
        {
         "lat": [
          39.074208,
          46.227638
         ],
         "line": {
          "color": "blue",
          "width": 1
         },
         "locationmode": "ISO-3",
         "lon": [
          21.824312,
          2.213749
         ],
         "mode": "lines",
         "opacity": 0.6,
         "type": "scattergeo"
        },
        {
         "lat": [
          39.074208,
          41.153332
         ],
         "line": {
          "color": "blue",
          "width": 1
         },
         "locationmode": "ISO-3",
         "lon": [
          21.824312,
          20.168331
         ],
         "mode": "lines",
         "opacity": 0.6,
         "type": "scattergeo"
        },
        {
         "lat": [
          39.074208,
          -32.522779
         ],
         "line": {
          "color": "blue",
          "width": 1
         },
         "locationmode": "ISO-3",
         "lon": [
          21.824312,
          -55.765835
         ],
         "mode": "lines",
         "opacity": 0.6,
         "type": "scattergeo"
        },
        {
         "lat": [
          39.074208,
          46.818188
         ],
         "line": {
          "color": "blue",
          "width": 1
         },
         "locationmode": "ISO-3",
         "lon": [
          21.824312,
          8.227512
         ],
         "mode": "lines",
         "opacity": 0.6,
         "type": "scattergeo"
        },
        {
         "lat": [
          39.074208,
          46.151241
         ],
         "line": {
          "color": "blue",
          "width": 1
         },
         "locationmode": "ISO-3",
         "lon": [
          21.824312,
          14.995463
         ],
         "mode": "lines",
         "opacity": 0.6,
         "type": "scattergeo"
        },
        {
         "lat": [
          39.074208,
          35.86166
         ],
         "line": {
          "color": "blue",
          "width": 1
         },
         "locationmode": "ISO-3",
         "lon": [
          21.824312,
          104.195397
         ],
         "mode": "lines",
         "opacity": 0.6,
         "type": "scattergeo"
        },
        {
         "lat": [
          39.074208,
          44.016521
         ],
         "line": {
          "color": "blue",
          "width": 1
         },
         "locationmode": "ISO-3",
         "lon": [
          21.824312,
          21.005859
         ],
         "mode": "lines",
         "opacity": 0.6,
         "type": "scattergeo"
        },
        {
         "lat": [
          39.074208,
          -16.290154
         ],
         "line": {
          "color": "blue",
          "width": 1
         },
         "locationmode": "ISO-3",
         "lon": [
          21.824312,
          -63.588653
         ],
         "mode": "lines",
         "opacity": 0.6,
         "type": "scattergeo"
        },
        {
         "lat": [
          39.074208,
          49.817492
         ],
         "line": {
          "color": "blue",
          "width": 1
         },
         "locationmode": "ISO-3",
         "lon": [
          21.824312,
          15.472962
         ],
         "mode": "lines",
         "opacity": 0.6,
         "type": "scattergeo"
        },
        {
         "lat": [
          39.074208,
          4.570868
         ],
         "line": {
          "color": "blue",
          "width": 1
         },
         "locationmode": "ISO-3",
         "lon": [
          21.824312,
          -74.297333
         ],
         "mode": "lines",
         "opacity": 0.6,
         "type": "scattergeo"
        },
        {
         "lat": [
          39.074208,
          60.128161
         ],
         "line": {
          "color": "blue",
          "width": 1
         },
         "locationmode": "ISO-3",
         "lon": [
          21.824312,
          18.643501
         ],
         "mode": "lines",
         "opacity": 0.6,
         "type": "scattergeo"
        },
        {
         "lat": [
          39.074208,
          41.608635
         ],
         "line": {
          "color": "blue",
          "width": 1
         },
         "locationmode": "ISO-3",
         "lon": [
          21.824312,
          21.745275
         ],
         "mode": "lines",
         "opacity": 0.6,
         "type": "scattergeo"
        },
        {
         "lat": [
          40.463667,
          -14.235004
         ],
         "line": {
          "color": "blue",
          "width": 1
         },
         "locationmode": "ISO-3",
         "lon": [
          -3.74922,
          -51.92528
         ],
         "mode": "lines",
         "opacity": 0.6,
         "type": "scattergeo"
        },
        {
         "lat": [
          40.463667,
          55.378051
         ],
         "line": {
          "color": "blue",
          "width": 1
         },
         "locationmode": "ISO-3",
         "lon": [
          -3.74922,
          -3.435973
         ],
         "mode": "lines",
         "opacity": 0.6,
         "type": "scattergeo"
        },
        {
         "lat": [
          40.463667,
          46.227638
         ],
         "line": {
          "color": "blue",
          "width": 1
         },
         "locationmode": "ISO-3",
         "lon": [
          -3.74922,
          2.213749
         ],
         "mode": "lines",
         "opacity": 0.6,
         "type": "scattergeo"
        },
        {
         "lat": [
          40.463667,
          40.463667
         ],
         "line": {
          "color": "blue",
          "width": 1
         },
         "locationmode": "ISO-3",
         "lon": [
          -3.74922,
          -3.74922
         ],
         "mode": "lines",
         "opacity": 0.6,
         "type": "scattergeo"
        },
        {
         "lat": [
          40.463667,
          23.634501
         ],
         "line": {
          "color": "blue",
          "width": 1
         },
         "locationmode": "ISO-3",
         "lon": [
          -3.74922,
          -102.552784
         ],
         "mode": "lines",
         "opacity": 0.6,
         "type": "scattergeo"
        },
        {
         "lat": [
          40.463667,
          51.165691
         ],
         "line": {
          "color": "blue",
          "width": 1
         },
         "locationmode": "ISO-3",
         "lon": [
          -3.74922,
          10.451526
         ],
         "mode": "lines",
         "opacity": 0.6,
         "type": "scattergeo"
        },
        {
         "lat": [
          40.463667,
          25.354826
         ],
         "line": {
          "color": "blue",
          "width": 1
         },
         "locationmode": "ISO-3",
         "lon": [
          -3.74922,
          51.183884
         ],
         "mode": "lines",
         "opacity": 0.6,
         "type": "scattergeo"
        },
        {
         "lat": [
          40.463667,
          41.87194
         ],
         "line": {
          "color": "blue",
          "width": 1
         },
         "locationmode": "ISO-3",
         "lon": [
          -3.74922,
          12.56738
         ],
         "mode": "lines",
         "opacity": 0.6,
         "type": "scattergeo"
        },
        {
         "lat": [
          40.463667,
          -38.416097
         ],
         "line": {
          "color": "blue",
          "width": 1
         },
         "locationmode": "ISO-3",
         "lon": [
          -3.74922,
          -63.616672
         ],
         "mode": "lines",
         "opacity": 0.6,
         "type": "scattergeo"
        },
        {
         "lat": [
          40.463667,
          46.818188
         ],
         "line": {
          "color": "blue",
          "width": 1
         },
         "locationmode": "ISO-3",
         "lon": [
          -3.74922,
          8.227512
         ],
         "mode": "lines",
         "opacity": 0.6,
         "type": "scattergeo"
        },
        {
         "lat": [
          40.463667,
          39.399872
         ],
         "line": {
          "color": "blue",
          "width": 1
         },
         "locationmode": "ISO-3",
         "lon": [
          -3.74922,
          -8.224454
         ],
         "mode": "lines",
         "opacity": 0.6,
         "type": "scattergeo"
        },
        {
         "lat": [
          40.463667,
          50.503887
         ],
         "line": {
          "color": "blue",
          "width": 1
         },
         "locationmode": "ISO-3",
         "lon": [
          -3.74922,
          4.469936
         ],
         "mode": "lines",
         "opacity": 0.6,
         "type": "scattergeo"
        },
        {
         "lat": [
          40.463667,
          39.074208
         ],
         "line": {
          "color": "blue",
          "width": 1
         },
         "locationmode": "ISO-3",
         "lon": [
          -3.74922,
          21.824312
         ],
         "mode": "lines",
         "opacity": 0.6,
         "type": "scattergeo"
        },
        {
         "lat": [
          40.463667,
          37.09024
         ],
         "line": {
          "color": "blue",
          "width": 1
         },
         "locationmode": "ISO-3",
         "lon": [
          -3.74922,
          -95.712891
         ],
         "mode": "lines",
         "opacity": 0.6,
         "type": "scattergeo"
        },
        {
         "lat": [
          40.463667,
          31.046051
         ],
         "line": {
          "color": "blue",
          "width": 1
         },
         "locationmode": "ISO-3",
         "lon": [
          -3.74922,
          34.851612
         ],
         "mode": "lines",
         "opacity": 0.6,
         "type": "scattergeo"
        },
        {
         "lat": [
          40.463667,
          35.907757
         ],
         "line": {
          "color": "blue",
          "width": 1
         },
         "locationmode": "ISO-3",
         "lon": [
          -3.74922,
          127.766922
         ],
         "mode": "lines",
         "opacity": 0.6,
         "type": "scattergeo"
        },
        {
         "lat": [
          40.463667,
          45.943161
         ],
         "line": {
          "color": "blue",
          "width": 1
         },
         "locationmode": "ISO-3",
         "lon": [
          -3.74922,
          24.96676
         ],
         "mode": "lines",
         "opacity": 0.6,
         "type": "scattergeo"
        },
        {
         "lat": [
          40.463667,
          31.791702
         ],
         "line": {
          "color": "blue",
          "width": 1
         },
         "locationmode": "ISO-3",
         "lon": [
          -3.74922,
          -7.09262
         ],
         "mode": "lines",
         "opacity": 0.6,
         "type": "scattergeo"
        },
        {
         "lat": [
          40.463667,
          35.126413
         ],
         "line": {
          "color": "blue",
          "width": 1
         },
         "locationmode": "ISO-3",
         "lon": [
          -3.74922,
          33.429859
         ],
         "mode": "lines",
         "opacity": 0.6,
         "type": "scattergeo"
        },
        {
         "lat": [
          40.463667,
          4.570868
         ],
         "line": {
          "color": "blue",
          "width": 1
         },
         "locationmode": "ISO-3",
         "lon": [
          -3.74922,
          -74.297333
         ],
         "mode": "lines",
         "opacity": 0.6,
         "type": "scattergeo"
        },
        {
         "lat": [
          40.463667,
          6.42375
         ],
         "line": {
          "color": "blue",
          "width": 1
         },
         "locationmode": "ISO-3",
         "lon": [
          -3.74922,
          -66.58973
         ],
         "mode": "lines",
         "opacity": 0.6,
         "type": "scattergeo"
        },
        {
         "lat": [
          40.463667,
          -23.442503
         ],
         "line": {
          "color": "blue",
          "width": 1
         },
         "locationmode": "ISO-3",
         "lon": [
          -3.74922,
          -58.443832
         ],
         "mode": "lines",
         "opacity": 0.6,
         "type": "scattergeo"
        },
        {
         "lat": [
          40.463667,
          44.016521
         ],
         "line": {
          "color": "blue",
          "width": 1
         },
         "locationmode": "ISO-3",
         "lon": [
          -3.74922,
          21.005859
         ],
         "mode": "lines",
         "opacity": 0.6,
         "type": "scattergeo"
        },
        {
         "lat": [
          40.463667,
          -9.189967
         ],
         "line": {
          "color": "blue",
          "width": 1
         },
         "locationmode": "ISO-3",
         "lon": [
          -3.74922,
          -75.015152
         ],
         "mode": "lines",
         "opacity": 0.6,
         "type": "scattergeo"
        },
        {
         "lat": [
          40.463667,
          42.546245
         ],
         "line": {
          "color": "blue",
          "width": 1
         },
         "locationmode": "ISO-3",
         "lon": [
          -3.74922,
          1.601554
         ],
         "mode": "lines",
         "opacity": 0.6,
         "type": "scattergeo"
        },
        {
         "lat": [
          40.463667,
          28.033886
         ],
         "line": {
          "color": "blue",
          "width": 1
         },
         "locationmode": "ISO-3",
         "lon": [
          -3.74922,
          1.659626
         ],
         "mode": "lines",
         "opacity": 0.6,
         "type": "scattergeo"
        },
        {
         "lat": [
          40.463667,
          -32.522779
         ],
         "line": {
          "color": "blue",
          "width": 1
         },
         "locationmode": "ISO-3",
         "lon": [
          -3.74922,
          -55.765835
         ],
         "mode": "lines",
         "opacity": 0.6,
         "type": "scattergeo"
        },
        {
         "lat": [
          52.132633,
          52.132633
         ],
         "line": {
          "color": "blue",
          "width": 1
         },
         "locationmode": "ISO-3",
         "lon": [
          5.291266,
          5.291266
         ],
         "mode": "lines",
         "opacity": 0.6,
         "type": "scattergeo"
        },
        {
         "lat": [
          52.132633,
          50.503887
         ],
         "line": {
          "color": "blue",
          "width": 1
         },
         "locationmode": "ISO-3",
         "lon": [
          5.291266,
          4.469936
         ],
         "mode": "lines",
         "opacity": 0.6,
         "type": "scattergeo"
        },
        {
         "lat": [
          52.132633,
          56.26392
         ],
         "line": {
          "color": "blue",
          "width": 1
         },
         "locationmode": "ISO-3",
         "lon": [
          5.291266,
          9.501785
         ],
         "mode": "lines",
         "opacity": 0.6,
         "type": "scattergeo"
        },
        {
         "lat": [
          52.132633,
          51.165691
         ],
         "line": {
          "color": "blue",
          "width": 1
         },
         "locationmode": "ISO-3",
         "lon": [
          5.291266,
          10.451526
         ],
         "mode": "lines",
         "opacity": 0.6,
         "type": "scattergeo"
        },
        {
         "lat": [
          52.132633,
          35.126413
         ],
         "line": {
          "color": "blue",
          "width": 1
         },
         "locationmode": "ISO-3",
         "lon": [
          5.291266,
          33.429859
         ],
         "mode": "lines",
         "opacity": 0.6,
         "type": "scattergeo"
        },
        {
         "lat": [
          52.132633,
          40.463667
         ],
         "line": {
          "color": "blue",
          "width": 1
         },
         "locationmode": "ISO-3",
         "lon": [
          5.291266,
          -3.74922
         ],
         "mode": "lines",
         "opacity": 0.6,
         "type": "scattergeo"
        },
        {
         "lat": [
          52.132633,
          41.87194
         ],
         "line": {
          "color": "blue",
          "width": 1
         },
         "locationmode": "ISO-3",
         "lon": [
          5.291266,
          12.56738
         ],
         "mode": "lines",
         "opacity": 0.6,
         "type": "scattergeo"
        },
        {
         "lat": [
          52.132633,
          55.378051
         ],
         "line": {
          "color": "blue",
          "width": 1
         },
         "locationmode": "ISO-3",
         "lon": [
          5.291266,
          -3.435973
         ],
         "mode": "lines",
         "opacity": 0.6,
         "type": "scattergeo"
        },
        {
         "lat": [
          52.132633,
          36.204824
         ],
         "line": {
          "color": "blue",
          "width": 1
         },
         "locationmode": "ISO-3",
         "lon": [
          5.291266,
          138.252924
         ],
         "mode": "lines",
         "opacity": 0.6,
         "type": "scattergeo"
        },
        {
         "lat": [
          52.132633,
          60.128161
         ],
         "line": {
          "color": "blue",
          "width": 1
         },
         "locationmode": "ISO-3",
         "lon": [
          5.291266,
          18.643501
         ],
         "mode": "lines",
         "opacity": 0.6,
         "type": "scattergeo"
        },
        {
         "lat": [
          52.132633,
          47.516231
         ],
         "line": {
          "color": "blue",
          "width": 1
         },
         "locationmode": "ISO-3",
         "lon": [
          5.291266,
          14.550072
         ],
         "mode": "lines",
         "opacity": 0.6,
         "type": "scattergeo"
        },
        {
         "lat": [
          52.132633,
          35.86166
         ],
         "line": {
          "color": "blue",
          "width": 1
         },
         "locationmode": "ISO-3",
         "lon": [
          5.291266,
          104.195397
         ],
         "mode": "lines",
         "opacity": 0.6,
         "type": "scattergeo"
        },
        {
         "lat": [
          52.132633,
          61.92411
         ],
         "line": {
          "color": "blue",
          "width": 1
         },
         "locationmode": "ISO-3",
         "lon": [
          5.291266,
          25.748151
         ],
         "mode": "lines",
         "opacity": 0.6,
         "type": "scattergeo"
        },
        {
         "lat": [
          52.132633,
          44.016521
         ],
         "line": {
          "color": "blue",
          "width": 1
         },
         "locationmode": "ISO-3",
         "lon": [
          5.291266,
          21.005859
         ],
         "mode": "lines",
         "opacity": 0.6,
         "type": "scattergeo"
        },
        {
         "lat": [
          52.132633,
          -14.235004
         ],
         "line": {
          "color": "blue",
          "width": 1
         },
         "locationmode": "ISO-3",
         "lon": [
          5.291266,
          -51.92528
         ],
         "mode": "lines",
         "opacity": 0.6,
         "type": "scattergeo"
        },
        {
         "lat": [
          52.132633,
          51.919438
         ],
         "line": {
          "color": "blue",
          "width": 1
         },
         "locationmode": "ISO-3",
         "lon": [
          5.291266,
          19.145136
         ],
         "mode": "lines",
         "opacity": 0.6,
         "type": "scattergeo"
        },
        {
         "lat": [
          52.132633,
          60.472024
         ],
         "line": {
          "color": "blue",
          "width": 1
         },
         "locationmode": "ISO-3",
         "lon": [
          5.291266,
          8.468946
         ],
         "mode": "lines",
         "opacity": 0.6,
         "type": "scattergeo"
        },
        {
         "lat": [
          52.132633,
          61.52401
         ],
         "line": {
          "color": "blue",
          "width": 1
         },
         "locationmode": "ISO-3",
         "lon": [
          5.291266,
          105.318756
         ],
         "mode": "lines",
         "opacity": 0.6,
         "type": "scattergeo"
        },
        {
         "lat": [
          52.132633,
          -25.274398
         ],
         "line": {
          "color": "blue",
          "width": 1
         },
         "locationmode": "ISO-3",
         "lon": [
          5.291266,
          133.775136
         ],
         "mode": "lines",
         "opacity": 0.6,
         "type": "scattergeo"
        },
        {
         "lat": [
          52.132633,
          46.818188
         ],
         "line": {
          "color": "blue",
          "width": 1
         },
         "locationmode": "ISO-3",
         "lon": [
          5.291266,
          8.227512
         ],
         "mode": "lines",
         "opacity": 0.6,
         "type": "scattergeo"
        },
        {
         "lat": [
          52.132633,
          39.399872
         ],
         "line": {
          "color": "blue",
          "width": 1
         },
         "locationmode": "ISO-3",
         "lon": [
          5.291266,
          -8.224454
         ],
         "mode": "lines",
         "opacity": 0.6,
         "type": "scattergeo"
        },
        {
         "lat": [
          52.132633,
          38.963745
         ],
         "line": {
          "color": "blue",
          "width": 1
         },
         "locationmode": "ISO-3",
         "lon": [
          5.291266,
          35.243322
         ],
         "mode": "lines",
         "opacity": 0.6,
         "type": "scattergeo"
        },
        {
         "lat": [
          52.132633,
          42.733883
         ],
         "line": {
          "color": "blue",
          "width": 1
         },
         "locationmode": "ISO-3",
         "lon": [
          5.291266,
          25.48583
         ],
         "mode": "lines",
         "opacity": 0.6,
         "type": "scattergeo"
        },
        {
         "lat": [
          52.132633,
          45.943161
         ],
         "line": {
          "color": "blue",
          "width": 1
         },
         "locationmode": "ISO-3",
         "lon": [
          5.291266,
          24.96676
         ],
         "mode": "lines",
         "opacity": 0.6,
         "type": "scattergeo"
        },
        {
         "lat": [
          41.87194,
          41.87194
         ],
         "line": {
          "color": "blue",
          "width": 1
         },
         "locationmode": "ISO-3",
         "lon": [
          12.56738,
          12.56738
         ],
         "mode": "lines",
         "opacity": 0.6,
         "type": "scattergeo"
        },
        {
         "lat": [
          41.87194,
          46.818188
         ],
         "line": {
          "color": "blue",
          "width": 1
         },
         "locationmode": "ISO-3",
         "lon": [
          12.56738,
          8.227512
         ],
         "mode": "lines",
         "opacity": 0.6,
         "type": "scattergeo"
        },
        {
         "lat": [
          41.87194,
          60.472024
         ],
         "line": {
          "color": "blue",
          "width": 1
         },
         "locationmode": "ISO-3",
         "lon": [
          12.56738,
          8.468946
         ],
         "mode": "lines",
         "opacity": 0.6,
         "type": "scattergeo"
        },
        {
         "lat": [
          41.87194,
          -25.274398
         ],
         "line": {
          "color": "blue",
          "width": 1
         },
         "locationmode": "ISO-3",
         "lon": [
          12.56738,
          133.775136
         ],
         "mode": "lines",
         "opacity": 0.6,
         "type": "scattergeo"
        },
        {
         "lat": [
          41.87194,
          55.378051
         ],
         "line": {
          "color": "blue",
          "width": 1
         },
         "locationmode": "ISO-3",
         "lon": [
          12.56738,
          -3.435973
         ],
         "mode": "lines",
         "opacity": 0.6,
         "type": "scattergeo"
        },
        {
         "lat": [
          41.87194,
          -35.675147
         ],
         "line": {
          "color": "blue",
          "width": 1
         },
         "locationmode": "ISO-3",
         "lon": [
          12.56738,
          -71.542969
         ],
         "mode": "lines",
         "opacity": 0.6,
         "type": "scattergeo"
        },
        {
         "lat": [
          41.87194,
          46.227638
         ],
         "line": {
          "color": "blue",
          "width": 1
         },
         "locationmode": "ISO-3",
         "lon": [
          12.56738,
          2.213749
         ],
         "mode": "lines",
         "opacity": 0.6,
         "type": "scattergeo"
        },
        {
         "lat": [
          41.87194,
          51.165691
         ],
         "line": {
          "color": "blue",
          "width": 1
         },
         "locationmode": "ISO-3",
         "lon": [
          12.56738,
          10.451526
         ],
         "mode": "lines",
         "opacity": 0.6,
         "type": "scattergeo"
        },
        {
         "lat": [
          41.87194,
          47.516231
         ],
         "line": {
          "color": "blue",
          "width": 1
         },
         "locationmode": "ISO-3",
         "lon": [
          12.56738,
          14.550072
         ],
         "mode": "lines",
         "opacity": 0.6,
         "type": "scattergeo"
        },
        {
         "lat": [
          41.87194,
          -38.416097
         ],
         "line": {
          "color": "blue",
          "width": 1
         },
         "locationmode": "ISO-3",
         "lon": [
          12.56738,
          -63.616672
         ],
         "mode": "lines",
         "opacity": 0.6,
         "type": "scattergeo"
        },
        {
         "lat": [
          41.87194,
          40.463667
         ],
         "line": {
          "color": "blue",
          "width": 1
         },
         "locationmode": "ISO-3",
         "lon": [
          12.56738,
          -3.74922
         ],
         "mode": "lines",
         "opacity": 0.6,
         "type": "scattergeo"
        },
        {
         "lat": [
          41.87194,
          -14.235004
         ],
         "line": {
          "color": "blue",
          "width": 1
         },
         "locationmode": "ISO-3",
         "lon": [
          12.56738,
          -51.92528
         ],
         "mode": "lines",
         "opacity": 0.6,
         "type": "scattergeo"
        },
        {
         "lat": [
          41.87194,
          50.503887
         ],
         "line": {
          "color": "blue",
          "width": 1
         },
         "locationmode": "ISO-3",
         "lon": [
          12.56738,
          4.469936
         ],
         "mode": "lines",
         "opacity": 0.6,
         "type": "scattergeo"
        },
        {
         "lat": [
          41.87194,
          4.570868
         ],
         "line": {
          "color": "blue",
          "width": 1
         },
         "locationmode": "ISO-3",
         "lon": [
          12.56738,
          -74.297333
         ],
         "mode": "lines",
         "opacity": 0.6,
         "type": "scattergeo"
        },
        {
         "lat": [
          41.87194,
          25.354826
         ],
         "line": {
          "color": "blue",
          "width": 1
         },
         "locationmode": "ISO-3",
         "lon": [
          12.56738,
          51.183884
         ],
         "mode": "lines",
         "opacity": 0.6,
         "type": "scattergeo"
        },
        {
         "lat": [
          41.87194,
          60.128161
         ],
         "line": {
          "color": "blue",
          "width": 1
         },
         "locationmode": "ISO-3",
         "lon": [
          12.56738,
          18.643501
         ],
         "mode": "lines",
         "opacity": 0.6,
         "type": "scattergeo"
        },
        {
         "lat": [
          41.87194,
          -30.559482
         ],
         "line": {
          "color": "blue",
          "width": 1
         },
         "locationmode": "ISO-3",
         "lon": [
          12.56738,
          22.937506
         ],
         "mode": "lines",
         "opacity": 0.6,
         "type": "scattergeo"
        },
        {
         "lat": [
          41.87194,
          39.074208
         ],
         "line": {
          "color": "blue",
          "width": 1
         },
         "locationmode": "ISO-3",
         "lon": [
          12.56738,
          21.824312
         ],
         "mode": "lines",
         "opacity": 0.6,
         "type": "scattergeo"
        },
        {
         "lat": [
          41.87194,
          38.963745
         ],
         "line": {
          "color": "blue",
          "width": 1
         },
         "locationmode": "ISO-3",
         "lon": [
          12.56738,
          35.243322
         ],
         "mode": "lines",
         "opacity": 0.6,
         "type": "scattergeo"
        },
        {
         "lat": [
          41.87194,
          61.52401
         ],
         "line": {
          "color": "blue",
          "width": 1
         },
         "locationmode": "ISO-3",
         "lon": [
          12.56738,
          105.318756
         ],
         "mode": "lines",
         "opacity": 0.6,
         "type": "scattergeo"
        },
        {
         "lat": [
          41.87194,
          39.399872
         ],
         "line": {
          "color": "blue",
          "width": 1
         },
         "locationmode": "ISO-3",
         "lon": [
          12.56738,
          -8.224454
         ],
         "mode": "lines",
         "opacity": 0.6,
         "type": "scattergeo"
        },
        {
         "lat": [
          41.87194,
          42.708678
         ],
         "line": {
          "color": "blue",
          "width": 1
         },
         "locationmode": "ISO-3",
         "lon": [
          12.56738,
          19.37439
         ],
         "mode": "lines",
         "opacity": 0.6,
         "type": "scattergeo"
        },
        {
         "lat": [
          41.87194,
          36.204824
         ],
         "line": {
          "color": "blue",
          "width": 1
         },
         "locationmode": "ISO-3",
         "lon": [
          12.56738,
          138.252924
         ],
         "mode": "lines",
         "opacity": 0.6,
         "type": "scattergeo"
        },
        {
         "lat": [
          41.87194,
          48.379433
         ],
         "line": {
          "color": "blue",
          "width": 1
         },
         "locationmode": "ISO-3",
         "lon": [
          12.56738,
          31.16558
         ],
         "mode": "lines",
         "opacity": 0.6,
         "type": "scattergeo"
        },
        {
         "lat": [
          41.87194,
          45.1
         ],
         "line": {
          "color": "blue",
          "width": 1
         },
         "locationmode": "ISO-3",
         "lon": [
          12.56738,
          15.2
         ],
         "mode": "lines",
         "opacity": 0.6,
         "type": "scattergeo"
        },
        {
         "lat": [
          41.87194,
          52.132633
         ],
         "line": {
          "color": "blue",
          "width": 1
         },
         "locationmode": "ISO-3",
         "lon": [
          12.56738,
          5.291266
         ],
         "mode": "lines",
         "opacity": 0.6,
         "type": "scattergeo"
        },
        {
         "lat": [
          41.87194,
          -32.522779
         ],
         "line": {
          "color": "blue",
          "width": 1
         },
         "locationmode": "ISO-3",
         "lon": [
          12.56738,
          -55.765835
         ],
         "mode": "lines",
         "opacity": 0.6,
         "type": "scattergeo"
        },
        {
         "lat": [
          41.87194,
          -23.442503
         ],
         "line": {
          "color": "blue",
          "width": 1
         },
         "locationmode": "ISO-3",
         "lon": [
          12.56738,
          -58.443832
         ],
         "mode": "lines",
         "opacity": 0.6,
         "type": "scattergeo"
        },
        {
         "lat": [
          41.87194,
          33.886917
         ],
         "line": {
          "color": "blue",
          "width": 1
         },
         "locationmode": "ISO-3",
         "lon": [
          12.56738,
          9.537499
         ],
         "mode": "lines",
         "opacity": 0.6,
         "type": "scattergeo"
        },
        {
         "lat": [
          41.87194,
          35.937496
         ],
         "line": {
          "color": "blue",
          "width": 1
         },
         "locationmode": "ISO-3",
         "lon": [
          12.56738,
          14.375416
         ],
         "mode": "lines",
         "opacity": 0.6,
         "type": "scattergeo"
        },
        {
         "lat": [
          41.87194,
          53.41291
         ],
         "line": {
          "color": "blue",
          "width": 1
         },
         "locationmode": "ISO-3",
         "lon": [
          12.56738,
          -8.24389
         ],
         "mode": "lines",
         "opacity": 0.6,
         "type": "scattergeo"
        },
        {
         "lat": [
          45.1,
          31.046051
         ],
         "line": {
          "color": "blue",
          "width": 1
         },
         "locationmode": "ISO-3",
         "lon": [
          15.2,
          34.851612
         ],
         "mode": "lines",
         "opacity": 0.6,
         "type": "scattergeo"
        },
        {
         "lat": [
          45.1,
          45.1
         ],
         "line": {
          "color": "blue",
          "width": 1
         },
         "locationmode": "ISO-3",
         "lon": [
          15.2,
          15.2
         ],
         "mode": "lines",
         "opacity": 0.6,
         "type": "scattergeo"
        },
        {
         "lat": [
          45.1,
          51.165691
         ],
         "line": {
          "color": "blue",
          "width": 1
         },
         "locationmode": "ISO-3",
         "lon": [
          15.2,
          10.451526
         ],
         "mode": "lines",
         "opacity": 0.6,
         "type": "scattergeo"
        },
        {
         "lat": [
          45.1,
          50.503887
         ],
         "line": {
          "color": "blue",
          "width": 1
         },
         "locationmode": "ISO-3",
         "lon": [
          15.2,
          4.469936
         ],
         "mode": "lines",
         "opacity": 0.6,
         "type": "scattergeo"
        },
        {
         "lat": [
          45.1,
          35.907757
         ],
         "line": {
          "color": "blue",
          "width": 1
         },
         "locationmode": "ISO-3",
         "lon": [
          15.2,
          127.766922
         ],
         "mode": "lines",
         "opacity": 0.6,
         "type": "scattergeo"
        },
        {
         "lat": [
          45.1,
          43.915886
         ],
         "line": {
          "color": "blue",
          "width": 1
         },
         "locationmode": "ISO-3",
         "lon": [
          15.2,
          17.679076
         ],
         "mode": "lines",
         "opacity": 0.6,
         "type": "scattergeo"
        },
        {
         "lat": [
          45.1,
          38.963745
         ],
         "line": {
          "color": "blue",
          "width": 1
         },
         "locationmode": "ISO-3",
         "lon": [
          15.2,
          35.243322
         ],
         "mode": "lines",
         "opacity": 0.6,
         "type": "scattergeo"
        },
        {
         "lat": [
          45.1,
          45.943161
         ],
         "line": {
          "color": "blue",
          "width": 1
         },
         "locationmode": "ISO-3",
         "lon": [
          15.2,
          24.96676
         ],
         "mode": "lines",
         "opacity": 0.6,
         "type": "scattergeo"
        },
        {
         "lat": [
          45.1,
          46.227638
         ],
         "line": {
          "color": "blue",
          "width": 1
         },
         "locationmode": "ISO-3",
         "lon": [
          15.2,
          2.213749
         ],
         "mode": "lines",
         "opacity": 0.6,
         "type": "scattergeo"
        },
        {
         "lat": [
          45.1,
          46.151241
         ],
         "line": {
          "color": "blue",
          "width": 1
         },
         "locationmode": "ISO-3",
         "lon": [
          15.2,
          14.995463
         ],
         "mode": "lines",
         "opacity": 0.6,
         "type": "scattergeo"
        },
        {
         "lat": [
          45.1,
          46.818188
         ],
         "line": {
          "color": "blue",
          "width": 1
         },
         "locationmode": "ISO-3",
         "lon": [
          15.2,
          8.227512
         ],
         "mode": "lines",
         "opacity": 0.6,
         "type": "scattergeo"
        },
        {
         "lat": [
          45.1,
          52.132633
         ],
         "line": {
          "color": "blue",
          "width": 1
         },
         "locationmode": "ISO-3",
         "lon": [
          15.2,
          5.291266
         ],
         "mode": "lines",
         "opacity": 0.6,
         "type": "scattergeo"
        },
        {
         "lat": [
          45.1,
          39.074208
         ],
         "line": {
          "color": "blue",
          "width": 1
         },
         "locationmode": "ISO-3",
         "lon": [
          15.2,
          21.824312
         ],
         "mode": "lines",
         "opacity": 0.6,
         "type": "scattergeo"
        },
        {
         "lat": [
          45.1,
          61.52401
         ],
         "line": {
          "color": "blue",
          "width": 1
         },
         "locationmode": "ISO-3",
         "lon": [
          15.2,
          105.318756
         ],
         "mode": "lines",
         "opacity": 0.6,
         "type": "scattergeo"
        },
        {
         "lat": [
          45.1,
          47.516231
         ],
         "line": {
          "color": "blue",
          "width": 1
         },
         "locationmode": "ISO-3",
         "lon": [
          15.2,
          14.550072
         ],
         "mode": "lines",
         "opacity": 0.6,
         "type": "scattergeo"
        },
        {
         "lat": [
          45.1,
          60.128161
         ],
         "line": {
          "color": "blue",
          "width": 1
         },
         "locationmode": "ISO-3",
         "lon": [
          15.2,
          18.643501
         ],
         "mode": "lines",
         "opacity": 0.6,
         "type": "scattergeo"
        },
        {
         "lat": [
          45.1,
          64.963051
         ],
         "line": {
          "color": "blue",
          "width": 1
         },
         "locationmode": "ISO-3",
         "lon": [
          15.2,
          -19.020835
         ],
         "mode": "lines",
         "opacity": 0.6,
         "type": "scattergeo"
        },
        {
         "lat": [
          45.1,
          41.153332
         ],
         "line": {
          "color": "blue",
          "width": 1
         },
         "locationmode": "ISO-3",
         "lon": [
          15.2,
          20.168331
         ],
         "mode": "lines",
         "opacity": 0.6,
         "type": "scattergeo"
        },
        {
         "lat": [
          45.1,
          51.919438
         ],
         "line": {
          "color": "blue",
          "width": 1
         },
         "locationmode": "ISO-3",
         "lon": [
          15.2,
          19.145136
         ],
         "mode": "lines",
         "opacity": 0.6,
         "type": "scattergeo"
        },
        {
         "lat": [
          45.1,
          -25.274398
         ],
         "line": {
          "color": "blue",
          "width": 1
         },
         "locationmode": "ISO-3",
         "lon": [
          15.2,
          133.775136
         ],
         "mode": "lines",
         "opacity": 0.6,
         "type": "scattergeo"
        },
        {
         "lat": [
          45.1,
          36.204824
         ],
         "line": {
          "color": "blue",
          "width": 1
         },
         "locationmode": "ISO-3",
         "lon": [
          15.2,
          138.252924
         ],
         "mode": "lines",
         "opacity": 0.6,
         "type": "scattergeo"
        },
        {
         "lat": [
          36.204824,
          51.165691
         ],
         "line": {
          "color": "blue",
          "width": 1
         },
         "locationmode": "ISO-3",
         "lon": [
          138.252924,
          10.451526
         ],
         "mode": "lines",
         "opacity": 0.6,
         "type": "scattergeo"
        },
        {
         "lat": [
          36.204824,
          -14.235004
         ],
         "line": {
          "color": "blue",
          "width": 1
         },
         "locationmode": "ISO-3",
         "lon": [
          138.252924,
          -51.92528
         ],
         "mode": "lines",
         "opacity": 0.6,
         "type": "scattergeo"
        },
        {
         "lat": [
          36.204824,
          46.227638
         ],
         "line": {
          "color": "blue",
          "width": 1
         },
         "locationmode": "ISO-3",
         "lon": [
          138.252924,
          2.213749
         ],
         "mode": "lines",
         "opacity": 0.6,
         "type": "scattergeo"
        },
        {
         "lat": [
          36.204824,
          52.132633
         ],
         "line": {
          "color": "blue",
          "width": 1
         },
         "locationmode": "ISO-3",
         "lon": [
          138.252924,
          5.291266
         ],
         "mode": "lines",
         "opacity": 0.6,
         "type": "scattergeo"
        },
        {
         "lat": [
          36.204824,
          36.204824
         ],
         "line": {
          "color": "blue",
          "width": 1
         },
         "locationmode": "ISO-3",
         "lon": [
          138.252924,
          138.252924
         ],
         "mode": "lines",
         "opacity": 0.6,
         "type": "scattergeo"
        },
        {
         "lat": [
          36.204824,
          45.1
         ],
         "line": {
          "color": "blue",
          "width": 1
         },
         "locationmode": "ISO-3",
         "lon": [
          138.252924,
          15.2
         ],
         "mode": "lines",
         "opacity": 0.6,
         "type": "scattergeo"
        },
        {
         "lat": [
          36.204824,
          44.016521
         ],
         "line": {
          "color": "blue",
          "width": 1
         },
         "locationmode": "ISO-3",
         "lon": [
          138.252924,
          21.005859
         ],
         "mode": "lines",
         "opacity": 0.6,
         "type": "scattergeo"
        },
        {
         "lat": [
          36.204824,
          35.907757
         ],
         "line": {
          "color": "blue",
          "width": 1
         },
         "locationmode": "ISO-3",
         "lon": [
          138.252924,
          127.766922
         ],
         "mode": "lines",
         "opacity": 0.6,
         "type": "scattergeo"
        },
        {
         "lat": [
          36.204824,
          23.634501
         ],
         "line": {
          "color": "blue",
          "width": 1
         },
         "locationmode": "ISO-3",
         "lon": [
          138.252924,
          -102.552784
         ],
         "mode": "lines",
         "opacity": 0.6,
         "type": "scattergeo"
        },
        {
         "lat": [
          36.204824,
          40.463667
         ],
         "line": {
          "color": "blue",
          "width": 1
         },
         "locationmode": "ISO-3",
         "lon": [
          138.252924,
          -3.74922
         ],
         "mode": "lines",
         "opacity": 0.6,
         "type": "scattergeo"
        },
        {
         "lat": [
          36.204824,
          51.919438
         ],
         "line": {
          "color": "blue",
          "width": 1
         },
         "locationmode": "ISO-3",
         "lon": [
          138.252924,
          19.145136
         ],
         "mode": "lines",
         "opacity": 0.6,
         "type": "scattergeo"
        },
        {
         "lat": [
          36.204824,
          25.354826
         ],
         "line": {
          "color": "blue",
          "width": 1
         },
         "locationmode": "ISO-3",
         "lon": [
          138.252924,
          51.183884
         ],
         "mode": "lines",
         "opacity": 0.6,
         "type": "scattergeo"
        },
        {
         "lat": [
          36.204824,
          1.352083
         ],
         "line": {
          "color": "blue",
          "width": 1
         },
         "locationmode": "ISO-3",
         "lon": [
          138.252924,
          103.819836
         ],
         "mode": "lines",
         "opacity": 0.6,
         "type": "scattergeo"
        },
        {
         "lat": [
          36.204824,
          -25.274398
         ],
         "line": {
          "color": "blue",
          "width": 1
         },
         "locationmode": "ISO-3",
         "lon": [
          138.252924,
          133.775136
         ],
         "mode": "lines",
         "opacity": 0.6,
         "type": "scattergeo"
        },
        {
         "lat": [
          36.204824,
          55.378051
         ],
         "line": {
          "color": "blue",
          "width": 1
         },
         "locationmode": "ISO-3",
         "lon": [
          138.252924,
          -3.435973
         ],
         "mode": "lines",
         "opacity": 0.6,
         "type": "scattergeo"
        },
        {
         "lat": [
          -14.235004,
          -14.235004
         ],
         "line": {
          "color": "blue",
          "width": 1
         },
         "locationmode": "ISO-3",
         "lon": [
          -51.92528,
          -51.92528
         ],
         "mode": "lines",
         "opacity": 0.6,
         "type": "scattergeo"
        },
        {
         "lat": [
          -14.235004,
          51.165691
         ],
         "line": {
          "color": "blue",
          "width": 1
         },
         "locationmode": "ISO-3",
         "lon": [
          -51.92528,
          10.451526
         ],
         "mode": "lines",
         "opacity": 0.6,
         "type": "scattergeo"
        },
        {
         "lat": [
          -14.235004,
          41.87194
         ],
         "line": {
          "color": "blue",
          "width": 1
         },
         "locationmode": "ISO-3",
         "lon": [
          -51.92528,
          12.56738
         ],
         "mode": "lines",
         "opacity": 0.6,
         "type": "scattergeo"
        },
        {
         "lat": [
          -14.235004,
          46.818188
         ],
         "line": {
          "color": "blue",
          "width": 1
         },
         "locationmode": "ISO-3",
         "lon": [
          -51.92528,
          8.227512
         ],
         "mode": "lines",
         "opacity": 0.6,
         "type": "scattergeo"
        },
        {
         "lat": [
          -14.235004,
          39.399872
         ],
         "line": {
          "color": "blue",
          "width": 1
         },
         "locationmode": "ISO-3",
         "lon": [
          -51.92528,
          -8.224454
         ],
         "mode": "lines",
         "opacity": 0.6,
         "type": "scattergeo"
        },
        {
         "lat": [
          -14.235004,
          36.204824
         ],
         "line": {
          "color": "blue",
          "width": 1
         },
         "locationmode": "ISO-3",
         "lon": [
          -51.92528,
          138.252924
         ],
         "mode": "lines",
         "opacity": 0.6,
         "type": "scattergeo"
        },
        {
         "lat": [
          -14.235004,
          56.26392
         ],
         "line": {
          "color": "blue",
          "width": 1
         },
         "locationmode": "ISO-3",
         "lon": [
          -51.92528,
          9.501785
         ],
         "mode": "lines",
         "opacity": 0.6,
         "type": "scattergeo"
        },
        {
         "lat": [
          -14.235004,
          39.074208
         ],
         "line": {
          "color": "blue",
          "width": 1
         },
         "locationmode": "ISO-3",
         "lon": [
          -51.92528,
          21.824312
         ],
         "mode": "lines",
         "opacity": 0.6,
         "type": "scattergeo"
        },
        {
         "lat": [
          -14.235004,
          -38.416097
         ],
         "line": {
          "color": "blue",
          "width": 1
         },
         "locationmode": "ISO-3",
         "lon": [
          -51.92528,
          -63.616672
         ],
         "mode": "lines",
         "opacity": 0.6,
         "type": "scattergeo"
        },
        {
         "lat": [
          -14.235004,
          46.227638
         ],
         "line": {
          "color": "blue",
          "width": 1
         },
         "locationmode": "ISO-3",
         "lon": [
          -51.92528,
          2.213749
         ],
         "mode": "lines",
         "opacity": 0.6,
         "type": "scattergeo"
        },
        {
         "lat": [
          -14.235004,
          61.52401
         ],
         "line": {
          "color": "blue",
          "width": 1
         },
         "locationmode": "ISO-3",
         "lon": [
          -51.92528,
          105.318756
         ],
         "mode": "lines",
         "opacity": 0.6,
         "type": "scattergeo"
        },
        {
         "lat": [
          -14.235004,
          -35.675147
         ],
         "line": {
          "color": "blue",
          "width": 1
         },
         "locationmode": "ISO-3",
         "lon": [
          -51.92528,
          -71.542969
         ],
         "mode": "lines",
         "opacity": 0.6,
         "type": "scattergeo"
        },
        {
         "lat": [
          -14.235004,
          23.885942
         ],
         "line": {
          "color": "blue",
          "width": 1
         },
         "locationmode": "ISO-3",
         "lon": [
          -51.92528,
          45.079162
         ],
         "mode": "lines",
         "opacity": 0.6,
         "type": "scattergeo"
        },
        {
         "lat": [
          -14.235004,
          40.463667
         ],
         "line": {
          "color": "blue",
          "width": 1
         },
         "locationmode": "ISO-3",
         "lon": [
          -51.92528,
          -3.74922
         ],
         "mode": "lines",
         "opacity": 0.6,
         "type": "scattergeo"
        },
        {
         "lat": [
          -14.235004,
          51.919438
         ],
         "line": {
          "color": "blue",
          "width": 1
         },
         "locationmode": "ISO-3",
         "lon": [
          -51.92528,
          19.145136
         ],
         "mode": "lines",
         "opacity": 0.6,
         "type": "scattergeo"
        },
        {
         "lat": [
          -14.235004,
          50.503887
         ],
         "line": {
          "color": "blue",
          "width": 1
         },
         "locationmode": "ISO-3",
         "lon": [
          -51.92528,
          4.469936
         ],
         "mode": "lines",
         "opacity": 0.6,
         "type": "scattergeo"
        },
        {
         "lat": [
          -14.235004,
          55.378051
         ],
         "line": {
          "color": "blue",
          "width": 1
         },
         "locationmode": "ISO-3",
         "lon": [
          -51.92528,
          -3.435973
         ],
         "mode": "lines",
         "opacity": 0.6,
         "type": "scattergeo"
        },
        {
         "lat": [
          -14.235004,
          38.963745
         ],
         "line": {
          "color": "blue",
          "width": 1
         },
         "locationmode": "ISO-3",
         "lon": [
          -51.92528,
          35.243322
         ],
         "mode": "lines",
         "opacity": 0.6,
         "type": "scattergeo"
        },
        {
         "lat": [
          -14.235004,
          48.379433
         ],
         "line": {
          "color": "blue",
          "width": 1
         },
         "locationmode": "ISO-3",
         "lon": [
          -51.92528,
          31.16558
         ],
         "mode": "lines",
         "opacity": 0.6,
         "type": "scattergeo"
        },
        {
         "lat": [
          -14.235004,
          33.854721
         ],
         "line": {
          "color": "blue",
          "width": 1
         },
         "locationmode": "ISO-3",
         "lon": [
          -51.92528,
          35.862285
         ],
         "mode": "lines",
         "opacity": 0.6,
         "type": "scattergeo"
        },
        {
         "lat": [
          -14.235004,
          35.907757
         ],
         "line": {
          "color": "blue",
          "width": 1
         },
         "locationmode": "ISO-3",
         "lon": [
          -51.92528,
          127.766922
         ],
         "mode": "lines",
         "opacity": 0.6,
         "type": "scattergeo"
        },
        {
         "lat": [
          -14.235004,
          25.354826
         ],
         "line": {
          "color": "blue",
          "width": 1
         },
         "locationmode": "ISO-3",
         "lon": [
          -51.92528,
          51.183884
         ],
         "mode": "lines",
         "opacity": 0.6,
         "type": "scattergeo"
        },
        {
         "lat": [
          -14.235004,
          45.1
         ],
         "line": {
          "color": "blue",
          "width": 1
         },
         "locationmode": "ISO-3",
         "lon": [
          -51.92528,
          15.2
         ],
         "mode": "lines",
         "opacity": 0.6,
         "type": "scattergeo"
        },
        {
         "lat": [
          -14.235004,
          4.570868
         ],
         "line": {
          "color": "blue",
          "width": 1
         },
         "locationmode": "ISO-3",
         "lon": [
          -51.92528,
          -74.297333
         ],
         "mode": "lines",
         "opacity": 0.6,
         "type": "scattergeo"
        },
        {
         "lat": [
          -14.235004,
          47.516231
         ],
         "line": {
          "color": "blue",
          "width": 1
         },
         "locationmode": "ISO-3",
         "lon": [
          -51.92528,
          14.550072
         ],
         "mode": "lines",
         "opacity": 0.6,
         "type": "scattergeo"
        },
        {
         "lat": [
          -14.235004,
          31.046051
         ],
         "line": {
          "color": "blue",
          "width": 1
         },
         "locationmode": "ISO-3",
         "lon": [
          -51.92528,
          34.851612
         ],
         "mode": "lines",
         "opacity": 0.6,
         "type": "scattergeo"
        },
        {
         "lat": [
          -14.235004,
          60.128161
         ],
         "line": {
          "color": "blue",
          "width": 1
         },
         "locationmode": "ISO-3",
         "lon": [
          -51.92528,
          18.643501
         ],
         "mode": "lines",
         "opacity": 0.6,
         "type": "scattergeo"
        },
        {
         "lat": [
          -14.235004,
          23.424076
         ],
         "line": {
          "color": "blue",
          "width": 1
         },
         "locationmode": "ISO-3",
         "lon": [
          -51.92528,
          53.847818
         ],
         "mode": "lines",
         "opacity": 0.6,
         "type": "scattergeo"
        },
        {
         "lat": [
          -14.235004,
          33.886917
         ],
         "line": {
          "color": "blue",
          "width": 1
         },
         "locationmode": "ISO-3",
         "lon": [
          -51.92528,
          9.537499
         ],
         "mode": "lines",
         "opacity": 0.6,
         "type": "scattergeo"
        },
        {
         "lat": [
          -14.235004,
          23.634501
         ],
         "line": {
          "color": "blue",
          "width": 1
         },
         "locationmode": "ISO-3",
         "lon": [
          -51.92528,
          -102.552784
         ],
         "mode": "lines",
         "opacity": 0.6,
         "type": "scattergeo"
        },
        {
         "lat": [
          -14.235004,
          37.09024
         ],
         "line": {
          "color": "blue",
          "width": 1
         },
         "locationmode": "ISO-3",
         "lon": [
          -51.92528,
          -95.712891
         ],
         "mode": "lines",
         "opacity": 0.6,
         "type": "scattergeo"
        },
        {
         "lat": [
          -14.235004,
          -23.442503
         ],
         "line": {
          "color": "blue",
          "width": 1
         },
         "locationmode": "ISO-3",
         "lon": [
          -51.92528,
          -58.443832
         ],
         "mode": "lines",
         "opacity": 0.6,
         "type": "scattergeo"
        },
        {
         "lat": [
          -14.235004,
          22.396428
         ],
         "line": {
          "color": "blue",
          "width": 1
         },
         "locationmode": "ISO-3",
         "lon": [
          -51.92528,
          114.109497
         ],
         "mode": "lines",
         "opacity": 0.6,
         "type": "scattergeo"
        },
        {
         "lat": [
          -14.235004,
          -16.290154
         ],
         "line": {
          "color": "blue",
          "width": 1
         },
         "locationmode": "ISO-3",
         "lon": [
          -51.92528,
          -63.588653
         ],
         "mode": "lines",
         "opacity": 0.6,
         "type": "scattergeo"
        },
        {
         "lat": [
          -14.235004,
          35.86166
         ],
         "line": {
          "color": "blue",
          "width": 1
         },
         "locationmode": "ISO-3",
         "lon": [
          -51.92528,
          104.195397
         ],
         "mode": "lines",
         "opacity": 0.6,
         "type": "scattergeo"
        },
        {
         "lat": [
          -14.235004,
          42.733883
         ],
         "line": {
          "color": "blue",
          "width": 1
         },
         "locationmode": "ISO-3",
         "lon": [
          -51.92528,
          25.48583
         ],
         "mode": "lines",
         "opacity": 0.6,
         "type": "scattergeo"
        },
        {
         "lat": [
          -14.235004,
          -9.189967
         ],
         "line": {
          "color": "blue",
          "width": 1
         },
         "locationmode": "ISO-3",
         "lon": [
          -51.92528,
          -75.015152
         ],
         "mode": "lines",
         "opacity": 0.6,
         "type": "scattergeo"
        },
        {
         "lat": [
          -14.235004,
          42.315407
         ],
         "line": {
          "color": "blue",
          "width": 1
         },
         "locationmode": "ISO-3",
         "lon": [
          -51.92528,
          43.356892
         ],
         "mode": "lines",
         "opacity": 0.6,
         "type": "scattergeo"
        },
        {
         "lat": [
          -14.235004,
          45.943161
         ],
         "line": {
          "color": "blue",
          "width": 1
         },
         "locationmode": "ISO-3",
         "lon": [
          -51.92528,
          24.96676
         ],
         "mode": "lines",
         "opacity": 0.6,
         "type": "scattergeo"
        },
        {
         "lat": [
          61.52401,
          61.52401
         ],
         "line": {
          "color": "blue",
          "width": 1
         },
         "locationmode": "ISO-3",
         "lon": [
          105.318756,
          105.318756
         ],
         "mode": "lines",
         "opacity": 0.6,
         "type": "scattergeo"
        },
        {
         "lat": [
          61.52401,
          44.016521
         ],
         "line": {
          "color": "blue",
          "width": 1
         },
         "locationmode": "ISO-3",
         "lon": [
          105.318756,
          21.005859
         ],
         "mode": "lines",
         "opacity": 0.6,
         "type": "scattergeo"
        },
        {
         "lat": [
          61.52401,
          47.516231
         ],
         "line": {
          "color": "blue",
          "width": 1
         },
         "locationmode": "ISO-3",
         "lon": [
          105.318756,
          14.550072
         ],
         "mode": "lines",
         "opacity": 0.6,
         "type": "scattergeo"
        },
        {
         "lat": [
          61.52401,
          -38.416097
         ],
         "line": {
          "color": "blue",
          "width": 1
         },
         "locationmode": "ISO-3",
         "lon": [
          105.318756,
          -63.616672
         ],
         "mode": "lines",
         "opacity": 0.6,
         "type": "scattergeo"
        },
        {
         "lat": [
          61.52401,
          -1.831239
         ],
         "line": {
          "color": "blue",
          "width": 1
         },
         "locationmode": "ISO-3",
         "lon": [
          105.318756,
          -78.183406
         ],
         "mode": "lines",
         "opacity": 0.6,
         "type": "scattergeo"
        },
        {
         "lat": [
          61.52401,
          49.817492
         ],
         "line": {
          "color": "blue",
          "width": 1
         },
         "locationmode": "ISO-3",
         "lon": [
          105.318756,
          15.472962
         ],
         "mode": "lines",
         "opacity": 0.6,
         "type": "scattergeo"
        },
        {
         "lat": [
          61.52401,
          -14.235004
         ],
         "line": {
          "color": "blue",
          "width": 1
         },
         "locationmode": "ISO-3",
         "lon": [
          105.318756,
          -51.92528
         ],
         "mode": "lines",
         "opacity": 0.6,
         "type": "scattergeo"
        },
        {
         "lat": [
          61.52401,
          25.354826
         ],
         "line": {
          "color": "blue",
          "width": 1
         },
         "locationmode": "ISO-3",
         "lon": [
          105.318756,
          51.183884
         ],
         "mode": "lines",
         "opacity": 0.6,
         "type": "scattergeo"
        },
        {
         "lat": [
          61.52401,
          46.227638
         ],
         "line": {
          "color": "blue",
          "width": 1
         },
         "locationmode": "ISO-3",
         "lon": [
          105.318756,
          2.213749
         ],
         "mode": "lines",
         "opacity": 0.6,
         "type": "scattergeo"
        },
        {
         "lat": [
          61.52401,
          55.378051
         ],
         "line": {
          "color": "blue",
          "width": 1
         },
         "locationmode": "ISO-3",
         "lon": [
          105.318756,
          -3.435973
         ],
         "mode": "lines",
         "opacity": 0.6,
         "type": "scattergeo"
        },
        {
         "lat": [
          61.52401,
          39.399872
         ],
         "line": {
          "color": "blue",
          "width": 1
         },
         "locationmode": "ISO-3",
         "lon": [
          105.318756,
          -8.224454
         ],
         "mode": "lines",
         "opacity": 0.6,
         "type": "scattergeo"
        },
        {
         "lat": [
          61.52401,
          52.132633
         ],
         "line": {
          "color": "blue",
          "width": 1
         },
         "locationmode": "ISO-3",
         "lon": [
          105.318756,
          5.291266
         ],
         "mode": "lines",
         "opacity": 0.6,
         "type": "scattergeo"
        },
        {
         "lat": [
          61.52401,
          48.379433
         ],
         "line": {
          "color": "blue",
          "width": 1
         },
         "locationmode": "ISO-3",
         "lon": [
          105.318756,
          31.16558
         ],
         "mode": "lines",
         "opacity": 0.6,
         "type": "scattergeo"
        },
        {
         "lat": [
          61.52401,
          53.709807
         ],
         "line": {
          "color": "blue",
          "width": 1
         },
         "locationmode": "ISO-3",
         "lon": [
          105.318756,
          27.953389
         ],
         "mode": "lines",
         "opacity": 0.6,
         "type": "scattergeo"
        },
        {
         "lat": [
          61.52401,
          56.879635
         ],
         "line": {
          "color": "blue",
          "width": 1
         },
         "locationmode": "ISO-3",
         "lon": [
          105.318756,
          24.603189
         ],
         "mode": "lines",
         "opacity": 0.6,
         "type": "scattergeo"
        },
        {
         "lat": [
          61.52401,
          55.169438
         ],
         "line": {
          "color": "blue",
          "width": 1
         },
         "locationmode": "ISO-3",
         "lon": [
          105.318756,
          23.881275
         ],
         "mode": "lines",
         "opacity": 0.6,
         "type": "scattergeo"
        },
        {
         "lat": [
          61.52401,
          48.669026
         ],
         "line": {
          "color": "blue",
          "width": 1
         },
         "locationmode": "ISO-3",
         "lon": [
          105.318756,
          19.699024
         ],
         "mode": "lines",
         "opacity": 0.6,
         "type": "scattergeo"
        },
        {
         "lat": [
          61.52401,
          38.963745
         ],
         "line": {
          "color": "blue",
          "width": 1
         },
         "locationmode": "ISO-3",
         "lon": [
          105.318756,
          35.243322
         ],
         "mode": "lines",
         "opacity": 0.6,
         "type": "scattergeo"
        },
        {
         "lat": [
          61.52401,
          40.463667
         ],
         "line": {
          "color": "blue",
          "width": 1
         },
         "locationmode": "ISO-3",
         "lon": [
          105.318756,
          -3.74922
         ],
         "mode": "lines",
         "opacity": 0.6,
         "type": "scattergeo"
        },
        {
         "lat": [
          61.52401,
          -32.522779
         ],
         "line": {
          "color": "blue",
          "width": 1
         },
         "locationmode": "ISO-3",
         "lon": [
          105.318756,
          -55.765835
         ],
         "mode": "lines",
         "opacity": 0.6,
         "type": "scattergeo"
        },
        {
         "lat": [
          61.52401,
          4.570868
         ],
         "line": {
          "color": "blue",
          "width": 1
         },
         "locationmode": "ISO-3",
         "lon": [
          105.318756,
          -74.297333
         ],
         "mode": "lines",
         "opacity": 0.6,
         "type": "scattergeo"
        },
        {
         "lat": [
          61.52401,
          48.019573
         ],
         "line": {
          "color": "blue",
          "width": 1
         },
         "locationmode": "ISO-3",
         "lon": [
          105.318756,
          66.923684
         ],
         "mode": "lines",
         "opacity": 0.6,
         "type": "scattergeo"
        },
        {
         "lat": [
          61.52401,
          -30.559482
         ],
         "line": {
          "color": "blue",
          "width": 1
         },
         "locationmode": "ISO-3",
         "lon": [
          105.318756,
          22.937506
         ],
         "mode": "lines",
         "opacity": 0.6,
         "type": "scattergeo"
        },
        {
         "lat": [
          61.52401,
          35.86166
         ],
         "line": {
          "color": "blue",
          "width": 1
         },
         "locationmode": "ISO-3",
         "lon": [
          105.318756,
          104.195397
         ],
         "mode": "lines",
         "opacity": 0.6,
         "type": "scattergeo"
        },
        {
         "lat": [
          61.52401,
          41.87194
         ],
         "line": {
          "color": "blue",
          "width": 1
         },
         "locationmode": "ISO-3",
         "lon": [
          105.318756,
          12.56738
         ],
         "mode": "lines",
         "opacity": 0.6,
         "type": "scattergeo"
        },
        {
         "lat": [
          61.52401,
          46.151241
         ],
         "line": {
          "color": "blue",
          "width": 1
         },
         "locationmode": "ISO-3",
         "lon": [
          105.318756,
          14.995463
         ],
         "mode": "lines",
         "opacity": 0.6,
         "type": "scattergeo"
        },
        {
         "lat": [
          61.52401,
          39.074208
         ],
         "line": {
          "color": "blue",
          "width": 1
         },
         "locationmode": "ISO-3",
         "lon": [
          105.318756,
          21.824312
         ],
         "mode": "lines",
         "opacity": 0.6,
         "type": "scattergeo"
        },
        {
         "lat": [
          61.52401,
          40.143105
         ],
         "line": {
          "color": "blue",
          "width": 1
         },
         "locationmode": "ISO-3",
         "lon": [
          105.318756,
          47.576927
         ],
         "mode": "lines",
         "opacity": 0.6,
         "type": "scattergeo"
        },
        {
         "lat": [
          61.52401,
          -23.442503
         ],
         "line": {
          "color": "blue",
          "width": 1
         },
         "locationmode": "ISO-3",
         "lon": [
          105.318756,
          -58.443832
         ],
         "mode": "lines",
         "opacity": 0.6,
         "type": "scattergeo"
        },
        {
         "lat": [
          61.52401,
          40.069099
         ],
         "line": {
          "color": "blue",
          "width": 1
         },
         "locationmode": "ISO-3",
         "lon": [
          105.318756,
          45.038189
         ],
         "mode": "lines",
         "opacity": 0.6,
         "type": "scattergeo"
        },
        {
         "lat": [
          61.52401,
          53.41291
         ],
         "line": {
          "color": "blue",
          "width": 1
         },
         "locationmode": "ISO-3",
         "lon": [
          105.318756,
          -8.24389
         ],
         "mode": "lines",
         "opacity": 0.6,
         "type": "scattergeo"
        },
        {
         "lat": [
          61.52401,
          41.377491
         ],
         "line": {
          "color": "blue",
          "width": 1
         },
         "locationmode": "ISO-3",
         "lon": [
          105.318756,
          64.585262
         ],
         "mode": "lines",
         "opacity": 0.6,
         "type": "scattergeo"
        },
        {
         "lat": [
          61.52401,
          4.210484
         ],
         "line": {
          "color": "blue",
          "width": 1
         },
         "locationmode": "ISO-3",
         "lon": [
          105.318756,
          101.975766
         ],
         "mode": "lines",
         "opacity": 0.6,
         "type": "scattergeo"
        },
        {
         "lat": [
          61.52401,
          31.791702
         ],
         "line": {
          "color": "blue",
          "width": 1
         },
         "locationmode": "ISO-3",
         "lon": [
          105.318756,
          -7.09262
         ],
         "mode": "lines",
         "opacity": 0.6,
         "type": "scattergeo"
        },
        {
         "lat": [
          61.52401,
          58.595272
         ],
         "line": {
          "color": "blue",
          "width": 1
         },
         "locationmode": "ISO-3",
         "lon": [
          105.318756,
          25.013607
         ],
         "mode": "lines",
         "opacity": 0.6,
         "type": "scattergeo"
        },
        {
         "lat": [
          61.52401,
          61.92411
         ],
         "line": {
          "color": "blue",
          "width": 1
         },
         "locationmode": "ISO-3",
         "lon": [
          105.318756,
          25.748151
         ],
         "mode": "lines",
         "opacity": 0.6,
         "type": "scattergeo"
        },
        {
         "lat": [
          50.503887,
          49.815273
         ],
         "line": {
          "color": "blue",
          "width": 1
         },
         "locationmode": "ISO-3",
         "lon": [
          4.469936,
          6.129583
         ],
         "mode": "lines",
         "opacity": 0.6,
         "type": "scattergeo"
        },
        {
         "lat": [
          50.503887,
          -14.235004
         ],
         "line": {
          "color": "blue",
          "width": 1
         },
         "locationmode": "ISO-3",
         "lon": [
          4.469936,
          -51.92528
         ],
         "mode": "lines",
         "opacity": 0.6,
         "type": "scattergeo"
        },
        {
         "lat": [
          50.503887,
          52.132633
         ],
         "line": {
          "color": "blue",
          "width": 1
         },
         "locationmode": "ISO-3",
         "lon": [
          4.469936,
          5.291266
         ],
         "mode": "lines",
         "opacity": 0.6,
         "type": "scattergeo"
        },
        {
         "lat": [
          50.503887,
          50.503887
         ],
         "line": {
          "color": "blue",
          "width": 1
         },
         "locationmode": "ISO-3",
         "lon": [
          4.469936,
          4.469936
         ],
         "mode": "lines",
         "opacity": 0.6,
         "type": "scattergeo"
        },
        {
         "lat": [
          50.503887,
          38.963745
         ],
         "line": {
          "color": "blue",
          "width": 1
         },
         "locationmode": "ISO-3",
         "lon": [
          4.469936,
          35.243322
         ],
         "mode": "lines",
         "opacity": 0.6,
         "type": "scattergeo"
        },
        {
         "lat": [
          50.503887,
          51.165691
         ],
         "line": {
          "color": "blue",
          "width": 1
         },
         "locationmode": "ISO-3",
         "lon": [
          4.469936,
          10.451526
         ],
         "mode": "lines",
         "opacity": 0.6,
         "type": "scattergeo"
        },
        {
         "lat": [
          50.503887,
          46.818188
         ],
         "line": {
          "color": "blue",
          "width": 1
         },
         "locationmode": "ISO-3",
         "lon": [
          4.469936,
          8.227512
         ],
         "mode": "lines",
         "opacity": 0.6,
         "type": "scattergeo"
        },
        {
         "lat": [
          50.503887,
          41.87194
         ],
         "line": {
          "color": "blue",
          "width": 1
         },
         "locationmode": "ISO-3",
         "lon": [
          4.469936,
          12.56738
         ],
         "mode": "lines",
         "opacity": 0.6,
         "type": "scattergeo"
        },
        {
         "lat": [
          50.503887,
          23.424076
         ],
         "line": {
          "color": "blue",
          "width": 1
         },
         "locationmode": "ISO-3",
         "lon": [
          4.469936,
          53.847818
         ],
         "mode": "lines",
         "opacity": 0.6,
         "type": "scattergeo"
        },
        {
         "lat": [
          50.503887,
          46.227638
         ],
         "line": {
          "color": "blue",
          "width": 1
         },
         "locationmode": "ISO-3",
         "lon": [
          4.469936,
          2.213749
         ],
         "mode": "lines",
         "opacity": 0.6,
         "type": "scattergeo"
        },
        {
         "lat": [
          50.503887,
          55.378051
         ],
         "line": {
          "color": "blue",
          "width": 1
         },
         "locationmode": "ISO-3",
         "lon": [
          4.469936,
          -3.435973
         ],
         "mode": "lines",
         "opacity": 0.6,
         "type": "scattergeo"
        },
        {
         "lat": [
          50.503887,
          47.516231
         ],
         "line": {
          "color": "blue",
          "width": 1
         },
         "locationmode": "ISO-3",
         "lon": [
          4.469936,
          14.550072
         ],
         "mode": "lines",
         "opacity": 0.6,
         "type": "scattergeo"
        },
        {
         "lat": [
          50.503887,
          36.204824
         ],
         "line": {
          "color": "blue",
          "width": 1
         },
         "locationmode": "ISO-3",
         "lon": [
          4.469936,
          138.252924
         ],
         "mode": "lines",
         "opacity": 0.6,
         "type": "scattergeo"
        },
        {
         "lat": [
          50.503887,
          31.046051
         ],
         "line": {
          "color": "blue",
          "width": 1
         },
         "locationmode": "ISO-3",
         "lon": [
          4.469936,
          34.851612
         ],
         "mode": "lines",
         "opacity": 0.6,
         "type": "scattergeo"
        },
        {
         "lat": [
          50.503887,
          -25.274398
         ],
         "line": {
          "color": "blue",
          "width": 1
         },
         "locationmode": "ISO-3",
         "lon": [
          4.469936,
          133.775136
         ],
         "mode": "lines",
         "opacity": 0.6,
         "type": "scattergeo"
        },
        {
         "lat": [
          50.503887,
          60.472024
         ],
         "line": {
          "color": "blue",
          "width": 1
         },
         "locationmode": "ISO-3",
         "lon": [
          4.469936,
          8.468946
         ],
         "mode": "lines",
         "opacity": 0.6,
         "type": "scattergeo"
        },
        {
         "lat": [
          50.503887,
          40.463667
         ],
         "line": {
          "color": "blue",
          "width": 1
         },
         "locationmode": "ISO-3",
         "lon": [
          4.469936,
          -3.74922
         ],
         "mode": "lines",
         "opacity": 0.6,
         "type": "scattergeo"
        },
        {
         "lat": [
          50.503887,
          45.1
         ],
         "line": {
          "color": "blue",
          "width": 1
         },
         "locationmode": "ISO-3",
         "lon": [
          4.469936,
          15.2
         ],
         "mode": "lines",
         "opacity": 0.6,
         "type": "scattergeo"
        },
        {
         "lat": [
          50.503887,
          42.733883
         ],
         "line": {
          "color": "blue",
          "width": 1
         },
         "locationmode": "ISO-3",
         "lon": [
          4.469936,
          25.48583
         ],
         "mode": "lines",
         "opacity": 0.6,
         "type": "scattergeo"
        },
        {
         "lat": [
          50.503887,
          -32.522779
         ],
         "line": {
          "color": "blue",
          "width": 1
         },
         "locationmode": "ISO-3",
         "lon": [
          4.469936,
          -55.765835
         ],
         "mode": "lines",
         "opacity": 0.6,
         "type": "scattergeo"
        },
        {
         "lat": [
          50.503887,
          -38.416097
         ],
         "line": {
          "color": "blue",
          "width": 1
         },
         "locationmode": "ISO-3",
         "lon": [
          4.469936,
          -63.616672
         ],
         "mode": "lines",
         "opacity": 0.6,
         "type": "scattergeo"
        },
        {
         "lat": [
          50.503887,
          39.074208
         ],
         "line": {
          "color": "blue",
          "width": 1
         },
         "locationmode": "ISO-3",
         "lon": [
          4.469936,
          21.824312
         ],
         "mode": "lines",
         "opacity": 0.6,
         "type": "scattergeo"
        },
        {
         "lat": [
          50.503887,
          61.892635
         ],
         "line": {
          "color": "blue",
          "width": 1
         },
         "locationmode": "ISO-3",
         "lon": [
          4.469936,
          -6.911806
         ],
         "mode": "lines",
         "opacity": 0.6,
         "type": "scattergeo"
        },
        {
         "lat": [
          50.503887,
          33.854721
         ],
         "line": {
          "color": "blue",
          "width": 1
         },
         "locationmode": "ISO-3",
         "lon": [
          4.469936,
          35.862285
         ],
         "mode": "lines",
         "opacity": 0.6,
         "type": "scattergeo"
        },
        {
         "lat": [
          50.503887,
          15.870032
         ],
         "line": {
          "color": "blue",
          "width": 1
         },
         "locationmode": "ISO-3",
         "lon": [
          4.469936,
          100.992541
         ],
         "mode": "lines",
         "opacity": 0.6,
         "type": "scattergeo"
        },
        {
         "lat": [
          60.472024,
          60.472024
         ],
         "line": {
          "color": "blue",
          "width": 1
         },
         "locationmode": "ISO-3",
         "lon": [
          8.468946,
          8.468946
         ],
         "mode": "lines",
         "opacity": 0.6,
         "type": "scattergeo"
        },
        {
         "lat": [
          60.472024,
          51.165691
         ],
         "line": {
          "color": "blue",
          "width": 1
         },
         "locationmode": "ISO-3",
         "lon": [
          8.468946,
          10.451526
         ],
         "mode": "lines",
         "opacity": 0.6,
         "type": "scattergeo"
        },
        {
         "lat": [
          60.472024,
          55.378051
         ],
         "line": {
          "color": "blue",
          "width": 1
         },
         "locationmode": "ISO-3",
         "lon": [
          8.468946,
          -3.435973
         ],
         "mode": "lines",
         "opacity": 0.6,
         "type": "scattergeo"
        },
        {
         "lat": [
          60.472024,
          60.128161
         ],
         "line": {
          "color": "blue",
          "width": 1
         },
         "locationmode": "ISO-3",
         "lon": [
          8.468946,
          18.643501
         ],
         "mode": "lines",
         "opacity": 0.6,
         "type": "scattergeo"
        },
        {
         "lat": [
          60.472024,
          31.046051
         ],
         "line": {
          "color": "blue",
          "width": 1
         },
         "locationmode": "ISO-3",
         "lon": [
          8.468946,
          34.851612
         ],
         "mode": "lines",
         "opacity": 0.6,
         "type": "scattergeo"
        },
        {
         "lat": [
          60.472024,
          40.463667
         ],
         "line": {
          "color": "blue",
          "width": 1
         },
         "locationmode": "ISO-3",
         "lon": [
          8.468946,
          -3.74922
         ],
         "mode": "lines",
         "opacity": 0.6,
         "type": "scattergeo"
        },
        {
         "lat": [
          60.472024,
          56.26392
         ],
         "line": {
          "color": "blue",
          "width": 1
         },
         "locationmode": "ISO-3",
         "lon": [
          8.468946,
          9.501785
         ],
         "mode": "lines",
         "opacity": 0.6,
         "type": "scattergeo"
        },
        {
         "lat": [
          60.472024,
          53.41291
         ],
         "line": {
          "color": "blue",
          "width": 1
         },
         "locationmode": "ISO-3",
         "lon": [
          8.468946,
          -8.24389
         ],
         "mode": "lines",
         "opacity": 0.6,
         "type": "scattergeo"
        },
        {
         "lat": [
          60.472024,
          58.595272
         ],
         "line": {
          "color": "blue",
          "width": 1
         },
         "locationmode": "ISO-3",
         "lon": [
          8.468946,
          25.013607
         ],
         "mode": "lines",
         "opacity": 0.6,
         "type": "scattergeo"
        },
        {
         "lat": [
          60.472024,
          51.919438
         ],
         "line": {
          "color": "blue",
          "width": 1
         },
         "locationmode": "ISO-3",
         "lon": [
          8.468946,
          19.145136
         ],
         "mode": "lines",
         "opacity": 0.6,
         "type": "scattergeo"
        },
        {
         "lat": [
          60.472024,
          64.963051
         ],
         "line": {
          "color": "blue",
          "width": 1
         },
         "locationmode": "ISO-3",
         "lon": [
          8.468946,
          -19.020835
         ],
         "mode": "lines",
         "opacity": 0.6,
         "type": "scattergeo"
        },
        {
         "lat": [
          60.472024,
          61.892635
         ],
         "line": {
          "color": "blue",
          "width": 1
         },
         "locationmode": "ISO-3",
         "lon": [
          8.468946,
          -6.911806
         ],
         "mode": "lines",
         "opacity": 0.6,
         "type": "scattergeo"
        },
        {
         "lat": [
          60.472024,
          61.92411
         ],
         "line": {
          "color": "blue",
          "width": 1
         },
         "locationmode": "ISO-3",
         "lon": [
          8.468946,
          25.748151
         ],
         "mode": "lines",
         "opacity": 0.6,
         "type": "scattergeo"
        },
        {
         "lat": [
          60.472024,
          35.907757
         ],
         "line": {
          "color": "blue",
          "width": 1
         },
         "locationmode": "ISO-3",
         "lon": [
          8.468946,
          127.766922
         ],
         "mode": "lines",
         "opacity": 0.6,
         "type": "scattergeo"
        },
        {
         "lat": [
          51.919438,
          51.165691
         ],
         "line": {
          "color": "blue",
          "width": 1
         },
         "locationmode": "ISO-3",
         "lon": [
          19.145136,
          10.451526
         ],
         "mode": "lines",
         "opacity": 0.6,
         "type": "scattergeo"
        },
        {
         "lat": [
          51.919438,
          51.919438
         ],
         "line": {
          "color": "blue",
          "width": 1
         },
         "locationmode": "ISO-3",
         "lon": [
          19.145136,
          19.145136
         ],
         "mode": "lines",
         "opacity": 0.6,
         "type": "scattergeo"
        },
        {
         "lat": [
          51.919438,
          39.399872
         ],
         "line": {
          "color": "blue",
          "width": 1
         },
         "locationmode": "ISO-3",
         "lon": [
          19.145136,
          -8.224454
         ],
         "mode": "lines",
         "opacity": 0.6,
         "type": "scattergeo"
        },
        {
         "lat": [
          51.919438,
          46.818188
         ],
         "line": {
          "color": "blue",
          "width": 1
         },
         "locationmode": "ISO-3",
         "lon": [
          19.145136,
          8.227512
         ],
         "mode": "lines",
         "opacity": 0.6,
         "type": "scattergeo"
        },
        {
         "lat": [
          51.919438,
          55.378051
         ],
         "line": {
          "color": "blue",
          "width": 1
         },
         "locationmode": "ISO-3",
         "lon": [
          19.145136,
          -3.435973
         ],
         "mode": "lines",
         "opacity": 0.6,
         "type": "scattergeo"
        },
        {
         "lat": [
          51.919438,
          40.463667
         ],
         "line": {
          "color": "blue",
          "width": 1
         },
         "locationmode": "ISO-3",
         "lon": [
          19.145136,
          -3.74922
         ],
         "mode": "lines",
         "opacity": 0.6,
         "type": "scattergeo"
        },
        {
         "lat": [
          51.919438,
          35.126413
         ],
         "line": {
          "color": "blue",
          "width": 1
         },
         "locationmode": "ISO-3",
         "lon": [
          19.145136,
          33.429859
         ],
         "mode": "lines",
         "opacity": 0.6,
         "type": "scattergeo"
        },
        {
         "lat": [
          51.919438,
          55.169438
         ],
         "line": {
          "color": "blue",
          "width": 1
         },
         "locationmode": "ISO-3",
         "lon": [
          19.145136,
          23.881275
         ],
         "mode": "lines",
         "opacity": 0.6,
         "type": "scattergeo"
        },
        {
         "lat": [
          51.919438,
          39.074208
         ],
         "line": {
          "color": "blue",
          "width": 1
         },
         "locationmode": "ISO-3",
         "lon": [
          19.145136,
          21.824312
         ],
         "mode": "lines",
         "opacity": 0.6,
         "type": "scattergeo"
        },
        {
         "lat": [
          51.919438,
          47.162494
         ],
         "line": {
          "color": "blue",
          "width": 1
         },
         "locationmode": "ISO-3",
         "lon": [
          19.145136,
          19.503304
         ],
         "mode": "lines",
         "opacity": 0.6,
         "type": "scattergeo"
        },
        {
         "lat": [
          51.919438,
          49.817492
         ],
         "line": {
          "color": "blue",
          "width": 1
         },
         "locationmode": "ISO-3",
         "lon": [
          19.145136,
          15.472962
         ],
         "mode": "lines",
         "opacity": 0.6,
         "type": "scattergeo"
        },
        {
         "lat": [
          51.919438,
          48.669026
         ],
         "line": {
          "color": "blue",
          "width": 1
         },
         "locationmode": "ISO-3",
         "lon": [
          19.145136,
          19.699024
         ],
         "mode": "lines",
         "opacity": 0.6,
         "type": "scattergeo"
        },
        {
         "lat": [
          51.919438,
          60.128161
         ],
         "line": {
          "color": "blue",
          "width": 1
         },
         "locationmode": "ISO-3",
         "lon": [
          19.145136,
          18.643501
         ],
         "mode": "lines",
         "opacity": 0.6,
         "type": "scattergeo"
        },
        {
         "lat": [
          51.919438,
          -14.235004
         ],
         "line": {
          "color": "blue",
          "width": 1
         },
         "locationmode": "ISO-3",
         "lon": [
          19.145136,
          -51.92528
         ],
         "mode": "lines",
         "opacity": 0.6,
         "type": "scattergeo"
        },
        {
         "lat": [
          51.919438,
          43.915886
         ],
         "line": {
          "color": "blue",
          "width": 1
         },
         "locationmode": "ISO-3",
         "lon": [
          19.145136,
          17.679076
         ],
         "mode": "lines",
         "opacity": 0.6,
         "type": "scattergeo"
        },
        {
         "lat": [
          51.919438,
          31.046051
         ],
         "line": {
          "color": "blue",
          "width": 1
         },
         "locationmode": "ISO-3",
         "lon": [
          19.145136,
          34.851612
         ],
         "mode": "lines",
         "opacity": 0.6,
         "type": "scattergeo"
        },
        {
         "lat": [
          51.919438,
          48.019573
         ],
         "line": {
          "color": "blue",
          "width": 1
         },
         "locationmode": "ISO-3",
         "lon": [
          19.145136,
          66.923684
         ],
         "mode": "lines",
         "opacity": 0.6,
         "type": "scattergeo"
        },
        {
         "lat": [
          51.919438,
          53.41291
         ],
         "line": {
          "color": "blue",
          "width": 1
         },
         "locationmode": "ISO-3",
         "lon": [
          19.145136,
          -8.24389
         ],
         "mode": "lines",
         "opacity": 0.6,
         "type": "scattergeo"
        },
        {
         "lat": [
          51.919438,
          -16.290154
         ],
         "line": {
          "color": "blue",
          "width": 1
         },
         "locationmode": "ISO-3",
         "lon": [
          19.145136,
          -63.588653
         ],
         "mode": "lines",
         "opacity": 0.6,
         "type": "scattergeo"
        },
        {
         "lat": [
          51.919438,
          53.709807
         ],
         "line": {
          "color": "blue",
          "width": 1
         },
         "locationmode": "ISO-3",
         "lon": [
          19.145136,
          27.953389
         ],
         "mode": "lines",
         "opacity": 0.6,
         "type": "scattergeo"
        },
        {
         "lat": [
          47.162494,
          47.162494
         ],
         "line": {
          "color": "blue",
          "width": 1
         },
         "locationmode": "ISO-3",
         "lon": [
          19.503304,
          19.503304
         ],
         "mode": "lines",
         "opacity": 0.6,
         "type": "scattergeo"
        },
        {
         "lat": [
          47.162494,
          49.817492
         ],
         "line": {
          "color": "blue",
          "width": 1
         },
         "locationmode": "ISO-3",
         "lon": [
          19.503304,
          15.472962
         ],
         "mode": "lines",
         "opacity": 0.6,
         "type": "scattergeo"
        },
        {
         "lat": [
          47.162494,
          31.046051
         ],
         "line": {
          "color": "blue",
          "width": 1
         },
         "locationmode": "ISO-3",
         "lon": [
          19.503304,
          34.851612
         ],
         "mode": "lines",
         "opacity": 0.6,
         "type": "scattergeo"
        },
        {
         "lat": [
          47.162494,
          47.516231
         ],
         "line": {
          "color": "blue",
          "width": 1
         },
         "locationmode": "ISO-3",
         "lon": [
          19.503304,
          14.550072
         ],
         "mode": "lines",
         "opacity": 0.6,
         "type": "scattergeo"
        },
        {
         "lat": [
          47.162494,
          51.919438
         ],
         "line": {
          "color": "blue",
          "width": 1
         },
         "locationmode": "ISO-3",
         "lon": [
          19.503304,
          19.145136
         ],
         "mode": "lines",
         "opacity": 0.6,
         "type": "scattergeo"
        },
        {
         "lat": [
          47.162494,
          44.016521
         ],
         "line": {
          "color": "blue",
          "width": 1
         },
         "locationmode": "ISO-3",
         "lon": [
          19.503304,
          21.005859
         ],
         "mode": "lines",
         "opacity": 0.6,
         "type": "scattergeo"
        },
        {
         "lat": [
          47.162494,
          55.378051
         ],
         "line": {
          "color": "blue",
          "width": 1
         },
         "locationmode": "ISO-3",
         "lon": [
          19.503304,
          -3.435973
         ],
         "mode": "lines",
         "opacity": 0.6,
         "type": "scattergeo"
        },
        {
         "lat": [
          47.162494,
          39.074208
         ],
         "line": {
          "color": "blue",
          "width": 1
         },
         "locationmode": "ISO-3",
         "lon": [
          19.503304,
          21.824312
         ],
         "mode": "lines",
         "opacity": 0.6,
         "type": "scattergeo"
        },
        {
         "lat": [
          47.162494,
          46.227638
         ],
         "line": {
          "color": "blue",
          "width": 1
         },
         "locationmode": "ISO-3",
         "lon": [
          19.503304,
          2.213749
         ],
         "mode": "lines",
         "opacity": 0.6,
         "type": "scattergeo"
        },
        {
         "lat": [
          47.162494,
          38.963745
         ],
         "line": {
          "color": "blue",
          "width": 1
         },
         "locationmode": "ISO-3",
         "lon": [
          19.503304,
          35.243322
         ],
         "mode": "lines",
         "opacity": 0.6,
         "type": "scattergeo"
        },
        {
         "lat": [
          47.162494,
          35.126413
         ],
         "line": {
          "color": "blue",
          "width": 1
         },
         "locationmode": "ISO-3",
         "lon": [
          19.503304,
          33.429859
         ],
         "mode": "lines",
         "opacity": 0.6,
         "type": "scattergeo"
        },
        {
         "lat": [
          47.162494,
          60.472024
         ],
         "line": {
          "color": "blue",
          "width": 1
         },
         "locationmode": "ISO-3",
         "lon": [
          19.503304,
          8.468946
         ],
         "mode": "lines",
         "opacity": 0.6,
         "type": "scattergeo"
        },
        {
         "lat": [
          47.162494,
          50.503887
         ],
         "line": {
          "color": "blue",
          "width": 1
         },
         "locationmode": "ISO-3",
         "lon": [
          19.503304,
          4.469936
         ],
         "mode": "lines",
         "opacity": 0.6,
         "type": "scattergeo"
        },
        {
         "lat": [
          47.162494,
          52.132633
         ],
         "line": {
          "color": "blue",
          "width": 1
         },
         "locationmode": "ISO-3",
         "lon": [
          19.503304,
          5.291266
         ],
         "mode": "lines",
         "opacity": 0.6,
         "type": "scattergeo"
        },
        {
         "lat": [
          47.162494,
          45.1
         ],
         "line": {
          "color": "blue",
          "width": 1
         },
         "locationmode": "ISO-3",
         "lon": [
          19.503304,
          15.2
         ],
         "mode": "lines",
         "opacity": 0.6,
         "type": "scattergeo"
        },
        {
         "lat": [
          47.162494,
          45.943161
         ],
         "line": {
          "color": "blue",
          "width": 1
         },
         "locationmode": "ISO-3",
         "lon": [
          19.503304,
          24.96676
         ],
         "mode": "lines",
         "opacity": 0.6,
         "type": "scattergeo"
        },
        {
         "lat": [
          47.162494,
          35.86166
         ],
         "line": {
          "color": "blue",
          "width": 1
         },
         "locationmode": "ISO-3",
         "lon": [
          19.503304,
          104.195397
         ],
         "mode": "lines",
         "opacity": 0.6,
         "type": "scattergeo"
        },
        {
         "lat": [
          47.162494,
          53.41291
         ],
         "line": {
          "color": "blue",
          "width": 1
         },
         "locationmode": "ISO-3",
         "lon": [
          19.503304,
          -8.24389
         ],
         "mode": "lines",
         "opacity": 0.6,
         "type": "scattergeo"
        },
        {
         "lat": [
          47.162494,
          -38.416097
         ],
         "line": {
          "color": "blue",
          "width": 1
         },
         "locationmode": "ISO-3",
         "lon": [
          19.503304,
          -63.616672
         ],
         "mode": "lines",
         "opacity": 0.6,
         "type": "scattergeo"
        },
        {
         "lat": [
          42.733883,
          37.09024
         ],
         "line": {
          "color": "blue",
          "width": 1
         },
         "locationmode": "ISO-3",
         "lon": [
          25.48583,
          -95.712891
         ],
         "mode": "lines",
         "opacity": 0.6,
         "type": "scattergeo"
        },
        {
         "lat": [
          42.733883,
          42.733883
         ],
         "line": {
          "color": "blue",
          "width": 1
         },
         "locationmode": "ISO-3",
         "lon": [
          25.48583,
          25.48583
         ],
         "mode": "lines",
         "opacity": 0.6,
         "type": "scattergeo"
        },
        {
         "lat": [
          42.733883,
          43.915886
         ],
         "line": {
          "color": "blue",
          "width": 1
         },
         "locationmode": "ISO-3",
         "lon": [
          25.48583,
          17.679076
         ],
         "mode": "lines",
         "opacity": 0.6,
         "type": "scattergeo"
        },
        {
         "lat": [
          42.733883,
          61.52401
         ],
         "line": {
          "color": "blue",
          "width": 1
         },
         "locationmode": "ISO-3",
         "lon": [
          25.48583,
          105.318756
         ],
         "mode": "lines",
         "opacity": 0.6,
         "type": "scattergeo"
        },
        {
         "lat": [
          42.733883,
          35.126413
         ],
         "line": {
          "color": "blue",
          "width": 1
         },
         "locationmode": "ISO-3",
         "lon": [
          25.48583,
          33.429859
         ],
         "mode": "lines",
         "opacity": 0.6,
         "type": "scattergeo"
        },
        {
         "lat": [
          42.733883,
          40.143105
         ],
         "line": {
          "color": "blue",
          "width": 1
         },
         "locationmode": "ISO-3",
         "lon": [
          25.48583,
          47.576927
         ],
         "mode": "lines",
         "opacity": 0.6,
         "type": "scattergeo"
        },
        {
         "lat": [
          42.733883,
          39.074208
         ],
         "line": {
          "color": "blue",
          "width": 1
         },
         "locationmode": "ISO-3",
         "lon": [
          25.48583,
          21.824312
         ],
         "mode": "lines",
         "opacity": 0.6,
         "type": "scattergeo"
        },
        {
         "lat": [
          42.733883,
          39.399872
         ],
         "line": {
          "color": "blue",
          "width": 1
         },
         "locationmode": "ISO-3",
         "lon": [
          25.48583,
          -8.224454
         ],
         "mode": "lines",
         "opacity": 0.6,
         "type": "scattergeo"
        },
        {
         "lat": [
          42.733883,
          38.963745
         ],
         "line": {
          "color": "blue",
          "width": 1
         },
         "locationmode": "ISO-3",
         "lon": [
          25.48583,
          35.243322
         ],
         "mode": "lines",
         "opacity": 0.6,
         "type": "scattergeo"
        },
        {
         "lat": [
          42.733883,
          46.818188
         ],
         "line": {
          "color": "blue",
          "width": 1
         },
         "locationmode": "ISO-3",
         "lon": [
          25.48583,
          8.227512
         ],
         "mode": "lines",
         "opacity": 0.6,
         "type": "scattergeo"
        },
        {
         "lat": [
          42.733883,
          51.165691
         ],
         "line": {
          "color": "blue",
          "width": 1
         },
         "locationmode": "ISO-3",
         "lon": [
          25.48583,
          10.451526
         ],
         "mode": "lines",
         "opacity": 0.6,
         "type": "scattergeo"
        },
        {
         "lat": [
          42.733883,
          52.132633
         ],
         "line": {
          "color": "blue",
          "width": 1
         },
         "locationmode": "ISO-3",
         "lon": [
          25.48583,
          5.291266
         ],
         "mode": "lines",
         "opacity": 0.6,
         "type": "scattergeo"
        },
        {
         "lat": [
          42.733883,
          32.427908
         ],
         "line": {
          "color": "blue",
          "width": 1
         },
         "locationmode": "ISO-3",
         "lon": [
          25.48583,
          53.688046
         ],
         "mode": "lines",
         "opacity": 0.6,
         "type": "scattergeo"
        },
        {
         "lat": [
          42.733883,
          49.817492
         ],
         "line": {
          "color": "blue",
          "width": 1
         },
         "locationmode": "ISO-3",
         "lon": [
          25.48583,
          15.472962
         ],
         "mode": "lines",
         "opacity": 0.6,
         "type": "scattergeo"
        },
        {
         "lat": [
          42.733883,
          31.046051
         ],
         "line": {
          "color": "blue",
          "width": 1
         },
         "locationmode": "ISO-3",
         "lon": [
          25.48583,
          34.851612
         ],
         "mode": "lines",
         "opacity": 0.6,
         "type": "scattergeo"
        },
        {
         "lat": [
          42.733883,
          25.354826
         ],
         "line": {
          "color": "blue",
          "width": 1
         },
         "locationmode": "ISO-3",
         "lon": [
          25.48583,
          51.183884
         ],
         "mode": "lines",
         "opacity": 0.6,
         "type": "scattergeo"
        },
        {
         "lat": [
          42.733883,
          51.919438
         ],
         "line": {
          "color": "blue",
          "width": 1
         },
         "locationmode": "ISO-3",
         "lon": [
          25.48583,
          19.145136
         ],
         "mode": "lines",
         "opacity": 0.6,
         "type": "scattergeo"
        },
        {
         "lat": [
          42.733883,
          40.463667
         ],
         "line": {
          "color": "blue",
          "width": 1
         },
         "locationmode": "ISO-3",
         "lon": [
          25.48583,
          -3.74922
         ],
         "mode": "lines",
         "opacity": 0.6,
         "type": "scattergeo"
        },
        {
         "lat": [
          42.733883,
          48.019573
         ],
         "line": {
          "color": "blue",
          "width": 1
         },
         "locationmode": "ISO-3",
         "lon": [
          25.48583,
          66.923684
         ],
         "mode": "lines",
         "opacity": 0.6,
         "type": "scattergeo"
        },
        {
         "lat": [
          42.733883,
          35.937496
         ],
         "line": {
          "color": "blue",
          "width": 1
         },
         "locationmode": "ISO-3",
         "lon": [
          25.48583,
          14.375416
         ],
         "mode": "lines",
         "opacity": 0.6,
         "type": "scattergeo"
        },
        {
         "lat": [
          37.09024,
          37.09024
         ],
         "line": {
          "color": "blue",
          "width": 1
         },
         "locationmode": "ISO-3",
         "lon": [
          -95.712891,
          -95.712891
         ],
         "mode": "lines",
         "opacity": 0.6,
         "type": "scattergeo"
        },
        {
         "lat": [
          37.09024,
          -14.235004
         ],
         "line": {
          "color": "blue",
          "width": 1
         },
         "locationmode": "ISO-3",
         "lon": [
          -95.712891,
          -51.92528
         ],
         "mode": "lines",
         "opacity": 0.6,
         "type": "scattergeo"
        },
        {
         "lat": [
          37.09024,
          35.86166
         ],
         "line": {
          "color": "blue",
          "width": 1
         },
         "locationmode": "ISO-3",
         "lon": [
          -95.712891,
          104.195397
         ],
         "mode": "lines",
         "opacity": 0.6,
         "type": "scattergeo"
        },
        {
         "lat": [
          37.09024,
          46.227638
         ],
         "line": {
          "color": "blue",
          "width": 1
         },
         "locationmode": "ISO-3",
         "lon": [
          -95.712891,
          2.213749
         ],
         "mode": "lines",
         "opacity": 0.6,
         "type": "scattergeo"
        },
        {
         "lat": [
          37.09024,
          48.669026
         ],
         "line": {
          "color": "blue",
          "width": 1
         },
         "locationmode": "ISO-3",
         "lon": [
          -95.712891,
          19.699024
         ],
         "mode": "lines",
         "opacity": 0.6,
         "type": "scattergeo"
        },
        {
         "lat": [
          37.09024,
          55.378051
         ],
         "line": {
          "color": "blue",
          "width": 1
         },
         "locationmode": "ISO-3",
         "lon": [
          -95.712891,
          -3.435973
         ],
         "mode": "lines",
         "opacity": 0.6,
         "type": "scattergeo"
        },
        {
         "lat": [
          37.09024,
          60.128161
         ],
         "line": {
          "color": "blue",
          "width": 1
         },
         "locationmode": "ISO-3",
         "lon": [
          -95.712891,
          18.643501
         ],
         "mode": "lines",
         "opacity": 0.6,
         "type": "scattergeo"
        },
        {
         "lat": [
          37.09024,
          60.472024
         ],
         "line": {
          "color": "blue",
          "width": 1
         },
         "locationmode": "ISO-3",
         "lon": [
          -95.712891,
          8.468946
         ],
         "mode": "lines",
         "opacity": 0.6,
         "type": "scattergeo"
        },
        {
         "lat": [
          37.09024,
          61.92411
         ],
         "line": {
          "color": "blue",
          "width": 1
         },
         "locationmode": "ISO-3",
         "lon": [
          -95.712891,
          25.748151
         ],
         "mode": "lines",
         "opacity": 0.6,
         "type": "scattergeo"
        },
        {
         "lat": [
          37.09024,
          52.132633
         ],
         "line": {
          "color": "blue",
          "width": 1
         },
         "locationmode": "ISO-3",
         "lon": [
          -95.712891,
          5.291266
         ],
         "mode": "lines",
         "opacity": 0.6,
         "type": "scattergeo"
        },
        {
         "lat": [
          37.09024,
          4.570868
         ],
         "line": {
          "color": "blue",
          "width": 1
         },
         "locationmode": "ISO-3",
         "lon": [
          -95.712891,
          -74.297333
         ],
         "mode": "lines",
         "opacity": 0.6,
         "type": "scattergeo"
        },
        {
         "lat": [
          37.09024,
          51.165691
         ],
         "line": {
          "color": "blue",
          "width": 1
         },
         "locationmode": "ISO-3",
         "lon": [
          -95.712891,
          10.451526
         ],
         "mode": "lines",
         "opacity": 0.6,
         "type": "scattergeo"
        },
        {
         "lat": [
          37.09024,
          56.26392
         ],
         "line": {
          "color": "blue",
          "width": 1
         },
         "locationmode": "ISO-3",
         "lon": [
          -95.712891,
          9.501785
         ],
         "mode": "lines",
         "opacity": 0.6,
         "type": "scattergeo"
        },
        {
         "lat": [
          37.09024,
          51.919438
         ],
         "line": {
          "color": "blue",
          "width": 1
         },
         "locationmode": "ISO-3",
         "lon": [
          -95.712891,
          19.145136
         ],
         "mode": "lines",
         "opacity": 0.6,
         "type": "scattergeo"
        },
        {
         "lat": [
          37.09024,
          9.748917
         ],
         "line": {
          "color": "blue",
          "width": 1
         },
         "locationmode": "ISO-3",
         "lon": [
          -95.712891,
          -83.753428
         ],
         "mode": "lines",
         "opacity": 0.6,
         "type": "scattergeo"
        },
        {
         "lat": [
          37.09024,
          -38.416097
         ],
         "line": {
          "color": "blue",
          "width": 1
         },
         "locationmode": "ISO-3",
         "lon": [
          -95.712891,
          -63.616672
         ],
         "mode": "lines",
         "opacity": 0.6,
         "type": "scattergeo"
        },
        {
         "lat": [
          37.09024,
          46.818188
         ],
         "line": {
          "color": "blue",
          "width": 1
         },
         "locationmode": "ISO-3",
         "lon": [
          -95.712891,
          8.227512
         ],
         "mode": "lines",
         "opacity": 0.6,
         "type": "scattergeo"
        },
        {
         "lat": [
          37.09024,
          15.783471
         ],
         "line": {
          "color": "blue",
          "width": 1
         },
         "locationmode": "ISO-3",
         "lon": [
          -95.712891,
          -90.230759
         ],
         "mode": "lines",
         "opacity": 0.6,
         "type": "scattergeo"
        },
        {
         "lat": [
          37.09024,
          31.046051
         ],
         "line": {
          "color": "blue",
          "width": 1
         },
         "locationmode": "ISO-3",
         "lon": [
          -95.712891,
          34.851612
         ],
         "mode": "lines",
         "opacity": 0.6,
         "type": "scattergeo"
        },
        {
         "lat": [
          37.09024,
          18.109581
         ],
         "line": {
          "color": "blue",
          "width": 1
         },
         "locationmode": "ISO-3",
         "lon": [
          -95.712891,
          -77.297508
         ],
         "mode": "lines",
         "opacity": 0.6,
         "type": "scattergeo"
        },
        {
         "lat": [
          37.09024,
          8.537981
         ],
         "line": {
          "color": "blue",
          "width": 1
         },
         "locationmode": "ISO-3",
         "lon": [
          -95.712891,
          -80.782127
         ],
         "mode": "lines",
         "opacity": 0.6,
         "type": "scattergeo"
        },
        {
         "lat": [
          37.09024,
          -32.522779
         ],
         "line": {
          "color": "blue",
          "width": 1
         },
         "locationmode": "ISO-3",
         "lon": [
          -95.712891,
          -55.765835
         ],
         "mode": "lines",
         "opacity": 0.6,
         "type": "scattergeo"
        },
        {
         "lat": [
          38.963745,
          51.165691
         ],
         "line": {
          "color": "blue",
          "width": 1
         },
         "locationmode": "ISO-3",
         "lon": [
          35.243322,
          10.451526
         ],
         "mode": "lines",
         "opacity": 0.6,
         "type": "scattergeo"
        },
        {
         "lat": [
          38.963745,
          46.227638
         ],
         "line": {
          "color": "blue",
          "width": 1
         },
         "locationmode": "ISO-3",
         "lon": [
          35.243322,
          2.213749
         ],
         "mode": "lines",
         "opacity": 0.6,
         "type": "scattergeo"
        },
        {
         "lat": [
          38.963745,
          38.963745
         ],
         "line": {
          "color": "blue",
          "width": 1
         },
         "locationmode": "ISO-3",
         "lon": [
          35.243322,
          35.243322
         ],
         "mode": "lines",
         "opacity": 0.6,
         "type": "scattergeo"
        },
        {
         "lat": [
          38.963745,
          50.503887
         ],
         "line": {
          "color": "blue",
          "width": 1
         },
         "locationmode": "ISO-3",
         "lon": [
          35.243322,
          4.469936
         ],
         "mode": "lines",
         "opacity": 0.6,
         "type": "scattergeo"
        },
        {
         "lat": [
          38.963745,
          52.132633
         ],
         "line": {
          "color": "blue",
          "width": 1
         },
         "locationmode": "ISO-3",
         "lon": [
          35.243322,
          5.291266
         ],
         "mode": "lines",
         "opacity": 0.6,
         "type": "scattergeo"
        },
        {
         "lat": [
          38.963745,
          39.399872
         ],
         "line": {
          "color": "blue",
          "width": 1
         },
         "locationmode": "ISO-3",
         "lon": [
          35.243322,
          -8.224454
         ],
         "mode": "lines",
         "opacity": 0.6,
         "type": "scattergeo"
        },
        {
         "lat": [
          38.963745,
          45.943161
         ],
         "line": {
          "color": "blue",
          "width": 1
         },
         "locationmode": "ISO-3",
         "lon": [
          35.243322,
          24.96676
         ],
         "mode": "lines",
         "opacity": 0.6,
         "type": "scattergeo"
        },
        {
         "lat": [
          38.963745,
          48.379433
         ],
         "line": {
          "color": "blue",
          "width": 1
         },
         "locationmode": "ISO-3",
         "lon": [
          35.243322,
          31.16558
         ],
         "mode": "lines",
         "opacity": 0.6,
         "type": "scattergeo"
        },
        {
         "lat": [
          38.963745,
          4.570868
         ],
         "line": {
          "color": "blue",
          "width": 1
         },
         "locationmode": "ISO-3",
         "lon": [
          35.243322,
          -74.297333
         ],
         "mode": "lines",
         "opacity": 0.6,
         "type": "scattergeo"
        },
        {
         "lat": [
          38.963745,
          55.378051
         ],
         "line": {
          "color": "blue",
          "width": 1
         },
         "locationmode": "ISO-3",
         "lon": [
          35.243322,
          -3.435973
         ],
         "mode": "lines",
         "opacity": 0.6,
         "type": "scattergeo"
        },
        {
         "lat": [
          38.963745,
          39.074208
         ],
         "line": {
          "color": "blue",
          "width": 1
         },
         "locationmode": "ISO-3",
         "lon": [
          35.243322,
          21.824312
         ],
         "mode": "lines",
         "opacity": 0.6,
         "type": "scattergeo"
        },
        {
         "lat": [
          38.963745,
          49.817492
         ],
         "line": {
          "color": "blue",
          "width": 1
         },
         "locationmode": "ISO-3",
         "lon": [
          35.243322,
          15.472962
         ],
         "mode": "lines",
         "opacity": 0.6,
         "type": "scattergeo"
        },
        {
         "lat": [
          38.963745,
          47.516231
         ],
         "line": {
          "color": "blue",
          "width": 1
         },
         "locationmode": "ISO-3",
         "lon": [
          35.243322,
          14.550072
         ],
         "mode": "lines",
         "opacity": 0.6,
         "type": "scattergeo"
        },
        {
         "lat": [
          38.963745,
          47.162494
         ],
         "line": {
          "color": "blue",
          "width": 1
         },
         "locationmode": "ISO-3",
         "lon": [
          35.243322,
          19.503304
         ],
         "mode": "lines",
         "opacity": 0.6,
         "type": "scattergeo"
        },
        {
         "lat": [
          38.963745,
          43.915886
         ],
         "line": {
          "color": "blue",
          "width": 1
         },
         "locationmode": "ISO-3",
         "lon": [
          35.243322,
          17.679076
         ],
         "mode": "lines",
         "opacity": 0.6,
         "type": "scattergeo"
        },
        {
         "lat": [
          38.963745,
          -25.274398
         ],
         "line": {
          "color": "blue",
          "width": 1
         },
         "locationmode": "ISO-3",
         "lon": [
          35.243322,
          133.775136
         ],
         "mode": "lines",
         "opacity": 0.6,
         "type": "scattergeo"
        },
        {
         "lat": [
          38.963745,
          42.733883
         ],
         "line": {
          "color": "blue",
          "width": 1
         },
         "locationmode": "ISO-3",
         "lon": [
          35.243322,
          25.48583
         ],
         "mode": "lines",
         "opacity": 0.6,
         "type": "scattergeo"
        },
        {
         "lat": [
          38.963745,
          60.128161
         ],
         "line": {
          "color": "blue",
          "width": 1
         },
         "locationmode": "ISO-3",
         "lon": [
          35.243322,
          18.643501
         ],
         "mode": "lines",
         "opacity": 0.6,
         "type": "scattergeo"
        },
        {
         "lat": [
          38.963745,
          -14.235004
         ],
         "line": {
          "color": "blue",
          "width": 1
         },
         "locationmode": "ISO-3",
         "lon": [
          35.243322,
          -51.92528
         ],
         "mode": "lines",
         "opacity": 0.6,
         "type": "scattergeo"
        },
        {
         "lat": [
          38.963745,
          46.818188
         ],
         "line": {
          "color": "blue",
          "width": 1
         },
         "locationmode": "ISO-3",
         "lon": [
          35.243322,
          8.227512
         ],
         "mode": "lines",
         "opacity": 0.6,
         "type": "scattergeo"
        },
        {
         "lat": [
          38.963745,
          28.033886
         ],
         "line": {
          "color": "blue",
          "width": 1
         },
         "locationmode": "ISO-3",
         "lon": [
          35.243322,
          1.659626
         ],
         "mode": "lines",
         "opacity": 0.6,
         "type": "scattergeo"
        },
        {
         "lat": [
          35.86166,
          51.165691
         ],
         "line": {
          "color": "blue",
          "width": 1
         },
         "locationmode": "ISO-3",
         "lon": [
          104.195397,
          10.451526
         ],
         "mode": "lines",
         "opacity": 0.6,
         "type": "scattergeo"
        },
        {
         "lat": [
          35.86166,
          7.946527
         ],
         "line": {
          "color": "blue",
          "width": 1
         },
         "locationmode": "ISO-3",
         "lon": [
          104.195397,
          -1.023194
         ],
         "mode": "lines",
         "opacity": 0.6,
         "type": "scattergeo"
        },
        {
         "lat": [
          35.86166,
          39.399872
         ],
         "line": {
          "color": "blue",
          "width": 1
         },
         "locationmode": "ISO-3",
         "lon": [
          104.195397,
          -8.224454
         ],
         "mode": "lines",
         "opacity": 0.6,
         "type": "scattergeo"
        },
        {
         "lat": [
          35.86166,
          45.943161
         ],
         "line": {
          "color": "blue",
          "width": 1
         },
         "locationmode": "ISO-3",
         "lon": [
          104.195397,
          24.96676
         ],
         "mode": "lines",
         "opacity": 0.6,
         "type": "scattergeo"
        },
        {
         "lat": [
          35.86166,
          60.128161
         ],
         "line": {
          "color": "blue",
          "width": 1
         },
         "locationmode": "ISO-3",
         "lon": [
          104.195397,
          18.643501
         ],
         "mode": "lines",
         "opacity": 0.6,
         "type": "scattergeo"
        },
        {
         "lat": [
          35.86166,
          55.378051
         ],
         "line": {
          "color": "blue",
          "width": 1
         },
         "locationmode": "ISO-3",
         "lon": [
          104.195397,
          -3.435973
         ],
         "mode": "lines",
         "opacity": 0.6,
         "type": "scattergeo"
        },
        {
         "lat": [
          35.86166,
          35.86166
         ],
         "line": {
          "color": "blue",
          "width": 1
         },
         "locationmode": "ISO-3",
         "lon": [
          104.195397,
          104.195397
         ],
         "mode": "lines",
         "opacity": 0.6,
         "type": "scattergeo"
        },
        {
         "lat": [
          35.86166,
          46.227638
         ],
         "line": {
          "color": "blue",
          "width": 1
         },
         "locationmode": "ISO-3",
         "lon": [
          104.195397,
          2.213749
         ],
         "mode": "lines",
         "opacity": 0.6,
         "type": "scattergeo"
        },
        {
         "lat": [
          35.86166,
          36.204824
         ],
         "line": {
          "color": "blue",
          "width": 1
         },
         "locationmode": "ISO-3",
         "lon": [
          104.195397,
          138.252924
         ],
         "mode": "lines",
         "opacity": 0.6,
         "type": "scattergeo"
        },
        {
         "lat": [
          35.86166,
          -9.189967
         ],
         "line": {
          "color": "blue",
          "width": 1
         },
         "locationmode": "ISO-3",
         "lon": [
          104.195397,
          -75.015152
         ],
         "mode": "lines",
         "opacity": 0.6,
         "type": "scattergeo"
        },
        {
         "lat": [
          35.86166,
          -32.522779
         ],
         "line": {
          "color": "blue",
          "width": 1
         },
         "locationmode": "ISO-3",
         "lon": [
          104.195397,
          -55.765835
         ],
         "mode": "lines",
         "opacity": 0.6,
         "type": "scattergeo"
        },
        {
         "lat": [
          35.86166,
          22.396428
         ],
         "line": {
          "color": "blue",
          "width": 1
         },
         "locationmode": "ISO-3",
         "lon": [
          104.195397,
          114.109497
         ],
         "mode": "lines",
         "opacity": 0.6,
         "type": "scattergeo"
        },
        {
         "lat": [
          56.26392,
          56.26392
         ],
         "line": {
          "color": "blue",
          "width": 1
         },
         "locationmode": "ISO-3",
         "lon": [
          9.501785,
          9.501785
         ],
         "mode": "lines",
         "opacity": 0.6,
         "type": "scattergeo"
        },
        {
         "lat": [
          56.26392,
          40.463667
         ],
         "line": {
          "color": "blue",
          "width": 1
         },
         "locationmode": "ISO-3",
         "lon": [
          9.501785,
          -3.74922
         ],
         "mode": "lines",
         "opacity": 0.6,
         "type": "scattergeo"
        },
        {
         "lat": [
          56.26392,
          60.128161
         ],
         "line": {
          "color": "blue",
          "width": 1
         },
         "locationmode": "ISO-3",
         "lon": [
          9.501785,
          18.643501
         ],
         "mode": "lines",
         "opacity": 0.6,
         "type": "scattergeo"
        },
        {
         "lat": [
          56.26392,
          -25.274398
         ],
         "line": {
          "color": "blue",
          "width": 1
         },
         "locationmode": "ISO-3",
         "lon": [
          9.501785,
          133.775136
         ],
         "mode": "lines",
         "opacity": 0.6,
         "type": "scattergeo"
        },
        {
         "lat": [
          56.26392,
          61.92411
         ],
         "line": {
          "color": "blue",
          "width": 1
         },
         "locationmode": "ISO-3",
         "lon": [
          9.501785,
          25.748151
         ],
         "mode": "lines",
         "opacity": 0.6,
         "type": "scattergeo"
        },
        {
         "lat": [
          56.26392,
          60.472024
         ],
         "line": {
          "color": "blue",
          "width": 1
         },
         "locationmode": "ISO-3",
         "lon": [
          9.501785,
          8.468946
         ],
         "mode": "lines",
         "opacity": 0.6,
         "type": "scattergeo"
        },
        {
         "lat": [
          56.26392,
          50.503887
         ],
         "line": {
          "color": "blue",
          "width": 1
         },
         "locationmode": "ISO-3",
         "lon": [
          9.501785,
          4.469936
         ],
         "mode": "lines",
         "opacity": 0.6,
         "type": "scattergeo"
        },
        {
         "lat": [
          56.26392,
          51.165691
         ],
         "line": {
          "color": "blue",
          "width": 1
         },
         "locationmode": "ISO-3",
         "lon": [
          9.501785,
          10.451526
         ],
         "mode": "lines",
         "opacity": 0.6,
         "type": "scattergeo"
        },
        {
         "lat": [
          56.26392,
          52.132633
         ],
         "line": {
          "color": "blue",
          "width": 1
         },
         "locationmode": "ISO-3",
         "lon": [
          9.501785,
          5.291266
         ],
         "mode": "lines",
         "opacity": 0.6,
         "type": "scattergeo"
        },
        {
         "lat": [
          56.26392,
          46.227638
         ],
         "line": {
          "color": "blue",
          "width": 1
         },
         "locationmode": "ISO-3",
         "lon": [
          9.501785,
          2.213749
         ],
         "mode": "lines",
         "opacity": 0.6,
         "type": "scattergeo"
        },
        {
         "lat": [
          56.26392,
          64.963051
         ],
         "line": {
          "color": "blue",
          "width": 1
         },
         "locationmode": "ISO-3",
         "lon": [
          9.501785,
          -19.020835
         ],
         "mode": "lines",
         "opacity": 0.6,
         "type": "scattergeo"
        },
        {
         "lat": [
          56.26392,
          55.378051
         ],
         "line": {
          "color": "blue",
          "width": 1
         },
         "locationmode": "ISO-3",
         "lon": [
          9.501785,
          -3.435973
         ],
         "mode": "lines",
         "opacity": 0.6,
         "type": "scattergeo"
        },
        {
         "lat": [
          56.26392,
          41.87194
         ],
         "line": {
          "color": "blue",
          "width": 1
         },
         "locationmode": "ISO-3",
         "lon": [
          9.501785,
          12.56738
         ],
         "mode": "lines",
         "opacity": 0.6,
         "type": "scattergeo"
        },
        {
         "lat": [
          56.26392,
          61.892635
         ],
         "line": {
          "color": "blue",
          "width": 1
         },
         "locationmode": "ISO-3",
         "lon": [
          9.501785,
          -6.911806
         ],
         "mode": "lines",
         "opacity": 0.6,
         "type": "scattergeo"
        },
        {
         "lat": [
          56.26392,
          58.595272
         ],
         "line": {
          "color": "blue",
          "width": 1
         },
         "locationmode": "ISO-3",
         "lon": [
          9.501785,
          25.013607
         ],
         "mode": "lines",
         "opacity": 0.6,
         "type": "scattergeo"
        },
        {
         "lat": [
          56.26392,
          47.162494
         ],
         "line": {
          "color": "blue",
          "width": 1
         },
         "locationmode": "ISO-3",
         "lon": [
          9.501785,
          19.503304
         ],
         "mode": "lines",
         "opacity": 0.6,
         "type": "scattergeo"
        },
        {
         "lat": [
          56.26392,
          38.963745
         ],
         "line": {
          "color": "blue",
          "width": 1
         },
         "locationmode": "ISO-3",
         "lon": [
          9.501785,
          35.243322
         ],
         "mode": "lines",
         "opacity": 0.6,
         "type": "scattergeo"
        },
        {
         "lat": [
          56.26392,
          43.915886
         ],
         "line": {
          "color": "blue",
          "width": 1
         },
         "locationmode": "ISO-3",
         "lon": [
          9.501785,
          17.679076
         ],
         "mode": "lines",
         "opacity": 0.6,
         "type": "scattergeo"
        },
        {
         "lat": [
          56.26392,
          41.608635
         ],
         "line": {
          "color": "blue",
          "width": 1
         },
         "locationmode": "ISO-3",
         "lon": [
          9.501785,
          21.745275
         ],
         "mode": "lines",
         "opacity": 0.6,
         "type": "scattergeo"
        },
        {
         "lat": [
          56.26392,
          51.919438
         ],
         "line": {
          "color": "blue",
          "width": 1
         },
         "locationmode": "ISO-3",
         "lon": [
          9.501785,
          19.145136
         ],
         "mode": "lines",
         "opacity": 0.6,
         "type": "scattergeo"
        },
        {
         "lat": [
          60.128161,
          56.26392
         ],
         "line": {
          "color": "blue",
          "width": 1
         },
         "locationmode": "ISO-3",
         "lon": [
          18.643501,
          9.501785
         ],
         "mode": "lines",
         "opacity": 0.6,
         "type": "scattergeo"
        },
        {
         "lat": [
          60.128161,
          41.87194
         ],
         "line": {
          "color": "blue",
          "width": 1
         },
         "locationmode": "ISO-3",
         "lon": [
          18.643501,
          12.56738
         ],
         "mode": "lines",
         "opacity": 0.6,
         "type": "scattergeo"
        },
        {
         "lat": [
          60.128161,
          38.963745
         ],
         "line": {
          "color": "blue",
          "width": 1
         },
         "locationmode": "ISO-3",
         "lon": [
          18.643501,
          35.243322
         ],
         "mode": "lines",
         "opacity": 0.6,
         "type": "scattergeo"
        },
        {
         "lat": [
          60.128161,
          23.885942
         ],
         "line": {
          "color": "blue",
          "width": 1
         },
         "locationmode": "ISO-3",
         "lon": [
          18.643501,
          45.079162
         ],
         "mode": "lines",
         "opacity": 0.6,
         "type": "scattergeo"
        },
        {
         "lat": [
          60.128161,
          60.128161
         ],
         "line": {
          "color": "blue",
          "width": 1
         },
         "locationmode": "ISO-3",
         "lon": [
          18.643501,
          18.643501
         ],
         "mode": "lines",
         "opacity": 0.6,
         "type": "scattergeo"
        },
        {
         "lat": [
          60.128161,
          51.165691
         ],
         "line": {
          "color": "blue",
          "width": 1
         },
         "locationmode": "ISO-3",
         "lon": [
          18.643501,
          10.451526
         ],
         "mode": "lines",
         "opacity": 0.6,
         "type": "scattergeo"
        },
        {
         "lat": [
          60.128161,
          60.472024
         ],
         "line": {
          "color": "blue",
          "width": 1
         },
         "locationmode": "ISO-3",
         "lon": [
          18.643501,
          8.468946
         ],
         "mode": "lines",
         "opacity": 0.6,
         "type": "scattergeo"
        },
        {
         "lat": [
          60.128161,
          61.92411
         ],
         "line": {
          "color": "blue",
          "width": 1
         },
         "locationmode": "ISO-3",
         "lon": [
          18.643501,
          25.748151
         ],
         "mode": "lines",
         "opacity": 0.6,
         "type": "scattergeo"
        },
        {
         "lat": [
          60.128161,
          39.074208
         ],
         "line": {
          "color": "blue",
          "width": 1
         },
         "locationmode": "ISO-3",
         "lon": [
          18.643501,
          21.824312
         ],
         "mode": "lines",
         "opacity": 0.6,
         "type": "scattergeo"
        },
        {
         "lat": [
          60.128161,
          50.503887
         ],
         "line": {
          "color": "blue",
          "width": 1
         },
         "locationmode": "ISO-3",
         "lon": [
          18.643501,
          4.469936
         ],
         "mode": "lines",
         "opacity": 0.6,
         "type": "scattergeo"
        },
        {
         "lat": [
          60.128161,
          55.378051
         ],
         "line": {
          "color": "blue",
          "width": 1
         },
         "locationmode": "ISO-3",
         "lon": [
          18.643501,
          -3.435973
         ],
         "mode": "lines",
         "opacity": 0.6,
         "type": "scattergeo"
        },
        {
         "lat": [
          60.128161,
          44.016521
         ],
         "line": {
          "color": "blue",
          "width": 1
         },
         "locationmode": "ISO-3",
         "lon": [
          18.643501,
          21.005859
         ],
         "mode": "lines",
         "opacity": 0.6,
         "type": "scattergeo"
        },
        {
         "lat": [
          60.128161,
          46.227638
         ],
         "line": {
          "color": "blue",
          "width": 1
         },
         "locationmode": "ISO-3",
         "lon": [
          18.643501,
          2.213749
         ],
         "mode": "lines",
         "opacity": 0.6,
         "type": "scattergeo"
        },
        {
         "lat": [
          60.128161,
          40.143105
         ],
         "line": {
          "color": "blue",
          "width": 1
         },
         "locationmode": "ISO-3",
         "lon": [
          18.643501,
          47.576927
         ],
         "mode": "lines",
         "opacity": 0.6,
         "type": "scattergeo"
        },
        {
         "lat": [
          60.128161,
          52.132633
         ],
         "line": {
          "color": "blue",
          "width": 1
         },
         "locationmode": "ISO-3",
         "lon": [
          18.643501,
          5.291266
         ],
         "mode": "lines",
         "opacity": 0.6,
         "type": "scattergeo"
        },
        {
         "lat": [
          60.128161,
          56.879635
         ],
         "line": {
          "color": "blue",
          "width": 1
         },
         "locationmode": "ISO-3",
         "lon": [
          18.643501,
          24.603189
         ],
         "mode": "lines",
         "opacity": 0.6,
         "type": "scattergeo"
        },
        {
         "lat": [
          60.128161,
          39.399872
         ],
         "line": {
          "color": "blue",
          "width": 1
         },
         "locationmode": "ISO-3",
         "lon": [
          18.643501,
          -8.224454
         ],
         "mode": "lines",
         "opacity": 0.6,
         "type": "scattergeo"
        },
        {
         "lat": [
          60.128161,
          45.1
         ],
         "line": {
          "color": "blue",
          "width": 1
         },
         "locationmode": "ISO-3",
         "lon": [
          18.643501,
          15.2
         ],
         "mode": "lines",
         "opacity": 0.6,
         "type": "scattergeo"
        },
        {
         "lat": [
          60.128161,
          46.818188
         ],
         "line": {
          "color": "blue",
          "width": 1
         },
         "locationmode": "ISO-3",
         "lon": [
          18.643501,
          8.227512
         ],
         "mode": "lines",
         "opacity": 0.6,
         "type": "scattergeo"
        },
        {
         "lat": [
          60.128161,
          64.963051
         ],
         "line": {
          "color": "blue",
          "width": 1
         },
         "locationmode": "ISO-3",
         "lon": [
          18.643501,
          -19.020835
         ],
         "mode": "lines",
         "opacity": 0.6,
         "type": "scattergeo"
        },
        {
         "lat": [
          60.128161,
          42.733883
         ],
         "line": {
          "color": "blue",
          "width": 1
         },
         "locationmode": "ISO-3",
         "lon": [
          18.643501,
          25.48583
         ],
         "mode": "lines",
         "opacity": 0.6,
         "type": "scattergeo"
        },
        {
         "lat": [
          60.128161,
          49.817492
         ],
         "line": {
          "color": "blue",
          "width": 1
         },
         "locationmode": "ISO-3",
         "lon": [
          18.643501,
          15.472962
         ],
         "mode": "lines",
         "opacity": 0.6,
         "type": "scattergeo"
        },
        {
         "lat": [
          60.128161,
          51.919438
         ],
         "line": {
          "color": "blue",
          "width": 1
         },
         "locationmode": "ISO-3",
         "lon": [
          18.643501,
          19.145136
         ],
         "mode": "lines",
         "opacity": 0.6,
         "type": "scattergeo"
        },
        {
         "lat": [
          60.128161,
          -25.274398
         ],
         "line": {
          "color": "blue",
          "width": 1
         },
         "locationmode": "ISO-3",
         "lon": [
          18.643501,
          133.775136
         ],
         "mode": "lines",
         "opacity": 0.6,
         "type": "scattergeo"
        },
        {
         "lat": [
          60.128161,
          40.463667
         ],
         "line": {
          "color": "blue",
          "width": 1
         },
         "locationmode": "ISO-3",
         "lon": [
          18.643501,
          -3.74922
         ],
         "mode": "lines",
         "opacity": 0.6,
         "type": "scattergeo"
        },
        {
         "lat": [
          60.128161,
          -35.675147
         ],
         "line": {
          "color": "blue",
          "width": 1
         },
         "locationmode": "ISO-3",
         "lon": [
          18.643501,
          -71.542969
         ],
         "mode": "lines",
         "opacity": 0.6,
         "type": "scattergeo"
        },
        {
         "lat": [
          60.128161,
          53.709807
         ],
         "line": {
          "color": "blue",
          "width": 1
         },
         "locationmode": "ISO-3",
         "lon": [
          18.643501,
          27.953389
         ],
         "mode": "lines",
         "opacity": 0.6,
         "type": "scattergeo"
        },
        {
         "lat": [
          60.128161,
          48.669026
         ],
         "line": {
          "color": "blue",
          "width": 1
         },
         "locationmode": "ISO-3",
         "lon": [
          18.643501,
          19.699024
         ],
         "mode": "lines",
         "opacity": 0.6,
         "type": "scattergeo"
        },
        {
         "lat": [
          60.128161,
          42.708678
         ],
         "line": {
          "color": "blue",
          "width": 1
         },
         "locationmode": "ISO-3",
         "lon": [
          18.643501,
          19.37439
         ],
         "mode": "lines",
         "opacity": 0.6,
         "type": "scattergeo"
        },
        {
         "lat": [
          60.128161,
          35.937496
         ],
         "line": {
          "color": "blue",
          "width": 1
         },
         "locationmode": "ISO-3",
         "lon": [
          18.643501,
          14.375416
         ],
         "mode": "lines",
         "opacity": 0.6,
         "type": "scattergeo"
        },
        {
         "lat": [
          25.354826,
          55.378051
         ],
         "line": {
          "color": "blue",
          "width": 1
         },
         "locationmode": "ISO-3",
         "lon": [
          51.183884,
          -3.435973
         ],
         "mode": "lines",
         "opacity": 0.6,
         "type": "scattergeo"
        },
        {
         "lat": [
          25.354826,
          25.354826
         ],
         "line": {
          "color": "blue",
          "width": 1
         },
         "locationmode": "ISO-3",
         "lon": [
          51.183884,
          51.183884
         ],
         "mode": "lines",
         "opacity": 0.6,
         "type": "scattergeo"
        },
        {
         "lat": [
          25.354826,
          9.748917
         ],
         "line": {
          "color": "blue",
          "width": 1
         },
         "locationmode": "ISO-3",
         "lon": [
          51.183884,
          -83.753428
         ],
         "mode": "lines",
         "opacity": 0.6,
         "type": "scattergeo"
        },
        {
         "lat": [
          25.354826,
          46.227638
         ],
         "line": {
          "color": "blue",
          "width": 1
         },
         "locationmode": "ISO-3",
         "lon": [
          51.183884,
          2.213749
         ],
         "mode": "lines",
         "opacity": 0.6,
         "type": "scattergeo"
        },
        {
         "lat": [
          25.354826,
          31.046051
         ],
         "line": {
          "color": "blue",
          "width": 1
         },
         "locationmode": "ISO-3",
         "lon": [
          51.183884,
          34.851612
         ],
         "mode": "lines",
         "opacity": 0.6,
         "type": "scattergeo"
        },
        {
         "lat": [
          25.354826,
          32.427908
         ],
         "line": {
          "color": "blue",
          "width": 1
         },
         "locationmode": "ISO-3",
         "lon": [
          51.183884,
          53.688046
         ],
         "mode": "lines",
         "opacity": 0.6,
         "type": "scattergeo"
        },
        {
         "lat": [
          25.354826,
          -14.235004
         ],
         "line": {
          "color": "blue",
          "width": 1
         },
         "locationmode": "ISO-3",
         "lon": [
          51.183884,
          -51.92528
         ],
         "mode": "lines",
         "opacity": 0.6,
         "type": "scattergeo"
        },
        {
         "lat": [
          25.354826,
          23.424076
         ],
         "line": {
          "color": "blue",
          "width": 1
         },
         "locationmode": "ISO-3",
         "lon": [
          51.183884,
          53.847818
         ],
         "mode": "lines",
         "opacity": 0.6,
         "type": "scattergeo"
        },
        {
         "lat": [
          25.354826,
          50.503887
         ],
         "line": {
          "color": "blue",
          "width": 1
         },
         "locationmode": "ISO-3",
         "lon": [
          51.183884,
          4.469936
         ],
         "mode": "lines",
         "opacity": 0.6,
         "type": "scattergeo"
        },
        {
         "lat": [
          25.354826,
          31.791702
         ],
         "line": {
          "color": "blue",
          "width": 1
         },
         "locationmode": "ISO-3",
         "lon": [
          51.183884,
          -7.09262
         ],
         "mode": "lines",
         "opacity": 0.6,
         "type": "scattergeo"
        },
        {
         "lat": [
          25.354826,
          23.885942
         ],
         "line": {
          "color": "blue",
          "width": 1
         },
         "locationmode": "ISO-3",
         "lon": [
          51.183884,
          45.079162
         ],
         "mode": "lines",
         "opacity": 0.6,
         "type": "scattergeo"
        },
        {
         "lat": [
          25.354826,
          -9.189967
         ],
         "line": {
          "color": "blue",
          "width": 1
         },
         "locationmode": "ISO-3",
         "lon": [
          51.183884,
          -75.015152
         ],
         "mode": "lines",
         "opacity": 0.6,
         "type": "scattergeo"
        },
        {
         "lat": [
          -9.189967,
          -9.189967
         ],
         "line": {
          "color": "blue",
          "width": 1
         },
         "locationmode": "ISO-3",
         "lon": [
          -75.015152,
          -75.015152
         ],
         "mode": "lines",
         "opacity": 0.6,
         "type": "scattergeo"
        },
        {
         "lat": [
          -9.189967,
          -32.522779
         ],
         "line": {
          "color": "blue",
          "width": 1
         },
         "locationmode": "ISO-3",
         "lon": [
          -75.015152,
          -55.765835
         ],
         "mode": "lines",
         "opacity": 0.6,
         "type": "scattergeo"
        },
        {
         "lat": [
          -9.189967,
          51.165691
         ],
         "line": {
          "color": "blue",
          "width": 1
         },
         "locationmode": "ISO-3",
         "lon": [
          -75.015152,
          10.451526
         ],
         "mode": "lines",
         "opacity": 0.6,
         "type": "scattergeo"
        },
        {
         "lat": [
          -9.189967,
          -38.416097
         ],
         "line": {
          "color": "blue",
          "width": 1
         },
         "locationmode": "ISO-3",
         "lon": [
          -75.015152,
          -63.616672
         ],
         "mode": "lines",
         "opacity": 0.6,
         "type": "scattergeo"
        },
        {
         "lat": [
          -9.189967,
          -1.831239
         ],
         "line": {
          "color": "blue",
          "width": 1
         },
         "locationmode": "ISO-3",
         "lon": [
          -75.015152,
          -78.183406
         ],
         "mode": "lines",
         "opacity": 0.6,
         "type": "scattergeo"
        },
        {
         "lat": [
          -9.189967,
          51.919438
         ],
         "line": {
          "color": "blue",
          "width": 1
         },
         "locationmode": "ISO-3",
         "lon": [
          -75.015152,
          19.145136
         ],
         "mode": "lines",
         "opacity": 0.6,
         "type": "scattergeo"
        },
        {
         "lat": [
          -9.189967,
          35.126413
         ],
         "line": {
          "color": "blue",
          "width": 1
         },
         "locationmode": "ISO-3",
         "lon": [
          -75.015152,
          33.429859
         ],
         "mode": "lines",
         "opacity": 0.6,
         "type": "scattergeo"
        },
        {
         "lat": [
          -9.189967,
          4.570868
         ],
         "line": {
          "color": "blue",
          "width": 1
         },
         "locationmode": "ISO-3",
         "lon": [
          -75.015152,
          -74.297333
         ],
         "mode": "lines",
         "opacity": 0.6,
         "type": "scattergeo"
        },
        {
         "lat": [
          -9.189967,
          -35.675147
         ],
         "line": {
          "color": "blue",
          "width": 1
         },
         "locationmode": "ISO-3",
         "lon": [
          -75.015152,
          -71.542969
         ],
         "mode": "lines",
         "opacity": 0.6,
         "type": "scattergeo"
        },
        {
         "lat": [
          -9.189967,
          25.354826
         ],
         "line": {
          "color": "blue",
          "width": 1
         },
         "locationmode": "ISO-3",
         "lon": [
          -75.015152,
          51.183884
         ],
         "mode": "lines",
         "opacity": 0.6,
         "type": "scattergeo"
        },
        {
         "lat": [
          -9.189967,
          23.634501
         ],
         "line": {
          "color": "blue",
          "width": 1
         },
         "locationmode": "ISO-3",
         "lon": [
          -75.015152,
          -102.552784
         ],
         "mode": "lines",
         "opacity": 0.6,
         "type": "scattergeo"
        },
        {
         "lat": [
          64.963051,
          51.165691
         ],
         "line": {
          "color": "blue",
          "width": 1
         },
         "locationmode": "ISO-3",
         "lon": [
          -19.020835,
          10.451526
         ],
         "mode": "lines",
         "opacity": 0.6,
         "type": "scattergeo"
        },
        {
         "lat": [
          64.963051,
          55.378051
         ],
         "line": {
          "color": "blue",
          "width": 1
         },
         "locationmode": "ISO-3",
         "lon": [
          -19.020835,
          -3.435973
         ],
         "mode": "lines",
         "opacity": 0.6,
         "type": "scattergeo"
        },
        {
         "lat": [
          64.963051,
          64.963051
         ],
         "line": {
          "color": "blue",
          "width": 1
         },
         "locationmode": "ISO-3",
         "lon": [
          -19.020835,
          -19.020835
         ],
         "mode": "lines",
         "opacity": 0.6,
         "type": "scattergeo"
        },
        {
         "lat": [
          64.963051,
          60.472024
         ],
         "line": {
          "color": "blue",
          "width": 1
         },
         "locationmode": "ISO-3",
         "lon": [
          -19.020835,
          8.468946
         ],
         "mode": "lines",
         "opacity": 0.6,
         "type": "scattergeo"
        },
        {
         "lat": [
          64.963051,
          56.26392
         ],
         "line": {
          "color": "blue",
          "width": 1
         },
         "locationmode": "ISO-3",
         "lon": [
          -19.020835,
          9.501785
         ],
         "mode": "lines",
         "opacity": 0.6,
         "type": "scattergeo"
        },
        {
         "lat": [
          64.963051,
          60.128161
         ],
         "line": {
          "color": "blue",
          "width": 1
         },
         "locationmode": "ISO-3",
         "lon": [
          -19.020835,
          18.643501
         ],
         "mode": "lines",
         "opacity": 0.6,
         "type": "scattergeo"
        },
        {
         "lat": [
          64.963051,
          44.016521
         ],
         "line": {
          "color": "blue",
          "width": 1
         },
         "locationmode": "ISO-3",
         "lon": [
          -19.020835,
          21.005859
         ],
         "mode": "lines",
         "opacity": 0.6,
         "type": "scattergeo"
        },
        {
         "lat": [
          64.963051,
          48.669026
         ],
         "line": {
          "color": "blue",
          "width": 1
         },
         "locationmode": "ISO-3",
         "lon": [
          -19.020835,
          19.699024
         ],
         "mode": "lines",
         "opacity": 0.6,
         "type": "scattergeo"
        },
        {
         "lat": [
          -25.274398,
          -25.274398
         ],
         "line": {
          "color": "blue",
          "width": 1
         },
         "locationmode": "ISO-3",
         "lon": [
          133.775136,
          133.775136
         ],
         "mode": "lines",
         "opacity": 0.6,
         "type": "scattergeo"
        },
        {
         "lat": [
          -25.274398,
          55.378051
         ],
         "line": {
          "color": "blue",
          "width": 1
         },
         "locationmode": "ISO-3",
         "lon": [
          133.775136,
          -3.435973
         ],
         "mode": "lines",
         "opacity": 0.6,
         "type": "scattergeo"
        },
        {
         "lat": [
          -25.274398,
          52.132633
         ],
         "line": {
          "color": "blue",
          "width": 1
         },
         "locationmode": "ISO-3",
         "lon": [
          133.775136,
          5.291266
         ],
         "mode": "lines",
         "opacity": 0.6,
         "type": "scattergeo"
        },
        {
         "lat": [
          -25.274398,
          51.165691
         ],
         "line": {
          "color": "blue",
          "width": 1
         },
         "locationmode": "ISO-3",
         "lon": [
          133.775136,
          10.451526
         ],
         "mode": "lines",
         "opacity": 0.6,
         "type": "scattergeo"
        },
        {
         "lat": [
          -25.274398,
          45.943161
         ],
         "line": {
          "color": "blue",
          "width": 1
         },
         "locationmode": "ISO-3",
         "lon": [
          133.775136,
          24.96676
         ],
         "mode": "lines",
         "opacity": 0.6,
         "type": "scattergeo"
        },
        {
         "lat": [
          -25.274398,
          4.210484
         ],
         "line": {
          "color": "blue",
          "width": 1
         },
         "locationmode": "ISO-3",
         "lon": [
          133.775136,
          101.975766
         ],
         "mode": "lines",
         "opacity": 0.6,
         "type": "scattergeo"
        },
        {
         "lat": [
          -25.274398,
          35.86166
         ],
         "line": {
          "color": "blue",
          "width": 1
         },
         "locationmode": "ISO-3",
         "lon": [
          133.775136,
          104.195397
         ],
         "mode": "lines",
         "opacity": 0.6,
         "type": "scattergeo"
        },
        {
         "lat": [
          -25.274398,
          35.907757
         ],
         "line": {
          "color": "blue",
          "width": 1
         },
         "locationmode": "ISO-3",
         "lon": [
          133.775136,
          127.766922
         ],
         "mode": "lines",
         "opacity": 0.6,
         "type": "scattergeo"
        },
        {
         "lat": [
          -25.274398,
          36.204824
         ],
         "line": {
          "color": "blue",
          "width": 1
         },
         "locationmode": "ISO-3",
         "lon": [
          133.775136,
          138.252924
         ],
         "mode": "lines",
         "opacity": 0.6,
         "type": "scattergeo"
        },
        {
         "lat": [
          -25.274398,
          53.41291
         ],
         "line": {
          "color": "blue",
          "width": 1
         },
         "locationmode": "ISO-3",
         "lon": [
          133.775136,
          -8.24389
         ],
         "mode": "lines",
         "opacity": 0.6,
         "type": "scattergeo"
        },
        {
         "lat": [
          46.818188,
          37.09024
         ],
         "line": {
          "color": "blue",
          "width": 1
         },
         "locationmode": "ISO-3",
         "lon": [
          8.227512,
          -95.712891
         ],
         "mode": "lines",
         "opacity": 0.6,
         "type": "scattergeo"
        },
        {
         "lat": [
          46.818188,
          46.818188
         ],
         "line": {
          "color": "blue",
          "width": 1
         },
         "locationmode": "ISO-3",
         "lon": [
          8.227512,
          8.227512
         ],
         "mode": "lines",
         "opacity": 0.6,
         "type": "scattergeo"
        },
        {
         "lat": [
          46.818188,
          47.162494
         ],
         "line": {
          "color": "blue",
          "width": 1
         },
         "locationmode": "ISO-3",
         "lon": [
          8.227512,
          19.503304
         ],
         "mode": "lines",
         "opacity": 0.6,
         "type": "scattergeo"
        },
        {
         "lat": [
          46.818188,
          61.52401
         ],
         "line": {
          "color": "blue",
          "width": 1
         },
         "locationmode": "ISO-3",
         "lon": [
          8.227512,
          105.318756
         ],
         "mode": "lines",
         "opacity": 0.6,
         "type": "scattergeo"
        },
        {
         "lat": [
          46.818188,
          46.227638
         ],
         "line": {
          "color": "blue",
          "width": 1
         },
         "locationmode": "ISO-3",
         "lon": [
          8.227512,
          2.213749
         ],
         "mode": "lines",
         "opacity": 0.6,
         "type": "scattergeo"
        },
        {
         "lat": [
          46.818188,
          51.165691
         ],
         "line": {
          "color": "blue",
          "width": 1
         },
         "locationmode": "ISO-3",
         "lon": [
          8.227512,
          10.451526
         ],
         "mode": "lines",
         "opacity": 0.6,
         "type": "scattergeo"
        },
        {
         "lat": [
          46.818188,
          47.516231
         ],
         "line": {
          "color": "blue",
          "width": 1
         },
         "locationmode": "ISO-3",
         "lon": [
          8.227512,
          14.550072
         ],
         "mode": "lines",
         "opacity": 0.6,
         "type": "scattergeo"
        },
        {
         "lat": [
          46.818188,
          49.817492
         ],
         "line": {
          "color": "blue",
          "width": 1
         },
         "locationmode": "ISO-3",
         "lon": [
          8.227512,
          15.472962
         ],
         "mode": "lines",
         "opacity": 0.6,
         "type": "scattergeo"
        },
        {
         "lat": [
          46.818188,
          41.87194
         ],
         "line": {
          "color": "blue",
          "width": 1
         },
         "locationmode": "ISO-3",
         "lon": [
          8.227512,
          12.56738
         ],
         "mode": "lines",
         "opacity": 0.6,
         "type": "scattergeo"
        },
        {
         "lat": [
          46.818188,
          51.919438
         ],
         "line": {
          "color": "blue",
          "width": 1
         },
         "locationmode": "ISO-3",
         "lon": [
          8.227512,
          19.145136
         ],
         "mode": "lines",
         "opacity": 0.6,
         "type": "scattergeo"
        },
        {
         "lat": [
          46.818188,
          -38.416097
         ],
         "line": {
          "color": "blue",
          "width": 1
         },
         "locationmode": "ISO-3",
         "lon": [
          8.227512,
          -63.616672
         ],
         "mode": "lines",
         "opacity": 0.6,
         "type": "scattergeo"
        },
        {
         "lat": [
          46.818188,
          -14.235004
         ],
         "line": {
          "color": "blue",
          "width": 1
         },
         "locationmode": "ISO-3",
         "lon": [
          8.227512,
          -51.92528
         ],
         "mode": "lines",
         "opacity": 0.6,
         "type": "scattergeo"
        },
        {
         "lat": [
          46.818188,
          55.378051
         ],
         "line": {
          "color": "blue",
          "width": 1
         },
         "locationmode": "ISO-3",
         "lon": [
          8.227512,
          -3.435973
         ],
         "mode": "lines",
         "opacity": 0.6,
         "type": "scattergeo"
        },
        {
         "lat": [
          46.818188,
          50.503887
         ],
         "line": {
          "color": "blue",
          "width": 1
         },
         "locationmode": "ISO-3",
         "lon": [
          8.227512,
          4.469936
         ],
         "mode": "lines",
         "opacity": 0.6,
         "type": "scattergeo"
        },
        {
         "lat": [
          46.818188,
          -23.442503
         ],
         "line": {
          "color": "blue",
          "width": 1
         },
         "locationmode": "ISO-3",
         "lon": [
          8.227512,
          -58.443832
         ],
         "mode": "lines",
         "opacity": 0.6,
         "type": "scattergeo"
        },
        {
         "lat": [
          46.818188,
          61.92411
         ],
         "line": {
          "color": "blue",
          "width": 1
         },
         "locationmode": "ISO-3",
         "lon": [
          8.227512,
          25.748151
         ],
         "mode": "lines",
         "opacity": 0.6,
         "type": "scattergeo"
        },
        {
         "lat": [
          46.818188,
          25.354826
         ],
         "line": {
          "color": "blue",
          "width": 1
         },
         "locationmode": "ISO-3",
         "lon": [
          8.227512,
          51.183884
         ],
         "mode": "lines",
         "opacity": 0.6,
         "type": "scattergeo"
        },
        {
         "lat": [
          46.818188,
          41.153332
         ],
         "line": {
          "color": "blue",
          "width": 1
         },
         "locationmode": "ISO-3",
         "lon": [
          8.227512,
          20.168331
         ],
         "mode": "lines",
         "opacity": 0.6,
         "type": "scattergeo"
        },
        {
         "lat": [
          46.818188,
          52.132633
         ],
         "line": {
          "color": "blue",
          "width": 1
         },
         "locationmode": "ISO-3",
         "lon": [
          8.227512,
          5.291266
         ],
         "mode": "lines",
         "opacity": 0.6,
         "type": "scattergeo"
        },
        {
         "lat": [
          46.818188,
          38.963745
         ],
         "line": {
          "color": "blue",
          "width": 1
         },
         "locationmode": "ISO-3",
         "lon": [
          8.227512,
          35.243322
         ],
         "mode": "lines",
         "opacity": 0.6,
         "type": "scattergeo"
        },
        {
         "lat": [
          46.818188,
          -25.274398
         ],
         "line": {
          "color": "blue",
          "width": 1
         },
         "locationmode": "ISO-3",
         "lon": [
          8.227512,
          133.775136
         ],
         "mode": "lines",
         "opacity": 0.6,
         "type": "scattergeo"
        },
        {
         "lat": [
          46.818188,
          45.1
         ],
         "line": {
          "color": "blue",
          "width": 1
         },
         "locationmode": "ISO-3",
         "lon": [
          8.227512,
          15.2
         ],
         "mode": "lines",
         "opacity": 0.6,
         "type": "scattergeo"
        },
        {
         "lat": [
          46.818188,
          -35.675147
         ],
         "line": {
          "color": "blue",
          "width": 1
         },
         "locationmode": "ISO-3",
         "lon": [
          8.227512,
          -71.542969
         ],
         "mode": "lines",
         "opacity": 0.6,
         "type": "scattergeo"
        },
        {
         "lat": [
          46.818188,
          -16.290154
         ],
         "line": {
          "color": "blue",
          "width": 1
         },
         "locationmode": "ISO-3",
         "lon": [
          8.227512,
          -63.588653
         ],
         "mode": "lines",
         "opacity": 0.6,
         "type": "scattergeo"
        },
        {
         "lat": [
          46.818188,
          -30.559482
         ],
         "line": {
          "color": "blue",
          "width": 1
         },
         "locationmode": "ISO-3",
         "lon": [
          8.227512,
          22.937506
         ],
         "mode": "lines",
         "opacity": 0.6,
         "type": "scattergeo"
        },
        {
         "lat": [
          46.818188,
          9.081999
         ],
         "line": {
          "color": "blue",
          "width": 1
         },
         "locationmode": "ISO-3",
         "lon": [
          8.227512,
          8.675277
         ],
         "mode": "lines",
         "opacity": 0.6,
         "type": "scattergeo"
        },
        {
         "lat": [
          46.818188,
          39.399872
         ],
         "line": {
          "color": "blue",
          "width": 1
         },
         "locationmode": "ISO-3",
         "lon": [
          8.227512,
          -8.224454
         ],
         "mode": "lines",
         "opacity": 0.6,
         "type": "scattergeo"
        },
        {
         "lat": [
          46.818188,
          48.379433
         ],
         "line": {
          "color": "blue",
          "width": 1
         },
         "locationmode": "ISO-3",
         "lon": [
          8.227512,
          31.16558
         ],
         "mode": "lines",
         "opacity": 0.6,
         "type": "scattergeo"
        },
        {
         "lat": [
          46.818188,
          60.128161
         ],
         "line": {
          "color": "blue",
          "width": 1
         },
         "locationmode": "ISO-3",
         "lon": [
          8.227512,
          18.643501
         ],
         "mode": "lines",
         "opacity": 0.6,
         "type": "scattergeo"
        },
        {
         "lat": [
          46.818188,
          -32.522779
         ],
         "line": {
          "color": "blue",
          "width": 1
         },
         "locationmode": "ISO-3",
         "lon": [
          8.227512,
          -55.765835
         ],
         "mode": "lines",
         "opacity": 0.6,
         "type": "scattergeo"
        },
        {
         "lat": [
          46.818188,
          23.885942
         ],
         "line": {
          "color": "blue",
          "width": 1
         },
         "locationmode": "ISO-3",
         "lon": [
          8.227512,
          45.079162
         ],
         "mode": "lines",
         "opacity": 0.6,
         "type": "scattergeo"
        },
        {
         "lat": [
          46.818188,
          40.463667
         ],
         "line": {
          "color": "blue",
          "width": 1
         },
         "locationmode": "ISO-3",
         "lon": [
          8.227512,
          -3.74922
         ],
         "mode": "lines",
         "opacity": 0.6,
         "type": "scattergeo"
        },
        {
         "lat": [
          46.818188,
          35.126413
         ],
         "line": {
          "color": "blue",
          "width": 1
         },
         "locationmode": "ISO-3",
         "lon": [
          8.227512,
          33.429859
         ],
         "mode": "lines",
         "opacity": 0.6,
         "type": "scattergeo"
        },
        {
         "lat": [
          31.046051,
          56.26392
         ],
         "line": {
          "color": "blue",
          "width": 1
         },
         "locationmode": "ISO-3",
         "lon": [
          34.851612,
          9.501785
         ],
         "mode": "lines",
         "opacity": 0.6,
         "type": "scattergeo"
        },
        {
         "lat": [
          31.046051,
          50.503887
         ],
         "line": {
          "color": "blue",
          "width": 1
         },
         "locationmode": "ISO-3",
         "lon": [
          34.851612,
          4.469936
         ],
         "mode": "lines",
         "opacity": 0.6,
         "type": "scattergeo"
        },
        {
         "lat": [
          31.046051,
          31.046051
         ],
         "line": {
          "color": "blue",
          "width": 1
         },
         "locationmode": "ISO-3",
         "lon": [
          34.851612,
          34.851612
         ],
         "mode": "lines",
         "opacity": 0.6,
         "type": "scattergeo"
        },
        {
         "lat": [
          31.046051,
          43.915886
         ],
         "line": {
          "color": "blue",
          "width": 1
         },
         "locationmode": "ISO-3",
         "lon": [
          34.851612,
          17.679076
         ],
         "mode": "lines",
         "opacity": 0.6,
         "type": "scattergeo"
        },
        {
         "lat": [
          31.046051,
          -14.235004
         ],
         "line": {
          "color": "blue",
          "width": 1
         },
         "locationmode": "ISO-3",
         "lon": [
          34.851612,
          -51.92528
         ],
         "mode": "lines",
         "opacity": 0.6,
         "type": "scattergeo"
        },
        {
         "lat": [
          31.046051,
          61.52401
         ],
         "line": {
          "color": "blue",
          "width": 1
         },
         "locationmode": "ISO-3",
         "lon": [
          34.851612,
          105.318756
         ],
         "mode": "lines",
         "opacity": 0.6,
         "type": "scattergeo"
        },
        {
         "lat": [
          31.046051,
          51.165691
         ],
         "line": {
          "color": "blue",
          "width": 1
         },
         "locationmode": "ISO-3",
         "lon": [
          34.851612,
          10.451526
         ],
         "mode": "lines",
         "opacity": 0.6,
         "type": "scattergeo"
        },
        {
         "lat": [
          31.046051,
          39.399872
         ],
         "line": {
          "color": "blue",
          "width": 1
         },
         "locationmode": "ISO-3",
         "lon": [
          34.851612,
          -8.224454
         ],
         "mode": "lines",
         "opacity": 0.6,
         "type": "scattergeo"
        },
        {
         "lat": [
          31.046051,
          40.463667
         ],
         "line": {
          "color": "blue",
          "width": 1
         },
         "locationmode": "ISO-3",
         "lon": [
          34.851612,
          -3.74922
         ],
         "mode": "lines",
         "opacity": 0.6,
         "type": "scattergeo"
        },
        {
         "lat": [
          31.046051,
          46.151241
         ],
         "line": {
          "color": "blue",
          "width": 1
         },
         "locationmode": "ISO-3",
         "lon": [
          34.851612,
          14.995463
         ],
         "mode": "lines",
         "opacity": 0.6,
         "type": "scattergeo"
        },
        {
         "lat": [
          31.046051,
          55.378051
         ],
         "line": {
          "color": "blue",
          "width": 1
         },
         "locationmode": "ISO-3",
         "lon": [
          34.851612,
          -3.435973
         ],
         "mode": "lines",
         "opacity": 0.6,
         "type": "scattergeo"
        },
        {
         "lat": [
          31.046051,
          45.943161
         ],
         "line": {
          "color": "blue",
          "width": 1
         },
         "locationmode": "ISO-3",
         "lon": [
          34.851612,
          24.96676
         ],
         "mode": "lines",
         "opacity": 0.6,
         "type": "scattergeo"
        },
        {
         "lat": [
          31.046051,
          42.733883
         ],
         "line": {
          "color": "blue",
          "width": 1
         },
         "locationmode": "ISO-3",
         "lon": [
          34.851612,
          25.48583
         ],
         "mode": "lines",
         "opacity": 0.6,
         "type": "scattergeo"
        },
        {
         "lat": [
          31.046051,
          53.709807
         ],
         "line": {
          "color": "blue",
          "width": 1
         },
         "locationmode": "ISO-3",
         "lon": [
          34.851612,
          27.953389
         ],
         "mode": "lines",
         "opacity": 0.6,
         "type": "scattergeo"
        },
        {
         "lat": [
          31.046051,
          -16.290154
         ],
         "line": {
          "color": "blue",
          "width": 1
         },
         "locationmode": "ISO-3",
         "lon": [
          34.851612,
          -63.588653
         ],
         "mode": "lines",
         "opacity": 0.6,
         "type": "scattergeo"
        },
        {
         "lat": [
          31.046051,
          35.126413
         ],
         "line": {
          "color": "blue",
          "width": 1
         },
         "locationmode": "ISO-3",
         "lon": [
          34.851612,
          33.429859
         ],
         "mode": "lines",
         "opacity": 0.6,
         "type": "scattergeo"
        },
        {
         "lat": [
          31.046051,
          46.818188
         ],
         "line": {
          "color": "blue",
          "width": 1
         },
         "locationmode": "ISO-3",
         "lon": [
          34.851612,
          8.227512
         ],
         "mode": "lines",
         "opacity": 0.6,
         "type": "scattergeo"
        },
        {
         "lat": [
          31.046051,
          45.1
         ],
         "line": {
          "color": "blue",
          "width": 1
         },
         "locationmode": "ISO-3",
         "lon": [
          34.851612,
          15.2
         ],
         "mode": "lines",
         "opacity": 0.6,
         "type": "scattergeo"
        },
        {
         "lat": [
          31.046051,
          7.946527
         ],
         "line": {
          "color": "blue",
          "width": 1
         },
         "locationmode": "ISO-3",
         "lon": [
          34.851612,
          -1.023194
         ],
         "mode": "lines",
         "opacity": 0.6,
         "type": "scattergeo"
        },
        {
         "lat": [
          31.046051,
          37.09024
         ],
         "line": {
          "color": "blue",
          "width": 1
         },
         "locationmode": "ISO-3",
         "lon": [
          34.851612,
          -95.712891
         ],
         "mode": "lines",
         "opacity": 0.6,
         "type": "scattergeo"
        },
        {
         "lat": [
          31.046051,
          -38.416097
         ],
         "line": {
          "color": "blue",
          "width": 1
         },
         "locationmode": "ISO-3",
         "lon": [
          34.851612,
          -63.616672
         ],
         "mode": "lines",
         "opacity": 0.6,
         "type": "scattergeo"
        },
        {
         "lat": [
          31.046051,
          44.016521
         ],
         "line": {
          "color": "blue",
          "width": 1
         },
         "locationmode": "ISO-3",
         "lon": [
          34.851612,
          21.005859
         ],
         "mode": "lines",
         "opacity": 0.6,
         "type": "scattergeo"
        },
        {
         "lat": [
          31.046051,
          15.783471
         ],
         "line": {
          "color": "blue",
          "width": 1
         },
         "locationmode": "ISO-3",
         "lon": [
          34.851612,
          -90.230759
         ],
         "mode": "lines",
         "opacity": 0.6,
         "type": "scattergeo"
        },
        {
         "lat": [
          31.046051,
          -32.522779
         ],
         "line": {
          "color": "blue",
          "width": 1
         },
         "locationmode": "ISO-3",
         "lon": [
          34.851612,
          -55.765835
         ],
         "mode": "lines",
         "opacity": 0.6,
         "type": "scattergeo"
        },
        {
         "lat": [
          31.046051,
          35.907757
         ],
         "line": {
          "color": "blue",
          "width": 1
         },
         "locationmode": "ISO-3",
         "lon": [
          34.851612,
          127.766922
         ],
         "mode": "lines",
         "opacity": 0.6,
         "type": "scattergeo"
        },
        {
         "lat": [
          31.046051,
          22.396428
         ],
         "line": {
          "color": "blue",
          "width": 1
         },
         "locationmode": "ISO-3",
         "lon": [
          34.851612,
          114.109497
         ],
         "mode": "lines",
         "opacity": 0.6,
         "type": "scattergeo"
        },
        {
         "lat": [
          39.399872,
          55.378051
         ],
         "line": {
          "color": "blue",
          "width": 1
         },
         "locationmode": "ISO-3",
         "lon": [
          -8.224454,
          -3.435973
         ],
         "mode": "lines",
         "opacity": 0.6,
         "type": "scattergeo"
        },
        {
         "lat": [
          39.399872,
          46.818188
         ],
         "line": {
          "color": "blue",
          "width": 1
         },
         "locationmode": "ISO-3",
         "lon": [
          -8.224454,
          8.227512
         ],
         "mode": "lines",
         "opacity": 0.6,
         "type": "scattergeo"
        },
        {
         "lat": [
          39.399872,
          39.399872
         ],
         "line": {
          "color": "blue",
          "width": 1
         },
         "locationmode": "ISO-3",
         "lon": [
          -8.224454,
          -8.224454
         ],
         "mode": "lines",
         "opacity": 0.6,
         "type": "scattergeo"
        },
        {
         "lat": [
          39.399872,
          -14.235004
         ],
         "line": {
          "color": "blue",
          "width": 1
         },
         "locationmode": "ISO-3",
         "lon": [
          -8.224454,
          -51.92528
         ],
         "mode": "lines",
         "opacity": 0.6,
         "type": "scattergeo"
        },
        {
         "lat": [
          39.399872,
          46.227638
         ],
         "line": {
          "color": "blue",
          "width": 1
         },
         "locationmode": "ISO-3",
         "lon": [
          -8.224454,
          2.213749
         ],
         "mode": "lines",
         "opacity": 0.6,
         "type": "scattergeo"
        },
        {
         "lat": [
          39.399872,
          40.463667
         ],
         "line": {
          "color": "blue",
          "width": 1
         },
         "locationmode": "ISO-3",
         "lon": [
          -8.224454,
          -3.74922
         ],
         "mode": "lines",
         "opacity": 0.6,
         "type": "scattergeo"
        },
        {
         "lat": [
          39.399872,
          23.885942
         ],
         "line": {
          "color": "blue",
          "width": 1
         },
         "locationmode": "ISO-3",
         "lon": [
          -8.224454,
          45.079162
         ],
         "mode": "lines",
         "opacity": 0.6,
         "type": "scattergeo"
        },
        {
         "lat": [
          39.399872,
          -38.416097
         ],
         "line": {
          "color": "blue",
          "width": 1
         },
         "locationmode": "ISO-3",
         "lon": [
          -8.224454,
          -63.616672
         ],
         "mode": "lines",
         "opacity": 0.6,
         "type": "scattergeo"
        },
        {
         "lat": [
          39.399872,
          50.503887
         ],
         "line": {
          "color": "blue",
          "width": 1
         },
         "locationmode": "ISO-3",
         "lon": [
          -8.224454,
          4.469936
         ],
         "mode": "lines",
         "opacity": 0.6,
         "type": "scattergeo"
        },
        {
         "lat": [
          39.399872,
          61.52401
         ],
         "line": {
          "color": "blue",
          "width": 1
         },
         "locationmode": "ISO-3",
         "lon": [
          -8.224454,
          105.318756
         ],
         "mode": "lines",
         "opacity": 0.6,
         "type": "scattergeo"
        },
        {
         "lat": [
          39.399872,
          35.126413
         ],
         "line": {
          "color": "blue",
          "width": 1
         },
         "locationmode": "ISO-3",
         "lon": [
          -8.224454,
          33.429859
         ],
         "mode": "lines",
         "opacity": 0.6,
         "type": "scattergeo"
        },
        {
         "lat": [
          39.399872,
          39.074208
         ],
         "line": {
          "color": "blue",
          "width": 1
         },
         "locationmode": "ISO-3",
         "lon": [
          -8.224454,
          21.824312
         ],
         "mode": "lines",
         "opacity": 0.6,
         "type": "scattergeo"
        },
        {
         "lat": [
          39.399872,
          51.165691
         ],
         "line": {
          "color": "blue",
          "width": 1
         },
         "locationmode": "ISO-3",
         "lon": [
          -8.224454,
          10.451526
         ],
         "mode": "lines",
         "opacity": 0.6,
         "type": "scattergeo"
        },
        {
         "lat": [
          39.399872,
          60.128161
         ],
         "line": {
          "color": "blue",
          "width": 1
         },
         "locationmode": "ISO-3",
         "lon": [
          -8.224454,
          18.643501
         ],
         "mode": "lines",
         "opacity": 0.6,
         "type": "scattergeo"
        },
        {
         "lat": [
          39.399872,
          51.919438
         ],
         "line": {
          "color": "blue",
          "width": 1
         },
         "locationmode": "ISO-3",
         "lon": [
          -8.224454,
          19.145136
         ],
         "mode": "lines",
         "opacity": 0.6,
         "type": "scattergeo"
        },
        {
         "lat": [
          39.399872,
          25.354826
         ],
         "line": {
          "color": "blue",
          "width": 1
         },
         "locationmode": "ISO-3",
         "lon": [
          -8.224454,
          51.183884
         ],
         "mode": "lines",
         "opacity": 0.6,
         "type": "scattergeo"
        },
        {
         "lat": [
          39.399872,
          31.046051
         ],
         "line": {
          "color": "blue",
          "width": 1
         },
         "locationmode": "ISO-3",
         "lon": [
          -8.224454,
          34.851612
         ],
         "mode": "lines",
         "opacity": 0.6,
         "type": "scattergeo"
        },
        {
         "lat": [
          39.399872,
          41.608635
         ],
         "line": {
          "color": "blue",
          "width": 1
         },
         "locationmode": "ISO-3",
         "lon": [
          -8.224454,
          21.745275
         ],
         "mode": "lines",
         "opacity": 0.6,
         "type": "scattergeo"
        },
        {
         "lat": [
          39.399872,
          45.1
         ],
         "line": {
          "color": "blue",
          "width": 1
         },
         "locationmode": "ISO-3",
         "lon": [
          -8.224454,
          15.2
         ],
         "mode": "lines",
         "opacity": 0.6,
         "type": "scattergeo"
        },
        {
         "lat": [
          39.399872,
          -35.675147
         ],
         "line": {
          "color": "blue",
          "width": 1
         },
         "locationmode": "ISO-3",
         "lon": [
          -8.224454,
          -71.542969
         ],
         "mode": "lines",
         "opacity": 0.6,
         "type": "scattergeo"
        },
        {
         "lat": [
          39.399872,
          45.943161
         ],
         "line": {
          "color": "blue",
          "width": 1
         },
         "locationmode": "ISO-3",
         "lon": [
          -8.224454,
          24.96676
         ],
         "mode": "lines",
         "opacity": 0.6,
         "type": "scattergeo"
        },
        {
         "lat": [
          39.399872,
          46.151241
         ],
         "line": {
          "color": "blue",
          "width": 1
         },
         "locationmode": "ISO-3",
         "lon": [
          -8.224454,
          14.995463
         ],
         "mode": "lines",
         "opacity": 0.6,
         "type": "scattergeo"
        },
        {
         "lat": [
          39.399872,
          42.733883
         ],
         "line": {
          "color": "blue",
          "width": 1
         },
         "locationmode": "ISO-3",
         "lon": [
          -8.224454,
          25.48583
         ],
         "mode": "lines",
         "opacity": 0.6,
         "type": "scattergeo"
        },
        {
         "lat": [
          39.399872,
          -1.831239
         ],
         "line": {
          "color": "blue",
          "width": 1
         },
         "locationmode": "ISO-3",
         "lon": [
          -8.224454,
          -78.183406
         ],
         "mode": "lines",
         "opacity": 0.6,
         "type": "scattergeo"
        },
        {
         "lat": [
          39.399872,
          35.907757
         ],
         "line": {
          "color": "blue",
          "width": 1
         },
         "locationmode": "ISO-3",
         "lon": [
          -8.224454,
          127.766922
         ],
         "mode": "lines",
         "opacity": 0.6,
         "type": "scattergeo"
        },
        {
         "lat": [
          39.399872,
          7.946527
         ],
         "line": {
          "color": "blue",
          "width": 1
         },
         "locationmode": "ISO-3",
         "lon": [
          -8.224454,
          -1.023194
         ],
         "mode": "lines",
         "opacity": 0.6,
         "type": "scattergeo"
        },
        {
         "lat": [
          39.399872,
          49.815273
         ],
         "line": {
          "color": "blue",
          "width": 1
         },
         "locationmode": "ISO-3",
         "lon": [
          -8.224454,
          6.129583
         ],
         "mode": "lines",
         "opacity": 0.6,
         "type": "scattergeo"
        },
        {
         "lat": [
          45.943161,
          45.943161
         ],
         "line": {
          "color": "blue",
          "width": 1
         },
         "locationmode": "ISO-3",
         "lon": [
          24.96676,
          24.96676
         ],
         "mode": "lines",
         "opacity": 0.6,
         "type": "scattergeo"
        },
        {
         "lat": [
          45.943161,
          61.52401
         ],
         "line": {
          "color": "blue",
          "width": 1
         },
         "locationmode": "ISO-3",
         "lon": [
          24.96676,
          105.318756
         ],
         "mode": "lines",
         "opacity": 0.6,
         "type": "scattergeo"
        },
        {
         "lat": [
          45.943161,
          -14.235004
         ],
         "line": {
          "color": "blue",
          "width": 1
         },
         "locationmode": "ISO-3",
         "lon": [
          24.96676,
          -51.92528
         ],
         "mode": "lines",
         "opacity": 0.6,
         "type": "scattergeo"
        },
        {
         "lat": [
          45.943161,
          35.907757
         ],
         "line": {
          "color": "blue",
          "width": 1
         },
         "locationmode": "ISO-3",
         "lon": [
          24.96676,
          127.766922
         ],
         "mode": "lines",
         "opacity": 0.6,
         "type": "scattergeo"
        },
        {
         "lat": [
          45.943161,
          31.046051
         ],
         "line": {
          "color": "blue",
          "width": 1
         },
         "locationmode": "ISO-3",
         "lon": [
          24.96676,
          34.851612
         ],
         "mode": "lines",
         "opacity": 0.6,
         "type": "scattergeo"
        },
        {
         "lat": [
          45.943161,
          35.126413
         ],
         "line": {
          "color": "blue",
          "width": 1
         },
         "locationmode": "ISO-3",
         "lon": [
          24.96676,
          33.429859
         ],
         "mode": "lines",
         "opacity": 0.6,
         "type": "scattergeo"
        },
        {
         "lat": [
          45.943161,
          47.411631
         ],
         "line": {
          "color": "blue",
          "width": 1
         },
         "locationmode": "ISO-3",
         "lon": [
          24.96676,
          28.369885
         ],
         "mode": "lines",
         "opacity": 0.6,
         "type": "scattergeo"
        },
        {
         "lat": [
          45.943161,
          44.016521
         ],
         "line": {
          "color": "blue",
          "width": 1
         },
         "locationmode": "ISO-3",
         "lon": [
          24.96676,
          21.005859
         ],
         "mode": "lines",
         "opacity": 0.6,
         "type": "scattergeo"
        },
        {
         "lat": [
          45.943161,
          48.019573
         ],
         "line": {
          "color": "blue",
          "width": 1
         },
         "locationmode": "ISO-3",
         "lon": [
          24.96676,
          66.923684
         ],
         "mode": "lines",
         "opacity": 0.6,
         "type": "scattergeo"
        },
        {
         "lat": [
          45.943161,
          55.378051
         ],
         "line": {
          "color": "blue",
          "width": 1
         },
         "locationmode": "ISO-3",
         "lon": [
          24.96676,
          -3.435973
         ],
         "mode": "lines",
         "opacity": 0.6,
         "type": "scattergeo"
        },
        {
         "lat": [
          45.943161,
          39.074208
         ],
         "line": {
          "color": "blue",
          "width": 1
         },
         "locationmode": "ISO-3",
         "lon": [
          24.96676,
          21.824312
         ],
         "mode": "lines",
         "opacity": 0.6,
         "type": "scattergeo"
        },
        {
         "lat": [
          45.943161,
          35.86166
         ],
         "line": {
          "color": "blue",
          "width": 1
         },
         "locationmode": "ISO-3",
         "lon": [
          24.96676,
          104.195397
         ],
         "mode": "lines",
         "opacity": 0.6,
         "type": "scattergeo"
        },
        {
         "lat": [
          45.943161,
          4.570868
         ],
         "line": {
          "color": "blue",
          "width": 1
         },
         "locationmode": "ISO-3",
         "lon": [
          24.96676,
          -74.297333
         ],
         "mode": "lines",
         "opacity": 0.6,
         "type": "scattergeo"
        },
        {
         "lat": [
          45.943161,
          31.791702
         ],
         "line": {
          "color": "blue",
          "width": 1
         },
         "locationmode": "ISO-3",
         "lon": [
          24.96676,
          -7.09262
         ],
         "mode": "lines",
         "opacity": 0.6,
         "type": "scattergeo"
        },
        {
         "lat": [
          46.227638,
          33.886917
         ],
         "line": {
          "color": "blue",
          "width": 1
         },
         "locationmode": "ISO-3",
         "lon": [
          2.213749,
          9.537499
         ],
         "mode": "lines",
         "opacity": 0.6,
         "type": "scattergeo"
        },
        {
         "lat": [
          46.227638,
          46.227638
         ],
         "line": {
          "color": "blue",
          "width": 1
         },
         "locationmode": "ISO-3",
         "lon": [
          2.213749,
          2.213749
         ],
         "mode": "lines",
         "opacity": 0.6,
         "type": "scattergeo"
        },
        {
         "lat": [
          46.227638,
          31.046051
         ],
         "line": {
          "color": "blue",
          "width": 1
         },
         "locationmode": "ISO-3",
         "lon": [
          2.213749,
          34.851612
         ],
         "mode": "lines",
         "opacity": 0.6,
         "type": "scattergeo"
        },
        {
         "lat": [
          46.227638,
          46.818188
         ],
         "line": {
          "color": "blue",
          "width": 1
         },
         "locationmode": "ISO-3",
         "lon": [
          2.213749,
          8.227512
         ],
         "mode": "lines",
         "opacity": 0.6,
         "type": "scattergeo"
        },
        {
         "lat": [
          46.227638,
          47.516231
         ],
         "line": {
          "color": "blue",
          "width": 1
         },
         "locationmode": "ISO-3",
         "lon": [
          2.213749,
          14.550072
         ],
         "mode": "lines",
         "opacity": 0.6,
         "type": "scattergeo"
        },
        {
         "lat": [
          46.227638,
          55.378051
         ],
         "line": {
          "color": "blue",
          "width": 1
         },
         "locationmode": "ISO-3",
         "lon": [
          2.213749,
          -3.435973
         ],
         "mode": "lines",
         "opacity": 0.6,
         "type": "scattergeo"
        },
        {
         "lat": [
          46.227638,
          51.165691
         ],
         "line": {
          "color": "blue",
          "width": 1
         },
         "locationmode": "ISO-3",
         "lon": [
          2.213749,
          10.451526
         ],
         "mode": "lines",
         "opacity": 0.6,
         "type": "scattergeo"
        },
        {
         "lat": [
          46.227638,
          41.87194
         ],
         "line": {
          "color": "blue",
          "width": 1
         },
         "locationmode": "ISO-3",
         "lon": [
          2.213749,
          12.56738
         ],
         "mode": "lines",
         "opacity": 0.6,
         "type": "scattergeo"
        },
        {
         "lat": [
          46.227638,
          23.885942
         ],
         "line": {
          "color": "blue",
          "width": 1
         },
         "locationmode": "ISO-3",
         "lon": [
          2.213749,
          45.079162
         ],
         "mode": "lines",
         "opacity": 0.6,
         "type": "scattergeo"
        },
        {
         "lat": [
          46.227638,
          39.399872
         ],
         "line": {
          "color": "blue",
          "width": 1
         },
         "locationmode": "ISO-3",
         "lon": [
          2.213749,
          -8.224454
         ],
         "mode": "lines",
         "opacity": 0.6,
         "type": "scattergeo"
        },
        {
         "lat": [
          46.227638,
          25.354826
         ],
         "line": {
          "color": "blue",
          "width": 1
         },
         "locationmode": "ISO-3",
         "lon": [
          2.213749,
          51.183884
         ],
         "mode": "lines",
         "opacity": 0.6,
         "type": "scattergeo"
        },
        {
         "lat": [
          46.227638,
          40.463667
         ],
         "line": {
          "color": "blue",
          "width": 1
         },
         "locationmode": "ISO-3",
         "lon": [
          2.213749,
          -3.74922
         ],
         "mode": "lines",
         "opacity": 0.6,
         "type": "scattergeo"
        },
        {
         "lat": [
          46.227638,
          44.016521
         ],
         "line": {
          "color": "blue",
          "width": 1
         },
         "locationmode": "ISO-3",
         "lon": [
          2.213749,
          21.005859
         ],
         "mode": "lines",
         "opacity": 0.6,
         "type": "scattergeo"
        },
        {
         "lat": [
          46.227638,
          42.733883
         ],
         "line": {
          "color": "blue",
          "width": 1
         },
         "locationmode": "ISO-3",
         "lon": [
          2.213749,
          25.48583
         ],
         "mode": "lines",
         "opacity": 0.6,
         "type": "scattergeo"
        },
        {
         "lat": [
          46.227638,
          38.963745
         ],
         "line": {
          "color": "blue",
          "width": 1
         },
         "locationmode": "ISO-3",
         "lon": [
          2.213749,
          35.243322
         ],
         "mode": "lines",
         "opacity": 0.6,
         "type": "scattergeo"
        },
        {
         "lat": [
          46.227638,
          36.204824
         ],
         "line": {
          "color": "blue",
          "width": 1
         },
         "locationmode": "ISO-3",
         "lon": [
          2.213749,
          138.252924
         ],
         "mode": "lines",
         "opacity": 0.6,
         "type": "scattergeo"
        },
        {
         "lat": [
          46.227638,
          50.503887
         ],
         "line": {
          "color": "blue",
          "width": 1
         },
         "locationmode": "ISO-3",
         "lon": [
          2.213749,
          4.469936
         ],
         "mode": "lines",
         "opacity": 0.6,
         "type": "scattergeo"
        },
        {
         "lat": [
          46.227638,
          23.424076
         ],
         "line": {
          "color": "blue",
          "width": 1
         },
         "locationmode": "ISO-3",
         "lon": [
          2.213749,
          53.847818
         ],
         "mode": "lines",
         "opacity": 0.6,
         "type": "scattergeo"
        },
        {
         "lat": [
          46.227638,
          49.817492
         ],
         "line": {
          "color": "blue",
          "width": 1
         },
         "locationmode": "ISO-3",
         "lon": [
          2.213749,
          15.472962
         ],
         "mode": "lines",
         "opacity": 0.6,
         "type": "scattergeo"
        },
        {
         "lat": [
          46.227638,
          52.132633
         ],
         "line": {
          "color": "blue",
          "width": 1
         },
         "locationmode": "ISO-3",
         "lon": [
          2.213749,
          5.291266
         ],
         "mode": "lines",
         "opacity": 0.6,
         "type": "scattergeo"
        },
        {
         "lat": [
          46.227638,
          39.074208
         ],
         "line": {
          "color": "blue",
          "width": 1
         },
         "locationmode": "ISO-3",
         "lon": [
          2.213749,
          21.824312
         ],
         "mode": "lines",
         "opacity": 0.6,
         "type": "scattergeo"
        },
        {
         "lat": [
          46.227638,
          -30.559482
         ],
         "line": {
          "color": "blue",
          "width": 1
         },
         "locationmode": "ISO-3",
         "lon": [
          2.213749,
          22.937506
         ],
         "mode": "lines",
         "opacity": 0.6,
         "type": "scattergeo"
        },
        {
         "lat": [
          46.227638,
          43.915886
         ],
         "line": {
          "color": "blue",
          "width": 1
         },
         "locationmode": "ISO-3",
         "lon": [
          2.213749,
          17.679076
         ],
         "mode": "lines",
         "opacity": 0.6,
         "type": "scattergeo"
        },
        {
         "lat": [
          46.227638,
          45.943161
         ],
         "line": {
          "color": "blue",
          "width": 1
         },
         "locationmode": "ISO-3",
         "lon": [
          2.213749,
          24.96676
         ],
         "mode": "lines",
         "opacity": 0.6,
         "type": "scattergeo"
        },
        {
         "lat": [
          46.227638,
          56.26392
         ],
         "line": {
          "color": "blue",
          "width": 1
         },
         "locationmode": "ISO-3",
         "lon": [
          2.213749,
          9.501785
         ],
         "mode": "lines",
         "opacity": 0.6,
         "type": "scattergeo"
        },
        {
         "lat": [
          46.227638,
          28.033886
         ],
         "line": {
          "color": "blue",
          "width": 1
         },
         "locationmode": "ISO-3",
         "lon": [
          2.213749,
          1.659626
         ],
         "mode": "lines",
         "opacity": 0.6,
         "type": "scattergeo"
        },
        {
         "lat": [
          46.227638,
          -14.235004
         ],
         "line": {
          "color": "blue",
          "width": 1
         },
         "locationmode": "ISO-3",
         "lon": [
          2.213749,
          -51.92528
         ],
         "mode": "lines",
         "opacity": 0.6,
         "type": "scattergeo"
        },
        {
         "lat": [
          46.227638,
          -38.416097
         ],
         "line": {
          "color": "blue",
          "width": 1
         },
         "locationmode": "ISO-3",
         "lon": [
          2.213749,
          -63.616672
         ],
         "mode": "lines",
         "opacity": 0.6,
         "type": "scattergeo"
        },
        {
         "lat": [
          46.227638,
          45.1
         ],
         "line": {
          "color": "blue",
          "width": 1
         },
         "locationmode": "ISO-3",
         "lon": [
          2.213749,
          15.2
         ],
         "mode": "lines",
         "opacity": 0.6,
         "type": "scattergeo"
        },
        {
         "lat": [
          46.227638,
          51.919438
         ],
         "line": {
          "color": "blue",
          "width": 1
         },
         "locationmode": "ISO-3",
         "lon": [
          2.213749,
          19.145136
         ],
         "mode": "lines",
         "opacity": 0.6,
         "type": "scattergeo"
        },
        {
         "lat": [
          46.227638,
          42.708678
         ],
         "line": {
          "color": "blue",
          "width": 1
         },
         "locationmode": "ISO-3",
         "lon": [
          2.213749,
          19.37439
         ],
         "mode": "lines",
         "opacity": 0.6,
         "type": "scattergeo"
        },
        {
         "lat": [
          46.227638,
          35.126413
         ],
         "line": {
          "color": "blue",
          "width": 1
         },
         "locationmode": "ISO-3",
         "lon": [
          2.213749,
          33.429859
         ],
         "mode": "lines",
         "opacity": 0.6,
         "type": "scattergeo"
        },
        {
         "lat": [
          46.227638,
          60.472024
         ],
         "line": {
          "color": "blue",
          "width": 1
         },
         "locationmode": "ISO-3",
         "lon": [
          2.213749,
          8.468946
         ],
         "mode": "lines",
         "opacity": 0.6,
         "type": "scattergeo"
        },
        {
         "lat": [
          46.227638,
          60.128161
         ],
         "line": {
          "color": "blue",
          "width": 1
         },
         "locationmode": "ISO-3",
         "lon": [
          2.213749,
          18.643501
         ],
         "mode": "lines",
         "opacity": 0.6,
         "type": "scattergeo"
        },
        {
         "lat": [
          46.227638,
          49.815273
         ],
         "line": {
          "color": "blue",
          "width": 1
         },
         "locationmode": "ISO-3",
         "lon": [
          2.213749,
          6.129583
         ],
         "mode": "lines",
         "opacity": 0.6,
         "type": "scattergeo"
        },
        {
         "lat": [
          46.227638,
          -25.274398
         ],
         "line": {
          "color": "blue",
          "width": 1
         },
         "locationmode": "ISO-3",
         "lon": [
          2.213749,
          133.775136
         ],
         "mode": "lines",
         "opacity": 0.6,
         "type": "scattergeo"
        },
        {
         "lat": [
          46.227638,
          35.937496
         ],
         "line": {
          "color": "blue",
          "width": 1
         },
         "locationmode": "ISO-3",
         "lon": [
          2.213749,
          14.375416
         ],
         "mode": "lines",
         "opacity": 0.6,
         "type": "scattergeo"
        },
        {
         "lat": [
          33.886917,
          51.165691
         ],
         "line": {
          "color": "blue",
          "width": 1
         },
         "locationmode": "ISO-3",
         "lon": [
          9.537499,
          10.451526
         ],
         "mode": "lines",
         "opacity": 0.6,
         "type": "scattergeo"
        },
        {
         "lat": [
          33.886917,
          46.818188
         ],
         "line": {
          "color": "blue",
          "width": 1
         },
         "locationmode": "ISO-3",
         "lon": [
          9.537499,
          8.227512
         ],
         "mode": "lines",
         "opacity": 0.6,
         "type": "scattergeo"
        },
        {
         "lat": [
          33.886917,
          46.227638
         ],
         "line": {
          "color": "blue",
          "width": 1
         },
         "locationmode": "ISO-3",
         "lon": [
          9.537499,
          2.213749
         ],
         "mode": "lines",
         "opacity": 0.6,
         "type": "scattergeo"
        },
        {
         "lat": [
          33.886917,
          25.354826
         ],
         "line": {
          "color": "blue",
          "width": 1
         },
         "locationmode": "ISO-3",
         "lon": [
          9.537499,
          51.183884
         ],
         "mode": "lines",
         "opacity": 0.6,
         "type": "scattergeo"
        },
        {
         "lat": [
          33.886917,
          42.733883
         ],
         "line": {
          "color": "blue",
          "width": 1
         },
         "locationmode": "ISO-3",
         "lon": [
          9.537499,
          25.48583
         ],
         "mode": "lines",
         "opacity": 0.6,
         "type": "scattergeo"
        },
        {
         "lat": [
          33.886917,
          61.52401
         ],
         "line": {
          "color": "blue",
          "width": 1
         },
         "locationmode": "ISO-3",
         "lon": [
          9.537499,
          105.318756
         ],
         "mode": "lines",
         "opacity": 0.6,
         "type": "scattergeo"
        },
        {
         "lat": [
          33.886917,
          -16.290154
         ],
         "line": {
          "color": "blue",
          "width": 1
         },
         "locationmode": "ISO-3",
         "lon": [
          9.537499,
          -63.588653
         ],
         "mode": "lines",
         "opacity": 0.6,
         "type": "scattergeo"
        },
        {
         "lat": [
          33.886917,
          33.886917
         ],
         "line": {
          "color": "blue",
          "width": 1
         },
         "locationmode": "ISO-3",
         "lon": [
          9.537499,
          9.537499
         ],
         "mode": "lines",
         "opacity": 0.6,
         "type": "scattergeo"
        },
        {
         "lat": [
          33.886917,
          60.472024
         ],
         "line": {
          "color": "blue",
          "width": 1
         },
         "locationmode": "ISO-3",
         "lon": [
          9.537499,
          8.468946
         ],
         "mode": "lines",
         "opacity": 0.6,
         "type": "scattergeo"
        },
        {
         "lat": [
          33.886917,
          61.92411
         ],
         "line": {
          "color": "blue",
          "width": 1
         },
         "locationmode": "ISO-3",
         "lon": [
          9.537499,
          25.748151
         ],
         "mode": "lines",
         "opacity": 0.6,
         "type": "scattergeo"
        },
        {
         "lat": [
          33.886917,
          48.379433
         ],
         "line": {
          "color": "blue",
          "width": 1
         },
         "locationmode": "ISO-3",
         "lon": [
          9.537499,
          31.16558
         ],
         "mode": "lines",
         "opacity": 0.6,
         "type": "scattergeo"
        },
        {
         "lat": [
          33.886917,
          38.963745
         ],
         "line": {
          "color": "blue",
          "width": 1
         },
         "locationmode": "ISO-3",
         "lon": [
          9.537499,
          35.243322
         ],
         "mode": "lines",
         "opacity": 0.6,
         "type": "scattergeo"
        },
        {
         "lat": [
          33.886917,
          23.424076
         ],
         "line": {
          "color": "blue",
          "width": 1
         },
         "locationmode": "ISO-3",
         "lon": [
          9.537499,
          53.847818
         ],
         "mode": "lines",
         "opacity": 0.6,
         "type": "scattergeo"
        },
        {
         "lat": [
          33.886917,
          28.033886
         ],
         "line": {
          "color": "blue",
          "width": 1
         },
         "locationmode": "ISO-3",
         "lon": [
          9.537499,
          1.659626
         ],
         "mode": "lines",
         "opacity": 0.6,
         "type": "scattergeo"
        },
        {
         "lat": [
          33.886917,
          31.791702
         ],
         "line": {
          "color": "blue",
          "width": 1
         },
         "locationmode": "ISO-3",
         "lon": [
          9.537499,
          -7.09262
         ],
         "mode": "lines",
         "opacity": 0.6,
         "type": "scattergeo"
        },
        {
         "lat": [
          33.886917,
          23.885942
         ],
         "line": {
          "color": "blue",
          "width": 1
         },
         "locationmode": "ISO-3",
         "lon": [
          9.537499,
          45.079162
         ],
         "mode": "lines",
         "opacity": 0.6,
         "type": "scattergeo"
        },
        {
         "lat": [
          42.708678,
          47.516231
         ],
         "line": {
          "color": "blue",
          "width": 1
         },
         "locationmode": "ISO-3",
         "lon": [
          19.37439,
          14.550072
         ],
         "mode": "lines",
         "opacity": 0.6,
         "type": "scattergeo"
        },
        {
         "lat": [
          42.708678,
          47.162494
         ],
         "line": {
          "color": "blue",
          "width": 1
         },
         "locationmode": "ISO-3",
         "lon": [
          19.37439,
          19.503304
         ],
         "mode": "lines",
         "opacity": 0.6,
         "type": "scattergeo"
        },
        {
         "lat": [
          42.708678,
          42.708678
         ],
         "line": {
          "color": "blue",
          "width": 1
         },
         "locationmode": "ISO-3",
         "lon": [
          19.37439,
          19.37439
         ],
         "mode": "lines",
         "opacity": 0.6,
         "type": "scattergeo"
        },
        {
         "lat": [
          42.708678,
          44.016521
         ],
         "line": {
          "color": "blue",
          "width": 1
         },
         "locationmode": "ISO-3",
         "lon": [
          19.37439,
          21.005859
         ],
         "mode": "lines",
         "opacity": 0.6,
         "type": "scattergeo"
        },
        {
         "lat": [
          42.708678,
          43.915886
         ],
         "line": {
          "color": "blue",
          "width": 1
         },
         "locationmode": "ISO-3",
         "lon": [
          19.37439,
          17.679076
         ],
         "mode": "lines",
         "opacity": 0.6,
         "type": "scattergeo"
        },
        {
         "lat": [
          42.708678,
          51.919438
         ],
         "line": {
          "color": "blue",
          "width": 1
         },
         "locationmode": "ISO-3",
         "lon": [
          19.37439,
          19.145136
         ],
         "mode": "lines",
         "opacity": 0.6,
         "type": "scattergeo"
        },
        {
         "lat": [
          42.708678,
          51.165691
         ],
         "line": {
          "color": "blue",
          "width": 1
         },
         "locationmode": "ISO-3",
         "lon": [
          19.37439,
          10.451526
         ],
         "mode": "lines",
         "opacity": 0.6,
         "type": "scattergeo"
        },
        {
         "lat": [
          42.708678,
          39.074208
         ],
         "line": {
          "color": "blue",
          "width": 1
         },
         "locationmode": "ISO-3",
         "lon": [
          19.37439,
          21.824312
         ],
         "mode": "lines",
         "opacity": 0.6,
         "type": "scattergeo"
        },
        {
         "lat": [
          42.708678,
          61.92411
         ],
         "line": {
          "color": "blue",
          "width": 1
         },
         "locationmode": "ISO-3",
         "lon": [
          19.37439,
          25.748151
         ],
         "mode": "lines",
         "opacity": 0.6,
         "type": "scattergeo"
        },
        {
         "lat": [
          7.946527,
          44.016521
         ],
         "line": {
          "color": "blue",
          "width": 1
         },
         "locationmode": "ISO-3",
         "lon": [
          -1.023194,
          21.005859
         ],
         "mode": "lines",
         "opacity": 0.6,
         "type": "scattergeo"
        },
        {
         "lat": [
          7.946527,
          50.503887
         ],
         "line": {
          "color": "blue",
          "width": 1
         },
         "locationmode": "ISO-3",
         "lon": [
          -1.023194,
          4.469936
         ],
         "mode": "lines",
         "opacity": 0.6,
         "type": "scattergeo"
        },
        {
         "lat": [
          7.946527,
          31.046051
         ],
         "line": {
          "color": "blue",
          "width": 1
         },
         "locationmode": "ISO-3",
         "lon": [
          -1.023194,
          34.851612
         ],
         "mode": "lines",
         "opacity": 0.6,
         "type": "scattergeo"
        },
        {
         "lat": [
          7.946527,
          -30.559482
         ],
         "line": {
          "color": "blue",
          "width": 1
         },
         "locationmode": "ISO-3",
         "lon": [
          -1.023194,
          22.937506
         ],
         "mode": "lines",
         "opacity": 0.6,
         "type": "scattergeo"
        },
        {
         "lat": [
          7.946527,
          23.885942
         ],
         "line": {
          "color": "blue",
          "width": 1
         },
         "locationmode": "ISO-3",
         "lon": [
          -1.023194,
          45.079162
         ],
         "mode": "lines",
         "opacity": 0.6,
         "type": "scattergeo"
        },
        {
         "lat": [
          7.946527,
          33.886917
         ],
         "line": {
          "color": "blue",
          "width": 1
         },
         "locationmode": "ISO-3",
         "lon": [
          -1.023194,
          9.537499
         ],
         "mode": "lines",
         "opacity": 0.6,
         "type": "scattergeo"
        },
        {
         "lat": [
          7.946527,
          56.26392
         ],
         "line": {
          "color": "blue",
          "width": 1
         },
         "locationmode": "ISO-3",
         "lon": [
          -1.023194,
          9.501785
         ],
         "mode": "lines",
         "opacity": 0.6,
         "type": "scattergeo"
        },
        {
         "lat": [
          7.946527,
          33.854721
         ],
         "line": {
          "color": "blue",
          "width": 1
         },
         "locationmode": "ISO-3",
         "lon": [
          -1.023194,
          35.862285
         ],
         "mode": "lines",
         "opacity": 0.6,
         "type": "scattergeo"
        },
        {
         "lat": [
          7.946527,
          32.427908
         ],
         "line": {
          "color": "blue",
          "width": 1
         },
         "locationmode": "ISO-3",
         "lon": [
          -1.023194,
          53.688046
         ],
         "mode": "lines",
         "opacity": 0.6,
         "type": "scattergeo"
        },
        {
         "lat": [
          49.815273,
          51.165691
         ],
         "line": {
          "color": "blue",
          "width": 1
         },
         "locationmode": "ISO-3",
         "lon": [
          6.129583,
          10.451526
         ],
         "mode": "lines",
         "opacity": 0.6,
         "type": "scattergeo"
        },
        {
         "lat": [
          49.815273,
          49.815273
         ],
         "line": {
          "color": "blue",
          "width": 1
         },
         "locationmode": "ISO-3",
         "lon": [
          6.129583,
          6.129583
         ],
         "mode": "lines",
         "opacity": 0.6,
         "type": "scattergeo"
        },
        {
         "lat": [
          9.081999,
          52.132633
         ],
         "line": {
          "color": "blue",
          "width": 1
         },
         "locationmode": "ISO-3",
         "lon": [
          8.675277,
          5.291266
         ],
         "mode": "lines",
         "opacity": 0.6,
         "type": "scattergeo"
        },
        {
         "lat": [
          9.081999,
          23.424076
         ],
         "line": {
          "color": "blue",
          "width": 1
         },
         "locationmode": "ISO-3",
         "lon": [
          8.675277,
          53.847818
         ],
         "mode": "lines",
         "opacity": 0.6,
         "type": "scattergeo"
        },
        {
         "lat": [
          9.081999,
          60.128161
         ],
         "line": {
          "color": "blue",
          "width": 1
         },
         "locationmode": "ISO-3",
         "lon": [
          8.675277,
          18.643501
         ],
         "mode": "lines",
         "opacity": 0.6,
         "type": "scattergeo"
        },
        {
         "lat": [
          9.081999,
          41.87194
         ],
         "line": {
          "color": "blue",
          "width": 1
         },
         "locationmode": "ISO-3",
         "lon": [
          8.675277,
          12.56738
         ],
         "mode": "lines",
         "opacity": 0.6,
         "type": "scattergeo"
        },
        {
         "lat": [
          9.081999,
          46.227638
         ],
         "line": {
          "color": "blue",
          "width": 1
         },
         "locationmode": "ISO-3",
         "lon": [
          8.675277,
          2.213749
         ],
         "mode": "lines",
         "opacity": 0.6,
         "type": "scattergeo"
        },
        {
         "lat": [
          9.081999,
          38.963745
         ],
         "line": {
          "color": "blue",
          "width": 1
         },
         "locationmode": "ISO-3",
         "lon": [
          8.675277,
          35.243322
         ],
         "mode": "lines",
         "opacity": 0.6,
         "type": "scattergeo"
        },
        {
         "lat": [
          9.081999,
          50.503887
         ],
         "line": {
          "color": "blue",
          "width": 1
         },
         "locationmode": "ISO-3",
         "lon": [
          8.675277,
          4.469936
         ],
         "mode": "lines",
         "opacity": 0.6,
         "type": "scattergeo"
        },
        {
         "lat": [
          9.081999,
          33.886917
         ],
         "line": {
          "color": "blue",
          "width": 1
         },
         "locationmode": "ISO-3",
         "lon": [
          8.675277,
          9.537499
         ],
         "mode": "lines",
         "opacity": 0.6,
         "type": "scattergeo"
        },
        {
         "lat": [
          9.081999,
          9.081999
         ],
         "line": {
          "color": "blue",
          "width": 1
         },
         "locationmode": "ISO-3",
         "lon": [
          8.675277,
          8.675277
         ],
         "mode": "lines",
         "opacity": 0.6,
         "type": "scattergeo"
        },
        {
         "lat": [
          9.081999,
          -38.416097
         ],
         "line": {
          "color": "blue",
          "width": 1
         },
         "locationmode": "ISO-3",
         "lon": [
          8.675277,
          -63.616672
         ],
         "mode": "lines",
         "opacity": 0.6,
         "type": "scattergeo"
        },
        {
         "lat": [
          9.081999,
          -30.559482
         ],
         "line": {
          "color": "blue",
          "width": 1
         },
         "locationmode": "ISO-3",
         "lon": [
          8.675277,
          22.937506
         ],
         "mode": "lines",
         "opacity": 0.6,
         "type": "scattergeo"
        },
        {
         "lat": [
          9.081999,
          40.143105
         ],
         "line": {
          "color": "blue",
          "width": 1
         },
         "locationmode": "ISO-3",
         "lon": [
          8.675277,
          47.576927
         ],
         "mode": "lines",
         "opacity": 0.6,
         "type": "scattergeo"
        },
        {
         "lat": [
          9.081999,
          31.046051
         ],
         "line": {
          "color": "blue",
          "width": 1
         },
         "locationmode": "ISO-3",
         "lon": [
          8.675277,
          34.851612
         ],
         "mode": "lines",
         "opacity": 0.6,
         "type": "scattergeo"
        },
        {
         "lat": [
          41.608635,
          41.608635
         ],
         "line": {
          "color": "blue",
          "width": 1
         },
         "locationmode": "ISO-3",
         "lon": [
          21.745275,
          21.745275
         ],
         "mode": "lines",
         "opacity": 0.6,
         "type": "scattergeo"
        },
        {
         "lat": [
          41.608635,
          51.165691
         ],
         "line": {
          "color": "blue",
          "width": 1
         },
         "locationmode": "ISO-3",
         "lon": [
          21.745275,
          10.451526
         ],
         "mode": "lines",
         "opacity": 0.6,
         "type": "scattergeo"
        },
        {
         "lat": [
          41.608635,
          43.915886
         ],
         "line": {
          "color": "blue",
          "width": 1
         },
         "locationmode": "ISO-3",
         "lon": [
          21.745275,
          17.679076
         ],
         "mode": "lines",
         "opacity": 0.6,
         "type": "scattergeo"
        },
        {
         "lat": [
          41.608635,
          50.503887
         ],
         "line": {
          "color": "blue",
          "width": 1
         },
         "locationmode": "ISO-3",
         "lon": [
          21.745275,
          4.469936
         ],
         "mode": "lines",
         "opacity": 0.6,
         "type": "scattergeo"
        },
        {
         "lat": [
          41.608635,
          45.1
         ],
         "line": {
          "color": "blue",
          "width": 1
         },
         "locationmode": "ISO-3",
         "lon": [
          21.745275,
          15.2
         ],
         "mode": "lines",
         "opacity": 0.6,
         "type": "scattergeo"
        },
        {
         "lat": [
          41.608635,
          44.016521
         ],
         "line": {
          "color": "blue",
          "width": 1
         },
         "locationmode": "ISO-3",
         "lon": [
          21.745275,
          21.005859
         ],
         "mode": "lines",
         "opacity": 0.6,
         "type": "scattergeo"
        },
        {
         "lat": [
          -38.416097,
          40.463667
         ],
         "line": {
          "color": "blue",
          "width": 1
         },
         "locationmode": "ISO-3",
         "lon": [
          -63.616672,
          -3.74922
         ],
         "mode": "lines",
         "opacity": 0.6,
         "type": "scattergeo"
        },
        {
         "lat": [
          -38.416097,
          51.165691
         ],
         "line": {
          "color": "blue",
          "width": 1
         },
         "locationmode": "ISO-3",
         "lon": [
          -63.616672,
          10.451526
         ],
         "mode": "lines",
         "opacity": 0.6,
         "type": "scattergeo"
        },
        {
         "lat": [
          -38.416097,
          -38.416097
         ],
         "line": {
          "color": "blue",
          "width": 1
         },
         "locationmode": "ISO-3",
         "lon": [
          -63.616672,
          -63.616672
         ],
         "mode": "lines",
         "opacity": 0.6,
         "type": "scattergeo"
        },
        {
         "lat": [
          -38.416097,
          61.52401
         ],
         "line": {
          "color": "blue",
          "width": 1
         },
         "locationmode": "ISO-3",
         "lon": [
          -63.616672,
          105.318756
         ],
         "mode": "lines",
         "opacity": 0.6,
         "type": "scattergeo"
        },
        {
         "lat": [
          -38.416097,
          37.09024
         ],
         "line": {
          "color": "blue",
          "width": 1
         },
         "locationmode": "ISO-3",
         "lon": [
          -63.616672,
          -95.712891
         ],
         "mode": "lines",
         "opacity": 0.6,
         "type": "scattergeo"
        },
        {
         "lat": [
          -38.416097,
          4.570868
         ],
         "line": {
          "color": "blue",
          "width": 1
         },
         "locationmode": "ISO-3",
         "lon": [
          -63.616672,
          -74.297333
         ],
         "mode": "lines",
         "opacity": 0.6,
         "type": "scattergeo"
        },
        {
         "lat": [
          -38.416097,
          46.818188
         ],
         "line": {
          "color": "blue",
          "width": 1
         },
         "locationmode": "ISO-3",
         "lon": [
          -63.616672,
          8.227512
         ],
         "mode": "lines",
         "opacity": 0.6,
         "type": "scattergeo"
        },
        {
         "lat": [
          -38.416097,
          23.634501
         ],
         "line": {
          "color": "blue",
          "width": 1
         },
         "locationmode": "ISO-3",
         "lon": [
          -63.616672,
          -102.552784
         ],
         "mode": "lines",
         "opacity": 0.6,
         "type": "scattergeo"
        },
        {
         "lat": [
          -38.416097,
          23.424076
         ],
         "line": {
          "color": "blue",
          "width": 1
         },
         "locationmode": "ISO-3",
         "lon": [
          -63.616672,
          53.847818
         ],
         "mode": "lines",
         "opacity": 0.6,
         "type": "scattergeo"
        },
        {
         "lat": [
          -38.416097,
          -14.235004
         ],
         "line": {
          "color": "blue",
          "width": 1
         },
         "locationmode": "ISO-3",
         "lon": [
          -63.616672,
          -51.92528
         ],
         "mode": "lines",
         "opacity": 0.6,
         "type": "scattergeo"
        },
        {
         "lat": [
          -38.416097,
          41.87194
         ],
         "line": {
          "color": "blue",
          "width": 1
         },
         "locationmode": "ISO-3",
         "lon": [
          -63.616672,
          12.56738
         ],
         "mode": "lines",
         "opacity": 0.6,
         "type": "scattergeo"
        },
        {
         "lat": [
          -38.416097,
          46.227638
         ],
         "line": {
          "color": "blue",
          "width": 1
         },
         "locationmode": "ISO-3",
         "lon": [
          -63.616672,
          2.213749
         ],
         "mode": "lines",
         "opacity": 0.6,
         "type": "scattergeo"
        },
        {
         "lat": [
          -38.416097,
          49.817492
         ],
         "line": {
          "color": "blue",
          "width": 1
         },
         "locationmode": "ISO-3",
         "lon": [
          -63.616672,
          15.472962
         ],
         "mode": "lines",
         "opacity": 0.6,
         "type": "scattergeo"
        },
        {
         "lat": [
          -38.416097,
          -9.189967
         ],
         "line": {
          "color": "blue",
          "width": 1
         },
         "locationmode": "ISO-3",
         "lon": [
          -63.616672,
          -75.015152
         ],
         "mode": "lines",
         "opacity": 0.6,
         "type": "scattergeo"
        },
        {
         "lat": [
          -38.416097,
          9.748917
         ],
         "line": {
          "color": "blue",
          "width": 1
         },
         "locationmode": "ISO-3",
         "lon": [
          -63.616672,
          -83.753428
         ],
         "mode": "lines",
         "opacity": 0.6,
         "type": "scattergeo"
        },
        {
         "lat": [
          -38.416097,
          -23.442503
         ],
         "line": {
          "color": "blue",
          "width": 1
         },
         "locationmode": "ISO-3",
         "lon": [
          -63.616672,
          -58.443832
         ],
         "mode": "lines",
         "opacity": 0.6,
         "type": "scattergeo"
        },
        {
         "lat": [
          -38.416097,
          55.378051
         ],
         "line": {
          "color": "blue",
          "width": 1
         },
         "locationmode": "ISO-3",
         "lon": [
          -63.616672,
          -3.435973
         ],
         "mode": "lines",
         "opacity": 0.6,
         "type": "scattergeo"
        },
        {
         "lat": [
          -38.416097,
          -35.675147
         ],
         "line": {
          "color": "blue",
          "width": 1
         },
         "locationmode": "ISO-3",
         "lon": [
          -63.616672,
          -71.542969
         ],
         "mode": "lines",
         "opacity": 0.6,
         "type": "scattergeo"
        },
        {
         "lat": [
          -38.416097,
          39.399872
         ],
         "line": {
          "color": "blue",
          "width": 1
         },
         "locationmode": "ISO-3",
         "lon": [
          -63.616672,
          -8.224454
         ],
         "mode": "lines",
         "opacity": 0.6,
         "type": "scattergeo"
        },
        {
         "lat": [
          -38.416097,
          -16.290154
         ],
         "line": {
          "color": "blue",
          "width": 1
         },
         "locationmode": "ISO-3",
         "lon": [
          -63.616672,
          -63.588653
         ],
         "mode": "lines",
         "opacity": 0.6,
         "type": "scattergeo"
        },
        {
         "lat": [
          -38.416097,
          -1.831239
         ],
         "line": {
          "color": "blue",
          "width": 1
         },
         "locationmode": "ISO-3",
         "lon": [
          -63.616672,
          -78.183406
         ],
         "mode": "lines",
         "opacity": 0.6,
         "type": "scattergeo"
        },
        {
         "lat": [
          -38.416097,
          -32.522779
         ],
         "line": {
          "color": "blue",
          "width": 1
         },
         "locationmode": "ISO-3",
         "lon": [
          -63.616672,
          -55.765835
         ],
         "mode": "lines",
         "opacity": 0.6,
         "type": "scattergeo"
        },
        {
         "lat": [
          -38.416097,
          47.516231
         ],
         "line": {
          "color": "blue",
          "width": 1
         },
         "locationmode": "ISO-3",
         "lon": [
          -63.616672,
          14.550072
         ],
         "mode": "lines",
         "opacity": 0.6,
         "type": "scattergeo"
        },
        {
         "lat": [
          -38.416097,
          39.074208
         ],
         "line": {
          "color": "blue",
          "width": 1
         },
         "locationmode": "ISO-3",
         "lon": [
          -63.616672,
          21.824312
         ],
         "mode": "lines",
         "opacity": 0.6,
         "type": "scattergeo"
        },
        {
         "lat": [
          -38.416097,
          50.503887
         ],
         "line": {
          "color": "blue",
          "width": 1
         },
         "locationmode": "ISO-3",
         "lon": [
          -63.616672,
          4.469936
         ],
         "mode": "lines",
         "opacity": 0.6,
         "type": "scattergeo"
        },
        {
         "lat": [
          -38.416097,
          6.42375
         ],
         "line": {
          "color": "blue",
          "width": 1
         },
         "locationmode": "ISO-3",
         "lon": [
          -63.616672,
          -66.58973
         ],
         "mode": "lines",
         "opacity": 0.6,
         "type": "scattergeo"
        },
        {
         "lat": [
          -38.416097,
          52.132633
         ],
         "line": {
          "color": "blue",
          "width": 1
         },
         "locationmode": "ISO-3",
         "lon": [
          -63.616672,
          5.291266
         ],
         "mode": "lines",
         "opacity": 0.6,
         "type": "scattergeo"
        },
        {
         "lat": [
          -38.416097,
          60.472024
         ],
         "line": {
          "color": "blue",
          "width": 1
         },
         "locationmode": "ISO-3",
         "lon": [
          -63.616672,
          8.468946
         ],
         "mode": "lines",
         "opacity": 0.6,
         "type": "scattergeo"
        },
        {
         "lat": [
          -38.416097,
          31.046051
         ],
         "line": {
          "color": "blue",
          "width": 1
         },
         "locationmode": "ISO-3",
         "lon": [
          -63.616672,
          34.851612
         ],
         "mode": "lines",
         "opacity": 0.6,
         "type": "scattergeo"
        },
        {
         "lat": [
          -38.416097,
          13.794185
         ],
         "line": {
          "color": "blue",
          "width": 1
         },
         "locationmode": "ISO-3",
         "lon": [
          -63.616672,
          -88.89653
         ],
         "mode": "lines",
         "opacity": 0.6,
         "type": "scattergeo"
        },
        {
         "lat": [
          -38.416097,
          15.199999
         ],
         "line": {
          "color": "blue",
          "width": 1
         },
         "locationmode": "ISO-3",
         "lon": [
          -63.616672,
          -86.241905
         ],
         "mode": "lines",
         "opacity": 0.6,
         "type": "scattergeo"
        },
        {
         "lat": [
          -38.416097,
          4.210484
         ],
         "line": {
          "color": "blue",
          "width": 1
         },
         "locationmode": "ISO-3",
         "lon": [
          -63.616672,
          101.975766
         ],
         "mode": "lines",
         "opacity": 0.6,
         "type": "scattergeo"
        },
        {
         "lat": [
          35.907757,
          35.907757
         ],
         "line": {
          "color": "blue",
          "width": 1
         },
         "locationmode": "ISO-3",
         "lon": [
          127.766922,
          127.766922
         ],
         "mode": "lines",
         "opacity": 0.6,
         "type": "scattergeo"
        },
        {
         "lat": [
          35.907757,
          45.1
         ],
         "line": {
          "color": "blue",
          "width": 1
         },
         "locationmode": "ISO-3",
         "lon": [
          127.766922,
          15.2
         ],
         "mode": "lines",
         "opacity": 0.6,
         "type": "scattergeo"
        },
        {
         "lat": [
          35.907757,
          35.86166
         ],
         "line": {
          "color": "blue",
          "width": 1
         },
         "locationmode": "ISO-3",
         "lon": [
          127.766922,
          104.195397
         ],
         "mode": "lines",
         "opacity": 0.6,
         "type": "scattergeo"
        },
        {
         "lat": [
          35.907757,
          39.399872
         ],
         "line": {
          "color": "blue",
          "width": 1
         },
         "locationmode": "ISO-3",
         "lon": [
          127.766922,
          -8.224454
         ],
         "mode": "lines",
         "opacity": 0.6,
         "type": "scattergeo"
        },
        {
         "lat": [
          35.907757,
          61.52401
         ],
         "line": {
          "color": "blue",
          "width": 1
         },
         "locationmode": "ISO-3",
         "lon": [
          127.766922,
          105.318756
         ],
         "mode": "lines",
         "opacity": 0.6,
         "type": "scattergeo"
        },
        {
         "lat": [
          35.907757,
          36.204824
         ],
         "line": {
          "color": "blue",
          "width": 1
         },
         "locationmode": "ISO-3",
         "lon": [
          127.766922,
          138.252924
         ],
         "mode": "lines",
         "opacity": 0.6,
         "type": "scattergeo"
        },
        {
         "lat": [
          35.907757,
          55.378051
         ],
         "line": {
          "color": "blue",
          "width": 1
         },
         "locationmode": "ISO-3",
         "lon": [
          127.766922,
          -3.435973
         ],
         "mode": "lines",
         "opacity": 0.6,
         "type": "scattergeo"
        },
        {
         "lat": [
          35.907757,
          37.09024
         ],
         "line": {
          "color": "blue",
          "width": 1
         },
         "locationmode": "ISO-3",
         "lon": [
          127.766922,
          -95.712891
         ],
         "mode": "lines",
         "opacity": 0.6,
         "type": "scattergeo"
        },
        {
         "lat": [
          35.907757,
          -14.235004
         ],
         "line": {
          "color": "blue",
          "width": 1
         },
         "locationmode": "ISO-3",
         "lon": [
          127.766922,
          -51.92528
         ],
         "mode": "lines",
         "opacity": 0.6,
         "type": "scattergeo"
        },
        {
         "lat": [
          35.907757,
          35.126413
         ],
         "line": {
          "color": "blue",
          "width": 1
         },
         "locationmode": "ISO-3",
         "lon": [
          127.766922,
          33.429859
         ],
         "mode": "lines",
         "opacity": 0.6,
         "type": "scattergeo"
        },
        {
         "lat": [
          35.907757,
          1.352083
         ],
         "line": {
          "color": "blue",
          "width": 1
         },
         "locationmode": "ISO-3",
         "lon": [
          127.766922,
          103.819836
         ],
         "mode": "lines",
         "opacity": 0.6,
         "type": "scattergeo"
        },
        {
         "lat": [
          4.210484,
          51.165691
         ],
         "line": {
          "color": "blue",
          "width": 1
         },
         "locationmode": "ISO-3",
         "lon": [
          101.975766,
          10.451526
         ],
         "mode": "lines",
         "opacity": 0.6,
         "type": "scattergeo"
        },
        {
         "lat": [
          4.210484,
          -25.274398
         ],
         "line": {
          "color": "blue",
          "width": 1
         },
         "locationmode": "ISO-3",
         "lon": [
          101.975766,
          133.775136
         ],
         "mode": "lines",
         "opacity": 0.6,
         "type": "scattergeo"
        },
        {
         "lat": [
          4.210484,
          48.669026
         ],
         "line": {
          "color": "blue",
          "width": 1
         },
         "locationmode": "ISO-3",
         "lon": [
          101.975766,
          19.699024
         ],
         "mode": "lines",
         "opacity": 0.6,
         "type": "scattergeo"
        },
        {
         "lat": [
          4.210484,
          20.593684
         ],
         "line": {
          "color": "blue",
          "width": 1
         },
         "locationmode": "ISO-3",
         "lon": [
          101.975766,
          78.96288
         ],
         "mode": "lines",
         "opacity": 0.6,
         "type": "scattergeo"
        },
        {
         "lat": [
          4.210484,
          4.210484
         ],
         "line": {
          "color": "blue",
          "width": 1
         },
         "locationmode": "ISO-3",
         "lon": [
          101.975766,
          101.975766
         ],
         "mode": "lines",
         "opacity": 0.6,
         "type": "scattergeo"
        },
        {
         "lat": [
          4.210484,
          -16.290154
         ],
         "line": {
          "color": "blue",
          "width": 1
         },
         "locationmode": "ISO-3",
         "lon": [
          101.975766,
          -63.588653
         ],
         "mode": "lines",
         "opacity": 0.6,
         "type": "scattergeo"
        },
        {
         "lat": [
          4.210484,
          -38.416097
         ],
         "line": {
          "color": "blue",
          "width": 1
         },
         "locationmode": "ISO-3",
         "lon": [
          101.975766,
          -63.616672
         ],
         "mode": "lines",
         "opacity": 0.6,
         "type": "scattergeo"
        },
        {
         "lat": [
          4.210484,
          64.963051
         ],
         "line": {
          "color": "blue",
          "width": 1
         },
         "locationmode": "ISO-3",
         "lon": [
          101.975766,
          -19.020835
         ],
         "mode": "lines",
         "opacity": 0.6,
         "type": "scattergeo"
        },
        {
         "lat": [
          4.210484,
          36.204824
         ],
         "line": {
          "color": "blue",
          "width": 1
         },
         "locationmode": "ISO-3",
         "lon": [
          101.975766,
          138.252924
         ],
         "mode": "lines",
         "opacity": 0.6,
         "type": "scattergeo"
        },
        {
         "lat": [
          4.210484,
          1.352083
         ],
         "line": {
          "color": "blue",
          "width": 1
         },
         "locationmode": "ISO-3",
         "lon": [
          101.975766,
          103.819836
         ],
         "mode": "lines",
         "opacity": 0.6,
         "type": "scattergeo"
        },
        {
         "lat": [
          61.92411,
          51.165691
         ],
         "line": {
          "color": "blue",
          "width": 1
         },
         "locationmode": "ISO-3",
         "lon": [
          25.748151,
          10.451526
         ],
         "mode": "lines",
         "opacity": 0.6,
         "type": "scattergeo"
        },
        {
         "lat": [
          61.92411,
          52.132633
         ],
         "line": {
          "color": "blue",
          "width": 1
         },
         "locationmode": "ISO-3",
         "lon": [
          25.748151,
          5.291266
         ],
         "mode": "lines",
         "opacity": 0.6,
         "type": "scattergeo"
        },
        {
         "lat": [
          61.92411,
          61.92411
         ],
         "line": {
          "color": "blue",
          "width": 1
         },
         "locationmode": "ISO-3",
         "lon": [
          25.748151,
          25.748151
         ],
         "mode": "lines",
         "opacity": 0.6,
         "type": "scattergeo"
        },
        {
         "lat": [
          61.92411,
          46.818188
         ],
         "line": {
          "color": "blue",
          "width": 1
         },
         "locationmode": "ISO-3",
         "lon": [
          25.748151,
          8.227512
         ],
         "mode": "lines",
         "opacity": 0.6,
         "type": "scattergeo"
        },
        {
         "lat": [
          61.92411,
          48.019573
         ],
         "line": {
          "color": "blue",
          "width": 1
         },
         "locationmode": "ISO-3",
         "lon": [
          25.748151,
          66.923684
         ],
         "mode": "lines",
         "opacity": 0.6,
         "type": "scattergeo"
        },
        {
         "lat": [
          61.92411,
          60.472024
         ],
         "line": {
          "color": "blue",
          "width": 1
         },
         "locationmode": "ISO-3",
         "lon": [
          25.748151,
          8.468946
         ],
         "mode": "lines",
         "opacity": 0.6,
         "type": "scattergeo"
        },
        {
         "lat": [
          61.92411,
          55.378051
         ],
         "line": {
          "color": "blue",
          "width": 1
         },
         "locationmode": "ISO-3",
         "lon": [
          25.748151,
          -3.435973
         ],
         "mode": "lines",
         "opacity": 0.6,
         "type": "scattergeo"
        },
        {
         "lat": [
          61.92411,
          60.128161
         ],
         "line": {
          "color": "blue",
          "width": 1
         },
         "locationmode": "ISO-3",
         "lon": [
          25.748151,
          18.643501
         ],
         "mode": "lines",
         "opacity": 0.6,
         "type": "scattergeo"
        },
        {
         "lat": [
          61.92411,
          61.52401
         ],
         "line": {
          "color": "blue",
          "width": 1
         },
         "locationmode": "ISO-3",
         "lon": [
          25.748151,
          105.318756
         ],
         "mode": "lines",
         "opacity": 0.6,
         "type": "scattergeo"
        },
        {
         "lat": [
          61.92411,
          46.227638
         ],
         "line": {
          "color": "blue",
          "width": 1
         },
         "locationmode": "ISO-3",
         "lon": [
          25.748151,
          2.213749
         ],
         "mode": "lines",
         "opacity": 0.6,
         "type": "scattergeo"
        },
        {
         "lat": [
          61.92411,
          41.87194
         ],
         "line": {
          "color": "blue",
          "width": 1
         },
         "locationmode": "ISO-3",
         "lon": [
          25.748151,
          12.56738
         ],
         "mode": "lines",
         "opacity": 0.6,
         "type": "scattergeo"
        },
        {
         "lat": [
          61.92411,
          32.427908
         ],
         "line": {
          "color": "blue",
          "width": 1
         },
         "locationmode": "ISO-3",
         "lon": [
          25.748151,
          53.688046
         ],
         "mode": "lines",
         "opacity": 0.6,
         "type": "scattergeo"
        },
        {
         "lat": [
          61.92411,
          47.162494
         ],
         "line": {
          "color": "blue",
          "width": 1
         },
         "locationmode": "ISO-3",
         "lon": [
          25.748151,
          19.503304
         ],
         "mode": "lines",
         "opacity": 0.6,
         "type": "scattergeo"
        },
        {
         "lat": [
          61.92411,
          -32.522779
         ],
         "line": {
          "color": "blue",
          "width": 1
         },
         "locationmode": "ISO-3",
         "lon": [
          25.748151,
          -55.765835
         ],
         "mode": "lines",
         "opacity": 0.6,
         "type": "scattergeo"
        },
        {
         "lat": [
          61.92411,
          42.733883
         ],
         "line": {
          "color": "blue",
          "width": 1
         },
         "locationmode": "ISO-3",
         "lon": [
          25.748151,
          25.48583
         ],
         "mode": "lines",
         "opacity": 0.6,
         "type": "scattergeo"
        },
        {
         "lat": [
          61.92411,
          53.709807
         ],
         "line": {
          "color": "blue",
          "width": 1
         },
         "locationmode": "ISO-3",
         "lon": [
          25.748151,
          27.953389
         ],
         "mode": "lines",
         "opacity": 0.6,
         "type": "scattergeo"
        },
        {
         "lat": [
          61.92411,
          35.937496
         ],
         "line": {
          "color": "blue",
          "width": 1
         },
         "locationmode": "ISO-3",
         "lon": [
          25.748151,
          14.375416
         ],
         "mode": "lines",
         "opacity": 0.6,
         "type": "scattergeo"
        },
        {
         "lat": [
          48.379433,
          40.143105
         ],
         "line": {
          "color": "blue",
          "width": 1
         },
         "locationmode": "ISO-3",
         "lon": [
          31.16558,
          47.576927
         ],
         "mode": "lines",
         "opacity": 0.6,
         "type": "scattergeo"
        },
        {
         "lat": [
          48.379433,
          38.963745
         ],
         "line": {
          "color": "blue",
          "width": 1
         },
         "locationmode": "ISO-3",
         "lon": [
          31.16558,
          35.243322
         ],
         "mode": "lines",
         "opacity": 0.6,
         "type": "scattergeo"
        },
        {
         "lat": [
          48.379433,
          48.379433
         ],
         "line": {
          "color": "blue",
          "width": 1
         },
         "locationmode": "ISO-3",
         "lon": [
          31.16558,
          31.16558
         ],
         "mode": "lines",
         "opacity": 0.6,
         "type": "scattergeo"
        },
        {
         "lat": [
          48.379433,
          41.87194
         ],
         "line": {
          "color": "blue",
          "width": 1
         },
         "locationmode": "ISO-3",
         "lon": [
          31.16558,
          12.56738
         ],
         "mode": "lines",
         "opacity": 0.6,
         "type": "scattergeo"
        },
        {
         "lat": [
          48.379433,
          44.016521
         ],
         "line": {
          "color": "blue",
          "width": 1
         },
         "locationmode": "ISO-3",
         "lon": [
          31.16558,
          21.005859
         ],
         "mode": "lines",
         "opacity": 0.6,
         "type": "scattergeo"
        },
        {
         "lat": [
          48.379433,
          55.378051
         ],
         "line": {
          "color": "blue",
          "width": 1
         },
         "locationmode": "ISO-3",
         "lon": [
          31.16558,
          -3.435973
         ],
         "mode": "lines",
         "opacity": 0.6,
         "type": "scattergeo"
        },
        {
         "lat": [
          48.379433,
          61.52401
         ],
         "line": {
          "color": "blue",
          "width": 1
         },
         "locationmode": "ISO-3",
         "lon": [
          31.16558,
          105.318756
         ],
         "mode": "lines",
         "opacity": 0.6,
         "type": "scattergeo"
        },
        {
         "lat": [
          48.379433,
          45.1
         ],
         "line": {
          "color": "blue",
          "width": 1
         },
         "locationmode": "ISO-3",
         "lon": [
          31.16558,
          15.2
         ],
         "mode": "lines",
         "opacity": 0.6,
         "type": "scattergeo"
        },
        {
         "lat": [
          48.379433,
          42.315407
         ],
         "line": {
          "color": "blue",
          "width": 1
         },
         "locationmode": "ISO-3",
         "lon": [
          31.16558,
          43.356892
         ],
         "mode": "lines",
         "opacity": 0.6,
         "type": "scattergeo"
        },
        {
         "lat": [
          48.379433,
          45.943161
         ],
         "line": {
          "color": "blue",
          "width": 1
         },
         "locationmode": "ISO-3",
         "lon": [
          31.16558,
          24.96676
         ],
         "mode": "lines",
         "opacity": 0.6,
         "type": "scattergeo"
        },
        {
         "lat": [
          48.379433,
          -23.442503
         ],
         "line": {
          "color": "blue",
          "width": 1
         },
         "locationmode": "ISO-3",
         "lon": [
          31.16558,
          -58.443832
         ],
         "mode": "lines",
         "opacity": 0.6,
         "type": "scattergeo"
        },
        {
         "lat": [
          48.379433,
          47.516231
         ],
         "line": {
          "color": "blue",
          "width": 1
         },
         "locationmode": "ISO-3",
         "lon": [
          31.16558,
          14.550072
         ],
         "mode": "lines",
         "opacity": 0.6,
         "type": "scattergeo"
        },
        {
         "lat": [
          48.379433,
          53.709807
         ],
         "line": {
          "color": "blue",
          "width": 1
         },
         "locationmode": "ISO-3",
         "lon": [
          31.16558,
          27.953389
         ],
         "mode": "lines",
         "opacity": 0.6,
         "type": "scattergeo"
        },
        {
         "lat": [
          48.379433,
          56.879635
         ],
         "line": {
          "color": "blue",
          "width": 1
         },
         "locationmode": "ISO-3",
         "lon": [
          31.16558,
          24.603189
         ],
         "mode": "lines",
         "opacity": 0.6,
         "type": "scattergeo"
        },
        {
         "lat": [
          48.379433,
          41.153332
         ],
         "line": {
          "color": "blue",
          "width": 1
         },
         "locationmode": "ISO-3",
         "lon": [
          31.16558,
          20.168331
         ],
         "mode": "lines",
         "opacity": 0.6,
         "type": "scattergeo"
        },
        {
         "lat": [
          40.143105,
          51.165691
         ],
         "line": {
          "color": "blue",
          "width": 1
         },
         "locationmode": "ISO-3",
         "lon": [
          47.576927,
          10.451526
         ],
         "mode": "lines",
         "opacity": 0.6,
         "type": "scattergeo"
        },
        {
         "lat": [
          40.143105,
          46.818188
         ],
         "line": {
          "color": "blue",
          "width": 1
         },
         "locationmode": "ISO-3",
         "lon": [
          47.576927,
          8.227512
         ],
         "mode": "lines",
         "opacity": 0.6,
         "type": "scattergeo"
        },
        {
         "lat": [
          40.143105,
          60.128161
         ],
         "line": {
          "color": "blue",
          "width": 1
         },
         "locationmode": "ISO-3",
         "lon": [
          47.576927,
          18.643501
         ],
         "mode": "lines",
         "opacity": 0.6,
         "type": "scattergeo"
        },
        {
         "lat": [
          40.143105,
          38.963745
         ],
         "line": {
          "color": "blue",
          "width": 1
         },
         "locationmode": "ISO-3",
         "lon": [
          47.576927,
          35.243322
         ],
         "mode": "lines",
         "opacity": 0.6,
         "type": "scattergeo"
        },
        {
         "lat": [
          40.143105,
          40.143105
         ],
         "line": {
          "color": "blue",
          "width": 1
         },
         "locationmode": "ISO-3",
         "lon": [
          47.576927,
          47.576927
         ],
         "mode": "lines",
         "opacity": 0.6,
         "type": "scattergeo"
        },
        {
         "lat": [
          40.143105,
          42.315407
         ],
         "line": {
          "color": "blue",
          "width": 1
         },
         "locationmode": "ISO-3",
         "lon": [
          47.576927,
          43.356892
         ],
         "mode": "lines",
         "opacity": 0.6,
         "type": "scattergeo"
        },
        {
         "lat": [
          40.143105,
          48.379433
         ],
         "line": {
          "color": "blue",
          "width": 1
         },
         "locationmode": "ISO-3",
         "lon": [
          47.576927,
          31.16558
         ],
         "mode": "lines",
         "opacity": 0.6,
         "type": "scattergeo"
        },
        {
         "lat": [
          40.143105,
          41.377491
         ],
         "line": {
          "color": "blue",
          "width": 1
         },
         "locationmode": "ISO-3",
         "lon": [
          47.576927,
          64.585262
         ],
         "mode": "lines",
         "opacity": 0.6,
         "type": "scattergeo"
        },
        {
         "lat": [
          40.143105,
          53.709807
         ],
         "line": {
          "color": "blue",
          "width": 1
         },
         "locationmode": "ISO-3",
         "lon": [
          47.576927,
          27.953389
         ],
         "mode": "lines",
         "opacity": 0.6,
         "type": "scattergeo"
        },
        {
         "lat": [
          43.915886,
          43.915886
         ],
         "line": {
          "color": "blue",
          "width": 1
         },
         "locationmode": "ISO-3",
         "lon": [
          17.679076,
          17.679076
         ],
         "mode": "lines",
         "opacity": 0.6,
         "type": "scattergeo"
        },
        {
         "lat": [
          43.915886,
          40.143105
         ],
         "line": {
          "color": "blue",
          "width": 1
         },
         "locationmode": "ISO-3",
         "lon": [
          17.679076,
          47.576927
         ],
         "mode": "lines",
         "opacity": 0.6,
         "type": "scattergeo"
        },
        {
         "lat": [
          43.915886,
          42.733883
         ],
         "line": {
          "color": "blue",
          "width": 1
         },
         "locationmode": "ISO-3",
         "lon": [
          17.679076,
          25.48583
         ],
         "mode": "lines",
         "opacity": 0.6,
         "type": "scattergeo"
        },
        {
         "lat": [
          43.915886,
          51.919438
         ],
         "line": {
          "color": "blue",
          "width": 1
         },
         "locationmode": "ISO-3",
         "lon": [
          17.679076,
          19.145136
         ],
         "mode": "lines",
         "opacity": 0.6,
         "type": "scattergeo"
        },
        {
         "lat": [
          43.915886,
          48.019573
         ],
         "line": {
          "color": "blue",
          "width": 1
         },
         "locationmode": "ISO-3",
         "lon": [
          17.679076,
          66.923684
         ],
         "mode": "lines",
         "opacity": 0.6,
         "type": "scattergeo"
        },
        {
         "lat": [
          43.915886,
          37.09024
         ],
         "line": {
          "color": "blue",
          "width": 1
         },
         "locationmode": "ISO-3",
         "lon": [
          17.679076,
          -95.712891
         ],
         "mode": "lines",
         "opacity": 0.6,
         "type": "scattergeo"
        },
        {
         "lat": [
          43.915886,
          48.379433
         ],
         "line": {
          "color": "blue",
          "width": 1
         },
         "locationmode": "ISO-3",
         "lon": [
          17.679076,
          31.16558
         ],
         "mode": "lines",
         "opacity": 0.6,
         "type": "scattergeo"
        },
        {
         "lat": [
          43.915886,
          49.817492
         ],
         "line": {
          "color": "blue",
          "width": 1
         },
         "locationmode": "ISO-3",
         "lon": [
          17.679076,
          15.472962
         ],
         "mode": "lines",
         "opacity": 0.6,
         "type": "scattergeo"
        },
        {
         "lat": [
          43.915886,
          39.074208
         ],
         "line": {
          "color": "blue",
          "width": 1
         },
         "locationmode": "ISO-3",
         "lon": [
          17.679076,
          21.824312
         ],
         "mode": "lines",
         "opacity": 0.6,
         "type": "scattergeo"
        },
        {
         "lat": [
          43.915886,
          47.162494
         ],
         "line": {
          "color": "blue",
          "width": 1
         },
         "locationmode": "ISO-3",
         "lon": [
          17.679076,
          19.503304
         ],
         "mode": "lines",
         "opacity": 0.6,
         "type": "scattergeo"
        },
        {
         "lat": [
          43.915886,
          64.963051
         ],
         "line": {
          "color": "blue",
          "width": 1
         },
         "locationmode": "ISO-3",
         "lon": [
          17.679076,
          -19.020835
         ],
         "mode": "lines",
         "opacity": 0.6,
         "type": "scattergeo"
        },
        {
         "lat": [
          43.915886,
          44.016521
         ],
         "line": {
          "color": "blue",
          "width": 1
         },
         "locationmode": "ISO-3",
         "lon": [
          17.679076,
          21.005859
         ],
         "mode": "lines",
         "opacity": 0.6,
         "type": "scattergeo"
        },
        {
         "lat": [
          43.915886,
          46.151241
         ],
         "line": {
          "color": "blue",
          "width": 1
         },
         "locationmode": "ISO-3",
         "lon": [
          17.679076,
          14.995463
         ],
         "mode": "lines",
         "opacity": 0.6,
         "type": "scattergeo"
        },
        {
         "lat": [
          43.915886,
          41.153332
         ],
         "line": {
          "color": "blue",
          "width": 1
         },
         "locationmode": "ISO-3",
         "lon": [
          17.679076,
          20.168331
         ],
         "mode": "lines",
         "opacity": 0.6,
         "type": "scattergeo"
        },
        {
         "lat": [
          43.915886,
          42.708678
         ],
         "line": {
          "color": "blue",
          "width": 1
         },
         "locationmode": "ISO-3",
         "lon": [
          17.679076,
          19.37439
         ],
         "mode": "lines",
         "opacity": 0.6,
         "type": "scattergeo"
        },
        {
         "lat": [
          43.915886,
          45.1
         ],
         "line": {
          "color": "blue",
          "width": 1
         },
         "locationmode": "ISO-3",
         "lon": [
          17.679076,
          15.2
         ],
         "mode": "lines",
         "opacity": 0.6,
         "type": "scattergeo"
        },
        {
         "lat": [
          43.915886,
          60.128161
         ],
         "line": {
          "color": "blue",
          "width": 1
         },
         "locationmode": "ISO-3",
         "lon": [
          17.679076,
          18.643501
         ],
         "mode": "lines",
         "opacity": 0.6,
         "type": "scattergeo"
        },
        {
         "lat": [
          43.915886,
          47.516231
         ],
         "line": {
          "color": "blue",
          "width": 1
         },
         "locationmode": "ISO-3",
         "lon": [
          17.679076,
          14.550072
         ],
         "mode": "lines",
         "opacity": 0.6,
         "type": "scattergeo"
        },
        {
         "lat": [
          43.915886,
          31.046051
         ],
         "line": {
          "color": "blue",
          "width": 1
         },
         "locationmode": "ISO-3",
         "lon": [
          17.679076,
          34.851612
         ],
         "mode": "lines",
         "opacity": 0.6,
         "type": "scattergeo"
        },
        {
         "lat": [
          23.634501,
          31.046051
         ],
         "line": {
          "color": "blue",
          "width": 1
         },
         "locationmode": "ISO-3",
         "lon": [
          -102.552784,
          34.851612
         ],
         "mode": "lines",
         "opacity": 0.6,
         "type": "scattergeo"
        },
        {
         "lat": [
          23.634501,
          23.634501
         ],
         "line": {
          "color": "blue",
          "width": 1
         },
         "locationmode": "ISO-3",
         "lon": [
          -102.552784,
          -102.552784
         ],
         "mode": "lines",
         "opacity": 0.6,
         "type": "scattergeo"
        },
        {
         "lat": [
          23.634501,
          -38.416097
         ],
         "line": {
          "color": "blue",
          "width": 1
         },
         "locationmode": "ISO-3",
         "lon": [
          -102.552784,
          -63.616672
         ],
         "mode": "lines",
         "opacity": 0.6,
         "type": "scattergeo"
        },
        {
         "lat": [
          23.634501,
          40.463667
         ],
         "line": {
          "color": "blue",
          "width": 1
         },
         "locationmode": "ISO-3",
         "lon": [
          -102.552784,
          -3.74922
         ],
         "mode": "lines",
         "opacity": 0.6,
         "type": "scattergeo"
        },
        {
         "lat": [
          23.634501,
          25.354826
         ],
         "line": {
          "color": "blue",
          "width": 1
         },
         "locationmode": "ISO-3",
         "lon": [
          -102.552784,
          51.183884
         ],
         "mode": "lines",
         "opacity": 0.6,
         "type": "scattergeo"
        },
        {
         "lat": [
          23.634501,
          -14.235004
         ],
         "line": {
          "color": "blue",
          "width": 1
         },
         "locationmode": "ISO-3",
         "lon": [
          -102.552784,
          -51.92528
         ],
         "mode": "lines",
         "opacity": 0.6,
         "type": "scattergeo"
        },
        {
         "lat": [
          23.634501,
          -35.675147
         ],
         "line": {
          "color": "blue",
          "width": 1
         },
         "locationmode": "ISO-3",
         "lon": [
          -102.552784,
          -71.542969
         ],
         "mode": "lines",
         "opacity": 0.6,
         "type": "scattergeo"
        },
        {
         "lat": [
          23.634501,
          37.09024
         ],
         "line": {
          "color": "blue",
          "width": 1
         },
         "locationmode": "ISO-3",
         "lon": [
          -102.552784,
          -95.712891
         ],
         "mode": "lines",
         "opacity": 0.6,
         "type": "scattergeo"
        },
        {
         "lat": [
          23.634501,
          4.570868
         ],
         "line": {
          "color": "blue",
          "width": 1
         },
         "locationmode": "ISO-3",
         "lon": [
          -102.552784,
          -74.297333
         ],
         "mode": "lines",
         "opacity": 0.6,
         "type": "scattergeo"
        },
        {
         "lat": [
          23.634501,
          55.378051
         ],
         "line": {
          "color": "blue",
          "width": 1
         },
         "locationmode": "ISO-3",
         "lon": [
          -102.552784,
          -3.435973
         ],
         "mode": "lines",
         "opacity": 0.6,
         "type": "scattergeo"
        },
        {
         "lat": [
          23.634501,
          -9.189967
         ],
         "line": {
          "color": "blue",
          "width": 1
         },
         "locationmode": "ISO-3",
         "lon": [
          -102.552784,
          -75.015152
         ],
         "mode": "lines",
         "opacity": 0.6,
         "type": "scattergeo"
        },
        {
         "lat": [
          23.634501,
          49.817492
         ],
         "line": {
          "color": "blue",
          "width": 1
         },
         "locationmode": "ISO-3",
         "lon": [
          -102.552784,
          15.472962
         ],
         "mode": "lines",
         "opacity": 0.6,
         "type": "scattergeo"
        },
        {
         "lat": [
          23.634501,
          15.783471
         ],
         "line": {
          "color": "blue",
          "width": 1
         },
         "locationmode": "ISO-3",
         "lon": [
          -102.552784,
          -90.230759
         ],
         "mode": "lines",
         "opacity": 0.6,
         "type": "scattergeo"
        },
        {
         "lat": [
          23.634501,
          -32.522779
         ],
         "line": {
          "color": "blue",
          "width": 1
         },
         "locationmode": "ISO-3",
         "lon": [
          -102.552784,
          -55.765835
         ],
         "mode": "lines",
         "opacity": 0.6,
         "type": "scattergeo"
        },
        {
         "lat": [
          23.634501,
          15.199999
         ],
         "line": {
          "color": "blue",
          "width": 1
         },
         "locationmode": "ISO-3",
         "lon": [
          -102.552784,
          -86.241905
         ],
         "mode": "lines",
         "opacity": 0.6,
         "type": "scattergeo"
        },
        {
         "lat": [
          23.634501,
          -16.290154
         ],
         "line": {
          "color": "blue",
          "width": 1
         },
         "locationmode": "ISO-3",
         "lon": [
          -102.552784,
          -63.588653
         ],
         "mode": "lines",
         "opacity": 0.6,
         "type": "scattergeo"
        },
        {
         "lat": [
          23.634501,
          35.907757
         ],
         "line": {
          "color": "blue",
          "width": 1
         },
         "locationmode": "ISO-3",
         "lon": [
          -102.552784,
          127.766922
         ],
         "mode": "lines",
         "opacity": 0.6,
         "type": "scattergeo"
        },
        {
         "lat": [
          23.634501,
          9.748917
         ],
         "line": {
          "color": "blue",
          "width": 1
         },
         "locationmode": "ISO-3",
         "lon": [
          -102.552784,
          -83.753428
         ],
         "mode": "lines",
         "opacity": 0.6,
         "type": "scattergeo"
        },
        {
         "lat": [
          23.634501,
          -23.442503
         ],
         "line": {
          "color": "blue",
          "width": 1
         },
         "locationmode": "ISO-3",
         "lon": [
          -102.552784,
          -58.443832
         ],
         "mode": "lines",
         "opacity": 0.6,
         "type": "scattergeo"
        },
        {
         "lat": [
          48.669026,
          47.516231
         ],
         "line": {
          "color": "blue",
          "width": 1
         },
         "locationmode": "ISO-3",
         "lon": [
          19.699024,
          14.550072
         ],
         "mode": "lines",
         "opacity": 0.6,
         "type": "scattergeo"
        },
        {
         "lat": [
          48.669026,
          48.669026
         ],
         "line": {
          "color": "blue",
          "width": 1
         },
         "locationmode": "ISO-3",
         "lon": [
          19.699024,
          19.699024
         ],
         "mode": "lines",
         "opacity": 0.6,
         "type": "scattergeo"
        },
        {
         "lat": [
          48.669026,
          49.817492
         ],
         "line": {
          "color": "blue",
          "width": 1
         },
         "locationmode": "ISO-3",
         "lon": [
          19.699024,
          15.472962
         ],
         "mode": "lines",
         "opacity": 0.6,
         "type": "scattergeo"
        },
        {
         "lat": [
          48.669026,
          51.919438
         ],
         "line": {
          "color": "blue",
          "width": 1
         },
         "locationmode": "ISO-3",
         "lon": [
          19.699024,
          19.145136
         ],
         "mode": "lines",
         "opacity": 0.6,
         "type": "scattergeo"
        },
        {
         "lat": [
          48.669026,
          51.165691
         ],
         "line": {
          "color": "blue",
          "width": 1
         },
         "locationmode": "ISO-3",
         "lon": [
          19.699024,
          10.451526
         ],
         "mode": "lines",
         "opacity": 0.6,
         "type": "scattergeo"
        },
        {
         "lat": [
          48.669026,
          61.52401
         ],
         "line": {
          "color": "blue",
          "width": 1
         },
         "locationmode": "ISO-3",
         "lon": [
          19.699024,
          105.318756
         ],
         "mode": "lines",
         "opacity": 0.6,
         "type": "scattergeo"
        },
        {
         "lat": [
          48.669026,
          55.378051
         ],
         "line": {
          "color": "blue",
          "width": 1
         },
         "locationmode": "ISO-3",
         "lon": [
          19.699024,
          -3.435973
         ],
         "mode": "lines",
         "opacity": 0.6,
         "type": "scattergeo"
        },
        {
         "lat": [
          48.669026,
          41.87194
         ],
         "line": {
          "color": "blue",
          "width": 1
         },
         "locationmode": "ISO-3",
         "lon": [
          19.699024,
          12.56738
         ],
         "mode": "lines",
         "opacity": 0.6,
         "type": "scattergeo"
        },
        {
         "lat": [
          48.669026,
          44.016521
         ],
         "line": {
          "color": "blue",
          "width": 1
         },
         "locationmode": "ISO-3",
         "lon": [
          19.699024,
          21.005859
         ],
         "mode": "lines",
         "opacity": 0.6,
         "type": "scattergeo"
        },
        {
         "lat": [
          48.669026,
          4.210484
         ],
         "line": {
          "color": "blue",
          "width": 1
         },
         "locationmode": "ISO-3",
         "lon": [
          19.699024,
          101.975766
         ],
         "mode": "lines",
         "opacity": 0.6,
         "type": "scattergeo"
        },
        {
         "lat": [
          48.669026,
          32.427908
         ],
         "line": {
          "color": "blue",
          "width": 1
         },
         "locationmode": "ISO-3",
         "lon": [
          19.699024,
          53.688046
         ],
         "mode": "lines",
         "opacity": 0.6,
         "type": "scattergeo"
        },
        {
         "lat": [
          48.669026,
          47.162494
         ],
         "line": {
          "color": "blue",
          "width": 1
         },
         "locationmode": "ISO-3",
         "lon": [
          19.699024,
          19.503304
         ],
         "mode": "lines",
         "opacity": 0.6,
         "type": "scattergeo"
        },
        {
         "lat": [
          48.669026,
          35.126413
         ],
         "line": {
          "color": "blue",
          "width": 1
         },
         "locationmode": "ISO-3",
         "lon": [
          19.699024,
          33.429859
         ],
         "mode": "lines",
         "opacity": 0.6,
         "type": "scattergeo"
        },
        {
         "lat": [
          48.669026,
          31.046051
         ],
         "line": {
          "color": "blue",
          "width": 1
         },
         "locationmode": "ISO-3",
         "lon": [
          19.699024,
          34.851612
         ],
         "mode": "lines",
         "opacity": 0.6,
         "type": "scattergeo"
        },
        {
         "lat": [
          4.570868,
          4.570868
         ],
         "line": {
          "color": "blue",
          "width": 1
         },
         "locationmode": "ISO-3",
         "lon": [
          -74.297333,
          -74.297333
         ],
         "mode": "lines",
         "opacity": 0.6,
         "type": "scattergeo"
        },
        {
         "lat": [
          4.570868,
          37.09024
         ],
         "line": {
          "color": "blue",
          "width": 1
         },
         "locationmode": "ISO-3",
         "lon": [
          -74.297333,
          -95.712891
         ],
         "mode": "lines",
         "opacity": 0.6,
         "type": "scattergeo"
        },
        {
         "lat": [
          4.570868,
          -1.831239
         ],
         "line": {
          "color": "blue",
          "width": 1
         },
         "locationmode": "ISO-3",
         "lon": [
          -74.297333,
          -78.183406
         ],
         "mode": "lines",
         "opacity": 0.6,
         "type": "scattergeo"
        },
        {
         "lat": [
          4.570868,
          38.963745
         ],
         "line": {
          "color": "blue",
          "width": 1
         },
         "locationmode": "ISO-3",
         "lon": [
          -74.297333,
          35.243322
         ],
         "mode": "lines",
         "opacity": 0.6,
         "type": "scattergeo"
        },
        {
         "lat": [
          4.570868,
          23.634501
         ],
         "line": {
          "color": "blue",
          "width": 1
         },
         "locationmode": "ISO-3",
         "lon": [
          -74.297333,
          -102.552784
         ],
         "mode": "lines",
         "opacity": 0.6,
         "type": "scattergeo"
        },
        {
         "lat": [
          4.570868,
          6.42375
         ],
         "line": {
          "color": "blue",
          "width": 1
         },
         "locationmode": "ISO-3",
         "lon": [
          -74.297333,
          -66.58973
         ],
         "mode": "lines",
         "opacity": 0.6,
         "type": "scattergeo"
        },
        {
         "lat": [
          4.570868,
          -38.416097
         ],
         "line": {
          "color": "blue",
          "width": 1
         },
         "locationmode": "ISO-3",
         "lon": [
          -74.297333,
          -63.616672
         ],
         "mode": "lines",
         "opacity": 0.6,
         "type": "scattergeo"
        },
        {
         "lat": [
          4.570868,
          46.227638
         ],
         "line": {
          "color": "blue",
          "width": 1
         },
         "locationmode": "ISO-3",
         "lon": [
          -74.297333,
          2.213749
         ],
         "mode": "lines",
         "opacity": 0.6,
         "type": "scattergeo"
        },
        {
         "lat": [
          4.570868,
          40.463667
         ],
         "line": {
          "color": "blue",
          "width": 1
         },
         "locationmode": "ISO-3",
         "lon": [
          -74.297333,
          -3.74922
         ],
         "mode": "lines",
         "opacity": 0.6,
         "type": "scattergeo"
        },
        {
         "lat": [
          4.570868,
          55.378051
         ],
         "line": {
          "color": "blue",
          "width": 1
         },
         "locationmode": "ISO-3",
         "lon": [
          -74.297333,
          -3.435973
         ],
         "mode": "lines",
         "opacity": 0.6,
         "type": "scattergeo"
        },
        {
         "lat": [
          4.570868,
          41.87194
         ],
         "line": {
          "color": "blue",
          "width": 1
         },
         "locationmode": "ISO-3",
         "lon": [
          -74.297333,
          12.56738
         ],
         "mode": "lines",
         "opacity": 0.6,
         "type": "scattergeo"
        },
        {
         "lat": [
          4.570868,
          39.074208
         ],
         "line": {
          "color": "blue",
          "width": 1
         },
         "locationmode": "ISO-3",
         "lon": [
          -74.297333,
          21.824312
         ],
         "mode": "lines",
         "opacity": 0.6,
         "type": "scattergeo"
        },
        {
         "lat": [
          4.570868,
          60.128161
         ],
         "line": {
          "color": "blue",
          "width": 1
         },
         "locationmode": "ISO-3",
         "lon": [
          -74.297333,
          18.643501
         ],
         "mode": "lines",
         "opacity": 0.6,
         "type": "scattergeo"
        },
        {
         "lat": [
          4.570868,
          35.907757
         ],
         "line": {
          "color": "blue",
          "width": 1
         },
         "locationmode": "ISO-3",
         "lon": [
          -74.297333,
          127.766922
         ],
         "mode": "lines",
         "opacity": 0.6,
         "type": "scattergeo"
        },
        {
         "lat": [
          4.570868,
          23.424076
         ],
         "line": {
          "color": "blue",
          "width": 1
         },
         "locationmode": "ISO-3",
         "lon": [
          -74.297333,
          53.847818
         ],
         "mode": "lines",
         "opacity": 0.6,
         "type": "scattergeo"
        },
        {
         "lat": [
          4.570868,
          15.783471
         ],
         "line": {
          "color": "blue",
          "width": 1
         },
         "locationmode": "ISO-3",
         "lon": [
          -74.297333,
          -90.230759
         ],
         "mode": "lines",
         "opacity": 0.6,
         "type": "scattergeo"
        },
        {
         "lat": [
          4.570868,
          8.537981
         ],
         "line": {
          "color": "blue",
          "width": 1
         },
         "locationmode": "ISO-3",
         "lon": [
          -74.297333,
          -80.782127
         ],
         "mode": "lines",
         "opacity": 0.6,
         "type": "scattergeo"
        },
        {
         "lat": [
          4.570868,
          9.748917
         ],
         "line": {
          "color": "blue",
          "width": 1
         },
         "locationmode": "ISO-3",
         "lon": [
          -74.297333,
          -83.753428
         ],
         "mode": "lines",
         "opacity": 0.6,
         "type": "scattergeo"
        },
        {
         "lat": [
          4.570868,
          -9.189967
         ],
         "line": {
          "color": "blue",
          "width": 1
         },
         "locationmode": "ISO-3",
         "lon": [
          -74.297333,
          -75.015152
         ],
         "mode": "lines",
         "opacity": 0.6,
         "type": "scattergeo"
        },
        {
         "lat": [
          4.570868,
          -35.675147
         ],
         "line": {
          "color": "blue",
          "width": 1
         },
         "locationmode": "ISO-3",
         "lon": [
          -74.297333,
          -71.542969
         ],
         "mode": "lines",
         "opacity": 0.6,
         "type": "scattergeo"
        },
        {
         "lat": [
          4.570868,
          23.885942
         ],
         "line": {
          "color": "blue",
          "width": 1
         },
         "locationmode": "ISO-3",
         "lon": [
          -74.297333,
          45.079162
         ],
         "mode": "lines",
         "opacity": 0.6,
         "type": "scattergeo"
        },
        {
         "lat": [
          4.570868,
          32.427908
         ],
         "line": {
          "color": "blue",
          "width": 1
         },
         "locationmode": "ISO-3",
         "lon": [
          -74.297333,
          53.688046
         ],
         "mode": "lines",
         "opacity": 0.6,
         "type": "scattergeo"
        },
        {
         "lat": [
          4.570868,
          -32.522779
         ],
         "line": {
          "color": "blue",
          "width": 1
         },
         "locationmode": "ISO-3",
         "lon": [
          -74.297333,
          -55.765835
         ],
         "mode": "lines",
         "opacity": 0.6,
         "type": "scattergeo"
        },
        {
         "lat": [
          4.570868,
          45.943161
         ],
         "line": {
          "color": "blue",
          "width": 1
         },
         "locationmode": "ISO-3",
         "lon": [
          -74.297333,
          24.96676
         ],
         "mode": "lines",
         "opacity": 0.6,
         "type": "scattergeo"
        },
        {
         "lat": [
          4.570868,
          -16.290154
         ],
         "line": {
          "color": "blue",
          "width": 1
         },
         "locationmode": "ISO-3",
         "lon": [
          -74.297333,
          -63.588653
         ],
         "mode": "lines",
         "opacity": 0.6,
         "type": "scattergeo"
        },
        {
         "lat": [
          4.570868,
          -14.235004
         ],
         "line": {
          "color": "blue",
          "width": 1
         },
         "locationmode": "ISO-3",
         "lon": [
          -74.297333,
          -51.92528
         ],
         "mode": "lines",
         "opacity": 0.6,
         "type": "scattergeo"
        },
        {
         "lat": [
          4.570868,
          13.794185
         ],
         "line": {
          "color": "blue",
          "width": 1
         },
         "locationmode": "ISO-3",
         "lon": [
          -74.297333,
          -88.89653
         ],
         "mode": "lines",
         "opacity": 0.6,
         "type": "scattergeo"
        },
        {
         "lat": [
          -1.831239,
          61.52401
         ],
         "line": {
          "color": "blue",
          "width": 1
         },
         "locationmode": "ISO-3",
         "lon": [
          -78.183406,
          105.318756
         ],
         "mode": "lines",
         "opacity": 0.6,
         "type": "scattergeo"
        },
        {
         "lat": [
          -1.831239,
          -1.831239
         ],
         "line": {
          "color": "blue",
          "width": 1
         },
         "locationmode": "ISO-3",
         "lon": [
          -78.183406,
          -78.183406
         ],
         "mode": "lines",
         "opacity": 0.6,
         "type": "scattergeo"
        },
        {
         "lat": [
          -1.831239,
          -38.416097
         ],
         "line": {
          "color": "blue",
          "width": 1
         },
         "locationmode": "ISO-3",
         "lon": [
          -78.183406,
          -63.616672
         ],
         "mode": "lines",
         "opacity": 0.6,
         "type": "scattergeo"
        },
        {
         "lat": [
          -1.831239,
          -32.522779
         ],
         "line": {
          "color": "blue",
          "width": 1
         },
         "locationmode": "ISO-3",
         "lon": [
          -78.183406,
          -55.765835
         ],
         "mode": "lines",
         "opacity": 0.6,
         "type": "scattergeo"
        },
        {
         "lat": [
          -1.831239,
          4.570868
         ],
         "line": {
          "color": "blue",
          "width": 1
         },
         "locationmode": "ISO-3",
         "lon": [
          -78.183406,
          -74.297333
         ],
         "mode": "lines",
         "opacity": 0.6,
         "type": "scattergeo"
        },
        {
         "lat": [
          -1.831239,
          -9.189967
         ],
         "line": {
          "color": "blue",
          "width": 1
         },
         "locationmode": "ISO-3",
         "lon": [
          -78.183406,
          -75.015152
         ],
         "mode": "lines",
         "opacity": 0.6,
         "type": "scattergeo"
        },
        {
         "lat": [
          -1.831239,
          40.463667
         ],
         "line": {
          "color": "blue",
          "width": 1
         },
         "locationmode": "ISO-3",
         "lon": [
          -78.183406,
          -3.74922
         ],
         "mode": "lines",
         "opacity": 0.6,
         "type": "scattergeo"
        },
        {
         "lat": [
          -1.831239,
          -35.675147
         ],
         "line": {
          "color": "blue",
          "width": 1
         },
         "locationmode": "ISO-3",
         "lon": [
          -78.183406,
          -71.542969
         ],
         "mode": "lines",
         "opacity": 0.6,
         "type": "scattergeo"
        },
        {
         "lat": [
          -1.831239,
          23.634501
         ],
         "line": {
          "color": "blue",
          "width": 1
         },
         "locationmode": "ISO-3",
         "lon": [
          -78.183406,
          -102.552784
         ],
         "mode": "lines",
         "opacity": 0.6,
         "type": "scattergeo"
        },
        {
         "lat": [
          -1.831239,
          -16.290154
         ],
         "line": {
          "color": "blue",
          "width": 1
         },
         "locationmode": "ISO-3",
         "lon": [
          -78.183406,
          -63.588653
         ],
         "mode": "lines",
         "opacity": 0.6,
         "type": "scattergeo"
        },
        {
         "lat": [
          -1.831239,
          9.748917
         ],
         "line": {
          "color": "blue",
          "width": 1
         },
         "locationmode": "ISO-3",
         "lon": [
          -78.183406,
          -83.753428
         ],
         "mode": "lines",
         "opacity": 0.6,
         "type": "scattergeo"
        },
        {
         "lat": [
          -32.522779,
          -9.189967
         ],
         "line": {
          "color": "blue",
          "width": 1
         },
         "locationmode": "ISO-3",
         "lon": [
          -55.765835,
          -75.015152
         ],
         "mode": "lines",
         "opacity": 0.6,
         "type": "scattergeo"
        },
        {
         "lat": [
          -32.522779,
          -38.416097
         ],
         "line": {
          "color": "blue",
          "width": 1
         },
         "locationmode": "ISO-3",
         "lon": [
          -55.765835,
          -63.616672
         ],
         "mode": "lines",
         "opacity": 0.6,
         "type": "scattergeo"
        },
        {
         "lat": [
          -32.522779,
          40.463667
         ],
         "line": {
          "color": "blue",
          "width": 1
         },
         "locationmode": "ISO-3",
         "lon": [
          -55.765835,
          -3.74922
         ],
         "mode": "lines",
         "opacity": 0.6,
         "type": "scattergeo"
        },
        {
         "lat": [
          -32.522779,
          -32.522779
         ],
         "line": {
          "color": "blue",
          "width": 1
         },
         "locationmode": "ISO-3",
         "lon": [
          -55.765835,
          -55.765835
         ],
         "mode": "lines",
         "opacity": 0.6,
         "type": "scattergeo"
        },
        {
         "lat": [
          -32.522779,
          55.378051
         ],
         "line": {
          "color": "blue",
          "width": 1
         },
         "locationmode": "ISO-3",
         "lon": [
          -55.765835,
          -3.435973
         ],
         "mode": "lines",
         "opacity": 0.6,
         "type": "scattergeo"
        },
        {
         "lat": [
          -32.522779,
          61.52401
         ],
         "line": {
          "color": "blue",
          "width": 1
         },
         "locationmode": "ISO-3",
         "lon": [
          -55.765835,
          105.318756
         ],
         "mode": "lines",
         "opacity": 0.6,
         "type": "scattergeo"
        },
        {
         "lat": [
          -32.522779,
          41.87194
         ],
         "line": {
          "color": "blue",
          "width": 1
         },
         "locationmode": "ISO-3",
         "lon": [
          -55.765835,
          12.56738
         ],
         "mode": "lines",
         "opacity": 0.6,
         "type": "scattergeo"
        },
        {
         "lat": [
          -32.522779,
          -23.442503
         ],
         "line": {
          "color": "blue",
          "width": 1
         },
         "locationmode": "ISO-3",
         "lon": [
          -55.765835,
          -58.443832
         ],
         "mode": "lines",
         "opacity": 0.6,
         "type": "scattergeo"
        },
        {
         "lat": [
          -32.522779,
          52.132633
         ],
         "line": {
          "color": "blue",
          "width": 1
         },
         "locationmode": "ISO-3",
         "lon": [
          -55.765835,
          5.291266
         ],
         "mode": "lines",
         "opacity": 0.6,
         "type": "scattergeo"
        },
        {
         "lat": [
          -32.522779,
          46.227638
         ],
         "line": {
          "color": "blue",
          "width": 1
         },
         "locationmode": "ISO-3",
         "lon": [
          -55.765835,
          2.213749
         ],
         "mode": "lines",
         "opacity": 0.6,
         "type": "scattergeo"
        },
        {
         "lat": [
          -32.522779,
          60.472024
         ],
         "line": {
          "color": "blue",
          "width": 1
         },
         "locationmode": "ISO-3",
         "lon": [
          -55.765835,
          8.468946
         ],
         "mode": "lines",
         "opacity": 0.6,
         "type": "scattergeo"
        },
        {
         "lat": [
          -32.522779,
          31.046051
         ],
         "line": {
          "color": "blue",
          "width": 1
         },
         "locationmode": "ISO-3",
         "lon": [
          -55.765835,
          34.851612
         ],
         "mode": "lines",
         "opacity": 0.6,
         "type": "scattergeo"
        },
        {
         "lat": [
          -32.522779,
          15.199999
         ],
         "line": {
          "color": "blue",
          "width": 1
         },
         "locationmode": "ISO-3",
         "lon": [
          -55.765835,
          -86.241905
         ],
         "mode": "lines",
         "opacity": 0.6,
         "type": "scattergeo"
        },
        {
         "lat": [
          -32.522779,
          37.09024
         ],
         "line": {
          "color": "blue",
          "width": 1
         },
         "locationmode": "ISO-3",
         "lon": [
          -55.765835,
          -95.712891
         ],
         "mode": "lines",
         "opacity": 0.6,
         "type": "scattergeo"
        },
        {
         "lat": [
          -32.522779,
          -35.675147
         ],
         "line": {
          "color": "blue",
          "width": 1
         },
         "locationmode": "ISO-3",
         "lon": [
          -55.765835,
          -71.542969
         ],
         "mode": "lines",
         "opacity": 0.6,
         "type": "scattergeo"
        },
        {
         "lat": [
          -32.522779,
          23.634501
         ],
         "line": {
          "color": "blue",
          "width": 1
         },
         "locationmode": "ISO-3",
         "lon": [
          -55.765835,
          -102.552784
         ],
         "mode": "lines",
         "opacity": 0.6,
         "type": "scattergeo"
        },
        {
         "lat": [
          -32.522779,
          -16.290154
         ],
         "line": {
          "color": "blue",
          "width": 1
         },
         "locationmode": "ISO-3",
         "lon": [
          -55.765835,
          -63.588653
         ],
         "mode": "lines",
         "opacity": 0.6,
         "type": "scattergeo"
        },
        {
         "lat": [
          -32.522779,
          -14.235004
         ],
         "line": {
          "color": "blue",
          "width": 1
         },
         "locationmode": "ISO-3",
         "lon": [
          -55.765835,
          -51.92528
         ],
         "mode": "lines",
         "opacity": 0.6,
         "type": "scattergeo"
        },
        {
         "lat": [
          -32.522779,
          15.783471
         ],
         "line": {
          "color": "blue",
          "width": 1
         },
         "locationmode": "ISO-3",
         "lon": [
          -55.765835,
          -90.230759
         ],
         "mode": "lines",
         "opacity": 0.6,
         "type": "scattergeo"
        },
        {
         "lat": [
          -32.522779,
          -1.831239
         ],
         "line": {
          "color": "blue",
          "width": 1
         },
         "locationmode": "ISO-3",
         "lon": [
          -55.765835,
          -78.183406
         ],
         "mode": "lines",
         "opacity": 0.6,
         "type": "scattergeo"
        },
        {
         "lat": [
          -32.522779,
          4.570868
         ],
         "line": {
          "color": "blue",
          "width": 1
         },
         "locationmode": "ISO-3",
         "lon": [
          -55.765835,
          -74.297333
         ],
         "mode": "lines",
         "opacity": 0.6,
         "type": "scattergeo"
        },
        {
         "lat": [
          -32.522779,
          6.42375
         ],
         "line": {
          "color": "blue",
          "width": 1
         },
         "locationmode": "ISO-3",
         "lon": [
          -55.765835,
          -66.58973
         ],
         "mode": "lines",
         "opacity": 0.6,
         "type": "scattergeo"
        },
        {
         "lat": [
          -32.522779,
          47.162494
         ],
         "line": {
          "color": "blue",
          "width": 1
         },
         "locationmode": "ISO-3",
         "lon": [
          -55.765835,
          19.503304
         ],
         "mode": "lines",
         "opacity": 0.6,
         "type": "scattergeo"
        },
        {
         "lat": [
          -32.522779,
          42.546245
         ],
         "line": {
          "color": "blue",
          "width": 1
         },
         "locationmode": "ISO-3",
         "lon": [
          -55.765835,
          1.601554
         ],
         "mode": "lines",
         "opacity": 0.6,
         "type": "scattergeo"
        },
        {
         "lat": [
          -35.675147,
          -35.675147
         ],
         "line": {
          "color": "blue",
          "width": 1
         },
         "locationmode": "ISO-3",
         "lon": [
          -71.542969,
          -71.542969
         ],
         "mode": "lines",
         "opacity": 0.6,
         "type": "scattergeo"
        },
        {
         "lat": [
          -35.675147,
          -14.235004
         ],
         "line": {
          "color": "blue",
          "width": 1
         },
         "locationmode": "ISO-3",
         "lon": [
          -71.542969,
          -51.92528
         ],
         "mode": "lines",
         "opacity": 0.6,
         "type": "scattergeo"
        },
        {
         "lat": [
          -35.675147,
          -16.290154
         ],
         "line": {
          "color": "blue",
          "width": 1
         },
         "locationmode": "ISO-3",
         "lon": [
          -71.542969,
          -63.588653
         ],
         "mode": "lines",
         "opacity": 0.6,
         "type": "scattergeo"
        },
        {
         "lat": [
          -35.675147,
          23.634501
         ],
         "line": {
          "color": "blue",
          "width": 1
         },
         "locationmode": "ISO-3",
         "lon": [
          -71.542969,
          -102.552784
         ],
         "mode": "lines",
         "opacity": 0.6,
         "type": "scattergeo"
        },
        {
         "lat": [
          -35.675147,
          4.570868
         ],
         "line": {
          "color": "blue",
          "width": 1
         },
         "locationmode": "ISO-3",
         "lon": [
          -71.542969,
          -74.297333
         ],
         "mode": "lines",
         "opacity": 0.6,
         "type": "scattergeo"
        },
        {
         "lat": [
          -35.675147,
          61.52401
         ],
         "line": {
          "color": "blue",
          "width": 1
         },
         "locationmode": "ISO-3",
         "lon": [
          -71.542969,
          105.318756
         ],
         "mode": "lines",
         "opacity": 0.6,
         "type": "scattergeo"
        },
        {
         "lat": [
          -35.675147,
          -38.416097
         ],
         "line": {
          "color": "blue",
          "width": 1
         },
         "locationmode": "ISO-3",
         "lon": [
          -71.542969,
          -63.616672
         ],
         "mode": "lines",
         "opacity": 0.6,
         "type": "scattergeo"
        },
        {
         "lat": [
          -35.675147,
          37.09024
         ],
         "line": {
          "color": "blue",
          "width": 1
         },
         "locationmode": "ISO-3",
         "lon": [
          -71.542969,
          -95.712891
         ],
         "mode": "lines",
         "opacity": 0.6,
         "type": "scattergeo"
        },
        {
         "lat": [
          -35.675147,
          47.516231
         ],
         "line": {
          "color": "blue",
          "width": 1
         },
         "locationmode": "ISO-3",
         "lon": [
          -71.542969,
          14.550072
         ],
         "mode": "lines",
         "opacity": 0.6,
         "type": "scattergeo"
        },
        {
         "lat": [
          -35.675147,
          39.074208
         ],
         "line": {
          "color": "blue",
          "width": 1
         },
         "locationmode": "ISO-3",
         "lon": [
          -71.542969,
          21.824312
         ],
         "mode": "lines",
         "opacity": 0.6,
         "type": "scattergeo"
        },
        {
         "lat": [
          -35.675147,
          46.818188
         ],
         "line": {
          "color": "blue",
          "width": 1
         },
         "locationmode": "ISO-3",
         "lon": [
          -71.542969,
          8.227512
         ],
         "mode": "lines",
         "opacity": 0.6,
         "type": "scattergeo"
        },
        {
         "lat": [
          -35.675147,
          31.046051
         ],
         "line": {
          "color": "blue",
          "width": 1
         },
         "locationmode": "ISO-3",
         "lon": [
          -71.542969,
          34.851612
         ],
         "mode": "lines",
         "opacity": 0.6,
         "type": "scattergeo"
        },
        {
         "lat": [
          -35.675147,
          6.42375
         ],
         "line": {
          "color": "blue",
          "width": 1
         },
         "locationmode": "ISO-3",
         "lon": [
          -71.542969,
          -66.58973
         ],
         "mode": "lines",
         "opacity": 0.6,
         "type": "scattergeo"
        },
        {
         "lat": [
          -35.675147,
          -32.522779
         ],
         "line": {
          "color": "blue",
          "width": 1
         },
         "locationmode": "ISO-3",
         "lon": [
          -71.542969,
          -55.765835
         ],
         "mode": "lines",
         "opacity": 0.6,
         "type": "scattergeo"
        },
        {
         "lat": [
          -35.675147,
          -23.442503
         ],
         "line": {
          "color": "blue",
          "width": 1
         },
         "locationmode": "ISO-3",
         "lon": [
          -71.542969,
          -58.443832
         ],
         "mode": "lines",
         "opacity": 0.6,
         "type": "scattergeo"
        },
        {
         "lat": [
          -35.675147,
          60.128161
         ],
         "line": {
          "color": "blue",
          "width": 1
         },
         "locationmode": "ISO-3",
         "lon": [
          -71.542969,
          18.643501
         ],
         "mode": "lines",
         "opacity": 0.6,
         "type": "scattergeo"
        },
        {
         "lat": [
          -35.675147,
          -1.831239
         ],
         "line": {
          "color": "blue",
          "width": 1
         },
         "locationmode": "ISO-3",
         "lon": [
          -71.542969,
          -78.183406
         ],
         "mode": "lines",
         "opacity": 0.6,
         "type": "scattergeo"
        },
        {
         "lat": [
          -35.675147,
          15.783471
         ],
         "line": {
          "color": "blue",
          "width": 1
         },
         "locationmode": "ISO-3",
         "lon": [
          -71.542969,
          -90.230759
         ],
         "mode": "lines",
         "opacity": 0.6,
         "type": "scattergeo"
        },
        {
         "lat": [
          9.748917,
          15.783471
         ],
         "line": {
          "color": "blue",
          "width": 1
         },
         "locationmode": "ISO-3",
         "lon": [
          -83.753428,
          -90.230759
         ],
         "mode": "lines",
         "opacity": 0.6,
         "type": "scattergeo"
        },
        {
         "lat": [
          9.748917,
          -38.416097
         ],
         "line": {
          "color": "blue",
          "width": 1
         },
         "locationmode": "ISO-3",
         "lon": [
          -83.753428,
          -63.616672
         ],
         "mode": "lines",
         "opacity": 0.6,
         "type": "scattergeo"
        },
        {
         "lat": [
          9.748917,
          35.126413
         ],
         "line": {
          "color": "blue",
          "width": 1
         },
         "locationmode": "ISO-3",
         "lon": [
          -83.753428,
          33.429859
         ],
         "mode": "lines",
         "opacity": 0.6,
         "type": "scattergeo"
        },
        {
         "lat": [
          9.748917,
          9.748917
         ],
         "line": {
          "color": "blue",
          "width": 1
         },
         "locationmode": "ISO-3",
         "lon": [
          -83.753428,
          -83.753428
         ],
         "mode": "lines",
         "opacity": 0.6,
         "type": "scattergeo"
        },
        {
         "lat": [
          9.748917,
          60.472024
         ],
         "line": {
          "color": "blue",
          "width": 1
         },
         "locationmode": "ISO-3",
         "lon": [
          -83.753428,
          8.468946
         ],
         "mode": "lines",
         "opacity": 0.6,
         "type": "scattergeo"
        },
        {
         "lat": [
          9.748917,
          4.570868
         ],
         "line": {
          "color": "blue",
          "width": 1
         },
         "locationmode": "ISO-3",
         "lon": [
          -83.753428,
          -74.297333
         ],
         "mode": "lines",
         "opacity": 0.6,
         "type": "scattergeo"
        },
        {
         "lat": [
          9.748917,
          37.09024
         ],
         "line": {
          "color": "blue",
          "width": 1
         },
         "locationmode": "ISO-3",
         "lon": [
          -83.753428,
          -95.712891
         ],
         "mode": "lines",
         "opacity": 0.6,
         "type": "scattergeo"
        },
        {
         "lat": [
          9.748917,
          13.794185
         ],
         "line": {
          "color": "blue",
          "width": 1
         },
         "locationmode": "ISO-3",
         "lon": [
          -83.753428,
          -88.89653
         ],
         "mode": "lines",
         "opacity": 0.6,
         "type": "scattergeo"
        },
        {
         "lat": [
          9.748917,
          -32.522779
         ],
         "line": {
          "color": "blue",
          "width": 1
         },
         "locationmode": "ISO-3",
         "lon": [
          -83.753428,
          -55.765835
         ],
         "mode": "lines",
         "opacity": 0.6,
         "type": "scattergeo"
        },
        {
         "lat": [
          33.854721,
          41.608635
         ],
         "line": {
          "color": "blue",
          "width": 1
         },
         "locationmode": "ISO-3",
         "lon": [
          35.862285,
          21.745275
         ],
         "mode": "lines",
         "opacity": 0.6,
         "type": "scattergeo"
        },
        {
         "lat": [
          33.854721,
          33.854721
         ],
         "line": {
          "color": "blue",
          "width": 1
         },
         "locationmode": "ISO-3",
         "lon": [
          35.862285,
          35.862285
         ],
         "mode": "lines",
         "opacity": 0.6,
         "type": "scattergeo"
        },
        {
         "lat": [
          33.854721,
          23.424076
         ],
         "line": {
          "color": "blue",
          "width": 1
         },
         "locationmode": "ISO-3",
         "lon": [
          35.862285,
          53.847818
         ],
         "mode": "lines",
         "opacity": 0.6,
         "type": "scattergeo"
        },
        {
         "lat": [
          33.854721,
          23.885942
         ],
         "line": {
          "color": "blue",
          "width": 1
         },
         "locationmode": "ISO-3",
         "lon": [
          35.862285,
          45.079162
         ],
         "mode": "lines",
         "opacity": 0.6,
         "type": "scattergeo"
        },
        {
         "lat": [
          33.854721,
          40.069099
         ],
         "line": {
          "color": "blue",
          "width": 1
         },
         "locationmode": "ISO-3",
         "lon": [
          35.862285,
          45.038189
         ],
         "mode": "lines",
         "opacity": 0.6,
         "type": "scattergeo"
        },
        {
         "lat": [
          35.937496,
          49.817492
         ],
         "line": {
          "color": "blue",
          "width": 1
         },
         "locationmode": "ISO-3",
         "lon": [
          14.375416,
          15.472962
         ],
         "mode": "lines",
         "opacity": 0.6,
         "type": "scattergeo"
        },
        {
         "lat": [
          35.937496,
          43.915886
         ],
         "line": {
          "color": "blue",
          "width": 1
         },
         "locationmode": "ISO-3",
         "lon": [
          14.375416,
          17.679076
         ],
         "mode": "lines",
         "opacity": 0.6,
         "type": "scattergeo"
        },
        {
         "lat": [
          35.937496,
          46.227638
         ],
         "line": {
          "color": "blue",
          "width": 1
         },
         "locationmode": "ISO-3",
         "lon": [
          14.375416,
          2.213749
         ],
         "mode": "lines",
         "opacity": 0.6,
         "type": "scattergeo"
        },
        {
         "lat": [
          35.937496,
          35.937496
         ],
         "line": {
          "color": "blue",
          "width": 1
         },
         "locationmode": "ISO-3",
         "lon": [
          14.375416,
          14.375416
         ],
         "mode": "lines",
         "opacity": 0.6,
         "type": "scattergeo"
        },
        {
         "lat": [
          23.885942,
          55.378051
         ],
         "line": {
          "color": "blue",
          "width": 1
         },
         "locationmode": "ISO-3",
         "lon": [
          45.079162,
          -3.435973
         ],
         "mode": "lines",
         "opacity": 0.6,
         "type": "scattergeo"
        },
        {
         "lat": [
          23.885942,
          39.399872
         ],
         "line": {
          "color": "blue",
          "width": 1
         },
         "locationmode": "ISO-3",
         "lon": [
          45.079162,
          -8.224454
         ],
         "mode": "lines",
         "opacity": 0.6,
         "type": "scattergeo"
        },
        {
         "lat": [
          23.885942,
          -14.235004
         ],
         "line": {
          "color": "blue",
          "width": 1
         },
         "locationmode": "ISO-3",
         "lon": [
          45.079162,
          -51.92528
         ],
         "mode": "lines",
         "opacity": 0.6,
         "type": "scattergeo"
        },
        {
         "lat": [
          23.885942,
          23.885942
         ],
         "line": {
          "color": "blue",
          "width": 1
         },
         "locationmode": "ISO-3",
         "lon": [
          45.079162,
          45.079162
         ],
         "mode": "lines",
         "opacity": 0.6,
         "type": "scattergeo"
        },
        {
         "lat": [
          23.885942,
          25.354826
         ],
         "line": {
          "color": "blue",
          "width": 1
         },
         "locationmode": "ISO-3",
         "lon": [
          45.079162,
          51.183884
         ],
         "mode": "lines",
         "opacity": 0.6,
         "type": "scattergeo"
        },
        {
         "lat": [
          23.885942,
          51.165691
         ],
         "line": {
          "color": "blue",
          "width": 1
         },
         "locationmode": "ISO-3",
         "lon": [
          45.079162,
          10.451526
         ],
         "mode": "lines",
         "opacity": 0.6,
         "type": "scattergeo"
        },
        {
         "lat": [
          23.885942,
          46.227638
         ],
         "line": {
          "color": "blue",
          "width": 1
         },
         "locationmode": "ISO-3",
         "lon": [
          45.079162,
          2.213749
         ],
         "mode": "lines",
         "opacity": 0.6,
         "type": "scattergeo"
        },
        {
         "lat": [
          23.885942,
          31.791702
         ],
         "line": {
          "color": "blue",
          "width": 1
         },
         "locationmode": "ISO-3",
         "lon": [
          45.079162,
          -7.09262
         ],
         "mode": "lines",
         "opacity": 0.6,
         "type": "scattergeo"
        },
        {
         "lat": [
          23.885942,
          4.570868
         ],
         "line": {
          "color": "blue",
          "width": 1
         },
         "locationmode": "ISO-3",
         "lon": [
          45.079162,
          -74.297333
         ],
         "mode": "lines",
         "opacity": 0.6,
         "type": "scattergeo"
        },
        {
         "lat": [
          23.885942,
          35.907757
         ],
         "line": {
          "color": "blue",
          "width": 1
         },
         "locationmode": "ISO-3",
         "lon": [
          45.079162,
          127.766922
         ],
         "mode": "lines",
         "opacity": 0.6,
         "type": "scattergeo"
        },
        {
         "lat": [
          23.885942,
          9.081999
         ],
         "line": {
          "color": "blue",
          "width": 1
         },
         "locationmode": "ISO-3",
         "lon": [
          45.079162,
          8.675277
         ],
         "mode": "lines",
         "opacity": 0.6,
         "type": "scattergeo"
        },
        {
         "lat": [
          23.885942,
          33.886917
         ],
         "line": {
          "color": "blue",
          "width": 1
         },
         "locationmode": "ISO-3",
         "lon": [
          45.079162,
          9.537499
         ],
         "mode": "lines",
         "opacity": 0.6,
         "type": "scattergeo"
        },
        {
         "lat": [
          23.424076,
          55.378051
         ],
         "line": {
          "color": "blue",
          "width": 1
         },
         "locationmode": "ISO-3",
         "lon": [
          53.847818,
          -3.435973
         ],
         "mode": "lines",
         "opacity": 0.6,
         "type": "scattergeo"
        },
        {
         "lat": [
          23.424076,
          51.165691
         ],
         "line": {
          "color": "blue",
          "width": 1
         },
         "locationmode": "ISO-3",
         "lon": [
          53.847818,
          10.451526
         ],
         "mode": "lines",
         "opacity": 0.6,
         "type": "scattergeo"
        },
        {
         "lat": [
          23.424076,
          32.427908
         ],
         "line": {
          "color": "blue",
          "width": 1
         },
         "locationmode": "ISO-3",
         "lon": [
          53.847818,
          53.688046
         ],
         "mode": "lines",
         "opacity": 0.6,
         "type": "scattergeo"
        },
        {
         "lat": [
          23.424076,
          39.399872
         ],
         "line": {
          "color": "blue",
          "width": 1
         },
         "locationmode": "ISO-3",
         "lon": [
          53.847818,
          -8.224454
         ],
         "mode": "lines",
         "opacity": 0.6,
         "type": "scattergeo"
        },
        {
         "lat": [
          23.424076,
          23.424076
         ],
         "line": {
          "color": "blue",
          "width": 1
         },
         "locationmode": "ISO-3",
         "lon": [
          53.847818,
          53.847818
         ],
         "mode": "lines",
         "opacity": 0.6,
         "type": "scattergeo"
        },
        {
         "lat": [
          23.424076,
          -14.235004
         ],
         "line": {
          "color": "blue",
          "width": 1
         },
         "locationmode": "ISO-3",
         "lon": [
          53.847818,
          -51.92528
         ],
         "mode": "lines",
         "opacity": 0.6,
         "type": "scattergeo"
        },
        {
         "lat": [
          23.424076,
          46.227638
         ],
         "line": {
          "color": "blue",
          "width": 1
         },
         "locationmode": "ISO-3",
         "lon": [
          53.847818,
          2.213749
         ],
         "mode": "lines",
         "opacity": 0.6,
         "type": "scattergeo"
        },
        {
         "lat": [
          23.424076,
          25.354826
         ],
         "line": {
          "color": "blue",
          "width": 1
         },
         "locationmode": "ISO-3",
         "lon": [
          53.847818,
          51.183884
         ],
         "mode": "lines",
         "opacity": 0.6,
         "type": "scattergeo"
        },
        {
         "lat": [
          23.424076,
          8.537981
         ],
         "line": {
          "color": "blue",
          "width": 1
         },
         "locationmode": "ISO-3",
         "lon": [
          53.847818,
          -80.782127
         ],
         "mode": "lines",
         "opacity": 0.6,
         "type": "scattergeo"
        },
        {
         "lat": [
          23.424076,
          28.033886
         ],
         "line": {
          "color": "blue",
          "width": 1
         },
         "locationmode": "ISO-3",
         "lon": [
          53.847818,
          1.659626
         ],
         "mode": "lines",
         "opacity": 0.6,
         "type": "scattergeo"
        },
        {
         "lat": [
          23.424076,
          23.634501
         ],
         "line": {
          "color": "blue",
          "width": 1
         },
         "locationmode": "ISO-3",
         "lon": [
          53.847818,
          -102.552784
         ],
         "mode": "lines",
         "opacity": 0.6,
         "type": "scattergeo"
        },
        {
         "lat": [
          23.424076,
          31.791702
         ],
         "line": {
          "color": "blue",
          "width": 1
         },
         "locationmode": "ISO-3",
         "lon": [
          53.847818,
          -7.09262
         ],
         "mode": "lines",
         "opacity": 0.6,
         "type": "scattergeo"
        },
        {
         "lat": [
          53.41291,
          53.41291
         ],
         "line": {
          "color": "blue",
          "width": 1
         },
         "locationmode": "ISO-3",
         "lon": [
          -8.24389,
          -8.24389
         ],
         "mode": "lines",
         "opacity": 0.6,
         "type": "scattergeo"
        },
        {
         "lat": [
          53.41291,
          55.378051
         ],
         "line": {
          "color": "blue",
          "width": 1
         },
         "locationmode": "ISO-3",
         "lon": [
          -8.24389,
          -3.435973
         ],
         "mode": "lines",
         "opacity": 0.6,
         "type": "scattergeo"
        },
        {
         "lat": [
          53.41291,
          -38.416097
         ],
         "line": {
          "color": "blue",
          "width": 1
         },
         "locationmode": "ISO-3",
         "lon": [
          -8.24389,
          -63.616672
         ],
         "mode": "lines",
         "opacity": 0.6,
         "type": "scattergeo"
        },
        {
         "lat": [
          53.41291,
          50.503887
         ],
         "line": {
          "color": "blue",
          "width": 1
         },
         "locationmode": "ISO-3",
         "lon": [
          -8.24389,
          4.469936
         ],
         "mode": "lines",
         "opacity": 0.6,
         "type": "scattergeo"
        },
        {
         "lat": [
          53.41291,
          60.472024
         ],
         "line": {
          "color": "blue",
          "width": 1
         },
         "locationmode": "ISO-3",
         "lon": [
          -8.24389,
          8.468946
         ],
         "mode": "lines",
         "opacity": 0.6,
         "type": "scattergeo"
        },
        {
         "lat": [
          53.41291,
          -25.274398
         ],
         "line": {
          "color": "blue",
          "width": 1
         },
         "locationmode": "ISO-3",
         "lon": [
          -8.24389,
          133.775136
         ],
         "mode": "lines",
         "opacity": 0.6,
         "type": "scattergeo"
        },
        {
         "lat": [
          53.41291,
          61.52401
         ],
         "line": {
          "color": "blue",
          "width": 1
         },
         "locationmode": "ISO-3",
         "lon": [
          -8.24389,
          105.318756
         ],
         "mode": "lines",
         "opacity": 0.6,
         "type": "scattergeo"
        },
        {
         "lat": [
          31.791702,
          31.791702
         ],
         "line": {
          "color": "blue",
          "width": 1
         },
         "locationmode": "ISO-3",
         "lon": [
          -7.09262,
          -7.09262
         ],
         "mode": "lines",
         "opacity": 0.6,
         "type": "scattergeo"
        },
        {
         "lat": [
          31.791702,
          46.227638
         ],
         "line": {
          "color": "blue",
          "width": 1
         },
         "locationmode": "ISO-3",
         "lon": [
          -7.09262,
          2.213749
         ],
         "mode": "lines",
         "opacity": 0.6,
         "type": "scattergeo"
        },
        {
         "lat": [
          31.791702,
          60.472024
         ],
         "line": {
          "color": "blue",
          "width": 1
         },
         "locationmode": "ISO-3",
         "lon": [
          -7.09262,
          8.468946
         ],
         "mode": "lines",
         "opacity": 0.6,
         "type": "scattergeo"
        },
        {
         "lat": [
          31.791702,
          25.354826
         ],
         "line": {
          "color": "blue",
          "width": 1
         },
         "locationmode": "ISO-3",
         "lon": [
          -7.09262,
          51.183884
         ],
         "mode": "lines",
         "opacity": 0.6,
         "type": "scattergeo"
        },
        {
         "lat": [
          31.791702,
          23.885942
         ],
         "line": {
          "color": "blue",
          "width": 1
         },
         "locationmode": "ISO-3",
         "lon": [
          -7.09262,
          45.079162
         ],
         "mode": "lines",
         "opacity": 0.6,
         "type": "scattergeo"
        },
        {
         "lat": [
          31.791702,
          33.886917
         ],
         "line": {
          "color": "blue",
          "width": 1
         },
         "locationmode": "ISO-3",
         "lon": [
          -7.09262,
          9.537499
         ],
         "mode": "lines",
         "opacity": 0.6,
         "type": "scattergeo"
        },
        {
         "lat": [
          41.153332,
          39.074208
         ],
         "line": {
          "color": "blue",
          "width": 1
         },
         "locationmode": "ISO-3",
         "lon": [
          20.168331,
          21.824312
         ],
         "mode": "lines",
         "opacity": 0.6,
         "type": "scattergeo"
        },
        {
         "lat": [
          41.153332,
          41.153332
         ],
         "line": {
          "color": "blue",
          "width": 1
         },
         "locationmode": "ISO-3",
         "lon": [
          20.168331,
          20.168331
         ],
         "mode": "lines",
         "opacity": 0.6,
         "type": "scattergeo"
        },
        {
         "lat": [
          41.153332,
          51.919438
         ],
         "line": {
          "color": "blue",
          "width": 1
         },
         "locationmode": "ISO-3",
         "lon": [
          20.168331,
          19.145136
         ],
         "mode": "lines",
         "opacity": 0.6,
         "type": "scattergeo"
        },
        {
         "lat": [
          41.153332,
          46.818188
         ],
         "line": {
          "color": "blue",
          "width": 1
         },
         "locationmode": "ISO-3",
         "lon": [
          20.168331,
          8.227512
         ],
         "mode": "lines",
         "opacity": 0.6,
         "type": "scattergeo"
        },
        {
         "lat": [
          41.153332,
          60.472024
         ],
         "line": {
          "color": "blue",
          "width": 1
         },
         "locationmode": "ISO-3",
         "lon": [
          20.168331,
          8.468946
         ],
         "mode": "lines",
         "opacity": 0.6,
         "type": "scattergeo"
        },
        {
         "lat": [
          41.153332,
          -38.416097
         ],
         "line": {
          "color": "blue",
          "width": 1
         },
         "locationmode": "ISO-3",
         "lon": [
          20.168331,
          -63.616672
         ],
         "mode": "lines",
         "opacity": 0.6,
         "type": "scattergeo"
        },
        {
         "lat": [
          41.153332,
          42.733883
         ],
         "line": {
          "color": "blue",
          "width": 1
         },
         "locationmode": "ISO-3",
         "lon": [
          20.168331,
          25.48583
         ],
         "mode": "lines",
         "opacity": 0.6,
         "type": "scattergeo"
        },
        {
         "lat": [
          41.153332,
          47.162494
         ],
         "line": {
          "color": "blue",
          "width": 1
         },
         "locationmode": "ISO-3",
         "lon": [
          20.168331,
          19.503304
         ],
         "mode": "lines",
         "opacity": 0.6,
         "type": "scattergeo"
        },
        {
         "lat": [
          -30.559482,
          55.378051
         ],
         "line": {
          "color": "blue",
          "width": 1
         },
         "locationmode": "ISO-3",
         "lon": [
          22.937506,
          -3.435973
         ],
         "mode": "lines",
         "opacity": 0.6,
         "type": "scattergeo"
        },
        {
         "lat": [
          -30.559482,
          46.227638
         ],
         "line": {
          "color": "blue",
          "width": 1
         },
         "locationmode": "ISO-3",
         "lon": [
          22.937506,
          2.213749
         ],
         "mode": "lines",
         "opacity": 0.6,
         "type": "scattergeo"
        },
        {
         "lat": [
          -30.559482,
          -30.559482
         ],
         "line": {
          "color": "blue",
          "width": 1
         },
         "locationmode": "ISO-3",
         "lon": [
          22.937506,
          22.937506
         ],
         "mode": "lines",
         "opacity": 0.6,
         "type": "scattergeo"
        },
        {
         "lat": [
          -30.559482,
          60.128161
         ],
         "line": {
          "color": "blue",
          "width": 1
         },
         "locationmode": "ISO-3",
         "lon": [
          22.937506,
          18.643501
         ],
         "mode": "lines",
         "opacity": 0.6,
         "type": "scattergeo"
        },
        {
         "lat": [
          32.427908,
          32.427908
         ],
         "line": {
          "color": "blue",
          "width": 1
         },
         "locationmode": "ISO-3",
         "lon": [
          53.688046,
          53.688046
         ],
         "mode": "lines",
         "opacity": 0.6,
         "type": "scattergeo"
        },
        {
         "lat": [
          32.427908,
          47.516231
         ],
         "line": {
          "color": "blue",
          "width": 1
         },
         "locationmode": "ISO-3",
         "lon": [
          53.688046,
          14.550072
         ],
         "mode": "lines",
         "opacity": 0.6,
         "type": "scattergeo"
        },
        {
         "lat": [
          32.427908,
          45.1
         ],
         "line": {
          "color": "blue",
          "width": 1
         },
         "locationmode": "ISO-3",
         "lon": [
          53.688046,
          15.2
         ],
         "mode": "lines",
         "opacity": 0.6,
         "type": "scattergeo"
        },
        {
         "lat": [
          32.427908,
          15.199999
         ],
         "line": {
          "color": "blue",
          "width": 1
         },
         "locationmode": "ISO-3",
         "lon": [
          53.688046,
          -86.241905
         ],
         "mode": "lines",
         "opacity": 0.6,
         "type": "scattergeo"
        },
        {
         "lat": [
          32.427908,
          40.143105
         ],
         "line": {
          "color": "blue",
          "width": 1
         },
         "locationmode": "ISO-3",
         "lon": [
          53.688046,
          47.576927
         ],
         "mode": "lines",
         "opacity": 0.6,
         "type": "scattergeo"
        },
        {
         "lat": [
          32.427908,
          1.352083
         ],
         "line": {
          "color": "blue",
          "width": 1
         },
         "locationmode": "ISO-3",
         "lon": [
          53.688046,
          103.819836
         ],
         "mode": "lines",
         "opacity": 0.6,
         "type": "scattergeo"
        },
        {
         "lat": [
          -23.442503,
          -23.442503
         ],
         "line": {
          "color": "blue",
          "width": 1
         },
         "locationmode": "ISO-3",
         "lon": [
          -58.443832,
          -58.443832
         ],
         "mode": "lines",
         "opacity": 0.6,
         "type": "scattergeo"
        },
        {
         "lat": [
          -23.442503,
          -32.522779
         ],
         "line": {
          "color": "blue",
          "width": 1
         },
         "locationmode": "ISO-3",
         "lon": [
          -58.443832,
          -55.765835
         ],
         "mode": "lines",
         "opacity": 0.6,
         "type": "scattergeo"
        },
        {
         "lat": [
          -23.442503,
          -38.416097
         ],
         "line": {
          "color": "blue",
          "width": 1
         },
         "locationmode": "ISO-3",
         "lon": [
          -58.443832,
          -63.616672
         ],
         "mode": "lines",
         "opacity": 0.6,
         "type": "scattergeo"
        },
        {
         "lat": [
          -23.442503,
          41.87194
         ],
         "line": {
          "color": "blue",
          "width": 1
         },
         "locationmode": "ISO-3",
         "lon": [
          -58.443832,
          12.56738
         ],
         "mode": "lines",
         "opacity": 0.6,
         "type": "scattergeo"
        },
        {
         "lat": [
          -23.442503,
          4.570868
         ],
         "line": {
          "color": "blue",
          "width": 1
         },
         "locationmode": "ISO-3",
         "lon": [
          -58.443832,
          -74.297333
         ],
         "mode": "lines",
         "opacity": 0.6,
         "type": "scattergeo"
        },
        {
         "lat": [
          -23.442503,
          40.463667
         ],
         "line": {
          "color": "blue",
          "width": 1
         },
         "locationmode": "ISO-3",
         "lon": [
          -58.443832,
          -3.74922
         ],
         "mode": "lines",
         "opacity": 0.6,
         "type": "scattergeo"
        },
        {
         "lat": [
          -23.442503,
          51.165691
         ],
         "line": {
          "color": "blue",
          "width": 1
         },
         "locationmode": "ISO-3",
         "lon": [
          -58.443832,
          10.451526
         ],
         "mode": "lines",
         "opacity": 0.6,
         "type": "scattergeo"
        },
        {
         "lat": [
          -23.442503,
          -16.290154
         ],
         "line": {
          "color": "blue",
          "width": 1
         },
         "locationmode": "ISO-3",
         "lon": [
          -58.443832,
          -63.588653
         ],
         "mode": "lines",
         "opacity": 0.6,
         "type": "scattergeo"
        },
        {
         "lat": [
          -23.442503,
          39.399872
         ],
         "line": {
          "color": "blue",
          "width": 1
         },
         "locationmode": "ISO-3",
         "lon": [
          -58.443832,
          -8.224454
         ],
         "mode": "lines",
         "opacity": 0.6,
         "type": "scattergeo"
        },
        {
         "lat": [
          -23.442503,
          46.818188
         ],
         "line": {
          "color": "blue",
          "width": 1
         },
         "locationmode": "ISO-3",
         "lon": [
          -58.443832,
          8.227512
         ],
         "mode": "lines",
         "opacity": 0.6,
         "type": "scattergeo"
        },
        {
         "lat": [
          -23.442503,
          51.919438
         ],
         "line": {
          "color": "blue",
          "width": 1
         },
         "locationmode": "ISO-3",
         "lon": [
          -58.443832,
          19.145136
         ],
         "mode": "lines",
         "opacity": 0.6,
         "type": "scattergeo"
        },
        {
         "lat": [
          -23.442503,
          -14.235004
         ],
         "line": {
          "color": "blue",
          "width": 1
         },
         "locationmode": "ISO-3",
         "lon": [
          -58.443832,
          -51.92528
         ],
         "mode": "lines",
         "opacity": 0.6,
         "type": "scattergeo"
        },
        {
         "lat": [
          -23.442503,
          36.204824
         ],
         "line": {
          "color": "blue",
          "width": 1
         },
         "locationmode": "ISO-3",
         "lon": [
          -58.443832,
          138.252924
         ],
         "mode": "lines",
         "opacity": 0.6,
         "type": "scattergeo"
        },
        {
         "lat": [
          -23.442503,
          -35.675147
         ],
         "line": {
          "color": "blue",
          "width": 1
         },
         "locationmode": "ISO-3",
         "lon": [
          -58.443832,
          -71.542969
         ],
         "mode": "lines",
         "opacity": 0.6,
         "type": "scattergeo"
        },
        {
         "lat": [
          -23.442503,
          -9.189967
         ],
         "line": {
          "color": "blue",
          "width": 1
         },
         "locationmode": "ISO-3",
         "lon": [
          -58.443832,
          -75.015152
         ],
         "mode": "lines",
         "opacity": 0.6,
         "type": "scattergeo"
        },
        {
         "lat": [
          -23.442503,
          23.634501
         ],
         "line": {
          "color": "blue",
          "width": 1
         },
         "locationmode": "ISO-3",
         "lon": [
          -58.443832,
          -102.552784
         ],
         "mode": "lines",
         "opacity": 0.6,
         "type": "scattergeo"
        },
        {
         "lat": [
          -23.442503,
          8.537981
         ],
         "line": {
          "color": "blue",
          "width": 1
         },
         "locationmode": "ISO-3",
         "lon": [
          -58.443832,
          -80.782127
         ],
         "mode": "lines",
         "opacity": 0.6,
         "type": "scattergeo"
        },
        {
         "lat": [
          -23.442503,
          6.42375
         ],
         "line": {
          "color": "blue",
          "width": 1
         },
         "locationmode": "ISO-3",
         "lon": [
          -58.443832,
          -66.58973
         ],
         "mode": "lines",
         "opacity": 0.6,
         "type": "scattergeo"
        },
        {
         "lat": [
          -23.442503,
          22.396428
         ],
         "line": {
          "color": "blue",
          "width": 1
         },
         "locationmode": "ISO-3",
         "lon": [
          -58.443832,
          114.109497
         ],
         "mode": "lines",
         "opacity": 0.6,
         "type": "scattergeo"
        },
        {
         "lat": [
          -23.442503,
          -0.789275
         ],
         "line": {
          "color": "blue",
          "width": 1
         },
         "locationmode": "ISO-3",
         "lon": [
          -58.443832,
          113.921327
         ],
         "mode": "lines",
         "opacity": 0.6,
         "type": "scattergeo"
        },
        {
         "lat": [
          28.033886,
          46.227638
         ],
         "line": {
          "color": "blue",
          "width": 1
         },
         "locationmode": "ISO-3",
         "lon": [
          1.659626,
          2.213749
         ],
         "mode": "lines",
         "opacity": 0.6,
         "type": "scattergeo"
        },
        {
         "lat": [
          28.033886,
          33.886917
         ],
         "line": {
          "color": "blue",
          "width": 1
         },
         "locationmode": "ISO-3",
         "lon": [
          1.659626,
          9.537499
         ],
         "mode": "lines",
         "opacity": 0.6,
         "type": "scattergeo"
        },
        {
         "lat": [
          28.033886,
          28.033886
         ],
         "line": {
          "color": "blue",
          "width": 1
         },
         "locationmode": "ISO-3",
         "lon": [
          1.659626,
          1.659626
         ],
         "mode": "lines",
         "opacity": 0.6,
         "type": "scattergeo"
        },
        {
         "lat": [
          1.352083,
          51.919438
         ],
         "line": {
          "color": "blue",
          "width": 1
         },
         "locationmode": "ISO-3",
         "lon": [
          103.819836,
          19.145136
         ],
         "mode": "lines",
         "opacity": 0.6,
         "type": "scattergeo"
        },
        {
         "lat": [
          1.352083,
          56.26392
         ],
         "line": {
          "color": "blue",
          "width": 1
         },
         "locationmode": "ISO-3",
         "lon": [
          103.819836,
          9.501785
         ],
         "mode": "lines",
         "opacity": 0.6,
         "type": "scattergeo"
        },
        {
         "lat": [
          1.352083,
          1.352083
         ],
         "line": {
          "color": "blue",
          "width": 1
         },
         "locationmode": "ISO-3",
         "lon": [
          103.819836,
          103.819836
         ],
         "mode": "lines",
         "opacity": 0.6,
         "type": "scattergeo"
        },
        {
         "lat": [
          1.352083,
          -30.559482
         ],
         "line": {
          "color": "blue",
          "width": 1
         },
         "locationmode": "ISO-3",
         "lon": [
          103.819836,
          22.937506
         ],
         "mode": "lines",
         "opacity": 0.6,
         "type": "scattergeo"
        },
        {
         "lat": [
          1.352083,
          36.204824
         ],
         "line": {
          "color": "blue",
          "width": 1
         },
         "locationmode": "ISO-3",
         "lon": [
          103.819836,
          138.252924
         ],
         "mode": "lines",
         "opacity": 0.6,
         "type": "scattergeo"
        },
        {
         "lat": [
          1.352083,
          4.210484
         ],
         "line": {
          "color": "blue",
          "width": 1
         },
         "locationmode": "ISO-3",
         "lon": [
          103.819836,
          101.975766
         ],
         "mode": "lines",
         "opacity": 0.6,
         "type": "scattergeo"
        },
        {
         "lat": [
          1.352083,
          32.427908
         ],
         "line": {
          "color": "blue",
          "width": 1
         },
         "locationmode": "ISO-3",
         "lon": [
          103.819836,
          53.688046
         ],
         "mode": "lines",
         "opacity": 0.6,
         "type": "scattergeo"
        },
        {
         "lat": [
          1.352083,
          -25.274398
         ],
         "line": {
          "color": "blue",
          "width": 1
         },
         "locationmode": "ISO-3",
         "lon": [
          103.819836,
          133.775136
         ],
         "mode": "lines",
         "opacity": 0.6,
         "type": "scattergeo"
        },
        {
         "lat": [
          18.109581,
          60.128161
         ],
         "line": {
          "color": "blue",
          "width": 1
         },
         "locationmode": "ISO-3",
         "lon": [
          -77.297508,
          18.643501
         ],
         "mode": "lines",
         "opacity": 0.6,
         "type": "scattergeo"
        },
        {
         "lat": [
          18.109581,
          37.09024
         ],
         "line": {
          "color": "blue",
          "width": 1
         },
         "locationmode": "ISO-3",
         "lon": [
          -77.297508,
          -95.712891
         ],
         "mode": "lines",
         "opacity": 0.6,
         "type": "scattergeo"
        },
        {
         "lat": [
          18.109581,
          55.378051
         ],
         "line": {
          "color": "blue",
          "width": 1
         },
         "locationmode": "ISO-3",
         "lon": [
          -77.297508,
          -3.435973
         ],
         "mode": "lines",
         "opacity": 0.6,
         "type": "scattergeo"
        },
        {
         "lat": [
          18.109581,
          18.109581
         ],
         "line": {
          "color": "blue",
          "width": 1
         },
         "locationmode": "ISO-3",
         "lon": [
          -77.297508,
          -77.297508
         ],
         "mode": "lines",
         "opacity": 0.6,
         "type": "scattergeo"
        },
        {
         "lat": [
          6.42375,
          38.963745
         ],
         "line": {
          "color": "blue",
          "width": 1
         },
         "locationmode": "ISO-3",
         "lon": [
          -66.58973,
          35.243322
         ],
         "mode": "lines",
         "opacity": 0.6,
         "type": "scattergeo"
        },
        {
         "lat": [
          6.42375,
          4.570868
         ],
         "line": {
          "color": "blue",
          "width": 1
         },
         "locationmode": "ISO-3",
         "lon": [
          -66.58973,
          -74.297333
         ],
         "mode": "lines",
         "opacity": 0.6,
         "type": "scattergeo"
        },
        {
         "lat": [
          6.42375,
          -38.416097
         ],
         "line": {
          "color": "blue",
          "width": 1
         },
         "locationmode": "ISO-3",
         "lon": [
          -66.58973,
          -63.616672
         ],
         "mode": "lines",
         "opacity": 0.6,
         "type": "scattergeo"
        },
        {
         "lat": [
          6.42375,
          -35.675147
         ],
         "line": {
          "color": "blue",
          "width": 1
         },
         "locationmode": "ISO-3",
         "lon": [
          -66.58973,
          -71.542969
         ],
         "mode": "lines",
         "opacity": 0.6,
         "type": "scattergeo"
        },
        {
         "lat": [
          6.42375,
          6.42375
         ],
         "line": {
          "color": "blue",
          "width": 1
         },
         "locationmode": "ISO-3",
         "lon": [
          -66.58973,
          -66.58973
         ],
         "mode": "lines",
         "opacity": 0.6,
         "type": "scattergeo"
        },
        {
         "lat": [
          6.42375,
          -30.559482
         ],
         "line": {
          "color": "blue",
          "width": 1
         },
         "locationmode": "ISO-3",
         "lon": [
          -66.58973,
          22.937506
         ],
         "mode": "lines",
         "opacity": 0.6,
         "type": "scattergeo"
        },
        {
         "lat": [
          6.42375,
          -32.522779
         ],
         "line": {
          "color": "blue",
          "width": 1
         },
         "locationmode": "ISO-3",
         "lon": [
          -66.58973,
          -55.765835
         ],
         "mode": "lines",
         "opacity": 0.6,
         "type": "scattergeo"
        },
        {
         "lat": [
          6.42375,
          -23.442503
         ],
         "line": {
          "color": "blue",
          "width": 1
         },
         "locationmode": "ISO-3",
         "lon": [
          -66.58973,
          -58.443832
         ],
         "mode": "lines",
         "opacity": 0.6,
         "type": "scattergeo"
        },
        {
         "lat": [
          6.42375,
          -16.290154
         ],
         "line": {
          "color": "blue",
          "width": 1
         },
         "locationmode": "ISO-3",
         "lon": [
          -66.58973,
          -63.588653
         ],
         "mode": "lines",
         "opacity": 0.6,
         "type": "scattergeo"
        },
        {
         "lat": [
          6.42375,
          -9.189967
         ],
         "line": {
          "color": "blue",
          "width": 1
         },
         "locationmode": "ISO-3",
         "lon": [
          -66.58973,
          -75.015152
         ],
         "mode": "lines",
         "opacity": 0.6,
         "type": "scattergeo"
        },
        {
         "lat": [
          53.709807,
          61.52401
         ],
         "line": {
          "color": "blue",
          "width": 1
         },
         "locationmode": "ISO-3",
         "lon": [
          27.953389,
          105.318756
         ],
         "mode": "lines",
         "opacity": 0.6,
         "type": "scattergeo"
        },
        {
         "lat": [
          53.709807,
          53.709807
         ],
         "line": {
          "color": "blue",
          "width": 1
         },
         "locationmode": "ISO-3",
         "lon": [
          27.953389,
          27.953389
         ],
         "mode": "lines",
         "opacity": 0.6,
         "type": "scattergeo"
        },
        {
         "lat": [
          53.709807,
          31.046051
         ],
         "line": {
          "color": "blue",
          "width": 1
         },
         "locationmode": "ISO-3",
         "lon": [
          27.953389,
          34.851612
         ],
         "mode": "lines",
         "opacity": 0.6,
         "type": "scattergeo"
        },
        {
         "lat": [
          53.709807,
          42.733883
         ],
         "line": {
          "color": "blue",
          "width": 1
         },
         "locationmode": "ISO-3",
         "lon": [
          27.953389,
          25.48583
         ],
         "mode": "lines",
         "opacity": 0.6,
         "type": "scattergeo"
        },
        {
         "lat": [
          53.709807,
          48.019573
         ],
         "line": {
          "color": "blue",
          "width": 1
         },
         "locationmode": "ISO-3",
         "lon": [
          27.953389,
          66.923684
         ],
         "mode": "lines",
         "opacity": 0.6,
         "type": "scattergeo"
        },
        {
         "lat": [
          53.709807,
          48.379433
         ],
         "line": {
          "color": "blue",
          "width": 1
         },
         "locationmode": "ISO-3",
         "lon": [
          27.953389,
          31.16558
         ],
         "mode": "lines",
         "opacity": 0.6,
         "type": "scattergeo"
        },
        {
         "lat": [
          53.709807,
          51.919438
         ],
         "line": {
          "color": "blue",
          "width": 1
         },
         "locationmode": "ISO-3",
         "lon": [
          27.953389,
          19.145136
         ],
         "mode": "lines",
         "opacity": 0.6,
         "type": "scattergeo"
        },
        {
         "lat": [
          53.709807,
          40.069099
         ],
         "line": {
          "color": "blue",
          "width": 1
         },
         "locationmode": "ISO-3",
         "lon": [
          27.953389,
          45.038189
         ],
         "mode": "lines",
         "opacity": 0.6,
         "type": "scattergeo"
        },
        {
         "lat": [
          48.019573,
          48.019573
         ],
         "line": {
          "color": "blue",
          "width": 1
         },
         "locationmode": "ISO-3",
         "lon": [
          66.923684,
          66.923684
         ],
         "mode": "lines",
         "opacity": 0.6,
         "type": "scattergeo"
        },
        {
         "lat": [
          48.019573,
          42.733883
         ],
         "line": {
          "color": "blue",
          "width": 1
         },
         "locationmode": "ISO-3",
         "lon": [
          66.923684,
          25.48583
         ],
         "mode": "lines",
         "opacity": 0.6,
         "type": "scattergeo"
        },
        {
         "lat": [
          48.019573,
          42.315407
         ],
         "line": {
          "color": "blue",
          "width": 1
         },
         "locationmode": "ISO-3",
         "lon": [
          66.923684,
          43.356892
         ],
         "mode": "lines",
         "opacity": 0.6,
         "type": "scattergeo"
        },
        {
         "lat": [
          48.019573,
          61.52401
         ],
         "line": {
          "color": "blue",
          "width": 1
         },
         "locationmode": "ISO-3",
         "lon": [
          66.923684,
          105.318756
         ],
         "mode": "lines",
         "opacity": 0.6,
         "type": "scattergeo"
        },
        {
         "lat": [
          48.019573,
          53.709807
         ],
         "line": {
          "color": "blue",
          "width": 1
         },
         "locationmode": "ISO-3",
         "lon": [
          66.923684,
          27.953389
         ],
         "mode": "lines",
         "opacity": 0.6,
         "type": "scattergeo"
        },
        {
         "lat": [
          48.019573,
          41.377491
         ],
         "line": {
          "color": "blue",
          "width": 1
         },
         "locationmode": "ISO-3",
         "lon": [
          66.923684,
          64.585262
         ],
         "mode": "lines",
         "opacity": 0.6,
         "type": "scattergeo"
        },
        {
         "lat": [
          48.019573,
          61.92411
         ],
         "line": {
          "color": "blue",
          "width": 1
         },
         "locationmode": "ISO-3",
         "lon": [
          66.923684,
          25.748151
         ],
         "mode": "lines",
         "opacity": 0.6,
         "type": "scattergeo"
        },
        {
         "lat": [
          48.019573,
          55.169438
         ],
         "line": {
          "color": "blue",
          "width": 1
         },
         "locationmode": "ISO-3",
         "lon": [
          66.923684,
          23.881275
         ],
         "mode": "lines",
         "opacity": 0.6,
         "type": "scattergeo"
        },
        {
         "lat": [
          48.019573,
          48.379433
         ],
         "line": {
          "color": "blue",
          "width": 1
         },
         "locationmode": "ISO-3",
         "lon": [
          66.923684,
          31.16558
         ],
         "mode": "lines",
         "opacity": 0.6,
         "type": "scattergeo"
        },
        {
         "lat": [
          48.019573,
          48.669026
         ],
         "line": {
          "color": "blue",
          "width": 1
         },
         "locationmode": "ISO-3",
         "lon": [
          66.923684,
          19.699024
         ],
         "mode": "lines",
         "opacity": 0.6,
         "type": "scattergeo"
        },
        {
         "lat": [
          56.879635,
          56.879635
         ],
         "line": {
          "color": "blue",
          "width": 1
         },
         "locationmode": "ISO-3",
         "lon": [
          24.603189,
          24.603189
         ],
         "mode": "lines",
         "opacity": 0.6,
         "type": "scattergeo"
        },
        {
         "lat": [
          56.879635,
          61.52401
         ],
         "line": {
          "color": "blue",
          "width": 1
         },
         "locationmode": "ISO-3",
         "lon": [
          24.603189,
          105.318756
         ],
         "mode": "lines",
         "opacity": 0.6,
         "type": "scattergeo"
        },
        {
         "lat": [
          41.377491,
          61.52401
         ],
         "line": {
          "color": "blue",
          "width": 1
         },
         "locationmode": "ISO-3",
         "lon": [
          64.585262,
          105.318756
         ],
         "mode": "lines",
         "opacity": 0.6,
         "type": "scattergeo"
        },
        {
         "lat": [
          41.377491,
          48.379433
         ],
         "line": {
          "color": "blue",
          "width": 1
         },
         "locationmode": "ISO-3",
         "lon": [
          64.585262,
          31.16558
         ],
         "mode": "lines",
         "opacity": 0.6,
         "type": "scattergeo"
        },
        {
         "lat": [
          41.377491,
          41.377491
         ],
         "line": {
          "color": "blue",
          "width": 1
         },
         "locationmode": "ISO-3",
         "lon": [
          64.585262,
          64.585262
         ],
         "mode": "lines",
         "opacity": 0.6,
         "type": "scattergeo"
        },
        {
         "lat": [
          41.377491,
          42.315407
         ],
         "line": {
          "color": "blue",
          "width": 1
         },
         "locationmode": "ISO-3",
         "lon": [
          64.585262,
          43.356892
         ],
         "mode": "lines",
         "opacity": 0.6,
         "type": "scattergeo"
        },
        {
         "lat": [
          41.377491,
          48.019573
         ],
         "line": {
          "color": "blue",
          "width": 1
         },
         "locationmode": "ISO-3",
         "lon": [
          64.585262,
          66.923684
         ],
         "mode": "lines",
         "opacity": 0.6,
         "type": "scattergeo"
        },
        {
         "lat": [
          41.377491,
          61.92411
         ],
         "line": {
          "color": "blue",
          "width": 1
         },
         "locationmode": "ISO-3",
         "lon": [
          64.585262,
          25.748151
         ],
         "mode": "lines",
         "opacity": 0.6,
         "type": "scattergeo"
        },
        {
         "lat": [
          55.169438,
          49.817492
         ],
         "line": {
          "color": "blue",
          "width": 1
         },
         "locationmode": "ISO-3",
         "lon": [
          23.881275,
          15.472962
         ],
         "mode": "lines",
         "opacity": 0.6,
         "type": "scattergeo"
        },
        {
         "lat": [
          55.169438,
          55.169438
         ],
         "line": {
          "color": "blue",
          "width": 1
         },
         "locationmode": "ISO-3",
         "lon": [
          23.881275,
          23.881275
         ],
         "mode": "lines",
         "opacity": 0.6,
         "type": "scattergeo"
        },
        {
         "lat": [
          55.169438,
          51.919438
         ],
         "line": {
          "color": "blue",
          "width": 1
         },
         "locationmode": "ISO-3",
         "lon": [
          23.881275,
          19.145136
         ],
         "mode": "lines",
         "opacity": 0.6,
         "type": "scattergeo"
        },
        {
         "lat": [
          42.315407,
          48.379433
         ],
         "line": {
          "color": "blue",
          "width": 1
         },
         "locationmode": "ISO-3",
         "lon": [
          43.356892,
          31.16558
         ],
         "mode": "lines",
         "opacity": 0.6,
         "type": "scattergeo"
        },
        {
         "lat": [
          42.315407,
          51.165691
         ],
         "line": {
          "color": "blue",
          "width": 1
         },
         "locationmode": "ISO-3",
         "lon": [
          43.356892,
          10.451526
         ],
         "mode": "lines",
         "opacity": 0.6,
         "type": "scattergeo"
        },
        {
         "lat": [
          42.315407,
          35.126413
         ],
         "line": {
          "color": "blue",
          "width": 1
         },
         "locationmode": "ISO-3",
         "lon": [
          43.356892,
          33.429859
         ],
         "mode": "lines",
         "opacity": 0.6,
         "type": "scattergeo"
        },
        {
         "lat": [
          42.315407,
          32.427908
         ],
         "line": {
          "color": "blue",
          "width": 1
         },
         "locationmode": "ISO-3",
         "lon": [
          43.356892,
          53.688046
         ],
         "mode": "lines",
         "opacity": 0.6,
         "type": "scattergeo"
        },
        {
         "lat": [
          42.315407,
          42.315407
         ],
         "line": {
          "color": "blue",
          "width": 1
         },
         "locationmode": "ISO-3",
         "lon": [
          43.356892,
          43.356892
         ],
         "mode": "lines",
         "opacity": 0.6,
         "type": "scattergeo"
        },
        {
         "lat": [
          42.315407,
          60.472024
         ],
         "line": {
          "color": "blue",
          "width": 1
         },
         "locationmode": "ISO-3",
         "lon": [
          43.356892,
          8.468946
         ],
         "mode": "lines",
         "opacity": 0.6,
         "type": "scattergeo"
        },
        {
         "lat": [
          42.315407,
          -14.235004
         ],
         "line": {
          "color": "blue",
          "width": 1
         },
         "locationmode": "ISO-3",
         "lon": [
          43.356892,
          -51.92528
         ],
         "mode": "lines",
         "opacity": 0.6,
         "type": "scattergeo"
        },
        {
         "lat": [
          42.315407,
          61.52401
         ],
         "line": {
          "color": "blue",
          "width": 1
         },
         "locationmode": "ISO-3",
         "lon": [
          43.356892,
          105.318756
         ],
         "mode": "lines",
         "opacity": 0.6,
         "type": "scattergeo"
        },
        {
         "lat": [
          42.315407,
          39.074208
         ],
         "line": {
          "color": "blue",
          "width": 1
         },
         "locationmode": "ISO-3",
         "lon": [
          43.356892,
          21.824312
         ],
         "mode": "lines",
         "opacity": 0.6,
         "type": "scattergeo"
        },
        {
         "lat": [
          42.315407,
          40.143105
         ],
         "line": {
          "color": "blue",
          "width": 1
         },
         "locationmode": "ISO-3",
         "lon": [
          43.356892,
          47.576927
         ],
         "mode": "lines",
         "opacity": 0.6,
         "type": "scattergeo"
        },
        {
         "lat": [
          42.315407,
          48.019573
         ],
         "line": {
          "color": "blue",
          "width": 1
         },
         "locationmode": "ISO-3",
         "lon": [
          43.356892,
          66.923684
         ],
         "mode": "lines",
         "opacity": 0.6,
         "type": "scattergeo"
        },
        {
         "lat": [
          42.315407,
          31.046051
         ],
         "line": {
          "color": "blue",
          "width": 1
         },
         "locationmode": "ISO-3",
         "lon": [
          43.356892,
          34.851612
         ],
         "mode": "lines",
         "opacity": 0.6,
         "type": "scattergeo"
        },
        {
         "lat": [
          -16.290154,
          -16.290154
         ],
         "line": {
          "color": "blue",
          "width": 1
         },
         "locationmode": "ISO-3",
         "lon": [
          -63.588653,
          -63.588653
         ],
         "mode": "lines",
         "opacity": 0.6,
         "type": "scattergeo"
        },
        {
         "lat": [
          -16.290154,
          46.818188
         ],
         "line": {
          "color": "blue",
          "width": 1
         },
         "locationmode": "ISO-3",
         "lon": [
          -63.588653,
          8.227512
         ],
         "mode": "lines",
         "opacity": 0.6,
         "type": "scattergeo"
        },
        {
         "lat": [
          -16.290154,
          39.074208
         ],
         "line": {
          "color": "blue",
          "width": 1
         },
         "locationmode": "ISO-3",
         "lon": [
          -63.588653,
          21.824312
         ],
         "mode": "lines",
         "opacity": 0.6,
         "type": "scattergeo"
        },
        {
         "lat": [
          -16.290154,
          -38.416097
         ],
         "line": {
          "color": "blue",
          "width": 1
         },
         "locationmode": "ISO-3",
         "lon": [
          -63.588653,
          -63.616672
         ],
         "mode": "lines",
         "opacity": 0.6,
         "type": "scattergeo"
        },
        {
         "lat": [
          -16.290154,
          -14.235004
         ],
         "line": {
          "color": "blue",
          "width": 1
         },
         "locationmode": "ISO-3",
         "lon": [
          -63.588653,
          -51.92528
         ],
         "mode": "lines",
         "opacity": 0.6,
         "type": "scattergeo"
        },
        {
         "lat": [
          -16.290154,
          -32.522779
         ],
         "line": {
          "color": "blue",
          "width": 1
         },
         "locationmode": "ISO-3",
         "lon": [
          -63.588653,
          -55.765835
         ],
         "mode": "lines",
         "opacity": 0.6,
         "type": "scattergeo"
        },
        {
         "lat": [
          -16.290154,
          41.153332
         ],
         "line": {
          "color": "blue",
          "width": 1
         },
         "locationmode": "ISO-3",
         "lon": [
          -63.588653,
          20.168331
         ],
         "mode": "lines",
         "opacity": 0.6,
         "type": "scattergeo"
        },
        {
         "lat": [
          -16.290154,
          -1.831239
         ],
         "line": {
          "color": "blue",
          "width": 1
         },
         "locationmode": "ISO-3",
         "lon": [
          -63.588653,
          -78.183406
         ],
         "mode": "lines",
         "opacity": 0.6,
         "type": "scattergeo"
        },
        {
         "lat": [
          -16.290154,
          4.570868
         ],
         "line": {
          "color": "blue",
          "width": 1
         },
         "locationmode": "ISO-3",
         "lon": [
          -63.588653,
          -74.297333
         ],
         "mode": "lines",
         "opacity": 0.6,
         "type": "scattergeo"
        },
        {
         "lat": [
          -16.290154,
          -35.675147
         ],
         "line": {
          "color": "blue",
          "width": 1
         },
         "locationmode": "ISO-3",
         "lon": [
          -63.588653,
          -71.542969
         ],
         "mode": "lines",
         "opacity": 0.6,
         "type": "scattergeo"
        },
        {
         "lat": [
          -16.290154,
          -23.442503
         ],
         "line": {
          "color": "blue",
          "width": 1
         },
         "locationmode": "ISO-3",
         "lon": [
          -63.588653,
          -58.443832
         ],
         "mode": "lines",
         "opacity": 0.6,
         "type": "scattergeo"
        },
        {
         "lat": [
          -16.290154,
          -9.189967
         ],
         "line": {
          "color": "blue",
          "width": 1
         },
         "locationmode": "ISO-3",
         "lon": [
          -63.588653,
          -75.015152
         ],
         "mode": "lines",
         "opacity": 0.6,
         "type": "scattergeo"
        },
        {
         "lat": [
          -16.290154,
          15.783471
         ],
         "line": {
          "color": "blue",
          "width": 1
         },
         "locationmode": "ISO-3",
         "lon": [
          -63.588653,
          -90.230759
         ],
         "mode": "lines",
         "opacity": 0.6,
         "type": "scattergeo"
        },
        {
         "lat": [
          -16.290154,
          60.128161
         ],
         "line": {
          "color": "blue",
          "width": 1
         },
         "locationmode": "ISO-3",
         "lon": [
          -63.588653,
          18.643501
         ],
         "mode": "lines",
         "opacity": 0.6,
         "type": "scattergeo"
        },
        {
         "lat": [
          15.783471,
          37.09024
         ],
         "line": {
          "color": "blue",
          "width": 1
         },
         "locationmode": "ISO-3",
         "lon": [
          -90.230759,
          -95.712891
         ],
         "mode": "lines",
         "opacity": 0.6,
         "type": "scattergeo"
        },
        {
         "lat": [
          15.783471,
          9.748917
         ],
         "line": {
          "color": "blue",
          "width": 1
         },
         "locationmode": "ISO-3",
         "lon": [
          -90.230759,
          -83.753428
         ],
         "mode": "lines",
         "opacity": 0.6,
         "type": "scattergeo"
        },
        {
         "lat": [
          15.783471,
          40.463667
         ],
         "line": {
          "color": "blue",
          "width": 1
         },
         "locationmode": "ISO-3",
         "lon": [
          -90.230759,
          -3.74922
         ],
         "mode": "lines",
         "opacity": 0.6,
         "type": "scattergeo"
        },
        {
         "lat": [
          15.783471,
          -32.522779
         ],
         "line": {
          "color": "blue",
          "width": 1
         },
         "locationmode": "ISO-3",
         "lon": [
          -90.230759,
          -55.765835
         ],
         "mode": "lines",
         "opacity": 0.6,
         "type": "scattergeo"
        },
        {
         "lat": [
          15.783471,
          15.783471
         ],
         "line": {
          "color": "blue",
          "width": 1
         },
         "locationmode": "ISO-3",
         "lon": [
          -90.230759,
          -90.230759
         ],
         "mode": "lines",
         "opacity": 0.6,
         "type": "scattergeo"
        },
        {
         "lat": [
          15.783471,
          15.199999
         ],
         "line": {
          "color": "blue",
          "width": 1
         },
         "locationmode": "ISO-3",
         "lon": [
          -90.230759,
          -86.241905
         ],
         "mode": "lines",
         "opacity": 0.6,
         "type": "scattergeo"
        },
        {
         "lat": [
          15.783471,
          -38.416097
         ],
         "line": {
          "color": "blue",
          "width": 1
         },
         "locationmode": "ISO-3",
         "lon": [
          -90.230759,
          -63.616672
         ],
         "mode": "lines",
         "opacity": 0.6,
         "type": "scattergeo"
        },
        {
         "lat": [
          15.199999,
          -32.522779
         ],
         "line": {
          "color": "blue",
          "width": 1
         },
         "locationmode": "ISO-3",
         "lon": [
          -86.241905,
          -55.765835
         ],
         "mode": "lines",
         "opacity": 0.6,
         "type": "scattergeo"
        },
        {
         "lat": [
          15.199999,
          15.199999
         ],
         "line": {
          "color": "blue",
          "width": 1
         },
         "locationmode": "ISO-3",
         "lon": [
          -86.241905,
          -86.241905
         ],
         "mode": "lines",
         "opacity": 0.6,
         "type": "scattergeo"
        },
        {
         "lat": [
          15.199999,
          9.748917
         ],
         "line": {
          "color": "blue",
          "width": 1
         },
         "locationmode": "ISO-3",
         "lon": [
          -86.241905,
          -83.753428
         ],
         "mode": "lines",
         "opacity": 0.6,
         "type": "scattergeo"
        },
        {
         "lat": [
          15.199999,
          13.794185
         ],
         "line": {
          "color": "blue",
          "width": 1
         },
         "locationmode": "ISO-3",
         "lon": [
          -86.241905,
          -88.89653
         ],
         "mode": "lines",
         "opacity": 0.6,
         "type": "scattergeo"
        },
        {
         "lat": [
          15.199999,
          15.783471
         ],
         "line": {
          "color": "blue",
          "width": 1
         },
         "locationmode": "ISO-3",
         "lon": [
          -86.241905,
          -90.230759
         ],
         "mode": "lines",
         "opacity": 0.6,
         "type": "scattergeo"
        },
        {
         "lat": [
          15.199999,
          35.86166
         ],
         "line": {
          "color": "blue",
          "width": 1
         },
         "locationmode": "ISO-3",
         "lon": [
          -86.241905,
          104.195397
         ],
         "mode": "lines",
         "opacity": 0.6,
         "type": "scattergeo"
        },
        {
         "lat": [
          15.199999,
          -23.442503
         ],
         "line": {
          "color": "blue",
          "width": 1
         },
         "locationmode": "ISO-3",
         "lon": [
          -86.241905,
          -58.443832
         ],
         "mode": "lines",
         "opacity": 0.6,
         "type": "scattergeo"
        },
        {
         "lat": [
          15.199999,
          32.427908
         ],
         "line": {
          "color": "blue",
          "width": 1
         },
         "locationmode": "ISO-3",
         "lon": [
          -86.241905,
          53.688046
         ],
         "mode": "lines",
         "opacity": 0.6,
         "type": "scattergeo"
        },
        {
         "lat": [
          61.892635,
          61.892635
         ],
         "line": {
          "color": "blue",
          "width": 1
         },
         "locationmode": "ISO-3",
         "lon": [
          -6.911806,
          -6.911806
         ],
         "mode": "lines",
         "opacity": 0.6,
         "type": "scattergeo"
        },
        {
         "lat": [
          61.892635,
          55.378051
         ],
         "line": {
          "color": "blue",
          "width": 1
         },
         "locationmode": "ISO-3",
         "lon": [
          -6.911806,
          -3.435973
         ],
         "mode": "lines",
         "opacity": 0.6,
         "type": "scattergeo"
        },
        {
         "lat": [
          61.892635,
          60.472024
         ],
         "line": {
          "color": "blue",
          "width": 1
         },
         "locationmode": "ISO-3",
         "lon": [
          -6.911806,
          8.468946
         ],
         "mode": "lines",
         "opacity": 0.6,
         "type": "scattergeo"
        },
        {
         "lat": [
          61.892635,
          64.963051
         ],
         "line": {
          "color": "blue",
          "width": 1
         },
         "locationmode": "ISO-3",
         "lon": [
          -6.911806,
          -19.020835
         ],
         "mode": "lines",
         "opacity": 0.6,
         "type": "scattergeo"
        },
        {
         "lat": [
          61.892635,
          56.26392
         ],
         "line": {
          "color": "blue",
          "width": 1
         },
         "locationmode": "ISO-3",
         "lon": [
          -6.911806,
          9.501785
         ],
         "mode": "lines",
         "opacity": 0.6,
         "type": "scattergeo"
        },
        {
         "lat": [
          58.595272,
          52.132633
         ],
         "line": {
          "color": "blue",
          "width": 1
         },
         "locationmode": "ISO-3",
         "lon": [
          25.013607,
          5.291266
         ],
         "mode": "lines",
         "opacity": 0.6,
         "type": "scattergeo"
        },
        {
         "lat": [
          58.595272,
          60.128161
         ],
         "line": {
          "color": "blue",
          "width": 1
         },
         "locationmode": "ISO-3",
         "lon": [
          25.013607,
          18.643501
         ],
         "mode": "lines",
         "opacity": 0.6,
         "type": "scattergeo"
        },
        {
         "lat": [
          58.595272,
          61.52401
         ],
         "line": {
          "color": "blue",
          "width": 1
         },
         "locationmode": "ISO-3",
         "lon": [
          25.013607,
          105.318756
         ],
         "mode": "lines",
         "opacity": 0.6,
         "type": "scattergeo"
        },
        {
         "lat": [
          58.595272,
          58.595272
         ],
         "line": {
          "color": "blue",
          "width": 1
         },
         "locationmode": "ISO-3",
         "lon": [
          25.013607,
          25.013607
         ],
         "mode": "lines",
         "opacity": 0.6,
         "type": "scattergeo"
        },
        {
         "lat": [
          58.595272,
          56.26392
         ],
         "line": {
          "color": "blue",
          "width": 1
         },
         "locationmode": "ISO-3",
         "lon": [
          25.013607,
          9.501785
         ],
         "mode": "lines",
         "opacity": 0.6,
         "type": "scattergeo"
        },
        {
         "lat": [
          58.595272,
          61.92411
         ],
         "line": {
          "color": "blue",
          "width": 1
         },
         "locationmode": "ISO-3",
         "lon": [
          25.013607,
          25.748151
         ],
         "mode": "lines",
         "opacity": 0.6,
         "type": "scattergeo"
        },
        {
         "lat": [
          58.595272,
          48.019573
         ],
         "line": {
          "color": "blue",
          "width": 1
         },
         "locationmode": "ISO-3",
         "lon": [
          25.013607,
          66.923684
         ],
         "mode": "lines",
         "opacity": 0.6,
         "type": "scattergeo"
        },
        {
         "lat": [
          58.595272,
          55.169438
         ],
         "line": {
          "color": "blue",
          "width": 1
         },
         "locationmode": "ISO-3",
         "lon": [
          25.013607,
          23.881275
         ],
         "mode": "lines",
         "opacity": 0.6,
         "type": "scattergeo"
        },
        {
         "lat": [
          58.595272,
          60.472024
         ],
         "line": {
          "color": "blue",
          "width": 1
         },
         "locationmode": "ISO-3",
         "lon": [
          25.013607,
          8.468946
         ],
         "mode": "lines",
         "opacity": 0.6,
         "type": "scattergeo"
        },
        {
         "lat": [
          47.411631,
          40.143105
         ],
         "line": {
          "color": "blue",
          "width": 1
         },
         "locationmode": "ISO-3",
         "lon": [
          28.369885,
          47.576927
         ],
         "mode": "lines",
         "opacity": 0.6,
         "type": "scattergeo"
        },
        {
         "lat": [
          47.411631,
          47.411631
         ],
         "line": {
          "color": "blue",
          "width": 1
         },
         "locationmode": "ISO-3",
         "lon": [
          28.369885,
          28.369885
         ],
         "mode": "lines",
         "opacity": 0.6,
         "type": "scattergeo"
        },
        {
         "lat": [
          47.411631,
          45.943161
         ],
         "line": {
          "color": "blue",
          "width": 1
         },
         "locationmode": "ISO-3",
         "lon": [
          28.369885,
          24.96676
         ],
         "mode": "lines",
         "opacity": 0.6,
         "type": "scattergeo"
        },
        {
         "lat": [
          47.411631,
          31.046051
         ],
         "line": {
          "color": "blue",
          "width": 1
         },
         "locationmode": "ISO-3",
         "lon": [
          28.369885,
          34.851612
         ],
         "mode": "lines",
         "opacity": 0.6,
         "type": "scattergeo"
        },
        {
         "lat": [
          47.411631,
          53.709807
         ],
         "line": {
          "color": "blue",
          "width": 1
         },
         "locationmode": "ISO-3",
         "lon": [
          28.369885,
          27.953389
         ],
         "mode": "lines",
         "opacity": 0.6,
         "type": "scattergeo"
        },
        {
         "lat": [
          47.411631,
          42.315407
         ],
         "line": {
          "color": "blue",
          "width": 1
         },
         "locationmode": "ISO-3",
         "lon": [
          28.369885,
          43.356892
         ],
         "mode": "lines",
         "opacity": 0.6,
         "type": "scattergeo"
        },
        {
         "lat": [
          22.396428,
          22.396428
         ],
         "line": {
          "color": "blue",
          "width": 1
         },
         "locationmode": "ISO-3",
         "lon": [
          114.109497,
          114.109497
         ],
         "mode": "lines",
         "opacity": 0.6,
         "type": "scattergeo"
        },
        {
         "lat": [
          22.396428,
          51.165691
         ],
         "line": {
          "color": "blue",
          "width": 1
         },
         "locationmode": "ISO-3",
         "lon": [
          114.109497,
          10.451526
         ],
         "mode": "lines",
         "opacity": 0.6,
         "type": "scattergeo"
        },
        {
         "lat": [
          22.396428,
          51.919438
         ],
         "line": {
          "color": "blue",
          "width": 1
         },
         "locationmode": "ISO-3",
         "lon": [
          114.109497,
          19.145136
         ],
         "mode": "lines",
         "opacity": 0.6,
         "type": "scattergeo"
        },
        {
         "lat": [
          1.373333,
          -30.559482
         ],
         "line": {
          "color": "blue",
          "width": 1
         },
         "locationmode": "ISO-3",
         "lon": [
          32.290275,
          22.937506
         ],
         "mode": "lines",
         "opacity": 0.6,
         "type": "scattergeo"
        },
        {
         "lat": [
          1.373333,
          1.373333
         ],
         "line": {
          "color": "blue",
          "width": 1
         },
         "locationmode": "ISO-3",
         "lon": [
          32.290275,
          32.290275
         ],
         "mode": "lines",
         "opacity": 0.6,
         "type": "scattergeo"
        },
        {
         "lat": [
          1.373333,
          64.963051
         ],
         "line": {
          "color": "blue",
          "width": 1
         },
         "locationmode": "ISO-3",
         "lon": [
          32.290275,
          -19.020835
         ],
         "mode": "lines",
         "opacity": 0.6,
         "type": "scattergeo"
        },
        {
         "lat": [
          40.069099,
          45.943161
         ],
         "line": {
          "color": "blue",
          "width": 1
         },
         "locationmode": "ISO-3",
         "lon": [
          45.038189,
          24.96676
         ],
         "mode": "lines",
         "opacity": 0.6,
         "type": "scattergeo"
        },
        {
         "lat": [
          40.069099,
          40.069099
         ],
         "line": {
          "color": "blue",
          "width": 1
         },
         "locationmode": "ISO-3",
         "lon": [
          45.038189,
          45.038189
         ],
         "mode": "lines",
         "opacity": 0.6,
         "type": "scattergeo"
        },
        {
         "lat": [
          40.069099,
          55.169438
         ],
         "line": {
          "color": "blue",
          "width": 1
         },
         "locationmode": "ISO-3",
         "lon": [
          45.038189,
          23.881275
         ],
         "mode": "lines",
         "opacity": 0.6,
         "type": "scattergeo"
        },
        {
         "lat": [
          42.602636,
          48.379433
         ],
         "line": {
          "color": "blue",
          "width": 1
         },
         "locationmode": "ISO-3",
         "lon": [
          20.902977,
          31.16558
         ],
         "mode": "lines",
         "opacity": 0.6,
         "type": "scattergeo"
        },
        {
         "lat": [
          8.537981,
          41.87194
         ],
         "line": {
          "color": "blue",
          "width": 1
         },
         "locationmode": "ISO-3",
         "lon": [
          -80.782127,
          12.56738
         ],
         "mode": "lines",
         "opacity": 0.6,
         "type": "scattergeo"
        },
        {
         "lat": [
          8.537981,
          4.570868
         ],
         "line": {
          "color": "blue",
          "width": 1
         },
         "locationmode": "ISO-3",
         "lon": [
          -80.782127,
          -74.297333
         ],
         "mode": "lines",
         "opacity": 0.6,
         "type": "scattergeo"
        },
        {
         "lat": [
          8.537981,
          -32.522779
         ],
         "line": {
          "color": "blue",
          "width": 1
         },
         "locationmode": "ISO-3",
         "lon": [
          -80.782127,
          -55.765835
         ],
         "mode": "lines",
         "opacity": 0.6,
         "type": "scattergeo"
        },
        {
         "lat": [
          8.537981,
          13.794185
         ],
         "line": {
          "color": "blue",
          "width": 1
         },
         "locationmode": "ISO-3",
         "lon": [
          -80.782127,
          -88.89653
         ],
         "mode": "lines",
         "opacity": 0.6,
         "type": "scattergeo"
        },
        {
         "lat": [
          8.537981,
          8.537981
         ],
         "line": {
          "color": "blue",
          "width": 1
         },
         "locationmode": "ISO-3",
         "lon": [
          -80.782127,
          -80.782127
         ],
         "mode": "lines",
         "opacity": 0.6,
         "type": "scattergeo"
        },
        {
         "lat": [
          8.537981,
          42.546245
         ],
         "line": {
          "color": "blue",
          "width": 1
         },
         "locationmode": "ISO-3",
         "lon": [
          -80.782127,
          1.601554
         ],
         "mode": "lines",
         "opacity": 0.6,
         "type": "scattergeo"
        },
        {
         "lat": [
          8.537981,
          -14.235004
         ],
         "line": {
          "color": "blue",
          "width": 1
         },
         "locationmode": "ISO-3",
         "lon": [
          -80.782127,
          -51.92528
         ],
         "mode": "lines",
         "opacity": 0.6,
         "type": "scattergeo"
        },
        {
         "lat": [
          43.94236,
          43.94236
         ],
         "line": {
          "color": "blue",
          "width": 1
         },
         "locationmode": "ISO-3",
         "lon": [
          12.457777,
          12.457777
         ],
         "mode": "lines",
         "opacity": 0.6,
         "type": "scattergeo"
        },
        {
         "lat": [
          43.94236,
          41.87194
         ],
         "line": {
          "color": "blue",
          "width": 1
         },
         "locationmode": "ISO-3",
         "lon": [
          12.457777,
          12.56738
         ],
         "mode": "lines",
         "opacity": 0.6,
         "type": "scattergeo"
        },
        {
         "lat": [
          42.546245,
          40.463667
         ],
         "line": {
          "color": "blue",
          "width": 1
         },
         "locationmode": "ISO-3",
         "lon": [
          1.601554,
          -3.74922
         ],
         "mode": "lines",
         "opacity": 0.6,
         "type": "scattergeo"
        },
        {
         "lat": [
          13.794185,
          8.537981
         ],
         "line": {
          "color": "blue",
          "width": 1
         },
         "locationmode": "ISO-3",
         "lon": [
          -88.89653,
          -80.782127
         ],
         "mode": "lines",
         "opacity": 0.6,
         "type": "scattergeo"
        },
        {
         "lat": [
          13.794185,
          4.570868
         ],
         "line": {
          "color": "blue",
          "width": 1
         },
         "locationmode": "ISO-3",
         "lon": [
          -88.89653,
          -74.297333
         ],
         "mode": "lines",
         "opacity": 0.6,
         "type": "scattergeo"
        },
        {
         "lat": [
          13.794185,
          39.399872
         ],
         "line": {
          "color": "blue",
          "width": 1
         },
         "locationmode": "ISO-3",
         "lon": [
          -88.89653,
          -8.224454
         ],
         "mode": "lines",
         "opacity": 0.6,
         "type": "scattergeo"
        },
        {
         "lat": [
          13.794185,
          13.794185
         ],
         "line": {
          "color": "blue",
          "width": 1
         },
         "locationmode": "ISO-3",
         "lon": [
          -88.89653,
          -88.89653
         ],
         "mode": "lines",
         "opacity": 0.6,
         "type": "scattergeo"
        },
        {
         "lat": [
          13.794185,
          -32.522779
         ],
         "line": {
          "color": "blue",
          "width": 1
         },
         "locationmode": "ISO-3",
         "lon": [
          -88.89653,
          -55.765835
         ],
         "mode": "lines",
         "opacity": 0.6,
         "type": "scattergeo"
        },
        {
         "lat": [
          13.794185,
          9.748917
         ],
         "line": {
          "color": "blue",
          "width": 1
         },
         "locationmode": "ISO-3",
         "lon": [
          -88.89653,
          -83.753428
         ],
         "mode": "lines",
         "opacity": 0.6,
         "type": "scattergeo"
        },
        {
         "lat": [
          13.794185,
          23.634501
         ],
         "line": {
          "color": "blue",
          "width": 1
         },
         "locationmode": "ISO-3",
         "lon": [
          -88.89653,
          -102.552784
         ],
         "mode": "lines",
         "opacity": 0.6,
         "type": "scattergeo"
        },
        {
         "lat": [
          13.794185,
          15.783471
         ],
         "line": {
          "color": "blue",
          "width": 1
         },
         "locationmode": "ISO-3",
         "lon": [
          -88.89653,
          -90.230759
         ],
         "mode": "lines",
         "opacity": 0.6,
         "type": "scattergeo"
        },
        {
         "lat": [
          13.794185,
          15.199999
         ],
         "line": {
          "color": "blue",
          "width": 1
         },
         "locationmode": "ISO-3",
         "lon": [
          -88.89653,
          -86.241905
         ],
         "mode": "lines",
         "opacity": 0.6,
         "type": "scattergeo"
        },
        {
         "lat": [
          13.794185,
          12.865416
         ],
         "line": {
          "color": "blue",
          "width": 1
         },
         "locationmode": "ISO-3",
         "lon": [
          -88.89653,
          -85.207229
         ],
         "mode": "lines",
         "opacity": 0.6,
         "type": "scattergeo"
        },
        {
         "lat": [
          14.058324,
          49.817492
         ],
         "line": {
          "color": "blue",
          "width": 1
         },
         "locationmode": "ISO-3",
         "lon": [
          108.277199,
          15.472962
         ],
         "mode": "lines",
         "opacity": 0.6,
         "type": "scattergeo"
        },
        {
         "lat": [
          14.058324,
          61.52401
         ],
         "line": {
          "color": "blue",
          "width": 1
         },
         "locationmode": "ISO-3",
         "lon": [
          108.277199,
          105.318756
         ],
         "mode": "lines",
         "opacity": 0.6,
         "type": "scattergeo"
        },
        {
         "lat": [
          21.512583,
          21.512583
         ],
         "line": {
          "color": "blue",
          "width": 1
         },
         "locationmode": "ISO-3",
         "lon": [
          55.923255,
          55.923255
         ],
         "mode": "lines",
         "opacity": 0.6,
         "type": "scattergeo"
        },
        {
         "lat": [
          21.512583,
          25.354826
         ],
         "line": {
          "color": "blue",
          "width": 1
         },
         "locationmode": "ISO-3",
         "lon": [
          55.923255,
          51.183884
         ],
         "mode": "lines",
         "opacity": 0.6,
         "type": "scattergeo"
        },
        {
         "lat": [
          -16.578193,
          -16.578193
         ],
         "line": {
          "color": "blue",
          "width": 1
         },
         "locationmode": "ISO-3",
         "lon": [
          179.414413,
          179.414413
         ],
         "mode": "lines",
         "opacity": 0.6,
         "type": "scattergeo"
        },
        {
         "lat": [
          -16.578193,
          -25.274398
         ],
         "line": {
          "color": "blue",
          "width": 1
         },
         "locationmode": "ISO-3",
         "lon": [
          179.414413,
          133.775136
         ],
         "mode": "lines",
         "opacity": 0.6,
         "type": "scattergeo"
        },
        {
         "lat": [
          20.593684,
          20.593684
         ],
         "line": {
          "color": "blue",
          "width": 1
         },
         "locationmode": "ISO-3",
         "lon": [
          78.96288,
          78.96288
         ],
         "mode": "lines",
         "opacity": 0.6,
         "type": "scattergeo"
        },
        {
         "lat": [
          38.861034,
          38.861034
         ],
         "line": {
          "color": "blue",
          "width": 1
         },
         "locationmode": "ISO-3",
         "lon": [
          71.276093,
          71.276093
         ],
         "mode": "lines",
         "opacity": 0.6,
         "type": "scattergeo"
        },
        {
         "lat": [
          38.861034,
          61.52401
         ],
         "line": {
          "color": "blue",
          "width": 1
         },
         "locationmode": "ISO-3",
         "lon": [
          71.276093,
          105.318756
         ],
         "mode": "lines",
         "opacity": 0.6,
         "type": "scattergeo"
        },
        {
         "lat": [
          15.870032,
          15.870032
         ],
         "line": {
          "color": "blue",
          "width": 1
         },
         "locationmode": "ISO-3",
         "lon": [
          100.992541,
          100.992541
         ],
         "mode": "lines",
         "opacity": 0.6,
         "type": "scattergeo"
        },
        {
         "lat": [
          -0.789275,
          -0.789275
         ],
         "line": {
          "color": "blue",
          "width": 1
         },
         "locationmode": "ISO-3",
         "lon": [
          113.921327,
          113.921327
         ],
         "mode": "lines",
         "opacity": 0.6,
         "type": "scattergeo"
        },
        {
         "lat": [
          -0.789275,
          -38.416097
         ],
         "line": {
          "color": "blue",
          "width": 1
         },
         "locationmode": "ISO-3",
         "lon": [
          113.921327,
          -63.616672
         ],
         "mode": "lines",
         "opacity": 0.6,
         "type": "scattergeo"
        },
        {
         "lat": [
          -0.789275,
          55.378051
         ],
         "line": {
          "color": "blue",
          "width": 1
         },
         "locationmode": "ISO-3",
         "lon": [
          113.921327,
          -3.435973
         ],
         "mode": "lines",
         "opacity": 0.6,
         "type": "scattergeo"
        },
        {
         "lat": [
          51.165691,
          47.516231,
          55.378051,
          44.016521,
          49.817492,
          46.151241,
          35.126413,
          39.074208,
          40.463667,
          52.132633,
          41.87194,
          45.1,
          36.204824,
          -14.235004,
          61.52401,
          50.503887,
          60.472024,
          51.919438,
          47.162494,
          42.733883,
          37.09024,
          38.963745,
          35.86166,
          56.26392,
          60.128161,
          25.354826,
          -9.189967,
          64.963051,
          -25.274398,
          46.818188,
          31.046051,
          39.399872,
          45.943161,
          46.227638,
          33.886917,
          42.708678,
          7.946527,
          49.815273,
          9.081999,
          41.608635,
          -38.416097,
          35.907757,
          4.210484,
          61.92411,
          48.379433,
          40.143105,
          43.915886,
          23.634501,
          48.669026,
          4.570868,
          -1.831239,
          -32.522779,
          -35.675147,
          9.748917,
          33.854721,
          35.937496,
          23.885942,
          23.424076,
          53.41291,
          31.791702,
          41.153332,
          -30.559482,
          32.427908,
          -23.442503,
          28.033886,
          1.352083,
          18.109581,
          6.42375,
          53.709807,
          48.019573,
          56.879635,
          41.377491,
          55.169438,
          42.315407,
          -16.290154,
          15.783471,
          15.199999,
          61.892635,
          58.595272,
          47.411631,
          22.396428,
          1.373333,
          40.069099,
          42.602636,
          8.537981,
          43.94236,
          42.546245,
          13.794185,
          14.058324,
          21.512583,
          -16.578193,
          20.593684,
          38.861034,
          15.870032,
          -0.789275,
          12.865416
         ],
         "locationmode": "ISO-3",
         "lon": [
          10.451526,
          14.550072,
          -3.435973,
          21.005859,
          15.472962,
          14.995463,
          33.429859,
          21.824312,
          -3.74922,
          5.291266,
          12.56738,
          15.2,
          138.252924,
          -51.92528,
          105.318756,
          4.469936,
          8.468946,
          19.145136,
          19.503304,
          25.48583,
          -95.712891,
          35.243322,
          104.195397,
          9.501785,
          18.643501,
          51.183884,
          -75.015152,
          -19.020835,
          133.775136,
          8.227512,
          34.851612,
          -8.224454,
          24.96676,
          2.213749,
          9.537499,
          19.37439,
          -1.023194,
          6.129583,
          8.675277,
          21.745275,
          -63.616672,
          127.766922,
          101.975766,
          25.748151,
          31.16558,
          47.576927,
          17.679076,
          -102.552784,
          19.699024,
          -74.297333,
          -78.183406,
          -55.765835,
          -71.542969,
          -83.753428,
          35.862285,
          14.375416,
          45.079162,
          53.847818,
          -8.24389,
          -7.09262,
          20.168331,
          22.937506,
          53.688046,
          -58.443832,
          1.659626,
          103.819836,
          -77.297508,
          -66.58973,
          27.953389,
          66.923684,
          24.603189,
          64.585262,
          23.881275,
          43.356892,
          -63.588653,
          -90.230759,
          -86.241905,
          -6.911806,
          25.013607,
          28.369885,
          114.109497,
          32.290275,
          45.038189,
          20.902977,
          -80.782127,
          12.457777,
          1.601554,
          -88.89653,
          108.277199,
          55.923255,
          179.414413,
          78.96288,
          71.276093,
          100.992541,
          113.921327,
          -85.207229
         ],
         "marker": {
          "color": "red",
          "size": 10
         },
         "mode": "markers",
         "text": [
          "DE",
          "AT",
          "GB",
          "RS",
          "CZ",
          "SI",
          "CY",
          "GR",
          "ES",
          "NL",
          "IT",
          "HR",
          "JP",
          "BR",
          "RU",
          "BE",
          "NO",
          "PL",
          "HU",
          "BG",
          "US",
          "TR",
          "CN",
          "DK",
          "SE",
          "QA",
          "PE",
          "IS",
          "AU",
          "CH",
          "IL",
          "PT",
          "RO",
          "FR",
          "TN",
          "ME",
          "GH",
          "LU",
          "NG",
          "MK",
          "AR",
          "KR",
          "MY",
          "FI",
          "UA",
          "AZ",
          "BA",
          "MX",
          "SK",
          "CO",
          "EC",
          "UY",
          "CL",
          "CR",
          "LB",
          "MT",
          "SA",
          "AE",
          "IE",
          "MA",
          "AL",
          "ZA",
          "IR",
          "PY",
          "DZ",
          "SG",
          "JM",
          "VE",
          "BY",
          "KZ",
          "LV",
          "UZ",
          "LT",
          "GE",
          "BO",
          "GT",
          "HN",
          "FO",
          "EE",
          "MD",
          "HK",
          "UG",
          "AM",
          "XK",
          "PA",
          "SM",
          "AD",
          "SV",
          "VN",
          "OM",
          "FJ",
          "IN",
          "TJ",
          "TH",
          "ID",
          "NI"
         ],
         "type": "scattergeo"
        }
       ],
       "layout": {
        "geo": {
         "projection": {
          "type": "equirectangular"
         },
         "showcoastlines": true,
         "showframe": false
        },
        "showlegend": false,
        "template": {
         "data": {
          "bar": [
           {
            "error_x": {
             "color": "#2a3f5f"
            },
            "error_y": {
             "color": "#2a3f5f"
            },
            "marker": {
             "line": {
              "color": "#E5ECF6",
              "width": 0.5
             },
             "pattern": {
              "fillmode": "overlay",
              "size": 10,
              "solidity": 0.2
             }
            },
            "type": "bar"
           }
          ],
          "barpolar": [
           {
            "marker": {
             "line": {
              "color": "#E5ECF6",
              "width": 0.5
             },
             "pattern": {
              "fillmode": "overlay",
              "size": 10,
              "solidity": 0.2
             }
            },
            "type": "barpolar"
           }
          ],
          "carpet": [
           {
            "aaxis": {
             "endlinecolor": "#2a3f5f",
             "gridcolor": "white",
             "linecolor": "white",
             "minorgridcolor": "white",
             "startlinecolor": "#2a3f5f"
            },
            "baxis": {
             "endlinecolor": "#2a3f5f",
             "gridcolor": "white",
             "linecolor": "white",
             "minorgridcolor": "white",
             "startlinecolor": "#2a3f5f"
            },
            "type": "carpet"
           }
          ],
          "choropleth": [
           {
            "colorbar": {
             "outlinewidth": 0,
             "ticks": ""
            },
            "type": "choropleth"
           }
          ],
          "contour": [
           {
            "colorbar": {
             "outlinewidth": 0,
             "ticks": ""
            },
            "colorscale": [
             [
              0,
              "#0d0887"
             ],
             [
              0.1111111111111111,
              "#46039f"
             ],
             [
              0.2222222222222222,
              "#7201a8"
             ],
             [
              0.3333333333333333,
              "#9c179e"
             ],
             [
              0.4444444444444444,
              "#bd3786"
             ],
             [
              0.5555555555555556,
              "#d8576b"
             ],
             [
              0.6666666666666666,
              "#ed7953"
             ],
             [
              0.7777777777777778,
              "#fb9f3a"
             ],
             [
              0.8888888888888888,
              "#fdca26"
             ],
             [
              1,
              "#f0f921"
             ]
            ],
            "type": "contour"
           }
          ],
          "contourcarpet": [
           {
            "colorbar": {
             "outlinewidth": 0,
             "ticks": ""
            },
            "type": "contourcarpet"
           }
          ],
          "heatmap": [
           {
            "colorbar": {
             "outlinewidth": 0,
             "ticks": ""
            },
            "colorscale": [
             [
              0,
              "#0d0887"
             ],
             [
              0.1111111111111111,
              "#46039f"
             ],
             [
              0.2222222222222222,
              "#7201a8"
             ],
             [
              0.3333333333333333,
              "#9c179e"
             ],
             [
              0.4444444444444444,
              "#bd3786"
             ],
             [
              0.5555555555555556,
              "#d8576b"
             ],
             [
              0.6666666666666666,
              "#ed7953"
             ],
             [
              0.7777777777777778,
              "#fb9f3a"
             ],
             [
              0.8888888888888888,
              "#fdca26"
             ],
             [
              1,
              "#f0f921"
             ]
            ],
            "type": "heatmap"
           }
          ],
          "heatmapgl": [
           {
            "colorbar": {
             "outlinewidth": 0,
             "ticks": ""
            },
            "colorscale": [
             [
              0,
              "#0d0887"
             ],
             [
              0.1111111111111111,
              "#46039f"
             ],
             [
              0.2222222222222222,
              "#7201a8"
             ],
             [
              0.3333333333333333,
              "#9c179e"
             ],
             [
              0.4444444444444444,
              "#bd3786"
             ],
             [
              0.5555555555555556,
              "#d8576b"
             ],
             [
              0.6666666666666666,
              "#ed7953"
             ],
             [
              0.7777777777777778,
              "#fb9f3a"
             ],
             [
              0.8888888888888888,
              "#fdca26"
             ],
             [
              1,
              "#f0f921"
             ]
            ],
            "type": "heatmapgl"
           }
          ],
          "histogram": [
           {
            "marker": {
             "pattern": {
              "fillmode": "overlay",
              "size": 10,
              "solidity": 0.2
             }
            },
            "type": "histogram"
           }
          ],
          "histogram2d": [
           {
            "colorbar": {
             "outlinewidth": 0,
             "ticks": ""
            },
            "colorscale": [
             [
              0,
              "#0d0887"
             ],
             [
              0.1111111111111111,
              "#46039f"
             ],
             [
              0.2222222222222222,
              "#7201a8"
             ],
             [
              0.3333333333333333,
              "#9c179e"
             ],
             [
              0.4444444444444444,
              "#bd3786"
             ],
             [
              0.5555555555555556,
              "#d8576b"
             ],
             [
              0.6666666666666666,
              "#ed7953"
             ],
             [
              0.7777777777777778,
              "#fb9f3a"
             ],
             [
              0.8888888888888888,
              "#fdca26"
             ],
             [
              1,
              "#f0f921"
             ]
            ],
            "type": "histogram2d"
           }
          ],
          "histogram2dcontour": [
           {
            "colorbar": {
             "outlinewidth": 0,
             "ticks": ""
            },
            "colorscale": [
             [
              0,
              "#0d0887"
             ],
             [
              0.1111111111111111,
              "#46039f"
             ],
             [
              0.2222222222222222,
              "#7201a8"
             ],
             [
              0.3333333333333333,
              "#9c179e"
             ],
             [
              0.4444444444444444,
              "#bd3786"
             ],
             [
              0.5555555555555556,
              "#d8576b"
             ],
             [
              0.6666666666666666,
              "#ed7953"
             ],
             [
              0.7777777777777778,
              "#fb9f3a"
             ],
             [
              0.8888888888888888,
              "#fdca26"
             ],
             [
              1,
              "#f0f921"
             ]
            ],
            "type": "histogram2dcontour"
           }
          ],
          "mesh3d": [
           {
            "colorbar": {
             "outlinewidth": 0,
             "ticks": ""
            },
            "type": "mesh3d"
           }
          ],
          "parcoords": [
           {
            "line": {
             "colorbar": {
              "outlinewidth": 0,
              "ticks": ""
             }
            },
            "type": "parcoords"
           }
          ],
          "pie": [
           {
            "automargin": true,
            "type": "pie"
           }
          ],
          "scatter": [
           {
            "fillpattern": {
             "fillmode": "overlay",
             "size": 10,
             "solidity": 0.2
            },
            "type": "scatter"
           }
          ],
          "scatter3d": [
           {
            "line": {
             "colorbar": {
              "outlinewidth": 0,
              "ticks": ""
             }
            },
            "marker": {
             "colorbar": {
              "outlinewidth": 0,
              "ticks": ""
             }
            },
            "type": "scatter3d"
           }
          ],
          "scattercarpet": [
           {
            "marker": {
             "colorbar": {
              "outlinewidth": 0,
              "ticks": ""
             }
            },
            "type": "scattercarpet"
           }
          ],
          "scattergeo": [
           {
            "marker": {
             "colorbar": {
              "outlinewidth": 0,
              "ticks": ""
             }
            },
            "type": "scattergeo"
           }
          ],
          "scattergl": [
           {
            "marker": {
             "colorbar": {
              "outlinewidth": 0,
              "ticks": ""
             }
            },
            "type": "scattergl"
           }
          ],
          "scattermapbox": [
           {
            "marker": {
             "colorbar": {
              "outlinewidth": 0,
              "ticks": ""
             }
            },
            "type": "scattermapbox"
           }
          ],
          "scatterpolar": [
           {
            "marker": {
             "colorbar": {
              "outlinewidth": 0,
              "ticks": ""
             }
            },
            "type": "scatterpolar"
           }
          ],
          "scatterpolargl": [
           {
            "marker": {
             "colorbar": {
              "outlinewidth": 0,
              "ticks": ""
             }
            },
            "type": "scatterpolargl"
           }
          ],
          "scatterternary": [
           {
            "marker": {
             "colorbar": {
              "outlinewidth": 0,
              "ticks": ""
             }
            },
            "type": "scatterternary"
           }
          ],
          "surface": [
           {
            "colorbar": {
             "outlinewidth": 0,
             "ticks": ""
            },
            "colorscale": [
             [
              0,
              "#0d0887"
             ],
             [
              0.1111111111111111,
              "#46039f"
             ],
             [
              0.2222222222222222,
              "#7201a8"
             ],
             [
              0.3333333333333333,
              "#9c179e"
             ],
             [
              0.4444444444444444,
              "#bd3786"
             ],
             [
              0.5555555555555556,
              "#d8576b"
             ],
             [
              0.6666666666666666,
              "#ed7953"
             ],
             [
              0.7777777777777778,
              "#fb9f3a"
             ],
             [
              0.8888888888888888,
              "#fdca26"
             ],
             [
              1,
              "#f0f921"
             ]
            ],
            "type": "surface"
           }
          ],
          "table": [
           {
            "cells": {
             "fill": {
              "color": "#EBF0F8"
             },
             "line": {
              "color": "white"
             }
            },
            "header": {
             "fill": {
              "color": "#C8D4E3"
             },
             "line": {
              "color": "white"
             }
            },
            "type": "table"
           }
          ]
         },
         "layout": {
          "annotationdefaults": {
           "arrowcolor": "#2a3f5f",
           "arrowhead": 0,
           "arrowwidth": 1
          },
          "autotypenumbers": "strict",
          "coloraxis": {
           "colorbar": {
            "outlinewidth": 0,
            "ticks": ""
           }
          },
          "colorscale": {
           "diverging": [
            [
             0,
             "#8e0152"
            ],
            [
             0.1,
             "#c51b7d"
            ],
            [
             0.2,
             "#de77ae"
            ],
            [
             0.3,
             "#f1b6da"
            ],
            [
             0.4,
             "#fde0ef"
            ],
            [
             0.5,
             "#f7f7f7"
            ],
            [
             0.6,
             "#e6f5d0"
            ],
            [
             0.7,
             "#b8e186"
            ],
            [
             0.8,
             "#7fbc41"
            ],
            [
             0.9,
             "#4d9221"
            ],
            [
             1,
             "#276419"
            ]
           ],
           "sequential": [
            [
             0,
             "#0d0887"
            ],
            [
             0.1111111111111111,
             "#46039f"
            ],
            [
             0.2222222222222222,
             "#7201a8"
            ],
            [
             0.3333333333333333,
             "#9c179e"
            ],
            [
             0.4444444444444444,
             "#bd3786"
            ],
            [
             0.5555555555555556,
             "#d8576b"
            ],
            [
             0.6666666666666666,
             "#ed7953"
            ],
            [
             0.7777777777777778,
             "#fb9f3a"
            ],
            [
             0.8888888888888888,
             "#fdca26"
            ],
            [
             1,
             "#f0f921"
            ]
           ],
           "sequentialminus": [
            [
             0,
             "#0d0887"
            ],
            [
             0.1111111111111111,
             "#46039f"
            ],
            [
             0.2222222222222222,
             "#7201a8"
            ],
            [
             0.3333333333333333,
             "#9c179e"
            ],
            [
             0.4444444444444444,
             "#bd3786"
            ],
            [
             0.5555555555555556,
             "#d8576b"
            ],
            [
             0.6666666666666666,
             "#ed7953"
            ],
            [
             0.7777777777777778,
             "#fb9f3a"
            ],
            [
             0.8888888888888888,
             "#fdca26"
            ],
            [
             1,
             "#f0f921"
            ]
           ]
          },
          "colorway": [
           "#636efa",
           "#EF553B",
           "#00cc96",
           "#ab63fa",
           "#FFA15A",
           "#19d3f3",
           "#FF6692",
           "#B6E880",
           "#FF97FF",
           "#FECB52"
          ],
          "font": {
           "color": "#2a3f5f"
          },
          "geo": {
           "bgcolor": "white",
           "lakecolor": "white",
           "landcolor": "#E5ECF6",
           "showlakes": true,
           "showland": true,
           "subunitcolor": "white"
          },
          "hoverlabel": {
           "align": "left"
          },
          "hovermode": "closest",
          "mapbox": {
           "style": "light"
          },
          "paper_bgcolor": "white",
          "plot_bgcolor": "#E5ECF6",
          "polar": {
           "angularaxis": {
            "gridcolor": "white",
            "linecolor": "white",
            "ticks": ""
           },
           "bgcolor": "#E5ECF6",
           "radialaxis": {
            "gridcolor": "white",
            "linecolor": "white",
            "ticks": ""
           }
          },
          "scene": {
           "xaxis": {
            "backgroundcolor": "#E5ECF6",
            "gridcolor": "white",
            "gridwidth": 2,
            "linecolor": "white",
            "showbackground": true,
            "ticks": "",
            "zerolinecolor": "white"
           },
           "yaxis": {
            "backgroundcolor": "#E5ECF6",
            "gridcolor": "white",
            "gridwidth": 2,
            "linecolor": "white",
            "showbackground": true,
            "ticks": "",
            "zerolinecolor": "white"
           },
           "zaxis": {
            "backgroundcolor": "#E5ECF6",
            "gridcolor": "white",
            "gridwidth": 2,
            "linecolor": "white",
            "showbackground": true,
            "ticks": "",
            "zerolinecolor": "white"
           }
          },
          "shapedefaults": {
           "line": {
            "color": "#2a3f5f"
           }
          },
          "ternary": {
           "aaxis": {
            "gridcolor": "white",
            "linecolor": "white",
            "ticks": ""
           },
           "baxis": {
            "gridcolor": "white",
            "linecolor": "white",
            "ticks": ""
           },
           "bgcolor": "#E5ECF6",
           "caxis": {
            "gridcolor": "white",
            "linecolor": "white",
            "ticks": ""
           }
          },
          "title": {
           "x": 0.05
          },
          "xaxis": {
           "automargin": true,
           "gridcolor": "white",
           "linecolor": "white",
           "ticks": "",
           "title": {
            "standoff": 15
           },
           "zerolinecolor": "white",
           "zerolinewidth": 2
          },
          "yaxis": {
           "automargin": true,
           "gridcolor": "white",
           "linecolor": "white",
           "ticks": "",
           "title": {
            "standoff": 15
           },
           "zerolinecolor": "white",
           "zerolinewidth": 2
          }
         }
        },
        "title": {
         "text": "Teste"
        }
       }
      }
     },
     "metadata": {},
     "output_type": "display_data"
    }
   ],
   "source": [
    "\n",
    "edge_trace = []\n",
    "for edge in G.edges(data=True):\n",
    "    origin = edge[0]\n",
    "    destination = edge[1]\n",
    "    weight = edge[2]['weight']\n",
    "\n",
    "    edge_trace.append(\n",
    "        go.Scattergeo(\n",
    "            locationmode='ISO-3',\n",
    "            lon=[country_coords.loc[origin, 'lon'],\n",
    "                 country_coords.loc[destination, 'lon']],\n",
    "            lat=[country_coords.loc[origin, 'lat'],\n",
    "                 country_coords.loc[destination, 'lat']],\n",
    "            mode='lines',\n",
    "            line=dict(width=weight, color='blue'),\n",
    "            opacity=0.6,\n",
    "        )\n",
    "    )\n",
    "\n",
    "node_trace = go.Scattergeo(\n",
    "    locationmode='ISO-3',\n",
    "    lon=[country_coords.loc[country, 'lon'] for country in G.nodes],\n",
    "    lat=[country_coords.loc[country, 'lat'] for country in G.nodes],\n",
    "    mode='markers',\n",
    "    marker=dict(size=10, color='red'),\n",
    "    text=[country for country in G.nodes]\n",
    ")\n",
    "\n",
    "fig = go.Figure(data=edge_trace + [node_trace])\n",
    "\n",
    "fig.update_layout(\n",
    "    title = 'Teste',\n",
    "    showlegend = False,\n",
    "    geo = dict(showframe = False, showcoastlines = True, projection_type = 'equirectangular')\n",
    ")\n",
    "\n",
    "fig.show()"
   ]
  },
  {
   "cell_type": "code",
   "execution_count": 4,
   "metadata": {},
   "outputs": [
    {
     "data": {
      "application/vnd.plotly.v1+json": {
       "config": {
        "plotlyServerURL": "https://plot.ly"
       },
       "data": [
        {
         "geo": "geo",
         "lat": [
          36.342235
         ],
         "lon": [
          -94.07141
         ],
         "marker": {
          "color": "rgb(0, 0, 255)",
          "opacity": 0.5
         },
         "name": "1962",
         "showlegend": false,
         "type": "scattergeo"
        },
        {
         "geo": "geo",
         "lat": [
          40
         ],
         "lon": [
          -77
         ],
         "mode": "text",
         "showlegend": false,
         "text": [
          "1962"
         ],
         "type": "scattergeo"
        },
        {
         "geo": "geo2",
         "lat": [
          36.236984
         ],
         "lon": [
          -93.09345
         ],
         "marker": {
          "color": "rgb(0, 0, 255)",
          "opacity": 0.5
         },
         "name": "1964",
         "showlegend": false,
         "type": "scattergeo"
        },
        {
         "geo": "geo2",
         "lat": [
          40
         ],
         "lon": [
          -77
         ],
         "mode": "text",
         "showlegend": false,
         "text": [
          "1964"
         ],
         "type": "scattergeo"
        },
        {
         "geo": "geo3",
         "lat": [
          36.179905
         ],
         "lon": [
          -94.50208
         ],
         "marker": {
          "color": "rgb(0, 0, 255)",
          "opacity": 0.5
         },
         "name": "1965",
         "showlegend": false,
         "type": "scattergeo"
        },
        {
         "geo": "geo3",
         "lat": [
          40
         ],
         "lon": [
          -77
         ],
         "mode": "text",
         "showlegend": false,
         "text": [
          "1965"
         ],
         "type": "scattergeo"
        },
        {
         "geo": "geo4",
         "lat": [
          35.156491,
          34.813269
         ],
         "lon": [
          -92.75858,
          -92.30229
         ],
         "marker": {
          "color": "rgb(0, 0, 255)",
          "opacity": 0.5
         },
         "name": "1967",
         "showlegend": false,
         "type": "scattergeo"
        },
        {
         "geo": "geo4",
         "lat": [
          40
         ],
         "lon": [
          -77
         ],
         "mode": "text",
         "showlegend": false,
         "text": [
          "1967"
         ],
         "type": "scattergeo"
        },
        {
         "geo": "geo5",
         "lat": [
          35.923658,
          37.168985,
          36.327143,
          36.329026,
          36.891163
         ],
         "lon": [
          -94.97185,
          -94.31164,
          -95.61192,
          -92.35781,
          -89.58355
         ],
         "marker": {
          "color": "rgb(0, 0, 255)",
          "opacity": 0.5
         },
         "name": "1968",
         "showlegend": false,
         "type": "scattergeo"
        },
        {
         "geo": "geo5",
         "lat": [
          40
         ],
         "lon": [
          -77
         ],
         "mode": "text",
         "showlegend": false,
         "text": [
          "1968"
         ],
         "type": "scattergeo"
        },
        {
         "geo": "geo6",
         "lat": [
          36.719145,
          36.86429,
          35.456536,
          35.586065,
          37.678528
         ],
         "lon": [
          -91.87408,
          -94.39016,
          -94.34581,
          -91.24695,
          -92.64733
         ],
         "marker": {
          "color": "rgb(0, 0, 255)",
          "opacity": 0.5
         },
         "name": "1969",
         "showlegend": false,
         "type": "scattergeo"
        },
        {
         "geo": "geo6",
         "lat": [
          40
         ],
         "lon": [
          -77
         ],
         "mode": "text",
         "showlegend": false,
         "text": [
          "1969"
         ],
         "type": "scattergeo"
        },
        {
         "geo": "geo7",
         "lat": [
          38.364214,
          36.294174,
          37.827415,
          32.52476,
          39.298776
         ],
         "lon": [
          -93.76042,
          -95.30295,
          -92.135741,
          -92.64696,
          -94.93555
         ],
         "marker": {
          "color": "rgb(0, 0, 255)",
          "opacity": 0.5
         },
         "name": "1970",
         "showlegend": false,
         "type": "scattergeo"
        },
        {
         "geo": "geo7",
         "lat": [
          40
         ],
         "lon": [
          -77
         ],
         "mode": "text",
         "showlegend": false,
         "text": [
          "1970"
         ],
         "type": "scattergeo"
        },
        {
         "geo": "geo8",
         "lat": [
          36.784453,
          37.630896,
          33.985613,
          36.64417,
          38.568287,
          35.052793,
          34.879419,
          39.179316,
          37.838563,
          39.184986,
          36.065711,
          37.779206,
          33.883578,
          39.420353,
          36.880746
         ],
         "lon": [
          -89.97428,
          -91.51423,
          -93.85214,
          -93.25668,
          -92.25329,
          -94.61829,
          -92.12244,
          -91.88404,
          -94.35075,
          -96.56932,
          -90.5102,
          -90.41404,
          -94.83154,
          -92.4344,
          -94.87142
         ],
         "marker": {
          "color": "rgb(0, 0, 255)",
          "opacity": 0.5
         },
         "name": "1971",
         "showlegend": false,
         "type": "scattergeo"
        },
        {
         "geo": "geo8",
         "lat": [
          40
         ],
         "lon": [
          -77
         ],
         "mode": "text",
         "showlegend": false,
         "text": [
          "1971"
         ],
         "type": "scattergeo"
        },
        {
         "geo": "geo9",
         "lat": [
          37.823295,
          35.925991,
          39.01585,
          38.311355,
          35.844795,
          35.075467,
          37.616822,
          35.105966,
          38.772117,
          35.467031,
          36.91816,
          34.010943,
          37.047161,
          36.068015,
          34.47056,
          36.182407,
          36.733398
         ],
         "lon": [
          -94.73389,
          -89.91767,
          -96.83653,
          -92.58395,
          -90.68443,
          -92.43401,
          -93.40072,
          -93.97531,
          -93.73519,
          -94.78647,
          -93.91488,
          -95.51651,
          -94.51124,
          -90.94429,
          -93.08805,
          -94.1082,
          -95.92404
         ],
         "marker": {
          "color": "rgb(0, 0, 255)",
          "opacity": 0.5
         },
         "name": "1972",
         "showlegend": false,
         "type": "scattergeo"
        },
        {
         "geo": "geo9",
         "lat": [
          40
         ],
         "lon": [
          -77
         ],
         "mode": "text",
         "showlegend": false,
         "text": [
          "1972"
         ],
         "type": "scattergeo"
        },
        {
         "geo": "geo10",
         "lat": [
          35.696385,
          37.041838,
          36.631673,
          38.852436,
          36.921199,
          35.308848,
          35.961019,
          35.590558,
          38.200244,
          35.490105,
          34.588479,
          35.229779,
          38.187767,
          36.304912,
          36.350821,
          37.330958,
          38.926838,
          35.815628,
          37.257053
         ],
         "lon": [
          -90.02631,
          -95.61814,
          -95.17303,
          -91.95808,
          -92.66205,
          -93.10909,
          -95.3611,
          -89.2609,
          -91.14089,
          -93.4851,
          -94.21567,
          -90.83237,
          -90.4077,
          -91.0141,
          -93.56324,
          -92.90929,
          -92.29003,
          -94.65023,
          -93.29015
         ],
         "marker": {
          "color": "rgb(0, 0, 255)",
          "opacity": 0.5
         },
         "name": "1973",
         "showlegend": false,
         "type": "scattergeo"
        },
        {
         "geo": "geo10",
         "lat": [
          40
         ],
         "lon": [
          -77
         ],
         "mode": "text",
         "showlegend": false,
         "text": [
          "1973"
         ],
         "type": "scattergeo"
        },
        {
         "geo": "geo11",
         "lat": [
          35.996582,
          36.362525,
          37.408511,
          35.150009,
          36.353928,
          37.09416,
          36.532059,
          34.928325,
          37.716811,
          33.249608,
          34.867846,
          34.564734,
          35.916722,
          32.631009,
          37.176376,
          38.032648,
          36.599689,
          35.010683,
          36.918018,
          35.560622,
          35.347965,
          37.844197,
          38.641509,
          35.637993,
          34.479852
         ],
         "lon": [
          -96.1194,
          -94.23308,
          -94.70414,
          -90.17636,
          -88.84191,
          -94.50169,
          -88.89132,
          -88.52856,
          -89.87601,
          -93.20427,
          -91.19271,
          -92.59562,
          -88.76628,
          -93.28751,
          -92.27609,
          -92.78269,
          -94.76673,
          -90.78048,
          -93.71063,
          -89.64201,
          -89.90668,
          -90.53,
          -94.34126,
          -89.86859,
          -91.53854
         ],
         "marker": {
          "color": "rgb(0, 0, 255)",
          "opacity": 0.5
         },
         "name": "1974",
         "showlegend": false,
         "type": "scattergeo"
        },
        {
         "geo": "geo11",
         "lat": [
          40
         ],
         "lon": [
          -77
         ],
         "mode": "text",
         "showlegend": false,
         "text": [
          "1974"
         ],
         "type": "scattergeo"
        },
        {
         "geo": "geo12",
         "lat": [
          34.184742,
          32.814969,
          35.375188,
          35.857303,
          39.743859,
          37.666078,
          33.450215,
          35.040526,
          34.653448,
          32.849008,
          34.142978,
          35.628612,
          37.413716,
          35.249655,
          34.674192,
          35.373791,
          35.719962,
          33.166739,
          38.991916
         ],
         "lon": [
          -97.12655,
          -91.90678,
          -96.93162,
          -97.43176,
          -94.23378,
          -95.45681,
          -88.82383,
          -97.94723,
          -88.53751,
          -93.97599,
          -94.80269,
          -95.9734,
          -89.65428,
          -96.65915,
          -92.35557,
          -94.41371,
          -95.33691,
          -94.9814,
          -90.98649
         ],
         "marker": {
          "color": "rgb(0, 0, 255)",
          "opacity": 0.5
         },
         "name": "1975",
         "showlegend": false,
         "type": "scattergeo"
        },
        {
         "geo": "geo12",
         "lat": [
          40
         ],
         "lon": [
          -77
         ],
         "mode": "text",
         "showlegend": false,
         "text": [
          "1975"
         ],
         "type": "scattergeo"
        },
        {
         "geo": "geo13",
         "lat": [
          33.988235,
          35.825299,
          36.800787,
          36.149394,
          33.754053,
          35.017656,
          36.433665,
          34.749723,
          34.364093,
          33.660274,
          37.94384,
          38.434806,
          32.727128,
          39.449012,
          36.096998,
          36.854812,
          33.626445,
          31.330567,
          35.357041,
          35.856216,
          38.120303,
          34.489085,
          33.675597,
          33.619058,
          35.405935,
          39.790132,
          35.78108
         ],
         "lon": [
          -88.46783,
          -88.90218,
          -97.29289,
          -97.05784,
          -96.57867,
          -97.39646,
          -99.40838,
          -92.41345,
          -92.8146,
          -95.55958,
          -91.77105,
          -91.00353,
          -94.9577,
          -91.07518,
          -94.2486,
          -88.33515,
          -95.03534,
          -94.68667,
          -94.36914,
          -97.93743,
          -90.55426,
          -88.99973,
          -94.13465,
          -88.64686,
          -99.41658,
          -93.54803,
          -91.63835
         ],
         "marker": {
          "color": "rgb(0, 0, 255)",
          "opacity": 0.5
         },
         "name": "1976",
         "showlegend": false,
         "type": "scattergeo"
        },
        {
         "geo": "geo13",
         "lat": [
          40
         ],
         "lon": [
          -77
         ],
         "mode": "text",
         "showlegend": false,
         "text": [
          "1976"
         ],
         "type": "scattergeo"
        },
        {
         "geo": "geo14",
         "lat": [
          35.995802,
          37.257053,
          32.229884,
          34.944399,
          34.607602,
          36.174029,
          35.239022,
          33.583772,
          38.926838,
          36.24564,
          35.050671,
          31.649582,
          34.236312,
          32.104159,
          37.316088,
          33.125032,
          34.7964,
          31.751287,
          33.578096,
          38.535499,
          37.91496,
          35.057224,
          34.739023,
          36.300311,
          36.804875,
          37.168435,
          33.109635,
          37.830417,
          37.32564,
          40.183335,
          36.237128,
          39.340332,
          37.707763,
          40.456986,
          38.623789,
          40.149927,
          39.730234,
          38.532311,
          35.228649
         ],
         "lon": [
          -88.41385,
          -93.29015,
          -92.69763,
          -95.75709,
          -89.94635,
          -89.67548,
          -91.73776,
          -96.1818,
          -92.29003,
          -91.63703,
          -98.23984,
          -94.638278,
          -89.00425,
          -94.85568,
          -91.95471,
          -91.97037,
          -91.90949,
          -93.09021,
          -92.81368,
          -91.02348,
          -90.86797,
          -89.67417,
          -88.92629,
          -88.32891,
          -98.69707,
          -93.31297,
          -89.02849,
          -96.84294,
          -89.5659,
          -92.58341,
          -90.04866,
          -94.22601,
          -89.19246,
          -90.6681,
          -88.95361,
          -89.36746,
          -90.22941,
          -89.93996,
          -97.45629
         ],
         "marker": {
          "color": "rgb(0, 0, 255)",
          "opacity": 0.5
         },
         "name": "1977",
         "showlegend": false,
         "type": "scattergeo"
        },
        {
         "geo": "geo14",
         "lat": [
          40
         ],
         "lon": [
          -77
         ],
         "mode": "text",
         "showlegend": false,
         "text": [
          "1977"
         ],
         "type": "scattergeo"
        },
        {
         "geo": "geo15",
         "lat": [
          38.322558,
          33.118611,
          35.519046,
          32.343115,
          36.278298,
          35.781707,
          37.725834,
          36.410344,
          39.230259,
          37.457806,
          34.347553,
          34.780243,
          35.293281,
          39.792042,
          37.12596,
          32.776368,
          33.195073,
          36.260645,
          37.026091,
          35.549469,
          35.088636,
          32.015496,
          35.623029,
          39.179875,
          30.941282,
          39.017559,
          33.465282,
          33.020118,
          31.953855,
          38.702964,
          32.535841,
          35.506204,
          38.122112,
          34.49284
         ],
         "lon": [
          -88.90842,
          -94.1773,
          -97.95534,
          -97.40081,
          -95.8305,
          -90.74506,
          -88.54208,
          -90.56479,
          -94.47794,
          -89.21408,
          -96.11276,
          -96.68761,
          -93.72139,
          -93.04973,
          -87.87429,
          -89.12788,
          -96.60363,
          -96.39586,
          -94.74929,
          -93.81819,
          -96.38778,
          -97.12263,
          -90.52742,
          -89.65721,
          -94.03455,
          -94.25767,
          -94.41954,
          -97.00771,
          -95.25281,
          -93.23231,
          -97.30681,
          -97.74814,
          -89.71168,
          -96.98606
         ],
         "marker": {
          "color": "rgb(0, 0, 255)",
          "opacity": 0.5
         },
         "name": "1978",
         "showlegend": false,
         "type": "scattergeo"
        },
        {
         "geo": "geo15",
         "lat": [
          40
         ],
         "lon": [
          -77
         ],
         "mode": "text",
         "showlegend": false,
         "text": [
          "1978"
         ],
         "type": "scattergeo"
        },
        {
         "geo": "geo16",
         "lat": [
          33.25868,
          33.481491,
          37.724504,
          35.165045,
          31.315837,
          35.204983,
          33.038079,
          38.574804,
          31.915828,
          36.381305,
          35.447961,
          31.669823,
          30.35469,
          38.242861,
          32.674657,
          38.72456,
          38.75592,
          37.67416,
          32.93382,
          32.397024,
          38.000245,
          36.065779,
          32.747747,
          35.180947,
          34.613973,
          33.54007,
          35.921811,
          34.265985,
          34.803864,
          30.712538,
          30.646291,
          35.489516,
          32.57701,
          30.805099,
          32.331239,
          33.828412,
          30.768601,
          33.628723,
          30.574821,
          36.513979,
          32.785139,
          33.380388,
          35.136177
         ],
         "lon": [
          -95.91061,
          -89.73155,
          -88.92968,
          -88.59327,
          -95.47393,
          -87.01246,
          -89.56318,
          -94.86706,
          -92.6445,
          -96.03998,
          -95.95038,
          -96.48721,
          -95.04514,
          -93.36354,
          -95.46982,
          -88.08658,
          -89.97442,
          -87.90199,
          -96.45446,
          -96.83283,
          -88.92407,
          -87.40831,
          -96.28923,
          -88.18946,
          -98.46255,
          -97.88575,
          -86.7952,
          -88.38409,
          -88.10205,
          -94.89915,
          -97.01149,
          -92.02327,
          -97.13485,
          -95.50719,
          -96.61962,
          -87.27632,
          -94.40671,
          -91.38236,
          -97.40948,
          -86.86892,
          -89.50644,
          -91.05187,
          -86.57433
         ],
         "marker": {
          "color": "rgb(0, 0, 255)",
          "opacity": 0.5
         },
         "name": "1979",
         "showlegend": false,
         "type": "scattergeo"
        },
        {
         "geo": "geo16",
         "lat": [
          40
         ],
         "lon": [
          -77
         ],
         "mode": "text",
         "showlegend": false,
         "text": [
          "1979"
         ],
         "type": "scattergeo"
        },
        {
         "geo": "geo17",
         "lat": [
          37.268972,
          37.921816,
          34.323715,
          33.62086,
          37.507321,
          35.34377,
          37.54834,
          34.038226,
          35.693101,
          37.256575,
          36.718074,
          30.026093,
          29.943573,
          30.213767,
          29.759314,
          39.058604,
          39.311978,
          33.719701,
          32.031067,
          37.68066,
          30.183651,
          31.310649,
          30.710639,
          38.803528,
          39.280289,
          39.857155,
          33.944897,
          34.111837,
          38.808884,
          28.873664,
          29.510439,
          32.660497,
          37.339913,
          29.872165,
          30.374501,
          37.299591,
          38.011729,
          33.900515,
          38.494203,
          35.199221,
          34.31985,
          34.272374,
          36.444215,
          34.203621,
          39.852696,
          36.930527,
          33.824496,
          33.996698,
          32.93195,
          37.155108,
          37.771806,
          34.762615,
          33.834201,
          34.043263
         ],
         "lon": [
          -97.41247,
          -89.82842,
          -86.49278,
          -91.76272,
          -94.2761,
          -97.48596,
          -90.30599,
          -94.33597,
          -88.80653,
          -96.97885,
          -86.58202,
          -93.84071,
          -92.14872,
          -92.37921,
          -91.52561,
          -93.73366,
          -93.96947,
          -85.83166,
          -93.68585,
          -96.98153,
          -96.40258,
          -96.87859,
          -92.30628,
          -94.45103,
          -89.8757,
          -95.54497,
          -86.45813,
          -93.05585,
          -90.85922,
          -97.00715,
          -97.45352,
          -85.39917,
          -95.25834,
          -97.68093,
          -96.07999,
          -87.12992,
          -89.24688,
          -91.50041,
          -90.61304,
          -93.17973,
          -92.39319,
          -88.6822,
          -94.78345,
          -86.1728,
          -96.63963,
          -86.44751,
          -85.77037,
          -85.92496,
          -97.08498,
          -94.47465,
          -89.33971,
          -89.46092,
          -92.43421,
          -86.08904
         ],
         "marker": {
          "color": "rgb(0, 0, 255)",
          "opacity": 0.5
         },
         "name": "1980",
         "showlegend": false,
         "type": "scattergeo"
        },
        {
         "geo": "geo17",
         "lat": [
          40
         ],
         "lon": [
          -77
         ],
         "mode": "text",
         "showlegend": false,
         "text": [
          "1980"
         ],
         "type": "scattergeo"
        },
        {
         "geo": "geo18",
         "lat": [
          31.447119,
          35.619784,
          34.47056,
          32.78288,
          35.272967,
          32.457903,
          30.102209,
          35.500068,
          38.405287,
          38.961799,
          35.843486,
          38.325969,
          30.245205,
          34.748066,
          37.377266,
          35.443872,
          39.548928,
          29.197701,
          33.081863,
          38.33895,
          32.577135,
          38.428609,
          35.48891,
          36.107078,
          35.973286,
          38.679282,
          33.925454,
          39.10518,
          31.769105,
          32.280746,
          32.424695,
          37.755267,
          36.1161,
          35.94785,
          34.72879,
          32.552315,
          32.558949,
          39.466971,
          37.021086,
          31.131076,
          38.614986,
          30.390569,
          30.240473,
          29.09649,
          35.623805,
          36.085376,
          34.23615,
          35.527593,
          35.60758,
          34.496476,
          26.234417,
          26.172018,
          32.523779,
          30.270694,
          30.301254,
          34.519453,
          35.968513,
          31.027003,
          34.225425,
          36.617443,
          33.232422,
          26.344128,
          36.733761,
          37.044233,
          33.415449,
          34.77624,
          34.603017,
          33.916418,
          33.486049,
          33.859815,
          34.282877,
          33.38934,
          34.413907,
          32.879529,
          34.714045,
          34.789884,
          34.278935,
          31.986249,
          35.10425,
          31.260995,
          34.825592,
          34.840717,
          34.68862,
          33.765136,
          34.478139,
          36.866845,
          35.47066,
          36.1832,
          34.281423,
          36.151324,
          34.759947,
          34.784028,
          34.539072,
          35.441378,
          37.372314,
          35.357522,
          35.687286,
          34.780699,
          34.167893,
          36.240331,
          35.784708,
          36.388997,
          36.426933,
          35.861763,
          36.038042,
          35.963276,
          36.229928,
          34.350835,
          35.896645,
          35.259613,
          35.658409,
          36.186008,
          35.929314,
          36.079259,
          37.112274,
          36.355251,
          34.460537,
          37.644426,
          37.825094,
          36.264069,
          35.219532,
          34.345016,
          32.419846,
          37.753347,
          37.98223,
          34.196126,
          37.704287,
          36.180507,
          36.970776,
          34.712327,
          34.546274,
          33.149246,
          33.528734,
          37.745999,
          38.201649,
          33.588486,
          31.852825,
          32.903432,
          34.010162,
          37.81109,
          33.185782,
          32.495484,
          32.777662,
          31.32579,
          35.192829,
          36.860612,
          35.461359,
          36.050286,
          36.617181,
          35.815524
         ],
         "lon": [
          -85.62908,
          -87.03565,
          -93.08805,
          -93.03176,
          -95.16328,
          -93.7133,
          -95.25748,
          -86.08414,
          -90.57059,
          -89.10978,
          -96.38183,
          -90.14606,
          -93.3636,
          -86.68317,
          -86.88364,
          -95.54393,
          -89.29692,
          -96.2774,
          -98.60091,
          -91.49522,
          -85.47282,
          -92.84968,
          -94.20897,
          -94.11592,
          -96.75751,
          -89.99407,
          -87.78949,
          -93.18783,
          -94.18997,
          -90.10708,
          -97.78894,
          -100.02632,
          -93.68605,
          -95.6377,
          -86.57316,
          -93.70836,
          -88.12485,
          -95.7132,
          -93.21541,
          -97.91666,
          -95.27355,
          -94.18056,
          -94.20172,
          -97.28798,
          -97.47909,
          -87.81626,
          -88.75665,
          -98.71259,
          -88.81959,
          -87.27802,
          -98.34205,
          -98.25042,
          -94.80692,
          -91.24853,
          -91.86169,
          -87.78077,
          -86.52231,
          -97.76717,
          -87.6118,
          -88.28746,
          -86.80871,
          -98.18011,
          -88.63449,
          -88.59046,
          -86.10908,
          -86.61339,
          -86.54293,
          -80.35738,
          -81.70946,
          -79.7542,
          -81.61641,
          -79.32638,
          -79.36512,
          -80.05911,
          -81.60496,
          -82.56459,
          -80.59142,
          -81.20259,
          -81.69232,
          -81.49832,
          -82.34099,
          -82.44234,
          -79.92315,
          -78.79097,
          -82.6455,
          -87.47617,
          -86.45974,
          -85.52054,
          -85.23825,
          -86.8559,
          -87.62705,
          -87.02767,
          -86.95732,
          -84.61975,
          -85.3549,
          -86.21484,
          -85.787,
          -84.93994,
          -86.82506,
          -86.29271,
          -83.97956,
          -86.4548,
          -89.0727,
          -84.70042,
          -89.38613,
          -83.20116,
          -82.81406,
          -86.30475,
          -86.42425,
          -87.37522,
          -88.40535,
          -83.27474,
          -85.05926,
          -86.72584,
          -84.588,
          -82.18843,
          -85.76744,
          -84.78862,
          -87.56055,
          -86.70566,
          -84.86489,
          -89.50735,
          -86.97783,
          -87.17419,
          -84.17023,
          -90.59442,
          -85.86403,
          -86.60111,
          -85.91232,
          -86.08387,
          -90.65869,
          -87.52303,
          -90.17663,
          -84.28433,
          -84.86935,
          -85.1062,
          -85.92314,
          -85.92669,
          -85.25762,
          -85.46164,
          -86.25105,
          -87.84521,
          -85.17623,
          -85.84117,
          -86.14045,
          -86.88171,
          -86.7792,
          -88.10137,
          -83.72186,
          -84.29301
         ],
         "marker": {
          "color": "rgb(0, 0, 255)",
          "opacity": 0.5
         },
         "name": "1981",
         "showlegend": false,
         "type": "scattergeo"
        },
        {
         "geo": "geo18",
         "lat": [
          40
         ],
         "lon": [
          -77
         ],
         "mode": "text",
         "showlegend": false,
         "text": [
          "1981"
         ],
         "type": "scattergeo"
        },
        {
         "geo": "geo19",
         "lat": [
          34.907335,
          33.428618,
          33.198442,
          29.150937,
          27.846568,
          28.426202,
          29.41148,
          28.716242,
          27.915764,
          25.928274,
          38.374627,
          36.569283,
          35.25543,
          26.26273,
          39.606349,
          34.638773,
          35.269694,
          30.129908,
          28.966755,
          38.926838,
          32.397255,
          32.42067,
          29.404267,
          37.479797,
          37.168435,
          29.379516,
          27.496472,
          28.047744,
          29.776375,
          38.623384,
          38.752017,
          33.082411,
          33.081421,
          32.915182,
          32.834501,
          39.004728,
          33.263039,
          33.996515,
          37.642738,
          40.151358,
          31.779481,
          30.655348,
          33.45139,
          32.526944,
          32.459435,
          30.148473,
          34.085289,
          32.590063,
          27.752356,
          26.080434,
          30.573563,
          33.904246,
          29.921564,
          31.138723,
          29.876944,
          32.557684,
          32.813518,
          34.195705,
          35.406185,
          35.702159,
          30.514401,
          33.400875,
          39.474889
         ],
         "lon": [
          -94.13624,
          -93.99236,
          -97.06078,
          -98.17929,
          -97.59435,
          -97.74806,
          -95.24475,
          -100.48058,
          -97.15436,
          -97.51618,
          -88.35735,
          -89.97423,
          -88.98751,
          -98.23082,
          -90.78642,
          -99.31787,
          -85.16227,
          -93.19632,
          -96.65939,
          -92.29003,
          -93.8043,
          -93.8877,
          -100.88116,
          -86.30731,
          -93.31297,
          -99.12665,
          -97.86808,
          -97.04818,
          -96.16474,
          -89.36368,
          -89.67478,
          -96.08977,
          -96.88957,
          -87.21488,
          -86.64355,
          -87.7495,
          -97.55657,
          -98.51781,
          -98.75394,
          -97.20374,
          -95.63325,
          -96.34056,
          -90.65824,
          -92.1599,
          -86.42746,
          -91.8003,
          -98.58881,
          -96.75892,
          -97.43465,
          -97.25024,
          -84.6147,
          -88.9671,
          -93.92694,
          -93.22745,
          -97.94668,
          -94.74353,
          -79.85899,
          -79.80977,
          -94.39103,
          -96.88961,
          -97.65549,
          -84.71206,
          -88.37421
         ],
         "marker": {
          "color": "rgb(0, 0, 255)",
          "opacity": 0.5
         },
         "name": "1982",
         "showlegend": false,
         "type": "scattergeo"
        },
        {
         "geo": "geo19",
         "lat": [
          40
         ],
         "lon": [
          -77
         ],
         "mode": "text",
         "showlegend": false,
         "text": [
          "1982"
         ],
         "type": "scattergeo"
        },
        {
         "geo": "geo20",
         "lat": [
          28.945857,
          35.481507,
          32.078228,
          36.148444,
          35.818653,
          29.811123,
          27.894991,
          42.042506,
          29.116361,
          31.249042,
          31.988676,
          32.022019,
          35.506259,
          38.502854,
          33.143752,
          38.932303,
          30.103905,
          39.065703,
          40.145501,
          30.517866,
          27.633433,
          37.066543,
          38.668827,
          38.212471,
          33.492107,
          38.211511,
          31.654792,
          36.402666,
          29.435146,
          29.712052,
          29.279937,
          30.835881,
          38.667752,
          38.012479,
          30.042529,
          34.274355,
          32.21649,
          35.091332,
          32.290819,
          35.388059,
          34.228478,
          37.773923,
          32.145212,
          28.779344,
          38.305636,
          29.16866,
          27.448369,
          29.366684,
          33.218456,
          30.229237,
          29.975453,
          30.2334,
          32.360362,
          32.500532,
          31.890374,
          29.713911,
          31.294532,
          29.694806,
          30.470793,
          29.593377,
          30.530965,
          35.459478,
          37.164346,
          29.584172,
          28.013755,
          33.949054,
          32.70778,
          30.266707,
          27.542244,
          32.526359,
          31.220059,
          38.410549,
          38.827875,
          41.413372,
          39.787394,
          32.398681,
          33.530698,
          30.242533,
          30.33146,
          32.184027,
          30.655578,
          29.921564,
          30.142953,
          33.581406,
          39.3928,
          30.182175,
          31.43211
         ],
         "lon": [
          -81.30512,
          -97.6423,
          -96.44612,
          -95.90841,
          -83.59197,
          -81.30987,
          -81.82638,
          -92.90646,
          -80.98175,
          -85.40605,
          -81.09116,
          -80.99193,
          -84.35738,
          -90.46088,
          -95.60102,
          -95.22513,
          -91.00104,
          -94.90453,
          -88.96776,
          -90.47254,
          -97.26792,
          -88.65687,
          -87.50791,
          -84.23646,
          -88.43746,
          -85.21658,
          -92.12872,
          -97.92836,
          -90.30479,
          -96.56134,
          -94.82683,
          -93.27071,
          -88.48855,
          -84.94075,
          -99.15152,
          -83.87003,
          -101.4532,
          -84.09018,
          -96.114108,
          -97.73626,
          -84.50402,
          -84.85812,
          -94.31256,
          -97.85626,
          -85.58424,
          -95.44541,
          -82.52324,
          -94.97392,
          -92.64911,
          -90.92251,
          -91.84073,
          -92.00959,
          -99.79886,
          -99.69803,
          -102.35398,
          -82.29591,
          -92.46015,
          -91.18252,
          -90.10491,
          -90.7475,
          -92.09521,
          -97.39721,
          -83.76674,
          -95.747,
          -82.11685,
          -83.98565,
          -103.16616,
          -89.73049,
          -99.49233,
          -82.93375,
          -82.35133,
          -96.19736,
          -97.61553,
          -91.00612,
          -94.80941,
          -98.7959,
          -86.55506,
          -92.66375,
          -95.50703,
          -95.84625,
          -91.14015,
          -93.92694,
          -94.00797,
          -83.851,
          -89.08194,
          -96.93171,
          -97.72602
         ],
         "marker": {
          "color": "rgb(0, 0, 255)",
          "opacity": 0.5
         },
         "name": "1983",
         "showlegend": false,
         "type": "scattergeo"
        },
        {
         "geo": "geo20",
         "lat": [
          40
         ],
         "lon": [
          -77
         ],
         "mode": "text",
         "showlegend": false,
         "text": [
          "1983"
         ],
         "type": "scattergeo"
        },
        {
         "geo": "geo21",
         "lat": [
          28.346914,
          30.073775,
          32.718232,
          28.786272,
          28.235313,
          31.086483,
          31.901737,
          34.200264,
          33.029838,
          29.284924,
          36.109404,
          39.496547,
          41.247536,
          30.001902,
          38.881082,
          42.527184,
          34.523657,
          29.650492,
          33.485178,
          33.547578,
          33.992538,
          27.483817,
          29.166186,
          35.395362,
          32.242816,
          39.695798,
          28.101527,
          42.470191,
          32.021056,
          28.068865,
          42.026209,
          35.018385,
          33.476908,
          31.352105,
          29.825908,
          40.865237,
          34.817537,
          35.173704,
          30.143485,
          31.344515,
          35.533093,
          36.522968,
          42.106972,
          40.709895,
          29.984672,
          37.804014,
          26.195591,
          29.152396,
          41.411394,
          38.72926,
          28.564077,
          36.851953,
          30.092679,
          37.976008,
          33.47875,
          31.522042,
          37.557434,
          32.761058,
          38.397678,
          32.670345,
          38.085601,
          31.568073,
          35.943026,
          30.956147,
          33.346817,
          34.914611,
          31.784541,
          38.691006,
          36.49787,
          38.860511,
          34.108027,
          33.627763,
          38.92811,
          28.888468,
          32.387151,
          36.547133,
          28.958803,
          38.221179,
          37.123196,
          36.264959,
          30.517099,
          38.05732,
          37.130559,
          29.666218,
          38.738226,
          34.558404,
          29.920121,
          30.226399,
          29.581304,
          32.071641,
          33.487767,
          32.423083,
          33.867574,
          35.495894,
          36.561341,
          33.568573,
          35.552755,
          26.698526,
          27.541676
         ],
         "lon": [
          -82.20293,
          -95.61882,
          -102.73458,
          -81.64475,
          -82.16868,
          -97.40076,
          -106.41827,
          -84.77533,
          -85.0745,
          -81.10296,
          -83.48325,
          -88.17348,
          -89.92848,
          -95.16962,
          -99.32559,
          -92.45609,
          -82.62509,
          -95.14632,
          -104.55089,
          -84.21809,
          -83.71061,
          -81.42131,
          -82.17027,
          -97.49701,
          -98.21058,
          -91.40084,
          -81.6235,
          -91.89268,
          -102.16008,
          -81.80267,
          -97.41741,
          -99.09374,
          -86.91684,
          -92.4006,
          -95.7301,
          -97.58884,
          -87.66253,
          -101.92914,
          -95.46821,
          -100.47217,
          -100.96041,
          -82.51162,
          -91.27531,
          -99.05499,
          -95.52887,
          -89.02702,
          -97.75321,
          -95.66319,
          -92.91126,
          -90.65332,
          -80.81695,
          -82.77056,
          -94.16377,
          -100.82503,
          -84.47668,
          -82.84153,
          -97.25167,
          -98.92225,
          -84.2939,
          -97.4143,
          -85.66979,
          -84.22644,
          -85.45113,
          -95.91606,
          -86.95252,
          -81.0125,
          -106.33705,
          -84.6418,
          -84.51808,
          -94.77581,
          -84.4843,
          -78.98126,
          -94.32392,
          -99.09005,
          -94.87439,
          -82.55408,
          -98.4639,
          -84.55465,
          -85.27561,
          -85.94893,
          -96.67247,
          -87.26579,
          -82.83185,
          -81.67401,
          -87.65984,
          -85.30301,
          -95.07327,
          -93.20496,
          -98.40889,
          -84.21942,
          -80.8564,
          -81.80677,
          -84.77103,
          -85.01032,
          -82.16869,
          -86.72163,
          -97.63571,
          -81.9178,
          -81.8127
         ],
         "marker": {
          "color": "rgb(0, 0, 255)",
          "opacity": 0.5
         },
         "name": "1984",
         "showlegend": false,
         "type": "scattergeo"
        },
        {
         "geo": "geo21",
         "lat": [
          40
         ],
         "lon": [
          -77
         ],
         "mode": "text",
         "showlegend": false,
         "text": [
          "1984"
         ],
         "type": "scattergeo"
        },
        {
         "geo": "geo22",
         "lat": [
          32.767329,
          28.366284,
          29.74877,
          31.701492,
          30.211901,
          40.567088,
          39.090479,
          41.372528,
          40.786048,
          41.736434,
          31.720029,
          37.533559,
          37.667872,
          32.292761,
          26.984486,
          32.226713,
          38.564451,
          41.702148,
          42.02933,
          37.777083,
          29.697038,
          30.216073,
          27.055013,
          38.363151,
          28.350373,
          29.722704,
          30.492895,
          41.437838,
          40.948073,
          41.434796,
          30.089757,
          26.914393,
          28.015032,
          33.786041,
          30.566681,
          29.252882,
          39.747736,
          40.974026,
          31.688901,
          41.924127,
          33.555145,
          35.586064,
          40.225039,
          27.737965,
          41.202461,
          34.971029,
          38.034292,
          33.226172,
          40.830534,
          39.396463,
          37.067979,
          28.797245,
          40.341716,
          42.603462,
          30.762908,
          32.810275,
          32.300193,
          32.855666,
          29.036879,
          33.591301,
          43.153969,
          27.201006,
          35.893121,
          31.73003,
          27.1944,
          38.130807,
          31.574319,
          28.287883,
          30.196771,
          26.63075,
          38.935305,
          34.432846,
          36.707393,
          35.135303,
          36.785816,
          32.532449,
          39.69775,
          35.616662,
          35.073343,
          38.087838,
          40.266201,
          35.067447,
          30.761081,
          36.543362,
          30.45514,
          41.750868,
          38.370203,
          31.209854,
          37.630577,
          29.909764,
          42.974296,
          34.96848,
          35.106396,
          41.35263,
          30.646415,
          33.723939,
          28.769173,
          27.918187,
          29.021782,
          33.496603,
          31.828575,
          33.159848,
          32.220155,
          38.408794,
          36.996408,
          31.535545,
          34.201503,
          36.537994,
          33.991362
         ],
         "lon": [
          -96.60759,
          -80.74196,
          -94.94389,
          -89.1393,
          -92.05912,
          -89.63382,
          -87.40667,
          -89.44315,
          -99.7424,
          -92.72123,
          -83.25093,
          -83.34547,
          -82.75876,
          -90.87184,
          -82.14859,
          -80.74325,
          -90.1628,
          -93.04467,
          -93.60966,
          -86.48345,
          -90.55223,
          -82.6396,
          -82.3973,
          -98.78495,
          -80.6691,
          -95.6314,
          -92.41578,
          -97.37192,
          -90.36871,
          -96.48869,
          -93.77408,
          -82.04106,
          -81.95206,
          -83.69901,
          -98.30756,
          -99.8165,
          -92.46878,
          -91.57195,
          -88.65623,
          -88.74617,
          -84.40108,
          -92.48355,
          -100.63052,
          -98.09302,
          -90.73137,
          -101.9212,
          -97.92382,
          -81.36031,
          -91.17849,
          -87.69589,
          -100.92813,
          -81.88466,
          -94.87498,
          -89.64037,
          -89.87774,
          -98.10707,
          -106.76078,
          -97.21818,
          -95.44103,
          -85.83571,
          -93.20037,
          -81.87196,
          -101.95908,
          -99.00605,
          -80.84644,
          -92.66935,
          -90.45029,
          -81.46862,
          -85.81279,
          -81.95251,
          -92.73932,
          -103.22589,
          -97.10167,
          -106.52223,
          -108.14505,
          -95.88,
          -86.39589,
          -105.97926,
          -106.58232,
          -88.15583,
          -94.0304,
          -106.50645,
          -81.56912,
          -91.52391,
          -91.06358,
          -91.13361,
          -104.61964,
          -84.23667,
          -93.10129,
          -96.8745,
          -90.14404,
          -89.99793,
          -106.57927,
          -88.84734,
          -88.23657,
          -85.14282,
          -81.27631,
          -81.493521,
          -81.33352,
          -101.86923,
          -81.61617,
          -85.36865,
          -82.41493,
          -86.93876,
          -91.71697,
          -91.35434,
          -84.09764,
          -86.01497,
          -81.25047
         ],
         "marker": {
          "color": "rgb(0, 0, 255)",
          "opacity": 0.5
         },
         "name": "1985",
         "showlegend": false,
         "type": "scattergeo"
        },
        {
         "geo": "geo22",
         "lat": [
          40
         ],
         "lon": [
          -77
         ],
         "mode": "text",
         "showlegend": false,
         "text": [
          "1985"
         ],
         "type": "scattergeo"
        },
        {
         "geo": "geo23",
         "lat": [
          32.826729,
          43.036566,
          26.500175,
          39.523797,
          40.909197,
          42.499242,
          31.950899,
          41.330789,
          38.259528,
          30.883208,
          34.937078,
          32.293147,
          28.591692,
          39.114762,
          39.053255,
          41.725288,
          34.839562,
          36.096296,
          38.092097,
          32.675604,
          30.877528,
          31.388404,
          30.807279,
          34.38587,
          29.56478,
          39.652374,
          32.284829,
          30.396876,
          40.171484,
          35.534253,
          33.0409,
          28.463509,
          29.946404,
          42.587613,
          29.869283,
          30.033475,
          43.345879,
          36.681589,
          29.626187,
          31.325437,
          31.121411,
          32.547424,
          30.447248,
          38.533464,
          38.208144,
          40.050109,
          40.633845,
          27.987925,
          27.217893,
          34.191002,
          27.291694,
          32.31324,
          27.645377,
          33.268185,
          41.935139,
          30.620594,
          30.468526,
          39.123807,
          34.027533,
          32.373714,
          31.535916,
          32.762563,
          27.911201,
          28.574628,
          28.665125,
          30.757479,
          33.591877,
          29.699844,
          33.632806,
          40.290615,
          32.666984,
          35.208709,
          30.096649,
          31.165358,
          40.383636,
          31.841281,
          28.658395,
          28.172041,
          41.464473,
          42.743948,
          28.663132,
          29.060092,
          33.580878,
          41.885553,
          37.191882,
          32.408311,
          37.471802,
          43.984412,
          37.344985,
          28.470236,
          27.997276,
          30.461786,
          33.342426,
          30.52798,
          43.543934,
          36.045907,
          41.370642,
          28.073891,
          34.009209,
          32.156791,
          30.641487,
          29.56218,
          43.96977,
          40.421845,
          32.339004,
          44.07393,
          36.414942,
          39.385141,
          41.017736,
          36.139385,
          32.420814,
          31.514631,
          29.997168,
          30.056394,
          30.627637,
          30.674057,
          35.031947,
          38.367298,
          41.759473,
          37.520836,
          35.184253
         ],
         "lon": [
          -96.9614,
          -91.11838,
          -97.81013,
          -85.77208,
          -97.11206,
          -94.18256,
          -83.77808,
          -89.1299,
          -94.32317,
          -83.91237,
          -79.7605,
          -81.23006,
          -81.24717,
          -90.32442,
          -94.4061,
          -93.60475,
          -97.60045,
          -95.8847,
          -91.4163,
          -97.02346,
          -102.852,
          -103.52515,
          -83.28661,
          -100.28401,
          -97.96283,
          -86.87361,
          -90.22778,
          -87.69616,
          -105.10033,
          -108.84857,
          -83.92941,
          -81.47514,
          -89.96118,
          -88.45828,
          -90.10933,
          -89.97736,
          -91.77187,
          -93.85105,
          -95.57145,
          -89.37926,
          -99.3407,
          -94.37958,
          -86.62113,
          -106.03468,
          -86.12978,
          -85.99815,
          -103.21574,
          -82.28819,
          -98.16479,
          -101.72506,
          -80.29691,
          -86.23672,
          -80.51468,
          -84.27306,
          -89.06891,
          -87.88312,
          -90.92827,
          -88.56,
          -84.51475,
          -86.16443,
          -97.18588,
          -97.48079,
          -82.2948,
          -81.52946,
          -81.31772,
          -86.51088,
          -101.94754,
          -98.10754,
          -96.59106,
          -86.5028,
          -96.87633,
          -89.80518,
          -96.06979,
          -83.77172,
          -105.10349,
          -90.42995,
          -81.50319,
          -80.59957,
          -90.15854,
          -90.48625,
          -82.14042,
          -82.35195,
          -84.54611,
          -103.65241,
          -104.47809,
          -104.29134,
          -105.83471,
          -90.48416,
          -108.60355,
          -82.59741,
          -81.74554,
          -89.10381,
          -105.56694,
          -89.66611,
          -90.89904,
          -95.80694,
          -88.40749,
          -80.67167,
          -96.38612,
          -91.72874,
          -81.46092,
          -95.26982,
          -90.80796,
          -104.69175,
          -88.6596,
          -93.22716,
          -105.5808,
          -104.85962,
          -91.95,
          -96.16523,
          -90.13134,
          -93.54869,
          -90.2138,
          -95.38961,
          -87.16724,
          -88.10249,
          -80.56002,
          -97.67719,
          -89.69452,
          -84.6735,
          -101.81073
         ],
         "marker": {
          "color": "rgb(0, 0, 255)",
          "opacity": 0.5
         },
         "name": "1986",
         "showlegend": false,
         "type": "scattergeo"
        },
        {
         "geo": "geo23",
         "lat": [
          40
         ],
         "lon": [
          -77
         ],
         "mode": "text",
         "showlegend": false,
         "text": [
          "1986"
         ],
         "type": "scattergeo"
        },
        {
         "geo": "geo24",
         "lat": [
          34.149717,
          32.592889,
          30.584787,
          30.007886,
          28.865761,
          34.777238,
          31.667978,
          30.806617,
          32.887552,
          32.457301,
          32.764289,
          34.366948,
          32.895794,
          37.143828,
          35.535397,
          34.502833,
          33.054671,
          32.72203,
          26.121546,
          39.202654,
          34.561584,
          33.083579,
          34.660345,
          34.442184,
          40.515485,
          29.851666,
          37.330791,
          36.528448,
          32.881525,
          32.730641,
          39.112204,
          31.358823,
          41.813776,
          37.151397,
          35.70701,
          30.073941,
          32.77516,
          31.70831,
          32.823629,
          27.448688,
          37.067387,
          43.630763,
          39.532506,
          26.501582,
          28.233671,
          36.025405,
          28.209833,
          39.482105,
          39.290029,
          25.918758,
          38.235865,
          39.039636,
          41.665654,
          27.455543,
          42.741016,
          43.361048,
          40.532354,
          37.124302,
          43.456814,
          39.66851,
          31.848055,
          29.797776,
          33.647611,
          32.193953,
          38.464212,
          43.652042,
          38.818852,
          32.388631,
          36.649548,
          32.605196,
          31.225598,
          38.865549,
          35.405636,
          40.683387,
          28.746912,
          34.729073,
          35.057311,
          30.195424,
          38.958688,
          35.315118,
          34.940921,
          35.317602,
          33.034586,
          44.067673,
          36.49376,
          29.896656,
          26.162609,
          30.120443,
          34.741677,
          32.264365,
          40.002156,
          28.524292,
          33.58776,
          36.709853,
          32.714521,
          33.609208,
          33.681768,
          38.407833,
          39.553786,
          32.960375,
          35.240232,
          32.553036,
          38.436409,
          32.379693,
          35.742752,
          31.844772,
          29.516873,
          31.043454,
          35.934783,
          33.657969,
          30.36298,
          29.369619,
          27.78783,
          32.317298,
          34.680011,
          38.860447,
          31.459666,
          31.06639,
          33.77132,
          36.58068,
          32.878304,
          30.403146,
          31.754011,
          29.016897,
          36.312633,
          29.611545,
          30.159091,
          28.494931,
          28.30073,
          28.24934,
          27.136003,
          30.405831,
          35.065007,
          30.268572,
          31.279043,
          33.153528,
          39.013905,
          39.533318,
          35.920477,
          35.12416,
          28.604717,
          37.667175
         ],
         "lon": [
          -88.00384,
          -86.21902,
          -91.14763,
          -95.48532,
          -82.35982,
          -92.17913,
          -91.51382,
          -92.65224,
          -91.4107,
          -91.78754,
          -92.37657,
          -82.9201,
          -84.33084,
          -84.07839,
          -87.54905,
          -97.95185,
          -96.73506,
          -96.61634,
          -81.75251,
          -94.51816,
          -83.31718,
          -83.23397,
          -82.94557,
          -86.94027,
          -88.98629,
          -98.72932,
          -87.50378,
          -87.34142,
          -96.64601,
          -83.6793,
          -94.66643,
          -89.2279,
          -89.70537,
          -90.69685,
          -81.3534,
          -90.48516,
          -97.77987,
          -106.32749,
          -97.45167,
          -80.36247,
          -97.02831,
          -94.10129,
          -106.14029,
          -81.82841,
          -82.45463,
          -95.92953,
          -82.66973,
          -86.05043,
          -86.77844,
          -97.42739,
          -104.66972,
          -87.16987,
          -88.53697,
          -82.63372,
          -92.45984,
          -90.40776,
          -105.0535,
          -93.47407,
          -88.84058,
          -87.43577,
          -106.54487,
          -90.81809,
          -80.21281,
          -83.1848,
          -105.27973,
          -93.36916,
          -91.17,
          -95.41373,
          -80.92683,
          -82.3391,
          -90.43327,
          -86.46897,
          -80.63823,
          -89.54493,
          -82.53331,
          -80.76005,
          -89.86291,
          -85.66458,
          -85.89917,
          -81.55584,
          -81.98682,
          -81.86722,
          -80.18599,
          -93.5103,
          -80.62336,
          -95.64842,
          -97.98512,
          -97.30991,
          -97.22846,
          -95.31347,
          -105.10036,
          -99.83827,
          -84.33011,
          -84.1508,
          -101.94086,
          -102.41478,
          -87.83026,
          -85.38475,
          -95.13472,
          -96.66188,
          -97.60908,
          -85.9136,
          -107.8625,
          -89.46552,
          -81.71625,
          -82.59809,
          -95.19472,
          -85.87941,
          -81.54476,
          -93.59486,
          -88.52901,
          -96.86644,
          -80.48266,
          -89.14483,
          -84.47154,
          -90.09418,
          -83.51083,
          -98.19192,
          -89.80301,
          -87.4056,
          -83.59963,
          -84.18841,
          -99.93695,
          -80.95736,
          -82.3802,
          -82.3941,
          -81.63073,
          -81.28949,
          -82.69698,
          -81.28749,
          -80.21686,
          -88.96219,
          -85.61818,
          -81.73987,
          -86.48699,
          -102.29568,
          -94.4591,
          -107.32107,
          -80.57143,
          -79.4415,
          -96.63023,
          -97.31917
         ],
         "marker": {
          "color": "rgb(0, 0, 255)",
          "opacity": 0.5
         },
         "name": "1987",
         "showlegend": false,
         "type": "scattergeo"
        },
        {
         "geo": "geo24",
         "lat": [
          40
         ],
         "lon": [
          -77
         ],
         "mode": "text",
         "showlegend": false,
         "text": [
          "1987"
         ],
         "type": "scattergeo"
        },
        {
         "geo": "geo25",
         "lat": [
          39.774341,
          30.586808,
          30.307439,
          40.307065,
          35.863114,
          34.985423,
          31.067379,
          30.451348,
          34.503167,
          35.914275,
          35.686122,
          35.351477,
          30.747244,
          34.386728,
          30.473536,
          29.778526,
          43.029497,
          38.19056,
          38.061248,
          39.799143,
          38.684426,
          32.984529,
          35.005981,
          33.164225,
          36.263145,
          33.859798,
          32.816055,
          30.571905,
          43.075142,
          30.279267,
          34.620874,
          35.571827,
          39.011225,
          33.558772,
          36.417235,
          39.060204,
          38.762715,
          38.658196,
          29.938155,
          34.075611,
          37.828459,
          34.647611,
          42.601842,
          31.255242,
          32.994597,
          38.096056,
          27.407657,
          30.284641,
          30.28374,
          31.936003,
          35.279872,
          42.926473,
          38.601403,
          32.851678,
          35.54179,
          39.333248,
          33.932052,
          29.499591,
          33.990952,
          33.817438,
          30.374654,
          30.066734,
          38.727184,
          36.853913,
          37.575568,
          31.880229,
          32.519393,
          35.992691,
          30.289646,
          35.973773,
          29.649797,
          39.63298,
          38.851493,
          33.67933,
          44.373468,
          27.713353,
          30.165907,
          30.267664,
          30.411391,
          30.188585,
          37.883886,
          42.424338,
          30.831636,
          28.555346,
          34.4966,
          32.960374,
          35.185018,
          32.878138,
          30.449096,
          37.67129,
          30.526345,
          30.554434,
          30.48787,
          30.160965,
          36.299293,
          33.512541,
          42.366253,
          34.271427,
          39.859585,
          31.073329,
          37.823275,
          36.801922,
          29.499454,
          35.377069,
          35.322849,
          35.084163,
          31.562546,
          35.353837,
          34.935636,
          38.141638,
          30.246309,
          31.609834,
          35.134301,
          39.614803,
          37.975476,
          40.365923,
          30.425791,
          38.214982,
          33.517435,
          36.308588,
          39.568803,
          32.659277,
          34.210423,
          33.850218,
          39.04045
         ],
         "lon": [
          -105.10036,
          -88.18552,
          -81.72044,
          -88.15575,
          -92.11108,
          -80.08543,
          -92.05447,
          -97.76588,
          -82.02271,
          -81.2083,
          -79.82919,
          -80.19879,
          -86.14665,
          -80.08256,
          -91.26324,
          -95.18118,
          -89.50531,
          -83.4321,
          -83.92964,
          -85.78446,
          -85.80304,
          -82.8375,
          -81.21176,
          -80.01039,
          -92.57635,
          -98.54064,
          -109.76487,
          -96.29882,
          -96.19039,
          -98.88389,
          -78.98986,
          -80.89228,
          -85.63325,
          -86.89199,
          -83.65241,
          -84.93094,
          -90.53903,
          -87.17619,
          -90.03667,
          -81.17611,
          -85.93888,
          -78.58643,
          -87.87617,
          -89.79264,
          -93.45992,
          -85.85994,
          -82.52923,
          -81.39844,
          -81.58359,
          -87.77013,
          -111.72256,
          -89.22432,
          -90.55209,
          -97.13849,
          -82.52307,
          -85.47579,
          -84.54746,
          -81.22328,
          -81.08956,
          -84.13167,
          -97.67621,
          -94.76595,
          -90.38551,
          -83.88501,
          -84.27767,
          -89.72086,
          -92.10755,
          -84.27044,
          -89.38349,
          -77.82694,
          -98.50406,
          -106.51534,
          -104.77856,
          -86.8206,
          -89.78761,
          -82.35965,
          -93.24905,
          -82.12457,
          -91.1497,
          -85.56392,
          -84.571,
          -88.61431,
          -88.09386,
          -82.53601,
          -84.93798,
          -96.89163,
          -83.39032,
          -111.73499,
          -81.65651,
          -97.4372,
          -87.27734,
          -84.25979,
          -87.18937,
          -81.72916,
          -87.06949,
          -82.09491,
          -88.09647,
          -110.03676,
          -104.95943,
          -97.48642,
          -82.78167,
          -84.82841,
          -98.57166,
          -77.92463,
          -78.68964,
          -78.953,
          -110.24288,
          -82.41625,
          -82.32238,
          -85.68218,
          -97.76087,
          -97.08821,
          -78.89411,
          -85.43834,
          -87.47506,
          -83.75816,
          -91.03815,
          -85.62207,
          -81.94945,
          -97.28809,
          -97.64627,
          -97.16435,
          -83.46842,
          -79.01692,
          -95.71698
         ],
         "marker": {
          "color": "rgb(0, 0, 255)",
          "opacity": 0.5
         },
         "name": "1988",
         "showlegend": false,
         "type": "scattergeo"
        },
        {
         "geo": "geo25",
         "lat": [
          40
         ],
         "lon": [
          -77
         ],
         "mode": "text",
         "showlegend": false,
         "text": [
          "1988"
         ],
         "type": "scattergeo"
        },
        {
         "geo": "geo26",
         "lat": [
          37.274854,
          31.468911,
          39.541571,
          34.779227,
          41.50798,
          32.943145,
          36.942035,
          30.873353,
          38.74785,
          43.189953,
          34.312063,
          32.358891,
          32.760229,
          38.674013,
          42.818747,
          40.047966,
          43.736145,
          44.277231,
          29.885451,
          39.072831,
          34.982424,
          29.937512,
          32.492304,
          41.023872,
          33.968011,
          36.072336,
          36.414739,
          39.463476,
          36.136991,
          32.213291,
          37.136013,
          33.387089,
          40.58119,
          34.092658,
          26.111261,
          29.453178,
          34.781212,
          34.723788,
          35.091472,
          37.236753,
          36.942047,
          30.643058,
          42.69146,
          32.839921,
          41.144256,
          39.616114,
          37.288807,
          39.393237,
          32.53554,
          35.211913,
          29.363335,
          34.089419,
          41.275932,
          44.844133,
          36.008048,
          36.046598,
          35.506459,
          35.775789,
          31.37737,
          32.260316,
          40.916866,
          38.787175,
          35.258309,
          40.754787,
          40.739517,
          40.284855,
          42.467095,
          40.874092,
          33.415409,
          37.794344,
          36.828526,
          36.283497,
          32.479492,
          34.084069,
          33.676358,
          37.966292,
          30.022853,
          38.146216,
          36.701855,
          30.403286,
          29.48618,
          26.179495,
          37.79064,
          34.738793,
          29.952605,
          35.560439,
          34.729839,
          39.442774,
          32.729758,
          32.89989,
          32.918757,
          42.466292,
          30.391795,
          33.588436,
          44.978518,
          45.181311,
          32.638316,
          38.795145,
          34.243578,
          39.185341,
          28.663913,
          30.675635,
          42.348406,
          41.567559,
          35.594103,
          34.225872,
          32.445712,
          41.449897,
          42.074515,
          34.221512,
          41.281669,
          42.966681,
          43.483503,
          37.339184,
          39.440152,
          38.473961,
          39.598236,
          43.60616,
          44.018871,
          37.926666,
          36.079726,
          30.700337,
          35.473447,
          39.394701,
          28.52493,
          33.356981,
          40.112531,
          41.565433,
          36.696264,
          28.128494,
          35.035466
         ],
         "lon": [
          -83.19061,
          -100.4387,
          -104.92152,
          -79.45745,
          -88.10553,
          -99.81595,
          -84.10685,
          -88.58869,
          -90.30258,
          -89.2253,
          -78.70773,
          -88.7494,
          -100.95344,
          -104.69627,
          -88.73279,
          -86.46592,
          -87.72893,
          -90.80066,
          -95.39552,
          -108.55,
          -81.85729,
          -82.11706,
          -85.01943,
          -92.41741,
          -80.93844,
          -79.4698,
          -78.97375,
          -83.84446,
          -81.17462,
          -110.82559,
          -80.41222,
          -82.01237,
          -85.66324,
          -96.74851,
          -97.63519,
          -82.86837,
          -77.3756,
          -112.01002,
          -77.09936,
          -79.93549,
          -82.63138,
          -97.64713,
          -89.04277,
          -105.97561,
          -87.86239,
          -105.07393,
          -80.07821,
          -87.3977,
          -84.92583,
          -78.97499,
          -98.49049,
          -83.94701,
          -104.88279,
          -87.38044,
          -83.97962,
          -83.92511,
          -78.34446,
          -80.23174,
          -110.9264,
          -110.98534,
          -98.38749,
          -85.38031,
          -110.53128,
          -86.36684,
          -84.14468,
          -84.15974,
          -96.4187,
          -84.57871,
          -110.814893,
          -79.47658,
          -81.53045,
          -80.84586,
          -84.90942,
          -80.93286,
          -84.15381,
          -87.63664,
          -90.25133,
          -79.07625,
          -78.92008,
          -88.77565,
          -98.4568,
          -80.27183,
          -81.19958,
          -77.97788,
          -90.20536,
          -77.03459,
          -76.75219,
          -86.41337,
          -108.30206,
          -80.67195,
          -80.0228,
          -96.35291,
          -86.4338,
          -83.47936,
          -92.71996,
          -89.70469,
          -83.64332,
          -83.54335,
          -111.28137,
          -85.9456,
          -81.41112,
          -85.23283,
          -88.24769,
          -85.84885,
          -105.08142,
          -82.15614,
          -80.74845,
          -85.26765,
          -93.87437,
          -77.88452,
          -92.65534,
          -88.03798,
          -89.74753,
          -79.52839,
          -84.22175,
          -82.64532,
          -82.94285,
          -84.78306,
          -88.61324,
          -95.39695,
          -79.09459,
          -91.44032,
          -81.24094,
          -101.04485,
          -81.43994,
          -86.81577,
          -83.76633,
          -90.53924,
          -79.86879,
          -81.95625,
          -89.80329
         ],
         "marker": {
          "color": "rgb(0, 0, 255)",
          "opacity": 0.5
         },
         "name": "1989",
         "showlegend": false,
         "type": "scattergeo"
        },
        {
         "geo": "geo26",
         "lat": [
          40
         ],
         "lon": [
          -77
         ],
         "mode": "text",
         "showlegend": false,
         "text": [
          "1989"
         ],
         "type": "scattergeo"
        },
        {
         "geo": "geo27",
         "lat": [
          39.897548,
          37.995879,
          35.263287,
          40.884053,
          26.3007,
          45.46932,
          39.258124,
          27.839802,
          29.153239,
          38.920042,
          37.661647,
          46.878057,
          38.523736,
          33.624546,
          35.196446,
          26.609226,
          46.860864,
          33.945619,
          41.764779,
          34.514215,
          42.199957,
          28.945269,
          39.179076,
          37.605641,
          30.446766,
          29.802473,
          40.036525,
          31.857504,
          41.232815,
          42.226623,
          34.646779,
          43.428983,
          41.388278,
          30.408807,
          38.589849,
          41.150677,
          42.023977,
          40.701037,
          43.377113,
          42.998998,
          36.172744,
          41.166034,
          35.679639,
          42.646924,
          36.293192,
          41.35307,
          42.021016,
          40.409641,
          44.243788,
          40.542778,
          43.514392,
          38.464132,
          38.837542,
          41.070905,
          26.659344,
          36.739447,
          37.75164,
          27.815953,
          45.175558,
          44.305418,
          40.766056,
          37.144146,
          36.759357,
          40.560528,
          39.278295,
          42.403593,
          39.578473,
          34.720597,
          39.075329,
          30.333022,
          41.512855,
          45.517226,
          36.04309,
          40.867016,
          44.989608,
          44.096194,
          38.803814,
          40.005505,
          44.48837,
          35.107804,
          44.530892,
          39.929597,
          32.762631,
          41.267546,
          43.013826,
          34.948979,
          39.678495,
          40.589299,
          41.594542,
          31.8007,
          39.682836,
          35.124032,
          34.728857,
          36.622638,
          38.762824,
          36.326509,
          36.409385,
          34.309659,
          35.028574,
          45.118846,
          41.281518,
          44.394143,
          44.726517,
          36.505996,
          39.95645,
          40.514262,
          48.20496,
          32.783359,
          41.703097,
          47.899217,
          32.704499,
          41.300042,
          38.303945,
          35.599363,
          38.30696,
          40.255973,
          35.923517,
          41.47339,
          41.912776,
          40.784447,
          33.468306,
          28.005497,
          42.888538,
          38.969806,
          31.129008,
          37.307946,
          41.707539,
          33.769636,
          42.229856,
          42.254087,
          41.354068,
          39.698387,
          39.976898,
          31.509039,
          45.186232,
          27.733058,
          42.872477,
          39.840308,
          42.475886,
          41.503468,
          37.671778,
          33.749149,
          31.876168,
          34.152021,
          41.567559,
          35.167987,
          44.916657,
          28.071502,
          36.448592,
          39.644609,
          39.631525,
          37.478169,
          42.484297,
          37.750904,
          36.034561,
          37.982775,
          42.515426,
          46.768617,
          44.801249,
          34.483582,
          42.087769,
          38.983853,
          25.990494,
          34.032532,
          33.328951,
          35.097719,
          33.828061,
          35.716105,
          33.872371,
          38.42727,
          43.151183,
          36.311047,
          35.665899,
          33.573602,
          35.626653,
          41.129363,
          39.281289,
          39.034226
         ],
         "lon": [
          -86.22546,
          -103.54001,
          -81.15312,
          -88.63376,
          -80.22727,
          -98.49646,
          -84.58733,
          -82.71094,
          -81.02229,
          -79.8446,
          -77.52632,
          -102.8041,
          -89.1257,
          -112.1767,
          -106.67336,
          -80.12874,
          -96.81602,
          -83.41732,
          -88.14579,
          -83.54118,
          -88.05859,
          -95.9357,
          -78.16653,
          -77.31536,
          -84.32394,
          -95.5618,
          -84.20629,
          -111.00904,
          -105.75364,
          -88.33066,
          -106.7648,
          -95.10892,
          -84.12511,
          -87.31919,
          -89.91207,
          -85.12181,
          -88.17657,
          -89.44294,
          -84.66256,
          -84.57704,
          -115.05795,
          -85.48313,
          -80.46645,
          -95.1807,
          -76.23692,
          -83.11217,
          -91.65231,
          -91.40001,
          -85.46006,
          -84.58232,
          -96.80375,
          -106.95776,
          -104.83632,
          -94.38448,
          -80.12704,
          -101.48851,
          -113.16557,
          -82.72865,
          -93.85441,
          -96.7906,
          -82.56749,
          -113.49671,
          -90.41689,
          -112.29455,
          -84.33049,
          -86.24912,
          -110.78678,
          -81.21429,
          -84.27311,
          -81.586,
          -82.92948,
          -91.72638,
          -95.88417,
          -82.31514,
          -84.67492,
          -87.68919,
          -81.70763,
          -90.42314,
          -103.87853,
          -80.82139,
          -88.04482,
          -91.37415,
          -97.17527,
          -110.90607,
          -108.34879,
          -85.25212,
          -86.12973,
          -98.38131,
          -109.16304,
          -86.60591,
          -83.92144,
          -80.93954,
          -118.32683,
          -79.39998,
          -82.94294,
          -84.17277,
          -84.93393,
          -89.963,
          -85.15939,
          -95.04504,
          -85.81927,
          -88.75521,
          -92.86147,
          -79.74935,
          -86.00872,
          -109.54223,
          -103.71908,
          -115.57746,
          -88.07462,
          -97.05896,
          -114.64644,
          -91.69743,
          -85.76787,
          -82.50007,
          -80.87329,
          -83.36391,
          -83.89042,
          -87.03165,
          -85.0142,
          -87.74051,
          -86.80814,
          -82.54936,
          -97.40958,
          -94.47256,
          -87.10173,
          -78.40144,
          -86.87902,
          -84.74967,
          -87.96779,
          -89.01776,
          -93.57506,
          -104.83956,
          -76.67785,
          -87.32416,
          -93.29635,
          -97.38542,
          -88.34409,
          -84.12227,
          -92.33578,
          -87.73695,
          -121.01249,
          -90.71329,
          -85.17362,
          -77.91346,
          -85.84885,
          -85.21158,
          -97.11346,
          -82.49392,
          -77.67144,
          -84.16931,
          -84.27074,
          -82.5189,
          -91.45231,
          -97.23115,
          -78.86892,
          -81.14533,
          -93.26217,
          -100.75381,
          -106.96782,
          -114.33694,
          -90.67352,
          -84.64401,
          -80.27326,
          -84.31774,
          -111.8735,
          -114.59734,
          -84.62593,
          -78.65734,
          -84.11655,
          -90.38515,
          -88.11034,
          -86.61173,
          -101.40666,
          -112.23984,
          -77.37896,
          -100.77502,
          -80.34348,
          -82.63678
         ],
         "marker": {
          "color": "rgb(0, 0, 255)",
          "opacity": 0.5
         },
         "name": "1990",
         "showlegend": false,
         "type": "scattergeo"
        },
        {
         "geo": "geo27",
         "lat": [
          40
         ],
         "lon": [
          -77
         ],
         "mode": "text",
         "showlegend": false,
         "text": [
          "1990"
         ],
         "type": "scattergeo"
        },
        {
         "geo": "geo28",
         "lat": [
          45.526066,
          37.362109,
          33.416083,
          34.589477,
          36.726377,
          46.684273,
          44.15644,
          38.438617,
          40.173141,
          43.939968,
          36.116854,
          28.081325,
          26.279108,
          42.101502,
          39.827337,
          26.719596,
          40.41836,
          33.472492,
          42.896145,
          41.94954,
          38.038906,
          41.5738,
          36.121972,
          35.219882,
          41.232543,
          38.624534,
          41.352638,
          35.344209,
          39.558586,
          41.492085,
          36.340501,
          39.795025,
          36.914819,
          36.113211,
          34.489466,
          26.458152,
          40.264389,
          43.803691,
          40.017096,
          33.62414,
          38.924739,
          35.599177,
          39.970241,
          39.7778,
          44.085288,
          40.595359,
          40.183837,
          47.243062,
          43.214613,
          43.088742,
          32.126223,
          36.017647,
          38.017917,
          40.474951,
          42.844915,
          41.487369,
          43.087613,
          40.730159,
          41.12071,
          35.396411,
          42.79728,
          35.612359,
          46.878062,
          41.42646,
          39.52503,
          37.050946,
          45.88645,
          45.994029,
          43.015289,
          48.19983,
          41.348081,
          41.073678,
          40.802661,
          35.824061,
          42.580076,
          43.769889,
          40.965348,
          36.327063,
          33.400306,
          40.831351,
          39.091507,
          46.906983,
          43.394676,
          38.152068,
          37.053297,
          39.04101,
          46.347175,
          40.034554,
          41.637502,
          44.29478,
          33.490536,
          39.973251,
          34.606146,
          35.264739,
          35.840579,
          35.60089,
          40.215398,
          35.222406,
          40.795068,
          42.375821,
          44.780427,
          40.335023,
          41.183458,
          46.577191,
          39.633946,
          37.565894,
          37.971622,
          43.05348,
          43.899664,
          42.065427,
          36.826239,
          40.750107,
          40.003997,
          44.425356,
          40.659514,
          36.735893,
          36.839209,
          39.623896,
          39.878041,
          34.063264,
          35.709124,
          46.282084,
          38.406432,
          41.07221,
          34.119972,
          39.463781,
          42.911377,
          40.641545,
          41.165551,
          41.656798,
          32.347295,
          33.546051,
          40.552853,
          39.470949,
          38.777863,
          38.535116,
          41.037325,
          43.697651,
          33.860955,
          41.650916,
          44.446885,
          41.537059,
          40.542339,
          39.802606,
          38.426786,
          43.978561,
          40.061092,
          39.644794,
          37.916172,
          42.853039,
          42.019336,
          40.108631,
          39.16426,
          38.922806,
          36.828285,
          43.220991,
          32.821238,
          40.589747,
          35.847788,
          42.612243,
          35.458804
         ],
         "lon": [
          -94.20649,
          -79.21525,
          -111.5762,
          -112.44726,
          -111.4284,
          -92.09474,
          -93.99388,
          -82.55774,
          -84.97922,
          -105.52445,
          -79.88291,
          -82.72751,
          -80.11319,
          -88.28891,
          -77.22904,
          -80.22077,
          -86.81847,
          -112.1875,
          -88.00891,
          -88.08256,
          -121.24213,
          -87.80389,
          -115.0903,
          -89.92588,
          -80.45797,
          -83.76561,
          -85.04792,
          -119.02225,
          -121.58923,
          -87.4519,
          -78.61595,
          -85.97356,
          -120.15817,
          -115.21849,
          -117.35321,
          -80.1356,
          -76.80298,
          -83.00181,
          -82.34322,
          -112.00416,
          -94.70473,
          -117.68065,
          -86.15416,
          -89.67982,
          -103.21335,
          -77.5774,
          -122.24074,
          -93.52599,
          -77.70626,
          -82.48614,
          -111.04599,
          -80.00628,
          -121.90502,
          -120.67685,
          -106.27255,
          -87.34024,
          -77.6352,
          -92.88994,
          -83.17658,
          -118.92268,
          -96.17167,
          -97.57152,
          -96.70242,
          -82.71083,
          -87.12738,
          -76.40711,
          -95.38287,
          -94.37183,
          -88.20924,
          -101.28579,
          -96.04609,
          -86.23521,
          -77.89936,
          -77.08093,
          -84.8228,
          -88.4281,
          -76.9139,
          -119.6451,
          -111.72452,
          -84.93704,
          -119.79896,
          -98.72826,
          -87.95887,
          -122.25074,
          -80.7728,
          -80.47731,
          -94.27017,
          -86.89143,
          -80.15214,
          -93.28732,
          -82.5028,
          -104.82407,
          -118.18495,
          -77.62481,
          -80.87988,
          -82.93536,
          -85.43636,
          -80.79221,
          -85.82953,
          -87.93517,
          -91.48065,
          -75.97099,
          -96.05318,
          -90.89707,
          -77.73025,
          -85.25148,
          -86.73903,
          -88.39844,
          -91.22963,
          -87.93621,
          -76.41524,
          -95.36514,
          -78.36456,
          -100.29145,
          -111.92226,
          -76.59656,
          -76.09333,
          -104.77723,
          -88.95637,
          -117.16888,
          -82.01719,
          -96.06798,
          -121.43673,
          -111.97625,
          -82.825,
          -77.95767,
          -76.87027,
          -80.57469,
          -111.9675,
          -85.0223,
          -90.33224,
          -86.66963,
          -90.02794,
          -80.13936,
          -76.0782,
          -76.58432,
          -83.64576,
          -85.47815,
          -84.01807,
          -91.56058,
          -95.77281,
          -93.58072,
          -81.87856,
          -84.30196,
          -78.88153,
          -88.95413,
          -85.67672,
          -85.14929,
          -76.90656,
          -76.99394,
          -95.35379,
          -88.2733,
          -75.51163,
          -75.41449,
          -83.31856,
          -77.45364,
          -80.05353,
          -83.12173,
          -78.70161,
          -83.91835,
          -79.16415
         ],
         "marker": {
          "color": "rgb(0, 0, 255)",
          "opacity": 0.5
         },
         "name": "1991",
         "showlegend": false,
         "type": "scattergeo"
        },
        {
         "geo": "geo28",
         "lat": [
          40
         ],
         "lon": [
          -77
         ],
         "mode": "text",
         "showlegend": false,
         "text": [
          "1991"
         ],
         "type": "scattergeo"
        },
        {
         "geo": "geo29",
         "lat": [
          39.563901,
          40.270198,
          43.976735,
          48.122688,
          41.749249,
          43.607523,
          39.164158,
          45.673147,
          36.055121,
          43.80991,
          34.894181,
          41.236331,
          36.566779,
          40.677132,
          45.64672,
          40.877664,
          40.249543,
          38.347174,
          41.780998,
          45.32627,
          44.485243,
          34.088911,
          41.788536,
          46.821489,
          41.139849,
          39.92698,
          37.414991,
          38.672127,
          38.720938,
          42.496588,
          45.996957,
          37.222548,
          41.601189,
          40.02847,
          43.211238,
          33.99605,
          33.933388,
          40.278086,
          42.99605,
          40.700423,
          41.822244,
          42.169323,
          37.115698,
          25.938687,
          44.527304,
          43.170606,
          40.327741,
          44.566114,
          41.742432,
          38.072402,
          42.591109,
          39.323907,
          38.34841,
          44.995029,
          32.973645,
          44.804048,
          42.066399,
          38.132618,
          41.940898,
          43.464943,
          41.4376,
          45.144415,
          41.013364,
          35.272331,
          43.490117,
          43.549851,
          46.460895,
          40.709237,
          28.13926,
          41.054247,
          33.675373,
          43.014523,
          40.348242,
          42.018585,
          38.34401,
          36.855247,
          40.800086,
          43.052126,
          42.034776,
          36.831723,
          35.790516,
          45.846442,
          41.766029,
          44.86877,
          40.809467,
          35.192919,
          39.795301,
          42.223482,
          38.790202,
          36.358928,
          40.726899,
          44.452277,
          34.164094,
          27.916149,
          43.1835,
          33.842984,
          38.301829,
          42.4631,
          42.075874,
          38.634306,
          30.005691,
          36.205718,
          41.369846,
          37.782332,
          36.761698,
          36.025379,
          45.210104,
          34.061931,
          26.05479,
          31.382775,
          29.198704,
          41.880429,
          36.147887,
          39.931123,
          44.896255,
          40.170663,
          33.736743,
          42.300918,
          38.992255,
          41.688162,
          44.985313,
          25.662292,
          42.85297,
          45.054551,
          42.131526,
          39.831061,
          45.112742,
          44.540923,
          33.365951,
          33.822068
         ],
         "lon": [
          -76.98926,
          -81.86761,
          -75.91199,
          -98.87752,
          -122.64479,
          -83.9162,
          -76.6306,
          -121.5368,
          -119.01595,
          -111.80942,
          -117.03636,
          -75.87254,
          -119.62201,
          -80.28881,
          -89.39408,
          -79.9113,
          -77.002296,
          -122.69537,
          -111.80904,
          -118.08197,
          -87.92232,
          -117.45213,
          -87.87605,
          -92.18242,
          -81.85646,
          -85.3697,
          -76.52959,
          -121.15783,
          -90.11431,
          -113.79857,
          -112.51279,
          -81.3367,
          -93.68076,
          -79.1105,
          -112.39454,
          -84.47464,
          -78.412864,
          -111.71067,
          -84.17896,
          -80.11374,
          -85.43234,
          -121.70298,
          -76.5183,
          -80.3182,
          -122.85512,
          -88.73058,
          -75.87002,
          -109.20826,
          -87.80678,
          -78.50149,
          -76.19217,
          -81.54206,
          -87.57478,
          -122.95801,
          -117.03701,
          -93.13378,
          -94.86786,
          -121.32282,
          -83.38515,
          -85.95005,
          -78.54272,
          -122.84521,
          -76.43982,
          -82.67373,
          -83.3881,
          -89.47101,
          -84.32485,
          -89.63633,
          -80.65077,
          -85.23878,
          -116.29649,
          -74.38473,
          -106.92691,
          -84.64548,
          -121.95333,
          -76.21233,
          -81.95726,
          -77.09424,
          -88.32393,
          -119.83198,
          -78.48345,
          -119.28423,
          -88.35254,
          -91.92915,
          -79.49922,
          -80.66822,
          -76.97727,
          -83.63316,
          -77.51294,
          -119.24027,
          -111.53674,
          -89.54399,
          -79.396,
          -82.80122,
          -76.18002,
          -116.54344,
          -77.47077,
          -123.33162,
          -76.02837,
          -76.86008,
          -95.28488,
          -115.22363,
          -82.10874,
          -121.23578,
          -76.24511,
          -79.87112,
          -123.20747,
          -117.31995,
          -80.31581,
          -109.55035,
          -82.10556,
          -87.97813,
          -80.23423,
          -77.66139,
          -94.38604,
          -80.25185,
          -117.0217,
          -89.63208,
          -94.67528,
          -81.33378,
          -95.7066,
          -80.40947,
          -77.29466,
          -92.82581,
          -87.92958,
          -84.89067,
          -93.3789,
          -95.12732,
          -111.93155,
          -117.21514
         ],
         "marker": {
          "color": "rgb(0, 0, 255)",
          "opacity": 0.5
         },
         "name": "1992",
         "showlegend": false,
         "type": "scattergeo"
        },
        {
         "geo": "geo29",
         "lat": [
          40
         ],
         "lon": [
          -77
         ],
         "mode": "text",
         "showlegend": false,
         "text": [
          "1992"
         ],
         "type": "scattergeo"
        },
        {
         "geo": "geo30",
         "lat": [
          38.369675,
          35.715315,
          37.350999,
          41.125563,
          33.627942,
          41.537232,
          42.922273,
          41.900927,
          41.869779,
          26.21606,
          38.678451,
          44.867013,
          32.683491,
          39.626736,
          34.109511,
          41.653796,
          46.727636,
          46.588803,
          26.925265,
          43.357357,
          38.716874,
          41.271098,
          38.93193,
          41.144661,
          38.952366,
          42.005978,
          41.919808,
          33.978965,
          43.458004,
          39.109272,
          39.138978,
          43.091106,
          41.782681,
          41.034156,
          33.8808,
          41.388519,
          34.12716,
          34.161795,
          26.348354,
          32.84681,
          44.858446,
          34.127819,
          43.059661,
          44.649252,
          43.449201,
          41.321189,
          43.005477,
          46.727077,
          41.91823,
          36.733874,
          40.289442,
          41.787982,
          42.593047,
          42.823232,
          40.855645,
          41.811139,
          44.937212,
          48.403174,
          40.412067,
          42.425683,
          36.293352,
          44.057074,
          45.095674,
          36.062239,
          42.306666,
          45.778852,
          26.28828,
          26.445982,
          41.449364,
          27.963798,
          38.946893,
          40.501576,
          37.48858,
          41.2544,
          42.798159,
          39.508177,
          44.048931,
          37.65778,
          42.098657,
          42.129274,
          41.347159,
          38.303103,
          44.322836,
          37.584282,
          41.236357,
          43.048777,
          38.752434,
          34.639682,
          40.295925,
          34.101659,
          43.214261,
          42.96866,
          42.74964,
          36.115899,
          36.753177,
          37.016943,
          35.492989,
          46.388753,
          47.133606,
          41.169987,
          39.473899,
          41.828055,
          44.305812,
          38.874879,
          48.658512,
          39.89822,
          40.962747,
          37.889849,
          39.646587,
          42.334496,
          37.995238,
          37.592184,
          34.21707,
          40.094141,
          38.329768,
          37.342056,
          38.245844,
          40.50217,
          39.499754,
          35.844753,
          40.298765,
          38.005199,
          42.462935,
          40.175504,
          42.227162
         ],
         "lon": [
          -75.61214,
          -77.91989,
          -77.43959,
          -78.74648,
          -97.13636,
          -73.8972,
          -76.55882,
          -84.04585,
          -88.06285,
          -80.21776,
          -77.30657,
          -93.42557,
          -115.48277,
          -75.84294,
          -117.37617,
          -81.44614,
          -116.98067,
          -112.04193,
          -82.29693,
          -124.21086,
          -121.3698,
          -76.90382,
          -76.72457,
          -81.61948,
          -104.76701,
          -87.99847,
          -88.30498,
          -117.33646,
          -111.95925,
          -121.68033,
          -77.54519,
          -78.96249,
          -124.16703,
          -81.43944,
          -117.54068,
          -83.65795,
          -117.20073,
          -116.41246,
          -80.21841,
          -116.98983,
          -123.05368,
          -117.5246,
          -85.67384,
          -124.05039,
          -76.47992,
          -81.50135,
          -83.76098,
          -92.48612,
          -87.89627,
          -78.17287,
          -78.86612,
          -87.7738,
          -73.67343,
          -86.12726,
          -96.71298,
          -77.06939,
          -74.87693,
          -119.39066,
          -80.57542,
          -79.3371,
          -76.98612,
          -116.99148,
          -93.25336,
          -78.24953,
          -89.00839,
          -108.5742,
          -81.78726,
          -98.69332,
          -74.43951,
          -82.49537,
          -84.38652,
          -86.14677,
          -120.85196,
          -95.79062,
          -77.77733,
          -76.18066,
          -92.49459,
          -121.73011,
          -79.32439,
          -76.84497,
          -86.32023,
          -76.52231,
          -88.40492,
          -120.95064,
          -82.60185,
          -83.33073,
          -121.28933,
          -120.4471,
          -83.06968,
          -117.65776,
          -77.93937,
          -112.43182,
          -73.76802,
          -75.72772,
          -119.69703,
          -121.56581,
          -80.60293,
          -116.98484,
          -119.28455,
          -80.08174,
          -76.2983,
          -86.23981,
          -84.75589,
          -77.38642,
          -117.7671,
          -79.7311,
          -87.13684,
          -121.253872,
          -78.77398,
          -122.83547,
          -120.3437,
          -122.04577,
          -119.1769,
          -84.63574,
          -81.73418,
          -120.50154,
          -122.101917,
          -78.39121,
          -122.20773,
          -78.63263,
          -79.54126,
          -84.40954,
          -85.61256,
          -74.84611,
          -122.78933
         ],
         "marker": {
          "color": "rgb(0, 0, 255)",
          "opacity": 0.5
         },
         "name": "1993",
         "showlegend": false,
         "type": "scattergeo"
        },
        {
         "geo": "geo30",
         "lat": [
          40
         ],
         "lon": [
          -77
         ],
         "mode": "text",
         "showlegend": false,
         "text": [
          "1993"
         ],
         "type": "scattergeo"
        },
        {
         "geo": "geo31",
         "lat": [
          36.693007,
          33.179587,
          42.739447,
          42.22948,
          47.425497,
          40.002514,
          39.101646,
          41.471569,
          47.11929,
          35.640589,
          45.589694,
          46.169982,
          43.967306,
          41.252748,
          33.91355,
          31.782408,
          41.871331,
          39.962821,
          41.521593,
          32.922624,
          41.983801,
          39.949377,
          43.023347,
          39.54641,
          38.359772,
          41.745623,
          33.899915,
          33.409582,
          39.866785,
          38.956206,
          33.494152,
          37.265403,
          30.636228,
          40.477187,
          37.048385,
          46.972965,
          43.198048,
          37.436451,
          46.342102,
          42.541733,
          44.272796,
          47.224044,
          34.119245,
          39.765259,
          39.745526,
          44.958382,
          42.10809,
          41.099008,
          39.004276,
          41.320904,
          30.403341,
          30.250761,
          35.928997,
          29.734379,
          25.987069,
          41.535917,
          39.121719,
          41.378051,
          44.020483,
          33.675893,
          39.426551,
          39.720955,
          46.554402,
          42.940644,
          46.854974,
          40.385636,
          42.311089,
          27.971362,
          42.713328,
          33.868314,
          33.979401,
          39.628475,
          37.51338,
          45.707153,
          33.03505,
          45.076708,
          42.460604,
          43.080399,
          44.693271,
          43.074266,
          25.777977,
          40.828682,
          39.288558,
          36.030927,
          35.25925,
          39.154946,
          40.358015
         ],
         "lon": [
          -93.37153,
          -117.24461,
          -78.15948,
          -73.75846,
          -120.32881,
          -82.92589,
          -76.80334,
          -84.55459,
          -88.57259,
          -120.70418,
          -84.4625,
          -119.10456,
          -86.43044,
          -80.80773,
          -117.46052,
          -106.36353,
          -87.81235,
          -76.76764,
          -74.04072,
          -96.83616,
          -76.52578,
          -82.00492,
          -78.79494,
          -119.79664,
          -120.75324,
          -87.98108,
          -118.16231,
          -86.69684,
          -105.04143,
          -122.63523,
          -111.92079,
          -77.40438,
          -85.5775,
          -81.44439,
          -120.86983,
          -123.81923,
          -86.22774,
          -121.89438,
          -119.99,
          -75.52612,
          -121.19173,
          -123.10538,
          -117.8548,
          -84.10262,
          -105.06251,
          -89.6693,
          -86.41801,
          -80.74545,
          -77.43442,
          -74.88565,
          -91.08035,
          -97.84469,
          -84.07543,
          -95.52269,
          -80.15004,
          -75.95006,
          -86.57409,
          -81.77945,
          -121.30891,
          -117.34946,
          -81.44373,
          -121.81888,
          -87.42223,
          -74.17899,
          -114.10566,
          -82.48254,
          -85.13845,
          -82.74482,
          -73.8179,
          -118.06754,
          -84.15118,
          -79.98796,
          -77.64165,
          -110.9878,
          -96.80492,
          -93.0828,
          -90.68576,
          -73.77038,
          -73.46617,
          -76.05538,
          -80.29718,
          -75.70596,
          -84.47383,
          -114.96787,
          -113.95225,
          -123.20088,
          -76.42501
         ],
         "marker": {
          "color": "rgb(0, 0, 255)",
          "opacity": 0.5
         },
         "name": "1994",
         "showlegend": false,
         "type": "scattergeo"
        },
        {
         "geo": "geo31",
         "lat": [
          40
         ],
         "lon": [
          -77
         ],
         "mode": "text",
         "showlegend": false,
         "text": [
          "1994"
         ],
         "type": "scattergeo"
        },
        {
         "geo": "geo32",
         "lat": [
          45.272117,
          39.498751,
          41.605749,
          36.813456,
          42.074056,
          39.162225,
          37.380207,
          40.366177,
          40.419489,
          27.911201,
          40.868946,
          40.992023,
          34.045584,
          32.638654,
          47.303722,
          39.735745,
          33.942751,
          40.561598,
          33.227736,
          39.343757,
          36.029987,
          40.872261,
          41.249405,
          44.920815,
          41.415097,
          40.626307,
          41.871212,
          35.157681,
          45.08583,
          42.331062,
          45.566735,
          41.5615,
          39.409188,
          32.73727,
          38.460395,
          37.80848,
          42.996507,
          36.645419,
          44.683636,
          43.114519,
          43.160857,
          33.50689,
          43.330471,
          33.414708,
          45.87178,
          41.026239,
          39.0161,
          35.321279,
          42.696926,
          38.459521,
          35.963994,
          39.941827,
          39.919812,
          40.651751,
          32.574398,
          26.156854,
          40.886267,
          42.076574,
          38.051679,
          37.68973,
          39.389457,
          42.516248,
          32.912225,
          26.928035,
          32.803799,
          39.954363,
          40.812047,
          39.499862,
          45.469339,
          38.757924,
          48.097144,
          44.837964,
          33.531938,
          40.614997,
          38.524066,
          34.037557,
          33.685479,
          37.161299,
          40.792011,
          42.734051,
          39.363415,
          43.217069,
          26.60599,
          29.412338,
          33.844814,
          38.410745,
          33.240926,
          35.755651,
          39.278056,
          46.630721,
          39.180893,
          34.000578,
          40.681531,
          40.958434,
          36.340681,
          29.878345,
          38.757214,
          48.201414,
          29.528515,
          42.469761,
          40.253496,
          47.140045,
          34.762693,
          41.312752,
          46.616199,
          40.883028,
          44.779241,
          38.545285,
          43.020176
         ],
         "lon": [
          -92.9911,
          -84.7407,
          -86.71983,
          -119.70826,
          -80.06927,
          -76.59444,
          -122.08787,
          -79.89418,
          -84.96936,
          -82.2948,
          -73.08009,
          -80.32747,
          -117.75305,
          -117.06686,
          -122.26608,
          -105.19337,
          -84.31769,
          -111.96088,
          -87.58819,
          -84.40249,
          -83.80705,
          -85.49061,
          -81.34404,
          -123.33432,
          -81.91436,
          -79.16146,
          -80.79178,
          -89.78249,
          -83.46411,
          -77.65536,
          -93.24381,
          -84.15574,
          -84.60321,
          -79.95409,
          -77.43266,
          -80.44493,
          -78.19279,
          -82.18137,
          -75.49024,
          -75.22284,
          -78.68756,
          -112.10262,
          -73.67816,
          -94.08984,
          -87.99717,
          -78.43838,
          -95.6979,
          -80.7405,
          -74.52436,
          -77.99875,
          -78.93602,
          -83.83702,
          -75.15803,
          -75.49224,
          -117.05633,
          -80.31408,
          -72.9552,
          -78.42744,
          -97.323,
          -121.89244,
          -76.48709,
          -78.68944,
          -96.73688,
          -80.11803,
          -117.13595,
          -83.123,
          -76.86138,
          -119.77497,
          -92.62088,
          -77.15284,
          -123.40628,
          -93.27657,
          -117.7025,
          -111.88704,
          -90.2895,
          -80.96024,
          -117.6669,
          -93.2519,
          -77.84993,
          -78.8413,
          -77.37849,
          -75.45531,
          -81.70296,
          -98.70484,
          -117.95381,
          -82.36995,
          -117.29851,
          -78.77508,
          -76.74002,
          -123.01599,
          -84.41881,
          -117.96943,
          -75.26722,
          -75.98519,
          -78.39425,
          -95.53337,
          -77.08666,
          -114.32202,
          -98.49219,
          -75.05192,
          -75.63481,
          -122.26012,
          -82.24512,
          -81.83197,
          -120.46481,
          -115.75016,
          -88.60636,
          -76.09118,
          -83.60433
         ],
         "marker": {
          "color": "rgb(0, 0, 255)",
          "opacity": 0.5
         },
         "name": "1995",
         "showlegend": false,
         "type": "scattergeo"
        },
        {
         "geo": "geo32",
         "lat": [
          40
         ],
         "lon": [
          -77
         ],
         "mode": "text",
         "showlegend": false,
         "text": [
          "1995"
         ],
         "type": "scattergeo"
        },
        {
         "geo": "geo33",
         "lat": [
          43.227287,
          33.432177,
          48.30476,
          39.030172,
          40.175463,
          45.665146,
          42.927801,
          45.751671,
          47.467422,
          40.211241,
          40.086725,
          41.490333,
          40.270424,
          32.8201,
          34.384663,
          29.564347,
          40.44952,
          37.305769,
          47.629717,
          43.77182,
          47.53587,
          34.538622,
          40.032664,
          36.980013,
          40.461012,
          42.661129,
          42.981558,
          39.191769,
          40.888408,
          42.731628,
          39.33046,
          34.137707,
          40.140248,
          45.869921,
          39.39667,
          35.37273,
          43.079635,
          40.278294,
          44.033215,
          48.759079,
          39.461072,
          47.514307,
          46.156082,
          40.089811,
          39.434856,
          33.633685
         ],
         "lon": [
          -123.35138,
          -111.84701,
          -116.53305,
          -94.63097,
          -87.6124,
          -118.789,
          -85.54582,
          -87.08951,
          -122.21005,
          -75.0887,
          -80.90826,
          -90.50006,
          -75.38569,
          -116.91234,
          -118.58704,
          -95.54762,
          -80.179475,
          -79.92767,
          -122.63493,
          -123.05667,
          -122.59905,
          -117.17729,
          -76.27575,
          -79.88027,
          -86.93664,
          -83.24571,
          -78.61484,
          -77.24329,
          -81.41066,
          -73.66465,
          -82.97228,
          -117.96569,
          -79.84251,
          -89.79346,
          -76.965,
          -83.20772,
          -75.64678,
          -75.29479,
          -88.17626,
          -122.43597,
          -118.69306,
          -111.34499,
          -122.98043,
          -83.13983,
          -78.95987,
          -83.98382
         ],
         "marker": {
          "color": "rgb(0, 0, 255)",
          "opacity": 0.5
         },
         "name": "1996",
         "showlegend": false,
         "type": "scattergeo"
        },
        {
         "geo": "geo33",
         "lat": [
          40
         ],
         "lon": [
          -77
         ],
         "mode": "text",
         "showlegend": false,
         "text": [
          "1996"
         ],
         "type": "scattergeo"
        },
        {
         "geo": "geo34",
         "lat": [
          37.461272,
          40.917908,
          41.199396,
          36.762459,
          33.638271,
          42.769009,
          39.254356,
          45.360111,
          47.643346,
          41.016159,
          44.122004,
          36.754058,
          40.641389,
          38.681254,
          27.285142,
          43.041566,
          40.703502,
          34.967043,
          37.833826,
          34.542098,
          36.201451,
          38.643248,
          39.765405,
          31.180076,
          37.255915,
          36.21277,
          45.478641,
          44.74136,
          40.394235,
          43.099861,
          41.46213,
          43.572671,
          41.159224,
          36.066545,
          39.332837,
          38.533167,
          38.069322,
          41.58327,
          41.020852,
          39.112169,
          45.824236,
          41.052199,
          37.606778,
          26.714088,
          42.526464,
          40.791328,
          34.097708,
          39.279965
         ],
         "lon": [
          -79.09364,
          -81.11641,
          -79.37196,
          -76.06139,
          -112.09341,
          -73.93619,
          -76.8006,
          -84.93774,
          -117.19993,
          -80.61549,
          -123.06447,
          -121.66472,
          -122.34206,
          -121.74189,
          -82.47363,
          -76.22072,
          -73.59306,
          -92.03537,
          -82.00011,
          -83.99718,
          -119.34994,
          -75.61102,
          -76.67748,
          -85.4045,
          -121.77536,
          -81.66255,
          -122.56233,
          -85.67316,
          -111.79449,
          -89.31786,
          -75.62478,
          -116.29527,
          -81.23143,
          -80.30733,
          -101.75422,
          -86.48362,
          -75.54811,
          -87.18154,
          -84.04649,
          -84.60849,
          -92.95813,
          -75.15936,
          -77.44775,
          -80.9973,
          -89.04291,
          -76.56393,
          -117.90698,
          -77.86203
         ],
         "marker": {
          "color": "rgb(0, 0, 255)",
          "opacity": 0.5
         },
         "name": "1997",
         "showlegend": false,
         "type": "scattergeo"
        },
        {
         "geo": "geo34",
         "lat": [
          40
         ],
         "lon": [
          -77
         ],
         "mode": "text",
         "showlegend": false,
         "text": [
          "1997"
         ],
         "type": "scattergeo"
        },
        {
         "geo": "geo35",
         "lat": [
          41.02951,
          37.222311,
          43.858226,
          40.445203,
          41.60032,
          33.202463,
          33.751418,
          33.724167,
          38.317636,
          33.923463,
          41.108454,
          41.314676,
          30.659159,
          41.317242,
          45.092448,
          33.8318,
          45.62104,
          33.454441,
          35.39068,
          42.514885,
          42.891709,
          34.223753,
          39.123071,
          38.417852,
          42.808213,
          33.853853,
          42.929891,
          26.006373,
          36.224218,
          36.026532,
          48.414576,
          38.616891,
          29.569934,
          38.825478,
          34.369441,
          47.696131,
          46.343483,
          31.766355,
          40.815179,
          30.866613,
          38.786335,
          30.285127,
          31.636895,
          38.439526,
          37.070975,
          37.291252,
          40.09146,
          34.166231,
          43.40328,
          37.772399,
          32.825227,
          42.699169,
          38.08759,
          34.911469,
          32.264365,
          34.715065
         ],
         "lon": [
          -117.94402,
          -107.653131,
          -73.45414,
          -75.34838,
          -75.25102,
          -117.36077,
          -117.99392,
          -117.90623,
          -77.43297,
          -117.89559,
          -77.49516,
          -73.85118,
          -87.04972,
          -75.77942,
          -87.64929,
          -117.84739,
          -122.57947,
          -112.32401,
          -119.18583,
          -82.99768,
          -85.76466,
          -118.44322,
          -83.0009,
          -81.8321,
          -103.00219,
          -84.22036,
          -78.75813,
          -80.40212,
          -115.1763,
          -115.14848,
          -122.35196,
          -121.49623,
          -98.61282,
          -82.22755,
          -81.08218,
          -114.16094,
          -105.81164,
          -106.29828,
          -82.97091,
          -83.30078,
          -90.72121,
          -83.04106,
          -81.90843,
          -82.6932,
          -77.98876,
          -80.73601,
          -74.97719,
          -103.34255,
          -88.18026,
          -80.02705,
          -96.67955,
          -87.91692,
          -102.61855,
          -82.25178,
          -95.31347,
          -86.73964
         ],
         "marker": {
          "color": "rgb(0, 0, 255)",
          "opacity": 0.5
         },
         "name": "1998",
         "showlegend": false,
         "type": "scattergeo"
        },
        {
         "geo": "geo35",
         "lat": [
          40
         ],
         "lon": [
          -77
         ],
         "mode": "text",
         "showlegend": false,
         "text": [
          "1998"
         ],
         "type": "scattergeo"
        },
        {
         "geo": "geo36",
         "lat": [
          36.668255,
          34.142119,
          37.045593,
          41.403462,
          41.681487,
          41.707616,
          41.700776,
          42.642431,
          38.54486,
          39.646099,
          39.038183,
          35.000056,
          35.033903,
          39.669219,
          38.225065,
          33.400127,
          37.11979,
          31.508231,
          47.311072,
          43.038149,
          32.39705,
          33.080965,
          39.836586,
          37.174217,
          38.646981,
          30.875697,
          35.225702,
          32.460791,
          40.150143,
          35.119678,
          41.653071,
          40.407243,
          41.499202,
          42.609789,
          39.828586,
          42.593035,
          43.652404,
          42.64275,
          34.265003,
          25.431506,
          41.321298,
          38.007898,
          29.705678,
          42.365936,
          40.174994,
          39.263162,
          39.477506,
          38.343166,
          33.753474,
          38.707135,
          29.674336,
          31.325437,
          44.743963,
          41.947335,
          43.441975,
          30.444267,
          33.462927,
          38.881558,
          37.722279,
          47.848237,
          42.072606,
          48.303774,
          35.122129,
          40.380219,
          36.712179,
          35.990548,
          41.932315,
          34.87455,
          43.150381,
          40.498793,
          30.298048,
          39.897695,
          35.817411
         ],
         "lon": [
          -76.93945,
          -79.74311,
          -93.30563,
          -80.37424,
          -86.16811,
          -85.97605,
          -86.30357,
          -83.47193,
          -122.80785,
          -80.83465,
          -78.97189,
          -78.33424,
          -81.97413,
          -75.59003,
          -82.43909,
          -111.78594,
          -80.57325,
          -87.88346,
          -122.31188,
          -74.9846,
          -89.98466,
          -81.9944,
          -104.9039,
          -77.39008,
          -90.63155,
          -87.76592,
          -97.42394,
          -83.73541,
          -79.52492,
          -120.55116,
          -74.69748,
          -75.91163,
          -81.55434,
          -83.04844,
          -88.92907,
          -83.48997,
          -84.21671,
          -85.29296,
          -118.77177,
          -80.51382,
          -79.6478,
          -84.53452,
          -95.20216,
          -83.36513,
          -76.17619,
          -76.5082,
          -76.64114,
          -75.19082,
          -87.04756,
          -77.8145,
          -95.48123,
          -89.37926,
          -93.20624,
          -91.68819,
          -84.01177,
          -88.899207,
          -117.62414,
          -78.51586,
          -122.15702,
          -122.28348,
          -80.14541,
          -122.65093,
          -107.90777,
          -79.81017,
          -85.67567,
          -106.08036,
          -74.02259,
          -120.42806,
          -95.14466,
          -78.74591,
          -89.81176,
          -82.96969,
          -79.80389
         ],
         "marker": {
          "color": "rgb(0, 0, 255)",
          "opacity": 0.5
         },
         "name": "1999",
         "showlegend": false,
         "type": "scattergeo"
        },
        {
         "geo": "geo36",
         "lat": [
          40
         ],
         "lon": [
          -77
         ],
         "mode": "text",
         "showlegend": false,
         "text": [
          "1999"
         ],
         "type": "scattergeo"
        },
        {
         "geo": "geo37",
         "lat": [
          42.07506,
          34.696201,
          33.851965,
          37.67059,
          41.118465,
          28.048595,
          45.862489,
          41.323547,
          32.916865,
          34.276154,
          32.7603,
          33.498076,
          35.074617,
          38.582702,
          37.991571,
          29.878578,
          33.698101,
          33.609779,
          40.173636,
          39.956384,
          35.905299,
          33.718079,
          28.127973,
          35.910932,
          39.646847,
          34.882362,
          37.076801,
          41.644716,
          33.606004,
          40.777036,
          33.963111,
          33.643508,
          43.675651,
          43.529812,
          43.208029,
          38.105283,
          40.264193,
          39.902039,
          39.84952,
          38.676552,
          36.119887,
          39.353561,
          38.753264,
          35.681402,
          35.515008,
          36.68627,
          38.426786,
          37.427988,
          38.997267,
          38.780168,
          33.925085,
          43.988708,
          44.656686,
          25.887983,
          42.032379,
          41.610035,
          40.728816,
          43.623255,
          37.51918,
          30.521962,
          39.265408,
          41.688215,
          42.710124,
          32.277216,
          39.343418,
          38.665615,
          36.233655,
          28.991135,
          35.729692,
          34.954106,
          39.017309,
          39.613293,
          39.021629,
          38.99535,
          32.110421,
          29.523294,
          47.69399,
          33.07707,
          41.861633,
          31.817344,
          39.508608,
          37.216856,
          41.174256,
          35.354158,
          40.805131,
          32.338126,
          33.054671,
          32.991185,
          38.359332,
          37.368167,
          39.608494,
          41.307595,
          30.163368,
          40.631011
         ],
         "lon": [
          -88.02508,
          -85.25824,
          -118.1468,
          -82.28465,
          -75.35501,
          -82.45171,
          -122.84824,
          -74.19531,
          -96.97349,
          -118.54581,
          -117.07031,
          -111.98603,
          -92.444426,
          -90.40966,
          -121.80207,
          -90.06903,
          -78.89604,
          -86.65507,
          -82.99675,
          -82.7961,
          -77.54056,
          -84.92356,
          -82.36123,
          -82.07366,
          -104.99076,
          -83.4156,
          -81.70519,
          -93.46641,
          -111.88699,
          -86.75982,
          -78.05743,
          -112.38502,
          -116.73825,
          -116.57761,
          -115.62345,
          -84.50775,
          -96.74604,
          -86.12948,
          -86.38739,
          -75.39269,
          -80.08726,
          -111.5783,
          -76.89913,
          -97.5331,
          -97.53106,
          -77.56121,
          -78.88153,
          -77.64868,
          -80.20915,
          -81.34244,
          -83.34529,
          -92.42937,
          -90.18152,
          -80.33284,
          -87.81563,
          -87.50574,
          -85.16565,
          -95.59604,
          -77.49851,
          -90.84035,
          -81.53706,
          -91.58676,
          -114.46394,
          -81.07847,
          -80.02665,
          -78.45621,
          -115.06881,
          -82.02658,
          -79.44984,
          -89.83743,
          -82.03031,
          -76.84802,
          -94.78107,
          -94.14225,
          -81.24568,
          -98.74504,
          -117.43979,
          -96.79859,
          -90.21539,
          -102.42315,
          -104.78031,
          -95.72898,
          -81.43744,
          -79.76839,
          -81.50101,
          -111.04259,
          -96.73506,
          -80.02347,
          -75.56931,
          -81.07307,
          -87.69958,
          -93.10226,
          -92.01974,
          -79.95766
         ],
         "marker": {
          "color": "rgb(0, 0, 255)",
          "opacity": 0.5
         },
         "name": "2000",
         "showlegend": false,
         "type": "scattergeo"
        },
        {
         "geo": "geo37",
         "lat": [
          40
         ],
         "lon": [
          -77
         ],
         "mode": "text",
         "showlegend": false,
         "text": [
          "2000"
         ],
         "type": "scattergeo"
        },
        {
         "geo": "geo38",
         "lat": [
          46.809965,
          33.568617,
          32.923924,
          42.999364,
          39.862712,
          41.125695,
          40.926595,
          47.413817,
          32.854893,
          39.533002,
          36.045811,
          39.530972,
          37.738348,
          33.839516,
          39.403178,
          33.143186,
          42.231788,
          36.375468,
          29.927675,
          40.146069,
          42.853676,
          33.107572,
          29.900075,
          29.760833,
          46.044936,
          38.605355,
          40.569288,
          43.072062,
          36.947446,
          40.718586,
          38.711512,
          41.117337,
          34.606079,
          40.606962,
          48.093129,
          47.297368,
          45.317152,
          40.168205,
          38.477508,
          39.819,
          38.528103,
          33.776137,
          45.121666,
          34.142094,
          33.455031,
          32.998786,
          39.741794,
          29.627737,
          42.173481,
          39.261679,
          30.501272,
          43.127195,
          41.270319,
          41.240036,
          43.711862,
          32.655401,
          43.609434,
          32.230408,
          32.967829,
          45.836121,
          46.92275,
          40.061694,
          42.735535,
          41.875896,
          40.025859,
          42.194865,
          42.563505,
          26.530144,
          38.663328,
          30.233865,
          28.308979,
          45.102133,
          46.279657,
          28.042799,
          36.84882,
          26.30116,
          36.266266,
          38.337243,
          46.843397,
          39.381295,
          40.304156,
          42.503285,
          39.832762,
          45.529551,
          44.244753,
          34.954709,
          39.409861,
          45.681271,
          36.762459,
          35.875925,
          41.565685
         ],
         "lon": [
          -95.8518,
          -117.25264,
          -96.54697,
          -87.94343,
          -75.33958,
          -74.12682,
          -72.65327,
          -92.94228,
          -96.60211,
          -83.43905,
          -115.0778,
          -82.40801,
          -97.42917,
          -117.53581,
          -119.7606,
          -97.088337,
          -83.26481,
          -81.47784,
          -95.60547,
          -75.38378,
          -73.78445,
          -86.74996,
          -90.38655,
          -95.81104,
          -118.38466,
          -121.28247,
          -75.58893,
          -87.9103,
          -81.09439,
          -76.19111,
          -75.09677,
          -95.95126,
          -92.49472,
          -105.05106,
          -122.21614,
          -119.57129,
          -93.58117,
          -111.59577,
          -121.44561,
          -89.64379,
          -76.98063,
          -84.64484,
          -89.13388,
          -99.29649,
          -84.17215,
          -96.84436,
          -94.83237,
          -95.62444,
          -77.11844,
          -94.63353,
          -97.83087,
          -77.72465,
          -112.01932,
          -96.18017,
          -98.03185,
          -97.37765,
          -116.39642,
          -90.16213,
          -111.52617,
          -108.46819,
          -114.07639,
          -88.25023,
          -84.62698,
          -80.15129,
          -81.59243,
          -83.49083,
          -83.18405,
          -80.10461,
          -85.16803,
          -95.49679,
          -81.37594,
          -93.48757,
          -119.28137,
          -82.67737,
          -76.46521,
          -80.2731,
          -115.28656,
          -122.30027,
          -119.17443,
          -77.15867,
          -76.5912,
          -82.93851,
          -75.44063,
          -122.39156,
          -88.37783,
          -78.93744,
          -79.39015,
          -122.66712,
          -76.06139,
          -84.12608,
          -87.54819
         ],
         "marker": {
          "color": "rgb(0, 0, 255)",
          "opacity": 0.5
         },
         "name": "2001",
         "showlegend": false,
         "type": "scattergeo"
        },
        {
         "geo": "geo38",
         "lat": [
          40
         ],
         "lon": [
          -77
         ],
         "mode": "text",
         "showlegend": false,
         "text": [
          "2001"
         ],
         "type": "scattergeo"
        },
        {
         "geo": "geo39",
         "lat": [
          40.203458,
          40.040505,
          33.666269,
          40.954059,
          38.30382,
          42.682081,
          42.78459,
          39.423344,
          35.575302,
          43.641774,
          42.862193,
          33.989013,
          41.919028,
          43.299689,
          40.7143,
          35.146144,
          43.163692,
          34.119177,
          39.961094,
          33.933551,
          33.769018,
          34.561207,
          34.691946,
          38.896407,
          26.22876,
          36.841454,
          40.72255,
          47.077796,
          37.075039,
          40.763899,
          40.627668,
          47.504496,
          36.413437,
          43.544375,
          44.061057,
          37.305769,
          46.005082,
          33.934513,
          44.062231,
          37.112915,
          32.855666,
          29.411583,
          43.185163,
          32.588536,
          30.537938,
          38.147232,
          29.750897,
          29.541285,
          41.508605,
          40.477286,
          33.398992,
          34.052698,
          27.911201,
          34.015963,
          34.052285,
          47.720306,
          36.145303,
          42.33087,
          33.823316,
          36.876177,
          33.024721,
          29.560581,
          30.408807,
          39.322847,
          42.662902,
          39.33224,
          39.167708,
          37.669803,
          37.998912,
          36.506407,
          43.086711,
          43.758674,
          45.168287,
          29.778526,
          39.404856,
          35.871,
          43.589593,
          39.273107,
          29.56218,
          41.943791,
          39.162917,
          27.538658,
          28.566183,
          30.94336,
          47.085046,
          39.759386,
          28.21981,
          40.656498,
          40.184758,
          40.123708,
          39.681687,
          40.688246,
          33.551145,
          35.02844,
          43.067169,
          47.751674,
          39.419105,
          40.371185
         ],
         "lon": [
          -77.19987,
          -75.63425,
          -117.9693,
          -78.97017,
          -85.82522,
          -82.83068,
          -83.74074,
          -77.38902,
          -78.80234,
          -116.26507,
          -73.96317,
          -118.08912,
          -79.65224,
          -76.15144,
          -73.55527,
          -106.70851,
          -87.98717,
          -84.30292,
          -75.92047,
          -118.06821,
          -118.19225,
          -118.0375,
          -117.97756,
          -94.59666,
          -80.15816,
          -119.79832,
          -84.08979,
          -122.40517,
          -113.55568,
          -80.33572,
          -111.97566,
          -94.87105,
          -82.96804,
          -96.65801,
          -123.01769,
          -79.92767,
          -91.35255,
          -117.95159,
          -123.16804,
          -76.43591,
          -97.21818,
          -98.41833,
          -77.60368,
          -96.94949,
          -91.04812,
          -85.59169,
          -95.61255,
          -95.02996,
          -112.04736,
          -88.99592,
          -84.57062,
          -84.07485,
          -82.2948,
          -117.68737,
          -84.68483,
          -116.94564,
          -115.18358,
          -83.47575,
          -118.11329,
          -82.11083,
          -96.74038,
          -90.6903,
          -87.31919,
          -82.09728,
          -82.99392,
          -76.50365,
          -76.71706,
          -97.23289,
          -122.11501,
          -87.2572,
          -87.9749,
          -87.98005,
          -93.20001,
          -95.18118,
          -84.52271,
          -80.08603,
          -89.79306,
          -76.62613,
          -95.26982,
          -78.65448,
          -83.5802,
          -99.38274,
          -82.38002,
          -89.17912,
          -122.78376,
          -104.91945,
          -80.69402,
          -75.32938,
          -75.14386,
          -75.33843,
          -104.88338,
          -111.99899,
          -82.13949,
          -78.97037,
          -75.28767,
          -117.4124,
          -76.78388,
          -80.63426
         ],
         "marker": {
          "color": "rgb(0, 0, 255)",
          "opacity": 0.5
         },
         "name": "2002",
         "showlegend": false,
         "type": "scattergeo"
        },
        {
         "geo": "geo39",
         "lat": [
          40
         ],
         "lon": [
          -77
         ],
         "mode": "text",
         "showlegend": false,
         "text": [
          "2002"
         ],
         "type": "scattergeo"
        },
        {
         "geo": "geo40",
         "lat": [
          28.069755,
          26.501582,
          30.374654,
          37.322936,
          39.482957,
          29.543654,
          38.769697,
          40.079115,
          39.949377,
          38.858644,
          40.651733,
          38.731976,
          39.603225,
          35.992283,
          42.554944,
          30.412229,
          40.764368,
          34.786133,
          38.788646,
          40.226357,
          33.841014,
          32.335122,
          41.6522,
          41.646398,
          41.138599,
          32.670903,
          40.740833,
          40.072246,
          34.198189,
          33.529373,
          40.108943,
          32.223023,
          38.860552,
          33.479467,
          32.347752,
          32.736931,
          32.484979,
          29.510562,
          39.337798,
          29.50198,
          37.754254,
          42.702128,
          38.427208,
          40.898658,
          39.15973,
          43.797116,
          34.141067,
          35.906016,
          29.666781,
          41.392171,
          41.574581,
          33.606663,
          39.695702,
          40.017362,
          36.218341,
          42.63427,
          38.724682,
          39.112514,
          43.473075,
          33.020118,
          44.42042,
          44.776138,
          32.858398,
          30.371623,
          40.518701,
          33.657722,
          35.200061,
          34.613973,
          40.932053,
          36.049095,
          40.922326,
          40.68085,
          39.888225,
          41.450538,
          40.409992,
          44.539036,
          34.009754,
          42.292335,
          39.858137,
          42.17315,
          36.055115,
          42.374828,
          35.791021,
          30.348585,
          40.407853,
          42.501401,
          35.635275,
          30.073775,
          39.094699,
          30.63928,
          27.884256
         ],
         "lon": [
          -82.55734,
          -81.82841,
          -97.67621,
          -76.75793,
          -84.38393,
          -95.34036,
          -77.44915,
          -82.40054,
          -82.00492,
          -104.70892,
          -73.71079,
          -121.2531,
          -107.89755,
          -95.80542,
          -96.36139,
          -95.6529,
          -89.6448,
          -106.70536,
          -77.27888,
          -103.80625,
          -118.00969,
          -111.14888,
          -83.67037,
          -83.46933,
          -85.05941,
          -117.09272,
          -96.59122,
          -76.3155,
          -117.35826,
          -112.25225,
          -74.85548,
          -107.71282,
          -94.66594,
          -117.20933,
          -106.81463,
          -96.88253,
          -90.11552,
          -98.52203,
          -76.41533,
          -98.30582,
          -77.47465,
          -84.41946,
          -121.81348,
          -80.86094,
          -121.53735,
          -91.21141,
          -85.60472,
          -78.743197,
          -95.04487,
          -81.32748,
          -90.60303,
          -86.28912,
          -84.21688,
          -75.08769,
          -116.00994,
          -88.6383,
          -120.79533,
          -108.60506,
          -83.94479,
          -97.00771,
          -88.07896,
          -93.52556,
          -97.17681,
          -89.27038,
          -79.86744,
          -112.17825,
          -94.24376,
          -98.46255,
          -73.10666,
          -115.28485,
          -72.637078,
          -73.46289,
          -85.97041,
          -82.02167,
          -79.57266,
          -92.53637,
          -118.33705,
          -85.525359,
          -75.71227,
          -88.31849,
          -86.64782,
          -76.91606,
          -86.34445,
          -81.49965,
          -104.75498,
          -83.62916,
          -78.4489,
          -95.61882,
          -75.58871,
          -81.59442,
          -81.97697
         ],
         "marker": {
          "color": "rgb(0, 0, 255)",
          "opacity": 0.5
         },
         "name": "2003",
         "showlegend": false,
         "type": "scattergeo"
        },
        {
         "geo": "geo40",
         "lat": [
          40
         ],
         "lon": [
          -77
         ],
         "mode": "text",
         "showlegend": false,
         "text": [
          "2003"
         ],
         "type": "scattergeo"
        },
        {
         "geo": "geo41",
         "lat": [
          38.391209,
          41.204631,
          42.980163,
          44.953665,
          27.486448,
          40.299646,
          37.329641,
          39.88628,
          34.657742,
          42.662671,
          33.144908,
          40.157078,
          32.638072,
          34.087108,
          32.7991,
          27.341158,
          40.324535,
          44.033867,
          42.600551,
          38.582319,
          40.718113,
          31.514067,
          42.257229,
          29.938005,
          41.60135,
          41.607624,
          40.404119,
          39.599755,
          26.020283,
          35.113906,
          42.272538,
          33.195354,
          41.397701,
          41.513752,
          33.823495,
          44.844833,
          29.982746,
          38.076547,
          38.952366,
          33.534128,
          40.064257,
          39.595115,
          32.785,
          29.510204,
          38.612452,
          34.253343,
          34.197737,
          40.613788,
          44.288158,
          42.262135,
          33.906914,
          26.175021,
          40.025007,
          38.765929,
          41.162214,
          29.966454,
          34.766095,
          30.76635,
          36.1832,
          39.854413,
          39.954363,
          33.493496,
          42.46617,
          39.892676,
          33.011975,
          33.212203,
          35.204652,
          28.006247,
          39.207523,
          40.08786,
          38.623304,
          40.650496,
          41.126476,
          37.010643,
          34.796399,
          29.307347,
          28.094144,
          35.023824,
          33.823809,
          35.97154,
          33.317471,
          35.114482,
          40.338552,
          48.079979,
          42.143819,
          40.821858,
          30.024749,
          32.628858,
          35.767829,
          35.248787,
          28.545742,
          26.659294,
          32.778479,
          32.876475,
          28.803979,
          44.180085,
          32.86814,
          39.036361,
          34.733515,
          26.251909,
          41.037664,
          41.52493,
          29.124611,
          33.435405,
          32.804972,
          32.830839,
          39.523088,
          42.734434,
          39.881608,
          39.764436,
          32.704499,
          33.479868,
          30.262276,
          40.662797,
          42.169106,
          38.733901,
          40.446361,
          42.110156,
          40.053308,
          34.189398
         ],
         "lon": [
          -82.28563,
          -96.12108,
          -88.09438,
          -93.15922,
          -82.535,
          -79.38845,
          -121.83359,
          -83.07989,
          -92.9811,
          -88.28132,
          -117.17128,
          -75.80669,
          -116.95195,
          -117.96966,
          -116.97334,
          -80.39786,
          -80.03864,
          -91.65106,
          -73.79621,
          -77.32722,
          -111.88938,
          -97.23546,
          -88.84755,
          -90.07195,
          -83.62611,
          -88.19736,
          -80.09014,
          -105.13052,
          -81.63094,
          -80.7613,
          -85.69255,
          -117.28232,
          -81.73575,
          -81.47281,
          -78.67824,
          -93.03528,
          -95.66597,
          -78.89839,
          -104.76701,
          -112.1767,
          -75.00155,
          -104.7485,
          -117.0186,
          -98.66784,
          -90.31822,
          -85.15312,
          -118.64797,
          -89.46031,
          -84.21162,
          -84.41052,
          -118.08339,
          -98.11969,
          -111.72117,
          -112.08397,
          -103.01949,
          -83.659371,
          -84.9865,
          -88.26553,
          -85.52054,
          -82.80872,
          -83.123,
          -112.17108,
          -88.09995,
          -83.43643,
          -96.53607,
          -96.67522,
          -101.88353,
          -82.50632,
          -76.82527,
          -75.14707,
          -121.38181,
          -111.99591,
          -112.04427,
          -86.46145,
          -92.46821,
          -96.09055,
          -81.48395,
          -85.2333,
          -83.89423,
          -78.52241,
          -86.78726,
          -84.82836,
          -111.7162,
          -123.09916,
          -88.02546,
          -81.34253,
          -95.53215,
          -96.53811,
          -78.5861,
          -81.2142,
          -81.74805,
          -80.09118,
          -97.30099,
          -97.41249,
          -81.28761,
          -88.48273,
          -97.28566,
          -84.56801,
          -82.78407,
          -80.21016,
          -81.73368,
          -88.19022,
          -82.32271,
          -112.20009,
          -117.16871,
          -83.63529,
          -119.89808,
          -84.52497,
          -105.09953,
          -86.39699,
          -114.64644,
          -111.6935,
          -87.72784,
          -111.83797,
          -79.9409,
          -108.08219,
          -79.24611,
          -80.05187,
          -77.50622,
          -92.04495
         ],
         "marker": {
          "color": "rgb(0, 0, 255)",
          "opacity": 0.5
         },
         "name": "2004",
         "showlegend": false,
         "type": "scattergeo"
        },
        {
         "geo": "geo41",
         "lat": [
          40
         ],
         "lon": [
          -77
         ],
         "mode": "text",
         "showlegend": false,
         "text": [
          "2004"
         ],
         "type": "scattergeo"
        },
        {
         "geo": "geo42",
         "lat": [
          42.137071,
          39.742593,
          33.514092,
          25.929571,
          33.319722,
          33.239097,
          33.698731,
          32.745373,
          44.250144,
          25.918758,
          27.884565,
          34.811777,
          28.287883,
          33.831866,
          33.400306,
          35.031329,
          39.739353,
          45.122052,
          37.809427,
          30.17202,
          45.478641,
          34.69004,
          41.845228,
          44.896938,
          37.515014,
          44.932711,
          28.012241,
          41.294069,
          40.642266,
          39.593813,
          37.7517,
          32.795467,
          36.022863,
          41.931573,
          39.267257,
          34.406519,
          40.756287,
          44.906492,
          37.758568,
          39.200035,
          45.050434,
          33.953237,
          35.03319,
          34.624533,
          40.922826,
          41.410484,
          29.577359,
          27.750655,
          33.437428,
          33.91967,
          40.56914,
          41.622203,
          29.668489,
          36.345919,
          40.375925,
          42.449454,
          43.171707,
          34.854898,
          33.000177,
          35.157403,
          39.610431,
          31.068459,
          36.306616,
          36.571849,
          26.244013,
          27.187829,
          43.076953,
          38.271028,
          34.117565,
          32.465621,
          42.216541,
          32.522902,
          37.427781,
          35.235791,
          31.995623,
          43.418054,
          45.301337,
          31.768849,
          42.292221,
          41.843702,
          39.399639,
          32.879529,
          33.932052,
          42.400744,
          33.318579,
          41.462346,
          41.544584,
          39.853674,
          44.903165,
          30.31144,
          35.286967,
          40.810931,
          42.981932,
          32.703008,
          32.753672,
          39.902045,
          26.240637,
          38.160936,
          36.664334,
          30.514401,
          33.833416,
          47.363382,
          36.538017,
          43.497685,
          40.024138,
          38.193769,
          43.1791,
          34.70062,
          32.608799
         ],
         "lon": [
          -83.21446,
          -86.11766,
          -112.12285,
          -80.17839,
          -111.76078,
          -111.86355,
          -112.11429,
          -96.46038,
          -83.55805,
          -97.42739,
          -97.32054,
          -90.01917,
          -81.46862,
          -112.06339,
          -111.72452,
          -106.68695,
          -84.65393,
          -92.53691,
          -122.27172,
          -97.82265,
          -122.56233,
          -79.18802,
          -88.30995,
          -92.90241,
          -121.92916,
          -91.38877,
          -80.67729,
          -96.15352,
          -83.60577,
          -75.95602,
          -81.214825,
          -104.38083,
          -79.77895,
          -88.00222,
          -78.19396,
          -118.56214,
          -73.57536,
          -123.05129,
          -87.08714,
          -119.72732,
          -93.25007,
          -106.93722,
          -90.01128,
          -86.47069,
          -98.33087,
          -95.00852,
          -98.2787,
          -82.6882,
          -84.31519,
          -84.07482,
          -84.17288,
          -79.69298,
          -95.5869,
          -79.67075,
          -75.62617,
          -76.49685,
          -76.09505,
          -102.41824,
          -97.21871,
          -101.86114,
          -104.88139,
          -97.65552,
          -94.14622,
          -94.28956,
          -98.31176,
          -82.48539,
          -88.268,
          -77.5559,
          -84.57176,
          -100.39814,
          -85.61773,
          -95.42126,
          -81.48654,
          -80.89295,
          -102.08108,
          -82.83687,
          -93.80774,
          -82.35198,
          -89.12574,
          -89.47636,
          -76.58418,
          -80.05911,
          -84.54746,
          -90.39738,
          -83.35432,
          -81.03666,
          -87.61289,
          -84.34125,
          -93.10026,
          -90.93955,
          -80.87903,
          -81.42142,
          -85.06679,
          -97.74814,
          -97.08706,
          -75.29371,
          -81.76663,
          -85.77624,
          -87.42789,
          -97.65549,
          -118.29198,
          -122.11451,
          -119.38887,
          -112.07391,
          -79.58414,
          -85.65733,
          -85.26533,
          -112.63753,
          -117.0607
         ],
         "marker": {
          "color": "rgb(0, 0, 255)",
          "opacity": 0.5
         },
         "name": "2005",
         "showlegend": false,
         "type": "scattergeo"
        },
        {
         "geo": "geo42",
         "lat": [
          40
         ],
         "lon": [
          -77
         ],
         "mode": "text",
         "showlegend": false,
         "text": [
          "2005"
         ],
         "type": "scattergeo"
        },
        {
         "geo": "geo43",
         "lat": [
          47.743302,
          40.498403,
          39.023067,
          32.968123,
          45.604075,
          43.794492,
          32.905693,
          46.270249,
          33.892504,
          39.624698,
          42.812664,
          39.734279,
          33.822204,
          40.156514,
          40.10386,
          40.61357,
          33.781133,
          44.091494,
          42.925677,
          35.031674,
          28.545742,
          35.018511,
          36.421448,
          34.481172,
          42.042648,
          39.912923,
          40.160138,
          41.80063,
          36.687543,
          40.766589,
          36.111449,
          38.796601,
          40.121648,
          27.997387,
          41.719933,
          29.63643,
          33.922823
         ],
         "lon": [
          -122.63041,
          -77.99417,
          -84.2099,
          -96.78863,
          -122.51035,
          -75.46905,
          -97.54845,
          -119.09462,
          -84.8346,
          -119.70585,
          -96.94651,
          -75.6631,
          -84.03707,
          -84.24213,
          -74.93734,
          -79.78095,
          -86.45052,
          -75.82694,
          -83.63585,
          -85.37276,
          -81.74805,
          -82.43224,
          -79.97458,
          -118.42821,
          -91.58262,
          -80.73701,
          -105.01772,
          -81.06021,
          -76.22905,
          -82.51869,
          -79.27142,
          -90.78525,
          -88.17649,
          -81.68256,
          -87.70249,
          -95.21789,
          -117.16837
         ],
         "marker": {
          "color": "rgb(0, 0, 255)",
          "opacity": 0.5
         },
         "name": "2006",
         "showlegend": false,
         "type": "scattergeo"
        },
        {
         "geo": "geo43",
         "lat": [
          40
         ],
         "lon": [
          -77
         ],
         "mode": "text",
         "showlegend": false,
         "text": [
          "2006"
         ],
         "type": "scattergeo"
        },
        {
         "geo": "geo44",
         "lat": [
          0.1,
          0.1,
          0.1,
          0.2,
          0.5,
          0.5,
          0.5,
          1.5,
          1.7,
          1.9,
          2.5,
          1.9,
          2.7,
          3.9,
          3.4,
          4.3,
          5.4,
          15,
          6.3,
          8.7,
          9.9,
          10.9,
          12.1,
          14.2,
          12.5,
          13.1,
          17.8,
          16.1,
          13,
          12.5,
          8.7,
          10.9,
          4.6,
          4.8,
          5.6,
          7.3,
          9.4,
          9.1,
          9.8,
          9.1,
          12,
          10.9,
          3.7
         ],
         "line": {
          "color": "rgb(0, 0, 255)"
         },
         "lon": [
          0,
          1,
          2,
          3,
          4,
          5,
          6,
          7,
          8,
          9,
          10,
          11,
          12,
          13,
          14,
          15,
          16,
          17,
          18,
          19,
          20,
          21,
          22,
          23,
          24,
          25,
          26,
          27,
          28,
          29,
          30,
          31,
          32,
          33,
          34,
          35,
          36,
          37,
          38,
          39,
          40,
          41,
          42
         ],
         "mode": "lines",
         "name": "New stores per year<br>Peak of 178 stores per year in 1990",
         "type": "scattergeo"
        },
        {
         "geo": "geo45",
         "lat": [
          0.01,
          0.02,
          0.03,
          0.05,
          0.1,
          0.15,
          0.2,
          0.35,
          0.52,
          0.71,
          0.96,
          1.15,
          1.42,
          1.81,
          2.15,
          2.58,
          3.12,
          4.62,
          5.25,
          6.12,
          7.11,
          8.2,
          9.41,
          10.83,
          12.08,
          13.39,
          15.17,
          16.78,
          18.08,
          19.33,
          20.2,
          21.29,
          21.75,
          22.23,
          22.79,
          23.52,
          24.46,
          25.37,
          26.35,
          27.26,
          28.46,
          29.55,
          29.92
         ],
         "line": {
          "color": "rgb(214, 39, 40)"
         },
         "lon": [
          0,
          1,
          2,
          3,
          4,
          5,
          6,
          7,
          8,
          9,
          10,
          11,
          12,
          13,
          14,
          15,
          16,
          17,
          18,
          19,
          20,
          21,
          22,
          23,
          24,
          25,
          26,
          27,
          28,
          29,
          30,
          31,
          32,
          33,
          34,
          35,
          36,
          37,
          38,
          39,
          40,
          41,
          42
         ],
         "mode": "lines",
         "name": "Cumulative sum<br>3176 stores total in 2006",
         "type": "scattergeo"
        }
       ],
       "layout": {
        "autosize": false,
        "geo": {
         "domain": {
          "x": [
           0,
           0.2
          ],
          "y": [
           0.8888888888888888,
           1
          ]
         },
         "landcolor": "rgb(229, 229, 229)",
         "scope": "usa",
         "showcountries": false,
         "showland": true,
         "subunitcolor": "rgb(255, 255, 255)"
        },
        "geo10": {
         "domain": {
          "x": [
           0.8,
           1
          ],
          "y": [
           0.7777777777777778,
           0.8888888888888888
          ]
         },
         "landcolor": "rgb(229, 229, 229)",
         "scope": "usa",
         "showcountries": false,
         "showland": true,
         "subunitcolor": "rgb(255, 255, 255)"
        },
        "geo11": {
         "domain": {
          "x": [
           0,
           0.2
          ],
          "y": [
           0.6666666666666666,
           0.7777777777777778
          ]
         },
         "landcolor": "rgb(229, 229, 229)",
         "scope": "usa",
         "showcountries": false,
         "showland": true,
         "subunitcolor": "rgb(255, 255, 255)"
        },
        "geo12": {
         "domain": {
          "x": [
           0.2,
           0.4
          ],
          "y": [
           0.6666666666666666,
           0.7777777777777778
          ]
         },
         "landcolor": "rgb(229, 229, 229)",
         "scope": "usa",
         "showcountries": false,
         "showland": true,
         "subunitcolor": "rgb(255, 255, 255)"
        },
        "geo13": {
         "domain": {
          "x": [
           0.4,
           0.6
          ],
          "y": [
           0.6666666666666666,
           0.7777777777777778
          ]
         },
         "landcolor": "rgb(229, 229, 229)",
         "scope": "usa",
         "showcountries": false,
         "showland": true,
         "subunitcolor": "rgb(255, 255, 255)"
        },
        "geo14": {
         "domain": {
          "x": [
           0.6,
           0.8
          ],
          "y": [
           0.6666666666666666,
           0.7777777777777778
          ]
         },
         "landcolor": "rgb(229, 229, 229)",
         "scope": "usa",
         "showcountries": false,
         "showland": true,
         "subunitcolor": "rgb(255, 255, 255)"
        },
        "geo15": {
         "domain": {
          "x": [
           0.8,
           1
          ],
          "y": [
           0.6666666666666666,
           0.7777777777777778
          ]
         },
         "landcolor": "rgb(229, 229, 229)",
         "scope": "usa",
         "showcountries": false,
         "showland": true,
         "subunitcolor": "rgb(255, 255, 255)"
        },
        "geo16": {
         "domain": {
          "x": [
           0,
           0.2
          ],
          "y": [
           0.5555555555555556,
           0.6666666666666666
          ]
         },
         "landcolor": "rgb(229, 229, 229)",
         "scope": "usa",
         "showcountries": false,
         "showland": true,
         "subunitcolor": "rgb(255, 255, 255)"
        },
        "geo17": {
         "domain": {
          "x": [
           0.2,
           0.4
          ],
          "y": [
           0.5555555555555556,
           0.6666666666666666
          ]
         },
         "landcolor": "rgb(229, 229, 229)",
         "scope": "usa",
         "showcountries": false,
         "showland": true,
         "subunitcolor": "rgb(255, 255, 255)"
        },
        "geo18": {
         "domain": {
          "x": [
           0.4,
           0.6
          ],
          "y": [
           0.5555555555555556,
           0.6666666666666666
          ]
         },
         "landcolor": "rgb(229, 229, 229)",
         "scope": "usa",
         "showcountries": false,
         "showland": true,
         "subunitcolor": "rgb(255, 255, 255)"
        },
        "geo19": {
         "domain": {
          "x": [
           0.6,
           0.8
          ],
          "y": [
           0.5555555555555556,
           0.6666666666666666
          ]
         },
         "landcolor": "rgb(229, 229, 229)",
         "scope": "usa",
         "showcountries": false,
         "showland": true,
         "subunitcolor": "rgb(255, 255, 255)"
        },
        "geo2": {
         "domain": {
          "x": [
           0.2,
           0.4
          ],
          "y": [
           0.8888888888888888,
           1
          ]
         },
         "landcolor": "rgb(229, 229, 229)",
         "scope": "usa",
         "showcountries": false,
         "showland": true,
         "subunitcolor": "rgb(255, 255, 255)"
        },
        "geo20": {
         "domain": {
          "x": [
           0.8,
           1
          ],
          "y": [
           0.5555555555555556,
           0.6666666666666666
          ]
         },
         "landcolor": "rgb(229, 229, 229)",
         "scope": "usa",
         "showcountries": false,
         "showland": true,
         "subunitcolor": "rgb(255, 255, 255)"
        },
        "geo21": {
         "domain": {
          "x": [
           0,
           0.2
          ],
          "y": [
           0.4444444444444444,
           0.5555555555555556
          ]
         },
         "landcolor": "rgb(229, 229, 229)",
         "scope": "usa",
         "showcountries": false,
         "showland": true,
         "subunitcolor": "rgb(255, 255, 255)"
        },
        "geo22": {
         "domain": {
          "x": [
           0.2,
           0.4
          ],
          "y": [
           0.4444444444444444,
           0.5555555555555556
          ]
         },
         "landcolor": "rgb(229, 229, 229)",
         "scope": "usa",
         "showcountries": false,
         "showland": true,
         "subunitcolor": "rgb(255, 255, 255)"
        },
        "geo23": {
         "domain": {
          "x": [
           0.4,
           0.6
          ],
          "y": [
           0.4444444444444444,
           0.5555555555555556
          ]
         },
         "landcolor": "rgb(229, 229, 229)",
         "scope": "usa",
         "showcountries": false,
         "showland": true,
         "subunitcolor": "rgb(255, 255, 255)"
        },
        "geo24": {
         "domain": {
          "x": [
           0.6,
           0.8
          ],
          "y": [
           0.4444444444444444,
           0.5555555555555556
          ]
         },
         "landcolor": "rgb(229, 229, 229)",
         "scope": "usa",
         "showcountries": false,
         "showland": true,
         "subunitcolor": "rgb(255, 255, 255)"
        },
        "geo25": {
         "domain": {
          "x": [
           0.8,
           1
          ],
          "y": [
           0.4444444444444444,
           0.5555555555555556
          ]
         },
         "landcolor": "rgb(229, 229, 229)",
         "scope": "usa",
         "showcountries": false,
         "showland": true,
         "subunitcolor": "rgb(255, 255, 255)"
        },
        "geo26": {
         "domain": {
          "x": [
           0,
           0.2
          ],
          "y": [
           0.3333333333333333,
           0.4444444444444444
          ]
         },
         "landcolor": "rgb(229, 229, 229)",
         "scope": "usa",
         "showcountries": false,
         "showland": true,
         "subunitcolor": "rgb(255, 255, 255)"
        },
        "geo27": {
         "domain": {
          "x": [
           0.2,
           0.4
          ],
          "y": [
           0.3333333333333333,
           0.4444444444444444
          ]
         },
         "landcolor": "rgb(229, 229, 229)",
         "scope": "usa",
         "showcountries": false,
         "showland": true,
         "subunitcolor": "rgb(255, 255, 255)"
        },
        "geo28": {
         "domain": {
          "x": [
           0.4,
           0.6
          ],
          "y": [
           0.3333333333333333,
           0.4444444444444444
          ]
         },
         "landcolor": "rgb(229, 229, 229)",
         "scope": "usa",
         "showcountries": false,
         "showland": true,
         "subunitcolor": "rgb(255, 255, 255)"
        },
        "geo29": {
         "domain": {
          "x": [
           0.6,
           0.8
          ],
          "y": [
           0.3333333333333333,
           0.4444444444444444
          ]
         },
         "landcolor": "rgb(229, 229, 229)",
         "scope": "usa",
         "showcountries": false,
         "showland": true,
         "subunitcolor": "rgb(255, 255, 255)"
        },
        "geo3": {
         "domain": {
          "x": [
           0.4,
           0.6
          ],
          "y": [
           0.8888888888888888,
           1
          ]
         },
         "landcolor": "rgb(229, 229, 229)",
         "scope": "usa",
         "showcountries": false,
         "showland": true,
         "subunitcolor": "rgb(255, 255, 255)"
        },
        "geo30": {
         "domain": {
          "x": [
           0.8,
           1
          ],
          "y": [
           0.3333333333333333,
           0.4444444444444444
          ]
         },
         "landcolor": "rgb(229, 229, 229)",
         "scope": "usa",
         "showcountries": false,
         "showland": true,
         "subunitcolor": "rgb(255, 255, 255)"
        },
        "geo31": {
         "domain": {
          "x": [
           0,
           0.2
          ],
          "y": [
           0.2222222222222222,
           0.3333333333333333
          ]
         },
         "landcolor": "rgb(229, 229, 229)",
         "scope": "usa",
         "showcountries": false,
         "showland": true,
         "subunitcolor": "rgb(255, 255, 255)"
        },
        "geo32": {
         "domain": {
          "x": [
           0.2,
           0.4
          ],
          "y": [
           0.2222222222222222,
           0.3333333333333333
          ]
         },
         "landcolor": "rgb(229, 229, 229)",
         "scope": "usa",
         "showcountries": false,
         "showland": true,
         "subunitcolor": "rgb(255, 255, 255)"
        },
        "geo33": {
         "domain": {
          "x": [
           0.4,
           0.6
          ],
          "y": [
           0.2222222222222222,
           0.3333333333333333
          ]
         },
         "landcolor": "rgb(229, 229, 229)",
         "scope": "usa",
         "showcountries": false,
         "showland": true,
         "subunitcolor": "rgb(255, 255, 255)"
        },
        "geo34": {
         "domain": {
          "x": [
           0.6,
           0.8
          ],
          "y": [
           0.2222222222222222,
           0.3333333333333333
          ]
         },
         "landcolor": "rgb(229, 229, 229)",
         "scope": "usa",
         "showcountries": false,
         "showland": true,
         "subunitcolor": "rgb(255, 255, 255)"
        },
        "geo35": {
         "domain": {
          "x": [
           0.8,
           1
          ],
          "y": [
           0.2222222222222222,
           0.3333333333333333
          ]
         },
         "landcolor": "rgb(229, 229, 229)",
         "scope": "usa",
         "showcountries": false,
         "showland": true,
         "subunitcolor": "rgb(255, 255, 255)"
        },
        "geo36": {
         "domain": {
          "x": [
           0,
           0.2
          ],
          "y": [
           0.1111111111111111,
           0.2222222222222222
          ]
         },
         "landcolor": "rgb(229, 229, 229)",
         "scope": "usa",
         "showcountries": false,
         "showland": true,
         "subunitcolor": "rgb(255, 255, 255)"
        },
        "geo37": {
         "domain": {
          "x": [
           0.2,
           0.4
          ],
          "y": [
           0.1111111111111111,
           0.2222222222222222
          ]
         },
         "landcolor": "rgb(229, 229, 229)",
         "scope": "usa",
         "showcountries": false,
         "showland": true,
         "subunitcolor": "rgb(255, 255, 255)"
        },
        "geo38": {
         "domain": {
          "x": [
           0.4,
           0.6
          ],
          "y": [
           0.1111111111111111,
           0.2222222222222222
          ]
         },
         "landcolor": "rgb(229, 229, 229)",
         "scope": "usa",
         "showcountries": false,
         "showland": true,
         "subunitcolor": "rgb(255, 255, 255)"
        },
        "geo39": {
         "domain": {
          "x": [
           0.6,
           0.8
          ],
          "y": [
           0.1111111111111111,
           0.2222222222222222
          ]
         },
         "landcolor": "rgb(229, 229, 229)",
         "scope": "usa",
         "showcountries": false,
         "showland": true,
         "subunitcolor": "rgb(255, 255, 255)"
        },
        "geo4": {
         "domain": {
          "x": [
           0.6,
           0.8
          ],
          "y": [
           0.8888888888888888,
           1
          ]
         },
         "landcolor": "rgb(229, 229, 229)",
         "scope": "usa",
         "showcountries": false,
         "showland": true,
         "subunitcolor": "rgb(255, 255, 255)"
        },
        "geo40": {
         "domain": {
          "x": [
           0.8,
           1
          ],
          "y": [
           0.1111111111111111,
           0.2222222222222222
          ]
         },
         "landcolor": "rgb(229, 229, 229)",
         "scope": "usa",
         "showcountries": false,
         "showland": true,
         "subunitcolor": "rgb(255, 255, 255)"
        },
        "geo41": {
         "domain": {
          "x": [
           0,
           0.2
          ],
          "y": [
           0,
           0.1111111111111111
          ]
         },
         "landcolor": "rgb(229, 229, 229)",
         "scope": "usa",
         "showcountries": false,
         "showland": true,
         "subunitcolor": "rgb(255, 255, 255)"
        },
        "geo42": {
         "domain": {
          "x": [
           0.2,
           0.4
          ],
          "y": [
           0,
           0.1111111111111111
          ]
         },
         "landcolor": "rgb(229, 229, 229)",
         "scope": "usa",
         "showcountries": false,
         "showland": true,
         "subunitcolor": "rgb(255, 255, 255)"
        },
        "geo43": {
         "domain": {
          "x": [
           0.4,
           0.6
          ],
          "y": [
           0,
           0.1111111111111111
          ]
         },
         "landcolor": "rgb(229, 229, 229)",
         "scope": "usa",
         "showcountries": false,
         "showland": true,
         "subunitcolor": "rgb(255, 255, 255)"
        },
        "geo44": {
         "bgcolor": "rgba(255,200,200,0.0)",
         "domain": {
          "x": [
           0.6,
           0.8
          ],
          "y": [
           0,
           0.15
          ]
         },
         "lataxis": {
          "range": [
           -5,
           30
          ]
         },
         "lonaxis": {
          "range": [
           0,
           40
          ]
         },
         "showcoastlines": false,
         "showcountries": false,
         "showframe": false,
         "showland": false
        },
        "geo45": {
         "bgcolor": "rgba(255,200,200,0.0)",
         "domain": {
          "x": [
           0.8,
           1
          ],
          "y": [
           0,
           0.15
          ]
         },
         "lataxis": {
          "range": [
           -5,
           50
          ]
         },
         "lonaxis": {
          "range": [
           0,
           50
          ]
         },
         "showcoastlines": false,
         "showcountries": false,
         "showframe": false,
         "showland": false
        },
        "geo5": {
         "domain": {
          "x": [
           0.8,
           1
          ],
          "y": [
           0.8888888888888888,
           1
          ]
         },
         "landcolor": "rgb(229, 229, 229)",
         "scope": "usa",
         "showcountries": false,
         "showland": true,
         "subunitcolor": "rgb(255, 255, 255)"
        },
        "geo6": {
         "domain": {
          "x": [
           0,
           0.2
          ],
          "y": [
           0.7777777777777778,
           0.8888888888888888
          ]
         },
         "landcolor": "rgb(229, 229, 229)",
         "scope": "usa",
         "showcountries": false,
         "showland": true,
         "subunitcolor": "rgb(255, 255, 255)"
        },
        "geo7": {
         "domain": {
          "x": [
           0.2,
           0.4
          ],
          "y": [
           0.7777777777777778,
           0.8888888888888888
          ]
         },
         "landcolor": "rgb(229, 229, 229)",
         "scope": "usa",
         "showcountries": false,
         "showland": true,
         "subunitcolor": "rgb(255, 255, 255)"
        },
        "geo8": {
         "domain": {
          "x": [
           0.4,
           0.6
          ],
          "y": [
           0.7777777777777778,
           0.8888888888888888
          ]
         },
         "landcolor": "rgb(229, 229, 229)",
         "scope": "usa",
         "showcountries": false,
         "showland": true,
         "subunitcolor": "rgb(255, 255, 255)"
        },
        "geo9": {
         "domain": {
          "x": [
           0.6,
           0.8
          ],
          "y": [
           0.7777777777777778,
           0.8888888888888888
          ]
         },
         "landcolor": "rgb(229, 229, 229)",
         "scope": "usa",
         "showcountries": false,
         "showland": true,
         "subunitcolor": "rgb(255, 255, 255)"
        },
        "height": 900,
        "hovermode": false,
        "legend": {
         "bgcolor": "rgba(255, 255, 255, 0)",
         "font": {
          "size": 11
         },
         "x": 0.7,
         "y": -0.1
        },
        "template": {
         "data": {
          "bar": [
           {
            "error_x": {
             "color": "#2a3f5f"
            },
            "error_y": {
             "color": "#2a3f5f"
            },
            "marker": {
             "line": {
              "color": "#E5ECF6",
              "width": 0.5
             },
             "pattern": {
              "fillmode": "overlay",
              "size": 10,
              "solidity": 0.2
             }
            },
            "type": "bar"
           }
          ],
          "barpolar": [
           {
            "marker": {
             "line": {
              "color": "#E5ECF6",
              "width": 0.5
             },
             "pattern": {
              "fillmode": "overlay",
              "size": 10,
              "solidity": 0.2
             }
            },
            "type": "barpolar"
           }
          ],
          "carpet": [
           {
            "aaxis": {
             "endlinecolor": "#2a3f5f",
             "gridcolor": "white",
             "linecolor": "white",
             "minorgridcolor": "white",
             "startlinecolor": "#2a3f5f"
            },
            "baxis": {
             "endlinecolor": "#2a3f5f",
             "gridcolor": "white",
             "linecolor": "white",
             "minorgridcolor": "white",
             "startlinecolor": "#2a3f5f"
            },
            "type": "carpet"
           }
          ],
          "choropleth": [
           {
            "colorbar": {
             "outlinewidth": 0,
             "ticks": ""
            },
            "type": "choropleth"
           }
          ],
          "contour": [
           {
            "colorbar": {
             "outlinewidth": 0,
             "ticks": ""
            },
            "colorscale": [
             [
              0,
              "#0d0887"
             ],
             [
              0.1111111111111111,
              "#46039f"
             ],
             [
              0.2222222222222222,
              "#7201a8"
             ],
             [
              0.3333333333333333,
              "#9c179e"
             ],
             [
              0.4444444444444444,
              "#bd3786"
             ],
             [
              0.5555555555555556,
              "#d8576b"
             ],
             [
              0.6666666666666666,
              "#ed7953"
             ],
             [
              0.7777777777777778,
              "#fb9f3a"
             ],
             [
              0.8888888888888888,
              "#fdca26"
             ],
             [
              1,
              "#f0f921"
             ]
            ],
            "type": "contour"
           }
          ],
          "contourcarpet": [
           {
            "colorbar": {
             "outlinewidth": 0,
             "ticks": ""
            },
            "type": "contourcarpet"
           }
          ],
          "heatmap": [
           {
            "colorbar": {
             "outlinewidth": 0,
             "ticks": ""
            },
            "colorscale": [
             [
              0,
              "#0d0887"
             ],
             [
              0.1111111111111111,
              "#46039f"
             ],
             [
              0.2222222222222222,
              "#7201a8"
             ],
             [
              0.3333333333333333,
              "#9c179e"
             ],
             [
              0.4444444444444444,
              "#bd3786"
             ],
             [
              0.5555555555555556,
              "#d8576b"
             ],
             [
              0.6666666666666666,
              "#ed7953"
             ],
             [
              0.7777777777777778,
              "#fb9f3a"
             ],
             [
              0.8888888888888888,
              "#fdca26"
             ],
             [
              1,
              "#f0f921"
             ]
            ],
            "type": "heatmap"
           }
          ],
          "heatmapgl": [
           {
            "colorbar": {
             "outlinewidth": 0,
             "ticks": ""
            },
            "colorscale": [
             [
              0,
              "#0d0887"
             ],
             [
              0.1111111111111111,
              "#46039f"
             ],
             [
              0.2222222222222222,
              "#7201a8"
             ],
             [
              0.3333333333333333,
              "#9c179e"
             ],
             [
              0.4444444444444444,
              "#bd3786"
             ],
             [
              0.5555555555555556,
              "#d8576b"
             ],
             [
              0.6666666666666666,
              "#ed7953"
             ],
             [
              0.7777777777777778,
              "#fb9f3a"
             ],
             [
              0.8888888888888888,
              "#fdca26"
             ],
             [
              1,
              "#f0f921"
             ]
            ],
            "type": "heatmapgl"
           }
          ],
          "histogram": [
           {
            "marker": {
             "pattern": {
              "fillmode": "overlay",
              "size": 10,
              "solidity": 0.2
             }
            },
            "type": "histogram"
           }
          ],
          "histogram2d": [
           {
            "colorbar": {
             "outlinewidth": 0,
             "ticks": ""
            },
            "colorscale": [
             [
              0,
              "#0d0887"
             ],
             [
              0.1111111111111111,
              "#46039f"
             ],
             [
              0.2222222222222222,
              "#7201a8"
             ],
             [
              0.3333333333333333,
              "#9c179e"
             ],
             [
              0.4444444444444444,
              "#bd3786"
             ],
             [
              0.5555555555555556,
              "#d8576b"
             ],
             [
              0.6666666666666666,
              "#ed7953"
             ],
             [
              0.7777777777777778,
              "#fb9f3a"
             ],
             [
              0.8888888888888888,
              "#fdca26"
             ],
             [
              1,
              "#f0f921"
             ]
            ],
            "type": "histogram2d"
           }
          ],
          "histogram2dcontour": [
           {
            "colorbar": {
             "outlinewidth": 0,
             "ticks": ""
            },
            "colorscale": [
             [
              0,
              "#0d0887"
             ],
             [
              0.1111111111111111,
              "#46039f"
             ],
             [
              0.2222222222222222,
              "#7201a8"
             ],
             [
              0.3333333333333333,
              "#9c179e"
             ],
             [
              0.4444444444444444,
              "#bd3786"
             ],
             [
              0.5555555555555556,
              "#d8576b"
             ],
             [
              0.6666666666666666,
              "#ed7953"
             ],
             [
              0.7777777777777778,
              "#fb9f3a"
             ],
             [
              0.8888888888888888,
              "#fdca26"
             ],
             [
              1,
              "#f0f921"
             ]
            ],
            "type": "histogram2dcontour"
           }
          ],
          "mesh3d": [
           {
            "colorbar": {
             "outlinewidth": 0,
             "ticks": ""
            },
            "type": "mesh3d"
           }
          ],
          "parcoords": [
           {
            "line": {
             "colorbar": {
              "outlinewidth": 0,
              "ticks": ""
             }
            },
            "type": "parcoords"
           }
          ],
          "pie": [
           {
            "automargin": true,
            "type": "pie"
           }
          ],
          "scatter": [
           {
            "fillpattern": {
             "fillmode": "overlay",
             "size": 10,
             "solidity": 0.2
            },
            "type": "scatter"
           }
          ],
          "scatter3d": [
           {
            "line": {
             "colorbar": {
              "outlinewidth": 0,
              "ticks": ""
             }
            },
            "marker": {
             "colorbar": {
              "outlinewidth": 0,
              "ticks": ""
             }
            },
            "type": "scatter3d"
           }
          ],
          "scattercarpet": [
           {
            "marker": {
             "colorbar": {
              "outlinewidth": 0,
              "ticks": ""
             }
            },
            "type": "scattercarpet"
           }
          ],
          "scattergeo": [
           {
            "marker": {
             "colorbar": {
              "outlinewidth": 0,
              "ticks": ""
             }
            },
            "type": "scattergeo"
           }
          ],
          "scattergl": [
           {
            "marker": {
             "colorbar": {
              "outlinewidth": 0,
              "ticks": ""
             }
            },
            "type": "scattergl"
           }
          ],
          "scattermapbox": [
           {
            "marker": {
             "colorbar": {
              "outlinewidth": 0,
              "ticks": ""
             }
            },
            "type": "scattermapbox"
           }
          ],
          "scatterpolar": [
           {
            "marker": {
             "colorbar": {
              "outlinewidth": 0,
              "ticks": ""
             }
            },
            "type": "scatterpolar"
           }
          ],
          "scatterpolargl": [
           {
            "marker": {
             "colorbar": {
              "outlinewidth": 0,
              "ticks": ""
             }
            },
            "type": "scatterpolargl"
           }
          ],
          "scatterternary": [
           {
            "marker": {
             "colorbar": {
              "outlinewidth": 0,
              "ticks": ""
             }
            },
            "type": "scatterternary"
           }
          ],
          "surface": [
           {
            "colorbar": {
             "outlinewidth": 0,
             "ticks": ""
            },
            "colorscale": [
             [
              0,
              "#0d0887"
             ],
             [
              0.1111111111111111,
              "#46039f"
             ],
             [
              0.2222222222222222,
              "#7201a8"
             ],
             [
              0.3333333333333333,
              "#9c179e"
             ],
             [
              0.4444444444444444,
              "#bd3786"
             ],
             [
              0.5555555555555556,
              "#d8576b"
             ],
             [
              0.6666666666666666,
              "#ed7953"
             ],
             [
              0.7777777777777778,
              "#fb9f3a"
             ],
             [
              0.8888888888888888,
              "#fdca26"
             ],
             [
              1,
              "#f0f921"
             ]
            ],
            "type": "surface"
           }
          ],
          "table": [
           {
            "cells": {
             "fill": {
              "color": "#EBF0F8"
             },
             "line": {
              "color": "white"
             }
            },
            "header": {
             "fill": {
              "color": "#C8D4E3"
             },
             "line": {
              "color": "white"
             }
            },
            "type": "table"
           }
          ]
         },
         "layout": {
          "annotationdefaults": {
           "arrowcolor": "#2a3f5f",
           "arrowhead": 0,
           "arrowwidth": 1
          },
          "autotypenumbers": "strict",
          "coloraxis": {
           "colorbar": {
            "outlinewidth": 0,
            "ticks": ""
           }
          },
          "colorscale": {
           "diverging": [
            [
             0,
             "#8e0152"
            ],
            [
             0.1,
             "#c51b7d"
            ],
            [
             0.2,
             "#de77ae"
            ],
            [
             0.3,
             "#f1b6da"
            ],
            [
             0.4,
             "#fde0ef"
            ],
            [
             0.5,
             "#f7f7f7"
            ],
            [
             0.6,
             "#e6f5d0"
            ],
            [
             0.7,
             "#b8e186"
            ],
            [
             0.8,
             "#7fbc41"
            ],
            [
             0.9,
             "#4d9221"
            ],
            [
             1,
             "#276419"
            ]
           ],
           "sequential": [
            [
             0,
             "#0d0887"
            ],
            [
             0.1111111111111111,
             "#46039f"
            ],
            [
             0.2222222222222222,
             "#7201a8"
            ],
            [
             0.3333333333333333,
             "#9c179e"
            ],
            [
             0.4444444444444444,
             "#bd3786"
            ],
            [
             0.5555555555555556,
             "#d8576b"
            ],
            [
             0.6666666666666666,
             "#ed7953"
            ],
            [
             0.7777777777777778,
             "#fb9f3a"
            ],
            [
             0.8888888888888888,
             "#fdca26"
            ],
            [
             1,
             "#f0f921"
            ]
           ],
           "sequentialminus": [
            [
             0,
             "#0d0887"
            ],
            [
             0.1111111111111111,
             "#46039f"
            ],
            [
             0.2222222222222222,
             "#7201a8"
            ],
            [
             0.3333333333333333,
             "#9c179e"
            ],
            [
             0.4444444444444444,
             "#bd3786"
            ],
            [
             0.5555555555555556,
             "#d8576b"
            ],
            [
             0.6666666666666666,
             "#ed7953"
            ],
            [
             0.7777777777777778,
             "#fb9f3a"
            ],
            [
             0.8888888888888888,
             "#fdca26"
            ],
            [
             1,
             "#f0f921"
            ]
           ]
          },
          "colorway": [
           "#636efa",
           "#EF553B",
           "#00cc96",
           "#ab63fa",
           "#FFA15A",
           "#19d3f3",
           "#FF6692",
           "#B6E880",
           "#FF97FF",
           "#FECB52"
          ],
          "font": {
           "color": "#2a3f5f"
          },
          "geo": {
           "bgcolor": "white",
           "lakecolor": "white",
           "landcolor": "#E5ECF6",
           "showlakes": true,
           "showland": true,
           "subunitcolor": "white"
          },
          "hoverlabel": {
           "align": "left"
          },
          "hovermode": "closest",
          "mapbox": {
           "style": "light"
          },
          "paper_bgcolor": "white",
          "plot_bgcolor": "#E5ECF6",
          "polar": {
           "angularaxis": {
            "gridcolor": "white",
            "linecolor": "white",
            "ticks": ""
           },
           "bgcolor": "#E5ECF6",
           "radialaxis": {
            "gridcolor": "white",
            "linecolor": "white",
            "ticks": ""
           }
          },
          "scene": {
           "xaxis": {
            "backgroundcolor": "#E5ECF6",
            "gridcolor": "white",
            "gridwidth": 2,
            "linecolor": "white",
            "showbackground": true,
            "ticks": "",
            "zerolinecolor": "white"
           },
           "yaxis": {
            "backgroundcolor": "#E5ECF6",
            "gridcolor": "white",
            "gridwidth": 2,
            "linecolor": "white",
            "showbackground": true,
            "ticks": "",
            "zerolinecolor": "white"
           },
           "zaxis": {
            "backgroundcolor": "#E5ECF6",
            "gridcolor": "white",
            "gridwidth": 2,
            "linecolor": "white",
            "showbackground": true,
            "ticks": "",
            "zerolinecolor": "white"
           }
          },
          "shapedefaults": {
           "line": {
            "color": "#2a3f5f"
           }
          },
          "ternary": {
           "aaxis": {
            "gridcolor": "white",
            "linecolor": "white",
            "ticks": ""
           },
           "baxis": {
            "gridcolor": "white",
            "linecolor": "white",
            "ticks": ""
           },
           "bgcolor": "#E5ECF6",
           "caxis": {
            "gridcolor": "white",
            "linecolor": "white",
            "ticks": ""
           }
          },
          "title": {
           "x": 0.05
          },
          "xaxis": {
           "automargin": true,
           "gridcolor": "white",
           "linecolor": "white",
           "ticks": "",
           "title": {
            "standoff": 15
           },
           "zerolinecolor": "white",
           "zerolinewidth": 2
          },
          "yaxis": {
           "automargin": true,
           "gridcolor": "white",
           "linecolor": "white",
           "ticks": "",
           "title": {
            "standoff": 15
           },
           "zerolinecolor": "white",
           "zerolinewidth": 2
          }
         }
        },
        "title": {
         "text": "New Walmart Stores per year 1962-2006<br>Source: <a href=\"http://www.econ.umn.edu/~holmes/data/WalMart/index.html\">University of Minnesota</a>"
        },
        "width": 800
       }
      }
     },
     "metadata": {},
     "output_type": "display_data"
    }
   ],
   "source": [
    "import plotly.graph_objects as go\n",
    "import pandas as pd\n",
    "df = pd.read_csv('https://raw.githubusercontent.com/plotly/datasets/master/1962_2006_walmart_store_openings.csv')\n",
    "df.head()\n",
    "\n",
    "data = []\n",
    "layout = dict(\n",
    "    title = 'New Walmart Stores per year 1962-2006<br>\\\n",
    "Source: <a href=\"http://www.econ.umn.edu/~holmes/data/WalMart/index.html\">\\\n",
    "University of Minnesota</a>',\n",
    "    # showlegend = False,\n",
    "    autosize = False,\n",
    "    width = 1000,\n",
    "    height = 900,\n",
    "    hovermode = False,\n",
    "    legend = dict(\n",
    "        x=0.7,\n",
    "        y=-0.1,\n",
    "        bgcolor=\"rgba(255, 255, 255, 0)\",\n",
    "        font = dict( size=11 ),\n",
    "    )\n",
    ")\n",
    "years = df['YEAR'].unique()\n",
    "\n",
    "for i in range(len(years)):\n",
    "    geo_key = 'geo'+str(i+1) if i != 0 else 'geo'\n",
    "    lons = list(df[ df['YEAR'] == years[i] ]['LON'])\n",
    "    lats = list(df[ df['YEAR'] == years[i] ]['LAT'])\n",
    "    # Walmart store data\n",
    "    data.append(\n",
    "        dict(\n",
    "            type = 'scattergeo',\n",
    "            showlegend=False,\n",
    "            lon = lons,\n",
    "            lat = lats,\n",
    "            geo = geo_key,\n",
    "            name = int(years[i]),\n",
    "            marker = dict(\n",
    "                color = \"rgb(0, 0, 255)\",\n",
    "                opacity = 0.5\n",
    "            )\n",
    "        )\n",
    "    )\n",
    "    # Year markers\n",
    "    data.append(\n",
    "        dict(\n",
    "            type = 'scattergeo',\n",
    "            showlegend = False,\n",
    "            lon = [-77],\n",
    "            lat = [40],\n",
    "            geo = geo_key,\n",
    "            text = [years[i]],\n",
    "            mode = 'text',\n",
    "        )\n",
    "    )\n",
    "    layout[geo_key] = dict(\n",
    "        scope = 'usa',\n",
    "        showland = True,\n",
    "        landcolor = 'rgb(229, 229, 229)',\n",
    "        showcountries = False,\n",
    "        domain = dict( x = [], y = [] ),\n",
    "        subunitcolor = \"rgb(255, 255, 255)\",\n",
    "    )\n",
    "\n",
    "\n",
    "def draw_sparkline( domain, lataxis, lonaxis ):\n",
    "    ''' Returns a sparkline layout object for geo coordinates  '''\n",
    "    return dict(\n",
    "        showland = False,\n",
    "        showframe = False,\n",
    "        showcountries = False,\n",
    "        showcoastlines = False,\n",
    "        domain = domain,\n",
    "        lataxis = lataxis,\n",
    "        lonaxis = lonaxis,\n",
    "        bgcolor = 'rgba(255,200,200,0.0)'\n",
    "    )\n",
    "\n",
    "# Stores per year sparkline\n",
    "layout['geo44'] = draw_sparkline({'x':[0.6,0.8], 'y':[0,0.15]}, \\\n",
    "                                 {'range':[-5.0, 30.0]}, {'range':[0.0, 40.0]} )\n",
    "data.append(\n",
    "    dict(\n",
    "        type = 'scattergeo',\n",
    "        mode = 'lines',\n",
    "        lat = list(df.groupby(by=['YEAR']).count()['storenum']/1e1),\n",
    "        lon = list(range(len(df.groupby(by=['YEAR']).count()['storenum']/1e1))),\n",
    "        line = dict( color = \"rgb(0, 0, 255)\" ),\n",
    "        name = \"New stores per year<br>Peak of 178 stores per year in 1990\",\n",
    "        geo = 'geo44',\n",
    "    )\n",
    ")\n",
    "\n",
    "# Cumulative sum sparkline\n",
    "layout['geo45'] = draw_sparkline({'x':[0.8,1], 'y':[0,0.15]}, \\\n",
    "                                 {'range':[-5.0, 50.0]}, {'range':[0.0, 50.0]} )\n",
    "data.append(\n",
    "    dict(\n",
    "        type = 'scattergeo',\n",
    "        mode = 'lines',\n",
    "        lat = list(df.groupby(by=['YEAR']).count().cumsum()['storenum']/1e2),\n",
    "        lon = list(range(len(df.groupby(by=['YEAR']).count()['storenum']/1e1))),\n",
    "        line = dict( color = \"rgb(214, 39, 40)\" ),\n",
    "        name =\"Cumulative sum<br>3176 stores total in 2006\",\n",
    "        geo = 'geo45',\n",
    "    )\n",
    ")\n",
    "\n",
    "z = 0\n",
    "COLS = 5\n",
    "ROWS = 9\n",
    "for y in reversed(range(ROWS)):\n",
    "    for x in range(COLS):\n",
    "        geo_key = 'geo'+str(z+1) if z != 0 else 'geo'\n",
    "        layout[geo_key]['domain']['x'] = [float(x)/float(COLS), float(x+1)/float(COLS)]\n",
    "        layout[geo_key]['domain']['y'] = [float(y)/float(ROWS), float(y+1)/float(ROWS)]\n",
    "        z=z+1\n",
    "        if z > 42:\n",
    "            break\n",
    "\n",
    "fig = go.Figure(data=data, layout=layout)\n",
    "fig.update_layout(width=800)\n",
    "fig.show()"
   ]
  }
 ],
 "metadata": {
  "kernelspec": {
   "display_name": ".venv",
   "language": "python",
   "name": "python3"
  },
  "language_info": {
   "codemirror_mode": {
    "name": "ipython",
    "version": 3
   },
   "file_extension": ".py",
   "mimetype": "text/x-python",
   "name": "python",
   "nbconvert_exporter": "python",
   "pygments_lexer": "ipython3",
   "version": "3.12.4"
  }
 },
 "nbformat": 4,
 "nbformat_minor": 2
}
