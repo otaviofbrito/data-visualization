{
 "cells": [
  {
   "cell_type": "code",
   "execution_count": 3,
   "metadata": {},
   "outputs": [],
   "source": [
    "import mysql.connector\n",
    "import pandas as pd\n",
    "import plotly.express as px\n",
    "import networkx as nx\n",
    "import plotly.graph_objects as go"
   ]
  },
  {
   "cell_type": "code",
   "execution_count": 13,
   "metadata": {},
   "outputs": [
    {
     "name": "stderr",
     "output_type": "stream",
     "text": [
      "/tmp/ipykernel_7018/1131068434.py:31: UserWarning:\n",
      "\n",
      "pandas only supports SQLAlchemy connectable (engine/connection) or database string URI or sqlite3 DBAPI2 connection. Other DBAPI2 objects are not tested. Please consider using SQLAlchemy.\n",
      "\n",
      "/tmp/ipykernel_7018/1131068434.py:33: UserWarning:\n",
      "\n",
      "pandas only supports SQLAlchemy connectable (engine/connection) or database string URI or sqlite3 DBAPI2 connection. Other DBAPI2 objects are not tested. Please consider using SQLAlchemy.\n",
      "\n"
     ]
    }
   ],
   "source": [
    "\n",
    "connection = mysql.connector.connect(\n",
    "    host='localhost',\n",
    "    user='user',\n",
    "    password='user',\n",
    "    database='tm_db',\n",
    "    port=3307\n",
    ")\n",
    "\n",
    "query = \"\"\"\n",
    "SELECT p.name, t.year, t.transfer_fee, t.transfer_type,\n",
    " c1.country AS country_left,\n",
    " c2.country AS country_joined\n",
    "FROM transfers t\n",
    "JOIN (SELECT clubs.id, cts.country FROM clubs\n",
    "\t\tJOIN (SELECT l.id, c.country FROM leagues l\n",
    "\t\t\t\tJOIN countries c\n",
    "                ON l.country_id = c.country) cts\n",
    "\t\tON clubs.id_current_league = cts.id) c1\n",
    "ON left_club_id = c1.id\n",
    "JOIN (SELECT clubs.id, cts.country FROM clubs\n",
    "\t\tJOIN (SELECT l.id, c.country FROM leagues l\n",
    "\t\t\t\tJOIN countries c\n",
    "                ON l.country_id = c.country) cts\n",
    "\t\tON clubs.id_current_league = cts.id) c2\n",
    "ON joined_club_id = c2.id\n",
    "JOIN players p\n",
    "ON player_id = p.id\n",
    "WHERE t.year >= 2005 AND t.year <= 2025;\n",
    "\"\"\"\n",
    "\n",
    "df = pd.read_sql(query, connection)\n",
    "\n",
    "country_coords = pd.read_sql(\n",
    "    \"SELECT country, latitude AS lat, longitude AS lon, name FROM tm_db.countries;\", connection)\n",
    "\n",
    "connection.close()\n",
    "\n",
    "country_coords.set_index('country', inplace=True)\n",
    "\n",
    "years = df['year'].unique()\n",
    "years = sorted(years)\n"
   ]
  },
  {
   "cell_type": "code",
   "execution_count": 4,
   "metadata": {},
   "outputs": [
    {
     "data": {
      "application/vnd.plotly.v1+json": {
       "config": {
        "plotlyServerURL": "https://plot.ly"
       },
       "data": [
        {
         "domain": {
          "x": [
           0,
           1
          ],
          "y": [
           0,
           1
          ]
         },
         "hovertemplate": "country=%{label}<br>qt=%{value}<extra></extra>",
         "labels": [
          "Germany",
          "Netherlands",
          "Russia",
          "Austria",
          "Other countries",
          "Belgium",
          "Other countries",
          "Other countries",
          "Other countries",
          "Other countries",
          "Argentina",
          "Other countries",
          "Other countries",
          "Other countries",
          "Brazil",
          "Other countries",
          "Bosnia-Herzegovina",
          "Other countries",
          "Switzerland",
          "Colombia",
          "France",
          "Other countries",
          "China",
          "Other countries",
          "England",
          "Other countries",
          "Other countries",
          "Czech Republic",
          "Denmark",
          "Other countries",
          "Spain",
          "Other countries",
          "Estonia",
          "Other countries",
          "Faroe Islands",
          "Finland",
          "Other countries",
          "Other countries",
          "Other countries",
          "Other countries",
          "Other countries",
          "Other countries",
          "Other countries",
          "Japan",
          "Other countries",
          "Italy",
          "Other countries",
          "Other countries",
          "Other countries",
          "Other countries",
          "Other countries",
          "Other countries",
          "Other countries",
          "Other countries",
          "Other countries",
          "Other countries",
          "Other countries",
          "Other countries",
          "Other countries",
          "Other countries",
          "Other countries",
          "Other countries",
          "Mexico",
          "Other countries",
          "Other countries",
          "Other countries",
          "United States",
          "Other countries",
          "Other countries",
          "Other countries",
          "Other countries",
          "Other countries",
          "Other countries",
          "Other countries",
          "Other countries",
          "Norway",
          "Other countries",
          "Other countries",
          "Other countries",
          "Other countries",
          "Poland",
          "Other countries",
          "Other countries",
          "Other countries",
          "Other countries",
          "Other countries",
          "Other countries",
          "Scotland",
          "Other countries",
          "Other countries",
          "Other countries",
          "Other countries",
          "Other countries",
          "Other countries",
          "Other countries",
          "Other countries",
          "Türkiye",
          "Other countries",
          "Other countries",
          "Other countries",
          "Other countries",
          "Other countries",
          "Other countries",
          "Other countries",
          "Other countries",
          "Uruguay",
          "Other countries",
          "Other countries",
          "Other countries",
          "Other countries",
          "Other countries"
         ],
         "legendgroup": "",
         "name": "",
         "showlegend": true,
         "type": "pie",
         "values": [
          73,
          7,
          9,
          16,
          3,
          7,
          2,
          1,
          1,
          2,
          7,
          2,
          1,
          2,
          9,
          1,
          5,
          2,
          12,
          7,
          20,
          1,
          8,
          2,
          9,
          2,
          2,
          5,
          5,
          1,
          9,
          3,
          8,
          1,
          5,
          14,
          1,
          2,
          1,
          1,
          3,
          1,
          3,
          21,
          1,
          20,
          2,
          2,
          2,
          3,
          3,
          2,
          1,
          4,
          3,
          1,
          1,
          2,
          2,
          1,
          1,
          2,
          5,
          2,
          1,
          1,
          5,
          2,
          1,
          1,
          1,
          1,
          1,
          3,
          4,
          10,
          1,
          1,
          3,
          1,
          8,
          2,
          4,
          2,
          1,
          2,
          2,
          7,
          4,
          2,
          1,
          1,
          3,
          3,
          1,
          1,
          9,
          1,
          2,
          2,
          1,
          3,
          1,
          1,
          2,
          5,
          2,
          1,
          2,
          3,
          2
         ]
        }
       ],
       "layout": {
        "legend": {
         "tracegroupgap": 0
        },
        "template": {
         "data": {
          "bar": [
           {
            "error_x": {
             "color": "#2a3f5f"
            },
            "error_y": {
             "color": "#2a3f5f"
            },
            "marker": {
             "line": {
              "color": "#E5ECF6",
              "width": 0.5
             },
             "pattern": {
              "fillmode": "overlay",
              "size": 10,
              "solidity": 0.2
             }
            },
            "type": "bar"
           }
          ],
          "barpolar": [
           {
            "marker": {
             "line": {
              "color": "#E5ECF6",
              "width": 0.5
             },
             "pattern": {
              "fillmode": "overlay",
              "size": 10,
              "solidity": 0.2
             }
            },
            "type": "barpolar"
           }
          ],
          "carpet": [
           {
            "aaxis": {
             "endlinecolor": "#2a3f5f",
             "gridcolor": "white",
             "linecolor": "white",
             "minorgridcolor": "white",
             "startlinecolor": "#2a3f5f"
            },
            "baxis": {
             "endlinecolor": "#2a3f5f",
             "gridcolor": "white",
             "linecolor": "white",
             "minorgridcolor": "white",
             "startlinecolor": "#2a3f5f"
            },
            "type": "carpet"
           }
          ],
          "choropleth": [
           {
            "colorbar": {
             "outlinewidth": 0,
             "ticks": ""
            },
            "type": "choropleth"
           }
          ],
          "contour": [
           {
            "colorbar": {
             "outlinewidth": 0,
             "ticks": ""
            },
            "colorscale": [
             [
              0,
              "#0d0887"
             ],
             [
              0.1111111111111111,
              "#46039f"
             ],
             [
              0.2222222222222222,
              "#7201a8"
             ],
             [
              0.3333333333333333,
              "#9c179e"
             ],
             [
              0.4444444444444444,
              "#bd3786"
             ],
             [
              0.5555555555555556,
              "#d8576b"
             ],
             [
              0.6666666666666666,
              "#ed7953"
             ],
             [
              0.7777777777777778,
              "#fb9f3a"
             ],
             [
              0.8888888888888888,
              "#fdca26"
             ],
             [
              1,
              "#f0f921"
             ]
            ],
            "type": "contour"
           }
          ],
          "contourcarpet": [
           {
            "colorbar": {
             "outlinewidth": 0,
             "ticks": ""
            },
            "type": "contourcarpet"
           }
          ],
          "heatmap": [
           {
            "colorbar": {
             "outlinewidth": 0,
             "ticks": ""
            },
            "colorscale": [
             [
              0,
              "#0d0887"
             ],
             [
              0.1111111111111111,
              "#46039f"
             ],
             [
              0.2222222222222222,
              "#7201a8"
             ],
             [
              0.3333333333333333,
              "#9c179e"
             ],
             [
              0.4444444444444444,
              "#bd3786"
             ],
             [
              0.5555555555555556,
              "#d8576b"
             ],
             [
              0.6666666666666666,
              "#ed7953"
             ],
             [
              0.7777777777777778,
              "#fb9f3a"
             ],
             [
              0.8888888888888888,
              "#fdca26"
             ],
             [
              1,
              "#f0f921"
             ]
            ],
            "type": "heatmap"
           }
          ],
          "heatmapgl": [
           {
            "colorbar": {
             "outlinewidth": 0,
             "ticks": ""
            },
            "colorscale": [
             [
              0,
              "#0d0887"
             ],
             [
              0.1111111111111111,
              "#46039f"
             ],
             [
              0.2222222222222222,
              "#7201a8"
             ],
             [
              0.3333333333333333,
              "#9c179e"
             ],
             [
              0.4444444444444444,
              "#bd3786"
             ],
             [
              0.5555555555555556,
              "#d8576b"
             ],
             [
              0.6666666666666666,
              "#ed7953"
             ],
             [
              0.7777777777777778,
              "#fb9f3a"
             ],
             [
              0.8888888888888888,
              "#fdca26"
             ],
             [
              1,
              "#f0f921"
             ]
            ],
            "type": "heatmapgl"
           }
          ],
          "histogram": [
           {
            "marker": {
             "pattern": {
              "fillmode": "overlay",
              "size": 10,
              "solidity": 0.2
             }
            },
            "type": "histogram"
           }
          ],
          "histogram2d": [
           {
            "colorbar": {
             "outlinewidth": 0,
             "ticks": ""
            },
            "colorscale": [
             [
              0,
              "#0d0887"
             ],
             [
              0.1111111111111111,
              "#46039f"
             ],
             [
              0.2222222222222222,
              "#7201a8"
             ],
             [
              0.3333333333333333,
              "#9c179e"
             ],
             [
              0.4444444444444444,
              "#bd3786"
             ],
             [
              0.5555555555555556,
              "#d8576b"
             ],
             [
              0.6666666666666666,
              "#ed7953"
             ],
             [
              0.7777777777777778,
              "#fb9f3a"
             ],
             [
              0.8888888888888888,
              "#fdca26"
             ],
             [
              1,
              "#f0f921"
             ]
            ],
            "type": "histogram2d"
           }
          ],
          "histogram2dcontour": [
           {
            "colorbar": {
             "outlinewidth": 0,
             "ticks": ""
            },
            "colorscale": [
             [
              0,
              "#0d0887"
             ],
             [
              0.1111111111111111,
              "#46039f"
             ],
             [
              0.2222222222222222,
              "#7201a8"
             ],
             [
              0.3333333333333333,
              "#9c179e"
             ],
             [
              0.4444444444444444,
              "#bd3786"
             ],
             [
              0.5555555555555556,
              "#d8576b"
             ],
             [
              0.6666666666666666,
              "#ed7953"
             ],
             [
              0.7777777777777778,
              "#fb9f3a"
             ],
             [
              0.8888888888888888,
              "#fdca26"
             ],
             [
              1,
              "#f0f921"
             ]
            ],
            "type": "histogram2dcontour"
           }
          ],
          "mesh3d": [
           {
            "colorbar": {
             "outlinewidth": 0,
             "ticks": ""
            },
            "type": "mesh3d"
           }
          ],
          "parcoords": [
           {
            "line": {
             "colorbar": {
              "outlinewidth": 0,
              "ticks": ""
             }
            },
            "type": "parcoords"
           }
          ],
          "pie": [
           {
            "automargin": true,
            "type": "pie"
           }
          ],
          "scatter": [
           {
            "fillpattern": {
             "fillmode": "overlay",
             "size": 10,
             "solidity": 0.2
            },
            "type": "scatter"
           }
          ],
          "scatter3d": [
           {
            "line": {
             "colorbar": {
              "outlinewidth": 0,
              "ticks": ""
             }
            },
            "marker": {
             "colorbar": {
              "outlinewidth": 0,
              "ticks": ""
             }
            },
            "type": "scatter3d"
           }
          ],
          "scattercarpet": [
           {
            "marker": {
             "colorbar": {
              "outlinewidth": 0,
              "ticks": ""
             }
            },
            "type": "scattercarpet"
           }
          ],
          "scattergeo": [
           {
            "marker": {
             "colorbar": {
              "outlinewidth": 0,
              "ticks": ""
             }
            },
            "type": "scattergeo"
           }
          ],
          "scattergl": [
           {
            "marker": {
             "colorbar": {
              "outlinewidth": 0,
              "ticks": ""
             }
            },
            "type": "scattergl"
           }
          ],
          "scattermapbox": [
           {
            "marker": {
             "colorbar": {
              "outlinewidth": 0,
              "ticks": ""
             }
            },
            "type": "scattermapbox"
           }
          ],
          "scatterpolar": [
           {
            "marker": {
             "colorbar": {
              "outlinewidth": 0,
              "ticks": ""
             }
            },
            "type": "scatterpolar"
           }
          ],
          "scatterpolargl": [
           {
            "marker": {
             "colorbar": {
              "outlinewidth": 0,
              "ticks": ""
             }
            },
            "type": "scatterpolargl"
           }
          ],
          "scatterternary": [
           {
            "marker": {
             "colorbar": {
              "outlinewidth": 0,
              "ticks": ""
             }
            },
            "type": "scatterternary"
           }
          ],
          "surface": [
           {
            "colorbar": {
             "outlinewidth": 0,
             "ticks": ""
            },
            "colorscale": [
             [
              0,
              "#0d0887"
             ],
             [
              0.1111111111111111,
              "#46039f"
             ],
             [
              0.2222222222222222,
              "#7201a8"
             ],
             [
              0.3333333333333333,
              "#9c179e"
             ],
             [
              0.4444444444444444,
              "#bd3786"
             ],
             [
              0.5555555555555556,
              "#d8576b"
             ],
             [
              0.6666666666666666,
              "#ed7953"
             ],
             [
              0.7777777777777778,
              "#fb9f3a"
             ],
             [
              0.8888888888888888,
              "#fdca26"
             ],
             [
              1,
              "#f0f921"
             ]
            ],
            "type": "surface"
           }
          ],
          "table": [
           {
            "cells": {
             "fill": {
              "color": "#EBF0F8"
             },
             "line": {
              "color": "white"
             }
            },
            "header": {
             "fill": {
              "color": "#C8D4E3"
             },
             "line": {
              "color": "white"
             }
            },
            "type": "table"
           }
          ]
         },
         "layout": {
          "annotationdefaults": {
           "arrowcolor": "#2a3f5f",
           "arrowhead": 0,
           "arrowwidth": 1
          },
          "autotypenumbers": "strict",
          "coloraxis": {
           "colorbar": {
            "outlinewidth": 0,
            "ticks": ""
           }
          },
          "colorscale": {
           "diverging": [
            [
             0,
             "#8e0152"
            ],
            [
             0.1,
             "#c51b7d"
            ],
            [
             0.2,
             "#de77ae"
            ],
            [
             0.3,
             "#f1b6da"
            ],
            [
             0.4,
             "#fde0ef"
            ],
            [
             0.5,
             "#f7f7f7"
            ],
            [
             0.6,
             "#e6f5d0"
            ],
            [
             0.7,
             "#b8e186"
            ],
            [
             0.8,
             "#7fbc41"
            ],
            [
             0.9,
             "#4d9221"
            ],
            [
             1,
             "#276419"
            ]
           ],
           "sequential": [
            [
             0,
             "#0d0887"
            ],
            [
             0.1111111111111111,
             "#46039f"
            ],
            [
             0.2222222222222222,
             "#7201a8"
            ],
            [
             0.3333333333333333,
             "#9c179e"
            ],
            [
             0.4444444444444444,
             "#bd3786"
            ],
            [
             0.5555555555555556,
             "#d8576b"
            ],
            [
             0.6666666666666666,
             "#ed7953"
            ],
            [
             0.7777777777777778,
             "#fb9f3a"
            ],
            [
             0.8888888888888888,
             "#fdca26"
            ],
            [
             1,
             "#f0f921"
            ]
           ],
           "sequentialminus": [
            [
             0,
             "#0d0887"
            ],
            [
             0.1111111111111111,
             "#46039f"
            ],
            [
             0.2222222222222222,
             "#7201a8"
            ],
            [
             0.3333333333333333,
             "#9c179e"
            ],
            [
             0.4444444444444444,
             "#bd3786"
            ],
            [
             0.5555555555555556,
             "#d8576b"
            ],
            [
             0.6666666666666666,
             "#ed7953"
            ],
            [
             0.7777777777777778,
             "#fb9f3a"
            ],
            [
             0.8888888888888888,
             "#fdca26"
            ],
            [
             1,
             "#f0f921"
            ]
           ]
          },
          "colorway": [
           "#636efa",
           "#EF553B",
           "#00cc96",
           "#ab63fa",
           "#FFA15A",
           "#19d3f3",
           "#FF6692",
           "#B6E880",
           "#FF97FF",
           "#FECB52"
          ],
          "font": {
           "color": "#2a3f5f"
          },
          "geo": {
           "bgcolor": "white",
           "lakecolor": "white",
           "landcolor": "#E5ECF6",
           "showlakes": true,
           "showland": true,
           "subunitcolor": "white"
          },
          "hoverlabel": {
           "align": "left"
          },
          "hovermode": "closest",
          "mapbox": {
           "style": "light"
          },
          "paper_bgcolor": "white",
          "plot_bgcolor": "#E5ECF6",
          "polar": {
           "angularaxis": {
            "gridcolor": "white",
            "linecolor": "white",
            "ticks": ""
           },
           "bgcolor": "#E5ECF6",
           "radialaxis": {
            "gridcolor": "white",
            "linecolor": "white",
            "ticks": ""
           }
          },
          "scene": {
           "xaxis": {
            "backgroundcolor": "#E5ECF6",
            "gridcolor": "white",
            "gridwidth": 2,
            "linecolor": "white",
            "showbackground": true,
            "ticks": "",
            "zerolinecolor": "white"
           },
           "yaxis": {
            "backgroundcolor": "#E5ECF6",
            "gridcolor": "white",
            "gridwidth": 2,
            "linecolor": "white",
            "showbackground": true,
            "ticks": "",
            "zerolinecolor": "white"
           },
           "zaxis": {
            "backgroundcolor": "#E5ECF6",
            "gridcolor": "white",
            "gridwidth": 2,
            "linecolor": "white",
            "showbackground": true,
            "ticks": "",
            "zerolinecolor": "white"
           }
          },
          "shapedefaults": {
           "line": {
            "color": "#2a3f5f"
           }
          },
          "ternary": {
           "aaxis": {
            "gridcolor": "white",
            "linecolor": "white",
            "ticks": ""
           },
           "baxis": {
            "gridcolor": "white",
            "linecolor": "white",
            "ticks": ""
           },
           "bgcolor": "#E5ECF6",
           "caxis": {
            "gridcolor": "white",
            "linecolor": "white",
            "ticks": ""
           }
          },
          "title": {
           "x": 0.05
          },
          "xaxis": {
           "automargin": true,
           "gridcolor": "white",
           "linecolor": "white",
           "ticks": "",
           "title": {
            "standoff": 15
           },
           "zerolinecolor": "white",
           "zerolinewidth": 2
          },
          "yaxis": {
           "automargin": true,
           "gridcolor": "white",
           "linecolor": "white",
           "ticks": "",
           "title": {
            "standoff": 15
           },
           "zerolinecolor": "white",
           "zerolinewidth": 2
          }
         }
        },
        "title": {
         "text": "Leagues"
        }
       }
      }
     },
     "metadata": {},
     "output_type": "display_data"
    }
   ],
   "source": [
    "df.loc[df['qt'] < 5, 'country'] = 'Other countries'\n",
    "\n",
    "fig = px.pie(df, values='qt', names='country', title='Leagues')\n",
    "fig.show()"
   ]
  },
  {
   "cell_type": "code",
   "execution_count": 9,
   "metadata": {},
   "outputs": [],
   "source": [
    "G = nx.DiGraph()\n",
    "for _, row in df.iterrows():\n",
    "    origin = row['country_left']\n",
    "    destination = row['country_joined']\n",
    "    G.add_edge(origin, destination, weight=1)\n",
    "        "
   ]
  },
  {
   "cell_type": "code",
   "execution_count": 10,
   "metadata": {},
   "outputs": [
    {
     "data": {
      "application/vnd.plotly.v1+json": {
       "config": {
        "plotlyServerURL": "https://plot.ly"
       },
       "data": [
        {
         "lat": [
          51.165691,
          51.165691
         ],
         "line": {
          "color": "blue",
          "width": 1
         },
         "locationmode": "ISO-3",
         "lon": [
          10.451526,
          10.451526
         ],
         "mode": "lines",
         "opacity": 0.6,
         "type": "scattergeo"
        },
        {
         "lat": [
          51.165691,
          47.516231
         ],
         "line": {
          "color": "blue",
          "width": 1
         },
         "locationmode": "ISO-3",
         "lon": [
          10.451526,
          14.550072
         ],
         "mode": "lines",
         "opacity": 0.6,
         "type": "scattergeo"
        },
        {
         "lat": [
          51.165691,
          39.074208
         ],
         "line": {
          "color": "blue",
          "width": 1
         },
         "locationmode": "ISO-3",
         "lon": [
          10.451526,
          21.824312
         ],
         "mode": "lines",
         "opacity": 0.6,
         "type": "scattergeo"
        },
        {
         "lat": [
          51.165691,
          40.463667
         ],
         "line": {
          "color": "blue",
          "width": 1
         },
         "locationmode": "ISO-3",
         "lon": [
          10.451526,
          -3.74922
         ],
         "mode": "lines",
         "opacity": 0.6,
         "type": "scattergeo"
        },
        {
         "lat": [
          51.165691,
          52.132633
         ],
         "line": {
          "color": "blue",
          "width": 1
         },
         "locationmode": "ISO-3",
         "lon": [
          10.451526,
          5.291266
         ],
         "mode": "lines",
         "opacity": 0.6,
         "type": "scattergeo"
        },
        {
         "lat": [
          51.165691,
          41.87194
         ],
         "line": {
          "color": "blue",
          "width": 1
         },
         "locationmode": "ISO-3",
         "lon": [
          10.451526,
          12.56738
         ],
         "mode": "lines",
         "opacity": 0.6,
         "type": "scattergeo"
        },
        {
         "lat": [
          51.165691,
          45.1
         ],
         "line": {
          "color": "blue",
          "width": 1
         },
         "locationmode": "ISO-3",
         "lon": [
          10.451526,
          15.2
         ],
         "mode": "lines",
         "opacity": 0.6,
         "type": "scattergeo"
        },
        {
         "lat": [
          51.165691,
          36.204824
         ],
         "line": {
          "color": "blue",
          "width": 1
         },
         "locationmode": "ISO-3",
         "lon": [
          10.451526,
          138.252924
         ],
         "mode": "lines",
         "opacity": 0.6,
         "type": "scattergeo"
        },
        {
         "lat": [
          51.165691,
          61.52401
         ],
         "line": {
          "color": "blue",
          "width": 1
         },
         "locationmode": "ISO-3",
         "lon": [
          10.451526,
          105.318756
         ],
         "mode": "lines",
         "opacity": 0.6,
         "type": "scattergeo"
        },
        {
         "lat": [
          51.165691,
          -14.235004
         ],
         "line": {
          "color": "blue",
          "width": 1
         },
         "locationmode": "ISO-3",
         "lon": [
          10.451526,
          -51.92528
         ],
         "mode": "lines",
         "opacity": 0.6,
         "type": "scattergeo"
        },
        {
         "lat": [
          51.165691,
          50.503887
         ],
         "line": {
          "color": "blue",
          "width": 1
         },
         "locationmode": "ISO-3",
         "lon": [
          10.451526,
          4.469936
         ],
         "mode": "lines",
         "opacity": 0.6,
         "type": "scattergeo"
        },
        {
         "lat": [
          51.165691,
          35.86166
         ],
         "line": {
          "color": "blue",
          "width": 1
         },
         "locationmode": "ISO-3",
         "lon": [
          10.451526,
          104.195397
         ],
         "mode": "lines",
         "opacity": 0.6,
         "type": "scattergeo"
        },
        {
         "lat": [
          51.165691,
          56.26392
         ],
         "line": {
          "color": "blue",
          "width": 1
         },
         "locationmode": "ISO-3",
         "lon": [
          10.451526,
          9.501785
         ],
         "mode": "lines",
         "opacity": 0.6,
         "type": "scattergeo"
        },
        {
         "lat": [
          51.165691,
          25.354826
         ],
         "line": {
          "color": "blue",
          "width": 1
         },
         "locationmode": "ISO-3",
         "lon": [
          10.451526,
          51.183884
         ],
         "mode": "lines",
         "opacity": 0.6,
         "type": "scattergeo"
        },
        {
         "lat": [
          51.165691,
          38.963745
         ],
         "line": {
          "color": "blue",
          "width": 1
         },
         "locationmode": "ISO-3",
         "lon": [
          10.451526,
          35.243322
         ],
         "mode": "lines",
         "opacity": 0.6,
         "type": "scattergeo"
        },
        {
         "lat": [
          51.165691,
          55.378051
         ],
         "line": {
          "color": "blue",
          "width": 1
         },
         "locationmode": "ISO-3",
         "lon": [
          10.451526,
          -3.435973
         ],
         "mode": "lines",
         "opacity": 0.6,
         "type": "scattergeo"
        },
        {
         "lat": [
          51.165691,
          46.818188
         ],
         "line": {
          "color": "blue",
          "width": 1
         },
         "locationmode": "ISO-3",
         "lon": [
          10.451526,
          8.227512
         ],
         "mode": "lines",
         "opacity": 0.6,
         "type": "scattergeo"
        },
        {
         "lat": [
          51.165691,
          46.227638
         ],
         "line": {
          "color": "blue",
          "width": 1
         },
         "locationmode": "ISO-3",
         "lon": [
          10.451526,
          2.213749
         ],
         "mode": "lines",
         "opacity": 0.6,
         "type": "scattergeo"
        },
        {
         "lat": [
          51.165691,
          9.081999
         ],
         "line": {
          "color": "blue",
          "width": 1
         },
         "locationmode": "ISO-3",
         "lon": [
          10.451526,
          8.675277
         ],
         "mode": "lines",
         "opacity": 0.6,
         "type": "scattergeo"
        },
        {
         "lat": [
          51.165691,
          51.919438
         ],
         "line": {
          "color": "blue",
          "width": 1
         },
         "locationmode": "ISO-3",
         "lon": [
          10.451526,
          19.145136
         ],
         "mode": "lines",
         "opacity": 0.6,
         "type": "scattergeo"
        },
        {
         "lat": [
          51.165691,
          49.817492
         ],
         "line": {
          "color": "blue",
          "width": 1
         },
         "locationmode": "ISO-3",
         "lon": [
          10.451526,
          15.472962
         ],
         "mode": "lines",
         "opacity": 0.6,
         "type": "scattergeo"
        },
        {
         "lat": [
          51.165691,
          42.733883
         ],
         "line": {
          "color": "blue",
          "width": 1
         },
         "locationmode": "ISO-3",
         "lon": [
          10.451526,
          25.48583
         ],
         "mode": "lines",
         "opacity": 0.6,
         "type": "scattergeo"
        },
        {
         "lat": [
          51.165691,
          60.472024
         ],
         "line": {
          "color": "blue",
          "width": 1
         },
         "locationmode": "ISO-3",
         "lon": [
          10.451526,
          8.468946
         ],
         "mode": "lines",
         "opacity": 0.6,
         "type": "scattergeo"
        },
        {
         "lat": [
          51.165691,
          -38.416097
         ],
         "line": {
          "color": "blue",
          "width": 1
         },
         "locationmode": "ISO-3",
         "lon": [
          10.451526,
          -63.616672
         ],
         "mode": "lines",
         "opacity": 0.6,
         "type": "scattergeo"
        },
        {
         "lat": [
          51.165691,
          37.09024
         ],
         "line": {
          "color": "blue",
          "width": 1
         },
         "locationmode": "ISO-3",
         "lon": [
          10.451526,
          -95.712891
         ],
         "mode": "lines",
         "opacity": 0.6,
         "type": "scattergeo"
        },
        {
         "lat": [
          51.165691,
          39.399872
         ],
         "line": {
          "color": "blue",
          "width": 1
         },
         "locationmode": "ISO-3",
         "lon": [
          10.451526,
          -8.224454
         ],
         "mode": "lines",
         "opacity": 0.6,
         "type": "scattergeo"
        },
        {
         "lat": [
          51.165691,
          41.608635
         ],
         "line": {
          "color": "blue",
          "width": 1
         },
         "locationmode": "ISO-3",
         "lon": [
          10.451526,
          21.745275
         ],
         "mode": "lines",
         "opacity": 0.6,
         "type": "scattergeo"
        },
        {
         "lat": [
          51.165691,
          61.92411
         ],
         "line": {
          "color": "blue",
          "width": 1
         },
         "locationmode": "ISO-3",
         "lon": [
          10.451526,
          25.748151
         ],
         "mode": "lines",
         "opacity": 0.6,
         "type": "scattergeo"
        },
        {
         "lat": [
          51.165691,
          49.815273
         ],
         "line": {
          "color": "blue",
          "width": 1
         },
         "locationmode": "ISO-3",
         "lon": [
          10.451526,
          6.129583
         ],
         "mode": "lines",
         "opacity": 0.6,
         "type": "scattergeo"
        },
        {
         "lat": [
          51.165691,
          64.963051
         ],
         "line": {
          "color": "blue",
          "width": 1
         },
         "locationmode": "ISO-3",
         "lon": [
          10.451526,
          -19.020835
         ],
         "mode": "lines",
         "opacity": 0.6,
         "type": "scattergeo"
        },
        {
         "lat": [
          51.165691,
          43.915886
         ],
         "line": {
          "color": "blue",
          "width": 1
         },
         "locationmode": "ISO-3",
         "lon": [
          10.451526,
          17.679076
         ],
         "mode": "lines",
         "opacity": 0.6,
         "type": "scattergeo"
        },
        {
         "lat": [
          51.165691,
          60.128161
         ],
         "line": {
          "color": "blue",
          "width": 1
         },
         "locationmode": "ISO-3",
         "lon": [
          10.451526,
          18.643501
         ],
         "mode": "lines",
         "opacity": 0.6,
         "type": "scattergeo"
        },
        {
         "lat": [
          51.165691,
          41.153332
         ],
         "line": {
          "color": "blue",
          "width": 1
         },
         "locationmode": "ISO-3",
         "lon": [
          10.451526,
          20.168331
         ],
         "mode": "lines",
         "opacity": 0.6,
         "type": "scattergeo"
        },
        {
         "lat": [
          51.165691,
          32.427908
         ],
         "line": {
          "color": "blue",
          "width": 1
         },
         "locationmode": "ISO-3",
         "lon": [
          10.451526,
          53.688046
         ],
         "mode": "lines",
         "opacity": 0.6,
         "type": "scattergeo"
        },
        {
         "lat": [
          51.165691,
          35.126413
         ],
         "line": {
          "color": "blue",
          "width": 1
         },
         "locationmode": "ISO-3",
         "lon": [
          10.451526,
          33.429859
         ],
         "mode": "lines",
         "opacity": 0.6,
         "type": "scattergeo"
        },
        {
         "lat": [
          51.165691,
          45.943161
         ],
         "line": {
          "color": "blue",
          "width": 1
         },
         "locationmode": "ISO-3",
         "lon": [
          10.451526,
          24.96676
         ],
         "mode": "lines",
         "opacity": 0.6,
         "type": "scattergeo"
        },
        {
         "lat": [
          51.165691,
          48.669026
         ],
         "line": {
          "color": "blue",
          "width": 1
         },
         "locationmode": "ISO-3",
         "lon": [
          10.451526,
          19.699024
         ],
         "mode": "lines",
         "opacity": 0.6,
         "type": "scattergeo"
        },
        {
         "lat": [
          51.165691,
          42.315407
         ],
         "line": {
          "color": "blue",
          "width": 1
         },
         "locationmode": "ISO-3",
         "lon": [
          10.451526,
          43.356892
         ],
         "mode": "lines",
         "opacity": 0.6,
         "type": "scattergeo"
        },
        {
         "lat": [
          51.165691,
          4.210484
         ],
         "line": {
          "color": "blue",
          "width": 1
         },
         "locationmode": "ISO-3",
         "lon": [
          10.451526,
          101.975766
         ],
         "mode": "lines",
         "opacity": 0.6,
         "type": "scattergeo"
        },
        {
         "lat": [
          51.165691,
          47.162494
         ],
         "line": {
          "color": "blue",
          "width": 1
         },
         "locationmode": "ISO-3",
         "lon": [
          10.451526,
          19.503304
         ],
         "mode": "lines",
         "opacity": 0.6,
         "type": "scattergeo"
        },
        {
         "lat": [
          51.165691,
          35.937496
         ],
         "line": {
          "color": "blue",
          "width": 1
         },
         "locationmode": "ISO-3",
         "lon": [
          10.451526,
          14.375416
         ],
         "mode": "lines",
         "opacity": 0.6,
         "type": "scattergeo"
        },
        {
         "lat": [
          51.165691,
          4.570868
         ],
         "line": {
          "color": "blue",
          "width": 1
         },
         "locationmode": "ISO-3",
         "lon": [
          10.451526,
          -74.297333
         ],
         "mode": "lines",
         "opacity": 0.6,
         "type": "scattergeo"
        },
        {
         "lat": [
          51.165691,
          33.854721
         ],
         "line": {
          "color": "blue",
          "width": 1
         },
         "locationmode": "ISO-3",
         "lon": [
          10.451526,
          35.862285
         ],
         "mode": "lines",
         "opacity": 0.6,
         "type": "scattergeo"
        },
        {
         "lat": [
          51.165691,
          23.424076
         ],
         "line": {
          "color": "blue",
          "width": 1
         },
         "locationmode": "ISO-3",
         "lon": [
          10.451526,
          53.847818
         ],
         "mode": "lines",
         "opacity": 0.6,
         "type": "scattergeo"
        },
        {
         "lat": [
          51.165691,
          46.151241
         ],
         "line": {
          "color": "blue",
          "width": 1
         },
         "locationmode": "ISO-3",
         "lon": [
          10.451526,
          14.995463
         ],
         "mode": "lines",
         "opacity": 0.6,
         "type": "scattergeo"
        },
        {
         "lat": [
          51.165691,
          42.708678
         ],
         "line": {
          "color": "blue",
          "width": 1
         },
         "locationmode": "ISO-3",
         "lon": [
          10.451526,
          19.37439
         ],
         "mode": "lines",
         "opacity": 0.6,
         "type": "scattergeo"
        },
        {
         "lat": [
          47.516231,
          51.165691
         ],
         "line": {
          "color": "blue",
          "width": 1
         },
         "locationmode": "ISO-3",
         "lon": [
          14.550072,
          10.451526
         ],
         "mode": "lines",
         "opacity": 0.6,
         "type": "scattergeo"
        },
        {
         "lat": [
          47.516231,
          47.162494
         ],
         "line": {
          "color": "blue",
          "width": 1
         },
         "locationmode": "ISO-3",
         "lon": [
          14.550072,
          19.503304
         ],
         "mode": "lines",
         "opacity": 0.6,
         "type": "scattergeo"
        },
        {
         "lat": [
          47.516231,
          47.516231
         ],
         "line": {
          "color": "blue",
          "width": 1
         },
         "locationmode": "ISO-3",
         "lon": [
          14.550072,
          14.550072
         ],
         "mode": "lines",
         "opacity": 0.6,
         "type": "scattergeo"
        },
        {
         "lat": [
          47.516231,
          -25.274398
         ],
         "line": {
          "color": "blue",
          "width": 1
         },
         "locationmode": "ISO-3",
         "lon": [
          14.550072,
          133.775136
         ],
         "mode": "lines",
         "opacity": 0.6,
         "type": "scattergeo"
        },
        {
         "lat": [
          47.516231,
          46.151241
         ],
         "line": {
          "color": "blue",
          "width": 1
         },
         "locationmode": "ISO-3",
         "lon": [
          14.550072,
          14.995463
         ],
         "mode": "lines",
         "opacity": 0.6,
         "type": "scattergeo"
        },
        {
         "lat": [
          47.516231,
          51.919438
         ],
         "line": {
          "color": "blue",
          "width": 1
         },
         "locationmode": "ISO-3",
         "lon": [
          14.550072,
          19.145136
         ],
         "mode": "lines",
         "opacity": 0.6,
         "type": "scattergeo"
        },
        {
         "lat": [
          47.516231,
          38.963745
         ],
         "line": {
          "color": "blue",
          "width": 1
         },
         "locationmode": "ISO-3",
         "lon": [
          14.550072,
          35.243322
         ],
         "mode": "lines",
         "opacity": 0.6,
         "type": "scattergeo"
        },
        {
         "lat": [
          47.516231,
          -35.675147
         ],
         "line": {
          "color": "blue",
          "width": 1
         },
         "locationmode": "ISO-3",
         "lon": [
          14.550072,
          -71.542969
         ],
         "mode": "lines",
         "opacity": 0.6,
         "type": "scattergeo"
        },
        {
         "lat": [
          47.516231,
          61.52401
         ],
         "line": {
          "color": "blue",
          "width": 1
         },
         "locationmode": "ISO-3",
         "lon": [
          14.550072,
          105.318756
         ],
         "mode": "lines",
         "opacity": 0.6,
         "type": "scattergeo"
        },
        {
         "lat": [
          47.516231,
          46.227638
         ],
         "line": {
          "color": "blue",
          "width": 1
         },
         "locationmode": "ISO-3",
         "lon": [
          14.550072,
          2.213749
         ],
         "mode": "lines",
         "opacity": 0.6,
         "type": "scattergeo"
        },
        {
         "lat": [
          47.516231,
          44.016521
         ],
         "line": {
          "color": "blue",
          "width": 1
         },
         "locationmode": "ISO-3",
         "lon": [
          14.550072,
          21.005859
         ],
         "mode": "lines",
         "opacity": 0.6,
         "type": "scattergeo"
        },
        {
         "lat": [
          47.516231,
          48.669026
         ],
         "line": {
          "color": "blue",
          "width": 1
         },
         "locationmode": "ISO-3",
         "lon": [
          14.550072,
          19.699024
         ],
         "mode": "lines",
         "opacity": 0.6,
         "type": "scattergeo"
        },
        {
         "lat": [
          47.516231,
          60.472024
         ],
         "line": {
          "color": "blue",
          "width": 1
         },
         "locationmode": "ISO-3",
         "lon": [
          14.550072,
          8.468946
         ],
         "mode": "lines",
         "opacity": 0.6,
         "type": "scattergeo"
        },
        {
         "lat": [
          47.516231,
          45.1
         ],
         "line": {
          "color": "blue",
          "width": 1
         },
         "locationmode": "ISO-3",
         "lon": [
          14.550072,
          15.2
         ],
         "mode": "lines",
         "opacity": 0.6,
         "type": "scattergeo"
        },
        {
         "lat": [
          47.516231,
          50.503887
         ],
         "line": {
          "color": "blue",
          "width": 1
         },
         "locationmode": "ISO-3",
         "lon": [
          14.550072,
          4.469936
         ],
         "mode": "lines",
         "opacity": 0.6,
         "type": "scattergeo"
        },
        {
         "lat": [
          47.516231,
          32.427908
         ],
         "line": {
          "color": "blue",
          "width": 1
         },
         "locationmode": "ISO-3",
         "lon": [
          14.550072,
          53.688046
         ],
         "mode": "lines",
         "opacity": 0.6,
         "type": "scattergeo"
        },
        {
         "lat": [
          47.516231,
          42.733883
         ],
         "line": {
          "color": "blue",
          "width": 1
         },
         "locationmode": "ISO-3",
         "lon": [
          14.550072,
          25.48583
         ],
         "mode": "lines",
         "opacity": 0.6,
         "type": "scattergeo"
        },
        {
         "lat": [
          47.516231,
          52.132633
         ],
         "line": {
          "color": "blue",
          "width": 1
         },
         "locationmode": "ISO-3",
         "lon": [
          14.550072,
          5.291266
         ],
         "mode": "lines",
         "opacity": 0.6,
         "type": "scattergeo"
        },
        {
         "lat": [
          47.516231,
          39.074208
         ],
         "line": {
          "color": "blue",
          "width": 1
         },
         "locationmode": "ISO-3",
         "lon": [
          14.550072,
          21.824312
         ],
         "mode": "lines",
         "opacity": 0.6,
         "type": "scattergeo"
        },
        {
         "lat": [
          47.516231,
          35.907757
         ],
         "line": {
          "color": "blue",
          "width": 1
         },
         "locationmode": "ISO-3",
         "lon": [
          14.550072,
          127.766922
         ],
         "mode": "lines",
         "opacity": 0.6,
         "type": "scattergeo"
        },
        {
         "lat": [
          47.516231,
          46.818188
         ],
         "line": {
          "color": "blue",
          "width": 1
         },
         "locationmode": "ISO-3",
         "lon": [
          14.550072,
          8.227512
         ],
         "mode": "lines",
         "opacity": 0.6,
         "type": "scattergeo"
        },
        {
         "lat": [
          47.516231,
          55.378051
         ],
         "line": {
          "color": "blue",
          "width": 1
         },
         "locationmode": "ISO-3",
         "lon": [
          14.550072,
          -3.435973
         ],
         "mode": "lines",
         "opacity": 0.6,
         "type": "scattergeo"
        },
        {
         "lat": [
          47.516231,
          49.817492
         ],
         "line": {
          "color": "blue",
          "width": 1
         },
         "locationmode": "ISO-3",
         "lon": [
          14.550072,
          15.472962
         ],
         "mode": "lines",
         "opacity": 0.6,
         "type": "scattergeo"
        },
        {
         "lat": [
          47.516231,
          56.26392
         ],
         "line": {
          "color": "blue",
          "width": 1
         },
         "locationmode": "ISO-3",
         "lon": [
          14.550072,
          9.501785
         ],
         "mode": "lines",
         "opacity": 0.6,
         "type": "scattergeo"
        },
        {
         "lat": [
          47.516231,
          -9.189967
         ],
         "line": {
          "color": "blue",
          "width": 1
         },
         "locationmode": "ISO-3",
         "lon": [
          14.550072,
          -75.015152
         ],
         "mode": "lines",
         "opacity": 0.6,
         "type": "scattergeo"
        },
        {
         "lat": [
          47.516231,
          1.352083
         ],
         "line": {
          "color": "blue",
          "width": 1
         },
         "locationmode": "ISO-3",
         "lon": [
          14.550072,
          103.819836
         ],
         "mode": "lines",
         "opacity": 0.6,
         "type": "scattergeo"
        },
        {
         "lat": [
          47.516231,
          41.153332
         ],
         "line": {
          "color": "blue",
          "width": 1
         },
         "locationmode": "ISO-3",
         "lon": [
          14.550072,
          20.168331
         ],
         "mode": "lines",
         "opacity": 0.6,
         "type": "scattergeo"
        },
        {
         "lat": [
          55.378051,
          44.016521
         ],
         "line": {
          "color": "blue",
          "width": 1
         },
         "locationmode": "ISO-3",
         "lon": [
          -3.435973,
          21.005859
         ],
         "mode": "lines",
         "opacity": 0.6,
         "type": "scattergeo"
        },
        {
         "lat": [
          55.378051,
          47.162494
         ],
         "line": {
          "color": "blue",
          "width": 1
         },
         "locationmode": "ISO-3",
         "lon": [
          -3.435973,
          19.503304
         ],
         "mode": "lines",
         "opacity": 0.6,
         "type": "scattergeo"
        },
        {
         "lat": [
          55.378051,
          51.165691
         ],
         "line": {
          "color": "blue",
          "width": 1
         },
         "locationmode": "ISO-3",
         "lon": [
          -3.435973,
          10.451526
         ],
         "mode": "lines",
         "opacity": 0.6,
         "type": "scattergeo"
        },
        {
         "lat": [
          55.378051,
          55.378051
         ],
         "line": {
          "color": "blue",
          "width": 1
         },
         "locationmode": "ISO-3",
         "lon": [
          -3.435973,
          -3.435973
         ],
         "mode": "lines",
         "opacity": 0.6,
         "type": "scattergeo"
        },
        {
         "lat": [
          55.378051,
          60.128161
         ],
         "line": {
          "color": "blue",
          "width": 1
         },
         "locationmode": "ISO-3",
         "lon": [
          -3.435973,
          18.643501
         ],
         "mode": "lines",
         "opacity": 0.6,
         "type": "scattergeo"
        },
        {
         "lat": [
          55.378051,
          46.227638
         ],
         "line": {
          "color": "blue",
          "width": 1
         },
         "locationmode": "ISO-3",
         "lon": [
          -3.435973,
          2.213749
         ],
         "mode": "lines",
         "opacity": 0.6,
         "type": "scattergeo"
        },
        {
         "lat": [
          55.378051,
          64.963051
         ],
         "line": {
          "color": "blue",
          "width": 1
         },
         "locationmode": "ISO-3",
         "lon": [
          -3.435973,
          -19.020835
         ],
         "mode": "lines",
         "opacity": 0.6,
         "type": "scattergeo"
        },
        {
         "lat": [
          55.378051,
          23.634501
         ],
         "line": {
          "color": "blue",
          "width": 1
         },
         "locationmode": "ISO-3",
         "lon": [
          -3.435973,
          -102.552784
         ],
         "mode": "lines",
         "opacity": 0.6,
         "type": "scattergeo"
        },
        {
         "lat": [
          55.378051,
          45.1
         ],
         "line": {
          "color": "blue",
          "width": 1
         },
         "locationmode": "ISO-3",
         "lon": [
          -3.435973,
          15.2
         ],
         "mode": "lines",
         "opacity": 0.6,
         "type": "scattergeo"
        },
        {
         "lat": [
          55.378051,
          48.379433
         ],
         "line": {
          "color": "blue",
          "width": 1
         },
         "locationmode": "ISO-3",
         "lon": [
          -3.435973,
          31.16558
         ],
         "mode": "lines",
         "opacity": 0.6,
         "type": "scattergeo"
        },
        {
         "lat": [
          55.378051,
          41.87194
         ],
         "line": {
          "color": "blue",
          "width": 1
         },
         "locationmode": "ISO-3",
         "lon": [
          -3.435973,
          12.56738
         ],
         "mode": "lines",
         "opacity": 0.6,
         "type": "scattergeo"
        },
        {
         "lat": [
          55.378051,
          37.09024
         ],
         "line": {
          "color": "blue",
          "width": 1
         },
         "locationmode": "ISO-3",
         "lon": [
          -3.435973,
          -95.712891
         ],
         "mode": "lines",
         "opacity": 0.6,
         "type": "scattergeo"
        },
        {
         "lat": [
          55.378051,
          52.132633
         ],
         "line": {
          "color": "blue",
          "width": 1
         },
         "locationmode": "ISO-3",
         "lon": [
          -3.435973,
          5.291266
         ],
         "mode": "lines",
         "opacity": 0.6,
         "type": "scattergeo"
        },
        {
         "lat": [
          55.378051,
          39.399872
         ],
         "line": {
          "color": "blue",
          "width": 1
         },
         "locationmode": "ISO-3",
         "lon": [
          -3.435973,
          -8.224454
         ],
         "mode": "lines",
         "opacity": 0.6,
         "type": "scattergeo"
        },
        {
         "lat": [
          55.378051,
          40.463667
         ],
         "line": {
          "color": "blue",
          "width": 1
         },
         "locationmode": "ISO-3",
         "lon": [
          -3.435973,
          -3.74922
         ],
         "mode": "lines",
         "opacity": 0.6,
         "type": "scattergeo"
        },
        {
         "lat": [
          55.378051,
          60.472024
         ],
         "line": {
          "color": "blue",
          "width": 1
         },
         "locationmode": "ISO-3",
         "lon": [
          -3.435973,
          8.468946
         ],
         "mode": "lines",
         "opacity": 0.6,
         "type": "scattergeo"
        },
        {
         "lat": [
          55.378051,
          -25.274398
         ],
         "line": {
          "color": "blue",
          "width": 1
         },
         "locationmode": "ISO-3",
         "lon": [
          -3.435973,
          133.775136
         ],
         "mode": "lines",
         "opacity": 0.6,
         "type": "scattergeo"
        },
        {
         "lat": [
          55.378051,
          38.963745
         ],
         "line": {
          "color": "blue",
          "width": 1
         },
         "locationmode": "ISO-3",
         "lon": [
          -3.435973,
          35.243322
         ],
         "mode": "lines",
         "opacity": 0.6,
         "type": "scattergeo"
        },
        {
         "lat": [
          55.378051,
          39.074208
         ],
         "line": {
          "color": "blue",
          "width": 1
         },
         "locationmode": "ISO-3",
         "lon": [
          -3.435973,
          21.824312
         ],
         "mode": "lines",
         "opacity": 0.6,
         "type": "scattergeo"
        },
        {
         "lat": [
          55.378051,
          -14.235004
         ],
         "line": {
          "color": "blue",
          "width": 1
         },
         "locationmode": "ISO-3",
         "lon": [
          -3.435973,
          -51.92528
         ],
         "mode": "lines",
         "opacity": 0.6,
         "type": "scattergeo"
        },
        {
         "lat": [
          55.378051,
          36.204824
         ],
         "line": {
          "color": "blue",
          "width": 1
         },
         "locationmode": "ISO-3",
         "lon": [
          -3.435973,
          138.252924
         ],
         "mode": "lines",
         "opacity": 0.6,
         "type": "scattergeo"
        },
        {
         "lat": [
          55.378051,
          49.817492
         ],
         "line": {
          "color": "blue",
          "width": 1
         },
         "locationmode": "ISO-3",
         "lon": [
          -3.435973,
          15.472962
         ],
         "mode": "lines",
         "opacity": 0.6,
         "type": "scattergeo"
        },
        {
         "lat": [
          55.378051,
          23.885942
         ],
         "line": {
          "color": "blue",
          "width": 1
         },
         "locationmode": "ISO-3",
         "lon": [
          -3.435973,
          45.079162
         ],
         "mode": "lines",
         "opacity": 0.6,
         "type": "scattergeo"
        },
        {
         "lat": [
          55.378051,
          -38.416097
         ],
         "line": {
          "color": "blue",
          "width": 1
         },
         "locationmode": "ISO-3",
         "lon": [
          -3.435973,
          -63.616672
         ],
         "mode": "lines",
         "opacity": 0.6,
         "type": "scattergeo"
        },
        {
         "lat": [
          55.378051,
          56.26392
         ],
         "line": {
          "color": "blue",
          "width": 1
         },
         "locationmode": "ISO-3",
         "lon": [
          -3.435973,
          9.501785
         ],
         "mode": "lines",
         "opacity": 0.6,
         "type": "scattergeo"
        },
        {
         "lat": [
          55.378051,
          50.503887
         ],
         "line": {
          "color": "blue",
          "width": 1
         },
         "locationmode": "ISO-3",
         "lon": [
          -3.435973,
          4.469936
         ],
         "mode": "lines",
         "opacity": 0.6,
         "type": "scattergeo"
        },
        {
         "lat": [
          55.378051,
          51.919438
         ],
         "line": {
          "color": "blue",
          "width": 1
         },
         "locationmode": "ISO-3",
         "lon": [
          -3.435973,
          19.145136
         ],
         "mode": "lines",
         "opacity": 0.6,
         "type": "scattergeo"
        },
        {
         "lat": [
          55.378051,
          53.41291
         ],
         "line": {
          "color": "blue",
          "width": 1
         },
         "locationmode": "ISO-3",
         "lon": [
          -3.435973,
          -8.24389
         ],
         "mode": "lines",
         "opacity": 0.6,
         "type": "scattergeo"
        },
        {
         "lat": [
          55.378051,
          31.046051
         ],
         "line": {
          "color": "blue",
          "width": 1
         },
         "locationmode": "ISO-3",
         "lon": [
          -3.435973,
          34.851612
         ],
         "mode": "lines",
         "opacity": 0.6,
         "type": "scattergeo"
        },
        {
         "lat": [
          55.378051,
          25.354826
         ],
         "line": {
          "color": "blue",
          "width": 1
         },
         "locationmode": "ISO-3",
         "lon": [
          -3.435973,
          51.183884
         ],
         "mode": "lines",
         "opacity": 0.6,
         "type": "scattergeo"
        },
        {
         "lat": [
          55.378051,
          61.52401
         ],
         "line": {
          "color": "blue",
          "width": 1
         },
         "locationmode": "ISO-3",
         "lon": [
          -3.435973,
          105.318756
         ],
         "mode": "lines",
         "opacity": 0.6,
         "type": "scattergeo"
        },
        {
         "lat": [
          55.378051,
          61.92411
         ],
         "line": {
          "color": "blue",
          "width": 1
         },
         "locationmode": "ISO-3",
         "lon": [
          -3.435973,
          25.748151
         ],
         "mode": "lines",
         "opacity": 0.6,
         "type": "scattergeo"
        },
        {
         "lat": [
          55.378051,
          46.818188
         ],
         "line": {
          "color": "blue",
          "width": 1
         },
         "locationmode": "ISO-3",
         "lon": [
          -3.435973,
          8.227512
         ],
         "mode": "lines",
         "opacity": 0.6,
         "type": "scattergeo"
        },
        {
         "lat": [
          55.378051,
          -23.442503
         ],
         "line": {
          "color": "blue",
          "width": 1
         },
         "locationmode": "ISO-3",
         "lon": [
          -3.435973,
          -58.443832
         ],
         "mode": "lines",
         "opacity": 0.6,
         "type": "scattergeo"
        },
        {
         "lat": [
          55.378051,
          1.352083
         ],
         "line": {
          "color": "blue",
          "width": 1
         },
         "locationmode": "ISO-3",
         "lon": [
          -3.435973,
          103.819836
         ],
         "mode": "lines",
         "opacity": 0.6,
         "type": "scattergeo"
        },
        {
         "lat": [
          55.378051,
          18.109581
         ],
         "line": {
          "color": "blue",
          "width": 1
         },
         "locationmode": "ISO-3",
         "lon": [
          -3.435973,
          -77.297508
         ],
         "mode": "lines",
         "opacity": 0.6,
         "type": "scattergeo"
        },
        {
         "lat": [
          55.378051,
          15.199999
         ],
         "line": {
          "color": "blue",
          "width": 1
         },
         "locationmode": "ISO-3",
         "lon": [
          -3.435973,
          -86.241905
         ],
         "mode": "lines",
         "opacity": 0.6,
         "type": "scattergeo"
        },
        {
         "lat": [
          55.378051,
          61.892635
         ],
         "line": {
          "color": "blue",
          "width": 1
         },
         "locationmode": "ISO-3",
         "lon": [
          -3.435973,
          -6.911806
         ],
         "mode": "lines",
         "opacity": 0.6,
         "type": "scattergeo"
        },
        {
         "lat": [
          55.378051,
          47.516231
         ],
         "line": {
          "color": "blue",
          "width": 1
         },
         "locationmode": "ISO-3",
         "lon": [
          -3.435973,
          14.550072
         ],
         "mode": "lines",
         "opacity": 0.6,
         "type": "scattergeo"
        },
        {
         "lat": [
          55.378051,
          35.86166
         ],
         "line": {
          "color": "blue",
          "width": 1
         },
         "locationmode": "ISO-3",
         "lon": [
          -3.435973,
          104.195397
         ],
         "mode": "lines",
         "opacity": 0.6,
         "type": "scattergeo"
        },
        {
         "lat": [
          55.378051,
          -32.522779
         ],
         "line": {
          "color": "blue",
          "width": 1
         },
         "locationmode": "ISO-3",
         "lon": [
          -3.435973,
          -55.765835
         ],
         "mode": "lines",
         "opacity": 0.6,
         "type": "scattergeo"
        },
        {
         "lat": [
          55.378051,
          15.783471
         ],
         "line": {
          "color": "blue",
          "width": 1
         },
         "locationmode": "ISO-3",
         "lon": [
          -3.435973,
          -90.230759
         ],
         "mode": "lines",
         "opacity": 0.6,
         "type": "scattergeo"
        },
        {
         "lat": [
          55.378051,
          35.937496
         ],
         "line": {
          "color": "blue",
          "width": 1
         },
         "locationmode": "ISO-3",
         "lon": [
          -3.435973,
          14.375416
         ],
         "mode": "lines",
         "opacity": 0.6,
         "type": "scattergeo"
        },
        {
         "lat": [
          44.016521,
          47.516231
         ],
         "line": {
          "color": "blue",
          "width": 1
         },
         "locationmode": "ISO-3",
         "lon": [
          21.005859,
          14.550072
         ],
         "mode": "lines",
         "opacity": 0.6,
         "type": "scattergeo"
        },
        {
         "lat": [
          44.016521,
          23.424076
         ],
         "line": {
          "color": "blue",
          "width": 1
         },
         "locationmode": "ISO-3",
         "lon": [
          21.005859,
          53.847818
         ],
         "mode": "lines",
         "opacity": 0.6,
         "type": "scattergeo"
        },
        {
         "lat": [
          44.016521,
          44.016521
         ],
         "line": {
          "color": "blue",
          "width": 1
         },
         "locationmode": "ISO-3",
         "lon": [
          21.005859,
          21.005859
         ],
         "mode": "lines",
         "opacity": 0.6,
         "type": "scattergeo"
        },
        {
         "lat": [
          44.016521,
          41.608635
         ],
         "line": {
          "color": "blue",
          "width": 1
         },
         "locationmode": "ISO-3",
         "lon": [
          21.005859,
          21.745275
         ],
         "mode": "lines",
         "opacity": 0.6,
         "type": "scattergeo"
        },
        {
         "lat": [
          44.016521,
          38.963745
         ],
         "line": {
          "color": "blue",
          "width": 1
         },
         "locationmode": "ISO-3",
         "lon": [
          21.005859,
          35.243322
         ],
         "mode": "lines",
         "opacity": 0.6,
         "type": "scattergeo"
        },
        {
         "lat": [
          44.016521,
          48.379433
         ],
         "line": {
          "color": "blue",
          "width": 1
         },
         "locationmode": "ISO-3",
         "lon": [
          21.005859,
          31.16558
         ],
         "mode": "lines",
         "opacity": 0.6,
         "type": "scattergeo"
        },
        {
         "lat": [
          44.016521,
          46.227638
         ],
         "line": {
          "color": "blue",
          "width": 1
         },
         "locationmode": "ISO-3",
         "lon": [
          21.005859,
          2.213749
         ],
         "mode": "lines",
         "opacity": 0.6,
         "type": "scattergeo"
        },
        {
         "lat": [
          44.016521,
          42.733883
         ],
         "line": {
          "color": "blue",
          "width": 1
         },
         "locationmode": "ISO-3",
         "lon": [
          21.005859,
          25.48583
         ],
         "mode": "lines",
         "opacity": 0.6,
         "type": "scattergeo"
        },
        {
         "lat": [
          44.016521,
          42.708678
         ],
         "line": {
          "color": "blue",
          "width": 1
         },
         "locationmode": "ISO-3",
         "lon": [
          21.005859,
          19.37439
         ],
         "mode": "lines",
         "opacity": 0.6,
         "type": "scattergeo"
        },
        {
         "lat": [
          44.016521,
          51.165691
         ],
         "line": {
          "color": "blue",
          "width": 1
         },
         "locationmode": "ISO-3",
         "lon": [
          21.005859,
          10.451526
         ],
         "mode": "lines",
         "opacity": 0.6,
         "type": "scattergeo"
        },
        {
         "lat": [
          44.016521,
          43.915886
         ],
         "line": {
          "color": "blue",
          "width": 1
         },
         "locationmode": "ISO-3",
         "lon": [
          21.005859,
          17.679076
         ],
         "mode": "lines",
         "opacity": 0.6,
         "type": "scattergeo"
        },
        {
         "lat": [
          44.016521,
          45.1
         ],
         "line": {
          "color": "blue",
          "width": 1
         },
         "locationmode": "ISO-3",
         "lon": [
          21.005859,
          15.2
         ],
         "mode": "lines",
         "opacity": 0.6,
         "type": "scattergeo"
        },
        {
         "lat": [
          44.016521,
          61.52401
         ],
         "line": {
          "color": "blue",
          "width": 1
         },
         "locationmode": "ISO-3",
         "lon": [
          21.005859,
          105.318756
         ],
         "mode": "lines",
         "opacity": 0.6,
         "type": "scattergeo"
        },
        {
         "lat": [
          44.016521,
          47.162494
         ],
         "line": {
          "color": "blue",
          "width": 1
         },
         "locationmode": "ISO-3",
         "lon": [
          21.005859,
          19.503304
         ],
         "mode": "lines",
         "opacity": 0.6,
         "type": "scattergeo"
        },
        {
         "lat": [
          44.016521,
          35.86166
         ],
         "line": {
          "color": "blue",
          "width": 1
         },
         "locationmode": "ISO-3",
         "lon": [
          21.005859,
          104.195397
         ],
         "mode": "lines",
         "opacity": 0.6,
         "type": "scattergeo"
        },
        {
         "lat": [
          44.016521,
          48.669026
         ],
         "line": {
          "color": "blue",
          "width": 1
         },
         "locationmode": "ISO-3",
         "lon": [
          21.005859,
          19.699024
         ],
         "mode": "lines",
         "opacity": 0.6,
         "type": "scattergeo"
        },
        {
         "lat": [
          44.016521,
          51.919438
         ],
         "line": {
          "color": "blue",
          "width": 1
         },
         "locationmode": "ISO-3",
         "lon": [
          21.005859,
          19.145136
         ],
         "mode": "lines",
         "opacity": 0.6,
         "type": "scattergeo"
        },
        {
         "lat": [
          44.016521,
          45.943161
         ],
         "line": {
          "color": "blue",
          "width": 1
         },
         "locationmode": "ISO-3",
         "lon": [
          21.005859,
          24.96676
         ],
         "mode": "lines",
         "opacity": 0.6,
         "type": "scattergeo"
        },
        {
         "lat": [
          44.016521,
          49.817492
         ],
         "line": {
          "color": "blue",
          "width": 1
         },
         "locationmode": "ISO-3",
         "lon": [
          21.005859,
          15.472962
         ],
         "mode": "lines",
         "opacity": 0.6,
         "type": "scattergeo"
        },
        {
         "lat": [
          44.016521,
          55.378051
         ],
         "line": {
          "color": "blue",
          "width": 1
         },
         "locationmode": "ISO-3",
         "lon": [
          21.005859,
          -3.435973
         ],
         "mode": "lines",
         "opacity": 0.6,
         "type": "scattergeo"
        },
        {
         "lat": [
          44.016521,
          22.396428
         ],
         "line": {
          "color": "blue",
          "width": 1
         },
         "locationmode": "ISO-3",
         "lon": [
          21.005859,
          114.109497
         ],
         "mode": "lines",
         "opacity": 0.6,
         "type": "scattergeo"
        },
        {
         "lat": [
          44.016521,
          61.92411
         ],
         "line": {
          "color": "blue",
          "width": 1
         },
         "locationmode": "ISO-3",
         "lon": [
          21.005859,
          25.748151
         ],
         "mode": "lines",
         "opacity": 0.6,
         "type": "scattergeo"
        },
        {
         "lat": [
          44.016521,
          31.046051
         ],
         "line": {
          "color": "blue",
          "width": 1
         },
         "locationmode": "ISO-3",
         "lon": [
          21.005859,
          34.851612
         ],
         "mode": "lines",
         "opacity": 0.6,
         "type": "scattergeo"
        },
        {
         "lat": [
          44.016521,
          39.074208
         ],
         "line": {
          "color": "blue",
          "width": 1
         },
         "locationmode": "ISO-3",
         "lon": [
          21.005859,
          21.824312
         ],
         "mode": "lines",
         "opacity": 0.6,
         "type": "scattergeo"
        },
        {
         "lat": [
          44.016521,
          48.019573
         ],
         "line": {
          "color": "blue",
          "width": 1
         },
         "locationmode": "ISO-3",
         "lon": [
          21.005859,
          66.923684
         ],
         "mode": "lines",
         "opacity": 0.6,
         "type": "scattergeo"
        },
        {
         "lat": [
          44.016521,
          35.937496
         ],
         "line": {
          "color": "blue",
          "width": 1
         },
         "locationmode": "ISO-3",
         "lon": [
          21.005859,
          14.375416
         ],
         "mode": "lines",
         "opacity": 0.6,
         "type": "scattergeo"
        },
        {
         "lat": [
          49.817492,
          49.817492
         ],
         "line": {
          "color": "blue",
          "width": 1
         },
         "locationmode": "ISO-3",
         "lon": [
          15.472962,
          15.472962
         ],
         "mode": "lines",
         "opacity": 0.6,
         "type": "scattergeo"
        },
        {
         "lat": [
          49.817492,
          51.165691
         ],
         "line": {
          "color": "blue",
          "width": 1
         },
         "locationmode": "ISO-3",
         "lon": [
          15.472962,
          10.451526
         ],
         "mode": "lines",
         "opacity": 0.6,
         "type": "scattergeo"
        },
        {
         "lat": [
          49.817492,
          43.915886
         ],
         "line": {
          "color": "blue",
          "width": 1
         },
         "locationmode": "ISO-3",
         "lon": [
          15.472962,
          17.679076
         ],
         "mode": "lines",
         "opacity": 0.6,
         "type": "scattergeo"
        },
        {
         "lat": [
          49.817492,
          47.516231
         ],
         "line": {
          "color": "blue",
          "width": 1
         },
         "locationmode": "ISO-3",
         "lon": [
          15.472962,
          14.550072
         ],
         "mode": "lines",
         "opacity": 0.6,
         "type": "scattergeo"
        },
        {
         "lat": [
          49.817492,
          48.669026
         ],
         "line": {
          "color": "blue",
          "width": 1
         },
         "locationmode": "ISO-3",
         "lon": [
          15.472962,
          19.699024
         ],
         "mode": "lines",
         "opacity": 0.6,
         "type": "scattergeo"
        },
        {
         "lat": [
          49.817492,
          38.963745
         ],
         "line": {
          "color": "blue",
          "width": 1
         },
         "locationmode": "ISO-3",
         "lon": [
          15.472962,
          35.243322
         ],
         "mode": "lines",
         "opacity": 0.6,
         "type": "scattergeo"
        },
        {
         "lat": [
          49.817492,
          39.074208
         ],
         "line": {
          "color": "blue",
          "width": 1
         },
         "locationmode": "ISO-3",
         "lon": [
          15.472962,
          21.824312
         ],
         "mode": "lines",
         "opacity": 0.6,
         "type": "scattergeo"
        },
        {
         "lat": [
          49.817492,
          46.818188
         ],
         "line": {
          "color": "blue",
          "width": 1
         },
         "locationmode": "ISO-3",
         "lon": [
          15.472962,
          8.227512
         ],
         "mode": "lines",
         "opacity": 0.6,
         "type": "scattergeo"
        },
        {
         "lat": [
          49.817492,
          55.378051
         ],
         "line": {
          "color": "blue",
          "width": 1
         },
         "locationmode": "ISO-3",
         "lon": [
          15.472962,
          -3.435973
         ],
         "mode": "lines",
         "opacity": 0.6,
         "type": "scattergeo"
        },
        {
         "lat": [
          49.817492,
          61.52401
         ],
         "line": {
          "color": "blue",
          "width": 1
         },
         "locationmode": "ISO-3",
         "lon": [
          15.472962,
          105.318756
         ],
         "mode": "lines",
         "opacity": 0.6,
         "type": "scattergeo"
        },
        {
         "lat": [
          49.817492,
          39.399872
         ],
         "line": {
          "color": "blue",
          "width": 1
         },
         "locationmode": "ISO-3",
         "lon": [
          15.472962,
          -8.224454
         ],
         "mode": "lines",
         "opacity": 0.6,
         "type": "scattergeo"
        },
        {
         "lat": [
          49.817492,
          60.128161
         ],
         "line": {
          "color": "blue",
          "width": 1
         },
         "locationmode": "ISO-3",
         "lon": [
          15.472962,
          18.643501
         ],
         "mode": "lines",
         "opacity": 0.6,
         "type": "scattergeo"
        },
        {
         "lat": [
          49.817492,
          50.503887
         ],
         "line": {
          "color": "blue",
          "width": 1
         },
         "locationmode": "ISO-3",
         "lon": [
          15.472962,
          4.469936
         ],
         "mode": "lines",
         "opacity": 0.6,
         "type": "scattergeo"
        },
        {
         "lat": [
          49.817492,
          23.634501
         ],
         "line": {
          "color": "blue",
          "width": 1
         },
         "locationmode": "ISO-3",
         "lon": [
          15.472962,
          -102.552784
         ],
         "mode": "lines",
         "opacity": 0.6,
         "type": "scattergeo"
        },
        {
         "lat": [
          49.817492,
          51.919438
         ],
         "line": {
          "color": "blue",
          "width": 1
         },
         "locationmode": "ISO-3",
         "lon": [
          15.472962,
          19.145136
         ],
         "mode": "lines",
         "opacity": 0.6,
         "type": "scattergeo"
        },
        {
         "lat": [
          49.817492,
          37.09024
         ],
         "line": {
          "color": "blue",
          "width": 1
         },
         "locationmode": "ISO-3",
         "lon": [
          15.472962,
          -95.712891
         ],
         "mode": "lines",
         "opacity": 0.6,
         "type": "scattergeo"
        },
        {
         "lat": [
          49.817492,
          42.733883
         ],
         "line": {
          "color": "blue",
          "width": 1
         },
         "locationmode": "ISO-3",
         "lon": [
          15.472962,
          25.48583
         ],
         "mode": "lines",
         "opacity": 0.6,
         "type": "scattergeo"
        },
        {
         "lat": [
          49.817492,
          32.427908
         ],
         "line": {
          "color": "blue",
          "width": 1
         },
         "locationmode": "ISO-3",
         "lon": [
          15.472962,
          53.688046
         ],
         "mode": "lines",
         "opacity": 0.6,
         "type": "scattergeo"
        },
        {
         "lat": [
          49.817492,
          35.126413
         ],
         "line": {
          "color": "blue",
          "width": 1
         },
         "locationmode": "ISO-3",
         "lon": [
          15.472962,
          33.429859
         ],
         "mode": "lines",
         "opacity": 0.6,
         "type": "scattergeo"
        },
        {
         "lat": [
          49.817492,
          61.92411
         ],
         "line": {
          "color": "blue",
          "width": 1
         },
         "locationmode": "ISO-3",
         "lon": [
          15.472962,
          25.748151
         ],
         "mode": "lines",
         "opacity": 0.6,
         "type": "scattergeo"
        },
        {
         "lat": [
          49.817492,
          -14.235004
         ],
         "line": {
          "color": "blue",
          "width": 1
         },
         "locationmode": "ISO-3",
         "lon": [
          15.472962,
          -51.92528
         ],
         "mode": "lines",
         "opacity": 0.6,
         "type": "scattergeo"
        },
        {
         "lat": [
          49.817492,
          41.153332
         ],
         "line": {
          "color": "blue",
          "width": 1
         },
         "locationmode": "ISO-3",
         "lon": [
          15.472962,
          20.168331
         ],
         "mode": "lines",
         "opacity": 0.6,
         "type": "scattergeo"
        },
        {
         "lat": [
          46.151241,
          35.126413
         ],
         "line": {
          "color": "blue",
          "width": 1
         },
         "locationmode": "ISO-3",
         "lon": [
          14.995463,
          33.429859
         ],
         "mode": "lines",
         "opacity": 0.6,
         "type": "scattergeo"
        },
        {
         "lat": [
          46.151241,
          51.919438
         ],
         "line": {
          "color": "blue",
          "width": 1
         },
         "locationmode": "ISO-3",
         "lon": [
          14.995463,
          19.145136
         ],
         "mode": "lines",
         "opacity": 0.6,
         "type": "scattergeo"
        },
        {
         "lat": [
          46.151241,
          47.516231
         ],
         "line": {
          "color": "blue",
          "width": 1
         },
         "locationmode": "ISO-3",
         "lon": [
          14.995463,
          14.550072
         ],
         "mode": "lines",
         "opacity": 0.6,
         "type": "scattergeo"
        },
        {
         "lat": [
          46.151241,
          35.907757
         ],
         "line": {
          "color": "blue",
          "width": 1
         },
         "locationmode": "ISO-3",
         "lon": [
          14.995463,
          127.766922
         ],
         "mode": "lines",
         "opacity": 0.6,
         "type": "scattergeo"
        },
        {
         "lat": [
          46.151241,
          46.151241
         ],
         "line": {
          "color": "blue",
          "width": 1
         },
         "locationmode": "ISO-3",
         "lon": [
          14.995463,
          14.995463
         ],
         "mode": "lines",
         "opacity": 0.6,
         "type": "scattergeo"
        },
        {
         "lat": [
          46.151241,
          51.165691
         ],
         "line": {
          "color": "blue",
          "width": 1
         },
         "locationmode": "ISO-3",
         "lon": [
          14.995463,
          10.451526
         ],
         "mode": "lines",
         "opacity": 0.6,
         "type": "scattergeo"
        },
        {
         "lat": [
          46.151241,
          31.046051
         ],
         "line": {
          "color": "blue",
          "width": 1
         },
         "locationmode": "ISO-3",
         "lon": [
          14.995463,
          34.851612
         ],
         "mode": "lines",
         "opacity": 0.6,
         "type": "scattergeo"
        },
        {
         "lat": [
          46.151241,
          39.399872
         ],
         "line": {
          "color": "blue",
          "width": 1
         },
         "locationmode": "ISO-3",
         "lon": [
          14.995463,
          -8.224454
         ],
         "mode": "lines",
         "opacity": 0.6,
         "type": "scattergeo"
        },
        {
         "lat": [
          46.151241,
          61.52401
         ],
         "line": {
          "color": "blue",
          "width": 1
         },
         "locationmode": "ISO-3",
         "lon": [
          14.995463,
          105.318756
         ],
         "mode": "lines",
         "opacity": 0.6,
         "type": "scattergeo"
        },
        {
         "lat": [
          46.151241,
          60.472024
         ],
         "line": {
          "color": "blue",
          "width": 1
         },
         "locationmode": "ISO-3",
         "lon": [
          14.995463,
          8.468946
         ],
         "mode": "lines",
         "opacity": 0.6,
         "type": "scattergeo"
        },
        {
         "lat": [
          46.151241,
          50.503887
         ],
         "line": {
          "color": "blue",
          "width": 1
         },
         "locationmode": "ISO-3",
         "lon": [
          14.995463,
          4.469936
         ],
         "mode": "lines",
         "opacity": 0.6,
         "type": "scattergeo"
        },
        {
         "lat": [
          46.151241,
          49.817492
         ],
         "line": {
          "color": "blue",
          "width": 1
         },
         "locationmode": "ISO-3",
         "lon": [
          14.995463,
          15.472962
         ],
         "mode": "lines",
         "opacity": 0.6,
         "type": "scattergeo"
        },
        {
         "lat": [
          46.151241,
          40.463667
         ],
         "line": {
          "color": "blue",
          "width": 1
         },
         "locationmode": "ISO-3",
         "lon": [
          14.995463,
          -3.74922
         ],
         "mode": "lines",
         "opacity": 0.6,
         "type": "scattergeo"
        },
        {
         "lat": [
          46.151241,
          43.915886
         ],
         "line": {
          "color": "blue",
          "width": 1
         },
         "locationmode": "ISO-3",
         "lon": [
          14.995463,
          17.679076
         ],
         "mode": "lines",
         "opacity": 0.6,
         "type": "scattergeo"
        },
        {
         "lat": [
          46.151241,
          42.733883
         ],
         "line": {
          "color": "blue",
          "width": 1
         },
         "locationmode": "ISO-3",
         "lon": [
          14.995463,
          25.48583
         ],
         "mode": "lines",
         "opacity": 0.6,
         "type": "scattergeo"
        },
        {
         "lat": [
          46.151241,
          44.016521
         ],
         "line": {
          "color": "blue",
          "width": 1
         },
         "locationmode": "ISO-3",
         "lon": [
          14.995463,
          21.005859
         ],
         "mode": "lines",
         "opacity": 0.6,
         "type": "scattergeo"
        },
        {
         "lat": [
          35.126413,
          35.126413
         ],
         "line": {
          "color": "blue",
          "width": 1
         },
         "locationmode": "ISO-3",
         "lon": [
          33.429859,
          33.429859
         ],
         "mode": "lines",
         "opacity": 0.6,
         "type": "scattergeo"
        },
        {
         "lat": [
          35.126413,
          51.165691
         ],
         "line": {
          "color": "blue",
          "width": 1
         },
         "locationmode": "ISO-3",
         "lon": [
          33.429859,
          10.451526
         ],
         "mode": "lines",
         "opacity": 0.6,
         "type": "scattergeo"
        },
        {
         "lat": [
          35.126413,
          46.151241
         ],
         "line": {
          "color": "blue",
          "width": 1
         },
         "locationmode": "ISO-3",
         "lon": [
          33.429859,
          14.995463
         ],
         "mode": "lines",
         "opacity": 0.6,
         "type": "scattergeo"
        },
        {
         "lat": [
          35.126413,
          35.937496
         ],
         "line": {
          "color": "blue",
          "width": 1
         },
         "locationmode": "ISO-3",
         "lon": [
          33.429859,
          14.375416
         ],
         "mode": "lines",
         "opacity": 0.6,
         "type": "scattergeo"
        },
        {
         "lat": [
          35.126413,
          61.52401
         ],
         "line": {
          "color": "blue",
          "width": 1
         },
         "locationmode": "ISO-3",
         "lon": [
          33.429859,
          105.318756
         ],
         "mode": "lines",
         "opacity": 0.6,
         "type": "scattergeo"
        },
        {
         "lat": [
          35.126413,
          47.516231
         ],
         "line": {
          "color": "blue",
          "width": 1
         },
         "locationmode": "ISO-3",
         "lon": [
          33.429859,
          14.550072
         ],
         "mode": "lines",
         "opacity": 0.6,
         "type": "scattergeo"
        },
        {
         "lat": [
          35.126413,
          -25.274398
         ],
         "line": {
          "color": "blue",
          "width": 1
         },
         "locationmode": "ISO-3",
         "lon": [
          33.429859,
          133.775136
         ],
         "mode": "lines",
         "opacity": 0.6,
         "type": "scattergeo"
        },
        {
         "lat": [
          35.126413,
          52.132633
         ],
         "line": {
          "color": "blue",
          "width": 1
         },
         "locationmode": "ISO-3",
         "lon": [
          33.429859,
          5.291266
         ],
         "mode": "lines",
         "opacity": 0.6,
         "type": "scattergeo"
        },
        {
         "lat": [
          35.126413,
          55.378051
         ],
         "line": {
          "color": "blue",
          "width": 1
         },
         "locationmode": "ISO-3",
         "lon": [
          33.429859,
          -3.435973
         ],
         "mode": "lines",
         "opacity": 0.6,
         "type": "scattergeo"
        },
        {
         "lat": [
          35.126413,
          31.046051
         ],
         "line": {
          "color": "blue",
          "width": 1
         },
         "locationmode": "ISO-3",
         "lon": [
          33.429859,
          34.851612
         ],
         "mode": "lines",
         "opacity": 0.6,
         "type": "scattergeo"
        },
        {
         "lat": [
          35.126413,
          39.074208
         ],
         "line": {
          "color": "blue",
          "width": 1
         },
         "locationmode": "ISO-3",
         "lon": [
          33.429859,
          21.824312
         ],
         "mode": "lines",
         "opacity": 0.6,
         "type": "scattergeo"
        },
        {
         "lat": [
          35.126413,
          32.427908
         ],
         "line": {
          "color": "blue",
          "width": 1
         },
         "locationmode": "ISO-3",
         "lon": [
          33.429859,
          53.688046
         ],
         "mode": "lines",
         "opacity": 0.6,
         "type": "scattergeo"
        },
        {
         "lat": [
          35.126413,
          49.817492
         ],
         "line": {
          "color": "blue",
          "width": 1
         },
         "locationmode": "ISO-3",
         "lon": [
          33.429859,
          15.472962
         ],
         "mode": "lines",
         "opacity": 0.6,
         "type": "scattergeo"
        },
        {
         "lat": [
          35.126413,
          47.162494
         ],
         "line": {
          "color": "blue",
          "width": 1
         },
         "locationmode": "ISO-3",
         "lon": [
          33.429859,
          19.503304
         ],
         "mode": "lines",
         "opacity": 0.6,
         "type": "scattergeo"
        },
        {
         "lat": [
          35.126413,
          60.472024
         ],
         "line": {
          "color": "blue",
          "width": 1
         },
         "locationmode": "ISO-3",
         "lon": [
          33.429859,
          8.468946
         ],
         "mode": "lines",
         "opacity": 0.6,
         "type": "scattergeo"
        },
        {
         "lat": [
          35.126413,
          45.943161
         ],
         "line": {
          "color": "blue",
          "width": 1
         },
         "locationmode": "ISO-3",
         "lon": [
          33.429859,
          24.96676
         ],
         "mode": "lines",
         "opacity": 0.6,
         "type": "scattergeo"
        },
        {
         "lat": [
          35.126413,
          44.016521
         ],
         "line": {
          "color": "blue",
          "width": 1
         },
         "locationmode": "ISO-3",
         "lon": [
          33.429859,
          21.005859
         ],
         "mode": "lines",
         "opacity": 0.6,
         "type": "scattergeo"
        },
        {
         "lat": [
          35.126413,
          51.919438
         ],
         "line": {
          "color": "blue",
          "width": 1
         },
         "locationmode": "ISO-3",
         "lon": [
          33.429859,
          19.145136
         ],
         "mode": "lines",
         "opacity": 0.6,
         "type": "scattergeo"
        },
        {
         "lat": [
          35.126413,
          45.1
         ],
         "line": {
          "color": "blue",
          "width": 1
         },
         "locationmode": "ISO-3",
         "lon": [
          33.429859,
          15.2
         ],
         "mode": "lines",
         "opacity": 0.6,
         "type": "scattergeo"
        },
        {
         "lat": [
          35.126413,
          50.503887
         ],
         "line": {
          "color": "blue",
          "width": 1
         },
         "locationmode": "ISO-3",
         "lon": [
          33.429859,
          4.469936
         ],
         "mode": "lines",
         "opacity": 0.6,
         "type": "scattergeo"
        },
        {
         "lat": [
          35.126413,
          41.608635
         ],
         "line": {
          "color": "blue",
          "width": 1
         },
         "locationmode": "ISO-3",
         "lon": [
          33.429859,
          21.745275
         ],
         "mode": "lines",
         "opacity": 0.6,
         "type": "scattergeo"
        },
        {
         "lat": [
          35.126413,
          64.963051
         ],
         "line": {
          "color": "blue",
          "width": 1
         },
         "locationmode": "ISO-3",
         "lon": [
          33.429859,
          -19.020835
         ],
         "mode": "lines",
         "opacity": 0.6,
         "type": "scattergeo"
        },
        {
         "lat": [
          35.126413,
          46.227638
         ],
         "line": {
          "color": "blue",
          "width": 1
         },
         "locationmode": "ISO-3",
         "lon": [
          33.429859,
          2.213749
         ],
         "mode": "lines",
         "opacity": 0.6,
         "type": "scattergeo"
        },
        {
         "lat": [
          35.126413,
          42.733883
         ],
         "line": {
          "color": "blue",
          "width": 1
         },
         "locationmode": "ISO-3",
         "lon": [
          33.429859,
          25.48583
         ],
         "mode": "lines",
         "opacity": 0.6,
         "type": "scattergeo"
        },
        {
         "lat": [
          39.074208,
          51.165691
         ],
         "line": {
          "color": "blue",
          "width": 1
         },
         "locationmode": "ISO-3",
         "lon": [
          21.824312,
          10.451526
         ],
         "mode": "lines",
         "opacity": 0.6,
         "type": "scattergeo"
        },
        {
         "lat": [
          39.074208,
          35.126413
         ],
         "line": {
          "color": "blue",
          "width": 1
         },
         "locationmode": "ISO-3",
         "lon": [
          21.824312,
          33.429859
         ],
         "mode": "lines",
         "opacity": 0.6,
         "type": "scattergeo"
        },
        {
         "lat": [
          39.074208,
          39.074208
         ],
         "line": {
          "color": "blue",
          "width": 1
         },
         "locationmode": "ISO-3",
         "lon": [
          21.824312,
          21.824312
         ],
         "mode": "lines",
         "opacity": 0.6,
         "type": "scattergeo"
        },
        {
         "lat": [
          39.074208,
          -14.235004
         ],
         "line": {
          "color": "blue",
          "width": 1
         },
         "locationmode": "ISO-3",
         "lon": [
          21.824312,
          -51.92528
         ],
         "mode": "lines",
         "opacity": 0.6,
         "type": "scattergeo"
        },
        {
         "lat": [
          39.074208,
          55.378051
         ],
         "line": {
          "color": "blue",
          "width": 1
         },
         "locationmode": "ISO-3",
         "lon": [
          21.824312,
          -3.435973
         ],
         "mode": "lines",
         "opacity": 0.6,
         "type": "scattergeo"
        },
        {
         "lat": [
          39.074208,
          38.963745
         ],
         "line": {
          "color": "blue",
          "width": 1
         },
         "locationmode": "ISO-3",
         "lon": [
          21.824312,
          35.243322
         ],
         "mode": "lines",
         "opacity": 0.6,
         "type": "scattergeo"
        },
        {
         "lat": [
          39.074208,
          61.52401
         ],
         "line": {
          "color": "blue",
          "width": 1
         },
         "locationmode": "ISO-3",
         "lon": [
          21.824312,
          105.318756
         ],
         "mode": "lines",
         "opacity": 0.6,
         "type": "scattergeo"
        },
        {
         "lat": [
          39.074208,
          48.669026
         ],
         "line": {
          "color": "blue",
          "width": 1
         },
         "locationmode": "ISO-3",
         "lon": [
          21.824312,
          19.699024
         ],
         "mode": "lines",
         "opacity": 0.6,
         "type": "scattergeo"
        },
        {
         "lat": [
          39.074208,
          56.26392
         ],
         "line": {
          "color": "blue",
          "width": 1
         },
         "locationmode": "ISO-3",
         "lon": [
          21.824312,
          9.501785
         ],
         "mode": "lines",
         "opacity": 0.6,
         "type": "scattergeo"
        },
        {
         "lat": [
          39.074208,
          45.1
         ],
         "line": {
          "color": "blue",
          "width": 1
         },
         "locationmode": "ISO-3",
         "lon": [
          21.824312,
          15.2
         ],
         "mode": "lines",
         "opacity": 0.6,
         "type": "scattergeo"
        },
        {
         "lat": [
          39.074208,
          47.516231
         ],
         "line": {
          "color": "blue",
          "width": 1
         },
         "locationmode": "ISO-3",
         "lon": [
          21.824312,
          14.550072
         ],
         "mode": "lines",
         "opacity": 0.6,
         "type": "scattergeo"
        },
        {
         "lat": [
          39.074208,
          45.943161
         ],
         "line": {
          "color": "blue",
          "width": 1
         },
         "locationmode": "ISO-3",
         "lon": [
          21.824312,
          24.96676
         ],
         "mode": "lines",
         "opacity": 0.6,
         "type": "scattergeo"
        },
        {
         "lat": [
          39.074208,
          41.87194
         ],
         "line": {
          "color": "blue",
          "width": 1
         },
         "locationmode": "ISO-3",
         "lon": [
          21.824312,
          12.56738
         ],
         "mode": "lines",
         "opacity": 0.6,
         "type": "scattergeo"
        },
        {
         "lat": [
          39.074208,
          51.919438
         ],
         "line": {
          "color": "blue",
          "width": 1
         },
         "locationmode": "ISO-3",
         "lon": [
          21.824312,
          19.145136
         ],
         "mode": "lines",
         "opacity": 0.6,
         "type": "scattergeo"
        },
        {
         "lat": [
          39.074208,
          52.132633
         ],
         "line": {
          "color": "blue",
          "width": 1
         },
         "locationmode": "ISO-3",
         "lon": [
          21.824312,
          5.291266
         ],
         "mode": "lines",
         "opacity": 0.6,
         "type": "scattergeo"
        },
        {
         "lat": [
          39.074208,
          47.162494
         ],
         "line": {
          "color": "blue",
          "width": 1
         },
         "locationmode": "ISO-3",
         "lon": [
          21.824312,
          19.503304
         ],
         "mode": "lines",
         "opacity": 0.6,
         "type": "scattergeo"
        },
        {
         "lat": [
          39.074208,
          39.399872
         ],
         "line": {
          "color": "blue",
          "width": 1
         },
         "locationmode": "ISO-3",
         "lon": [
          21.824312,
          -8.224454
         ],
         "mode": "lines",
         "opacity": 0.6,
         "type": "scattergeo"
        },
        {
         "lat": [
          39.074208,
          -30.559482
         ],
         "line": {
          "color": "blue",
          "width": 1
         },
         "locationmode": "ISO-3",
         "lon": [
          21.824312,
          22.937506
         ],
         "mode": "lines",
         "opacity": 0.6,
         "type": "scattergeo"
        },
        {
         "lat": [
          39.074208,
          46.227638
         ],
         "line": {
          "color": "blue",
          "width": 1
         },
         "locationmode": "ISO-3",
         "lon": [
          21.824312,
          2.213749
         ],
         "mode": "lines",
         "opacity": 0.6,
         "type": "scattergeo"
        },
        {
         "lat": [
          39.074208,
          41.153332
         ],
         "line": {
          "color": "blue",
          "width": 1
         },
         "locationmode": "ISO-3",
         "lon": [
          21.824312,
          20.168331
         ],
         "mode": "lines",
         "opacity": 0.6,
         "type": "scattergeo"
        },
        {
         "lat": [
          39.074208,
          -32.522779
         ],
         "line": {
          "color": "blue",
          "width": 1
         },
         "locationmode": "ISO-3",
         "lon": [
          21.824312,
          -55.765835
         ],
         "mode": "lines",
         "opacity": 0.6,
         "type": "scattergeo"
        },
        {
         "lat": [
          39.074208,
          46.818188
         ],
         "line": {
          "color": "blue",
          "width": 1
         },
         "locationmode": "ISO-3",
         "lon": [
          21.824312,
          8.227512
         ],
         "mode": "lines",
         "opacity": 0.6,
         "type": "scattergeo"
        },
        {
         "lat": [
          39.074208,
          46.151241
         ],
         "line": {
          "color": "blue",
          "width": 1
         },
         "locationmode": "ISO-3",
         "lon": [
          21.824312,
          14.995463
         ],
         "mode": "lines",
         "opacity": 0.6,
         "type": "scattergeo"
        },
        {
         "lat": [
          39.074208,
          35.86166
         ],
         "line": {
          "color": "blue",
          "width": 1
         },
         "locationmode": "ISO-3",
         "lon": [
          21.824312,
          104.195397
         ],
         "mode": "lines",
         "opacity": 0.6,
         "type": "scattergeo"
        },
        {
         "lat": [
          39.074208,
          44.016521
         ],
         "line": {
          "color": "blue",
          "width": 1
         },
         "locationmode": "ISO-3",
         "lon": [
          21.824312,
          21.005859
         ],
         "mode": "lines",
         "opacity": 0.6,
         "type": "scattergeo"
        },
        {
         "lat": [
          39.074208,
          -16.290154
         ],
         "line": {
          "color": "blue",
          "width": 1
         },
         "locationmode": "ISO-3",
         "lon": [
          21.824312,
          -63.588653
         ],
         "mode": "lines",
         "opacity": 0.6,
         "type": "scattergeo"
        },
        {
         "lat": [
          39.074208,
          49.817492
         ],
         "line": {
          "color": "blue",
          "width": 1
         },
         "locationmode": "ISO-3",
         "lon": [
          21.824312,
          15.472962
         ],
         "mode": "lines",
         "opacity": 0.6,
         "type": "scattergeo"
        },
        {
         "lat": [
          39.074208,
          4.570868
         ],
         "line": {
          "color": "blue",
          "width": 1
         },
         "locationmode": "ISO-3",
         "lon": [
          21.824312,
          -74.297333
         ],
         "mode": "lines",
         "opacity": 0.6,
         "type": "scattergeo"
        },
        {
         "lat": [
          39.074208,
          60.128161
         ],
         "line": {
          "color": "blue",
          "width": 1
         },
         "locationmode": "ISO-3",
         "lon": [
          21.824312,
          18.643501
         ],
         "mode": "lines",
         "opacity": 0.6,
         "type": "scattergeo"
        },
        {
         "lat": [
          39.074208,
          41.608635
         ],
         "line": {
          "color": "blue",
          "width": 1
         },
         "locationmode": "ISO-3",
         "lon": [
          21.824312,
          21.745275
         ],
         "mode": "lines",
         "opacity": 0.6,
         "type": "scattergeo"
        },
        {
         "lat": [
          40.463667,
          -14.235004
         ],
         "line": {
          "color": "blue",
          "width": 1
         },
         "locationmode": "ISO-3",
         "lon": [
          -3.74922,
          -51.92528
         ],
         "mode": "lines",
         "opacity": 0.6,
         "type": "scattergeo"
        },
        {
         "lat": [
          40.463667,
          55.378051
         ],
         "line": {
          "color": "blue",
          "width": 1
         },
         "locationmode": "ISO-3",
         "lon": [
          -3.74922,
          -3.435973
         ],
         "mode": "lines",
         "opacity": 0.6,
         "type": "scattergeo"
        },
        {
         "lat": [
          40.463667,
          46.227638
         ],
         "line": {
          "color": "blue",
          "width": 1
         },
         "locationmode": "ISO-3",
         "lon": [
          -3.74922,
          2.213749
         ],
         "mode": "lines",
         "opacity": 0.6,
         "type": "scattergeo"
        },
        {
         "lat": [
          40.463667,
          40.463667
         ],
         "line": {
          "color": "blue",
          "width": 1
         },
         "locationmode": "ISO-3",
         "lon": [
          -3.74922,
          -3.74922
         ],
         "mode": "lines",
         "opacity": 0.6,
         "type": "scattergeo"
        },
        {
         "lat": [
          40.463667,
          23.634501
         ],
         "line": {
          "color": "blue",
          "width": 1
         },
         "locationmode": "ISO-3",
         "lon": [
          -3.74922,
          -102.552784
         ],
         "mode": "lines",
         "opacity": 0.6,
         "type": "scattergeo"
        },
        {
         "lat": [
          40.463667,
          51.165691
         ],
         "line": {
          "color": "blue",
          "width": 1
         },
         "locationmode": "ISO-3",
         "lon": [
          -3.74922,
          10.451526
         ],
         "mode": "lines",
         "opacity": 0.6,
         "type": "scattergeo"
        },
        {
         "lat": [
          40.463667,
          25.354826
         ],
         "line": {
          "color": "blue",
          "width": 1
         },
         "locationmode": "ISO-3",
         "lon": [
          -3.74922,
          51.183884
         ],
         "mode": "lines",
         "opacity": 0.6,
         "type": "scattergeo"
        },
        {
         "lat": [
          40.463667,
          41.87194
         ],
         "line": {
          "color": "blue",
          "width": 1
         },
         "locationmode": "ISO-3",
         "lon": [
          -3.74922,
          12.56738
         ],
         "mode": "lines",
         "opacity": 0.6,
         "type": "scattergeo"
        },
        {
         "lat": [
          40.463667,
          -38.416097
         ],
         "line": {
          "color": "blue",
          "width": 1
         },
         "locationmode": "ISO-3",
         "lon": [
          -3.74922,
          -63.616672
         ],
         "mode": "lines",
         "opacity": 0.6,
         "type": "scattergeo"
        },
        {
         "lat": [
          40.463667,
          46.818188
         ],
         "line": {
          "color": "blue",
          "width": 1
         },
         "locationmode": "ISO-3",
         "lon": [
          -3.74922,
          8.227512
         ],
         "mode": "lines",
         "opacity": 0.6,
         "type": "scattergeo"
        },
        {
         "lat": [
          40.463667,
          39.399872
         ],
         "line": {
          "color": "blue",
          "width": 1
         },
         "locationmode": "ISO-3",
         "lon": [
          -3.74922,
          -8.224454
         ],
         "mode": "lines",
         "opacity": 0.6,
         "type": "scattergeo"
        },
        {
         "lat": [
          40.463667,
          50.503887
         ],
         "line": {
          "color": "blue",
          "width": 1
         },
         "locationmode": "ISO-3",
         "lon": [
          -3.74922,
          4.469936
         ],
         "mode": "lines",
         "opacity": 0.6,
         "type": "scattergeo"
        },
        {
         "lat": [
          40.463667,
          39.074208
         ],
         "line": {
          "color": "blue",
          "width": 1
         },
         "locationmode": "ISO-3",
         "lon": [
          -3.74922,
          21.824312
         ],
         "mode": "lines",
         "opacity": 0.6,
         "type": "scattergeo"
        },
        {
         "lat": [
          40.463667,
          37.09024
         ],
         "line": {
          "color": "blue",
          "width": 1
         },
         "locationmode": "ISO-3",
         "lon": [
          -3.74922,
          -95.712891
         ],
         "mode": "lines",
         "opacity": 0.6,
         "type": "scattergeo"
        },
        {
         "lat": [
          40.463667,
          31.046051
         ],
         "line": {
          "color": "blue",
          "width": 1
         },
         "locationmode": "ISO-3",
         "lon": [
          -3.74922,
          34.851612
         ],
         "mode": "lines",
         "opacity": 0.6,
         "type": "scattergeo"
        },
        {
         "lat": [
          40.463667,
          35.907757
         ],
         "line": {
          "color": "blue",
          "width": 1
         },
         "locationmode": "ISO-3",
         "lon": [
          -3.74922,
          127.766922
         ],
         "mode": "lines",
         "opacity": 0.6,
         "type": "scattergeo"
        },
        {
         "lat": [
          40.463667,
          45.943161
         ],
         "line": {
          "color": "blue",
          "width": 1
         },
         "locationmode": "ISO-3",
         "lon": [
          -3.74922,
          24.96676
         ],
         "mode": "lines",
         "opacity": 0.6,
         "type": "scattergeo"
        },
        {
         "lat": [
          40.463667,
          31.791702
         ],
         "line": {
          "color": "blue",
          "width": 1
         },
         "locationmode": "ISO-3",
         "lon": [
          -3.74922,
          -7.09262
         ],
         "mode": "lines",
         "opacity": 0.6,
         "type": "scattergeo"
        },
        {
         "lat": [
          40.463667,
          35.126413
         ],
         "line": {
          "color": "blue",
          "width": 1
         },
         "locationmode": "ISO-3",
         "lon": [
          -3.74922,
          33.429859
         ],
         "mode": "lines",
         "opacity": 0.6,
         "type": "scattergeo"
        },
        {
         "lat": [
          40.463667,
          4.570868
         ],
         "line": {
          "color": "blue",
          "width": 1
         },
         "locationmode": "ISO-3",
         "lon": [
          -3.74922,
          -74.297333
         ],
         "mode": "lines",
         "opacity": 0.6,
         "type": "scattergeo"
        },
        {
         "lat": [
          40.463667,
          6.42375
         ],
         "line": {
          "color": "blue",
          "width": 1
         },
         "locationmode": "ISO-3",
         "lon": [
          -3.74922,
          -66.58973
         ],
         "mode": "lines",
         "opacity": 0.6,
         "type": "scattergeo"
        },
        {
         "lat": [
          40.463667,
          -23.442503
         ],
         "line": {
          "color": "blue",
          "width": 1
         },
         "locationmode": "ISO-3",
         "lon": [
          -3.74922,
          -58.443832
         ],
         "mode": "lines",
         "opacity": 0.6,
         "type": "scattergeo"
        },
        {
         "lat": [
          40.463667,
          44.016521
         ],
         "line": {
          "color": "blue",
          "width": 1
         },
         "locationmode": "ISO-3",
         "lon": [
          -3.74922,
          21.005859
         ],
         "mode": "lines",
         "opacity": 0.6,
         "type": "scattergeo"
        },
        {
         "lat": [
          40.463667,
          -9.189967
         ],
         "line": {
          "color": "blue",
          "width": 1
         },
         "locationmode": "ISO-3",
         "lon": [
          -3.74922,
          -75.015152
         ],
         "mode": "lines",
         "opacity": 0.6,
         "type": "scattergeo"
        },
        {
         "lat": [
          40.463667,
          42.546245
         ],
         "line": {
          "color": "blue",
          "width": 1
         },
         "locationmode": "ISO-3",
         "lon": [
          -3.74922,
          1.601554
         ],
         "mode": "lines",
         "opacity": 0.6,
         "type": "scattergeo"
        },
        {
         "lat": [
          40.463667,
          28.033886
         ],
         "line": {
          "color": "blue",
          "width": 1
         },
         "locationmode": "ISO-3",
         "lon": [
          -3.74922,
          1.659626
         ],
         "mode": "lines",
         "opacity": 0.6,
         "type": "scattergeo"
        },
        {
         "lat": [
          40.463667,
          -32.522779
         ],
         "line": {
          "color": "blue",
          "width": 1
         },
         "locationmode": "ISO-3",
         "lon": [
          -3.74922,
          -55.765835
         ],
         "mode": "lines",
         "opacity": 0.6,
         "type": "scattergeo"
        },
        {
         "lat": [
          52.132633,
          52.132633
         ],
         "line": {
          "color": "blue",
          "width": 1
         },
         "locationmode": "ISO-3",
         "lon": [
          5.291266,
          5.291266
         ],
         "mode": "lines",
         "opacity": 0.6,
         "type": "scattergeo"
        },
        {
         "lat": [
          52.132633,
          50.503887
         ],
         "line": {
          "color": "blue",
          "width": 1
         },
         "locationmode": "ISO-3",
         "lon": [
          5.291266,
          4.469936
         ],
         "mode": "lines",
         "opacity": 0.6,
         "type": "scattergeo"
        },
        {
         "lat": [
          52.132633,
          56.26392
         ],
         "line": {
          "color": "blue",
          "width": 1
         },
         "locationmode": "ISO-3",
         "lon": [
          5.291266,
          9.501785
         ],
         "mode": "lines",
         "opacity": 0.6,
         "type": "scattergeo"
        },
        {
         "lat": [
          52.132633,
          51.165691
         ],
         "line": {
          "color": "blue",
          "width": 1
         },
         "locationmode": "ISO-3",
         "lon": [
          5.291266,
          10.451526
         ],
         "mode": "lines",
         "opacity": 0.6,
         "type": "scattergeo"
        },
        {
         "lat": [
          52.132633,
          35.126413
         ],
         "line": {
          "color": "blue",
          "width": 1
         },
         "locationmode": "ISO-3",
         "lon": [
          5.291266,
          33.429859
         ],
         "mode": "lines",
         "opacity": 0.6,
         "type": "scattergeo"
        },
        {
         "lat": [
          52.132633,
          40.463667
         ],
         "line": {
          "color": "blue",
          "width": 1
         },
         "locationmode": "ISO-3",
         "lon": [
          5.291266,
          -3.74922
         ],
         "mode": "lines",
         "opacity": 0.6,
         "type": "scattergeo"
        },
        {
         "lat": [
          52.132633,
          41.87194
         ],
         "line": {
          "color": "blue",
          "width": 1
         },
         "locationmode": "ISO-3",
         "lon": [
          5.291266,
          12.56738
         ],
         "mode": "lines",
         "opacity": 0.6,
         "type": "scattergeo"
        },
        {
         "lat": [
          52.132633,
          55.378051
         ],
         "line": {
          "color": "blue",
          "width": 1
         },
         "locationmode": "ISO-3",
         "lon": [
          5.291266,
          -3.435973
         ],
         "mode": "lines",
         "opacity": 0.6,
         "type": "scattergeo"
        },
        {
         "lat": [
          52.132633,
          36.204824
         ],
         "line": {
          "color": "blue",
          "width": 1
         },
         "locationmode": "ISO-3",
         "lon": [
          5.291266,
          138.252924
         ],
         "mode": "lines",
         "opacity": 0.6,
         "type": "scattergeo"
        },
        {
         "lat": [
          52.132633,
          60.128161
         ],
         "line": {
          "color": "blue",
          "width": 1
         },
         "locationmode": "ISO-3",
         "lon": [
          5.291266,
          18.643501
         ],
         "mode": "lines",
         "opacity": 0.6,
         "type": "scattergeo"
        },
        {
         "lat": [
          52.132633,
          47.516231
         ],
         "line": {
          "color": "blue",
          "width": 1
         },
         "locationmode": "ISO-3",
         "lon": [
          5.291266,
          14.550072
         ],
         "mode": "lines",
         "opacity": 0.6,
         "type": "scattergeo"
        },
        {
         "lat": [
          52.132633,
          35.86166
         ],
         "line": {
          "color": "blue",
          "width": 1
         },
         "locationmode": "ISO-3",
         "lon": [
          5.291266,
          104.195397
         ],
         "mode": "lines",
         "opacity": 0.6,
         "type": "scattergeo"
        },
        {
         "lat": [
          52.132633,
          61.92411
         ],
         "line": {
          "color": "blue",
          "width": 1
         },
         "locationmode": "ISO-3",
         "lon": [
          5.291266,
          25.748151
         ],
         "mode": "lines",
         "opacity": 0.6,
         "type": "scattergeo"
        },
        {
         "lat": [
          52.132633,
          44.016521
         ],
         "line": {
          "color": "blue",
          "width": 1
         },
         "locationmode": "ISO-3",
         "lon": [
          5.291266,
          21.005859
         ],
         "mode": "lines",
         "opacity": 0.6,
         "type": "scattergeo"
        },
        {
         "lat": [
          52.132633,
          -14.235004
         ],
         "line": {
          "color": "blue",
          "width": 1
         },
         "locationmode": "ISO-3",
         "lon": [
          5.291266,
          -51.92528
         ],
         "mode": "lines",
         "opacity": 0.6,
         "type": "scattergeo"
        },
        {
         "lat": [
          52.132633,
          51.919438
         ],
         "line": {
          "color": "blue",
          "width": 1
         },
         "locationmode": "ISO-3",
         "lon": [
          5.291266,
          19.145136
         ],
         "mode": "lines",
         "opacity": 0.6,
         "type": "scattergeo"
        },
        {
         "lat": [
          52.132633,
          60.472024
         ],
         "line": {
          "color": "blue",
          "width": 1
         },
         "locationmode": "ISO-3",
         "lon": [
          5.291266,
          8.468946
         ],
         "mode": "lines",
         "opacity": 0.6,
         "type": "scattergeo"
        },
        {
         "lat": [
          52.132633,
          61.52401
         ],
         "line": {
          "color": "blue",
          "width": 1
         },
         "locationmode": "ISO-3",
         "lon": [
          5.291266,
          105.318756
         ],
         "mode": "lines",
         "opacity": 0.6,
         "type": "scattergeo"
        },
        {
         "lat": [
          52.132633,
          -25.274398
         ],
         "line": {
          "color": "blue",
          "width": 1
         },
         "locationmode": "ISO-3",
         "lon": [
          5.291266,
          133.775136
         ],
         "mode": "lines",
         "opacity": 0.6,
         "type": "scattergeo"
        },
        {
         "lat": [
          52.132633,
          46.818188
         ],
         "line": {
          "color": "blue",
          "width": 1
         },
         "locationmode": "ISO-3",
         "lon": [
          5.291266,
          8.227512
         ],
         "mode": "lines",
         "opacity": 0.6,
         "type": "scattergeo"
        },
        {
         "lat": [
          52.132633,
          39.399872
         ],
         "line": {
          "color": "blue",
          "width": 1
         },
         "locationmode": "ISO-3",
         "lon": [
          5.291266,
          -8.224454
         ],
         "mode": "lines",
         "opacity": 0.6,
         "type": "scattergeo"
        },
        {
         "lat": [
          52.132633,
          38.963745
         ],
         "line": {
          "color": "blue",
          "width": 1
         },
         "locationmode": "ISO-3",
         "lon": [
          5.291266,
          35.243322
         ],
         "mode": "lines",
         "opacity": 0.6,
         "type": "scattergeo"
        },
        {
         "lat": [
          52.132633,
          42.733883
         ],
         "line": {
          "color": "blue",
          "width": 1
         },
         "locationmode": "ISO-3",
         "lon": [
          5.291266,
          25.48583
         ],
         "mode": "lines",
         "opacity": 0.6,
         "type": "scattergeo"
        },
        {
         "lat": [
          52.132633,
          45.943161
         ],
         "line": {
          "color": "blue",
          "width": 1
         },
         "locationmode": "ISO-3",
         "lon": [
          5.291266,
          24.96676
         ],
         "mode": "lines",
         "opacity": 0.6,
         "type": "scattergeo"
        },
        {
         "lat": [
          41.87194,
          41.87194
         ],
         "line": {
          "color": "blue",
          "width": 1
         },
         "locationmode": "ISO-3",
         "lon": [
          12.56738,
          12.56738
         ],
         "mode": "lines",
         "opacity": 0.6,
         "type": "scattergeo"
        },
        {
         "lat": [
          41.87194,
          46.818188
         ],
         "line": {
          "color": "blue",
          "width": 1
         },
         "locationmode": "ISO-3",
         "lon": [
          12.56738,
          8.227512
         ],
         "mode": "lines",
         "opacity": 0.6,
         "type": "scattergeo"
        },
        {
         "lat": [
          41.87194,
          60.472024
         ],
         "line": {
          "color": "blue",
          "width": 1
         },
         "locationmode": "ISO-3",
         "lon": [
          12.56738,
          8.468946
         ],
         "mode": "lines",
         "opacity": 0.6,
         "type": "scattergeo"
        },
        {
         "lat": [
          41.87194,
          -25.274398
         ],
         "line": {
          "color": "blue",
          "width": 1
         },
         "locationmode": "ISO-3",
         "lon": [
          12.56738,
          133.775136
         ],
         "mode": "lines",
         "opacity": 0.6,
         "type": "scattergeo"
        },
        {
         "lat": [
          41.87194,
          55.378051
         ],
         "line": {
          "color": "blue",
          "width": 1
         },
         "locationmode": "ISO-3",
         "lon": [
          12.56738,
          -3.435973
         ],
         "mode": "lines",
         "opacity": 0.6,
         "type": "scattergeo"
        },
        {
         "lat": [
          41.87194,
          -35.675147
         ],
         "line": {
          "color": "blue",
          "width": 1
         },
         "locationmode": "ISO-3",
         "lon": [
          12.56738,
          -71.542969
         ],
         "mode": "lines",
         "opacity": 0.6,
         "type": "scattergeo"
        },
        {
         "lat": [
          41.87194,
          46.227638
         ],
         "line": {
          "color": "blue",
          "width": 1
         },
         "locationmode": "ISO-3",
         "lon": [
          12.56738,
          2.213749
         ],
         "mode": "lines",
         "opacity": 0.6,
         "type": "scattergeo"
        },
        {
         "lat": [
          41.87194,
          51.165691
         ],
         "line": {
          "color": "blue",
          "width": 1
         },
         "locationmode": "ISO-3",
         "lon": [
          12.56738,
          10.451526
         ],
         "mode": "lines",
         "opacity": 0.6,
         "type": "scattergeo"
        },
        {
         "lat": [
          41.87194,
          47.516231
         ],
         "line": {
          "color": "blue",
          "width": 1
         },
         "locationmode": "ISO-3",
         "lon": [
          12.56738,
          14.550072
         ],
         "mode": "lines",
         "opacity": 0.6,
         "type": "scattergeo"
        },
        {
         "lat": [
          41.87194,
          -38.416097
         ],
         "line": {
          "color": "blue",
          "width": 1
         },
         "locationmode": "ISO-3",
         "lon": [
          12.56738,
          -63.616672
         ],
         "mode": "lines",
         "opacity": 0.6,
         "type": "scattergeo"
        },
        {
         "lat": [
          41.87194,
          40.463667
         ],
         "line": {
          "color": "blue",
          "width": 1
         },
         "locationmode": "ISO-3",
         "lon": [
          12.56738,
          -3.74922
         ],
         "mode": "lines",
         "opacity": 0.6,
         "type": "scattergeo"
        },
        {
         "lat": [
          41.87194,
          -14.235004
         ],
         "line": {
          "color": "blue",
          "width": 1
         },
         "locationmode": "ISO-3",
         "lon": [
          12.56738,
          -51.92528
         ],
         "mode": "lines",
         "opacity": 0.6,
         "type": "scattergeo"
        },
        {
         "lat": [
          41.87194,
          50.503887
         ],
         "line": {
          "color": "blue",
          "width": 1
         },
         "locationmode": "ISO-3",
         "lon": [
          12.56738,
          4.469936
         ],
         "mode": "lines",
         "opacity": 0.6,
         "type": "scattergeo"
        },
        {
         "lat": [
          41.87194,
          4.570868
         ],
         "line": {
          "color": "blue",
          "width": 1
         },
         "locationmode": "ISO-3",
         "lon": [
          12.56738,
          -74.297333
         ],
         "mode": "lines",
         "opacity": 0.6,
         "type": "scattergeo"
        },
        {
         "lat": [
          41.87194,
          25.354826
         ],
         "line": {
          "color": "blue",
          "width": 1
         },
         "locationmode": "ISO-3",
         "lon": [
          12.56738,
          51.183884
         ],
         "mode": "lines",
         "opacity": 0.6,
         "type": "scattergeo"
        },
        {
         "lat": [
          41.87194,
          60.128161
         ],
         "line": {
          "color": "blue",
          "width": 1
         },
         "locationmode": "ISO-3",
         "lon": [
          12.56738,
          18.643501
         ],
         "mode": "lines",
         "opacity": 0.6,
         "type": "scattergeo"
        },
        {
         "lat": [
          41.87194,
          -30.559482
         ],
         "line": {
          "color": "blue",
          "width": 1
         },
         "locationmode": "ISO-3",
         "lon": [
          12.56738,
          22.937506
         ],
         "mode": "lines",
         "opacity": 0.6,
         "type": "scattergeo"
        },
        {
         "lat": [
          41.87194,
          39.074208
         ],
         "line": {
          "color": "blue",
          "width": 1
         },
         "locationmode": "ISO-3",
         "lon": [
          12.56738,
          21.824312
         ],
         "mode": "lines",
         "opacity": 0.6,
         "type": "scattergeo"
        },
        {
         "lat": [
          41.87194,
          38.963745
         ],
         "line": {
          "color": "blue",
          "width": 1
         },
         "locationmode": "ISO-3",
         "lon": [
          12.56738,
          35.243322
         ],
         "mode": "lines",
         "opacity": 0.6,
         "type": "scattergeo"
        },
        {
         "lat": [
          41.87194,
          61.52401
         ],
         "line": {
          "color": "blue",
          "width": 1
         },
         "locationmode": "ISO-3",
         "lon": [
          12.56738,
          105.318756
         ],
         "mode": "lines",
         "opacity": 0.6,
         "type": "scattergeo"
        },
        {
         "lat": [
          41.87194,
          39.399872
         ],
         "line": {
          "color": "blue",
          "width": 1
         },
         "locationmode": "ISO-3",
         "lon": [
          12.56738,
          -8.224454
         ],
         "mode": "lines",
         "opacity": 0.6,
         "type": "scattergeo"
        },
        {
         "lat": [
          41.87194,
          42.708678
         ],
         "line": {
          "color": "blue",
          "width": 1
         },
         "locationmode": "ISO-3",
         "lon": [
          12.56738,
          19.37439
         ],
         "mode": "lines",
         "opacity": 0.6,
         "type": "scattergeo"
        },
        {
         "lat": [
          41.87194,
          36.204824
         ],
         "line": {
          "color": "blue",
          "width": 1
         },
         "locationmode": "ISO-3",
         "lon": [
          12.56738,
          138.252924
         ],
         "mode": "lines",
         "opacity": 0.6,
         "type": "scattergeo"
        },
        {
         "lat": [
          41.87194,
          48.379433
         ],
         "line": {
          "color": "blue",
          "width": 1
         },
         "locationmode": "ISO-3",
         "lon": [
          12.56738,
          31.16558
         ],
         "mode": "lines",
         "opacity": 0.6,
         "type": "scattergeo"
        },
        {
         "lat": [
          41.87194,
          45.1
         ],
         "line": {
          "color": "blue",
          "width": 1
         },
         "locationmode": "ISO-3",
         "lon": [
          12.56738,
          15.2
         ],
         "mode": "lines",
         "opacity": 0.6,
         "type": "scattergeo"
        },
        {
         "lat": [
          41.87194,
          52.132633
         ],
         "line": {
          "color": "blue",
          "width": 1
         },
         "locationmode": "ISO-3",
         "lon": [
          12.56738,
          5.291266
         ],
         "mode": "lines",
         "opacity": 0.6,
         "type": "scattergeo"
        },
        {
         "lat": [
          41.87194,
          -32.522779
         ],
         "line": {
          "color": "blue",
          "width": 1
         },
         "locationmode": "ISO-3",
         "lon": [
          12.56738,
          -55.765835
         ],
         "mode": "lines",
         "opacity": 0.6,
         "type": "scattergeo"
        },
        {
         "lat": [
          41.87194,
          -23.442503
         ],
         "line": {
          "color": "blue",
          "width": 1
         },
         "locationmode": "ISO-3",
         "lon": [
          12.56738,
          -58.443832
         ],
         "mode": "lines",
         "opacity": 0.6,
         "type": "scattergeo"
        },
        {
         "lat": [
          41.87194,
          33.886917
         ],
         "line": {
          "color": "blue",
          "width": 1
         },
         "locationmode": "ISO-3",
         "lon": [
          12.56738,
          9.537499
         ],
         "mode": "lines",
         "opacity": 0.6,
         "type": "scattergeo"
        },
        {
         "lat": [
          41.87194,
          35.937496
         ],
         "line": {
          "color": "blue",
          "width": 1
         },
         "locationmode": "ISO-3",
         "lon": [
          12.56738,
          14.375416
         ],
         "mode": "lines",
         "opacity": 0.6,
         "type": "scattergeo"
        },
        {
         "lat": [
          41.87194,
          53.41291
         ],
         "line": {
          "color": "blue",
          "width": 1
         },
         "locationmode": "ISO-3",
         "lon": [
          12.56738,
          -8.24389
         ],
         "mode": "lines",
         "opacity": 0.6,
         "type": "scattergeo"
        },
        {
         "lat": [
          45.1,
          31.046051
         ],
         "line": {
          "color": "blue",
          "width": 1
         },
         "locationmode": "ISO-3",
         "lon": [
          15.2,
          34.851612
         ],
         "mode": "lines",
         "opacity": 0.6,
         "type": "scattergeo"
        },
        {
         "lat": [
          45.1,
          45.1
         ],
         "line": {
          "color": "blue",
          "width": 1
         },
         "locationmode": "ISO-3",
         "lon": [
          15.2,
          15.2
         ],
         "mode": "lines",
         "opacity": 0.6,
         "type": "scattergeo"
        },
        {
         "lat": [
          45.1,
          51.165691
         ],
         "line": {
          "color": "blue",
          "width": 1
         },
         "locationmode": "ISO-3",
         "lon": [
          15.2,
          10.451526
         ],
         "mode": "lines",
         "opacity": 0.6,
         "type": "scattergeo"
        },
        {
         "lat": [
          45.1,
          50.503887
         ],
         "line": {
          "color": "blue",
          "width": 1
         },
         "locationmode": "ISO-3",
         "lon": [
          15.2,
          4.469936
         ],
         "mode": "lines",
         "opacity": 0.6,
         "type": "scattergeo"
        },
        {
         "lat": [
          45.1,
          35.907757
         ],
         "line": {
          "color": "blue",
          "width": 1
         },
         "locationmode": "ISO-3",
         "lon": [
          15.2,
          127.766922
         ],
         "mode": "lines",
         "opacity": 0.6,
         "type": "scattergeo"
        },
        {
         "lat": [
          45.1,
          43.915886
         ],
         "line": {
          "color": "blue",
          "width": 1
         },
         "locationmode": "ISO-3",
         "lon": [
          15.2,
          17.679076
         ],
         "mode": "lines",
         "opacity": 0.6,
         "type": "scattergeo"
        },
        {
         "lat": [
          45.1,
          38.963745
         ],
         "line": {
          "color": "blue",
          "width": 1
         },
         "locationmode": "ISO-3",
         "lon": [
          15.2,
          35.243322
         ],
         "mode": "lines",
         "opacity": 0.6,
         "type": "scattergeo"
        },
        {
         "lat": [
          45.1,
          45.943161
         ],
         "line": {
          "color": "blue",
          "width": 1
         },
         "locationmode": "ISO-3",
         "lon": [
          15.2,
          24.96676
         ],
         "mode": "lines",
         "opacity": 0.6,
         "type": "scattergeo"
        },
        {
         "lat": [
          45.1,
          46.227638
         ],
         "line": {
          "color": "blue",
          "width": 1
         },
         "locationmode": "ISO-3",
         "lon": [
          15.2,
          2.213749
         ],
         "mode": "lines",
         "opacity": 0.6,
         "type": "scattergeo"
        },
        {
         "lat": [
          45.1,
          46.151241
         ],
         "line": {
          "color": "blue",
          "width": 1
         },
         "locationmode": "ISO-3",
         "lon": [
          15.2,
          14.995463
         ],
         "mode": "lines",
         "opacity": 0.6,
         "type": "scattergeo"
        },
        {
         "lat": [
          45.1,
          46.818188
         ],
         "line": {
          "color": "blue",
          "width": 1
         },
         "locationmode": "ISO-3",
         "lon": [
          15.2,
          8.227512
         ],
         "mode": "lines",
         "opacity": 0.6,
         "type": "scattergeo"
        },
        {
         "lat": [
          45.1,
          52.132633
         ],
         "line": {
          "color": "blue",
          "width": 1
         },
         "locationmode": "ISO-3",
         "lon": [
          15.2,
          5.291266
         ],
         "mode": "lines",
         "opacity": 0.6,
         "type": "scattergeo"
        },
        {
         "lat": [
          45.1,
          39.074208
         ],
         "line": {
          "color": "blue",
          "width": 1
         },
         "locationmode": "ISO-3",
         "lon": [
          15.2,
          21.824312
         ],
         "mode": "lines",
         "opacity": 0.6,
         "type": "scattergeo"
        },
        {
         "lat": [
          45.1,
          61.52401
         ],
         "line": {
          "color": "blue",
          "width": 1
         },
         "locationmode": "ISO-3",
         "lon": [
          15.2,
          105.318756
         ],
         "mode": "lines",
         "opacity": 0.6,
         "type": "scattergeo"
        },
        {
         "lat": [
          45.1,
          47.516231
         ],
         "line": {
          "color": "blue",
          "width": 1
         },
         "locationmode": "ISO-3",
         "lon": [
          15.2,
          14.550072
         ],
         "mode": "lines",
         "opacity": 0.6,
         "type": "scattergeo"
        },
        {
         "lat": [
          45.1,
          60.128161
         ],
         "line": {
          "color": "blue",
          "width": 1
         },
         "locationmode": "ISO-3",
         "lon": [
          15.2,
          18.643501
         ],
         "mode": "lines",
         "opacity": 0.6,
         "type": "scattergeo"
        },
        {
         "lat": [
          45.1,
          64.963051
         ],
         "line": {
          "color": "blue",
          "width": 1
         },
         "locationmode": "ISO-3",
         "lon": [
          15.2,
          -19.020835
         ],
         "mode": "lines",
         "opacity": 0.6,
         "type": "scattergeo"
        },
        {
         "lat": [
          45.1,
          41.153332
         ],
         "line": {
          "color": "blue",
          "width": 1
         },
         "locationmode": "ISO-3",
         "lon": [
          15.2,
          20.168331
         ],
         "mode": "lines",
         "opacity": 0.6,
         "type": "scattergeo"
        },
        {
         "lat": [
          45.1,
          51.919438
         ],
         "line": {
          "color": "blue",
          "width": 1
         },
         "locationmode": "ISO-3",
         "lon": [
          15.2,
          19.145136
         ],
         "mode": "lines",
         "opacity": 0.6,
         "type": "scattergeo"
        },
        {
         "lat": [
          45.1,
          -25.274398
         ],
         "line": {
          "color": "blue",
          "width": 1
         },
         "locationmode": "ISO-3",
         "lon": [
          15.2,
          133.775136
         ],
         "mode": "lines",
         "opacity": 0.6,
         "type": "scattergeo"
        },
        {
         "lat": [
          45.1,
          36.204824
         ],
         "line": {
          "color": "blue",
          "width": 1
         },
         "locationmode": "ISO-3",
         "lon": [
          15.2,
          138.252924
         ],
         "mode": "lines",
         "opacity": 0.6,
         "type": "scattergeo"
        },
        {
         "lat": [
          36.204824,
          51.165691
         ],
         "line": {
          "color": "blue",
          "width": 1
         },
         "locationmode": "ISO-3",
         "lon": [
          138.252924,
          10.451526
         ],
         "mode": "lines",
         "opacity": 0.6,
         "type": "scattergeo"
        },
        {
         "lat": [
          36.204824,
          -14.235004
         ],
         "line": {
          "color": "blue",
          "width": 1
         },
         "locationmode": "ISO-3",
         "lon": [
          138.252924,
          -51.92528
         ],
         "mode": "lines",
         "opacity": 0.6,
         "type": "scattergeo"
        },
        {
         "lat": [
          36.204824,
          46.227638
         ],
         "line": {
          "color": "blue",
          "width": 1
         },
         "locationmode": "ISO-3",
         "lon": [
          138.252924,
          2.213749
         ],
         "mode": "lines",
         "opacity": 0.6,
         "type": "scattergeo"
        },
        {
         "lat": [
          36.204824,
          52.132633
         ],
         "line": {
          "color": "blue",
          "width": 1
         },
         "locationmode": "ISO-3",
         "lon": [
          138.252924,
          5.291266
         ],
         "mode": "lines",
         "opacity": 0.6,
         "type": "scattergeo"
        },
        {
         "lat": [
          36.204824,
          36.204824
         ],
         "line": {
          "color": "blue",
          "width": 1
         },
         "locationmode": "ISO-3",
         "lon": [
          138.252924,
          138.252924
         ],
         "mode": "lines",
         "opacity": 0.6,
         "type": "scattergeo"
        },
        {
         "lat": [
          36.204824,
          45.1
         ],
         "line": {
          "color": "blue",
          "width": 1
         },
         "locationmode": "ISO-3",
         "lon": [
          138.252924,
          15.2
         ],
         "mode": "lines",
         "opacity": 0.6,
         "type": "scattergeo"
        },
        {
         "lat": [
          36.204824,
          44.016521
         ],
         "line": {
          "color": "blue",
          "width": 1
         },
         "locationmode": "ISO-3",
         "lon": [
          138.252924,
          21.005859
         ],
         "mode": "lines",
         "opacity": 0.6,
         "type": "scattergeo"
        },
        {
         "lat": [
          36.204824,
          35.907757
         ],
         "line": {
          "color": "blue",
          "width": 1
         },
         "locationmode": "ISO-3",
         "lon": [
          138.252924,
          127.766922
         ],
         "mode": "lines",
         "opacity": 0.6,
         "type": "scattergeo"
        },
        {
         "lat": [
          36.204824,
          23.634501
         ],
         "line": {
          "color": "blue",
          "width": 1
         },
         "locationmode": "ISO-3",
         "lon": [
          138.252924,
          -102.552784
         ],
         "mode": "lines",
         "opacity": 0.6,
         "type": "scattergeo"
        },
        {
         "lat": [
          36.204824,
          40.463667
         ],
         "line": {
          "color": "blue",
          "width": 1
         },
         "locationmode": "ISO-3",
         "lon": [
          138.252924,
          -3.74922
         ],
         "mode": "lines",
         "opacity": 0.6,
         "type": "scattergeo"
        },
        {
         "lat": [
          36.204824,
          51.919438
         ],
         "line": {
          "color": "blue",
          "width": 1
         },
         "locationmode": "ISO-3",
         "lon": [
          138.252924,
          19.145136
         ],
         "mode": "lines",
         "opacity": 0.6,
         "type": "scattergeo"
        },
        {
         "lat": [
          36.204824,
          25.354826
         ],
         "line": {
          "color": "blue",
          "width": 1
         },
         "locationmode": "ISO-3",
         "lon": [
          138.252924,
          51.183884
         ],
         "mode": "lines",
         "opacity": 0.6,
         "type": "scattergeo"
        },
        {
         "lat": [
          36.204824,
          1.352083
         ],
         "line": {
          "color": "blue",
          "width": 1
         },
         "locationmode": "ISO-3",
         "lon": [
          138.252924,
          103.819836
         ],
         "mode": "lines",
         "opacity": 0.6,
         "type": "scattergeo"
        },
        {
         "lat": [
          36.204824,
          -25.274398
         ],
         "line": {
          "color": "blue",
          "width": 1
         },
         "locationmode": "ISO-3",
         "lon": [
          138.252924,
          133.775136
         ],
         "mode": "lines",
         "opacity": 0.6,
         "type": "scattergeo"
        },
        {
         "lat": [
          36.204824,
          55.378051
         ],
         "line": {
          "color": "blue",
          "width": 1
         },
         "locationmode": "ISO-3",
         "lon": [
          138.252924,
          -3.435973
         ],
         "mode": "lines",
         "opacity": 0.6,
         "type": "scattergeo"
        },
        {
         "lat": [
          -14.235004,
          -14.235004
         ],
         "line": {
          "color": "blue",
          "width": 1
         },
         "locationmode": "ISO-3",
         "lon": [
          -51.92528,
          -51.92528
         ],
         "mode": "lines",
         "opacity": 0.6,
         "type": "scattergeo"
        },
        {
         "lat": [
          -14.235004,
          51.165691
         ],
         "line": {
          "color": "blue",
          "width": 1
         },
         "locationmode": "ISO-3",
         "lon": [
          -51.92528,
          10.451526
         ],
         "mode": "lines",
         "opacity": 0.6,
         "type": "scattergeo"
        },
        {
         "lat": [
          -14.235004,
          41.87194
         ],
         "line": {
          "color": "blue",
          "width": 1
         },
         "locationmode": "ISO-3",
         "lon": [
          -51.92528,
          12.56738
         ],
         "mode": "lines",
         "opacity": 0.6,
         "type": "scattergeo"
        },
        {
         "lat": [
          -14.235004,
          46.818188
         ],
         "line": {
          "color": "blue",
          "width": 1
         },
         "locationmode": "ISO-3",
         "lon": [
          -51.92528,
          8.227512
         ],
         "mode": "lines",
         "opacity": 0.6,
         "type": "scattergeo"
        },
        {
         "lat": [
          -14.235004,
          39.399872
         ],
         "line": {
          "color": "blue",
          "width": 1
         },
         "locationmode": "ISO-3",
         "lon": [
          -51.92528,
          -8.224454
         ],
         "mode": "lines",
         "opacity": 0.6,
         "type": "scattergeo"
        },
        {
         "lat": [
          -14.235004,
          36.204824
         ],
         "line": {
          "color": "blue",
          "width": 1
         },
         "locationmode": "ISO-3",
         "lon": [
          -51.92528,
          138.252924
         ],
         "mode": "lines",
         "opacity": 0.6,
         "type": "scattergeo"
        },
        {
         "lat": [
          -14.235004,
          56.26392
         ],
         "line": {
          "color": "blue",
          "width": 1
         },
         "locationmode": "ISO-3",
         "lon": [
          -51.92528,
          9.501785
         ],
         "mode": "lines",
         "opacity": 0.6,
         "type": "scattergeo"
        },
        {
         "lat": [
          -14.235004,
          39.074208
         ],
         "line": {
          "color": "blue",
          "width": 1
         },
         "locationmode": "ISO-3",
         "lon": [
          -51.92528,
          21.824312
         ],
         "mode": "lines",
         "opacity": 0.6,
         "type": "scattergeo"
        },
        {
         "lat": [
          -14.235004,
          -38.416097
         ],
         "line": {
          "color": "blue",
          "width": 1
         },
         "locationmode": "ISO-3",
         "lon": [
          -51.92528,
          -63.616672
         ],
         "mode": "lines",
         "opacity": 0.6,
         "type": "scattergeo"
        },
        {
         "lat": [
          -14.235004,
          46.227638
         ],
         "line": {
          "color": "blue",
          "width": 1
         },
         "locationmode": "ISO-3",
         "lon": [
          -51.92528,
          2.213749
         ],
         "mode": "lines",
         "opacity": 0.6,
         "type": "scattergeo"
        },
        {
         "lat": [
          -14.235004,
          61.52401
         ],
         "line": {
          "color": "blue",
          "width": 1
         },
         "locationmode": "ISO-3",
         "lon": [
          -51.92528,
          105.318756
         ],
         "mode": "lines",
         "opacity": 0.6,
         "type": "scattergeo"
        },
        {
         "lat": [
          -14.235004,
          -35.675147
         ],
         "line": {
          "color": "blue",
          "width": 1
         },
         "locationmode": "ISO-3",
         "lon": [
          -51.92528,
          -71.542969
         ],
         "mode": "lines",
         "opacity": 0.6,
         "type": "scattergeo"
        },
        {
         "lat": [
          -14.235004,
          23.885942
         ],
         "line": {
          "color": "blue",
          "width": 1
         },
         "locationmode": "ISO-3",
         "lon": [
          -51.92528,
          45.079162
         ],
         "mode": "lines",
         "opacity": 0.6,
         "type": "scattergeo"
        },
        {
         "lat": [
          -14.235004,
          40.463667
         ],
         "line": {
          "color": "blue",
          "width": 1
         },
         "locationmode": "ISO-3",
         "lon": [
          -51.92528,
          -3.74922
         ],
         "mode": "lines",
         "opacity": 0.6,
         "type": "scattergeo"
        },
        {
         "lat": [
          -14.235004,
          51.919438
         ],
         "line": {
          "color": "blue",
          "width": 1
         },
         "locationmode": "ISO-3",
         "lon": [
          -51.92528,
          19.145136
         ],
         "mode": "lines",
         "opacity": 0.6,
         "type": "scattergeo"
        },
        {
         "lat": [
          -14.235004,
          50.503887
         ],
         "line": {
          "color": "blue",
          "width": 1
         },
         "locationmode": "ISO-3",
         "lon": [
          -51.92528,
          4.469936
         ],
         "mode": "lines",
         "opacity": 0.6,
         "type": "scattergeo"
        },
        {
         "lat": [
          -14.235004,
          55.378051
         ],
         "line": {
          "color": "blue",
          "width": 1
         },
         "locationmode": "ISO-3",
         "lon": [
          -51.92528,
          -3.435973
         ],
         "mode": "lines",
         "opacity": 0.6,
         "type": "scattergeo"
        },
        {
         "lat": [
          -14.235004,
          38.963745
         ],
         "line": {
          "color": "blue",
          "width": 1
         },
         "locationmode": "ISO-3",
         "lon": [
          -51.92528,
          35.243322
         ],
         "mode": "lines",
         "opacity": 0.6,
         "type": "scattergeo"
        },
        {
         "lat": [
          -14.235004,
          48.379433
         ],
         "line": {
          "color": "blue",
          "width": 1
         },
         "locationmode": "ISO-3",
         "lon": [
          -51.92528,
          31.16558
         ],
         "mode": "lines",
         "opacity": 0.6,
         "type": "scattergeo"
        },
        {
         "lat": [
          -14.235004,
          33.854721
         ],
         "line": {
          "color": "blue",
          "width": 1
         },
         "locationmode": "ISO-3",
         "lon": [
          -51.92528,
          35.862285
         ],
         "mode": "lines",
         "opacity": 0.6,
         "type": "scattergeo"
        },
        {
         "lat": [
          -14.235004,
          35.907757
         ],
         "line": {
          "color": "blue",
          "width": 1
         },
         "locationmode": "ISO-3",
         "lon": [
          -51.92528,
          127.766922
         ],
         "mode": "lines",
         "opacity": 0.6,
         "type": "scattergeo"
        },
        {
         "lat": [
          -14.235004,
          25.354826
         ],
         "line": {
          "color": "blue",
          "width": 1
         },
         "locationmode": "ISO-3",
         "lon": [
          -51.92528,
          51.183884
         ],
         "mode": "lines",
         "opacity": 0.6,
         "type": "scattergeo"
        },
        {
         "lat": [
          -14.235004,
          45.1
         ],
         "line": {
          "color": "blue",
          "width": 1
         },
         "locationmode": "ISO-3",
         "lon": [
          -51.92528,
          15.2
         ],
         "mode": "lines",
         "opacity": 0.6,
         "type": "scattergeo"
        },
        {
         "lat": [
          -14.235004,
          4.570868
         ],
         "line": {
          "color": "blue",
          "width": 1
         },
         "locationmode": "ISO-3",
         "lon": [
          -51.92528,
          -74.297333
         ],
         "mode": "lines",
         "opacity": 0.6,
         "type": "scattergeo"
        },
        {
         "lat": [
          -14.235004,
          47.516231
         ],
         "line": {
          "color": "blue",
          "width": 1
         },
         "locationmode": "ISO-3",
         "lon": [
          -51.92528,
          14.550072
         ],
         "mode": "lines",
         "opacity": 0.6,
         "type": "scattergeo"
        },
        {
         "lat": [
          -14.235004,
          31.046051
         ],
         "line": {
          "color": "blue",
          "width": 1
         },
         "locationmode": "ISO-3",
         "lon": [
          -51.92528,
          34.851612
         ],
         "mode": "lines",
         "opacity": 0.6,
         "type": "scattergeo"
        },
        {
         "lat": [
          -14.235004,
          60.128161
         ],
         "line": {
          "color": "blue",
          "width": 1
         },
         "locationmode": "ISO-3",
         "lon": [
          -51.92528,
          18.643501
         ],
         "mode": "lines",
         "opacity": 0.6,
         "type": "scattergeo"
        },
        {
         "lat": [
          -14.235004,
          23.424076
         ],
         "line": {
          "color": "blue",
          "width": 1
         },
         "locationmode": "ISO-3",
         "lon": [
          -51.92528,
          53.847818
         ],
         "mode": "lines",
         "opacity": 0.6,
         "type": "scattergeo"
        },
        {
         "lat": [
          -14.235004,
          33.886917
         ],
         "line": {
          "color": "blue",
          "width": 1
         },
         "locationmode": "ISO-3",
         "lon": [
          -51.92528,
          9.537499
         ],
         "mode": "lines",
         "opacity": 0.6,
         "type": "scattergeo"
        },
        {
         "lat": [
          -14.235004,
          23.634501
         ],
         "line": {
          "color": "blue",
          "width": 1
         },
         "locationmode": "ISO-3",
         "lon": [
          -51.92528,
          -102.552784
         ],
         "mode": "lines",
         "opacity": 0.6,
         "type": "scattergeo"
        },
        {
         "lat": [
          -14.235004,
          37.09024
         ],
         "line": {
          "color": "blue",
          "width": 1
         },
         "locationmode": "ISO-3",
         "lon": [
          -51.92528,
          -95.712891
         ],
         "mode": "lines",
         "opacity": 0.6,
         "type": "scattergeo"
        },
        {
         "lat": [
          -14.235004,
          -23.442503
         ],
         "line": {
          "color": "blue",
          "width": 1
         },
         "locationmode": "ISO-3",
         "lon": [
          -51.92528,
          -58.443832
         ],
         "mode": "lines",
         "opacity": 0.6,
         "type": "scattergeo"
        },
        {
         "lat": [
          -14.235004,
          22.396428
         ],
         "line": {
          "color": "blue",
          "width": 1
         },
         "locationmode": "ISO-3",
         "lon": [
          -51.92528,
          114.109497
         ],
         "mode": "lines",
         "opacity": 0.6,
         "type": "scattergeo"
        },
        {
         "lat": [
          -14.235004,
          -16.290154
         ],
         "line": {
          "color": "blue",
          "width": 1
         },
         "locationmode": "ISO-3",
         "lon": [
          -51.92528,
          -63.588653
         ],
         "mode": "lines",
         "opacity": 0.6,
         "type": "scattergeo"
        },
        {
         "lat": [
          -14.235004,
          35.86166
         ],
         "line": {
          "color": "blue",
          "width": 1
         },
         "locationmode": "ISO-3",
         "lon": [
          -51.92528,
          104.195397
         ],
         "mode": "lines",
         "opacity": 0.6,
         "type": "scattergeo"
        },
        {
         "lat": [
          -14.235004,
          42.733883
         ],
         "line": {
          "color": "blue",
          "width": 1
         },
         "locationmode": "ISO-3",
         "lon": [
          -51.92528,
          25.48583
         ],
         "mode": "lines",
         "opacity": 0.6,
         "type": "scattergeo"
        },
        {
         "lat": [
          -14.235004,
          -9.189967
         ],
         "line": {
          "color": "blue",
          "width": 1
         },
         "locationmode": "ISO-3",
         "lon": [
          -51.92528,
          -75.015152
         ],
         "mode": "lines",
         "opacity": 0.6,
         "type": "scattergeo"
        },
        {
         "lat": [
          -14.235004,
          42.315407
         ],
         "line": {
          "color": "blue",
          "width": 1
         },
         "locationmode": "ISO-3",
         "lon": [
          -51.92528,
          43.356892
         ],
         "mode": "lines",
         "opacity": 0.6,
         "type": "scattergeo"
        },
        {
         "lat": [
          -14.235004,
          45.943161
         ],
         "line": {
          "color": "blue",
          "width": 1
         },
         "locationmode": "ISO-3",
         "lon": [
          -51.92528,
          24.96676
         ],
         "mode": "lines",
         "opacity": 0.6,
         "type": "scattergeo"
        },
        {
         "lat": [
          61.52401,
          61.52401
         ],
         "line": {
          "color": "blue",
          "width": 1
         },
         "locationmode": "ISO-3",
         "lon": [
          105.318756,
          105.318756
         ],
         "mode": "lines",
         "opacity": 0.6,
         "type": "scattergeo"
        },
        {
         "lat": [
          61.52401,
          44.016521
         ],
         "line": {
          "color": "blue",
          "width": 1
         },
         "locationmode": "ISO-3",
         "lon": [
          105.318756,
          21.005859
         ],
         "mode": "lines",
         "opacity": 0.6,
         "type": "scattergeo"
        },
        {
         "lat": [
          61.52401,
          47.516231
         ],
         "line": {
          "color": "blue",
          "width": 1
         },
         "locationmode": "ISO-3",
         "lon": [
          105.318756,
          14.550072
         ],
         "mode": "lines",
         "opacity": 0.6,
         "type": "scattergeo"
        },
        {
         "lat": [
          61.52401,
          -38.416097
         ],
         "line": {
          "color": "blue",
          "width": 1
         },
         "locationmode": "ISO-3",
         "lon": [
          105.318756,
          -63.616672
         ],
         "mode": "lines",
         "opacity": 0.6,
         "type": "scattergeo"
        },
        {
         "lat": [
          61.52401,
          -1.831239
         ],
         "line": {
          "color": "blue",
          "width": 1
         },
         "locationmode": "ISO-3",
         "lon": [
          105.318756,
          -78.183406
         ],
         "mode": "lines",
         "opacity": 0.6,
         "type": "scattergeo"
        },
        {
         "lat": [
          61.52401,
          49.817492
         ],
         "line": {
          "color": "blue",
          "width": 1
         },
         "locationmode": "ISO-3",
         "lon": [
          105.318756,
          15.472962
         ],
         "mode": "lines",
         "opacity": 0.6,
         "type": "scattergeo"
        },
        {
         "lat": [
          61.52401,
          -14.235004
         ],
         "line": {
          "color": "blue",
          "width": 1
         },
         "locationmode": "ISO-3",
         "lon": [
          105.318756,
          -51.92528
         ],
         "mode": "lines",
         "opacity": 0.6,
         "type": "scattergeo"
        },
        {
         "lat": [
          61.52401,
          25.354826
         ],
         "line": {
          "color": "blue",
          "width": 1
         },
         "locationmode": "ISO-3",
         "lon": [
          105.318756,
          51.183884
         ],
         "mode": "lines",
         "opacity": 0.6,
         "type": "scattergeo"
        },
        {
         "lat": [
          61.52401,
          46.227638
         ],
         "line": {
          "color": "blue",
          "width": 1
         },
         "locationmode": "ISO-3",
         "lon": [
          105.318756,
          2.213749
         ],
         "mode": "lines",
         "opacity": 0.6,
         "type": "scattergeo"
        },
        {
         "lat": [
          61.52401,
          55.378051
         ],
         "line": {
          "color": "blue",
          "width": 1
         },
         "locationmode": "ISO-3",
         "lon": [
          105.318756,
          -3.435973
         ],
         "mode": "lines",
         "opacity": 0.6,
         "type": "scattergeo"
        },
        {
         "lat": [
          61.52401,
          39.399872
         ],
         "line": {
          "color": "blue",
          "width": 1
         },
         "locationmode": "ISO-3",
         "lon": [
          105.318756,
          -8.224454
         ],
         "mode": "lines",
         "opacity": 0.6,
         "type": "scattergeo"
        },
        {
         "lat": [
          61.52401,
          52.132633
         ],
         "line": {
          "color": "blue",
          "width": 1
         },
         "locationmode": "ISO-3",
         "lon": [
          105.318756,
          5.291266
         ],
         "mode": "lines",
         "opacity": 0.6,
         "type": "scattergeo"
        },
        {
         "lat": [
          61.52401,
          48.379433
         ],
         "line": {
          "color": "blue",
          "width": 1
         },
         "locationmode": "ISO-3",
         "lon": [
          105.318756,
          31.16558
         ],
         "mode": "lines",
         "opacity": 0.6,
         "type": "scattergeo"
        },
        {
         "lat": [
          61.52401,
          53.709807
         ],
         "line": {
          "color": "blue",
          "width": 1
         },
         "locationmode": "ISO-3",
         "lon": [
          105.318756,
          27.953389
         ],
         "mode": "lines",
         "opacity": 0.6,
         "type": "scattergeo"
        },
        {
         "lat": [
          61.52401,
          56.879635
         ],
         "line": {
          "color": "blue",
          "width": 1
         },
         "locationmode": "ISO-3",
         "lon": [
          105.318756,
          24.603189
         ],
         "mode": "lines",
         "opacity": 0.6,
         "type": "scattergeo"
        },
        {
         "lat": [
          61.52401,
          55.169438
         ],
         "line": {
          "color": "blue",
          "width": 1
         },
         "locationmode": "ISO-3",
         "lon": [
          105.318756,
          23.881275
         ],
         "mode": "lines",
         "opacity": 0.6,
         "type": "scattergeo"
        },
        {
         "lat": [
          61.52401,
          48.669026
         ],
         "line": {
          "color": "blue",
          "width": 1
         },
         "locationmode": "ISO-3",
         "lon": [
          105.318756,
          19.699024
         ],
         "mode": "lines",
         "opacity": 0.6,
         "type": "scattergeo"
        },
        {
         "lat": [
          61.52401,
          38.963745
         ],
         "line": {
          "color": "blue",
          "width": 1
         },
         "locationmode": "ISO-3",
         "lon": [
          105.318756,
          35.243322
         ],
         "mode": "lines",
         "opacity": 0.6,
         "type": "scattergeo"
        },
        {
         "lat": [
          61.52401,
          40.463667
         ],
         "line": {
          "color": "blue",
          "width": 1
         },
         "locationmode": "ISO-3",
         "lon": [
          105.318756,
          -3.74922
         ],
         "mode": "lines",
         "opacity": 0.6,
         "type": "scattergeo"
        },
        {
         "lat": [
          61.52401,
          -32.522779
         ],
         "line": {
          "color": "blue",
          "width": 1
         },
         "locationmode": "ISO-3",
         "lon": [
          105.318756,
          -55.765835
         ],
         "mode": "lines",
         "opacity": 0.6,
         "type": "scattergeo"
        },
        {
         "lat": [
          61.52401,
          4.570868
         ],
         "line": {
          "color": "blue",
          "width": 1
         },
         "locationmode": "ISO-3",
         "lon": [
          105.318756,
          -74.297333
         ],
         "mode": "lines",
         "opacity": 0.6,
         "type": "scattergeo"
        },
        {
         "lat": [
          61.52401,
          48.019573
         ],
         "line": {
          "color": "blue",
          "width": 1
         },
         "locationmode": "ISO-3",
         "lon": [
          105.318756,
          66.923684
         ],
         "mode": "lines",
         "opacity": 0.6,
         "type": "scattergeo"
        },
        {
         "lat": [
          61.52401,
          -30.559482
         ],
         "line": {
          "color": "blue",
          "width": 1
         },
         "locationmode": "ISO-3",
         "lon": [
          105.318756,
          22.937506
         ],
         "mode": "lines",
         "opacity": 0.6,
         "type": "scattergeo"
        },
        {
         "lat": [
          61.52401,
          35.86166
         ],
         "line": {
          "color": "blue",
          "width": 1
         },
         "locationmode": "ISO-3",
         "lon": [
          105.318756,
          104.195397
         ],
         "mode": "lines",
         "opacity": 0.6,
         "type": "scattergeo"
        },
        {
         "lat": [
          61.52401,
          41.87194
         ],
         "line": {
          "color": "blue",
          "width": 1
         },
         "locationmode": "ISO-3",
         "lon": [
          105.318756,
          12.56738
         ],
         "mode": "lines",
         "opacity": 0.6,
         "type": "scattergeo"
        },
        {
         "lat": [
          61.52401,
          46.151241
         ],
         "line": {
          "color": "blue",
          "width": 1
         },
         "locationmode": "ISO-3",
         "lon": [
          105.318756,
          14.995463
         ],
         "mode": "lines",
         "opacity": 0.6,
         "type": "scattergeo"
        },
        {
         "lat": [
          61.52401,
          39.074208
         ],
         "line": {
          "color": "blue",
          "width": 1
         },
         "locationmode": "ISO-3",
         "lon": [
          105.318756,
          21.824312
         ],
         "mode": "lines",
         "opacity": 0.6,
         "type": "scattergeo"
        },
        {
         "lat": [
          61.52401,
          40.143105
         ],
         "line": {
          "color": "blue",
          "width": 1
         },
         "locationmode": "ISO-3",
         "lon": [
          105.318756,
          47.576927
         ],
         "mode": "lines",
         "opacity": 0.6,
         "type": "scattergeo"
        },
        {
         "lat": [
          61.52401,
          -23.442503
         ],
         "line": {
          "color": "blue",
          "width": 1
         },
         "locationmode": "ISO-3",
         "lon": [
          105.318756,
          -58.443832
         ],
         "mode": "lines",
         "opacity": 0.6,
         "type": "scattergeo"
        },
        {
         "lat": [
          61.52401,
          40.069099
         ],
         "line": {
          "color": "blue",
          "width": 1
         },
         "locationmode": "ISO-3",
         "lon": [
          105.318756,
          45.038189
         ],
         "mode": "lines",
         "opacity": 0.6,
         "type": "scattergeo"
        },
        {
         "lat": [
          61.52401,
          53.41291
         ],
         "line": {
          "color": "blue",
          "width": 1
         },
         "locationmode": "ISO-3",
         "lon": [
          105.318756,
          -8.24389
         ],
         "mode": "lines",
         "opacity": 0.6,
         "type": "scattergeo"
        },
        {
         "lat": [
          61.52401,
          41.377491
         ],
         "line": {
          "color": "blue",
          "width": 1
         },
         "locationmode": "ISO-3",
         "lon": [
          105.318756,
          64.585262
         ],
         "mode": "lines",
         "opacity": 0.6,
         "type": "scattergeo"
        },
        {
         "lat": [
          61.52401,
          4.210484
         ],
         "line": {
          "color": "blue",
          "width": 1
         },
         "locationmode": "ISO-3",
         "lon": [
          105.318756,
          101.975766
         ],
         "mode": "lines",
         "opacity": 0.6,
         "type": "scattergeo"
        },
        {
         "lat": [
          61.52401,
          31.791702
         ],
         "line": {
          "color": "blue",
          "width": 1
         },
         "locationmode": "ISO-3",
         "lon": [
          105.318756,
          -7.09262
         ],
         "mode": "lines",
         "opacity": 0.6,
         "type": "scattergeo"
        },
        {
         "lat": [
          61.52401,
          58.595272
         ],
         "line": {
          "color": "blue",
          "width": 1
         },
         "locationmode": "ISO-3",
         "lon": [
          105.318756,
          25.013607
         ],
         "mode": "lines",
         "opacity": 0.6,
         "type": "scattergeo"
        },
        {
         "lat": [
          61.52401,
          61.92411
         ],
         "line": {
          "color": "blue",
          "width": 1
         },
         "locationmode": "ISO-3",
         "lon": [
          105.318756,
          25.748151
         ],
         "mode": "lines",
         "opacity": 0.6,
         "type": "scattergeo"
        },
        {
         "lat": [
          50.503887,
          49.815273
         ],
         "line": {
          "color": "blue",
          "width": 1
         },
         "locationmode": "ISO-3",
         "lon": [
          4.469936,
          6.129583
         ],
         "mode": "lines",
         "opacity": 0.6,
         "type": "scattergeo"
        },
        {
         "lat": [
          50.503887,
          -14.235004
         ],
         "line": {
          "color": "blue",
          "width": 1
         },
         "locationmode": "ISO-3",
         "lon": [
          4.469936,
          -51.92528
         ],
         "mode": "lines",
         "opacity": 0.6,
         "type": "scattergeo"
        },
        {
         "lat": [
          50.503887,
          52.132633
         ],
         "line": {
          "color": "blue",
          "width": 1
         },
         "locationmode": "ISO-3",
         "lon": [
          4.469936,
          5.291266
         ],
         "mode": "lines",
         "opacity": 0.6,
         "type": "scattergeo"
        },
        {
         "lat": [
          50.503887,
          50.503887
         ],
         "line": {
          "color": "blue",
          "width": 1
         },
         "locationmode": "ISO-3",
         "lon": [
          4.469936,
          4.469936
         ],
         "mode": "lines",
         "opacity": 0.6,
         "type": "scattergeo"
        },
        {
         "lat": [
          50.503887,
          38.963745
         ],
         "line": {
          "color": "blue",
          "width": 1
         },
         "locationmode": "ISO-3",
         "lon": [
          4.469936,
          35.243322
         ],
         "mode": "lines",
         "opacity": 0.6,
         "type": "scattergeo"
        },
        {
         "lat": [
          50.503887,
          51.165691
         ],
         "line": {
          "color": "blue",
          "width": 1
         },
         "locationmode": "ISO-3",
         "lon": [
          4.469936,
          10.451526
         ],
         "mode": "lines",
         "opacity": 0.6,
         "type": "scattergeo"
        },
        {
         "lat": [
          50.503887,
          46.818188
         ],
         "line": {
          "color": "blue",
          "width": 1
         },
         "locationmode": "ISO-3",
         "lon": [
          4.469936,
          8.227512
         ],
         "mode": "lines",
         "opacity": 0.6,
         "type": "scattergeo"
        },
        {
         "lat": [
          50.503887,
          41.87194
         ],
         "line": {
          "color": "blue",
          "width": 1
         },
         "locationmode": "ISO-3",
         "lon": [
          4.469936,
          12.56738
         ],
         "mode": "lines",
         "opacity": 0.6,
         "type": "scattergeo"
        },
        {
         "lat": [
          50.503887,
          23.424076
         ],
         "line": {
          "color": "blue",
          "width": 1
         },
         "locationmode": "ISO-3",
         "lon": [
          4.469936,
          53.847818
         ],
         "mode": "lines",
         "opacity": 0.6,
         "type": "scattergeo"
        },
        {
         "lat": [
          50.503887,
          46.227638
         ],
         "line": {
          "color": "blue",
          "width": 1
         },
         "locationmode": "ISO-3",
         "lon": [
          4.469936,
          2.213749
         ],
         "mode": "lines",
         "opacity": 0.6,
         "type": "scattergeo"
        },
        {
         "lat": [
          50.503887,
          55.378051
         ],
         "line": {
          "color": "blue",
          "width": 1
         },
         "locationmode": "ISO-3",
         "lon": [
          4.469936,
          -3.435973
         ],
         "mode": "lines",
         "opacity": 0.6,
         "type": "scattergeo"
        },
        {
         "lat": [
          50.503887,
          47.516231
         ],
         "line": {
          "color": "blue",
          "width": 1
         },
         "locationmode": "ISO-3",
         "lon": [
          4.469936,
          14.550072
         ],
         "mode": "lines",
         "opacity": 0.6,
         "type": "scattergeo"
        },
        {
         "lat": [
          50.503887,
          36.204824
         ],
         "line": {
          "color": "blue",
          "width": 1
         },
         "locationmode": "ISO-3",
         "lon": [
          4.469936,
          138.252924
         ],
         "mode": "lines",
         "opacity": 0.6,
         "type": "scattergeo"
        },
        {
         "lat": [
          50.503887,
          31.046051
         ],
         "line": {
          "color": "blue",
          "width": 1
         },
         "locationmode": "ISO-3",
         "lon": [
          4.469936,
          34.851612
         ],
         "mode": "lines",
         "opacity": 0.6,
         "type": "scattergeo"
        },
        {
         "lat": [
          50.503887,
          -25.274398
         ],
         "line": {
          "color": "blue",
          "width": 1
         },
         "locationmode": "ISO-3",
         "lon": [
          4.469936,
          133.775136
         ],
         "mode": "lines",
         "opacity": 0.6,
         "type": "scattergeo"
        },
        {
         "lat": [
          50.503887,
          60.472024
         ],
         "line": {
          "color": "blue",
          "width": 1
         },
         "locationmode": "ISO-3",
         "lon": [
          4.469936,
          8.468946
         ],
         "mode": "lines",
         "opacity": 0.6,
         "type": "scattergeo"
        },
        {
         "lat": [
          50.503887,
          40.463667
         ],
         "line": {
          "color": "blue",
          "width": 1
         },
         "locationmode": "ISO-3",
         "lon": [
          4.469936,
          -3.74922
         ],
         "mode": "lines",
         "opacity": 0.6,
         "type": "scattergeo"
        },
        {
         "lat": [
          50.503887,
          45.1
         ],
         "line": {
          "color": "blue",
          "width": 1
         },
         "locationmode": "ISO-3",
         "lon": [
          4.469936,
          15.2
         ],
         "mode": "lines",
         "opacity": 0.6,
         "type": "scattergeo"
        },
        {
         "lat": [
          50.503887,
          42.733883
         ],
         "line": {
          "color": "blue",
          "width": 1
         },
         "locationmode": "ISO-3",
         "lon": [
          4.469936,
          25.48583
         ],
         "mode": "lines",
         "opacity": 0.6,
         "type": "scattergeo"
        },
        {
         "lat": [
          50.503887,
          -32.522779
         ],
         "line": {
          "color": "blue",
          "width": 1
         },
         "locationmode": "ISO-3",
         "lon": [
          4.469936,
          -55.765835
         ],
         "mode": "lines",
         "opacity": 0.6,
         "type": "scattergeo"
        },
        {
         "lat": [
          50.503887,
          -38.416097
         ],
         "line": {
          "color": "blue",
          "width": 1
         },
         "locationmode": "ISO-3",
         "lon": [
          4.469936,
          -63.616672
         ],
         "mode": "lines",
         "opacity": 0.6,
         "type": "scattergeo"
        },
        {
         "lat": [
          50.503887,
          39.074208
         ],
         "line": {
          "color": "blue",
          "width": 1
         },
         "locationmode": "ISO-3",
         "lon": [
          4.469936,
          21.824312
         ],
         "mode": "lines",
         "opacity": 0.6,
         "type": "scattergeo"
        },
        {
         "lat": [
          50.503887,
          61.892635
         ],
         "line": {
          "color": "blue",
          "width": 1
         },
         "locationmode": "ISO-3",
         "lon": [
          4.469936,
          -6.911806
         ],
         "mode": "lines",
         "opacity": 0.6,
         "type": "scattergeo"
        },
        {
         "lat": [
          50.503887,
          33.854721
         ],
         "line": {
          "color": "blue",
          "width": 1
         },
         "locationmode": "ISO-3",
         "lon": [
          4.469936,
          35.862285
         ],
         "mode": "lines",
         "opacity": 0.6,
         "type": "scattergeo"
        },
        {
         "lat": [
          50.503887,
          15.870032
         ],
         "line": {
          "color": "blue",
          "width": 1
         },
         "locationmode": "ISO-3",
         "lon": [
          4.469936,
          100.992541
         ],
         "mode": "lines",
         "opacity": 0.6,
         "type": "scattergeo"
        },
        {
         "lat": [
          60.472024,
          60.472024
         ],
         "line": {
          "color": "blue",
          "width": 1
         },
         "locationmode": "ISO-3",
         "lon": [
          8.468946,
          8.468946
         ],
         "mode": "lines",
         "opacity": 0.6,
         "type": "scattergeo"
        },
        {
         "lat": [
          60.472024,
          51.165691
         ],
         "line": {
          "color": "blue",
          "width": 1
         },
         "locationmode": "ISO-3",
         "lon": [
          8.468946,
          10.451526
         ],
         "mode": "lines",
         "opacity": 0.6,
         "type": "scattergeo"
        },
        {
         "lat": [
          60.472024,
          55.378051
         ],
         "line": {
          "color": "blue",
          "width": 1
         },
         "locationmode": "ISO-3",
         "lon": [
          8.468946,
          -3.435973
         ],
         "mode": "lines",
         "opacity": 0.6,
         "type": "scattergeo"
        },
        {
         "lat": [
          60.472024,
          60.128161
         ],
         "line": {
          "color": "blue",
          "width": 1
         },
         "locationmode": "ISO-3",
         "lon": [
          8.468946,
          18.643501
         ],
         "mode": "lines",
         "opacity": 0.6,
         "type": "scattergeo"
        },
        {
         "lat": [
          60.472024,
          31.046051
         ],
         "line": {
          "color": "blue",
          "width": 1
         },
         "locationmode": "ISO-3",
         "lon": [
          8.468946,
          34.851612
         ],
         "mode": "lines",
         "opacity": 0.6,
         "type": "scattergeo"
        },
        {
         "lat": [
          60.472024,
          40.463667
         ],
         "line": {
          "color": "blue",
          "width": 1
         },
         "locationmode": "ISO-3",
         "lon": [
          8.468946,
          -3.74922
         ],
         "mode": "lines",
         "opacity": 0.6,
         "type": "scattergeo"
        },
        {
         "lat": [
          60.472024,
          56.26392
         ],
         "line": {
          "color": "blue",
          "width": 1
         },
         "locationmode": "ISO-3",
         "lon": [
          8.468946,
          9.501785
         ],
         "mode": "lines",
         "opacity": 0.6,
         "type": "scattergeo"
        },
        {
         "lat": [
          60.472024,
          53.41291
         ],
         "line": {
          "color": "blue",
          "width": 1
         },
         "locationmode": "ISO-3",
         "lon": [
          8.468946,
          -8.24389
         ],
         "mode": "lines",
         "opacity": 0.6,
         "type": "scattergeo"
        },
        {
         "lat": [
          60.472024,
          58.595272
         ],
         "line": {
          "color": "blue",
          "width": 1
         },
         "locationmode": "ISO-3",
         "lon": [
          8.468946,
          25.013607
         ],
         "mode": "lines",
         "opacity": 0.6,
         "type": "scattergeo"
        },
        {
         "lat": [
          60.472024,
          51.919438
         ],
         "line": {
          "color": "blue",
          "width": 1
         },
         "locationmode": "ISO-3",
         "lon": [
          8.468946,
          19.145136
         ],
         "mode": "lines",
         "opacity": 0.6,
         "type": "scattergeo"
        },
        {
         "lat": [
          60.472024,
          64.963051
         ],
         "line": {
          "color": "blue",
          "width": 1
         },
         "locationmode": "ISO-3",
         "lon": [
          8.468946,
          -19.020835
         ],
         "mode": "lines",
         "opacity": 0.6,
         "type": "scattergeo"
        },
        {
         "lat": [
          60.472024,
          61.892635
         ],
         "line": {
          "color": "blue",
          "width": 1
         },
         "locationmode": "ISO-3",
         "lon": [
          8.468946,
          -6.911806
         ],
         "mode": "lines",
         "opacity": 0.6,
         "type": "scattergeo"
        },
        {
         "lat": [
          60.472024,
          61.92411
         ],
         "line": {
          "color": "blue",
          "width": 1
         },
         "locationmode": "ISO-3",
         "lon": [
          8.468946,
          25.748151
         ],
         "mode": "lines",
         "opacity": 0.6,
         "type": "scattergeo"
        },
        {
         "lat": [
          60.472024,
          35.907757
         ],
         "line": {
          "color": "blue",
          "width": 1
         },
         "locationmode": "ISO-3",
         "lon": [
          8.468946,
          127.766922
         ],
         "mode": "lines",
         "opacity": 0.6,
         "type": "scattergeo"
        },
        {
         "lat": [
          51.919438,
          51.165691
         ],
         "line": {
          "color": "blue",
          "width": 1
         },
         "locationmode": "ISO-3",
         "lon": [
          19.145136,
          10.451526
         ],
         "mode": "lines",
         "opacity": 0.6,
         "type": "scattergeo"
        },
        {
         "lat": [
          51.919438,
          51.919438
         ],
         "line": {
          "color": "blue",
          "width": 1
         },
         "locationmode": "ISO-3",
         "lon": [
          19.145136,
          19.145136
         ],
         "mode": "lines",
         "opacity": 0.6,
         "type": "scattergeo"
        },
        {
         "lat": [
          51.919438,
          39.399872
         ],
         "line": {
          "color": "blue",
          "width": 1
         },
         "locationmode": "ISO-3",
         "lon": [
          19.145136,
          -8.224454
         ],
         "mode": "lines",
         "opacity": 0.6,
         "type": "scattergeo"
        },
        {
         "lat": [
          51.919438,
          46.818188
         ],
         "line": {
          "color": "blue",
          "width": 1
         },
         "locationmode": "ISO-3",
         "lon": [
          19.145136,
          8.227512
         ],
         "mode": "lines",
         "opacity": 0.6,
         "type": "scattergeo"
        },
        {
         "lat": [
          51.919438,
          55.378051
         ],
         "line": {
          "color": "blue",
          "width": 1
         },
         "locationmode": "ISO-3",
         "lon": [
          19.145136,
          -3.435973
         ],
         "mode": "lines",
         "opacity": 0.6,
         "type": "scattergeo"
        },
        {
         "lat": [
          51.919438,
          40.463667
         ],
         "line": {
          "color": "blue",
          "width": 1
         },
         "locationmode": "ISO-3",
         "lon": [
          19.145136,
          -3.74922
         ],
         "mode": "lines",
         "opacity": 0.6,
         "type": "scattergeo"
        },
        {
         "lat": [
          51.919438,
          35.126413
         ],
         "line": {
          "color": "blue",
          "width": 1
         },
         "locationmode": "ISO-3",
         "lon": [
          19.145136,
          33.429859
         ],
         "mode": "lines",
         "opacity": 0.6,
         "type": "scattergeo"
        },
        {
         "lat": [
          51.919438,
          55.169438
         ],
         "line": {
          "color": "blue",
          "width": 1
         },
         "locationmode": "ISO-3",
         "lon": [
          19.145136,
          23.881275
         ],
         "mode": "lines",
         "opacity": 0.6,
         "type": "scattergeo"
        },
        {
         "lat": [
          51.919438,
          39.074208
         ],
         "line": {
          "color": "blue",
          "width": 1
         },
         "locationmode": "ISO-3",
         "lon": [
          19.145136,
          21.824312
         ],
         "mode": "lines",
         "opacity": 0.6,
         "type": "scattergeo"
        },
        {
         "lat": [
          51.919438,
          47.162494
         ],
         "line": {
          "color": "blue",
          "width": 1
         },
         "locationmode": "ISO-3",
         "lon": [
          19.145136,
          19.503304
         ],
         "mode": "lines",
         "opacity": 0.6,
         "type": "scattergeo"
        },
        {
         "lat": [
          51.919438,
          49.817492
         ],
         "line": {
          "color": "blue",
          "width": 1
         },
         "locationmode": "ISO-3",
         "lon": [
          19.145136,
          15.472962
         ],
         "mode": "lines",
         "opacity": 0.6,
         "type": "scattergeo"
        },
        {
         "lat": [
          51.919438,
          48.669026
         ],
         "line": {
          "color": "blue",
          "width": 1
         },
         "locationmode": "ISO-3",
         "lon": [
          19.145136,
          19.699024
         ],
         "mode": "lines",
         "opacity": 0.6,
         "type": "scattergeo"
        },
        {
         "lat": [
          51.919438,
          60.128161
         ],
         "line": {
          "color": "blue",
          "width": 1
         },
         "locationmode": "ISO-3",
         "lon": [
          19.145136,
          18.643501
         ],
         "mode": "lines",
         "opacity": 0.6,
         "type": "scattergeo"
        },
        {
         "lat": [
          51.919438,
          -14.235004
         ],
         "line": {
          "color": "blue",
          "width": 1
         },
         "locationmode": "ISO-3",
         "lon": [
          19.145136,
          -51.92528
         ],
         "mode": "lines",
         "opacity": 0.6,
         "type": "scattergeo"
        },
        {
         "lat": [
          51.919438,
          43.915886
         ],
         "line": {
          "color": "blue",
          "width": 1
         },
         "locationmode": "ISO-3",
         "lon": [
          19.145136,
          17.679076
         ],
         "mode": "lines",
         "opacity": 0.6,
         "type": "scattergeo"
        },
        {
         "lat": [
          51.919438,
          31.046051
         ],
         "line": {
          "color": "blue",
          "width": 1
         },
         "locationmode": "ISO-3",
         "lon": [
          19.145136,
          34.851612
         ],
         "mode": "lines",
         "opacity": 0.6,
         "type": "scattergeo"
        },
        {
         "lat": [
          51.919438,
          48.019573
         ],
         "line": {
          "color": "blue",
          "width": 1
         },
         "locationmode": "ISO-3",
         "lon": [
          19.145136,
          66.923684
         ],
         "mode": "lines",
         "opacity": 0.6,
         "type": "scattergeo"
        },
        {
         "lat": [
          51.919438,
          53.41291
         ],
         "line": {
          "color": "blue",
          "width": 1
         },
         "locationmode": "ISO-3",
         "lon": [
          19.145136,
          -8.24389
         ],
         "mode": "lines",
         "opacity": 0.6,
         "type": "scattergeo"
        },
        {
         "lat": [
          51.919438,
          -16.290154
         ],
         "line": {
          "color": "blue",
          "width": 1
         },
         "locationmode": "ISO-3",
         "lon": [
          19.145136,
          -63.588653
         ],
         "mode": "lines",
         "opacity": 0.6,
         "type": "scattergeo"
        },
        {
         "lat": [
          51.919438,
          53.709807
         ],
         "line": {
          "color": "blue",
          "width": 1
         },
         "locationmode": "ISO-3",
         "lon": [
          19.145136,
          27.953389
         ],
         "mode": "lines",
         "opacity": 0.6,
         "type": "scattergeo"
        },
        {
         "lat": [
          47.162494,
          47.162494
         ],
         "line": {
          "color": "blue",
          "width": 1
         },
         "locationmode": "ISO-3",
         "lon": [
          19.503304,
          19.503304
         ],
         "mode": "lines",
         "opacity": 0.6,
         "type": "scattergeo"
        },
        {
         "lat": [
          47.162494,
          49.817492
         ],
         "line": {
          "color": "blue",
          "width": 1
         },
         "locationmode": "ISO-3",
         "lon": [
          19.503304,
          15.472962
         ],
         "mode": "lines",
         "opacity": 0.6,
         "type": "scattergeo"
        },
        {
         "lat": [
          47.162494,
          31.046051
         ],
         "line": {
          "color": "blue",
          "width": 1
         },
         "locationmode": "ISO-3",
         "lon": [
          19.503304,
          34.851612
         ],
         "mode": "lines",
         "opacity": 0.6,
         "type": "scattergeo"
        },
        {
         "lat": [
          47.162494,
          47.516231
         ],
         "line": {
          "color": "blue",
          "width": 1
         },
         "locationmode": "ISO-3",
         "lon": [
          19.503304,
          14.550072
         ],
         "mode": "lines",
         "opacity": 0.6,
         "type": "scattergeo"
        },
        {
         "lat": [
          47.162494,
          51.919438
         ],
         "line": {
          "color": "blue",
          "width": 1
         },
         "locationmode": "ISO-3",
         "lon": [
          19.503304,
          19.145136
         ],
         "mode": "lines",
         "opacity": 0.6,
         "type": "scattergeo"
        },
        {
         "lat": [
          47.162494,
          44.016521
         ],
         "line": {
          "color": "blue",
          "width": 1
         },
         "locationmode": "ISO-3",
         "lon": [
          19.503304,
          21.005859
         ],
         "mode": "lines",
         "opacity": 0.6,
         "type": "scattergeo"
        },
        {
         "lat": [
          47.162494,
          55.378051
         ],
         "line": {
          "color": "blue",
          "width": 1
         },
         "locationmode": "ISO-3",
         "lon": [
          19.503304,
          -3.435973
         ],
         "mode": "lines",
         "opacity": 0.6,
         "type": "scattergeo"
        },
        {
         "lat": [
          47.162494,
          39.074208
         ],
         "line": {
          "color": "blue",
          "width": 1
         },
         "locationmode": "ISO-3",
         "lon": [
          19.503304,
          21.824312
         ],
         "mode": "lines",
         "opacity": 0.6,
         "type": "scattergeo"
        },
        {
         "lat": [
          47.162494,
          46.227638
         ],
         "line": {
          "color": "blue",
          "width": 1
         },
         "locationmode": "ISO-3",
         "lon": [
          19.503304,
          2.213749
         ],
         "mode": "lines",
         "opacity": 0.6,
         "type": "scattergeo"
        },
        {
         "lat": [
          47.162494,
          38.963745
         ],
         "line": {
          "color": "blue",
          "width": 1
         },
         "locationmode": "ISO-3",
         "lon": [
          19.503304,
          35.243322
         ],
         "mode": "lines",
         "opacity": 0.6,
         "type": "scattergeo"
        },
        {
         "lat": [
          47.162494,
          35.126413
         ],
         "line": {
          "color": "blue",
          "width": 1
         },
         "locationmode": "ISO-3",
         "lon": [
          19.503304,
          33.429859
         ],
         "mode": "lines",
         "opacity": 0.6,
         "type": "scattergeo"
        },
        {
         "lat": [
          47.162494,
          60.472024
         ],
         "line": {
          "color": "blue",
          "width": 1
         },
         "locationmode": "ISO-3",
         "lon": [
          19.503304,
          8.468946
         ],
         "mode": "lines",
         "opacity": 0.6,
         "type": "scattergeo"
        },
        {
         "lat": [
          47.162494,
          50.503887
         ],
         "line": {
          "color": "blue",
          "width": 1
         },
         "locationmode": "ISO-3",
         "lon": [
          19.503304,
          4.469936
         ],
         "mode": "lines",
         "opacity": 0.6,
         "type": "scattergeo"
        },
        {
         "lat": [
          47.162494,
          52.132633
         ],
         "line": {
          "color": "blue",
          "width": 1
         },
         "locationmode": "ISO-3",
         "lon": [
          19.503304,
          5.291266
         ],
         "mode": "lines",
         "opacity": 0.6,
         "type": "scattergeo"
        },
        {
         "lat": [
          47.162494,
          45.1
         ],
         "line": {
          "color": "blue",
          "width": 1
         },
         "locationmode": "ISO-3",
         "lon": [
          19.503304,
          15.2
         ],
         "mode": "lines",
         "opacity": 0.6,
         "type": "scattergeo"
        },
        {
         "lat": [
          47.162494,
          45.943161
         ],
         "line": {
          "color": "blue",
          "width": 1
         },
         "locationmode": "ISO-3",
         "lon": [
          19.503304,
          24.96676
         ],
         "mode": "lines",
         "opacity": 0.6,
         "type": "scattergeo"
        },
        {
         "lat": [
          47.162494,
          35.86166
         ],
         "line": {
          "color": "blue",
          "width": 1
         },
         "locationmode": "ISO-3",
         "lon": [
          19.503304,
          104.195397
         ],
         "mode": "lines",
         "opacity": 0.6,
         "type": "scattergeo"
        },
        {
         "lat": [
          47.162494,
          53.41291
         ],
         "line": {
          "color": "blue",
          "width": 1
         },
         "locationmode": "ISO-3",
         "lon": [
          19.503304,
          -8.24389
         ],
         "mode": "lines",
         "opacity": 0.6,
         "type": "scattergeo"
        },
        {
         "lat": [
          47.162494,
          -38.416097
         ],
         "line": {
          "color": "blue",
          "width": 1
         },
         "locationmode": "ISO-3",
         "lon": [
          19.503304,
          -63.616672
         ],
         "mode": "lines",
         "opacity": 0.6,
         "type": "scattergeo"
        },
        {
         "lat": [
          42.733883,
          37.09024
         ],
         "line": {
          "color": "blue",
          "width": 1
         },
         "locationmode": "ISO-3",
         "lon": [
          25.48583,
          -95.712891
         ],
         "mode": "lines",
         "opacity": 0.6,
         "type": "scattergeo"
        },
        {
         "lat": [
          42.733883,
          42.733883
         ],
         "line": {
          "color": "blue",
          "width": 1
         },
         "locationmode": "ISO-3",
         "lon": [
          25.48583,
          25.48583
         ],
         "mode": "lines",
         "opacity": 0.6,
         "type": "scattergeo"
        },
        {
         "lat": [
          42.733883,
          43.915886
         ],
         "line": {
          "color": "blue",
          "width": 1
         },
         "locationmode": "ISO-3",
         "lon": [
          25.48583,
          17.679076
         ],
         "mode": "lines",
         "opacity": 0.6,
         "type": "scattergeo"
        },
        {
         "lat": [
          42.733883,
          61.52401
         ],
         "line": {
          "color": "blue",
          "width": 1
         },
         "locationmode": "ISO-3",
         "lon": [
          25.48583,
          105.318756
         ],
         "mode": "lines",
         "opacity": 0.6,
         "type": "scattergeo"
        },
        {
         "lat": [
          42.733883,
          35.126413
         ],
         "line": {
          "color": "blue",
          "width": 1
         },
         "locationmode": "ISO-3",
         "lon": [
          25.48583,
          33.429859
         ],
         "mode": "lines",
         "opacity": 0.6,
         "type": "scattergeo"
        },
        {
         "lat": [
          42.733883,
          40.143105
         ],
         "line": {
          "color": "blue",
          "width": 1
         },
         "locationmode": "ISO-3",
         "lon": [
          25.48583,
          47.576927
         ],
         "mode": "lines",
         "opacity": 0.6,
         "type": "scattergeo"
        },
        {
         "lat": [
          42.733883,
          39.074208
         ],
         "line": {
          "color": "blue",
          "width": 1
         },
         "locationmode": "ISO-3",
         "lon": [
          25.48583,
          21.824312
         ],
         "mode": "lines",
         "opacity": 0.6,
         "type": "scattergeo"
        },
        {
         "lat": [
          42.733883,
          39.399872
         ],
         "line": {
          "color": "blue",
          "width": 1
         },
         "locationmode": "ISO-3",
         "lon": [
          25.48583,
          -8.224454
         ],
         "mode": "lines",
         "opacity": 0.6,
         "type": "scattergeo"
        },
        {
         "lat": [
          42.733883,
          38.963745
         ],
         "line": {
          "color": "blue",
          "width": 1
         },
         "locationmode": "ISO-3",
         "lon": [
          25.48583,
          35.243322
         ],
         "mode": "lines",
         "opacity": 0.6,
         "type": "scattergeo"
        },
        {
         "lat": [
          42.733883,
          46.818188
         ],
         "line": {
          "color": "blue",
          "width": 1
         },
         "locationmode": "ISO-3",
         "lon": [
          25.48583,
          8.227512
         ],
         "mode": "lines",
         "opacity": 0.6,
         "type": "scattergeo"
        },
        {
         "lat": [
          42.733883,
          51.165691
         ],
         "line": {
          "color": "blue",
          "width": 1
         },
         "locationmode": "ISO-3",
         "lon": [
          25.48583,
          10.451526
         ],
         "mode": "lines",
         "opacity": 0.6,
         "type": "scattergeo"
        },
        {
         "lat": [
          42.733883,
          52.132633
         ],
         "line": {
          "color": "blue",
          "width": 1
         },
         "locationmode": "ISO-3",
         "lon": [
          25.48583,
          5.291266
         ],
         "mode": "lines",
         "opacity": 0.6,
         "type": "scattergeo"
        },
        {
         "lat": [
          42.733883,
          32.427908
         ],
         "line": {
          "color": "blue",
          "width": 1
         },
         "locationmode": "ISO-3",
         "lon": [
          25.48583,
          53.688046
         ],
         "mode": "lines",
         "opacity": 0.6,
         "type": "scattergeo"
        },
        {
         "lat": [
          42.733883,
          49.817492
         ],
         "line": {
          "color": "blue",
          "width": 1
         },
         "locationmode": "ISO-3",
         "lon": [
          25.48583,
          15.472962
         ],
         "mode": "lines",
         "opacity": 0.6,
         "type": "scattergeo"
        },
        {
         "lat": [
          42.733883,
          31.046051
         ],
         "line": {
          "color": "blue",
          "width": 1
         },
         "locationmode": "ISO-3",
         "lon": [
          25.48583,
          34.851612
         ],
         "mode": "lines",
         "opacity": 0.6,
         "type": "scattergeo"
        },
        {
         "lat": [
          42.733883,
          25.354826
         ],
         "line": {
          "color": "blue",
          "width": 1
         },
         "locationmode": "ISO-3",
         "lon": [
          25.48583,
          51.183884
         ],
         "mode": "lines",
         "opacity": 0.6,
         "type": "scattergeo"
        },
        {
         "lat": [
          42.733883,
          51.919438
         ],
         "line": {
          "color": "blue",
          "width": 1
         },
         "locationmode": "ISO-3",
         "lon": [
          25.48583,
          19.145136
         ],
         "mode": "lines",
         "opacity": 0.6,
         "type": "scattergeo"
        },
        {
         "lat": [
          42.733883,
          40.463667
         ],
         "line": {
          "color": "blue",
          "width": 1
         },
         "locationmode": "ISO-3",
         "lon": [
          25.48583,
          -3.74922
         ],
         "mode": "lines",
         "opacity": 0.6,
         "type": "scattergeo"
        },
        {
         "lat": [
          42.733883,
          48.019573
         ],
         "line": {
          "color": "blue",
          "width": 1
         },
         "locationmode": "ISO-3",
         "lon": [
          25.48583,
          66.923684
         ],
         "mode": "lines",
         "opacity": 0.6,
         "type": "scattergeo"
        },
        {
         "lat": [
          42.733883,
          35.937496
         ],
         "line": {
          "color": "blue",
          "width": 1
         },
         "locationmode": "ISO-3",
         "lon": [
          25.48583,
          14.375416
         ],
         "mode": "lines",
         "opacity": 0.6,
         "type": "scattergeo"
        },
        {
         "lat": [
          37.09024,
          37.09024
         ],
         "line": {
          "color": "blue",
          "width": 1
         },
         "locationmode": "ISO-3",
         "lon": [
          -95.712891,
          -95.712891
         ],
         "mode": "lines",
         "opacity": 0.6,
         "type": "scattergeo"
        },
        {
         "lat": [
          37.09024,
          -14.235004
         ],
         "line": {
          "color": "blue",
          "width": 1
         },
         "locationmode": "ISO-3",
         "lon": [
          -95.712891,
          -51.92528
         ],
         "mode": "lines",
         "opacity": 0.6,
         "type": "scattergeo"
        },
        {
         "lat": [
          37.09024,
          35.86166
         ],
         "line": {
          "color": "blue",
          "width": 1
         },
         "locationmode": "ISO-3",
         "lon": [
          -95.712891,
          104.195397
         ],
         "mode": "lines",
         "opacity": 0.6,
         "type": "scattergeo"
        },
        {
         "lat": [
          37.09024,
          46.227638
         ],
         "line": {
          "color": "blue",
          "width": 1
         },
         "locationmode": "ISO-3",
         "lon": [
          -95.712891,
          2.213749
         ],
         "mode": "lines",
         "opacity": 0.6,
         "type": "scattergeo"
        },
        {
         "lat": [
          37.09024,
          48.669026
         ],
         "line": {
          "color": "blue",
          "width": 1
         },
         "locationmode": "ISO-3",
         "lon": [
          -95.712891,
          19.699024
         ],
         "mode": "lines",
         "opacity": 0.6,
         "type": "scattergeo"
        },
        {
         "lat": [
          37.09024,
          55.378051
         ],
         "line": {
          "color": "blue",
          "width": 1
         },
         "locationmode": "ISO-3",
         "lon": [
          -95.712891,
          -3.435973
         ],
         "mode": "lines",
         "opacity": 0.6,
         "type": "scattergeo"
        },
        {
         "lat": [
          37.09024,
          60.128161
         ],
         "line": {
          "color": "blue",
          "width": 1
         },
         "locationmode": "ISO-3",
         "lon": [
          -95.712891,
          18.643501
         ],
         "mode": "lines",
         "opacity": 0.6,
         "type": "scattergeo"
        },
        {
         "lat": [
          37.09024,
          60.472024
         ],
         "line": {
          "color": "blue",
          "width": 1
         },
         "locationmode": "ISO-3",
         "lon": [
          -95.712891,
          8.468946
         ],
         "mode": "lines",
         "opacity": 0.6,
         "type": "scattergeo"
        },
        {
         "lat": [
          37.09024,
          61.92411
         ],
         "line": {
          "color": "blue",
          "width": 1
         },
         "locationmode": "ISO-3",
         "lon": [
          -95.712891,
          25.748151
         ],
         "mode": "lines",
         "opacity": 0.6,
         "type": "scattergeo"
        },
        {
         "lat": [
          37.09024,
          52.132633
         ],
         "line": {
          "color": "blue",
          "width": 1
         },
         "locationmode": "ISO-3",
         "lon": [
          -95.712891,
          5.291266
         ],
         "mode": "lines",
         "opacity": 0.6,
         "type": "scattergeo"
        },
        {
         "lat": [
          37.09024,
          4.570868
         ],
         "line": {
          "color": "blue",
          "width": 1
         },
         "locationmode": "ISO-3",
         "lon": [
          -95.712891,
          -74.297333
         ],
         "mode": "lines",
         "opacity": 0.6,
         "type": "scattergeo"
        },
        {
         "lat": [
          37.09024,
          51.165691
         ],
         "line": {
          "color": "blue",
          "width": 1
         },
         "locationmode": "ISO-3",
         "lon": [
          -95.712891,
          10.451526
         ],
         "mode": "lines",
         "opacity": 0.6,
         "type": "scattergeo"
        },
        {
         "lat": [
          37.09024,
          56.26392
         ],
         "line": {
          "color": "blue",
          "width": 1
         },
         "locationmode": "ISO-3",
         "lon": [
          -95.712891,
          9.501785
         ],
         "mode": "lines",
         "opacity": 0.6,
         "type": "scattergeo"
        },
        {
         "lat": [
          37.09024,
          51.919438
         ],
         "line": {
          "color": "blue",
          "width": 1
         },
         "locationmode": "ISO-3",
         "lon": [
          -95.712891,
          19.145136
         ],
         "mode": "lines",
         "opacity": 0.6,
         "type": "scattergeo"
        },
        {
         "lat": [
          37.09024,
          9.748917
         ],
         "line": {
          "color": "blue",
          "width": 1
         },
         "locationmode": "ISO-3",
         "lon": [
          -95.712891,
          -83.753428
         ],
         "mode": "lines",
         "opacity": 0.6,
         "type": "scattergeo"
        },
        {
         "lat": [
          37.09024,
          -38.416097
         ],
         "line": {
          "color": "blue",
          "width": 1
         },
         "locationmode": "ISO-3",
         "lon": [
          -95.712891,
          -63.616672
         ],
         "mode": "lines",
         "opacity": 0.6,
         "type": "scattergeo"
        },
        {
         "lat": [
          37.09024,
          46.818188
         ],
         "line": {
          "color": "blue",
          "width": 1
         },
         "locationmode": "ISO-3",
         "lon": [
          -95.712891,
          8.227512
         ],
         "mode": "lines",
         "opacity": 0.6,
         "type": "scattergeo"
        },
        {
         "lat": [
          37.09024,
          15.783471
         ],
         "line": {
          "color": "blue",
          "width": 1
         },
         "locationmode": "ISO-3",
         "lon": [
          -95.712891,
          -90.230759
         ],
         "mode": "lines",
         "opacity": 0.6,
         "type": "scattergeo"
        },
        {
         "lat": [
          37.09024,
          31.046051
         ],
         "line": {
          "color": "blue",
          "width": 1
         },
         "locationmode": "ISO-3",
         "lon": [
          -95.712891,
          34.851612
         ],
         "mode": "lines",
         "opacity": 0.6,
         "type": "scattergeo"
        },
        {
         "lat": [
          37.09024,
          18.109581
         ],
         "line": {
          "color": "blue",
          "width": 1
         },
         "locationmode": "ISO-3",
         "lon": [
          -95.712891,
          -77.297508
         ],
         "mode": "lines",
         "opacity": 0.6,
         "type": "scattergeo"
        },
        {
         "lat": [
          37.09024,
          8.537981
         ],
         "line": {
          "color": "blue",
          "width": 1
         },
         "locationmode": "ISO-3",
         "lon": [
          -95.712891,
          -80.782127
         ],
         "mode": "lines",
         "opacity": 0.6,
         "type": "scattergeo"
        },
        {
         "lat": [
          37.09024,
          -32.522779
         ],
         "line": {
          "color": "blue",
          "width": 1
         },
         "locationmode": "ISO-3",
         "lon": [
          -95.712891,
          -55.765835
         ],
         "mode": "lines",
         "opacity": 0.6,
         "type": "scattergeo"
        },
        {
         "lat": [
          38.963745,
          51.165691
         ],
         "line": {
          "color": "blue",
          "width": 1
         },
         "locationmode": "ISO-3",
         "lon": [
          35.243322,
          10.451526
         ],
         "mode": "lines",
         "opacity": 0.6,
         "type": "scattergeo"
        },
        {
         "lat": [
          38.963745,
          46.227638
         ],
         "line": {
          "color": "blue",
          "width": 1
         },
         "locationmode": "ISO-3",
         "lon": [
          35.243322,
          2.213749
         ],
         "mode": "lines",
         "opacity": 0.6,
         "type": "scattergeo"
        },
        {
         "lat": [
          38.963745,
          38.963745
         ],
         "line": {
          "color": "blue",
          "width": 1
         },
         "locationmode": "ISO-3",
         "lon": [
          35.243322,
          35.243322
         ],
         "mode": "lines",
         "opacity": 0.6,
         "type": "scattergeo"
        },
        {
         "lat": [
          38.963745,
          50.503887
         ],
         "line": {
          "color": "blue",
          "width": 1
         },
         "locationmode": "ISO-3",
         "lon": [
          35.243322,
          4.469936
         ],
         "mode": "lines",
         "opacity": 0.6,
         "type": "scattergeo"
        },
        {
         "lat": [
          38.963745,
          52.132633
         ],
         "line": {
          "color": "blue",
          "width": 1
         },
         "locationmode": "ISO-3",
         "lon": [
          35.243322,
          5.291266
         ],
         "mode": "lines",
         "opacity": 0.6,
         "type": "scattergeo"
        },
        {
         "lat": [
          38.963745,
          39.399872
         ],
         "line": {
          "color": "blue",
          "width": 1
         },
         "locationmode": "ISO-3",
         "lon": [
          35.243322,
          -8.224454
         ],
         "mode": "lines",
         "opacity": 0.6,
         "type": "scattergeo"
        },
        {
         "lat": [
          38.963745,
          45.943161
         ],
         "line": {
          "color": "blue",
          "width": 1
         },
         "locationmode": "ISO-3",
         "lon": [
          35.243322,
          24.96676
         ],
         "mode": "lines",
         "opacity": 0.6,
         "type": "scattergeo"
        },
        {
         "lat": [
          38.963745,
          48.379433
         ],
         "line": {
          "color": "blue",
          "width": 1
         },
         "locationmode": "ISO-3",
         "lon": [
          35.243322,
          31.16558
         ],
         "mode": "lines",
         "opacity": 0.6,
         "type": "scattergeo"
        },
        {
         "lat": [
          38.963745,
          4.570868
         ],
         "line": {
          "color": "blue",
          "width": 1
         },
         "locationmode": "ISO-3",
         "lon": [
          35.243322,
          -74.297333
         ],
         "mode": "lines",
         "opacity": 0.6,
         "type": "scattergeo"
        },
        {
         "lat": [
          38.963745,
          55.378051
         ],
         "line": {
          "color": "blue",
          "width": 1
         },
         "locationmode": "ISO-3",
         "lon": [
          35.243322,
          -3.435973
         ],
         "mode": "lines",
         "opacity": 0.6,
         "type": "scattergeo"
        },
        {
         "lat": [
          38.963745,
          39.074208
         ],
         "line": {
          "color": "blue",
          "width": 1
         },
         "locationmode": "ISO-3",
         "lon": [
          35.243322,
          21.824312
         ],
         "mode": "lines",
         "opacity": 0.6,
         "type": "scattergeo"
        },
        {
         "lat": [
          38.963745,
          49.817492
         ],
         "line": {
          "color": "blue",
          "width": 1
         },
         "locationmode": "ISO-3",
         "lon": [
          35.243322,
          15.472962
         ],
         "mode": "lines",
         "opacity": 0.6,
         "type": "scattergeo"
        },
        {
         "lat": [
          38.963745,
          47.516231
         ],
         "line": {
          "color": "blue",
          "width": 1
         },
         "locationmode": "ISO-3",
         "lon": [
          35.243322,
          14.550072
         ],
         "mode": "lines",
         "opacity": 0.6,
         "type": "scattergeo"
        },
        {
         "lat": [
          38.963745,
          47.162494
         ],
         "line": {
          "color": "blue",
          "width": 1
         },
         "locationmode": "ISO-3",
         "lon": [
          35.243322,
          19.503304
         ],
         "mode": "lines",
         "opacity": 0.6,
         "type": "scattergeo"
        },
        {
         "lat": [
          38.963745,
          43.915886
         ],
         "line": {
          "color": "blue",
          "width": 1
         },
         "locationmode": "ISO-3",
         "lon": [
          35.243322,
          17.679076
         ],
         "mode": "lines",
         "opacity": 0.6,
         "type": "scattergeo"
        },
        {
         "lat": [
          38.963745,
          -25.274398
         ],
         "line": {
          "color": "blue",
          "width": 1
         },
         "locationmode": "ISO-3",
         "lon": [
          35.243322,
          133.775136
         ],
         "mode": "lines",
         "opacity": 0.6,
         "type": "scattergeo"
        },
        {
         "lat": [
          38.963745,
          42.733883
         ],
         "line": {
          "color": "blue",
          "width": 1
         },
         "locationmode": "ISO-3",
         "lon": [
          35.243322,
          25.48583
         ],
         "mode": "lines",
         "opacity": 0.6,
         "type": "scattergeo"
        },
        {
         "lat": [
          38.963745,
          60.128161
         ],
         "line": {
          "color": "blue",
          "width": 1
         },
         "locationmode": "ISO-3",
         "lon": [
          35.243322,
          18.643501
         ],
         "mode": "lines",
         "opacity": 0.6,
         "type": "scattergeo"
        },
        {
         "lat": [
          38.963745,
          -14.235004
         ],
         "line": {
          "color": "blue",
          "width": 1
         },
         "locationmode": "ISO-3",
         "lon": [
          35.243322,
          -51.92528
         ],
         "mode": "lines",
         "opacity": 0.6,
         "type": "scattergeo"
        },
        {
         "lat": [
          38.963745,
          46.818188
         ],
         "line": {
          "color": "blue",
          "width": 1
         },
         "locationmode": "ISO-3",
         "lon": [
          35.243322,
          8.227512
         ],
         "mode": "lines",
         "opacity": 0.6,
         "type": "scattergeo"
        },
        {
         "lat": [
          38.963745,
          28.033886
         ],
         "line": {
          "color": "blue",
          "width": 1
         },
         "locationmode": "ISO-3",
         "lon": [
          35.243322,
          1.659626
         ],
         "mode": "lines",
         "opacity": 0.6,
         "type": "scattergeo"
        },
        {
         "lat": [
          35.86166,
          51.165691
         ],
         "line": {
          "color": "blue",
          "width": 1
         },
         "locationmode": "ISO-3",
         "lon": [
          104.195397,
          10.451526
         ],
         "mode": "lines",
         "opacity": 0.6,
         "type": "scattergeo"
        },
        {
         "lat": [
          35.86166,
          7.946527
         ],
         "line": {
          "color": "blue",
          "width": 1
         },
         "locationmode": "ISO-3",
         "lon": [
          104.195397,
          -1.023194
         ],
         "mode": "lines",
         "opacity": 0.6,
         "type": "scattergeo"
        },
        {
         "lat": [
          35.86166,
          39.399872
         ],
         "line": {
          "color": "blue",
          "width": 1
         },
         "locationmode": "ISO-3",
         "lon": [
          104.195397,
          -8.224454
         ],
         "mode": "lines",
         "opacity": 0.6,
         "type": "scattergeo"
        },
        {
         "lat": [
          35.86166,
          45.943161
         ],
         "line": {
          "color": "blue",
          "width": 1
         },
         "locationmode": "ISO-3",
         "lon": [
          104.195397,
          24.96676
         ],
         "mode": "lines",
         "opacity": 0.6,
         "type": "scattergeo"
        },
        {
         "lat": [
          35.86166,
          60.128161
         ],
         "line": {
          "color": "blue",
          "width": 1
         },
         "locationmode": "ISO-3",
         "lon": [
          104.195397,
          18.643501
         ],
         "mode": "lines",
         "opacity": 0.6,
         "type": "scattergeo"
        },
        {
         "lat": [
          35.86166,
          55.378051
         ],
         "line": {
          "color": "blue",
          "width": 1
         },
         "locationmode": "ISO-3",
         "lon": [
          104.195397,
          -3.435973
         ],
         "mode": "lines",
         "opacity": 0.6,
         "type": "scattergeo"
        },
        {
         "lat": [
          35.86166,
          35.86166
         ],
         "line": {
          "color": "blue",
          "width": 1
         },
         "locationmode": "ISO-3",
         "lon": [
          104.195397,
          104.195397
         ],
         "mode": "lines",
         "opacity": 0.6,
         "type": "scattergeo"
        },
        {
         "lat": [
          35.86166,
          46.227638
         ],
         "line": {
          "color": "blue",
          "width": 1
         },
         "locationmode": "ISO-3",
         "lon": [
          104.195397,
          2.213749
         ],
         "mode": "lines",
         "opacity": 0.6,
         "type": "scattergeo"
        },
        {
         "lat": [
          35.86166,
          36.204824
         ],
         "line": {
          "color": "blue",
          "width": 1
         },
         "locationmode": "ISO-3",
         "lon": [
          104.195397,
          138.252924
         ],
         "mode": "lines",
         "opacity": 0.6,
         "type": "scattergeo"
        },
        {
         "lat": [
          35.86166,
          -9.189967
         ],
         "line": {
          "color": "blue",
          "width": 1
         },
         "locationmode": "ISO-3",
         "lon": [
          104.195397,
          -75.015152
         ],
         "mode": "lines",
         "opacity": 0.6,
         "type": "scattergeo"
        },
        {
         "lat": [
          35.86166,
          -32.522779
         ],
         "line": {
          "color": "blue",
          "width": 1
         },
         "locationmode": "ISO-3",
         "lon": [
          104.195397,
          -55.765835
         ],
         "mode": "lines",
         "opacity": 0.6,
         "type": "scattergeo"
        },
        {
         "lat": [
          35.86166,
          22.396428
         ],
         "line": {
          "color": "blue",
          "width": 1
         },
         "locationmode": "ISO-3",
         "lon": [
          104.195397,
          114.109497
         ],
         "mode": "lines",
         "opacity": 0.6,
         "type": "scattergeo"
        },
        {
         "lat": [
          56.26392,
          56.26392
         ],
         "line": {
          "color": "blue",
          "width": 1
         },
         "locationmode": "ISO-3",
         "lon": [
          9.501785,
          9.501785
         ],
         "mode": "lines",
         "opacity": 0.6,
         "type": "scattergeo"
        },
        {
         "lat": [
          56.26392,
          40.463667
         ],
         "line": {
          "color": "blue",
          "width": 1
         },
         "locationmode": "ISO-3",
         "lon": [
          9.501785,
          -3.74922
         ],
         "mode": "lines",
         "opacity": 0.6,
         "type": "scattergeo"
        },
        {
         "lat": [
          56.26392,
          60.128161
         ],
         "line": {
          "color": "blue",
          "width": 1
         },
         "locationmode": "ISO-3",
         "lon": [
          9.501785,
          18.643501
         ],
         "mode": "lines",
         "opacity": 0.6,
         "type": "scattergeo"
        },
        {
         "lat": [
          56.26392,
          -25.274398
         ],
         "line": {
          "color": "blue",
          "width": 1
         },
         "locationmode": "ISO-3",
         "lon": [
          9.501785,
          133.775136
         ],
         "mode": "lines",
         "opacity": 0.6,
         "type": "scattergeo"
        },
        {
         "lat": [
          56.26392,
          61.92411
         ],
         "line": {
          "color": "blue",
          "width": 1
         },
         "locationmode": "ISO-3",
         "lon": [
          9.501785,
          25.748151
         ],
         "mode": "lines",
         "opacity": 0.6,
         "type": "scattergeo"
        },
        {
         "lat": [
          56.26392,
          60.472024
         ],
         "line": {
          "color": "blue",
          "width": 1
         },
         "locationmode": "ISO-3",
         "lon": [
          9.501785,
          8.468946
         ],
         "mode": "lines",
         "opacity": 0.6,
         "type": "scattergeo"
        },
        {
         "lat": [
          56.26392,
          50.503887
         ],
         "line": {
          "color": "blue",
          "width": 1
         },
         "locationmode": "ISO-3",
         "lon": [
          9.501785,
          4.469936
         ],
         "mode": "lines",
         "opacity": 0.6,
         "type": "scattergeo"
        },
        {
         "lat": [
          56.26392,
          51.165691
         ],
         "line": {
          "color": "blue",
          "width": 1
         },
         "locationmode": "ISO-3",
         "lon": [
          9.501785,
          10.451526
         ],
         "mode": "lines",
         "opacity": 0.6,
         "type": "scattergeo"
        },
        {
         "lat": [
          56.26392,
          52.132633
         ],
         "line": {
          "color": "blue",
          "width": 1
         },
         "locationmode": "ISO-3",
         "lon": [
          9.501785,
          5.291266
         ],
         "mode": "lines",
         "opacity": 0.6,
         "type": "scattergeo"
        },
        {
         "lat": [
          56.26392,
          46.227638
         ],
         "line": {
          "color": "blue",
          "width": 1
         },
         "locationmode": "ISO-3",
         "lon": [
          9.501785,
          2.213749
         ],
         "mode": "lines",
         "opacity": 0.6,
         "type": "scattergeo"
        },
        {
         "lat": [
          56.26392,
          64.963051
         ],
         "line": {
          "color": "blue",
          "width": 1
         },
         "locationmode": "ISO-3",
         "lon": [
          9.501785,
          -19.020835
         ],
         "mode": "lines",
         "opacity": 0.6,
         "type": "scattergeo"
        },
        {
         "lat": [
          56.26392,
          55.378051
         ],
         "line": {
          "color": "blue",
          "width": 1
         },
         "locationmode": "ISO-3",
         "lon": [
          9.501785,
          -3.435973
         ],
         "mode": "lines",
         "opacity": 0.6,
         "type": "scattergeo"
        },
        {
         "lat": [
          56.26392,
          41.87194
         ],
         "line": {
          "color": "blue",
          "width": 1
         },
         "locationmode": "ISO-3",
         "lon": [
          9.501785,
          12.56738
         ],
         "mode": "lines",
         "opacity": 0.6,
         "type": "scattergeo"
        },
        {
         "lat": [
          56.26392,
          61.892635
         ],
         "line": {
          "color": "blue",
          "width": 1
         },
         "locationmode": "ISO-3",
         "lon": [
          9.501785,
          -6.911806
         ],
         "mode": "lines",
         "opacity": 0.6,
         "type": "scattergeo"
        },
        {
         "lat": [
          56.26392,
          58.595272
         ],
         "line": {
          "color": "blue",
          "width": 1
         },
         "locationmode": "ISO-3",
         "lon": [
          9.501785,
          25.013607
         ],
         "mode": "lines",
         "opacity": 0.6,
         "type": "scattergeo"
        },
        {
         "lat": [
          56.26392,
          47.162494
         ],
         "line": {
          "color": "blue",
          "width": 1
         },
         "locationmode": "ISO-3",
         "lon": [
          9.501785,
          19.503304
         ],
         "mode": "lines",
         "opacity": 0.6,
         "type": "scattergeo"
        },
        {
         "lat": [
          56.26392,
          38.963745
         ],
         "line": {
          "color": "blue",
          "width": 1
         },
         "locationmode": "ISO-3",
         "lon": [
          9.501785,
          35.243322
         ],
         "mode": "lines",
         "opacity": 0.6,
         "type": "scattergeo"
        },
        {
         "lat": [
          56.26392,
          43.915886
         ],
         "line": {
          "color": "blue",
          "width": 1
         },
         "locationmode": "ISO-3",
         "lon": [
          9.501785,
          17.679076
         ],
         "mode": "lines",
         "opacity": 0.6,
         "type": "scattergeo"
        },
        {
         "lat": [
          56.26392,
          41.608635
         ],
         "line": {
          "color": "blue",
          "width": 1
         },
         "locationmode": "ISO-3",
         "lon": [
          9.501785,
          21.745275
         ],
         "mode": "lines",
         "opacity": 0.6,
         "type": "scattergeo"
        },
        {
         "lat": [
          56.26392,
          51.919438
         ],
         "line": {
          "color": "blue",
          "width": 1
         },
         "locationmode": "ISO-3",
         "lon": [
          9.501785,
          19.145136
         ],
         "mode": "lines",
         "opacity": 0.6,
         "type": "scattergeo"
        },
        {
         "lat": [
          60.128161,
          56.26392
         ],
         "line": {
          "color": "blue",
          "width": 1
         },
         "locationmode": "ISO-3",
         "lon": [
          18.643501,
          9.501785
         ],
         "mode": "lines",
         "opacity": 0.6,
         "type": "scattergeo"
        },
        {
         "lat": [
          60.128161,
          41.87194
         ],
         "line": {
          "color": "blue",
          "width": 1
         },
         "locationmode": "ISO-3",
         "lon": [
          18.643501,
          12.56738
         ],
         "mode": "lines",
         "opacity": 0.6,
         "type": "scattergeo"
        },
        {
         "lat": [
          60.128161,
          38.963745
         ],
         "line": {
          "color": "blue",
          "width": 1
         },
         "locationmode": "ISO-3",
         "lon": [
          18.643501,
          35.243322
         ],
         "mode": "lines",
         "opacity": 0.6,
         "type": "scattergeo"
        },
        {
         "lat": [
          60.128161,
          23.885942
         ],
         "line": {
          "color": "blue",
          "width": 1
         },
         "locationmode": "ISO-3",
         "lon": [
          18.643501,
          45.079162
         ],
         "mode": "lines",
         "opacity": 0.6,
         "type": "scattergeo"
        },
        {
         "lat": [
          60.128161,
          60.128161
         ],
         "line": {
          "color": "blue",
          "width": 1
         },
         "locationmode": "ISO-3",
         "lon": [
          18.643501,
          18.643501
         ],
         "mode": "lines",
         "opacity": 0.6,
         "type": "scattergeo"
        },
        {
         "lat": [
          60.128161,
          51.165691
         ],
         "line": {
          "color": "blue",
          "width": 1
         },
         "locationmode": "ISO-3",
         "lon": [
          18.643501,
          10.451526
         ],
         "mode": "lines",
         "opacity": 0.6,
         "type": "scattergeo"
        },
        {
         "lat": [
          60.128161,
          60.472024
         ],
         "line": {
          "color": "blue",
          "width": 1
         },
         "locationmode": "ISO-3",
         "lon": [
          18.643501,
          8.468946
         ],
         "mode": "lines",
         "opacity": 0.6,
         "type": "scattergeo"
        },
        {
         "lat": [
          60.128161,
          61.92411
         ],
         "line": {
          "color": "blue",
          "width": 1
         },
         "locationmode": "ISO-3",
         "lon": [
          18.643501,
          25.748151
         ],
         "mode": "lines",
         "opacity": 0.6,
         "type": "scattergeo"
        },
        {
         "lat": [
          60.128161,
          39.074208
         ],
         "line": {
          "color": "blue",
          "width": 1
         },
         "locationmode": "ISO-3",
         "lon": [
          18.643501,
          21.824312
         ],
         "mode": "lines",
         "opacity": 0.6,
         "type": "scattergeo"
        },
        {
         "lat": [
          60.128161,
          50.503887
         ],
         "line": {
          "color": "blue",
          "width": 1
         },
         "locationmode": "ISO-3",
         "lon": [
          18.643501,
          4.469936
         ],
         "mode": "lines",
         "opacity": 0.6,
         "type": "scattergeo"
        },
        {
         "lat": [
          60.128161,
          55.378051
         ],
         "line": {
          "color": "blue",
          "width": 1
         },
         "locationmode": "ISO-3",
         "lon": [
          18.643501,
          -3.435973
         ],
         "mode": "lines",
         "opacity": 0.6,
         "type": "scattergeo"
        },
        {
         "lat": [
          60.128161,
          44.016521
         ],
         "line": {
          "color": "blue",
          "width": 1
         },
         "locationmode": "ISO-3",
         "lon": [
          18.643501,
          21.005859
         ],
         "mode": "lines",
         "opacity": 0.6,
         "type": "scattergeo"
        },
        {
         "lat": [
          60.128161,
          46.227638
         ],
         "line": {
          "color": "blue",
          "width": 1
         },
         "locationmode": "ISO-3",
         "lon": [
          18.643501,
          2.213749
         ],
         "mode": "lines",
         "opacity": 0.6,
         "type": "scattergeo"
        },
        {
         "lat": [
          60.128161,
          40.143105
         ],
         "line": {
          "color": "blue",
          "width": 1
         },
         "locationmode": "ISO-3",
         "lon": [
          18.643501,
          47.576927
         ],
         "mode": "lines",
         "opacity": 0.6,
         "type": "scattergeo"
        },
        {
         "lat": [
          60.128161,
          52.132633
         ],
         "line": {
          "color": "blue",
          "width": 1
         },
         "locationmode": "ISO-3",
         "lon": [
          18.643501,
          5.291266
         ],
         "mode": "lines",
         "opacity": 0.6,
         "type": "scattergeo"
        },
        {
         "lat": [
          60.128161,
          56.879635
         ],
         "line": {
          "color": "blue",
          "width": 1
         },
         "locationmode": "ISO-3",
         "lon": [
          18.643501,
          24.603189
         ],
         "mode": "lines",
         "opacity": 0.6,
         "type": "scattergeo"
        },
        {
         "lat": [
          60.128161,
          39.399872
         ],
         "line": {
          "color": "blue",
          "width": 1
         },
         "locationmode": "ISO-3",
         "lon": [
          18.643501,
          -8.224454
         ],
         "mode": "lines",
         "opacity": 0.6,
         "type": "scattergeo"
        },
        {
         "lat": [
          60.128161,
          45.1
         ],
         "line": {
          "color": "blue",
          "width": 1
         },
         "locationmode": "ISO-3",
         "lon": [
          18.643501,
          15.2
         ],
         "mode": "lines",
         "opacity": 0.6,
         "type": "scattergeo"
        },
        {
         "lat": [
          60.128161,
          46.818188
         ],
         "line": {
          "color": "blue",
          "width": 1
         },
         "locationmode": "ISO-3",
         "lon": [
          18.643501,
          8.227512
         ],
         "mode": "lines",
         "opacity": 0.6,
         "type": "scattergeo"
        },
        {
         "lat": [
          60.128161,
          64.963051
         ],
         "line": {
          "color": "blue",
          "width": 1
         },
         "locationmode": "ISO-3",
         "lon": [
          18.643501,
          -19.020835
         ],
         "mode": "lines",
         "opacity": 0.6,
         "type": "scattergeo"
        },
        {
         "lat": [
          60.128161,
          42.733883
         ],
         "line": {
          "color": "blue",
          "width": 1
         },
         "locationmode": "ISO-3",
         "lon": [
          18.643501,
          25.48583
         ],
         "mode": "lines",
         "opacity": 0.6,
         "type": "scattergeo"
        },
        {
         "lat": [
          60.128161,
          49.817492
         ],
         "line": {
          "color": "blue",
          "width": 1
         },
         "locationmode": "ISO-3",
         "lon": [
          18.643501,
          15.472962
         ],
         "mode": "lines",
         "opacity": 0.6,
         "type": "scattergeo"
        },
        {
         "lat": [
          60.128161,
          51.919438
         ],
         "line": {
          "color": "blue",
          "width": 1
         },
         "locationmode": "ISO-3",
         "lon": [
          18.643501,
          19.145136
         ],
         "mode": "lines",
         "opacity": 0.6,
         "type": "scattergeo"
        },
        {
         "lat": [
          60.128161,
          -25.274398
         ],
         "line": {
          "color": "blue",
          "width": 1
         },
         "locationmode": "ISO-3",
         "lon": [
          18.643501,
          133.775136
         ],
         "mode": "lines",
         "opacity": 0.6,
         "type": "scattergeo"
        },
        {
         "lat": [
          60.128161,
          40.463667
         ],
         "line": {
          "color": "blue",
          "width": 1
         },
         "locationmode": "ISO-3",
         "lon": [
          18.643501,
          -3.74922
         ],
         "mode": "lines",
         "opacity": 0.6,
         "type": "scattergeo"
        },
        {
         "lat": [
          60.128161,
          -35.675147
         ],
         "line": {
          "color": "blue",
          "width": 1
         },
         "locationmode": "ISO-3",
         "lon": [
          18.643501,
          -71.542969
         ],
         "mode": "lines",
         "opacity": 0.6,
         "type": "scattergeo"
        },
        {
         "lat": [
          60.128161,
          53.709807
         ],
         "line": {
          "color": "blue",
          "width": 1
         },
         "locationmode": "ISO-3",
         "lon": [
          18.643501,
          27.953389
         ],
         "mode": "lines",
         "opacity": 0.6,
         "type": "scattergeo"
        },
        {
         "lat": [
          60.128161,
          48.669026
         ],
         "line": {
          "color": "blue",
          "width": 1
         },
         "locationmode": "ISO-3",
         "lon": [
          18.643501,
          19.699024
         ],
         "mode": "lines",
         "opacity": 0.6,
         "type": "scattergeo"
        },
        {
         "lat": [
          60.128161,
          42.708678
         ],
         "line": {
          "color": "blue",
          "width": 1
         },
         "locationmode": "ISO-3",
         "lon": [
          18.643501,
          19.37439
         ],
         "mode": "lines",
         "opacity": 0.6,
         "type": "scattergeo"
        },
        {
         "lat": [
          60.128161,
          35.937496
         ],
         "line": {
          "color": "blue",
          "width": 1
         },
         "locationmode": "ISO-3",
         "lon": [
          18.643501,
          14.375416
         ],
         "mode": "lines",
         "opacity": 0.6,
         "type": "scattergeo"
        },
        {
         "lat": [
          25.354826,
          55.378051
         ],
         "line": {
          "color": "blue",
          "width": 1
         },
         "locationmode": "ISO-3",
         "lon": [
          51.183884,
          -3.435973
         ],
         "mode": "lines",
         "opacity": 0.6,
         "type": "scattergeo"
        },
        {
         "lat": [
          25.354826,
          25.354826
         ],
         "line": {
          "color": "blue",
          "width": 1
         },
         "locationmode": "ISO-3",
         "lon": [
          51.183884,
          51.183884
         ],
         "mode": "lines",
         "opacity": 0.6,
         "type": "scattergeo"
        },
        {
         "lat": [
          25.354826,
          9.748917
         ],
         "line": {
          "color": "blue",
          "width": 1
         },
         "locationmode": "ISO-3",
         "lon": [
          51.183884,
          -83.753428
         ],
         "mode": "lines",
         "opacity": 0.6,
         "type": "scattergeo"
        },
        {
         "lat": [
          25.354826,
          46.227638
         ],
         "line": {
          "color": "blue",
          "width": 1
         },
         "locationmode": "ISO-3",
         "lon": [
          51.183884,
          2.213749
         ],
         "mode": "lines",
         "opacity": 0.6,
         "type": "scattergeo"
        },
        {
         "lat": [
          25.354826,
          31.046051
         ],
         "line": {
          "color": "blue",
          "width": 1
         },
         "locationmode": "ISO-3",
         "lon": [
          51.183884,
          34.851612
         ],
         "mode": "lines",
         "opacity": 0.6,
         "type": "scattergeo"
        },
        {
         "lat": [
          25.354826,
          32.427908
         ],
         "line": {
          "color": "blue",
          "width": 1
         },
         "locationmode": "ISO-3",
         "lon": [
          51.183884,
          53.688046
         ],
         "mode": "lines",
         "opacity": 0.6,
         "type": "scattergeo"
        },
        {
         "lat": [
          25.354826,
          -14.235004
         ],
         "line": {
          "color": "blue",
          "width": 1
         },
         "locationmode": "ISO-3",
         "lon": [
          51.183884,
          -51.92528
         ],
         "mode": "lines",
         "opacity": 0.6,
         "type": "scattergeo"
        },
        {
         "lat": [
          25.354826,
          23.424076
         ],
         "line": {
          "color": "blue",
          "width": 1
         },
         "locationmode": "ISO-3",
         "lon": [
          51.183884,
          53.847818
         ],
         "mode": "lines",
         "opacity": 0.6,
         "type": "scattergeo"
        },
        {
         "lat": [
          25.354826,
          50.503887
         ],
         "line": {
          "color": "blue",
          "width": 1
         },
         "locationmode": "ISO-3",
         "lon": [
          51.183884,
          4.469936
         ],
         "mode": "lines",
         "opacity": 0.6,
         "type": "scattergeo"
        },
        {
         "lat": [
          25.354826,
          31.791702
         ],
         "line": {
          "color": "blue",
          "width": 1
         },
         "locationmode": "ISO-3",
         "lon": [
          51.183884,
          -7.09262
         ],
         "mode": "lines",
         "opacity": 0.6,
         "type": "scattergeo"
        },
        {
         "lat": [
          25.354826,
          23.885942
         ],
         "line": {
          "color": "blue",
          "width": 1
         },
         "locationmode": "ISO-3",
         "lon": [
          51.183884,
          45.079162
         ],
         "mode": "lines",
         "opacity": 0.6,
         "type": "scattergeo"
        },
        {
         "lat": [
          25.354826,
          -9.189967
         ],
         "line": {
          "color": "blue",
          "width": 1
         },
         "locationmode": "ISO-3",
         "lon": [
          51.183884,
          -75.015152
         ],
         "mode": "lines",
         "opacity": 0.6,
         "type": "scattergeo"
        },
        {
         "lat": [
          -9.189967,
          -9.189967
         ],
         "line": {
          "color": "blue",
          "width": 1
         },
         "locationmode": "ISO-3",
         "lon": [
          -75.015152,
          -75.015152
         ],
         "mode": "lines",
         "opacity": 0.6,
         "type": "scattergeo"
        },
        {
         "lat": [
          -9.189967,
          -32.522779
         ],
         "line": {
          "color": "blue",
          "width": 1
         },
         "locationmode": "ISO-3",
         "lon": [
          -75.015152,
          -55.765835
         ],
         "mode": "lines",
         "opacity": 0.6,
         "type": "scattergeo"
        },
        {
         "lat": [
          -9.189967,
          51.165691
         ],
         "line": {
          "color": "blue",
          "width": 1
         },
         "locationmode": "ISO-3",
         "lon": [
          -75.015152,
          10.451526
         ],
         "mode": "lines",
         "opacity": 0.6,
         "type": "scattergeo"
        },
        {
         "lat": [
          -9.189967,
          -38.416097
         ],
         "line": {
          "color": "blue",
          "width": 1
         },
         "locationmode": "ISO-3",
         "lon": [
          -75.015152,
          -63.616672
         ],
         "mode": "lines",
         "opacity": 0.6,
         "type": "scattergeo"
        },
        {
         "lat": [
          -9.189967,
          -1.831239
         ],
         "line": {
          "color": "blue",
          "width": 1
         },
         "locationmode": "ISO-3",
         "lon": [
          -75.015152,
          -78.183406
         ],
         "mode": "lines",
         "opacity": 0.6,
         "type": "scattergeo"
        },
        {
         "lat": [
          -9.189967,
          51.919438
         ],
         "line": {
          "color": "blue",
          "width": 1
         },
         "locationmode": "ISO-3",
         "lon": [
          -75.015152,
          19.145136
         ],
         "mode": "lines",
         "opacity": 0.6,
         "type": "scattergeo"
        },
        {
         "lat": [
          -9.189967,
          35.126413
         ],
         "line": {
          "color": "blue",
          "width": 1
         },
         "locationmode": "ISO-3",
         "lon": [
          -75.015152,
          33.429859
         ],
         "mode": "lines",
         "opacity": 0.6,
         "type": "scattergeo"
        },
        {
         "lat": [
          -9.189967,
          4.570868
         ],
         "line": {
          "color": "blue",
          "width": 1
         },
         "locationmode": "ISO-3",
         "lon": [
          -75.015152,
          -74.297333
         ],
         "mode": "lines",
         "opacity": 0.6,
         "type": "scattergeo"
        },
        {
         "lat": [
          -9.189967,
          -35.675147
         ],
         "line": {
          "color": "blue",
          "width": 1
         },
         "locationmode": "ISO-3",
         "lon": [
          -75.015152,
          -71.542969
         ],
         "mode": "lines",
         "opacity": 0.6,
         "type": "scattergeo"
        },
        {
         "lat": [
          -9.189967,
          25.354826
         ],
         "line": {
          "color": "blue",
          "width": 1
         },
         "locationmode": "ISO-3",
         "lon": [
          -75.015152,
          51.183884
         ],
         "mode": "lines",
         "opacity": 0.6,
         "type": "scattergeo"
        },
        {
         "lat": [
          -9.189967,
          23.634501
         ],
         "line": {
          "color": "blue",
          "width": 1
         },
         "locationmode": "ISO-3",
         "lon": [
          -75.015152,
          -102.552784
         ],
         "mode": "lines",
         "opacity": 0.6,
         "type": "scattergeo"
        },
        {
         "lat": [
          64.963051,
          51.165691
         ],
         "line": {
          "color": "blue",
          "width": 1
         },
         "locationmode": "ISO-3",
         "lon": [
          -19.020835,
          10.451526
         ],
         "mode": "lines",
         "opacity": 0.6,
         "type": "scattergeo"
        },
        {
         "lat": [
          64.963051,
          55.378051
         ],
         "line": {
          "color": "blue",
          "width": 1
         },
         "locationmode": "ISO-3",
         "lon": [
          -19.020835,
          -3.435973
         ],
         "mode": "lines",
         "opacity": 0.6,
         "type": "scattergeo"
        },
        {
         "lat": [
          64.963051,
          64.963051
         ],
         "line": {
          "color": "blue",
          "width": 1
         },
         "locationmode": "ISO-3",
         "lon": [
          -19.020835,
          -19.020835
         ],
         "mode": "lines",
         "opacity": 0.6,
         "type": "scattergeo"
        },
        {
         "lat": [
          64.963051,
          60.472024
         ],
         "line": {
          "color": "blue",
          "width": 1
         },
         "locationmode": "ISO-3",
         "lon": [
          -19.020835,
          8.468946
         ],
         "mode": "lines",
         "opacity": 0.6,
         "type": "scattergeo"
        },
        {
         "lat": [
          64.963051,
          56.26392
         ],
         "line": {
          "color": "blue",
          "width": 1
         },
         "locationmode": "ISO-3",
         "lon": [
          -19.020835,
          9.501785
         ],
         "mode": "lines",
         "opacity": 0.6,
         "type": "scattergeo"
        },
        {
         "lat": [
          64.963051,
          60.128161
         ],
         "line": {
          "color": "blue",
          "width": 1
         },
         "locationmode": "ISO-3",
         "lon": [
          -19.020835,
          18.643501
         ],
         "mode": "lines",
         "opacity": 0.6,
         "type": "scattergeo"
        },
        {
         "lat": [
          64.963051,
          44.016521
         ],
         "line": {
          "color": "blue",
          "width": 1
         },
         "locationmode": "ISO-3",
         "lon": [
          -19.020835,
          21.005859
         ],
         "mode": "lines",
         "opacity": 0.6,
         "type": "scattergeo"
        },
        {
         "lat": [
          64.963051,
          48.669026
         ],
         "line": {
          "color": "blue",
          "width": 1
         },
         "locationmode": "ISO-3",
         "lon": [
          -19.020835,
          19.699024
         ],
         "mode": "lines",
         "opacity": 0.6,
         "type": "scattergeo"
        },
        {
         "lat": [
          -25.274398,
          -25.274398
         ],
         "line": {
          "color": "blue",
          "width": 1
         },
         "locationmode": "ISO-3",
         "lon": [
          133.775136,
          133.775136
         ],
         "mode": "lines",
         "opacity": 0.6,
         "type": "scattergeo"
        },
        {
         "lat": [
          -25.274398,
          55.378051
         ],
         "line": {
          "color": "blue",
          "width": 1
         },
         "locationmode": "ISO-3",
         "lon": [
          133.775136,
          -3.435973
         ],
         "mode": "lines",
         "opacity": 0.6,
         "type": "scattergeo"
        },
        {
         "lat": [
          -25.274398,
          52.132633
         ],
         "line": {
          "color": "blue",
          "width": 1
         },
         "locationmode": "ISO-3",
         "lon": [
          133.775136,
          5.291266
         ],
         "mode": "lines",
         "opacity": 0.6,
         "type": "scattergeo"
        },
        {
         "lat": [
          -25.274398,
          51.165691
         ],
         "line": {
          "color": "blue",
          "width": 1
         },
         "locationmode": "ISO-3",
         "lon": [
          133.775136,
          10.451526
         ],
         "mode": "lines",
         "opacity": 0.6,
         "type": "scattergeo"
        },
        {
         "lat": [
          -25.274398,
          45.943161
         ],
         "line": {
          "color": "blue",
          "width": 1
         },
         "locationmode": "ISO-3",
         "lon": [
          133.775136,
          24.96676
         ],
         "mode": "lines",
         "opacity": 0.6,
         "type": "scattergeo"
        },
        {
         "lat": [
          -25.274398,
          4.210484
         ],
         "line": {
          "color": "blue",
          "width": 1
         },
         "locationmode": "ISO-3",
         "lon": [
          133.775136,
          101.975766
         ],
         "mode": "lines",
         "opacity": 0.6,
         "type": "scattergeo"
        },
        {
         "lat": [
          -25.274398,
          35.86166
         ],
         "line": {
          "color": "blue",
          "width": 1
         },
         "locationmode": "ISO-3",
         "lon": [
          133.775136,
          104.195397
         ],
         "mode": "lines",
         "opacity": 0.6,
         "type": "scattergeo"
        },
        {
         "lat": [
          -25.274398,
          35.907757
         ],
         "line": {
          "color": "blue",
          "width": 1
         },
         "locationmode": "ISO-3",
         "lon": [
          133.775136,
          127.766922
         ],
         "mode": "lines",
         "opacity": 0.6,
         "type": "scattergeo"
        },
        {
         "lat": [
          -25.274398,
          36.204824
         ],
         "line": {
          "color": "blue",
          "width": 1
         },
         "locationmode": "ISO-3",
         "lon": [
          133.775136,
          138.252924
         ],
         "mode": "lines",
         "opacity": 0.6,
         "type": "scattergeo"
        },
        {
         "lat": [
          -25.274398,
          53.41291
         ],
         "line": {
          "color": "blue",
          "width": 1
         },
         "locationmode": "ISO-3",
         "lon": [
          133.775136,
          -8.24389
         ],
         "mode": "lines",
         "opacity": 0.6,
         "type": "scattergeo"
        },
        {
         "lat": [
          46.818188,
          37.09024
         ],
         "line": {
          "color": "blue",
          "width": 1
         },
         "locationmode": "ISO-3",
         "lon": [
          8.227512,
          -95.712891
         ],
         "mode": "lines",
         "opacity": 0.6,
         "type": "scattergeo"
        },
        {
         "lat": [
          46.818188,
          46.818188
         ],
         "line": {
          "color": "blue",
          "width": 1
         },
         "locationmode": "ISO-3",
         "lon": [
          8.227512,
          8.227512
         ],
         "mode": "lines",
         "opacity": 0.6,
         "type": "scattergeo"
        },
        {
         "lat": [
          46.818188,
          47.162494
         ],
         "line": {
          "color": "blue",
          "width": 1
         },
         "locationmode": "ISO-3",
         "lon": [
          8.227512,
          19.503304
         ],
         "mode": "lines",
         "opacity": 0.6,
         "type": "scattergeo"
        },
        {
         "lat": [
          46.818188,
          61.52401
         ],
         "line": {
          "color": "blue",
          "width": 1
         },
         "locationmode": "ISO-3",
         "lon": [
          8.227512,
          105.318756
         ],
         "mode": "lines",
         "opacity": 0.6,
         "type": "scattergeo"
        },
        {
         "lat": [
          46.818188,
          46.227638
         ],
         "line": {
          "color": "blue",
          "width": 1
         },
         "locationmode": "ISO-3",
         "lon": [
          8.227512,
          2.213749
         ],
         "mode": "lines",
         "opacity": 0.6,
         "type": "scattergeo"
        },
        {
         "lat": [
          46.818188,
          51.165691
         ],
         "line": {
          "color": "blue",
          "width": 1
         },
         "locationmode": "ISO-3",
         "lon": [
          8.227512,
          10.451526
         ],
         "mode": "lines",
         "opacity": 0.6,
         "type": "scattergeo"
        },
        {
         "lat": [
          46.818188,
          47.516231
         ],
         "line": {
          "color": "blue",
          "width": 1
         },
         "locationmode": "ISO-3",
         "lon": [
          8.227512,
          14.550072
         ],
         "mode": "lines",
         "opacity": 0.6,
         "type": "scattergeo"
        },
        {
         "lat": [
          46.818188,
          49.817492
         ],
         "line": {
          "color": "blue",
          "width": 1
         },
         "locationmode": "ISO-3",
         "lon": [
          8.227512,
          15.472962
         ],
         "mode": "lines",
         "opacity": 0.6,
         "type": "scattergeo"
        },
        {
         "lat": [
          46.818188,
          41.87194
         ],
         "line": {
          "color": "blue",
          "width": 1
         },
         "locationmode": "ISO-3",
         "lon": [
          8.227512,
          12.56738
         ],
         "mode": "lines",
         "opacity": 0.6,
         "type": "scattergeo"
        },
        {
         "lat": [
          46.818188,
          51.919438
         ],
         "line": {
          "color": "blue",
          "width": 1
         },
         "locationmode": "ISO-3",
         "lon": [
          8.227512,
          19.145136
         ],
         "mode": "lines",
         "opacity": 0.6,
         "type": "scattergeo"
        },
        {
         "lat": [
          46.818188,
          -38.416097
         ],
         "line": {
          "color": "blue",
          "width": 1
         },
         "locationmode": "ISO-3",
         "lon": [
          8.227512,
          -63.616672
         ],
         "mode": "lines",
         "opacity": 0.6,
         "type": "scattergeo"
        },
        {
         "lat": [
          46.818188,
          -14.235004
         ],
         "line": {
          "color": "blue",
          "width": 1
         },
         "locationmode": "ISO-3",
         "lon": [
          8.227512,
          -51.92528
         ],
         "mode": "lines",
         "opacity": 0.6,
         "type": "scattergeo"
        },
        {
         "lat": [
          46.818188,
          55.378051
         ],
         "line": {
          "color": "blue",
          "width": 1
         },
         "locationmode": "ISO-3",
         "lon": [
          8.227512,
          -3.435973
         ],
         "mode": "lines",
         "opacity": 0.6,
         "type": "scattergeo"
        },
        {
         "lat": [
          46.818188,
          50.503887
         ],
         "line": {
          "color": "blue",
          "width": 1
         },
         "locationmode": "ISO-3",
         "lon": [
          8.227512,
          4.469936
         ],
         "mode": "lines",
         "opacity": 0.6,
         "type": "scattergeo"
        },
        {
         "lat": [
          46.818188,
          -23.442503
         ],
         "line": {
          "color": "blue",
          "width": 1
         },
         "locationmode": "ISO-3",
         "lon": [
          8.227512,
          -58.443832
         ],
         "mode": "lines",
         "opacity": 0.6,
         "type": "scattergeo"
        },
        {
         "lat": [
          46.818188,
          61.92411
         ],
         "line": {
          "color": "blue",
          "width": 1
         },
         "locationmode": "ISO-3",
         "lon": [
          8.227512,
          25.748151
         ],
         "mode": "lines",
         "opacity": 0.6,
         "type": "scattergeo"
        },
        {
         "lat": [
          46.818188,
          25.354826
         ],
         "line": {
          "color": "blue",
          "width": 1
         },
         "locationmode": "ISO-3",
         "lon": [
          8.227512,
          51.183884
         ],
         "mode": "lines",
         "opacity": 0.6,
         "type": "scattergeo"
        },
        {
         "lat": [
          46.818188,
          41.153332
         ],
         "line": {
          "color": "blue",
          "width": 1
         },
         "locationmode": "ISO-3",
         "lon": [
          8.227512,
          20.168331
         ],
         "mode": "lines",
         "opacity": 0.6,
         "type": "scattergeo"
        },
        {
         "lat": [
          46.818188,
          52.132633
         ],
         "line": {
          "color": "blue",
          "width": 1
         },
         "locationmode": "ISO-3",
         "lon": [
          8.227512,
          5.291266
         ],
         "mode": "lines",
         "opacity": 0.6,
         "type": "scattergeo"
        },
        {
         "lat": [
          46.818188,
          38.963745
         ],
         "line": {
          "color": "blue",
          "width": 1
         },
         "locationmode": "ISO-3",
         "lon": [
          8.227512,
          35.243322
         ],
         "mode": "lines",
         "opacity": 0.6,
         "type": "scattergeo"
        },
        {
         "lat": [
          46.818188,
          -25.274398
         ],
         "line": {
          "color": "blue",
          "width": 1
         },
         "locationmode": "ISO-3",
         "lon": [
          8.227512,
          133.775136
         ],
         "mode": "lines",
         "opacity": 0.6,
         "type": "scattergeo"
        },
        {
         "lat": [
          46.818188,
          45.1
         ],
         "line": {
          "color": "blue",
          "width": 1
         },
         "locationmode": "ISO-3",
         "lon": [
          8.227512,
          15.2
         ],
         "mode": "lines",
         "opacity": 0.6,
         "type": "scattergeo"
        },
        {
         "lat": [
          46.818188,
          -35.675147
         ],
         "line": {
          "color": "blue",
          "width": 1
         },
         "locationmode": "ISO-3",
         "lon": [
          8.227512,
          -71.542969
         ],
         "mode": "lines",
         "opacity": 0.6,
         "type": "scattergeo"
        },
        {
         "lat": [
          46.818188,
          -16.290154
         ],
         "line": {
          "color": "blue",
          "width": 1
         },
         "locationmode": "ISO-3",
         "lon": [
          8.227512,
          -63.588653
         ],
         "mode": "lines",
         "opacity": 0.6,
         "type": "scattergeo"
        },
        {
         "lat": [
          46.818188,
          -30.559482
         ],
         "line": {
          "color": "blue",
          "width": 1
         },
         "locationmode": "ISO-3",
         "lon": [
          8.227512,
          22.937506
         ],
         "mode": "lines",
         "opacity": 0.6,
         "type": "scattergeo"
        },
        {
         "lat": [
          46.818188,
          9.081999
         ],
         "line": {
          "color": "blue",
          "width": 1
         },
         "locationmode": "ISO-3",
         "lon": [
          8.227512,
          8.675277
         ],
         "mode": "lines",
         "opacity": 0.6,
         "type": "scattergeo"
        },
        {
         "lat": [
          46.818188,
          39.399872
         ],
         "line": {
          "color": "blue",
          "width": 1
         },
         "locationmode": "ISO-3",
         "lon": [
          8.227512,
          -8.224454
         ],
         "mode": "lines",
         "opacity": 0.6,
         "type": "scattergeo"
        },
        {
         "lat": [
          46.818188,
          48.379433
         ],
         "line": {
          "color": "blue",
          "width": 1
         },
         "locationmode": "ISO-3",
         "lon": [
          8.227512,
          31.16558
         ],
         "mode": "lines",
         "opacity": 0.6,
         "type": "scattergeo"
        },
        {
         "lat": [
          46.818188,
          60.128161
         ],
         "line": {
          "color": "blue",
          "width": 1
         },
         "locationmode": "ISO-3",
         "lon": [
          8.227512,
          18.643501
         ],
         "mode": "lines",
         "opacity": 0.6,
         "type": "scattergeo"
        },
        {
         "lat": [
          46.818188,
          -32.522779
         ],
         "line": {
          "color": "blue",
          "width": 1
         },
         "locationmode": "ISO-3",
         "lon": [
          8.227512,
          -55.765835
         ],
         "mode": "lines",
         "opacity": 0.6,
         "type": "scattergeo"
        },
        {
         "lat": [
          46.818188,
          23.885942
         ],
         "line": {
          "color": "blue",
          "width": 1
         },
         "locationmode": "ISO-3",
         "lon": [
          8.227512,
          45.079162
         ],
         "mode": "lines",
         "opacity": 0.6,
         "type": "scattergeo"
        },
        {
         "lat": [
          46.818188,
          40.463667
         ],
         "line": {
          "color": "blue",
          "width": 1
         },
         "locationmode": "ISO-3",
         "lon": [
          8.227512,
          -3.74922
         ],
         "mode": "lines",
         "opacity": 0.6,
         "type": "scattergeo"
        },
        {
         "lat": [
          46.818188,
          35.126413
         ],
         "line": {
          "color": "blue",
          "width": 1
         },
         "locationmode": "ISO-3",
         "lon": [
          8.227512,
          33.429859
         ],
         "mode": "lines",
         "opacity": 0.6,
         "type": "scattergeo"
        },
        {
         "lat": [
          31.046051,
          56.26392
         ],
         "line": {
          "color": "blue",
          "width": 1
         },
         "locationmode": "ISO-3",
         "lon": [
          34.851612,
          9.501785
         ],
         "mode": "lines",
         "opacity": 0.6,
         "type": "scattergeo"
        },
        {
         "lat": [
          31.046051,
          50.503887
         ],
         "line": {
          "color": "blue",
          "width": 1
         },
         "locationmode": "ISO-3",
         "lon": [
          34.851612,
          4.469936
         ],
         "mode": "lines",
         "opacity": 0.6,
         "type": "scattergeo"
        },
        {
         "lat": [
          31.046051,
          31.046051
         ],
         "line": {
          "color": "blue",
          "width": 1
         },
         "locationmode": "ISO-3",
         "lon": [
          34.851612,
          34.851612
         ],
         "mode": "lines",
         "opacity": 0.6,
         "type": "scattergeo"
        },
        {
         "lat": [
          31.046051,
          43.915886
         ],
         "line": {
          "color": "blue",
          "width": 1
         },
         "locationmode": "ISO-3",
         "lon": [
          34.851612,
          17.679076
         ],
         "mode": "lines",
         "opacity": 0.6,
         "type": "scattergeo"
        },
        {
         "lat": [
          31.046051,
          -14.235004
         ],
         "line": {
          "color": "blue",
          "width": 1
         },
         "locationmode": "ISO-3",
         "lon": [
          34.851612,
          -51.92528
         ],
         "mode": "lines",
         "opacity": 0.6,
         "type": "scattergeo"
        },
        {
         "lat": [
          31.046051,
          61.52401
         ],
         "line": {
          "color": "blue",
          "width": 1
         },
         "locationmode": "ISO-3",
         "lon": [
          34.851612,
          105.318756
         ],
         "mode": "lines",
         "opacity": 0.6,
         "type": "scattergeo"
        },
        {
         "lat": [
          31.046051,
          51.165691
         ],
         "line": {
          "color": "blue",
          "width": 1
         },
         "locationmode": "ISO-3",
         "lon": [
          34.851612,
          10.451526
         ],
         "mode": "lines",
         "opacity": 0.6,
         "type": "scattergeo"
        },
        {
         "lat": [
          31.046051,
          39.399872
         ],
         "line": {
          "color": "blue",
          "width": 1
         },
         "locationmode": "ISO-3",
         "lon": [
          34.851612,
          -8.224454
         ],
         "mode": "lines",
         "opacity": 0.6,
         "type": "scattergeo"
        },
        {
         "lat": [
          31.046051,
          40.463667
         ],
         "line": {
          "color": "blue",
          "width": 1
         },
         "locationmode": "ISO-3",
         "lon": [
          34.851612,
          -3.74922
         ],
         "mode": "lines",
         "opacity": 0.6,
         "type": "scattergeo"
        },
        {
         "lat": [
          31.046051,
          46.151241
         ],
         "line": {
          "color": "blue",
          "width": 1
         },
         "locationmode": "ISO-3",
         "lon": [
          34.851612,
          14.995463
         ],
         "mode": "lines",
         "opacity": 0.6,
         "type": "scattergeo"
        },
        {
         "lat": [
          31.046051,
          55.378051
         ],
         "line": {
          "color": "blue",
          "width": 1
         },
         "locationmode": "ISO-3",
         "lon": [
          34.851612,
          -3.435973
         ],
         "mode": "lines",
         "opacity": 0.6,
         "type": "scattergeo"
        },
        {
         "lat": [
          31.046051,
          45.943161
         ],
         "line": {
          "color": "blue",
          "width": 1
         },
         "locationmode": "ISO-3",
         "lon": [
          34.851612,
          24.96676
         ],
         "mode": "lines",
         "opacity": 0.6,
         "type": "scattergeo"
        },
        {
         "lat": [
          31.046051,
          42.733883
         ],
         "line": {
          "color": "blue",
          "width": 1
         },
         "locationmode": "ISO-3",
         "lon": [
          34.851612,
          25.48583
         ],
         "mode": "lines",
         "opacity": 0.6,
         "type": "scattergeo"
        },
        {
         "lat": [
          31.046051,
          53.709807
         ],
         "line": {
          "color": "blue",
          "width": 1
         },
         "locationmode": "ISO-3",
         "lon": [
          34.851612,
          27.953389
         ],
         "mode": "lines",
         "opacity": 0.6,
         "type": "scattergeo"
        },
        {
         "lat": [
          31.046051,
          -16.290154
         ],
         "line": {
          "color": "blue",
          "width": 1
         },
         "locationmode": "ISO-3",
         "lon": [
          34.851612,
          -63.588653
         ],
         "mode": "lines",
         "opacity": 0.6,
         "type": "scattergeo"
        },
        {
         "lat": [
          31.046051,
          35.126413
         ],
         "line": {
          "color": "blue",
          "width": 1
         },
         "locationmode": "ISO-3",
         "lon": [
          34.851612,
          33.429859
         ],
         "mode": "lines",
         "opacity": 0.6,
         "type": "scattergeo"
        },
        {
         "lat": [
          31.046051,
          46.818188
         ],
         "line": {
          "color": "blue",
          "width": 1
         },
         "locationmode": "ISO-3",
         "lon": [
          34.851612,
          8.227512
         ],
         "mode": "lines",
         "opacity": 0.6,
         "type": "scattergeo"
        },
        {
         "lat": [
          31.046051,
          45.1
         ],
         "line": {
          "color": "blue",
          "width": 1
         },
         "locationmode": "ISO-3",
         "lon": [
          34.851612,
          15.2
         ],
         "mode": "lines",
         "opacity": 0.6,
         "type": "scattergeo"
        },
        {
         "lat": [
          31.046051,
          7.946527
         ],
         "line": {
          "color": "blue",
          "width": 1
         },
         "locationmode": "ISO-3",
         "lon": [
          34.851612,
          -1.023194
         ],
         "mode": "lines",
         "opacity": 0.6,
         "type": "scattergeo"
        },
        {
         "lat": [
          31.046051,
          37.09024
         ],
         "line": {
          "color": "blue",
          "width": 1
         },
         "locationmode": "ISO-3",
         "lon": [
          34.851612,
          -95.712891
         ],
         "mode": "lines",
         "opacity": 0.6,
         "type": "scattergeo"
        },
        {
         "lat": [
          31.046051,
          -38.416097
         ],
         "line": {
          "color": "blue",
          "width": 1
         },
         "locationmode": "ISO-3",
         "lon": [
          34.851612,
          -63.616672
         ],
         "mode": "lines",
         "opacity": 0.6,
         "type": "scattergeo"
        },
        {
         "lat": [
          31.046051,
          44.016521
         ],
         "line": {
          "color": "blue",
          "width": 1
         },
         "locationmode": "ISO-3",
         "lon": [
          34.851612,
          21.005859
         ],
         "mode": "lines",
         "opacity": 0.6,
         "type": "scattergeo"
        },
        {
         "lat": [
          31.046051,
          15.783471
         ],
         "line": {
          "color": "blue",
          "width": 1
         },
         "locationmode": "ISO-3",
         "lon": [
          34.851612,
          -90.230759
         ],
         "mode": "lines",
         "opacity": 0.6,
         "type": "scattergeo"
        },
        {
         "lat": [
          31.046051,
          -32.522779
         ],
         "line": {
          "color": "blue",
          "width": 1
         },
         "locationmode": "ISO-3",
         "lon": [
          34.851612,
          -55.765835
         ],
         "mode": "lines",
         "opacity": 0.6,
         "type": "scattergeo"
        },
        {
         "lat": [
          31.046051,
          35.907757
         ],
         "line": {
          "color": "blue",
          "width": 1
         },
         "locationmode": "ISO-3",
         "lon": [
          34.851612,
          127.766922
         ],
         "mode": "lines",
         "opacity": 0.6,
         "type": "scattergeo"
        },
        {
         "lat": [
          31.046051,
          22.396428
         ],
         "line": {
          "color": "blue",
          "width": 1
         },
         "locationmode": "ISO-3",
         "lon": [
          34.851612,
          114.109497
         ],
         "mode": "lines",
         "opacity": 0.6,
         "type": "scattergeo"
        },
        {
         "lat": [
          39.399872,
          55.378051
         ],
         "line": {
          "color": "blue",
          "width": 1
         },
         "locationmode": "ISO-3",
         "lon": [
          -8.224454,
          -3.435973
         ],
         "mode": "lines",
         "opacity": 0.6,
         "type": "scattergeo"
        },
        {
         "lat": [
          39.399872,
          46.818188
         ],
         "line": {
          "color": "blue",
          "width": 1
         },
         "locationmode": "ISO-3",
         "lon": [
          -8.224454,
          8.227512
         ],
         "mode": "lines",
         "opacity": 0.6,
         "type": "scattergeo"
        },
        {
         "lat": [
          39.399872,
          39.399872
         ],
         "line": {
          "color": "blue",
          "width": 1
         },
         "locationmode": "ISO-3",
         "lon": [
          -8.224454,
          -8.224454
         ],
         "mode": "lines",
         "opacity": 0.6,
         "type": "scattergeo"
        },
        {
         "lat": [
          39.399872,
          -14.235004
         ],
         "line": {
          "color": "blue",
          "width": 1
         },
         "locationmode": "ISO-3",
         "lon": [
          -8.224454,
          -51.92528
         ],
         "mode": "lines",
         "opacity": 0.6,
         "type": "scattergeo"
        },
        {
         "lat": [
          39.399872,
          46.227638
         ],
         "line": {
          "color": "blue",
          "width": 1
         },
         "locationmode": "ISO-3",
         "lon": [
          -8.224454,
          2.213749
         ],
         "mode": "lines",
         "opacity": 0.6,
         "type": "scattergeo"
        },
        {
         "lat": [
          39.399872,
          40.463667
         ],
         "line": {
          "color": "blue",
          "width": 1
         },
         "locationmode": "ISO-3",
         "lon": [
          -8.224454,
          -3.74922
         ],
         "mode": "lines",
         "opacity": 0.6,
         "type": "scattergeo"
        },
        {
         "lat": [
          39.399872,
          23.885942
         ],
         "line": {
          "color": "blue",
          "width": 1
         },
         "locationmode": "ISO-3",
         "lon": [
          -8.224454,
          45.079162
         ],
         "mode": "lines",
         "opacity": 0.6,
         "type": "scattergeo"
        },
        {
         "lat": [
          39.399872,
          -38.416097
         ],
         "line": {
          "color": "blue",
          "width": 1
         },
         "locationmode": "ISO-3",
         "lon": [
          -8.224454,
          -63.616672
         ],
         "mode": "lines",
         "opacity": 0.6,
         "type": "scattergeo"
        },
        {
         "lat": [
          39.399872,
          50.503887
         ],
         "line": {
          "color": "blue",
          "width": 1
         },
         "locationmode": "ISO-3",
         "lon": [
          -8.224454,
          4.469936
         ],
         "mode": "lines",
         "opacity": 0.6,
         "type": "scattergeo"
        },
        {
         "lat": [
          39.399872,
          61.52401
         ],
         "line": {
          "color": "blue",
          "width": 1
         },
         "locationmode": "ISO-3",
         "lon": [
          -8.224454,
          105.318756
         ],
         "mode": "lines",
         "opacity": 0.6,
         "type": "scattergeo"
        },
        {
         "lat": [
          39.399872,
          35.126413
         ],
         "line": {
          "color": "blue",
          "width": 1
         },
         "locationmode": "ISO-3",
         "lon": [
          -8.224454,
          33.429859
         ],
         "mode": "lines",
         "opacity": 0.6,
         "type": "scattergeo"
        },
        {
         "lat": [
          39.399872,
          39.074208
         ],
         "line": {
          "color": "blue",
          "width": 1
         },
         "locationmode": "ISO-3",
         "lon": [
          -8.224454,
          21.824312
         ],
         "mode": "lines",
         "opacity": 0.6,
         "type": "scattergeo"
        },
        {
         "lat": [
          39.399872,
          51.165691
         ],
         "line": {
          "color": "blue",
          "width": 1
         },
         "locationmode": "ISO-3",
         "lon": [
          -8.224454,
          10.451526
         ],
         "mode": "lines",
         "opacity": 0.6,
         "type": "scattergeo"
        },
        {
         "lat": [
          39.399872,
          60.128161
         ],
         "line": {
          "color": "blue",
          "width": 1
         },
         "locationmode": "ISO-3",
         "lon": [
          -8.224454,
          18.643501
         ],
         "mode": "lines",
         "opacity": 0.6,
         "type": "scattergeo"
        },
        {
         "lat": [
          39.399872,
          51.919438
         ],
         "line": {
          "color": "blue",
          "width": 1
         },
         "locationmode": "ISO-3",
         "lon": [
          -8.224454,
          19.145136
         ],
         "mode": "lines",
         "opacity": 0.6,
         "type": "scattergeo"
        },
        {
         "lat": [
          39.399872,
          25.354826
         ],
         "line": {
          "color": "blue",
          "width": 1
         },
         "locationmode": "ISO-3",
         "lon": [
          -8.224454,
          51.183884
         ],
         "mode": "lines",
         "opacity": 0.6,
         "type": "scattergeo"
        },
        {
         "lat": [
          39.399872,
          31.046051
         ],
         "line": {
          "color": "blue",
          "width": 1
         },
         "locationmode": "ISO-3",
         "lon": [
          -8.224454,
          34.851612
         ],
         "mode": "lines",
         "opacity": 0.6,
         "type": "scattergeo"
        },
        {
         "lat": [
          39.399872,
          41.608635
         ],
         "line": {
          "color": "blue",
          "width": 1
         },
         "locationmode": "ISO-3",
         "lon": [
          -8.224454,
          21.745275
         ],
         "mode": "lines",
         "opacity": 0.6,
         "type": "scattergeo"
        },
        {
         "lat": [
          39.399872,
          45.1
         ],
         "line": {
          "color": "blue",
          "width": 1
         },
         "locationmode": "ISO-3",
         "lon": [
          -8.224454,
          15.2
         ],
         "mode": "lines",
         "opacity": 0.6,
         "type": "scattergeo"
        },
        {
         "lat": [
          39.399872,
          -35.675147
         ],
         "line": {
          "color": "blue",
          "width": 1
         },
         "locationmode": "ISO-3",
         "lon": [
          -8.224454,
          -71.542969
         ],
         "mode": "lines",
         "opacity": 0.6,
         "type": "scattergeo"
        },
        {
         "lat": [
          39.399872,
          45.943161
         ],
         "line": {
          "color": "blue",
          "width": 1
         },
         "locationmode": "ISO-3",
         "lon": [
          -8.224454,
          24.96676
         ],
         "mode": "lines",
         "opacity": 0.6,
         "type": "scattergeo"
        },
        {
         "lat": [
          39.399872,
          46.151241
         ],
         "line": {
          "color": "blue",
          "width": 1
         },
         "locationmode": "ISO-3",
         "lon": [
          -8.224454,
          14.995463
         ],
         "mode": "lines",
         "opacity": 0.6,
         "type": "scattergeo"
        },
        {
         "lat": [
          39.399872,
          42.733883
         ],
         "line": {
          "color": "blue",
          "width": 1
         },
         "locationmode": "ISO-3",
         "lon": [
          -8.224454,
          25.48583
         ],
         "mode": "lines",
         "opacity": 0.6,
         "type": "scattergeo"
        },
        {
         "lat": [
          39.399872,
          -1.831239
         ],
         "line": {
          "color": "blue",
          "width": 1
         },
         "locationmode": "ISO-3",
         "lon": [
          -8.224454,
          -78.183406
         ],
         "mode": "lines",
         "opacity": 0.6,
         "type": "scattergeo"
        },
        {
         "lat": [
          39.399872,
          35.907757
         ],
         "line": {
          "color": "blue",
          "width": 1
         },
         "locationmode": "ISO-3",
         "lon": [
          -8.224454,
          127.766922
         ],
         "mode": "lines",
         "opacity": 0.6,
         "type": "scattergeo"
        },
        {
         "lat": [
          39.399872,
          7.946527
         ],
         "line": {
          "color": "blue",
          "width": 1
         },
         "locationmode": "ISO-3",
         "lon": [
          -8.224454,
          -1.023194
         ],
         "mode": "lines",
         "opacity": 0.6,
         "type": "scattergeo"
        },
        {
         "lat": [
          39.399872,
          49.815273
         ],
         "line": {
          "color": "blue",
          "width": 1
         },
         "locationmode": "ISO-3",
         "lon": [
          -8.224454,
          6.129583
         ],
         "mode": "lines",
         "opacity": 0.6,
         "type": "scattergeo"
        },
        {
         "lat": [
          45.943161,
          45.943161
         ],
         "line": {
          "color": "blue",
          "width": 1
         },
         "locationmode": "ISO-3",
         "lon": [
          24.96676,
          24.96676
         ],
         "mode": "lines",
         "opacity": 0.6,
         "type": "scattergeo"
        },
        {
         "lat": [
          45.943161,
          61.52401
         ],
         "line": {
          "color": "blue",
          "width": 1
         },
         "locationmode": "ISO-3",
         "lon": [
          24.96676,
          105.318756
         ],
         "mode": "lines",
         "opacity": 0.6,
         "type": "scattergeo"
        },
        {
         "lat": [
          45.943161,
          -14.235004
         ],
         "line": {
          "color": "blue",
          "width": 1
         },
         "locationmode": "ISO-3",
         "lon": [
          24.96676,
          -51.92528
         ],
         "mode": "lines",
         "opacity": 0.6,
         "type": "scattergeo"
        },
        {
         "lat": [
          45.943161,
          35.907757
         ],
         "line": {
          "color": "blue",
          "width": 1
         },
         "locationmode": "ISO-3",
         "lon": [
          24.96676,
          127.766922
         ],
         "mode": "lines",
         "opacity": 0.6,
         "type": "scattergeo"
        },
        {
         "lat": [
          45.943161,
          31.046051
         ],
         "line": {
          "color": "blue",
          "width": 1
         },
         "locationmode": "ISO-3",
         "lon": [
          24.96676,
          34.851612
         ],
         "mode": "lines",
         "opacity": 0.6,
         "type": "scattergeo"
        },
        {
         "lat": [
          45.943161,
          35.126413
         ],
         "line": {
          "color": "blue",
          "width": 1
         },
         "locationmode": "ISO-3",
         "lon": [
          24.96676,
          33.429859
         ],
         "mode": "lines",
         "opacity": 0.6,
         "type": "scattergeo"
        },
        {
         "lat": [
          45.943161,
          47.411631
         ],
         "line": {
          "color": "blue",
          "width": 1
         },
         "locationmode": "ISO-3",
         "lon": [
          24.96676,
          28.369885
         ],
         "mode": "lines",
         "opacity": 0.6,
         "type": "scattergeo"
        },
        {
         "lat": [
          45.943161,
          44.016521
         ],
         "line": {
          "color": "blue",
          "width": 1
         },
         "locationmode": "ISO-3",
         "lon": [
          24.96676,
          21.005859
         ],
         "mode": "lines",
         "opacity": 0.6,
         "type": "scattergeo"
        },
        {
         "lat": [
          45.943161,
          48.019573
         ],
         "line": {
          "color": "blue",
          "width": 1
         },
         "locationmode": "ISO-3",
         "lon": [
          24.96676,
          66.923684
         ],
         "mode": "lines",
         "opacity": 0.6,
         "type": "scattergeo"
        },
        {
         "lat": [
          45.943161,
          55.378051
         ],
         "line": {
          "color": "blue",
          "width": 1
         },
         "locationmode": "ISO-3",
         "lon": [
          24.96676,
          -3.435973
         ],
         "mode": "lines",
         "opacity": 0.6,
         "type": "scattergeo"
        },
        {
         "lat": [
          45.943161,
          39.074208
         ],
         "line": {
          "color": "blue",
          "width": 1
         },
         "locationmode": "ISO-3",
         "lon": [
          24.96676,
          21.824312
         ],
         "mode": "lines",
         "opacity": 0.6,
         "type": "scattergeo"
        },
        {
         "lat": [
          45.943161,
          35.86166
         ],
         "line": {
          "color": "blue",
          "width": 1
         },
         "locationmode": "ISO-3",
         "lon": [
          24.96676,
          104.195397
         ],
         "mode": "lines",
         "opacity": 0.6,
         "type": "scattergeo"
        },
        {
         "lat": [
          45.943161,
          4.570868
         ],
         "line": {
          "color": "blue",
          "width": 1
         },
         "locationmode": "ISO-3",
         "lon": [
          24.96676,
          -74.297333
         ],
         "mode": "lines",
         "opacity": 0.6,
         "type": "scattergeo"
        },
        {
         "lat": [
          45.943161,
          31.791702
         ],
         "line": {
          "color": "blue",
          "width": 1
         },
         "locationmode": "ISO-3",
         "lon": [
          24.96676,
          -7.09262
         ],
         "mode": "lines",
         "opacity": 0.6,
         "type": "scattergeo"
        },
        {
         "lat": [
          46.227638,
          33.886917
         ],
         "line": {
          "color": "blue",
          "width": 1
         },
         "locationmode": "ISO-3",
         "lon": [
          2.213749,
          9.537499
         ],
         "mode": "lines",
         "opacity": 0.6,
         "type": "scattergeo"
        },
        {
         "lat": [
          46.227638,
          46.227638
         ],
         "line": {
          "color": "blue",
          "width": 1
         },
         "locationmode": "ISO-3",
         "lon": [
          2.213749,
          2.213749
         ],
         "mode": "lines",
         "opacity": 0.6,
         "type": "scattergeo"
        },
        {
         "lat": [
          46.227638,
          31.046051
         ],
         "line": {
          "color": "blue",
          "width": 1
         },
         "locationmode": "ISO-3",
         "lon": [
          2.213749,
          34.851612
         ],
         "mode": "lines",
         "opacity": 0.6,
         "type": "scattergeo"
        },
        {
         "lat": [
          46.227638,
          46.818188
         ],
         "line": {
          "color": "blue",
          "width": 1
         },
         "locationmode": "ISO-3",
         "lon": [
          2.213749,
          8.227512
         ],
         "mode": "lines",
         "opacity": 0.6,
         "type": "scattergeo"
        },
        {
         "lat": [
          46.227638,
          47.516231
         ],
         "line": {
          "color": "blue",
          "width": 1
         },
         "locationmode": "ISO-3",
         "lon": [
          2.213749,
          14.550072
         ],
         "mode": "lines",
         "opacity": 0.6,
         "type": "scattergeo"
        },
        {
         "lat": [
          46.227638,
          55.378051
         ],
         "line": {
          "color": "blue",
          "width": 1
         },
         "locationmode": "ISO-3",
         "lon": [
          2.213749,
          -3.435973
         ],
         "mode": "lines",
         "opacity": 0.6,
         "type": "scattergeo"
        },
        {
         "lat": [
          46.227638,
          51.165691
         ],
         "line": {
          "color": "blue",
          "width": 1
         },
         "locationmode": "ISO-3",
         "lon": [
          2.213749,
          10.451526
         ],
         "mode": "lines",
         "opacity": 0.6,
         "type": "scattergeo"
        },
        {
         "lat": [
          46.227638,
          41.87194
         ],
         "line": {
          "color": "blue",
          "width": 1
         },
         "locationmode": "ISO-3",
         "lon": [
          2.213749,
          12.56738
         ],
         "mode": "lines",
         "opacity": 0.6,
         "type": "scattergeo"
        },
        {
         "lat": [
          46.227638,
          23.885942
         ],
         "line": {
          "color": "blue",
          "width": 1
         },
         "locationmode": "ISO-3",
         "lon": [
          2.213749,
          45.079162
         ],
         "mode": "lines",
         "opacity": 0.6,
         "type": "scattergeo"
        },
        {
         "lat": [
          46.227638,
          39.399872
         ],
         "line": {
          "color": "blue",
          "width": 1
         },
         "locationmode": "ISO-3",
         "lon": [
          2.213749,
          -8.224454
         ],
         "mode": "lines",
         "opacity": 0.6,
         "type": "scattergeo"
        },
        {
         "lat": [
          46.227638,
          25.354826
         ],
         "line": {
          "color": "blue",
          "width": 1
         },
         "locationmode": "ISO-3",
         "lon": [
          2.213749,
          51.183884
         ],
         "mode": "lines",
         "opacity": 0.6,
         "type": "scattergeo"
        },
        {
         "lat": [
          46.227638,
          40.463667
         ],
         "line": {
          "color": "blue",
          "width": 1
         },
         "locationmode": "ISO-3",
         "lon": [
          2.213749,
          -3.74922
         ],
         "mode": "lines",
         "opacity": 0.6,
         "type": "scattergeo"
        },
        {
         "lat": [
          46.227638,
          44.016521
         ],
         "line": {
          "color": "blue",
          "width": 1
         },
         "locationmode": "ISO-3",
         "lon": [
          2.213749,
          21.005859
         ],
         "mode": "lines",
         "opacity": 0.6,
         "type": "scattergeo"
        },
        {
         "lat": [
          46.227638,
          42.733883
         ],
         "line": {
          "color": "blue",
          "width": 1
         },
         "locationmode": "ISO-3",
         "lon": [
          2.213749,
          25.48583
         ],
         "mode": "lines",
         "opacity": 0.6,
         "type": "scattergeo"
        },
        {
         "lat": [
          46.227638,
          38.963745
         ],
         "line": {
          "color": "blue",
          "width": 1
         },
         "locationmode": "ISO-3",
         "lon": [
          2.213749,
          35.243322
         ],
         "mode": "lines",
         "opacity": 0.6,
         "type": "scattergeo"
        },
        {
         "lat": [
          46.227638,
          36.204824
         ],
         "line": {
          "color": "blue",
          "width": 1
         },
         "locationmode": "ISO-3",
         "lon": [
          2.213749,
          138.252924
         ],
         "mode": "lines",
         "opacity": 0.6,
         "type": "scattergeo"
        },
        {
         "lat": [
          46.227638,
          50.503887
         ],
         "line": {
          "color": "blue",
          "width": 1
         },
         "locationmode": "ISO-3",
         "lon": [
          2.213749,
          4.469936
         ],
         "mode": "lines",
         "opacity": 0.6,
         "type": "scattergeo"
        },
        {
         "lat": [
          46.227638,
          23.424076
         ],
         "line": {
          "color": "blue",
          "width": 1
         },
         "locationmode": "ISO-3",
         "lon": [
          2.213749,
          53.847818
         ],
         "mode": "lines",
         "opacity": 0.6,
         "type": "scattergeo"
        },
        {
         "lat": [
          46.227638,
          49.817492
         ],
         "line": {
          "color": "blue",
          "width": 1
         },
         "locationmode": "ISO-3",
         "lon": [
          2.213749,
          15.472962
         ],
         "mode": "lines",
         "opacity": 0.6,
         "type": "scattergeo"
        },
        {
         "lat": [
          46.227638,
          52.132633
         ],
         "line": {
          "color": "blue",
          "width": 1
         },
         "locationmode": "ISO-3",
         "lon": [
          2.213749,
          5.291266
         ],
         "mode": "lines",
         "opacity": 0.6,
         "type": "scattergeo"
        },
        {
         "lat": [
          46.227638,
          39.074208
         ],
         "line": {
          "color": "blue",
          "width": 1
         },
         "locationmode": "ISO-3",
         "lon": [
          2.213749,
          21.824312
         ],
         "mode": "lines",
         "opacity": 0.6,
         "type": "scattergeo"
        },
        {
         "lat": [
          46.227638,
          -30.559482
         ],
         "line": {
          "color": "blue",
          "width": 1
         },
         "locationmode": "ISO-3",
         "lon": [
          2.213749,
          22.937506
         ],
         "mode": "lines",
         "opacity": 0.6,
         "type": "scattergeo"
        },
        {
         "lat": [
          46.227638,
          43.915886
         ],
         "line": {
          "color": "blue",
          "width": 1
         },
         "locationmode": "ISO-3",
         "lon": [
          2.213749,
          17.679076
         ],
         "mode": "lines",
         "opacity": 0.6,
         "type": "scattergeo"
        },
        {
         "lat": [
          46.227638,
          45.943161
         ],
         "line": {
          "color": "blue",
          "width": 1
         },
         "locationmode": "ISO-3",
         "lon": [
          2.213749,
          24.96676
         ],
         "mode": "lines",
         "opacity": 0.6,
         "type": "scattergeo"
        },
        {
         "lat": [
          46.227638,
          56.26392
         ],
         "line": {
          "color": "blue",
          "width": 1
         },
         "locationmode": "ISO-3",
         "lon": [
          2.213749,
          9.501785
         ],
         "mode": "lines",
         "opacity": 0.6,
         "type": "scattergeo"
        },
        {
         "lat": [
          46.227638,
          28.033886
         ],
         "line": {
          "color": "blue",
          "width": 1
         },
         "locationmode": "ISO-3",
         "lon": [
          2.213749,
          1.659626
         ],
         "mode": "lines",
         "opacity": 0.6,
         "type": "scattergeo"
        },
        {
         "lat": [
          46.227638,
          -14.235004
         ],
         "line": {
          "color": "blue",
          "width": 1
         },
         "locationmode": "ISO-3",
         "lon": [
          2.213749,
          -51.92528
         ],
         "mode": "lines",
         "opacity": 0.6,
         "type": "scattergeo"
        },
        {
         "lat": [
          46.227638,
          -38.416097
         ],
         "line": {
          "color": "blue",
          "width": 1
         },
         "locationmode": "ISO-3",
         "lon": [
          2.213749,
          -63.616672
         ],
         "mode": "lines",
         "opacity": 0.6,
         "type": "scattergeo"
        },
        {
         "lat": [
          46.227638,
          45.1
         ],
         "line": {
          "color": "blue",
          "width": 1
         },
         "locationmode": "ISO-3",
         "lon": [
          2.213749,
          15.2
         ],
         "mode": "lines",
         "opacity": 0.6,
         "type": "scattergeo"
        },
        {
         "lat": [
          46.227638,
          51.919438
         ],
         "line": {
          "color": "blue",
          "width": 1
         },
         "locationmode": "ISO-3",
         "lon": [
          2.213749,
          19.145136
         ],
         "mode": "lines",
         "opacity": 0.6,
         "type": "scattergeo"
        },
        {
         "lat": [
          46.227638,
          42.708678
         ],
         "line": {
          "color": "blue",
          "width": 1
         },
         "locationmode": "ISO-3",
         "lon": [
          2.213749,
          19.37439
         ],
         "mode": "lines",
         "opacity": 0.6,
         "type": "scattergeo"
        },
        {
         "lat": [
          46.227638,
          35.126413
         ],
         "line": {
          "color": "blue",
          "width": 1
         },
         "locationmode": "ISO-3",
         "lon": [
          2.213749,
          33.429859
         ],
         "mode": "lines",
         "opacity": 0.6,
         "type": "scattergeo"
        },
        {
         "lat": [
          46.227638,
          60.472024
         ],
         "line": {
          "color": "blue",
          "width": 1
         },
         "locationmode": "ISO-3",
         "lon": [
          2.213749,
          8.468946
         ],
         "mode": "lines",
         "opacity": 0.6,
         "type": "scattergeo"
        },
        {
         "lat": [
          46.227638,
          60.128161
         ],
         "line": {
          "color": "blue",
          "width": 1
         },
         "locationmode": "ISO-3",
         "lon": [
          2.213749,
          18.643501
         ],
         "mode": "lines",
         "opacity": 0.6,
         "type": "scattergeo"
        },
        {
         "lat": [
          46.227638,
          49.815273
         ],
         "line": {
          "color": "blue",
          "width": 1
         },
         "locationmode": "ISO-3",
         "lon": [
          2.213749,
          6.129583
         ],
         "mode": "lines",
         "opacity": 0.6,
         "type": "scattergeo"
        },
        {
         "lat": [
          46.227638,
          -25.274398
         ],
         "line": {
          "color": "blue",
          "width": 1
         },
         "locationmode": "ISO-3",
         "lon": [
          2.213749,
          133.775136
         ],
         "mode": "lines",
         "opacity": 0.6,
         "type": "scattergeo"
        },
        {
         "lat": [
          46.227638,
          35.937496
         ],
         "line": {
          "color": "blue",
          "width": 1
         },
         "locationmode": "ISO-3",
         "lon": [
          2.213749,
          14.375416
         ],
         "mode": "lines",
         "opacity": 0.6,
         "type": "scattergeo"
        },
        {
         "lat": [
          33.886917,
          51.165691
         ],
         "line": {
          "color": "blue",
          "width": 1
         },
         "locationmode": "ISO-3",
         "lon": [
          9.537499,
          10.451526
         ],
         "mode": "lines",
         "opacity": 0.6,
         "type": "scattergeo"
        },
        {
         "lat": [
          33.886917,
          46.818188
         ],
         "line": {
          "color": "blue",
          "width": 1
         },
         "locationmode": "ISO-3",
         "lon": [
          9.537499,
          8.227512
         ],
         "mode": "lines",
         "opacity": 0.6,
         "type": "scattergeo"
        },
        {
         "lat": [
          33.886917,
          46.227638
         ],
         "line": {
          "color": "blue",
          "width": 1
         },
         "locationmode": "ISO-3",
         "lon": [
          9.537499,
          2.213749
         ],
         "mode": "lines",
         "opacity": 0.6,
         "type": "scattergeo"
        },
        {
         "lat": [
          33.886917,
          25.354826
         ],
         "line": {
          "color": "blue",
          "width": 1
         },
         "locationmode": "ISO-3",
         "lon": [
          9.537499,
          51.183884
         ],
         "mode": "lines",
         "opacity": 0.6,
         "type": "scattergeo"
        },
        {
         "lat": [
          33.886917,
          42.733883
         ],
         "line": {
          "color": "blue",
          "width": 1
         },
         "locationmode": "ISO-3",
         "lon": [
          9.537499,
          25.48583
         ],
         "mode": "lines",
         "opacity": 0.6,
         "type": "scattergeo"
        },
        {
         "lat": [
          33.886917,
          61.52401
         ],
         "line": {
          "color": "blue",
          "width": 1
         },
         "locationmode": "ISO-3",
         "lon": [
          9.537499,
          105.318756
         ],
         "mode": "lines",
         "opacity": 0.6,
         "type": "scattergeo"
        },
        {
         "lat": [
          33.886917,
          -16.290154
         ],
         "line": {
          "color": "blue",
          "width": 1
         },
         "locationmode": "ISO-3",
         "lon": [
          9.537499,
          -63.588653
         ],
         "mode": "lines",
         "opacity": 0.6,
         "type": "scattergeo"
        },
        {
         "lat": [
          33.886917,
          33.886917
         ],
         "line": {
          "color": "blue",
          "width": 1
         },
         "locationmode": "ISO-3",
         "lon": [
          9.537499,
          9.537499
         ],
         "mode": "lines",
         "opacity": 0.6,
         "type": "scattergeo"
        },
        {
         "lat": [
          33.886917,
          60.472024
         ],
         "line": {
          "color": "blue",
          "width": 1
         },
         "locationmode": "ISO-3",
         "lon": [
          9.537499,
          8.468946
         ],
         "mode": "lines",
         "opacity": 0.6,
         "type": "scattergeo"
        },
        {
         "lat": [
          33.886917,
          61.92411
         ],
         "line": {
          "color": "blue",
          "width": 1
         },
         "locationmode": "ISO-3",
         "lon": [
          9.537499,
          25.748151
         ],
         "mode": "lines",
         "opacity": 0.6,
         "type": "scattergeo"
        },
        {
         "lat": [
          33.886917,
          48.379433
         ],
         "line": {
          "color": "blue",
          "width": 1
         },
         "locationmode": "ISO-3",
         "lon": [
          9.537499,
          31.16558
         ],
         "mode": "lines",
         "opacity": 0.6,
         "type": "scattergeo"
        },
        {
         "lat": [
          33.886917,
          38.963745
         ],
         "line": {
          "color": "blue",
          "width": 1
         },
         "locationmode": "ISO-3",
         "lon": [
          9.537499,
          35.243322
         ],
         "mode": "lines",
         "opacity": 0.6,
         "type": "scattergeo"
        },
        {
         "lat": [
          33.886917,
          23.424076
         ],
         "line": {
          "color": "blue",
          "width": 1
         },
         "locationmode": "ISO-3",
         "lon": [
          9.537499,
          53.847818
         ],
         "mode": "lines",
         "opacity": 0.6,
         "type": "scattergeo"
        },
        {
         "lat": [
          33.886917,
          28.033886
         ],
         "line": {
          "color": "blue",
          "width": 1
         },
         "locationmode": "ISO-3",
         "lon": [
          9.537499,
          1.659626
         ],
         "mode": "lines",
         "opacity": 0.6,
         "type": "scattergeo"
        },
        {
         "lat": [
          33.886917,
          31.791702
         ],
         "line": {
          "color": "blue",
          "width": 1
         },
         "locationmode": "ISO-3",
         "lon": [
          9.537499,
          -7.09262
         ],
         "mode": "lines",
         "opacity": 0.6,
         "type": "scattergeo"
        },
        {
         "lat": [
          33.886917,
          23.885942
         ],
         "line": {
          "color": "blue",
          "width": 1
         },
         "locationmode": "ISO-3",
         "lon": [
          9.537499,
          45.079162
         ],
         "mode": "lines",
         "opacity": 0.6,
         "type": "scattergeo"
        },
        {
         "lat": [
          42.708678,
          47.516231
         ],
         "line": {
          "color": "blue",
          "width": 1
         },
         "locationmode": "ISO-3",
         "lon": [
          19.37439,
          14.550072
         ],
         "mode": "lines",
         "opacity": 0.6,
         "type": "scattergeo"
        },
        {
         "lat": [
          42.708678,
          47.162494
         ],
         "line": {
          "color": "blue",
          "width": 1
         },
         "locationmode": "ISO-3",
         "lon": [
          19.37439,
          19.503304
         ],
         "mode": "lines",
         "opacity": 0.6,
         "type": "scattergeo"
        },
        {
         "lat": [
          42.708678,
          42.708678
         ],
         "line": {
          "color": "blue",
          "width": 1
         },
         "locationmode": "ISO-3",
         "lon": [
          19.37439,
          19.37439
         ],
         "mode": "lines",
         "opacity": 0.6,
         "type": "scattergeo"
        },
        {
         "lat": [
          42.708678,
          44.016521
         ],
         "line": {
          "color": "blue",
          "width": 1
         },
         "locationmode": "ISO-3",
         "lon": [
          19.37439,
          21.005859
         ],
         "mode": "lines",
         "opacity": 0.6,
         "type": "scattergeo"
        },
        {
         "lat": [
          42.708678,
          43.915886
         ],
         "line": {
          "color": "blue",
          "width": 1
         },
         "locationmode": "ISO-3",
         "lon": [
          19.37439,
          17.679076
         ],
         "mode": "lines",
         "opacity": 0.6,
         "type": "scattergeo"
        },
        {
         "lat": [
          42.708678,
          51.919438
         ],
         "line": {
          "color": "blue",
          "width": 1
         },
         "locationmode": "ISO-3",
         "lon": [
          19.37439,
          19.145136
         ],
         "mode": "lines",
         "opacity": 0.6,
         "type": "scattergeo"
        },
        {
         "lat": [
          42.708678,
          51.165691
         ],
         "line": {
          "color": "blue",
          "width": 1
         },
         "locationmode": "ISO-3",
         "lon": [
          19.37439,
          10.451526
         ],
         "mode": "lines",
         "opacity": 0.6,
         "type": "scattergeo"
        },
        {
         "lat": [
          42.708678,
          39.074208
         ],
         "line": {
          "color": "blue",
          "width": 1
         },
         "locationmode": "ISO-3",
         "lon": [
          19.37439,
          21.824312
         ],
         "mode": "lines",
         "opacity": 0.6,
         "type": "scattergeo"
        },
        {
         "lat": [
          42.708678,
          61.92411
         ],
         "line": {
          "color": "blue",
          "width": 1
         },
         "locationmode": "ISO-3",
         "lon": [
          19.37439,
          25.748151
         ],
         "mode": "lines",
         "opacity": 0.6,
         "type": "scattergeo"
        },
        {
         "lat": [
          7.946527,
          44.016521
         ],
         "line": {
          "color": "blue",
          "width": 1
         },
         "locationmode": "ISO-3",
         "lon": [
          -1.023194,
          21.005859
         ],
         "mode": "lines",
         "opacity": 0.6,
         "type": "scattergeo"
        },
        {
         "lat": [
          7.946527,
          50.503887
         ],
         "line": {
          "color": "blue",
          "width": 1
         },
         "locationmode": "ISO-3",
         "lon": [
          -1.023194,
          4.469936
         ],
         "mode": "lines",
         "opacity": 0.6,
         "type": "scattergeo"
        },
        {
         "lat": [
          7.946527,
          31.046051
         ],
         "line": {
          "color": "blue",
          "width": 1
         },
         "locationmode": "ISO-3",
         "lon": [
          -1.023194,
          34.851612
         ],
         "mode": "lines",
         "opacity": 0.6,
         "type": "scattergeo"
        },
        {
         "lat": [
          7.946527,
          -30.559482
         ],
         "line": {
          "color": "blue",
          "width": 1
         },
         "locationmode": "ISO-3",
         "lon": [
          -1.023194,
          22.937506
         ],
         "mode": "lines",
         "opacity": 0.6,
         "type": "scattergeo"
        },
        {
         "lat": [
          7.946527,
          23.885942
         ],
         "line": {
          "color": "blue",
          "width": 1
         },
         "locationmode": "ISO-3",
         "lon": [
          -1.023194,
          45.079162
         ],
         "mode": "lines",
         "opacity": 0.6,
         "type": "scattergeo"
        },
        {
         "lat": [
          7.946527,
          33.886917
         ],
         "line": {
          "color": "blue",
          "width": 1
         },
         "locationmode": "ISO-3",
         "lon": [
          -1.023194,
          9.537499
         ],
         "mode": "lines",
         "opacity": 0.6,
         "type": "scattergeo"
        },
        {
         "lat": [
          7.946527,
          56.26392
         ],
         "line": {
          "color": "blue",
          "width": 1
         },
         "locationmode": "ISO-3",
         "lon": [
          -1.023194,
          9.501785
         ],
         "mode": "lines",
         "opacity": 0.6,
         "type": "scattergeo"
        },
        {
         "lat": [
          7.946527,
          33.854721
         ],
         "line": {
          "color": "blue",
          "width": 1
         },
         "locationmode": "ISO-3",
         "lon": [
          -1.023194,
          35.862285
         ],
         "mode": "lines",
         "opacity": 0.6,
         "type": "scattergeo"
        },
        {
         "lat": [
          7.946527,
          32.427908
         ],
         "line": {
          "color": "blue",
          "width": 1
         },
         "locationmode": "ISO-3",
         "lon": [
          -1.023194,
          53.688046
         ],
         "mode": "lines",
         "opacity": 0.6,
         "type": "scattergeo"
        },
        {
         "lat": [
          49.815273,
          51.165691
         ],
         "line": {
          "color": "blue",
          "width": 1
         },
         "locationmode": "ISO-3",
         "lon": [
          6.129583,
          10.451526
         ],
         "mode": "lines",
         "opacity": 0.6,
         "type": "scattergeo"
        },
        {
         "lat": [
          49.815273,
          49.815273
         ],
         "line": {
          "color": "blue",
          "width": 1
         },
         "locationmode": "ISO-3",
         "lon": [
          6.129583,
          6.129583
         ],
         "mode": "lines",
         "opacity": 0.6,
         "type": "scattergeo"
        },
        {
         "lat": [
          9.081999,
          52.132633
         ],
         "line": {
          "color": "blue",
          "width": 1
         },
         "locationmode": "ISO-3",
         "lon": [
          8.675277,
          5.291266
         ],
         "mode": "lines",
         "opacity": 0.6,
         "type": "scattergeo"
        },
        {
         "lat": [
          9.081999,
          23.424076
         ],
         "line": {
          "color": "blue",
          "width": 1
         },
         "locationmode": "ISO-3",
         "lon": [
          8.675277,
          53.847818
         ],
         "mode": "lines",
         "opacity": 0.6,
         "type": "scattergeo"
        },
        {
         "lat": [
          9.081999,
          60.128161
         ],
         "line": {
          "color": "blue",
          "width": 1
         },
         "locationmode": "ISO-3",
         "lon": [
          8.675277,
          18.643501
         ],
         "mode": "lines",
         "opacity": 0.6,
         "type": "scattergeo"
        },
        {
         "lat": [
          9.081999,
          41.87194
         ],
         "line": {
          "color": "blue",
          "width": 1
         },
         "locationmode": "ISO-3",
         "lon": [
          8.675277,
          12.56738
         ],
         "mode": "lines",
         "opacity": 0.6,
         "type": "scattergeo"
        },
        {
         "lat": [
          9.081999,
          46.227638
         ],
         "line": {
          "color": "blue",
          "width": 1
         },
         "locationmode": "ISO-3",
         "lon": [
          8.675277,
          2.213749
         ],
         "mode": "lines",
         "opacity": 0.6,
         "type": "scattergeo"
        },
        {
         "lat": [
          9.081999,
          38.963745
         ],
         "line": {
          "color": "blue",
          "width": 1
         },
         "locationmode": "ISO-3",
         "lon": [
          8.675277,
          35.243322
         ],
         "mode": "lines",
         "opacity": 0.6,
         "type": "scattergeo"
        },
        {
         "lat": [
          9.081999,
          50.503887
         ],
         "line": {
          "color": "blue",
          "width": 1
         },
         "locationmode": "ISO-3",
         "lon": [
          8.675277,
          4.469936
         ],
         "mode": "lines",
         "opacity": 0.6,
         "type": "scattergeo"
        },
        {
         "lat": [
          9.081999,
          33.886917
         ],
         "line": {
          "color": "blue",
          "width": 1
         },
         "locationmode": "ISO-3",
         "lon": [
          8.675277,
          9.537499
         ],
         "mode": "lines",
         "opacity": 0.6,
         "type": "scattergeo"
        },
        {
         "lat": [
          9.081999,
          9.081999
         ],
         "line": {
          "color": "blue",
          "width": 1
         },
         "locationmode": "ISO-3",
         "lon": [
          8.675277,
          8.675277
         ],
         "mode": "lines",
         "opacity": 0.6,
         "type": "scattergeo"
        },
        {
         "lat": [
          9.081999,
          -38.416097
         ],
         "line": {
          "color": "blue",
          "width": 1
         },
         "locationmode": "ISO-3",
         "lon": [
          8.675277,
          -63.616672
         ],
         "mode": "lines",
         "opacity": 0.6,
         "type": "scattergeo"
        },
        {
         "lat": [
          9.081999,
          -30.559482
         ],
         "line": {
          "color": "blue",
          "width": 1
         },
         "locationmode": "ISO-3",
         "lon": [
          8.675277,
          22.937506
         ],
         "mode": "lines",
         "opacity": 0.6,
         "type": "scattergeo"
        },
        {
         "lat": [
          9.081999,
          40.143105
         ],
         "line": {
          "color": "blue",
          "width": 1
         },
         "locationmode": "ISO-3",
         "lon": [
          8.675277,
          47.576927
         ],
         "mode": "lines",
         "opacity": 0.6,
         "type": "scattergeo"
        },
        {
         "lat": [
          9.081999,
          31.046051
         ],
         "line": {
          "color": "blue",
          "width": 1
         },
         "locationmode": "ISO-3",
         "lon": [
          8.675277,
          34.851612
         ],
         "mode": "lines",
         "opacity": 0.6,
         "type": "scattergeo"
        },
        {
         "lat": [
          41.608635,
          41.608635
         ],
         "line": {
          "color": "blue",
          "width": 1
         },
         "locationmode": "ISO-3",
         "lon": [
          21.745275,
          21.745275
         ],
         "mode": "lines",
         "opacity": 0.6,
         "type": "scattergeo"
        },
        {
         "lat": [
          41.608635,
          51.165691
         ],
         "line": {
          "color": "blue",
          "width": 1
         },
         "locationmode": "ISO-3",
         "lon": [
          21.745275,
          10.451526
         ],
         "mode": "lines",
         "opacity": 0.6,
         "type": "scattergeo"
        },
        {
         "lat": [
          41.608635,
          43.915886
         ],
         "line": {
          "color": "blue",
          "width": 1
         },
         "locationmode": "ISO-3",
         "lon": [
          21.745275,
          17.679076
         ],
         "mode": "lines",
         "opacity": 0.6,
         "type": "scattergeo"
        },
        {
         "lat": [
          41.608635,
          50.503887
         ],
         "line": {
          "color": "blue",
          "width": 1
         },
         "locationmode": "ISO-3",
         "lon": [
          21.745275,
          4.469936
         ],
         "mode": "lines",
         "opacity": 0.6,
         "type": "scattergeo"
        },
        {
         "lat": [
          41.608635,
          45.1
         ],
         "line": {
          "color": "blue",
          "width": 1
         },
         "locationmode": "ISO-3",
         "lon": [
          21.745275,
          15.2
         ],
         "mode": "lines",
         "opacity": 0.6,
         "type": "scattergeo"
        },
        {
         "lat": [
          41.608635,
          44.016521
         ],
         "line": {
          "color": "blue",
          "width": 1
         },
         "locationmode": "ISO-3",
         "lon": [
          21.745275,
          21.005859
         ],
         "mode": "lines",
         "opacity": 0.6,
         "type": "scattergeo"
        },
        {
         "lat": [
          -38.416097,
          40.463667
         ],
         "line": {
          "color": "blue",
          "width": 1
         },
         "locationmode": "ISO-3",
         "lon": [
          -63.616672,
          -3.74922
         ],
         "mode": "lines",
         "opacity": 0.6,
         "type": "scattergeo"
        },
        {
         "lat": [
          -38.416097,
          51.165691
         ],
         "line": {
          "color": "blue",
          "width": 1
         },
         "locationmode": "ISO-3",
         "lon": [
          -63.616672,
          10.451526
         ],
         "mode": "lines",
         "opacity": 0.6,
         "type": "scattergeo"
        },
        {
         "lat": [
          -38.416097,
          -38.416097
         ],
         "line": {
          "color": "blue",
          "width": 1
         },
         "locationmode": "ISO-3",
         "lon": [
          -63.616672,
          -63.616672
         ],
         "mode": "lines",
         "opacity": 0.6,
         "type": "scattergeo"
        },
        {
         "lat": [
          -38.416097,
          61.52401
         ],
         "line": {
          "color": "blue",
          "width": 1
         },
         "locationmode": "ISO-3",
         "lon": [
          -63.616672,
          105.318756
         ],
         "mode": "lines",
         "opacity": 0.6,
         "type": "scattergeo"
        },
        {
         "lat": [
          -38.416097,
          37.09024
         ],
         "line": {
          "color": "blue",
          "width": 1
         },
         "locationmode": "ISO-3",
         "lon": [
          -63.616672,
          -95.712891
         ],
         "mode": "lines",
         "opacity": 0.6,
         "type": "scattergeo"
        },
        {
         "lat": [
          -38.416097,
          4.570868
         ],
         "line": {
          "color": "blue",
          "width": 1
         },
         "locationmode": "ISO-3",
         "lon": [
          -63.616672,
          -74.297333
         ],
         "mode": "lines",
         "opacity": 0.6,
         "type": "scattergeo"
        },
        {
         "lat": [
          -38.416097,
          46.818188
         ],
         "line": {
          "color": "blue",
          "width": 1
         },
         "locationmode": "ISO-3",
         "lon": [
          -63.616672,
          8.227512
         ],
         "mode": "lines",
         "opacity": 0.6,
         "type": "scattergeo"
        },
        {
         "lat": [
          -38.416097,
          23.634501
         ],
         "line": {
          "color": "blue",
          "width": 1
         },
         "locationmode": "ISO-3",
         "lon": [
          -63.616672,
          -102.552784
         ],
         "mode": "lines",
         "opacity": 0.6,
         "type": "scattergeo"
        },
        {
         "lat": [
          -38.416097,
          23.424076
         ],
         "line": {
          "color": "blue",
          "width": 1
         },
         "locationmode": "ISO-3",
         "lon": [
          -63.616672,
          53.847818
         ],
         "mode": "lines",
         "opacity": 0.6,
         "type": "scattergeo"
        },
        {
         "lat": [
          -38.416097,
          -14.235004
         ],
         "line": {
          "color": "blue",
          "width": 1
         },
         "locationmode": "ISO-3",
         "lon": [
          -63.616672,
          -51.92528
         ],
         "mode": "lines",
         "opacity": 0.6,
         "type": "scattergeo"
        },
        {
         "lat": [
          -38.416097,
          41.87194
         ],
         "line": {
          "color": "blue",
          "width": 1
         },
         "locationmode": "ISO-3",
         "lon": [
          -63.616672,
          12.56738
         ],
         "mode": "lines",
         "opacity": 0.6,
         "type": "scattergeo"
        },
        {
         "lat": [
          -38.416097,
          46.227638
         ],
         "line": {
          "color": "blue",
          "width": 1
         },
         "locationmode": "ISO-3",
         "lon": [
          -63.616672,
          2.213749
         ],
         "mode": "lines",
         "opacity": 0.6,
         "type": "scattergeo"
        },
        {
         "lat": [
          -38.416097,
          49.817492
         ],
         "line": {
          "color": "blue",
          "width": 1
         },
         "locationmode": "ISO-3",
         "lon": [
          -63.616672,
          15.472962
         ],
         "mode": "lines",
         "opacity": 0.6,
         "type": "scattergeo"
        },
        {
         "lat": [
          -38.416097,
          -9.189967
         ],
         "line": {
          "color": "blue",
          "width": 1
         },
         "locationmode": "ISO-3",
         "lon": [
          -63.616672,
          -75.015152
         ],
         "mode": "lines",
         "opacity": 0.6,
         "type": "scattergeo"
        },
        {
         "lat": [
          -38.416097,
          9.748917
         ],
         "line": {
          "color": "blue",
          "width": 1
         },
         "locationmode": "ISO-3",
         "lon": [
          -63.616672,
          -83.753428
         ],
         "mode": "lines",
         "opacity": 0.6,
         "type": "scattergeo"
        },
        {
         "lat": [
          -38.416097,
          -23.442503
         ],
         "line": {
          "color": "blue",
          "width": 1
         },
         "locationmode": "ISO-3",
         "lon": [
          -63.616672,
          -58.443832
         ],
         "mode": "lines",
         "opacity": 0.6,
         "type": "scattergeo"
        },
        {
         "lat": [
          -38.416097,
          55.378051
         ],
         "line": {
          "color": "blue",
          "width": 1
         },
         "locationmode": "ISO-3",
         "lon": [
          -63.616672,
          -3.435973
         ],
         "mode": "lines",
         "opacity": 0.6,
         "type": "scattergeo"
        },
        {
         "lat": [
          -38.416097,
          -35.675147
         ],
         "line": {
          "color": "blue",
          "width": 1
         },
         "locationmode": "ISO-3",
         "lon": [
          -63.616672,
          -71.542969
         ],
         "mode": "lines",
         "opacity": 0.6,
         "type": "scattergeo"
        },
        {
         "lat": [
          -38.416097,
          39.399872
         ],
         "line": {
          "color": "blue",
          "width": 1
         },
         "locationmode": "ISO-3",
         "lon": [
          -63.616672,
          -8.224454
         ],
         "mode": "lines",
         "opacity": 0.6,
         "type": "scattergeo"
        },
        {
         "lat": [
          -38.416097,
          -16.290154
         ],
         "line": {
          "color": "blue",
          "width": 1
         },
         "locationmode": "ISO-3",
         "lon": [
          -63.616672,
          -63.588653
         ],
         "mode": "lines",
         "opacity": 0.6,
         "type": "scattergeo"
        },
        {
         "lat": [
          -38.416097,
          -1.831239
         ],
         "line": {
          "color": "blue",
          "width": 1
         },
         "locationmode": "ISO-3",
         "lon": [
          -63.616672,
          -78.183406
         ],
         "mode": "lines",
         "opacity": 0.6,
         "type": "scattergeo"
        },
        {
         "lat": [
          -38.416097,
          -32.522779
         ],
         "line": {
          "color": "blue",
          "width": 1
         },
         "locationmode": "ISO-3",
         "lon": [
          -63.616672,
          -55.765835
         ],
         "mode": "lines",
         "opacity": 0.6,
         "type": "scattergeo"
        },
        {
         "lat": [
          -38.416097,
          47.516231
         ],
         "line": {
          "color": "blue",
          "width": 1
         },
         "locationmode": "ISO-3",
         "lon": [
          -63.616672,
          14.550072
         ],
         "mode": "lines",
         "opacity": 0.6,
         "type": "scattergeo"
        },
        {
         "lat": [
          -38.416097,
          39.074208
         ],
         "line": {
          "color": "blue",
          "width": 1
         },
         "locationmode": "ISO-3",
         "lon": [
          -63.616672,
          21.824312
         ],
         "mode": "lines",
         "opacity": 0.6,
         "type": "scattergeo"
        },
        {
         "lat": [
          -38.416097,
          50.503887
         ],
         "line": {
          "color": "blue",
          "width": 1
         },
         "locationmode": "ISO-3",
         "lon": [
          -63.616672,
          4.469936
         ],
         "mode": "lines",
         "opacity": 0.6,
         "type": "scattergeo"
        },
        {
         "lat": [
          -38.416097,
          6.42375
         ],
         "line": {
          "color": "blue",
          "width": 1
         },
         "locationmode": "ISO-3",
         "lon": [
          -63.616672,
          -66.58973
         ],
         "mode": "lines",
         "opacity": 0.6,
         "type": "scattergeo"
        },
        {
         "lat": [
          -38.416097,
          52.132633
         ],
         "line": {
          "color": "blue",
          "width": 1
         },
         "locationmode": "ISO-3",
         "lon": [
          -63.616672,
          5.291266
         ],
         "mode": "lines",
         "opacity": 0.6,
         "type": "scattergeo"
        },
        {
         "lat": [
          -38.416097,
          60.472024
         ],
         "line": {
          "color": "blue",
          "width": 1
         },
         "locationmode": "ISO-3",
         "lon": [
          -63.616672,
          8.468946
         ],
         "mode": "lines",
         "opacity": 0.6,
         "type": "scattergeo"
        },
        {
         "lat": [
          -38.416097,
          31.046051
         ],
         "line": {
          "color": "blue",
          "width": 1
         },
         "locationmode": "ISO-3",
         "lon": [
          -63.616672,
          34.851612
         ],
         "mode": "lines",
         "opacity": 0.6,
         "type": "scattergeo"
        },
        {
         "lat": [
          -38.416097,
          13.794185
         ],
         "line": {
          "color": "blue",
          "width": 1
         },
         "locationmode": "ISO-3",
         "lon": [
          -63.616672,
          -88.89653
         ],
         "mode": "lines",
         "opacity": 0.6,
         "type": "scattergeo"
        },
        {
         "lat": [
          -38.416097,
          15.199999
         ],
         "line": {
          "color": "blue",
          "width": 1
         },
         "locationmode": "ISO-3",
         "lon": [
          -63.616672,
          -86.241905
         ],
         "mode": "lines",
         "opacity": 0.6,
         "type": "scattergeo"
        },
        {
         "lat": [
          -38.416097,
          4.210484
         ],
         "line": {
          "color": "blue",
          "width": 1
         },
         "locationmode": "ISO-3",
         "lon": [
          -63.616672,
          101.975766
         ],
         "mode": "lines",
         "opacity": 0.6,
         "type": "scattergeo"
        },
        {
         "lat": [
          35.907757,
          35.907757
         ],
         "line": {
          "color": "blue",
          "width": 1
         },
         "locationmode": "ISO-3",
         "lon": [
          127.766922,
          127.766922
         ],
         "mode": "lines",
         "opacity": 0.6,
         "type": "scattergeo"
        },
        {
         "lat": [
          35.907757,
          45.1
         ],
         "line": {
          "color": "blue",
          "width": 1
         },
         "locationmode": "ISO-3",
         "lon": [
          127.766922,
          15.2
         ],
         "mode": "lines",
         "opacity": 0.6,
         "type": "scattergeo"
        },
        {
         "lat": [
          35.907757,
          35.86166
         ],
         "line": {
          "color": "blue",
          "width": 1
         },
         "locationmode": "ISO-3",
         "lon": [
          127.766922,
          104.195397
         ],
         "mode": "lines",
         "opacity": 0.6,
         "type": "scattergeo"
        },
        {
         "lat": [
          35.907757,
          39.399872
         ],
         "line": {
          "color": "blue",
          "width": 1
         },
         "locationmode": "ISO-3",
         "lon": [
          127.766922,
          -8.224454
         ],
         "mode": "lines",
         "opacity": 0.6,
         "type": "scattergeo"
        },
        {
         "lat": [
          35.907757,
          61.52401
         ],
         "line": {
          "color": "blue",
          "width": 1
         },
         "locationmode": "ISO-3",
         "lon": [
          127.766922,
          105.318756
         ],
         "mode": "lines",
         "opacity": 0.6,
         "type": "scattergeo"
        },
        {
         "lat": [
          35.907757,
          36.204824
         ],
         "line": {
          "color": "blue",
          "width": 1
         },
         "locationmode": "ISO-3",
         "lon": [
          127.766922,
          138.252924
         ],
         "mode": "lines",
         "opacity": 0.6,
         "type": "scattergeo"
        },
        {
         "lat": [
          35.907757,
          55.378051
         ],
         "line": {
          "color": "blue",
          "width": 1
         },
         "locationmode": "ISO-3",
         "lon": [
          127.766922,
          -3.435973
         ],
         "mode": "lines",
         "opacity": 0.6,
         "type": "scattergeo"
        },
        {
         "lat": [
          35.907757,
          37.09024
         ],
         "line": {
          "color": "blue",
          "width": 1
         },
         "locationmode": "ISO-3",
         "lon": [
          127.766922,
          -95.712891
         ],
         "mode": "lines",
         "opacity": 0.6,
         "type": "scattergeo"
        },
        {
         "lat": [
          35.907757,
          -14.235004
         ],
         "line": {
          "color": "blue",
          "width": 1
         },
         "locationmode": "ISO-3",
         "lon": [
          127.766922,
          -51.92528
         ],
         "mode": "lines",
         "opacity": 0.6,
         "type": "scattergeo"
        },
        {
         "lat": [
          35.907757,
          35.126413
         ],
         "line": {
          "color": "blue",
          "width": 1
         },
         "locationmode": "ISO-3",
         "lon": [
          127.766922,
          33.429859
         ],
         "mode": "lines",
         "opacity": 0.6,
         "type": "scattergeo"
        },
        {
         "lat": [
          35.907757,
          1.352083
         ],
         "line": {
          "color": "blue",
          "width": 1
         },
         "locationmode": "ISO-3",
         "lon": [
          127.766922,
          103.819836
         ],
         "mode": "lines",
         "opacity": 0.6,
         "type": "scattergeo"
        },
        {
         "lat": [
          4.210484,
          51.165691
         ],
         "line": {
          "color": "blue",
          "width": 1
         },
         "locationmode": "ISO-3",
         "lon": [
          101.975766,
          10.451526
         ],
         "mode": "lines",
         "opacity": 0.6,
         "type": "scattergeo"
        },
        {
         "lat": [
          4.210484,
          -25.274398
         ],
         "line": {
          "color": "blue",
          "width": 1
         },
         "locationmode": "ISO-3",
         "lon": [
          101.975766,
          133.775136
         ],
         "mode": "lines",
         "opacity": 0.6,
         "type": "scattergeo"
        },
        {
         "lat": [
          4.210484,
          48.669026
         ],
         "line": {
          "color": "blue",
          "width": 1
         },
         "locationmode": "ISO-3",
         "lon": [
          101.975766,
          19.699024
         ],
         "mode": "lines",
         "opacity": 0.6,
         "type": "scattergeo"
        },
        {
         "lat": [
          4.210484,
          20.593684
         ],
         "line": {
          "color": "blue",
          "width": 1
         },
         "locationmode": "ISO-3",
         "lon": [
          101.975766,
          78.96288
         ],
         "mode": "lines",
         "opacity": 0.6,
         "type": "scattergeo"
        },
        {
         "lat": [
          4.210484,
          4.210484
         ],
         "line": {
          "color": "blue",
          "width": 1
         },
         "locationmode": "ISO-3",
         "lon": [
          101.975766,
          101.975766
         ],
         "mode": "lines",
         "opacity": 0.6,
         "type": "scattergeo"
        },
        {
         "lat": [
          4.210484,
          -16.290154
         ],
         "line": {
          "color": "blue",
          "width": 1
         },
         "locationmode": "ISO-3",
         "lon": [
          101.975766,
          -63.588653
         ],
         "mode": "lines",
         "opacity": 0.6,
         "type": "scattergeo"
        },
        {
         "lat": [
          4.210484,
          -38.416097
         ],
         "line": {
          "color": "blue",
          "width": 1
         },
         "locationmode": "ISO-3",
         "lon": [
          101.975766,
          -63.616672
         ],
         "mode": "lines",
         "opacity": 0.6,
         "type": "scattergeo"
        },
        {
         "lat": [
          4.210484,
          64.963051
         ],
         "line": {
          "color": "blue",
          "width": 1
         },
         "locationmode": "ISO-3",
         "lon": [
          101.975766,
          -19.020835
         ],
         "mode": "lines",
         "opacity": 0.6,
         "type": "scattergeo"
        },
        {
         "lat": [
          4.210484,
          36.204824
         ],
         "line": {
          "color": "blue",
          "width": 1
         },
         "locationmode": "ISO-3",
         "lon": [
          101.975766,
          138.252924
         ],
         "mode": "lines",
         "opacity": 0.6,
         "type": "scattergeo"
        },
        {
         "lat": [
          4.210484,
          1.352083
         ],
         "line": {
          "color": "blue",
          "width": 1
         },
         "locationmode": "ISO-3",
         "lon": [
          101.975766,
          103.819836
         ],
         "mode": "lines",
         "opacity": 0.6,
         "type": "scattergeo"
        },
        {
         "lat": [
          61.92411,
          51.165691
         ],
         "line": {
          "color": "blue",
          "width": 1
         },
         "locationmode": "ISO-3",
         "lon": [
          25.748151,
          10.451526
         ],
         "mode": "lines",
         "opacity": 0.6,
         "type": "scattergeo"
        },
        {
         "lat": [
          61.92411,
          52.132633
         ],
         "line": {
          "color": "blue",
          "width": 1
         },
         "locationmode": "ISO-3",
         "lon": [
          25.748151,
          5.291266
         ],
         "mode": "lines",
         "opacity": 0.6,
         "type": "scattergeo"
        },
        {
         "lat": [
          61.92411,
          61.92411
         ],
         "line": {
          "color": "blue",
          "width": 1
         },
         "locationmode": "ISO-3",
         "lon": [
          25.748151,
          25.748151
         ],
         "mode": "lines",
         "opacity": 0.6,
         "type": "scattergeo"
        },
        {
         "lat": [
          61.92411,
          46.818188
         ],
         "line": {
          "color": "blue",
          "width": 1
         },
         "locationmode": "ISO-3",
         "lon": [
          25.748151,
          8.227512
         ],
         "mode": "lines",
         "opacity": 0.6,
         "type": "scattergeo"
        },
        {
         "lat": [
          61.92411,
          48.019573
         ],
         "line": {
          "color": "blue",
          "width": 1
         },
         "locationmode": "ISO-3",
         "lon": [
          25.748151,
          66.923684
         ],
         "mode": "lines",
         "opacity": 0.6,
         "type": "scattergeo"
        },
        {
         "lat": [
          61.92411,
          60.472024
         ],
         "line": {
          "color": "blue",
          "width": 1
         },
         "locationmode": "ISO-3",
         "lon": [
          25.748151,
          8.468946
         ],
         "mode": "lines",
         "opacity": 0.6,
         "type": "scattergeo"
        },
        {
         "lat": [
          61.92411,
          55.378051
         ],
         "line": {
          "color": "blue",
          "width": 1
         },
         "locationmode": "ISO-3",
         "lon": [
          25.748151,
          -3.435973
         ],
         "mode": "lines",
         "opacity": 0.6,
         "type": "scattergeo"
        },
        {
         "lat": [
          61.92411,
          60.128161
         ],
         "line": {
          "color": "blue",
          "width": 1
         },
         "locationmode": "ISO-3",
         "lon": [
          25.748151,
          18.643501
         ],
         "mode": "lines",
         "opacity": 0.6,
         "type": "scattergeo"
        },
        {
         "lat": [
          61.92411,
          61.52401
         ],
         "line": {
          "color": "blue",
          "width": 1
         },
         "locationmode": "ISO-3",
         "lon": [
          25.748151,
          105.318756
         ],
         "mode": "lines",
         "opacity": 0.6,
         "type": "scattergeo"
        },
        {
         "lat": [
          61.92411,
          46.227638
         ],
         "line": {
          "color": "blue",
          "width": 1
         },
         "locationmode": "ISO-3",
         "lon": [
          25.748151,
          2.213749
         ],
         "mode": "lines",
         "opacity": 0.6,
         "type": "scattergeo"
        },
        {
         "lat": [
          61.92411,
          41.87194
         ],
         "line": {
          "color": "blue",
          "width": 1
         },
         "locationmode": "ISO-3",
         "lon": [
          25.748151,
          12.56738
         ],
         "mode": "lines",
         "opacity": 0.6,
         "type": "scattergeo"
        },
        {
         "lat": [
          61.92411,
          32.427908
         ],
         "line": {
          "color": "blue",
          "width": 1
         },
         "locationmode": "ISO-3",
         "lon": [
          25.748151,
          53.688046
         ],
         "mode": "lines",
         "opacity": 0.6,
         "type": "scattergeo"
        },
        {
         "lat": [
          61.92411,
          47.162494
         ],
         "line": {
          "color": "blue",
          "width": 1
         },
         "locationmode": "ISO-3",
         "lon": [
          25.748151,
          19.503304
         ],
         "mode": "lines",
         "opacity": 0.6,
         "type": "scattergeo"
        },
        {
         "lat": [
          61.92411,
          -32.522779
         ],
         "line": {
          "color": "blue",
          "width": 1
         },
         "locationmode": "ISO-3",
         "lon": [
          25.748151,
          -55.765835
         ],
         "mode": "lines",
         "opacity": 0.6,
         "type": "scattergeo"
        },
        {
         "lat": [
          61.92411,
          42.733883
         ],
         "line": {
          "color": "blue",
          "width": 1
         },
         "locationmode": "ISO-3",
         "lon": [
          25.748151,
          25.48583
         ],
         "mode": "lines",
         "opacity": 0.6,
         "type": "scattergeo"
        },
        {
         "lat": [
          61.92411,
          53.709807
         ],
         "line": {
          "color": "blue",
          "width": 1
         },
         "locationmode": "ISO-3",
         "lon": [
          25.748151,
          27.953389
         ],
         "mode": "lines",
         "opacity": 0.6,
         "type": "scattergeo"
        },
        {
         "lat": [
          61.92411,
          35.937496
         ],
         "line": {
          "color": "blue",
          "width": 1
         },
         "locationmode": "ISO-3",
         "lon": [
          25.748151,
          14.375416
         ],
         "mode": "lines",
         "opacity": 0.6,
         "type": "scattergeo"
        },
        {
         "lat": [
          48.379433,
          40.143105
         ],
         "line": {
          "color": "blue",
          "width": 1
         },
         "locationmode": "ISO-3",
         "lon": [
          31.16558,
          47.576927
         ],
         "mode": "lines",
         "opacity": 0.6,
         "type": "scattergeo"
        },
        {
         "lat": [
          48.379433,
          38.963745
         ],
         "line": {
          "color": "blue",
          "width": 1
         },
         "locationmode": "ISO-3",
         "lon": [
          31.16558,
          35.243322
         ],
         "mode": "lines",
         "opacity": 0.6,
         "type": "scattergeo"
        },
        {
         "lat": [
          48.379433,
          48.379433
         ],
         "line": {
          "color": "blue",
          "width": 1
         },
         "locationmode": "ISO-3",
         "lon": [
          31.16558,
          31.16558
         ],
         "mode": "lines",
         "opacity": 0.6,
         "type": "scattergeo"
        },
        {
         "lat": [
          48.379433,
          41.87194
         ],
         "line": {
          "color": "blue",
          "width": 1
         },
         "locationmode": "ISO-3",
         "lon": [
          31.16558,
          12.56738
         ],
         "mode": "lines",
         "opacity": 0.6,
         "type": "scattergeo"
        },
        {
         "lat": [
          48.379433,
          44.016521
         ],
         "line": {
          "color": "blue",
          "width": 1
         },
         "locationmode": "ISO-3",
         "lon": [
          31.16558,
          21.005859
         ],
         "mode": "lines",
         "opacity": 0.6,
         "type": "scattergeo"
        },
        {
         "lat": [
          48.379433,
          55.378051
         ],
         "line": {
          "color": "blue",
          "width": 1
         },
         "locationmode": "ISO-3",
         "lon": [
          31.16558,
          -3.435973
         ],
         "mode": "lines",
         "opacity": 0.6,
         "type": "scattergeo"
        },
        {
         "lat": [
          48.379433,
          61.52401
         ],
         "line": {
          "color": "blue",
          "width": 1
         },
         "locationmode": "ISO-3",
         "lon": [
          31.16558,
          105.318756
         ],
         "mode": "lines",
         "opacity": 0.6,
         "type": "scattergeo"
        },
        {
         "lat": [
          48.379433,
          45.1
         ],
         "line": {
          "color": "blue",
          "width": 1
         },
         "locationmode": "ISO-3",
         "lon": [
          31.16558,
          15.2
         ],
         "mode": "lines",
         "opacity": 0.6,
         "type": "scattergeo"
        },
        {
         "lat": [
          48.379433,
          42.315407
         ],
         "line": {
          "color": "blue",
          "width": 1
         },
         "locationmode": "ISO-3",
         "lon": [
          31.16558,
          43.356892
         ],
         "mode": "lines",
         "opacity": 0.6,
         "type": "scattergeo"
        },
        {
         "lat": [
          48.379433,
          45.943161
         ],
         "line": {
          "color": "blue",
          "width": 1
         },
         "locationmode": "ISO-3",
         "lon": [
          31.16558,
          24.96676
         ],
         "mode": "lines",
         "opacity": 0.6,
         "type": "scattergeo"
        },
        {
         "lat": [
          48.379433,
          -23.442503
         ],
         "line": {
          "color": "blue",
          "width": 1
         },
         "locationmode": "ISO-3",
         "lon": [
          31.16558,
          -58.443832
         ],
         "mode": "lines",
         "opacity": 0.6,
         "type": "scattergeo"
        },
        {
         "lat": [
          48.379433,
          47.516231
         ],
         "line": {
          "color": "blue",
          "width": 1
         },
         "locationmode": "ISO-3",
         "lon": [
          31.16558,
          14.550072
         ],
         "mode": "lines",
         "opacity": 0.6,
         "type": "scattergeo"
        },
        {
         "lat": [
          48.379433,
          53.709807
         ],
         "line": {
          "color": "blue",
          "width": 1
         },
         "locationmode": "ISO-3",
         "lon": [
          31.16558,
          27.953389
         ],
         "mode": "lines",
         "opacity": 0.6,
         "type": "scattergeo"
        },
        {
         "lat": [
          48.379433,
          56.879635
         ],
         "line": {
          "color": "blue",
          "width": 1
         },
         "locationmode": "ISO-3",
         "lon": [
          31.16558,
          24.603189
         ],
         "mode": "lines",
         "opacity": 0.6,
         "type": "scattergeo"
        },
        {
         "lat": [
          48.379433,
          41.153332
         ],
         "line": {
          "color": "blue",
          "width": 1
         },
         "locationmode": "ISO-3",
         "lon": [
          31.16558,
          20.168331
         ],
         "mode": "lines",
         "opacity": 0.6,
         "type": "scattergeo"
        },
        {
         "lat": [
          40.143105,
          51.165691
         ],
         "line": {
          "color": "blue",
          "width": 1
         },
         "locationmode": "ISO-3",
         "lon": [
          47.576927,
          10.451526
         ],
         "mode": "lines",
         "opacity": 0.6,
         "type": "scattergeo"
        },
        {
         "lat": [
          40.143105,
          46.818188
         ],
         "line": {
          "color": "blue",
          "width": 1
         },
         "locationmode": "ISO-3",
         "lon": [
          47.576927,
          8.227512
         ],
         "mode": "lines",
         "opacity": 0.6,
         "type": "scattergeo"
        },
        {
         "lat": [
          40.143105,
          60.128161
         ],
         "line": {
          "color": "blue",
          "width": 1
         },
         "locationmode": "ISO-3",
         "lon": [
          47.576927,
          18.643501
         ],
         "mode": "lines",
         "opacity": 0.6,
         "type": "scattergeo"
        },
        {
         "lat": [
          40.143105,
          38.963745
         ],
         "line": {
          "color": "blue",
          "width": 1
         },
         "locationmode": "ISO-3",
         "lon": [
          47.576927,
          35.243322
         ],
         "mode": "lines",
         "opacity": 0.6,
         "type": "scattergeo"
        },
        {
         "lat": [
          40.143105,
          40.143105
         ],
         "line": {
          "color": "blue",
          "width": 1
         },
         "locationmode": "ISO-3",
         "lon": [
          47.576927,
          47.576927
         ],
         "mode": "lines",
         "opacity": 0.6,
         "type": "scattergeo"
        },
        {
         "lat": [
          40.143105,
          42.315407
         ],
         "line": {
          "color": "blue",
          "width": 1
         },
         "locationmode": "ISO-3",
         "lon": [
          47.576927,
          43.356892
         ],
         "mode": "lines",
         "opacity": 0.6,
         "type": "scattergeo"
        },
        {
         "lat": [
          40.143105,
          48.379433
         ],
         "line": {
          "color": "blue",
          "width": 1
         },
         "locationmode": "ISO-3",
         "lon": [
          47.576927,
          31.16558
         ],
         "mode": "lines",
         "opacity": 0.6,
         "type": "scattergeo"
        },
        {
         "lat": [
          40.143105,
          41.377491
         ],
         "line": {
          "color": "blue",
          "width": 1
         },
         "locationmode": "ISO-3",
         "lon": [
          47.576927,
          64.585262
         ],
         "mode": "lines",
         "opacity": 0.6,
         "type": "scattergeo"
        },
        {
         "lat": [
          40.143105,
          53.709807
         ],
         "line": {
          "color": "blue",
          "width": 1
         },
         "locationmode": "ISO-3",
         "lon": [
          47.576927,
          27.953389
         ],
         "mode": "lines",
         "opacity": 0.6,
         "type": "scattergeo"
        },
        {
         "lat": [
          43.915886,
          43.915886
         ],
         "line": {
          "color": "blue",
          "width": 1
         },
         "locationmode": "ISO-3",
         "lon": [
          17.679076,
          17.679076
         ],
         "mode": "lines",
         "opacity": 0.6,
         "type": "scattergeo"
        },
        {
         "lat": [
          43.915886,
          40.143105
         ],
         "line": {
          "color": "blue",
          "width": 1
         },
         "locationmode": "ISO-3",
         "lon": [
          17.679076,
          47.576927
         ],
         "mode": "lines",
         "opacity": 0.6,
         "type": "scattergeo"
        },
        {
         "lat": [
          43.915886,
          42.733883
         ],
         "line": {
          "color": "blue",
          "width": 1
         },
         "locationmode": "ISO-3",
         "lon": [
          17.679076,
          25.48583
         ],
         "mode": "lines",
         "opacity": 0.6,
         "type": "scattergeo"
        },
        {
         "lat": [
          43.915886,
          51.919438
         ],
         "line": {
          "color": "blue",
          "width": 1
         },
         "locationmode": "ISO-3",
         "lon": [
          17.679076,
          19.145136
         ],
         "mode": "lines",
         "opacity": 0.6,
         "type": "scattergeo"
        },
        {
         "lat": [
          43.915886,
          48.019573
         ],
         "line": {
          "color": "blue",
          "width": 1
         },
         "locationmode": "ISO-3",
         "lon": [
          17.679076,
          66.923684
         ],
         "mode": "lines",
         "opacity": 0.6,
         "type": "scattergeo"
        },
        {
         "lat": [
          43.915886,
          37.09024
         ],
         "line": {
          "color": "blue",
          "width": 1
         },
         "locationmode": "ISO-3",
         "lon": [
          17.679076,
          -95.712891
         ],
         "mode": "lines",
         "opacity": 0.6,
         "type": "scattergeo"
        },
        {
         "lat": [
          43.915886,
          48.379433
         ],
         "line": {
          "color": "blue",
          "width": 1
         },
         "locationmode": "ISO-3",
         "lon": [
          17.679076,
          31.16558
         ],
         "mode": "lines",
         "opacity": 0.6,
         "type": "scattergeo"
        },
        {
         "lat": [
          43.915886,
          49.817492
         ],
         "line": {
          "color": "blue",
          "width": 1
         },
         "locationmode": "ISO-3",
         "lon": [
          17.679076,
          15.472962
         ],
         "mode": "lines",
         "opacity": 0.6,
         "type": "scattergeo"
        },
        {
         "lat": [
          43.915886,
          39.074208
         ],
         "line": {
          "color": "blue",
          "width": 1
         },
         "locationmode": "ISO-3",
         "lon": [
          17.679076,
          21.824312
         ],
         "mode": "lines",
         "opacity": 0.6,
         "type": "scattergeo"
        },
        {
         "lat": [
          43.915886,
          47.162494
         ],
         "line": {
          "color": "blue",
          "width": 1
         },
         "locationmode": "ISO-3",
         "lon": [
          17.679076,
          19.503304
         ],
         "mode": "lines",
         "opacity": 0.6,
         "type": "scattergeo"
        },
        {
         "lat": [
          43.915886,
          64.963051
         ],
         "line": {
          "color": "blue",
          "width": 1
         },
         "locationmode": "ISO-3",
         "lon": [
          17.679076,
          -19.020835
         ],
         "mode": "lines",
         "opacity": 0.6,
         "type": "scattergeo"
        },
        {
         "lat": [
          43.915886,
          44.016521
         ],
         "line": {
          "color": "blue",
          "width": 1
         },
         "locationmode": "ISO-3",
         "lon": [
          17.679076,
          21.005859
         ],
         "mode": "lines",
         "opacity": 0.6,
         "type": "scattergeo"
        },
        {
         "lat": [
          43.915886,
          46.151241
         ],
         "line": {
          "color": "blue",
          "width": 1
         },
         "locationmode": "ISO-3",
         "lon": [
          17.679076,
          14.995463
         ],
         "mode": "lines",
         "opacity": 0.6,
         "type": "scattergeo"
        },
        {
         "lat": [
          43.915886,
          41.153332
         ],
         "line": {
          "color": "blue",
          "width": 1
         },
         "locationmode": "ISO-3",
         "lon": [
          17.679076,
          20.168331
         ],
         "mode": "lines",
         "opacity": 0.6,
         "type": "scattergeo"
        },
        {
         "lat": [
          43.915886,
          42.708678
         ],
         "line": {
          "color": "blue",
          "width": 1
         },
         "locationmode": "ISO-3",
         "lon": [
          17.679076,
          19.37439
         ],
         "mode": "lines",
         "opacity": 0.6,
         "type": "scattergeo"
        },
        {
         "lat": [
          43.915886,
          45.1
         ],
         "line": {
          "color": "blue",
          "width": 1
         },
         "locationmode": "ISO-3",
         "lon": [
          17.679076,
          15.2
         ],
         "mode": "lines",
         "opacity": 0.6,
         "type": "scattergeo"
        },
        {
         "lat": [
          43.915886,
          60.128161
         ],
         "line": {
          "color": "blue",
          "width": 1
         },
         "locationmode": "ISO-3",
         "lon": [
          17.679076,
          18.643501
         ],
         "mode": "lines",
         "opacity": 0.6,
         "type": "scattergeo"
        },
        {
         "lat": [
          43.915886,
          47.516231
         ],
         "line": {
          "color": "blue",
          "width": 1
         },
         "locationmode": "ISO-3",
         "lon": [
          17.679076,
          14.550072
         ],
         "mode": "lines",
         "opacity": 0.6,
         "type": "scattergeo"
        },
        {
         "lat": [
          43.915886,
          31.046051
         ],
         "line": {
          "color": "blue",
          "width": 1
         },
         "locationmode": "ISO-3",
         "lon": [
          17.679076,
          34.851612
         ],
         "mode": "lines",
         "opacity": 0.6,
         "type": "scattergeo"
        },
        {
         "lat": [
          23.634501,
          31.046051
         ],
         "line": {
          "color": "blue",
          "width": 1
         },
         "locationmode": "ISO-3",
         "lon": [
          -102.552784,
          34.851612
         ],
         "mode": "lines",
         "opacity": 0.6,
         "type": "scattergeo"
        },
        {
         "lat": [
          23.634501,
          23.634501
         ],
         "line": {
          "color": "blue",
          "width": 1
         },
         "locationmode": "ISO-3",
         "lon": [
          -102.552784,
          -102.552784
         ],
         "mode": "lines",
         "opacity": 0.6,
         "type": "scattergeo"
        },
        {
         "lat": [
          23.634501,
          -38.416097
         ],
         "line": {
          "color": "blue",
          "width": 1
         },
         "locationmode": "ISO-3",
         "lon": [
          -102.552784,
          -63.616672
         ],
         "mode": "lines",
         "opacity": 0.6,
         "type": "scattergeo"
        },
        {
         "lat": [
          23.634501,
          40.463667
         ],
         "line": {
          "color": "blue",
          "width": 1
         },
         "locationmode": "ISO-3",
         "lon": [
          -102.552784,
          -3.74922
         ],
         "mode": "lines",
         "opacity": 0.6,
         "type": "scattergeo"
        },
        {
         "lat": [
          23.634501,
          25.354826
         ],
         "line": {
          "color": "blue",
          "width": 1
         },
         "locationmode": "ISO-3",
         "lon": [
          -102.552784,
          51.183884
         ],
         "mode": "lines",
         "opacity": 0.6,
         "type": "scattergeo"
        },
        {
         "lat": [
          23.634501,
          -14.235004
         ],
         "line": {
          "color": "blue",
          "width": 1
         },
         "locationmode": "ISO-3",
         "lon": [
          -102.552784,
          -51.92528
         ],
         "mode": "lines",
         "opacity": 0.6,
         "type": "scattergeo"
        },
        {
         "lat": [
          23.634501,
          -35.675147
         ],
         "line": {
          "color": "blue",
          "width": 1
         },
         "locationmode": "ISO-3",
         "lon": [
          -102.552784,
          -71.542969
         ],
         "mode": "lines",
         "opacity": 0.6,
         "type": "scattergeo"
        },
        {
         "lat": [
          23.634501,
          37.09024
         ],
         "line": {
          "color": "blue",
          "width": 1
         },
         "locationmode": "ISO-3",
         "lon": [
          -102.552784,
          -95.712891
         ],
         "mode": "lines",
         "opacity": 0.6,
         "type": "scattergeo"
        },
        {
         "lat": [
          23.634501,
          4.570868
         ],
         "line": {
          "color": "blue",
          "width": 1
         },
         "locationmode": "ISO-3",
         "lon": [
          -102.552784,
          -74.297333
         ],
         "mode": "lines",
         "opacity": 0.6,
         "type": "scattergeo"
        },
        {
         "lat": [
          23.634501,
          55.378051
         ],
         "line": {
          "color": "blue",
          "width": 1
         },
         "locationmode": "ISO-3",
         "lon": [
          -102.552784,
          -3.435973
         ],
         "mode": "lines",
         "opacity": 0.6,
         "type": "scattergeo"
        },
        {
         "lat": [
          23.634501,
          -9.189967
         ],
         "line": {
          "color": "blue",
          "width": 1
         },
         "locationmode": "ISO-3",
         "lon": [
          -102.552784,
          -75.015152
         ],
         "mode": "lines",
         "opacity": 0.6,
         "type": "scattergeo"
        },
        {
         "lat": [
          23.634501,
          49.817492
         ],
         "line": {
          "color": "blue",
          "width": 1
         },
         "locationmode": "ISO-3",
         "lon": [
          -102.552784,
          15.472962
         ],
         "mode": "lines",
         "opacity": 0.6,
         "type": "scattergeo"
        },
        {
         "lat": [
          23.634501,
          15.783471
         ],
         "line": {
          "color": "blue",
          "width": 1
         },
         "locationmode": "ISO-3",
         "lon": [
          -102.552784,
          -90.230759
         ],
         "mode": "lines",
         "opacity": 0.6,
         "type": "scattergeo"
        },
        {
         "lat": [
          23.634501,
          -32.522779
         ],
         "line": {
          "color": "blue",
          "width": 1
         },
         "locationmode": "ISO-3",
         "lon": [
          -102.552784,
          -55.765835
         ],
         "mode": "lines",
         "opacity": 0.6,
         "type": "scattergeo"
        },
        {
         "lat": [
          23.634501,
          15.199999
         ],
         "line": {
          "color": "blue",
          "width": 1
         },
         "locationmode": "ISO-3",
         "lon": [
          -102.552784,
          -86.241905
         ],
         "mode": "lines",
         "opacity": 0.6,
         "type": "scattergeo"
        },
        {
         "lat": [
          23.634501,
          -16.290154
         ],
         "line": {
          "color": "blue",
          "width": 1
         },
         "locationmode": "ISO-3",
         "lon": [
          -102.552784,
          -63.588653
         ],
         "mode": "lines",
         "opacity": 0.6,
         "type": "scattergeo"
        },
        {
         "lat": [
          23.634501,
          35.907757
         ],
         "line": {
          "color": "blue",
          "width": 1
         },
         "locationmode": "ISO-3",
         "lon": [
          -102.552784,
          127.766922
         ],
         "mode": "lines",
         "opacity": 0.6,
         "type": "scattergeo"
        },
        {
         "lat": [
          23.634501,
          9.748917
         ],
         "line": {
          "color": "blue",
          "width": 1
         },
         "locationmode": "ISO-3",
         "lon": [
          -102.552784,
          -83.753428
         ],
         "mode": "lines",
         "opacity": 0.6,
         "type": "scattergeo"
        },
        {
         "lat": [
          23.634501,
          -23.442503
         ],
         "line": {
          "color": "blue",
          "width": 1
         },
         "locationmode": "ISO-3",
         "lon": [
          -102.552784,
          -58.443832
         ],
         "mode": "lines",
         "opacity": 0.6,
         "type": "scattergeo"
        },
        {
         "lat": [
          48.669026,
          47.516231
         ],
         "line": {
          "color": "blue",
          "width": 1
         },
         "locationmode": "ISO-3",
         "lon": [
          19.699024,
          14.550072
         ],
         "mode": "lines",
         "opacity": 0.6,
         "type": "scattergeo"
        },
        {
         "lat": [
          48.669026,
          48.669026
         ],
         "line": {
          "color": "blue",
          "width": 1
         },
         "locationmode": "ISO-3",
         "lon": [
          19.699024,
          19.699024
         ],
         "mode": "lines",
         "opacity": 0.6,
         "type": "scattergeo"
        },
        {
         "lat": [
          48.669026,
          49.817492
         ],
         "line": {
          "color": "blue",
          "width": 1
         },
         "locationmode": "ISO-3",
         "lon": [
          19.699024,
          15.472962
         ],
         "mode": "lines",
         "opacity": 0.6,
         "type": "scattergeo"
        },
        {
         "lat": [
          48.669026,
          51.919438
         ],
         "line": {
          "color": "blue",
          "width": 1
         },
         "locationmode": "ISO-3",
         "lon": [
          19.699024,
          19.145136
         ],
         "mode": "lines",
         "opacity": 0.6,
         "type": "scattergeo"
        },
        {
         "lat": [
          48.669026,
          51.165691
         ],
         "line": {
          "color": "blue",
          "width": 1
         },
         "locationmode": "ISO-3",
         "lon": [
          19.699024,
          10.451526
         ],
         "mode": "lines",
         "opacity": 0.6,
         "type": "scattergeo"
        },
        {
         "lat": [
          48.669026,
          61.52401
         ],
         "line": {
          "color": "blue",
          "width": 1
         },
         "locationmode": "ISO-3",
         "lon": [
          19.699024,
          105.318756
         ],
         "mode": "lines",
         "opacity": 0.6,
         "type": "scattergeo"
        },
        {
         "lat": [
          48.669026,
          55.378051
         ],
         "line": {
          "color": "blue",
          "width": 1
         },
         "locationmode": "ISO-3",
         "lon": [
          19.699024,
          -3.435973
         ],
         "mode": "lines",
         "opacity": 0.6,
         "type": "scattergeo"
        },
        {
         "lat": [
          48.669026,
          41.87194
         ],
         "line": {
          "color": "blue",
          "width": 1
         },
         "locationmode": "ISO-3",
         "lon": [
          19.699024,
          12.56738
         ],
         "mode": "lines",
         "opacity": 0.6,
         "type": "scattergeo"
        },
        {
         "lat": [
          48.669026,
          44.016521
         ],
         "line": {
          "color": "blue",
          "width": 1
         },
         "locationmode": "ISO-3",
         "lon": [
          19.699024,
          21.005859
         ],
         "mode": "lines",
         "opacity": 0.6,
         "type": "scattergeo"
        },
        {
         "lat": [
          48.669026,
          4.210484
         ],
         "line": {
          "color": "blue",
          "width": 1
         },
         "locationmode": "ISO-3",
         "lon": [
          19.699024,
          101.975766
         ],
         "mode": "lines",
         "opacity": 0.6,
         "type": "scattergeo"
        },
        {
         "lat": [
          48.669026,
          32.427908
         ],
         "line": {
          "color": "blue",
          "width": 1
         },
         "locationmode": "ISO-3",
         "lon": [
          19.699024,
          53.688046
         ],
         "mode": "lines",
         "opacity": 0.6,
         "type": "scattergeo"
        },
        {
         "lat": [
          48.669026,
          47.162494
         ],
         "line": {
          "color": "blue",
          "width": 1
         },
         "locationmode": "ISO-3",
         "lon": [
          19.699024,
          19.503304
         ],
         "mode": "lines",
         "opacity": 0.6,
         "type": "scattergeo"
        },
        {
         "lat": [
          48.669026,
          35.126413
         ],
         "line": {
          "color": "blue",
          "width": 1
         },
         "locationmode": "ISO-3",
         "lon": [
          19.699024,
          33.429859
         ],
         "mode": "lines",
         "opacity": 0.6,
         "type": "scattergeo"
        },
        {
         "lat": [
          48.669026,
          31.046051
         ],
         "line": {
          "color": "blue",
          "width": 1
         },
         "locationmode": "ISO-3",
         "lon": [
          19.699024,
          34.851612
         ],
         "mode": "lines",
         "opacity": 0.6,
         "type": "scattergeo"
        },
        {
         "lat": [
          4.570868,
          4.570868
         ],
         "line": {
          "color": "blue",
          "width": 1
         },
         "locationmode": "ISO-3",
         "lon": [
          -74.297333,
          -74.297333
         ],
         "mode": "lines",
         "opacity": 0.6,
         "type": "scattergeo"
        },
        {
         "lat": [
          4.570868,
          37.09024
         ],
         "line": {
          "color": "blue",
          "width": 1
         },
         "locationmode": "ISO-3",
         "lon": [
          -74.297333,
          -95.712891
         ],
         "mode": "lines",
         "opacity": 0.6,
         "type": "scattergeo"
        },
        {
         "lat": [
          4.570868,
          -1.831239
         ],
         "line": {
          "color": "blue",
          "width": 1
         },
         "locationmode": "ISO-3",
         "lon": [
          -74.297333,
          -78.183406
         ],
         "mode": "lines",
         "opacity": 0.6,
         "type": "scattergeo"
        },
        {
         "lat": [
          4.570868,
          38.963745
         ],
         "line": {
          "color": "blue",
          "width": 1
         },
         "locationmode": "ISO-3",
         "lon": [
          -74.297333,
          35.243322
         ],
         "mode": "lines",
         "opacity": 0.6,
         "type": "scattergeo"
        },
        {
         "lat": [
          4.570868,
          23.634501
         ],
         "line": {
          "color": "blue",
          "width": 1
         },
         "locationmode": "ISO-3",
         "lon": [
          -74.297333,
          -102.552784
         ],
         "mode": "lines",
         "opacity": 0.6,
         "type": "scattergeo"
        },
        {
         "lat": [
          4.570868,
          6.42375
         ],
         "line": {
          "color": "blue",
          "width": 1
         },
         "locationmode": "ISO-3",
         "lon": [
          -74.297333,
          -66.58973
         ],
         "mode": "lines",
         "opacity": 0.6,
         "type": "scattergeo"
        },
        {
         "lat": [
          4.570868,
          -38.416097
         ],
         "line": {
          "color": "blue",
          "width": 1
         },
         "locationmode": "ISO-3",
         "lon": [
          -74.297333,
          -63.616672
         ],
         "mode": "lines",
         "opacity": 0.6,
         "type": "scattergeo"
        },
        {
         "lat": [
          4.570868,
          46.227638
         ],
         "line": {
          "color": "blue",
          "width": 1
         },
         "locationmode": "ISO-3",
         "lon": [
          -74.297333,
          2.213749
         ],
         "mode": "lines",
         "opacity": 0.6,
         "type": "scattergeo"
        },
        {
         "lat": [
          4.570868,
          40.463667
         ],
         "line": {
          "color": "blue",
          "width": 1
         },
         "locationmode": "ISO-3",
         "lon": [
          -74.297333,
          -3.74922
         ],
         "mode": "lines",
         "opacity": 0.6,
         "type": "scattergeo"
        },
        {
         "lat": [
          4.570868,
          55.378051
         ],
         "line": {
          "color": "blue",
          "width": 1
         },
         "locationmode": "ISO-3",
         "lon": [
          -74.297333,
          -3.435973
         ],
         "mode": "lines",
         "opacity": 0.6,
         "type": "scattergeo"
        },
        {
         "lat": [
          4.570868,
          41.87194
         ],
         "line": {
          "color": "blue",
          "width": 1
         },
         "locationmode": "ISO-3",
         "lon": [
          -74.297333,
          12.56738
         ],
         "mode": "lines",
         "opacity": 0.6,
         "type": "scattergeo"
        },
        {
         "lat": [
          4.570868,
          39.074208
         ],
         "line": {
          "color": "blue",
          "width": 1
         },
         "locationmode": "ISO-3",
         "lon": [
          -74.297333,
          21.824312
         ],
         "mode": "lines",
         "opacity": 0.6,
         "type": "scattergeo"
        },
        {
         "lat": [
          4.570868,
          60.128161
         ],
         "line": {
          "color": "blue",
          "width": 1
         },
         "locationmode": "ISO-3",
         "lon": [
          -74.297333,
          18.643501
         ],
         "mode": "lines",
         "opacity": 0.6,
         "type": "scattergeo"
        },
        {
         "lat": [
          4.570868,
          35.907757
         ],
         "line": {
          "color": "blue",
          "width": 1
         },
         "locationmode": "ISO-3",
         "lon": [
          -74.297333,
          127.766922
         ],
         "mode": "lines",
         "opacity": 0.6,
         "type": "scattergeo"
        },
        {
         "lat": [
          4.570868,
          23.424076
         ],
         "line": {
          "color": "blue",
          "width": 1
         },
         "locationmode": "ISO-3",
         "lon": [
          -74.297333,
          53.847818
         ],
         "mode": "lines",
         "opacity": 0.6,
         "type": "scattergeo"
        },
        {
         "lat": [
          4.570868,
          15.783471
         ],
         "line": {
          "color": "blue",
          "width": 1
         },
         "locationmode": "ISO-3",
         "lon": [
          -74.297333,
          -90.230759
         ],
         "mode": "lines",
         "opacity": 0.6,
         "type": "scattergeo"
        },
        {
         "lat": [
          4.570868,
          8.537981
         ],
         "line": {
          "color": "blue",
          "width": 1
         },
         "locationmode": "ISO-3",
         "lon": [
          -74.297333,
          -80.782127
         ],
         "mode": "lines",
         "opacity": 0.6,
         "type": "scattergeo"
        },
        {
         "lat": [
          4.570868,
          9.748917
         ],
         "line": {
          "color": "blue",
          "width": 1
         },
         "locationmode": "ISO-3",
         "lon": [
          -74.297333,
          -83.753428
         ],
         "mode": "lines",
         "opacity": 0.6,
         "type": "scattergeo"
        },
        {
         "lat": [
          4.570868,
          -9.189967
         ],
         "line": {
          "color": "blue",
          "width": 1
         },
         "locationmode": "ISO-3",
         "lon": [
          -74.297333,
          -75.015152
         ],
         "mode": "lines",
         "opacity": 0.6,
         "type": "scattergeo"
        },
        {
         "lat": [
          4.570868,
          -35.675147
         ],
         "line": {
          "color": "blue",
          "width": 1
         },
         "locationmode": "ISO-3",
         "lon": [
          -74.297333,
          -71.542969
         ],
         "mode": "lines",
         "opacity": 0.6,
         "type": "scattergeo"
        },
        {
         "lat": [
          4.570868,
          23.885942
         ],
         "line": {
          "color": "blue",
          "width": 1
         },
         "locationmode": "ISO-3",
         "lon": [
          -74.297333,
          45.079162
         ],
         "mode": "lines",
         "opacity": 0.6,
         "type": "scattergeo"
        },
        {
         "lat": [
          4.570868,
          32.427908
         ],
         "line": {
          "color": "blue",
          "width": 1
         },
         "locationmode": "ISO-3",
         "lon": [
          -74.297333,
          53.688046
         ],
         "mode": "lines",
         "opacity": 0.6,
         "type": "scattergeo"
        },
        {
         "lat": [
          4.570868,
          -32.522779
         ],
         "line": {
          "color": "blue",
          "width": 1
         },
         "locationmode": "ISO-3",
         "lon": [
          -74.297333,
          -55.765835
         ],
         "mode": "lines",
         "opacity": 0.6,
         "type": "scattergeo"
        },
        {
         "lat": [
          4.570868,
          45.943161
         ],
         "line": {
          "color": "blue",
          "width": 1
         },
         "locationmode": "ISO-3",
         "lon": [
          -74.297333,
          24.96676
         ],
         "mode": "lines",
         "opacity": 0.6,
         "type": "scattergeo"
        },
        {
         "lat": [
          4.570868,
          -16.290154
         ],
         "line": {
          "color": "blue",
          "width": 1
         },
         "locationmode": "ISO-3",
         "lon": [
          -74.297333,
          -63.588653
         ],
         "mode": "lines",
         "opacity": 0.6,
         "type": "scattergeo"
        },
        {
         "lat": [
          4.570868,
          -14.235004
         ],
         "line": {
          "color": "blue",
          "width": 1
         },
         "locationmode": "ISO-3",
         "lon": [
          -74.297333,
          -51.92528
         ],
         "mode": "lines",
         "opacity": 0.6,
         "type": "scattergeo"
        },
        {
         "lat": [
          4.570868,
          13.794185
         ],
         "line": {
          "color": "blue",
          "width": 1
         },
         "locationmode": "ISO-3",
         "lon": [
          -74.297333,
          -88.89653
         ],
         "mode": "lines",
         "opacity": 0.6,
         "type": "scattergeo"
        },
        {
         "lat": [
          -1.831239,
          61.52401
         ],
         "line": {
          "color": "blue",
          "width": 1
         },
         "locationmode": "ISO-3",
         "lon": [
          -78.183406,
          105.318756
         ],
         "mode": "lines",
         "opacity": 0.6,
         "type": "scattergeo"
        },
        {
         "lat": [
          -1.831239,
          -1.831239
         ],
         "line": {
          "color": "blue",
          "width": 1
         },
         "locationmode": "ISO-3",
         "lon": [
          -78.183406,
          -78.183406
         ],
         "mode": "lines",
         "opacity": 0.6,
         "type": "scattergeo"
        },
        {
         "lat": [
          -1.831239,
          -38.416097
         ],
         "line": {
          "color": "blue",
          "width": 1
         },
         "locationmode": "ISO-3",
         "lon": [
          -78.183406,
          -63.616672
         ],
         "mode": "lines",
         "opacity": 0.6,
         "type": "scattergeo"
        },
        {
         "lat": [
          -1.831239,
          -32.522779
         ],
         "line": {
          "color": "blue",
          "width": 1
         },
         "locationmode": "ISO-3",
         "lon": [
          -78.183406,
          -55.765835
         ],
         "mode": "lines",
         "opacity": 0.6,
         "type": "scattergeo"
        },
        {
         "lat": [
          -1.831239,
          4.570868
         ],
         "line": {
          "color": "blue",
          "width": 1
         },
         "locationmode": "ISO-3",
         "lon": [
          -78.183406,
          -74.297333
         ],
         "mode": "lines",
         "opacity": 0.6,
         "type": "scattergeo"
        },
        {
         "lat": [
          -1.831239,
          -9.189967
         ],
         "line": {
          "color": "blue",
          "width": 1
         },
         "locationmode": "ISO-3",
         "lon": [
          -78.183406,
          -75.015152
         ],
         "mode": "lines",
         "opacity": 0.6,
         "type": "scattergeo"
        },
        {
         "lat": [
          -1.831239,
          40.463667
         ],
         "line": {
          "color": "blue",
          "width": 1
         },
         "locationmode": "ISO-3",
         "lon": [
          -78.183406,
          -3.74922
         ],
         "mode": "lines",
         "opacity": 0.6,
         "type": "scattergeo"
        },
        {
         "lat": [
          -1.831239,
          -35.675147
         ],
         "line": {
          "color": "blue",
          "width": 1
         },
         "locationmode": "ISO-3",
         "lon": [
          -78.183406,
          -71.542969
         ],
         "mode": "lines",
         "opacity": 0.6,
         "type": "scattergeo"
        },
        {
         "lat": [
          -1.831239,
          23.634501
         ],
         "line": {
          "color": "blue",
          "width": 1
         },
         "locationmode": "ISO-3",
         "lon": [
          -78.183406,
          -102.552784
         ],
         "mode": "lines",
         "opacity": 0.6,
         "type": "scattergeo"
        },
        {
         "lat": [
          -1.831239,
          -16.290154
         ],
         "line": {
          "color": "blue",
          "width": 1
         },
         "locationmode": "ISO-3",
         "lon": [
          -78.183406,
          -63.588653
         ],
         "mode": "lines",
         "opacity": 0.6,
         "type": "scattergeo"
        },
        {
         "lat": [
          -1.831239,
          9.748917
         ],
         "line": {
          "color": "blue",
          "width": 1
         },
         "locationmode": "ISO-3",
         "lon": [
          -78.183406,
          -83.753428
         ],
         "mode": "lines",
         "opacity": 0.6,
         "type": "scattergeo"
        },
        {
         "lat": [
          -32.522779,
          -9.189967
         ],
         "line": {
          "color": "blue",
          "width": 1
         },
         "locationmode": "ISO-3",
         "lon": [
          -55.765835,
          -75.015152
         ],
         "mode": "lines",
         "opacity": 0.6,
         "type": "scattergeo"
        },
        {
         "lat": [
          -32.522779,
          -38.416097
         ],
         "line": {
          "color": "blue",
          "width": 1
         },
         "locationmode": "ISO-3",
         "lon": [
          -55.765835,
          -63.616672
         ],
         "mode": "lines",
         "opacity": 0.6,
         "type": "scattergeo"
        },
        {
         "lat": [
          -32.522779,
          40.463667
         ],
         "line": {
          "color": "blue",
          "width": 1
         },
         "locationmode": "ISO-3",
         "lon": [
          -55.765835,
          -3.74922
         ],
         "mode": "lines",
         "opacity": 0.6,
         "type": "scattergeo"
        },
        {
         "lat": [
          -32.522779,
          -32.522779
         ],
         "line": {
          "color": "blue",
          "width": 1
         },
         "locationmode": "ISO-3",
         "lon": [
          -55.765835,
          -55.765835
         ],
         "mode": "lines",
         "opacity": 0.6,
         "type": "scattergeo"
        },
        {
         "lat": [
          -32.522779,
          55.378051
         ],
         "line": {
          "color": "blue",
          "width": 1
         },
         "locationmode": "ISO-3",
         "lon": [
          -55.765835,
          -3.435973
         ],
         "mode": "lines",
         "opacity": 0.6,
         "type": "scattergeo"
        },
        {
         "lat": [
          -32.522779,
          61.52401
         ],
         "line": {
          "color": "blue",
          "width": 1
         },
         "locationmode": "ISO-3",
         "lon": [
          -55.765835,
          105.318756
         ],
         "mode": "lines",
         "opacity": 0.6,
         "type": "scattergeo"
        },
        {
         "lat": [
          -32.522779,
          41.87194
         ],
         "line": {
          "color": "blue",
          "width": 1
         },
         "locationmode": "ISO-3",
         "lon": [
          -55.765835,
          12.56738
         ],
         "mode": "lines",
         "opacity": 0.6,
         "type": "scattergeo"
        },
        {
         "lat": [
          -32.522779,
          -23.442503
         ],
         "line": {
          "color": "blue",
          "width": 1
         },
         "locationmode": "ISO-3",
         "lon": [
          -55.765835,
          -58.443832
         ],
         "mode": "lines",
         "opacity": 0.6,
         "type": "scattergeo"
        },
        {
         "lat": [
          -32.522779,
          52.132633
         ],
         "line": {
          "color": "blue",
          "width": 1
         },
         "locationmode": "ISO-3",
         "lon": [
          -55.765835,
          5.291266
         ],
         "mode": "lines",
         "opacity": 0.6,
         "type": "scattergeo"
        },
        {
         "lat": [
          -32.522779,
          46.227638
         ],
         "line": {
          "color": "blue",
          "width": 1
         },
         "locationmode": "ISO-3",
         "lon": [
          -55.765835,
          2.213749
         ],
         "mode": "lines",
         "opacity": 0.6,
         "type": "scattergeo"
        },
        {
         "lat": [
          -32.522779,
          60.472024
         ],
         "line": {
          "color": "blue",
          "width": 1
         },
         "locationmode": "ISO-3",
         "lon": [
          -55.765835,
          8.468946
         ],
         "mode": "lines",
         "opacity": 0.6,
         "type": "scattergeo"
        },
        {
         "lat": [
          -32.522779,
          31.046051
         ],
         "line": {
          "color": "blue",
          "width": 1
         },
         "locationmode": "ISO-3",
         "lon": [
          -55.765835,
          34.851612
         ],
         "mode": "lines",
         "opacity": 0.6,
         "type": "scattergeo"
        },
        {
         "lat": [
          -32.522779,
          15.199999
         ],
         "line": {
          "color": "blue",
          "width": 1
         },
         "locationmode": "ISO-3",
         "lon": [
          -55.765835,
          -86.241905
         ],
         "mode": "lines",
         "opacity": 0.6,
         "type": "scattergeo"
        },
        {
         "lat": [
          -32.522779,
          37.09024
         ],
         "line": {
          "color": "blue",
          "width": 1
         },
         "locationmode": "ISO-3",
         "lon": [
          -55.765835,
          -95.712891
         ],
         "mode": "lines",
         "opacity": 0.6,
         "type": "scattergeo"
        },
        {
         "lat": [
          -32.522779,
          -35.675147
         ],
         "line": {
          "color": "blue",
          "width": 1
         },
         "locationmode": "ISO-3",
         "lon": [
          -55.765835,
          -71.542969
         ],
         "mode": "lines",
         "opacity": 0.6,
         "type": "scattergeo"
        },
        {
         "lat": [
          -32.522779,
          23.634501
         ],
         "line": {
          "color": "blue",
          "width": 1
         },
         "locationmode": "ISO-3",
         "lon": [
          -55.765835,
          -102.552784
         ],
         "mode": "lines",
         "opacity": 0.6,
         "type": "scattergeo"
        },
        {
         "lat": [
          -32.522779,
          -16.290154
         ],
         "line": {
          "color": "blue",
          "width": 1
         },
         "locationmode": "ISO-3",
         "lon": [
          -55.765835,
          -63.588653
         ],
         "mode": "lines",
         "opacity": 0.6,
         "type": "scattergeo"
        },
        {
         "lat": [
          -32.522779,
          -14.235004
         ],
         "line": {
          "color": "blue",
          "width": 1
         },
         "locationmode": "ISO-3",
         "lon": [
          -55.765835,
          -51.92528
         ],
         "mode": "lines",
         "opacity": 0.6,
         "type": "scattergeo"
        },
        {
         "lat": [
          -32.522779,
          15.783471
         ],
         "line": {
          "color": "blue",
          "width": 1
         },
         "locationmode": "ISO-3",
         "lon": [
          -55.765835,
          -90.230759
         ],
         "mode": "lines",
         "opacity": 0.6,
         "type": "scattergeo"
        },
        {
         "lat": [
          -32.522779,
          -1.831239
         ],
         "line": {
          "color": "blue",
          "width": 1
         },
         "locationmode": "ISO-3",
         "lon": [
          -55.765835,
          -78.183406
         ],
         "mode": "lines",
         "opacity": 0.6,
         "type": "scattergeo"
        },
        {
         "lat": [
          -32.522779,
          4.570868
         ],
         "line": {
          "color": "blue",
          "width": 1
         },
         "locationmode": "ISO-3",
         "lon": [
          -55.765835,
          -74.297333
         ],
         "mode": "lines",
         "opacity": 0.6,
         "type": "scattergeo"
        },
        {
         "lat": [
          -32.522779,
          6.42375
         ],
         "line": {
          "color": "blue",
          "width": 1
         },
         "locationmode": "ISO-3",
         "lon": [
          -55.765835,
          -66.58973
         ],
         "mode": "lines",
         "opacity": 0.6,
         "type": "scattergeo"
        },
        {
         "lat": [
          -32.522779,
          47.162494
         ],
         "line": {
          "color": "blue",
          "width": 1
         },
         "locationmode": "ISO-3",
         "lon": [
          -55.765835,
          19.503304
         ],
         "mode": "lines",
         "opacity": 0.6,
         "type": "scattergeo"
        },
        {
         "lat": [
          -32.522779,
          42.546245
         ],
         "line": {
          "color": "blue",
          "width": 1
         },
         "locationmode": "ISO-3",
         "lon": [
          -55.765835,
          1.601554
         ],
         "mode": "lines",
         "opacity": 0.6,
         "type": "scattergeo"
        },
        {
         "lat": [
          -35.675147,
          -35.675147
         ],
         "line": {
          "color": "blue",
          "width": 1
         },
         "locationmode": "ISO-3",
         "lon": [
          -71.542969,
          -71.542969
         ],
         "mode": "lines",
         "opacity": 0.6,
         "type": "scattergeo"
        },
        {
         "lat": [
          -35.675147,
          -14.235004
         ],
         "line": {
          "color": "blue",
          "width": 1
         },
         "locationmode": "ISO-3",
         "lon": [
          -71.542969,
          -51.92528
         ],
         "mode": "lines",
         "opacity": 0.6,
         "type": "scattergeo"
        },
        {
         "lat": [
          -35.675147,
          -16.290154
         ],
         "line": {
          "color": "blue",
          "width": 1
         },
         "locationmode": "ISO-3",
         "lon": [
          -71.542969,
          -63.588653
         ],
         "mode": "lines",
         "opacity": 0.6,
         "type": "scattergeo"
        },
        {
         "lat": [
          -35.675147,
          23.634501
         ],
         "line": {
          "color": "blue",
          "width": 1
         },
         "locationmode": "ISO-3",
         "lon": [
          -71.542969,
          -102.552784
         ],
         "mode": "lines",
         "opacity": 0.6,
         "type": "scattergeo"
        },
        {
         "lat": [
          -35.675147,
          4.570868
         ],
         "line": {
          "color": "blue",
          "width": 1
         },
         "locationmode": "ISO-3",
         "lon": [
          -71.542969,
          -74.297333
         ],
         "mode": "lines",
         "opacity": 0.6,
         "type": "scattergeo"
        },
        {
         "lat": [
          -35.675147,
          61.52401
         ],
         "line": {
          "color": "blue",
          "width": 1
         },
         "locationmode": "ISO-3",
         "lon": [
          -71.542969,
          105.318756
         ],
         "mode": "lines",
         "opacity": 0.6,
         "type": "scattergeo"
        },
        {
         "lat": [
          -35.675147,
          -38.416097
         ],
         "line": {
          "color": "blue",
          "width": 1
         },
         "locationmode": "ISO-3",
         "lon": [
          -71.542969,
          -63.616672
         ],
         "mode": "lines",
         "opacity": 0.6,
         "type": "scattergeo"
        },
        {
         "lat": [
          -35.675147,
          37.09024
         ],
         "line": {
          "color": "blue",
          "width": 1
         },
         "locationmode": "ISO-3",
         "lon": [
          -71.542969,
          -95.712891
         ],
         "mode": "lines",
         "opacity": 0.6,
         "type": "scattergeo"
        },
        {
         "lat": [
          -35.675147,
          47.516231
         ],
         "line": {
          "color": "blue",
          "width": 1
         },
         "locationmode": "ISO-3",
         "lon": [
          -71.542969,
          14.550072
         ],
         "mode": "lines",
         "opacity": 0.6,
         "type": "scattergeo"
        },
        {
         "lat": [
          -35.675147,
          39.074208
         ],
         "line": {
          "color": "blue",
          "width": 1
         },
         "locationmode": "ISO-3",
         "lon": [
          -71.542969,
          21.824312
         ],
         "mode": "lines",
         "opacity": 0.6,
         "type": "scattergeo"
        },
        {
         "lat": [
          -35.675147,
          46.818188
         ],
         "line": {
          "color": "blue",
          "width": 1
         },
         "locationmode": "ISO-3",
         "lon": [
          -71.542969,
          8.227512
         ],
         "mode": "lines",
         "opacity": 0.6,
         "type": "scattergeo"
        },
        {
         "lat": [
          -35.675147,
          31.046051
         ],
         "line": {
          "color": "blue",
          "width": 1
         },
         "locationmode": "ISO-3",
         "lon": [
          -71.542969,
          34.851612
         ],
         "mode": "lines",
         "opacity": 0.6,
         "type": "scattergeo"
        },
        {
         "lat": [
          -35.675147,
          6.42375
         ],
         "line": {
          "color": "blue",
          "width": 1
         },
         "locationmode": "ISO-3",
         "lon": [
          -71.542969,
          -66.58973
         ],
         "mode": "lines",
         "opacity": 0.6,
         "type": "scattergeo"
        },
        {
         "lat": [
          -35.675147,
          -32.522779
         ],
         "line": {
          "color": "blue",
          "width": 1
         },
         "locationmode": "ISO-3",
         "lon": [
          -71.542969,
          -55.765835
         ],
         "mode": "lines",
         "opacity": 0.6,
         "type": "scattergeo"
        },
        {
         "lat": [
          -35.675147,
          -23.442503
         ],
         "line": {
          "color": "blue",
          "width": 1
         },
         "locationmode": "ISO-3",
         "lon": [
          -71.542969,
          -58.443832
         ],
         "mode": "lines",
         "opacity": 0.6,
         "type": "scattergeo"
        },
        {
         "lat": [
          -35.675147,
          60.128161
         ],
         "line": {
          "color": "blue",
          "width": 1
         },
         "locationmode": "ISO-3",
         "lon": [
          -71.542969,
          18.643501
         ],
         "mode": "lines",
         "opacity": 0.6,
         "type": "scattergeo"
        },
        {
         "lat": [
          -35.675147,
          -1.831239
         ],
         "line": {
          "color": "blue",
          "width": 1
         },
         "locationmode": "ISO-3",
         "lon": [
          -71.542969,
          -78.183406
         ],
         "mode": "lines",
         "opacity": 0.6,
         "type": "scattergeo"
        },
        {
         "lat": [
          -35.675147,
          15.783471
         ],
         "line": {
          "color": "blue",
          "width": 1
         },
         "locationmode": "ISO-3",
         "lon": [
          -71.542969,
          -90.230759
         ],
         "mode": "lines",
         "opacity": 0.6,
         "type": "scattergeo"
        },
        {
         "lat": [
          9.748917,
          15.783471
         ],
         "line": {
          "color": "blue",
          "width": 1
         },
         "locationmode": "ISO-3",
         "lon": [
          -83.753428,
          -90.230759
         ],
         "mode": "lines",
         "opacity": 0.6,
         "type": "scattergeo"
        },
        {
         "lat": [
          9.748917,
          -38.416097
         ],
         "line": {
          "color": "blue",
          "width": 1
         },
         "locationmode": "ISO-3",
         "lon": [
          -83.753428,
          -63.616672
         ],
         "mode": "lines",
         "opacity": 0.6,
         "type": "scattergeo"
        },
        {
         "lat": [
          9.748917,
          35.126413
         ],
         "line": {
          "color": "blue",
          "width": 1
         },
         "locationmode": "ISO-3",
         "lon": [
          -83.753428,
          33.429859
         ],
         "mode": "lines",
         "opacity": 0.6,
         "type": "scattergeo"
        },
        {
         "lat": [
          9.748917,
          9.748917
         ],
         "line": {
          "color": "blue",
          "width": 1
         },
         "locationmode": "ISO-3",
         "lon": [
          -83.753428,
          -83.753428
         ],
         "mode": "lines",
         "opacity": 0.6,
         "type": "scattergeo"
        },
        {
         "lat": [
          9.748917,
          60.472024
         ],
         "line": {
          "color": "blue",
          "width": 1
         },
         "locationmode": "ISO-3",
         "lon": [
          -83.753428,
          8.468946
         ],
         "mode": "lines",
         "opacity": 0.6,
         "type": "scattergeo"
        },
        {
         "lat": [
          9.748917,
          4.570868
         ],
         "line": {
          "color": "blue",
          "width": 1
         },
         "locationmode": "ISO-3",
         "lon": [
          -83.753428,
          -74.297333
         ],
         "mode": "lines",
         "opacity": 0.6,
         "type": "scattergeo"
        },
        {
         "lat": [
          9.748917,
          37.09024
         ],
         "line": {
          "color": "blue",
          "width": 1
         },
         "locationmode": "ISO-3",
         "lon": [
          -83.753428,
          -95.712891
         ],
         "mode": "lines",
         "opacity": 0.6,
         "type": "scattergeo"
        },
        {
         "lat": [
          9.748917,
          13.794185
         ],
         "line": {
          "color": "blue",
          "width": 1
         },
         "locationmode": "ISO-3",
         "lon": [
          -83.753428,
          -88.89653
         ],
         "mode": "lines",
         "opacity": 0.6,
         "type": "scattergeo"
        },
        {
         "lat": [
          9.748917,
          -32.522779
         ],
         "line": {
          "color": "blue",
          "width": 1
         },
         "locationmode": "ISO-3",
         "lon": [
          -83.753428,
          -55.765835
         ],
         "mode": "lines",
         "opacity": 0.6,
         "type": "scattergeo"
        },
        {
         "lat": [
          33.854721,
          41.608635
         ],
         "line": {
          "color": "blue",
          "width": 1
         },
         "locationmode": "ISO-3",
         "lon": [
          35.862285,
          21.745275
         ],
         "mode": "lines",
         "opacity": 0.6,
         "type": "scattergeo"
        },
        {
         "lat": [
          33.854721,
          33.854721
         ],
         "line": {
          "color": "blue",
          "width": 1
         },
         "locationmode": "ISO-3",
         "lon": [
          35.862285,
          35.862285
         ],
         "mode": "lines",
         "opacity": 0.6,
         "type": "scattergeo"
        },
        {
         "lat": [
          33.854721,
          23.424076
         ],
         "line": {
          "color": "blue",
          "width": 1
         },
         "locationmode": "ISO-3",
         "lon": [
          35.862285,
          53.847818
         ],
         "mode": "lines",
         "opacity": 0.6,
         "type": "scattergeo"
        },
        {
         "lat": [
          33.854721,
          23.885942
         ],
         "line": {
          "color": "blue",
          "width": 1
         },
         "locationmode": "ISO-3",
         "lon": [
          35.862285,
          45.079162
         ],
         "mode": "lines",
         "opacity": 0.6,
         "type": "scattergeo"
        },
        {
         "lat": [
          33.854721,
          40.069099
         ],
         "line": {
          "color": "blue",
          "width": 1
         },
         "locationmode": "ISO-3",
         "lon": [
          35.862285,
          45.038189
         ],
         "mode": "lines",
         "opacity": 0.6,
         "type": "scattergeo"
        },
        {
         "lat": [
          35.937496,
          49.817492
         ],
         "line": {
          "color": "blue",
          "width": 1
         },
         "locationmode": "ISO-3",
         "lon": [
          14.375416,
          15.472962
         ],
         "mode": "lines",
         "opacity": 0.6,
         "type": "scattergeo"
        },
        {
         "lat": [
          35.937496,
          43.915886
         ],
         "line": {
          "color": "blue",
          "width": 1
         },
         "locationmode": "ISO-3",
         "lon": [
          14.375416,
          17.679076
         ],
         "mode": "lines",
         "opacity": 0.6,
         "type": "scattergeo"
        },
        {
         "lat": [
          35.937496,
          46.227638
         ],
         "line": {
          "color": "blue",
          "width": 1
         },
         "locationmode": "ISO-3",
         "lon": [
          14.375416,
          2.213749
         ],
         "mode": "lines",
         "opacity": 0.6,
         "type": "scattergeo"
        },
        {
         "lat": [
          35.937496,
          35.937496
         ],
         "line": {
          "color": "blue",
          "width": 1
         },
         "locationmode": "ISO-3",
         "lon": [
          14.375416,
          14.375416
         ],
         "mode": "lines",
         "opacity": 0.6,
         "type": "scattergeo"
        },
        {
         "lat": [
          23.885942,
          55.378051
         ],
         "line": {
          "color": "blue",
          "width": 1
         },
         "locationmode": "ISO-3",
         "lon": [
          45.079162,
          -3.435973
         ],
         "mode": "lines",
         "opacity": 0.6,
         "type": "scattergeo"
        },
        {
         "lat": [
          23.885942,
          39.399872
         ],
         "line": {
          "color": "blue",
          "width": 1
         },
         "locationmode": "ISO-3",
         "lon": [
          45.079162,
          -8.224454
         ],
         "mode": "lines",
         "opacity": 0.6,
         "type": "scattergeo"
        },
        {
         "lat": [
          23.885942,
          -14.235004
         ],
         "line": {
          "color": "blue",
          "width": 1
         },
         "locationmode": "ISO-3",
         "lon": [
          45.079162,
          -51.92528
         ],
         "mode": "lines",
         "opacity": 0.6,
         "type": "scattergeo"
        },
        {
         "lat": [
          23.885942,
          23.885942
         ],
         "line": {
          "color": "blue",
          "width": 1
         },
         "locationmode": "ISO-3",
         "lon": [
          45.079162,
          45.079162
         ],
         "mode": "lines",
         "opacity": 0.6,
         "type": "scattergeo"
        },
        {
         "lat": [
          23.885942,
          25.354826
         ],
         "line": {
          "color": "blue",
          "width": 1
         },
         "locationmode": "ISO-3",
         "lon": [
          45.079162,
          51.183884
         ],
         "mode": "lines",
         "opacity": 0.6,
         "type": "scattergeo"
        },
        {
         "lat": [
          23.885942,
          51.165691
         ],
         "line": {
          "color": "blue",
          "width": 1
         },
         "locationmode": "ISO-3",
         "lon": [
          45.079162,
          10.451526
         ],
         "mode": "lines",
         "opacity": 0.6,
         "type": "scattergeo"
        },
        {
         "lat": [
          23.885942,
          46.227638
         ],
         "line": {
          "color": "blue",
          "width": 1
         },
         "locationmode": "ISO-3",
         "lon": [
          45.079162,
          2.213749
         ],
         "mode": "lines",
         "opacity": 0.6,
         "type": "scattergeo"
        },
        {
         "lat": [
          23.885942,
          31.791702
         ],
         "line": {
          "color": "blue",
          "width": 1
         },
         "locationmode": "ISO-3",
         "lon": [
          45.079162,
          -7.09262
         ],
         "mode": "lines",
         "opacity": 0.6,
         "type": "scattergeo"
        },
        {
         "lat": [
          23.885942,
          4.570868
         ],
         "line": {
          "color": "blue",
          "width": 1
         },
         "locationmode": "ISO-3",
         "lon": [
          45.079162,
          -74.297333
         ],
         "mode": "lines",
         "opacity": 0.6,
         "type": "scattergeo"
        },
        {
         "lat": [
          23.885942,
          35.907757
         ],
         "line": {
          "color": "blue",
          "width": 1
         },
         "locationmode": "ISO-3",
         "lon": [
          45.079162,
          127.766922
         ],
         "mode": "lines",
         "opacity": 0.6,
         "type": "scattergeo"
        },
        {
         "lat": [
          23.885942,
          9.081999
         ],
         "line": {
          "color": "blue",
          "width": 1
         },
         "locationmode": "ISO-3",
         "lon": [
          45.079162,
          8.675277
         ],
         "mode": "lines",
         "opacity": 0.6,
         "type": "scattergeo"
        },
        {
         "lat": [
          23.885942,
          33.886917
         ],
         "line": {
          "color": "blue",
          "width": 1
         },
         "locationmode": "ISO-3",
         "lon": [
          45.079162,
          9.537499
         ],
         "mode": "lines",
         "opacity": 0.6,
         "type": "scattergeo"
        },
        {
         "lat": [
          23.424076,
          55.378051
         ],
         "line": {
          "color": "blue",
          "width": 1
         },
         "locationmode": "ISO-3",
         "lon": [
          53.847818,
          -3.435973
         ],
         "mode": "lines",
         "opacity": 0.6,
         "type": "scattergeo"
        },
        {
         "lat": [
          23.424076,
          51.165691
         ],
         "line": {
          "color": "blue",
          "width": 1
         },
         "locationmode": "ISO-3",
         "lon": [
          53.847818,
          10.451526
         ],
         "mode": "lines",
         "opacity": 0.6,
         "type": "scattergeo"
        },
        {
         "lat": [
          23.424076,
          32.427908
         ],
         "line": {
          "color": "blue",
          "width": 1
         },
         "locationmode": "ISO-3",
         "lon": [
          53.847818,
          53.688046
         ],
         "mode": "lines",
         "opacity": 0.6,
         "type": "scattergeo"
        },
        {
         "lat": [
          23.424076,
          39.399872
         ],
         "line": {
          "color": "blue",
          "width": 1
         },
         "locationmode": "ISO-3",
         "lon": [
          53.847818,
          -8.224454
         ],
         "mode": "lines",
         "opacity": 0.6,
         "type": "scattergeo"
        },
        {
         "lat": [
          23.424076,
          23.424076
         ],
         "line": {
          "color": "blue",
          "width": 1
         },
         "locationmode": "ISO-3",
         "lon": [
          53.847818,
          53.847818
         ],
         "mode": "lines",
         "opacity": 0.6,
         "type": "scattergeo"
        },
        {
         "lat": [
          23.424076,
          -14.235004
         ],
         "line": {
          "color": "blue",
          "width": 1
         },
         "locationmode": "ISO-3",
         "lon": [
          53.847818,
          -51.92528
         ],
         "mode": "lines",
         "opacity": 0.6,
         "type": "scattergeo"
        },
        {
         "lat": [
          23.424076,
          46.227638
         ],
         "line": {
          "color": "blue",
          "width": 1
         },
         "locationmode": "ISO-3",
         "lon": [
          53.847818,
          2.213749
         ],
         "mode": "lines",
         "opacity": 0.6,
         "type": "scattergeo"
        },
        {
         "lat": [
          23.424076,
          25.354826
         ],
         "line": {
          "color": "blue",
          "width": 1
         },
         "locationmode": "ISO-3",
         "lon": [
          53.847818,
          51.183884
         ],
         "mode": "lines",
         "opacity": 0.6,
         "type": "scattergeo"
        },
        {
         "lat": [
          23.424076,
          8.537981
         ],
         "line": {
          "color": "blue",
          "width": 1
         },
         "locationmode": "ISO-3",
         "lon": [
          53.847818,
          -80.782127
         ],
         "mode": "lines",
         "opacity": 0.6,
         "type": "scattergeo"
        },
        {
         "lat": [
          23.424076,
          28.033886
         ],
         "line": {
          "color": "blue",
          "width": 1
         },
         "locationmode": "ISO-3",
         "lon": [
          53.847818,
          1.659626
         ],
         "mode": "lines",
         "opacity": 0.6,
         "type": "scattergeo"
        },
        {
         "lat": [
          23.424076,
          23.634501
         ],
         "line": {
          "color": "blue",
          "width": 1
         },
         "locationmode": "ISO-3",
         "lon": [
          53.847818,
          -102.552784
         ],
         "mode": "lines",
         "opacity": 0.6,
         "type": "scattergeo"
        },
        {
         "lat": [
          23.424076,
          31.791702
         ],
         "line": {
          "color": "blue",
          "width": 1
         },
         "locationmode": "ISO-3",
         "lon": [
          53.847818,
          -7.09262
         ],
         "mode": "lines",
         "opacity": 0.6,
         "type": "scattergeo"
        },
        {
         "lat": [
          53.41291,
          53.41291
         ],
         "line": {
          "color": "blue",
          "width": 1
         },
         "locationmode": "ISO-3",
         "lon": [
          -8.24389,
          -8.24389
         ],
         "mode": "lines",
         "opacity": 0.6,
         "type": "scattergeo"
        },
        {
         "lat": [
          53.41291,
          55.378051
         ],
         "line": {
          "color": "blue",
          "width": 1
         },
         "locationmode": "ISO-3",
         "lon": [
          -8.24389,
          -3.435973
         ],
         "mode": "lines",
         "opacity": 0.6,
         "type": "scattergeo"
        },
        {
         "lat": [
          53.41291,
          -38.416097
         ],
         "line": {
          "color": "blue",
          "width": 1
         },
         "locationmode": "ISO-3",
         "lon": [
          -8.24389,
          -63.616672
         ],
         "mode": "lines",
         "opacity": 0.6,
         "type": "scattergeo"
        },
        {
         "lat": [
          53.41291,
          50.503887
         ],
         "line": {
          "color": "blue",
          "width": 1
         },
         "locationmode": "ISO-3",
         "lon": [
          -8.24389,
          4.469936
         ],
         "mode": "lines",
         "opacity": 0.6,
         "type": "scattergeo"
        },
        {
         "lat": [
          53.41291,
          60.472024
         ],
         "line": {
          "color": "blue",
          "width": 1
         },
         "locationmode": "ISO-3",
         "lon": [
          -8.24389,
          8.468946
         ],
         "mode": "lines",
         "opacity": 0.6,
         "type": "scattergeo"
        },
        {
         "lat": [
          53.41291,
          -25.274398
         ],
         "line": {
          "color": "blue",
          "width": 1
         },
         "locationmode": "ISO-3",
         "lon": [
          -8.24389,
          133.775136
         ],
         "mode": "lines",
         "opacity": 0.6,
         "type": "scattergeo"
        },
        {
         "lat": [
          53.41291,
          61.52401
         ],
         "line": {
          "color": "blue",
          "width": 1
         },
         "locationmode": "ISO-3",
         "lon": [
          -8.24389,
          105.318756
         ],
         "mode": "lines",
         "opacity": 0.6,
         "type": "scattergeo"
        },
        {
         "lat": [
          31.791702,
          31.791702
         ],
         "line": {
          "color": "blue",
          "width": 1
         },
         "locationmode": "ISO-3",
         "lon": [
          -7.09262,
          -7.09262
         ],
         "mode": "lines",
         "opacity": 0.6,
         "type": "scattergeo"
        },
        {
         "lat": [
          31.791702,
          46.227638
         ],
         "line": {
          "color": "blue",
          "width": 1
         },
         "locationmode": "ISO-3",
         "lon": [
          -7.09262,
          2.213749
         ],
         "mode": "lines",
         "opacity": 0.6,
         "type": "scattergeo"
        },
        {
         "lat": [
          31.791702,
          60.472024
         ],
         "line": {
          "color": "blue",
          "width": 1
         },
         "locationmode": "ISO-3",
         "lon": [
          -7.09262,
          8.468946
         ],
         "mode": "lines",
         "opacity": 0.6,
         "type": "scattergeo"
        },
        {
         "lat": [
          31.791702,
          25.354826
         ],
         "line": {
          "color": "blue",
          "width": 1
         },
         "locationmode": "ISO-3",
         "lon": [
          -7.09262,
          51.183884
         ],
         "mode": "lines",
         "opacity": 0.6,
         "type": "scattergeo"
        },
        {
         "lat": [
          31.791702,
          23.885942
         ],
         "line": {
          "color": "blue",
          "width": 1
         },
         "locationmode": "ISO-3",
         "lon": [
          -7.09262,
          45.079162
         ],
         "mode": "lines",
         "opacity": 0.6,
         "type": "scattergeo"
        },
        {
         "lat": [
          31.791702,
          33.886917
         ],
         "line": {
          "color": "blue",
          "width": 1
         },
         "locationmode": "ISO-3",
         "lon": [
          -7.09262,
          9.537499
         ],
         "mode": "lines",
         "opacity": 0.6,
         "type": "scattergeo"
        },
        {
         "lat": [
          41.153332,
          39.074208
         ],
         "line": {
          "color": "blue",
          "width": 1
         },
         "locationmode": "ISO-3",
         "lon": [
          20.168331,
          21.824312
         ],
         "mode": "lines",
         "opacity": 0.6,
         "type": "scattergeo"
        },
        {
         "lat": [
          41.153332,
          41.153332
         ],
         "line": {
          "color": "blue",
          "width": 1
         },
         "locationmode": "ISO-3",
         "lon": [
          20.168331,
          20.168331
         ],
         "mode": "lines",
         "opacity": 0.6,
         "type": "scattergeo"
        },
        {
         "lat": [
          41.153332,
          51.919438
         ],
         "line": {
          "color": "blue",
          "width": 1
         },
         "locationmode": "ISO-3",
         "lon": [
          20.168331,
          19.145136
         ],
         "mode": "lines",
         "opacity": 0.6,
         "type": "scattergeo"
        },
        {
         "lat": [
          41.153332,
          46.818188
         ],
         "line": {
          "color": "blue",
          "width": 1
         },
         "locationmode": "ISO-3",
         "lon": [
          20.168331,
          8.227512
         ],
         "mode": "lines",
         "opacity": 0.6,
         "type": "scattergeo"
        },
        {
         "lat": [
          41.153332,
          60.472024
         ],
         "line": {
          "color": "blue",
          "width": 1
         },
         "locationmode": "ISO-3",
         "lon": [
          20.168331,
          8.468946
         ],
         "mode": "lines",
         "opacity": 0.6,
         "type": "scattergeo"
        },
        {
         "lat": [
          41.153332,
          -38.416097
         ],
         "line": {
          "color": "blue",
          "width": 1
         },
         "locationmode": "ISO-3",
         "lon": [
          20.168331,
          -63.616672
         ],
         "mode": "lines",
         "opacity": 0.6,
         "type": "scattergeo"
        },
        {
         "lat": [
          41.153332,
          42.733883
         ],
         "line": {
          "color": "blue",
          "width": 1
         },
         "locationmode": "ISO-3",
         "lon": [
          20.168331,
          25.48583
         ],
         "mode": "lines",
         "opacity": 0.6,
         "type": "scattergeo"
        },
        {
         "lat": [
          41.153332,
          47.162494
         ],
         "line": {
          "color": "blue",
          "width": 1
         },
         "locationmode": "ISO-3",
         "lon": [
          20.168331,
          19.503304
         ],
         "mode": "lines",
         "opacity": 0.6,
         "type": "scattergeo"
        },
        {
         "lat": [
          -30.559482,
          55.378051
         ],
         "line": {
          "color": "blue",
          "width": 1
         },
         "locationmode": "ISO-3",
         "lon": [
          22.937506,
          -3.435973
         ],
         "mode": "lines",
         "opacity": 0.6,
         "type": "scattergeo"
        },
        {
         "lat": [
          -30.559482,
          46.227638
         ],
         "line": {
          "color": "blue",
          "width": 1
         },
         "locationmode": "ISO-3",
         "lon": [
          22.937506,
          2.213749
         ],
         "mode": "lines",
         "opacity": 0.6,
         "type": "scattergeo"
        },
        {
         "lat": [
          -30.559482,
          -30.559482
         ],
         "line": {
          "color": "blue",
          "width": 1
         },
         "locationmode": "ISO-3",
         "lon": [
          22.937506,
          22.937506
         ],
         "mode": "lines",
         "opacity": 0.6,
         "type": "scattergeo"
        },
        {
         "lat": [
          -30.559482,
          60.128161
         ],
         "line": {
          "color": "blue",
          "width": 1
         },
         "locationmode": "ISO-3",
         "lon": [
          22.937506,
          18.643501
         ],
         "mode": "lines",
         "opacity": 0.6,
         "type": "scattergeo"
        },
        {
         "lat": [
          32.427908,
          32.427908
         ],
         "line": {
          "color": "blue",
          "width": 1
         },
         "locationmode": "ISO-3",
         "lon": [
          53.688046,
          53.688046
         ],
         "mode": "lines",
         "opacity": 0.6,
         "type": "scattergeo"
        },
        {
         "lat": [
          32.427908,
          47.516231
         ],
         "line": {
          "color": "blue",
          "width": 1
         },
         "locationmode": "ISO-3",
         "lon": [
          53.688046,
          14.550072
         ],
         "mode": "lines",
         "opacity": 0.6,
         "type": "scattergeo"
        },
        {
         "lat": [
          32.427908,
          45.1
         ],
         "line": {
          "color": "blue",
          "width": 1
         },
         "locationmode": "ISO-3",
         "lon": [
          53.688046,
          15.2
         ],
         "mode": "lines",
         "opacity": 0.6,
         "type": "scattergeo"
        },
        {
         "lat": [
          32.427908,
          15.199999
         ],
         "line": {
          "color": "blue",
          "width": 1
         },
         "locationmode": "ISO-3",
         "lon": [
          53.688046,
          -86.241905
         ],
         "mode": "lines",
         "opacity": 0.6,
         "type": "scattergeo"
        },
        {
         "lat": [
          32.427908,
          40.143105
         ],
         "line": {
          "color": "blue",
          "width": 1
         },
         "locationmode": "ISO-3",
         "lon": [
          53.688046,
          47.576927
         ],
         "mode": "lines",
         "opacity": 0.6,
         "type": "scattergeo"
        },
        {
         "lat": [
          32.427908,
          1.352083
         ],
         "line": {
          "color": "blue",
          "width": 1
         },
         "locationmode": "ISO-3",
         "lon": [
          53.688046,
          103.819836
         ],
         "mode": "lines",
         "opacity": 0.6,
         "type": "scattergeo"
        },
        {
         "lat": [
          -23.442503,
          -23.442503
         ],
         "line": {
          "color": "blue",
          "width": 1
         },
         "locationmode": "ISO-3",
         "lon": [
          -58.443832,
          -58.443832
         ],
         "mode": "lines",
         "opacity": 0.6,
         "type": "scattergeo"
        },
        {
         "lat": [
          -23.442503,
          -32.522779
         ],
         "line": {
          "color": "blue",
          "width": 1
         },
         "locationmode": "ISO-3",
         "lon": [
          -58.443832,
          -55.765835
         ],
         "mode": "lines",
         "opacity": 0.6,
         "type": "scattergeo"
        },
        {
         "lat": [
          -23.442503,
          -38.416097
         ],
         "line": {
          "color": "blue",
          "width": 1
         },
         "locationmode": "ISO-3",
         "lon": [
          -58.443832,
          -63.616672
         ],
         "mode": "lines",
         "opacity": 0.6,
         "type": "scattergeo"
        },
        {
         "lat": [
          -23.442503,
          41.87194
         ],
         "line": {
          "color": "blue",
          "width": 1
         },
         "locationmode": "ISO-3",
         "lon": [
          -58.443832,
          12.56738
         ],
         "mode": "lines",
         "opacity": 0.6,
         "type": "scattergeo"
        },
        {
         "lat": [
          -23.442503,
          4.570868
         ],
         "line": {
          "color": "blue",
          "width": 1
         },
         "locationmode": "ISO-3",
         "lon": [
          -58.443832,
          -74.297333
         ],
         "mode": "lines",
         "opacity": 0.6,
         "type": "scattergeo"
        },
        {
         "lat": [
          -23.442503,
          40.463667
         ],
         "line": {
          "color": "blue",
          "width": 1
         },
         "locationmode": "ISO-3",
         "lon": [
          -58.443832,
          -3.74922
         ],
         "mode": "lines",
         "opacity": 0.6,
         "type": "scattergeo"
        },
        {
         "lat": [
          -23.442503,
          51.165691
         ],
         "line": {
          "color": "blue",
          "width": 1
         },
         "locationmode": "ISO-3",
         "lon": [
          -58.443832,
          10.451526
         ],
         "mode": "lines",
         "opacity": 0.6,
         "type": "scattergeo"
        },
        {
         "lat": [
          -23.442503,
          -16.290154
         ],
         "line": {
          "color": "blue",
          "width": 1
         },
         "locationmode": "ISO-3",
         "lon": [
          -58.443832,
          -63.588653
         ],
         "mode": "lines",
         "opacity": 0.6,
         "type": "scattergeo"
        },
        {
         "lat": [
          -23.442503,
          39.399872
         ],
         "line": {
          "color": "blue",
          "width": 1
         },
         "locationmode": "ISO-3",
         "lon": [
          -58.443832,
          -8.224454
         ],
         "mode": "lines",
         "opacity": 0.6,
         "type": "scattergeo"
        },
        {
         "lat": [
          -23.442503,
          46.818188
         ],
         "line": {
          "color": "blue",
          "width": 1
         },
         "locationmode": "ISO-3",
         "lon": [
          -58.443832,
          8.227512
         ],
         "mode": "lines",
         "opacity": 0.6,
         "type": "scattergeo"
        },
        {
         "lat": [
          -23.442503,
          51.919438
         ],
         "line": {
          "color": "blue",
          "width": 1
         },
         "locationmode": "ISO-3",
         "lon": [
          -58.443832,
          19.145136
         ],
         "mode": "lines",
         "opacity": 0.6,
         "type": "scattergeo"
        },
        {
         "lat": [
          -23.442503,
          -14.235004
         ],
         "line": {
          "color": "blue",
          "width": 1
         },
         "locationmode": "ISO-3",
         "lon": [
          -58.443832,
          -51.92528
         ],
         "mode": "lines",
         "opacity": 0.6,
         "type": "scattergeo"
        },
        {
         "lat": [
          -23.442503,
          36.204824
         ],
         "line": {
          "color": "blue",
          "width": 1
         },
         "locationmode": "ISO-3",
         "lon": [
          -58.443832,
          138.252924
         ],
         "mode": "lines",
         "opacity": 0.6,
         "type": "scattergeo"
        },
        {
         "lat": [
          -23.442503,
          -35.675147
         ],
         "line": {
          "color": "blue",
          "width": 1
         },
         "locationmode": "ISO-3",
         "lon": [
          -58.443832,
          -71.542969
         ],
         "mode": "lines",
         "opacity": 0.6,
         "type": "scattergeo"
        },
        {
         "lat": [
          -23.442503,
          -9.189967
         ],
         "line": {
          "color": "blue",
          "width": 1
         },
         "locationmode": "ISO-3",
         "lon": [
          -58.443832,
          -75.015152
         ],
         "mode": "lines",
         "opacity": 0.6,
         "type": "scattergeo"
        },
        {
         "lat": [
          -23.442503,
          23.634501
         ],
         "line": {
          "color": "blue",
          "width": 1
         },
         "locationmode": "ISO-3",
         "lon": [
          -58.443832,
          -102.552784
         ],
         "mode": "lines",
         "opacity": 0.6,
         "type": "scattergeo"
        },
        {
         "lat": [
          -23.442503,
          8.537981
         ],
         "line": {
          "color": "blue",
          "width": 1
         },
         "locationmode": "ISO-3",
         "lon": [
          -58.443832,
          -80.782127
         ],
         "mode": "lines",
         "opacity": 0.6,
         "type": "scattergeo"
        },
        {
         "lat": [
          -23.442503,
          6.42375
         ],
         "line": {
          "color": "blue",
          "width": 1
         },
         "locationmode": "ISO-3",
         "lon": [
          -58.443832,
          -66.58973
         ],
         "mode": "lines",
         "opacity": 0.6,
         "type": "scattergeo"
        },
        {
         "lat": [
          -23.442503,
          22.396428
         ],
         "line": {
          "color": "blue",
          "width": 1
         },
         "locationmode": "ISO-3",
         "lon": [
          -58.443832,
          114.109497
         ],
         "mode": "lines",
         "opacity": 0.6,
         "type": "scattergeo"
        },
        {
         "lat": [
          -23.442503,
          -0.789275
         ],
         "line": {
          "color": "blue",
          "width": 1
         },
         "locationmode": "ISO-3",
         "lon": [
          -58.443832,
          113.921327
         ],
         "mode": "lines",
         "opacity": 0.6,
         "type": "scattergeo"
        },
        {
         "lat": [
          28.033886,
          46.227638
         ],
         "line": {
          "color": "blue",
          "width": 1
         },
         "locationmode": "ISO-3",
         "lon": [
          1.659626,
          2.213749
         ],
         "mode": "lines",
         "opacity": 0.6,
         "type": "scattergeo"
        },
        {
         "lat": [
          28.033886,
          33.886917
         ],
         "line": {
          "color": "blue",
          "width": 1
         },
         "locationmode": "ISO-3",
         "lon": [
          1.659626,
          9.537499
         ],
         "mode": "lines",
         "opacity": 0.6,
         "type": "scattergeo"
        },
        {
         "lat": [
          28.033886,
          28.033886
         ],
         "line": {
          "color": "blue",
          "width": 1
         },
         "locationmode": "ISO-3",
         "lon": [
          1.659626,
          1.659626
         ],
         "mode": "lines",
         "opacity": 0.6,
         "type": "scattergeo"
        },
        {
         "lat": [
          1.352083,
          51.919438
         ],
         "line": {
          "color": "blue",
          "width": 1
         },
         "locationmode": "ISO-3",
         "lon": [
          103.819836,
          19.145136
         ],
         "mode": "lines",
         "opacity": 0.6,
         "type": "scattergeo"
        },
        {
         "lat": [
          1.352083,
          56.26392
         ],
         "line": {
          "color": "blue",
          "width": 1
         },
         "locationmode": "ISO-3",
         "lon": [
          103.819836,
          9.501785
         ],
         "mode": "lines",
         "opacity": 0.6,
         "type": "scattergeo"
        },
        {
         "lat": [
          1.352083,
          1.352083
         ],
         "line": {
          "color": "blue",
          "width": 1
         },
         "locationmode": "ISO-3",
         "lon": [
          103.819836,
          103.819836
         ],
         "mode": "lines",
         "opacity": 0.6,
         "type": "scattergeo"
        },
        {
         "lat": [
          1.352083,
          -30.559482
         ],
         "line": {
          "color": "blue",
          "width": 1
         },
         "locationmode": "ISO-3",
         "lon": [
          103.819836,
          22.937506
         ],
         "mode": "lines",
         "opacity": 0.6,
         "type": "scattergeo"
        },
        {
         "lat": [
          1.352083,
          36.204824
         ],
         "line": {
          "color": "blue",
          "width": 1
         },
         "locationmode": "ISO-3",
         "lon": [
          103.819836,
          138.252924
         ],
         "mode": "lines",
         "opacity": 0.6,
         "type": "scattergeo"
        },
        {
         "lat": [
          1.352083,
          4.210484
         ],
         "line": {
          "color": "blue",
          "width": 1
         },
         "locationmode": "ISO-3",
         "lon": [
          103.819836,
          101.975766
         ],
         "mode": "lines",
         "opacity": 0.6,
         "type": "scattergeo"
        },
        {
         "lat": [
          1.352083,
          32.427908
         ],
         "line": {
          "color": "blue",
          "width": 1
         },
         "locationmode": "ISO-3",
         "lon": [
          103.819836,
          53.688046
         ],
         "mode": "lines",
         "opacity": 0.6,
         "type": "scattergeo"
        },
        {
         "lat": [
          1.352083,
          -25.274398
         ],
         "line": {
          "color": "blue",
          "width": 1
         },
         "locationmode": "ISO-3",
         "lon": [
          103.819836,
          133.775136
         ],
         "mode": "lines",
         "opacity": 0.6,
         "type": "scattergeo"
        },
        {
         "lat": [
          18.109581,
          60.128161
         ],
         "line": {
          "color": "blue",
          "width": 1
         },
         "locationmode": "ISO-3",
         "lon": [
          -77.297508,
          18.643501
         ],
         "mode": "lines",
         "opacity": 0.6,
         "type": "scattergeo"
        },
        {
         "lat": [
          18.109581,
          37.09024
         ],
         "line": {
          "color": "blue",
          "width": 1
         },
         "locationmode": "ISO-3",
         "lon": [
          -77.297508,
          -95.712891
         ],
         "mode": "lines",
         "opacity": 0.6,
         "type": "scattergeo"
        },
        {
         "lat": [
          18.109581,
          55.378051
         ],
         "line": {
          "color": "blue",
          "width": 1
         },
         "locationmode": "ISO-3",
         "lon": [
          -77.297508,
          -3.435973
         ],
         "mode": "lines",
         "opacity": 0.6,
         "type": "scattergeo"
        },
        {
         "lat": [
          18.109581,
          18.109581
         ],
         "line": {
          "color": "blue",
          "width": 1
         },
         "locationmode": "ISO-3",
         "lon": [
          -77.297508,
          -77.297508
         ],
         "mode": "lines",
         "opacity": 0.6,
         "type": "scattergeo"
        },
        {
         "lat": [
          6.42375,
          38.963745
         ],
         "line": {
          "color": "blue",
          "width": 1
         },
         "locationmode": "ISO-3",
         "lon": [
          -66.58973,
          35.243322
         ],
         "mode": "lines",
         "opacity": 0.6,
         "type": "scattergeo"
        },
        {
         "lat": [
          6.42375,
          4.570868
         ],
         "line": {
          "color": "blue",
          "width": 1
         },
         "locationmode": "ISO-3",
         "lon": [
          -66.58973,
          -74.297333
         ],
         "mode": "lines",
         "opacity": 0.6,
         "type": "scattergeo"
        },
        {
         "lat": [
          6.42375,
          -38.416097
         ],
         "line": {
          "color": "blue",
          "width": 1
         },
         "locationmode": "ISO-3",
         "lon": [
          -66.58973,
          -63.616672
         ],
         "mode": "lines",
         "opacity": 0.6,
         "type": "scattergeo"
        },
        {
         "lat": [
          6.42375,
          -35.675147
         ],
         "line": {
          "color": "blue",
          "width": 1
         },
         "locationmode": "ISO-3",
         "lon": [
          -66.58973,
          -71.542969
         ],
         "mode": "lines",
         "opacity": 0.6,
         "type": "scattergeo"
        },
        {
         "lat": [
          6.42375,
          6.42375
         ],
         "line": {
          "color": "blue",
          "width": 1
         },
         "locationmode": "ISO-3",
         "lon": [
          -66.58973,
          -66.58973
         ],
         "mode": "lines",
         "opacity": 0.6,
         "type": "scattergeo"
        },
        {
         "lat": [
          6.42375,
          -30.559482
         ],
         "line": {
          "color": "blue",
          "width": 1
         },
         "locationmode": "ISO-3",
         "lon": [
          -66.58973,
          22.937506
         ],
         "mode": "lines",
         "opacity": 0.6,
         "type": "scattergeo"
        },
        {
         "lat": [
          6.42375,
          -32.522779
         ],
         "line": {
          "color": "blue",
          "width": 1
         },
         "locationmode": "ISO-3",
         "lon": [
          -66.58973,
          -55.765835
         ],
         "mode": "lines",
         "opacity": 0.6,
         "type": "scattergeo"
        },
        {
         "lat": [
          6.42375,
          -23.442503
         ],
         "line": {
          "color": "blue",
          "width": 1
         },
         "locationmode": "ISO-3",
         "lon": [
          -66.58973,
          -58.443832
         ],
         "mode": "lines",
         "opacity": 0.6,
         "type": "scattergeo"
        },
        {
         "lat": [
          6.42375,
          -16.290154
         ],
         "line": {
          "color": "blue",
          "width": 1
         },
         "locationmode": "ISO-3",
         "lon": [
          -66.58973,
          -63.588653
         ],
         "mode": "lines",
         "opacity": 0.6,
         "type": "scattergeo"
        },
        {
         "lat": [
          6.42375,
          -9.189967
         ],
         "line": {
          "color": "blue",
          "width": 1
         },
         "locationmode": "ISO-3",
         "lon": [
          -66.58973,
          -75.015152
         ],
         "mode": "lines",
         "opacity": 0.6,
         "type": "scattergeo"
        },
        {
         "lat": [
          53.709807,
          61.52401
         ],
         "line": {
          "color": "blue",
          "width": 1
         },
         "locationmode": "ISO-3",
         "lon": [
          27.953389,
          105.318756
         ],
         "mode": "lines",
         "opacity": 0.6,
         "type": "scattergeo"
        },
        {
         "lat": [
          53.709807,
          53.709807
         ],
         "line": {
          "color": "blue",
          "width": 1
         },
         "locationmode": "ISO-3",
         "lon": [
          27.953389,
          27.953389
         ],
         "mode": "lines",
         "opacity": 0.6,
         "type": "scattergeo"
        },
        {
         "lat": [
          53.709807,
          31.046051
         ],
         "line": {
          "color": "blue",
          "width": 1
         },
         "locationmode": "ISO-3",
         "lon": [
          27.953389,
          34.851612
         ],
         "mode": "lines",
         "opacity": 0.6,
         "type": "scattergeo"
        },
        {
         "lat": [
          53.709807,
          42.733883
         ],
         "line": {
          "color": "blue",
          "width": 1
         },
         "locationmode": "ISO-3",
         "lon": [
          27.953389,
          25.48583
         ],
         "mode": "lines",
         "opacity": 0.6,
         "type": "scattergeo"
        },
        {
         "lat": [
          53.709807,
          48.019573
         ],
         "line": {
          "color": "blue",
          "width": 1
         },
         "locationmode": "ISO-3",
         "lon": [
          27.953389,
          66.923684
         ],
         "mode": "lines",
         "opacity": 0.6,
         "type": "scattergeo"
        },
        {
         "lat": [
          53.709807,
          48.379433
         ],
         "line": {
          "color": "blue",
          "width": 1
         },
         "locationmode": "ISO-3",
         "lon": [
          27.953389,
          31.16558
         ],
         "mode": "lines",
         "opacity": 0.6,
         "type": "scattergeo"
        },
        {
         "lat": [
          53.709807,
          51.919438
         ],
         "line": {
          "color": "blue",
          "width": 1
         },
         "locationmode": "ISO-3",
         "lon": [
          27.953389,
          19.145136
         ],
         "mode": "lines",
         "opacity": 0.6,
         "type": "scattergeo"
        },
        {
         "lat": [
          53.709807,
          40.069099
         ],
         "line": {
          "color": "blue",
          "width": 1
         },
         "locationmode": "ISO-3",
         "lon": [
          27.953389,
          45.038189
         ],
         "mode": "lines",
         "opacity": 0.6,
         "type": "scattergeo"
        },
        {
         "lat": [
          48.019573,
          48.019573
         ],
         "line": {
          "color": "blue",
          "width": 1
         },
         "locationmode": "ISO-3",
         "lon": [
          66.923684,
          66.923684
         ],
         "mode": "lines",
         "opacity": 0.6,
         "type": "scattergeo"
        },
        {
         "lat": [
          48.019573,
          42.733883
         ],
         "line": {
          "color": "blue",
          "width": 1
         },
         "locationmode": "ISO-3",
         "lon": [
          66.923684,
          25.48583
         ],
         "mode": "lines",
         "opacity": 0.6,
         "type": "scattergeo"
        },
        {
         "lat": [
          48.019573,
          42.315407
         ],
         "line": {
          "color": "blue",
          "width": 1
         },
         "locationmode": "ISO-3",
         "lon": [
          66.923684,
          43.356892
         ],
         "mode": "lines",
         "opacity": 0.6,
         "type": "scattergeo"
        },
        {
         "lat": [
          48.019573,
          61.52401
         ],
         "line": {
          "color": "blue",
          "width": 1
         },
         "locationmode": "ISO-3",
         "lon": [
          66.923684,
          105.318756
         ],
         "mode": "lines",
         "opacity": 0.6,
         "type": "scattergeo"
        },
        {
         "lat": [
          48.019573,
          53.709807
         ],
         "line": {
          "color": "blue",
          "width": 1
         },
         "locationmode": "ISO-3",
         "lon": [
          66.923684,
          27.953389
         ],
         "mode": "lines",
         "opacity": 0.6,
         "type": "scattergeo"
        },
        {
         "lat": [
          48.019573,
          41.377491
         ],
         "line": {
          "color": "blue",
          "width": 1
         },
         "locationmode": "ISO-3",
         "lon": [
          66.923684,
          64.585262
         ],
         "mode": "lines",
         "opacity": 0.6,
         "type": "scattergeo"
        },
        {
         "lat": [
          48.019573,
          61.92411
         ],
         "line": {
          "color": "blue",
          "width": 1
         },
         "locationmode": "ISO-3",
         "lon": [
          66.923684,
          25.748151
         ],
         "mode": "lines",
         "opacity": 0.6,
         "type": "scattergeo"
        },
        {
         "lat": [
          48.019573,
          55.169438
         ],
         "line": {
          "color": "blue",
          "width": 1
         },
         "locationmode": "ISO-3",
         "lon": [
          66.923684,
          23.881275
         ],
         "mode": "lines",
         "opacity": 0.6,
         "type": "scattergeo"
        },
        {
         "lat": [
          48.019573,
          48.379433
         ],
         "line": {
          "color": "blue",
          "width": 1
         },
         "locationmode": "ISO-3",
         "lon": [
          66.923684,
          31.16558
         ],
         "mode": "lines",
         "opacity": 0.6,
         "type": "scattergeo"
        },
        {
         "lat": [
          48.019573,
          48.669026
         ],
         "line": {
          "color": "blue",
          "width": 1
         },
         "locationmode": "ISO-3",
         "lon": [
          66.923684,
          19.699024
         ],
         "mode": "lines",
         "opacity": 0.6,
         "type": "scattergeo"
        },
        {
         "lat": [
          56.879635,
          56.879635
         ],
         "line": {
          "color": "blue",
          "width": 1
         },
         "locationmode": "ISO-3",
         "lon": [
          24.603189,
          24.603189
         ],
         "mode": "lines",
         "opacity": 0.6,
         "type": "scattergeo"
        },
        {
         "lat": [
          56.879635,
          61.52401
         ],
         "line": {
          "color": "blue",
          "width": 1
         },
         "locationmode": "ISO-3",
         "lon": [
          24.603189,
          105.318756
         ],
         "mode": "lines",
         "opacity": 0.6,
         "type": "scattergeo"
        },
        {
         "lat": [
          41.377491,
          61.52401
         ],
         "line": {
          "color": "blue",
          "width": 1
         },
         "locationmode": "ISO-3",
         "lon": [
          64.585262,
          105.318756
         ],
         "mode": "lines",
         "opacity": 0.6,
         "type": "scattergeo"
        },
        {
         "lat": [
          41.377491,
          48.379433
         ],
         "line": {
          "color": "blue",
          "width": 1
         },
         "locationmode": "ISO-3",
         "lon": [
          64.585262,
          31.16558
         ],
         "mode": "lines",
         "opacity": 0.6,
         "type": "scattergeo"
        },
        {
         "lat": [
          41.377491,
          41.377491
         ],
         "line": {
          "color": "blue",
          "width": 1
         },
         "locationmode": "ISO-3",
         "lon": [
          64.585262,
          64.585262
         ],
         "mode": "lines",
         "opacity": 0.6,
         "type": "scattergeo"
        },
        {
         "lat": [
          41.377491,
          42.315407
         ],
         "line": {
          "color": "blue",
          "width": 1
         },
         "locationmode": "ISO-3",
         "lon": [
          64.585262,
          43.356892
         ],
         "mode": "lines",
         "opacity": 0.6,
         "type": "scattergeo"
        },
        {
         "lat": [
          41.377491,
          48.019573
         ],
         "line": {
          "color": "blue",
          "width": 1
         },
         "locationmode": "ISO-3",
         "lon": [
          64.585262,
          66.923684
         ],
         "mode": "lines",
         "opacity": 0.6,
         "type": "scattergeo"
        },
        {
         "lat": [
          41.377491,
          61.92411
         ],
         "line": {
          "color": "blue",
          "width": 1
         },
         "locationmode": "ISO-3",
         "lon": [
          64.585262,
          25.748151
         ],
         "mode": "lines",
         "opacity": 0.6,
         "type": "scattergeo"
        },
        {
         "lat": [
          55.169438,
          49.817492
         ],
         "line": {
          "color": "blue",
          "width": 1
         },
         "locationmode": "ISO-3",
         "lon": [
          23.881275,
          15.472962
         ],
         "mode": "lines",
         "opacity": 0.6,
         "type": "scattergeo"
        },
        {
         "lat": [
          55.169438,
          55.169438
         ],
         "line": {
          "color": "blue",
          "width": 1
         },
         "locationmode": "ISO-3",
         "lon": [
          23.881275,
          23.881275
         ],
         "mode": "lines",
         "opacity": 0.6,
         "type": "scattergeo"
        },
        {
         "lat": [
          55.169438,
          51.919438
         ],
         "line": {
          "color": "blue",
          "width": 1
         },
         "locationmode": "ISO-3",
         "lon": [
          23.881275,
          19.145136
         ],
         "mode": "lines",
         "opacity": 0.6,
         "type": "scattergeo"
        },
        {
         "lat": [
          42.315407,
          48.379433
         ],
         "line": {
          "color": "blue",
          "width": 1
         },
         "locationmode": "ISO-3",
         "lon": [
          43.356892,
          31.16558
         ],
         "mode": "lines",
         "opacity": 0.6,
         "type": "scattergeo"
        },
        {
         "lat": [
          42.315407,
          51.165691
         ],
         "line": {
          "color": "blue",
          "width": 1
         },
         "locationmode": "ISO-3",
         "lon": [
          43.356892,
          10.451526
         ],
         "mode": "lines",
         "opacity": 0.6,
         "type": "scattergeo"
        },
        {
         "lat": [
          42.315407,
          35.126413
         ],
         "line": {
          "color": "blue",
          "width": 1
         },
         "locationmode": "ISO-3",
         "lon": [
          43.356892,
          33.429859
         ],
         "mode": "lines",
         "opacity": 0.6,
         "type": "scattergeo"
        },
        {
         "lat": [
          42.315407,
          32.427908
         ],
         "line": {
          "color": "blue",
          "width": 1
         },
         "locationmode": "ISO-3",
         "lon": [
          43.356892,
          53.688046
         ],
         "mode": "lines",
         "opacity": 0.6,
         "type": "scattergeo"
        },
        {
         "lat": [
          42.315407,
          42.315407
         ],
         "line": {
          "color": "blue",
          "width": 1
         },
         "locationmode": "ISO-3",
         "lon": [
          43.356892,
          43.356892
         ],
         "mode": "lines",
         "opacity": 0.6,
         "type": "scattergeo"
        },
        {
         "lat": [
          42.315407,
          60.472024
         ],
         "line": {
          "color": "blue",
          "width": 1
         },
         "locationmode": "ISO-3",
         "lon": [
          43.356892,
          8.468946
         ],
         "mode": "lines",
         "opacity": 0.6,
         "type": "scattergeo"
        },
        {
         "lat": [
          42.315407,
          -14.235004
         ],
         "line": {
          "color": "blue",
          "width": 1
         },
         "locationmode": "ISO-3",
         "lon": [
          43.356892,
          -51.92528
         ],
         "mode": "lines",
         "opacity": 0.6,
         "type": "scattergeo"
        },
        {
         "lat": [
          42.315407,
          61.52401
         ],
         "line": {
          "color": "blue",
          "width": 1
         },
         "locationmode": "ISO-3",
         "lon": [
          43.356892,
          105.318756
         ],
         "mode": "lines",
         "opacity": 0.6,
         "type": "scattergeo"
        },
        {
         "lat": [
          42.315407,
          39.074208
         ],
         "line": {
          "color": "blue",
          "width": 1
         },
         "locationmode": "ISO-3",
         "lon": [
          43.356892,
          21.824312
         ],
         "mode": "lines",
         "opacity": 0.6,
         "type": "scattergeo"
        },
        {
         "lat": [
          42.315407,
          40.143105
         ],
         "line": {
          "color": "blue",
          "width": 1
         },
         "locationmode": "ISO-3",
         "lon": [
          43.356892,
          47.576927
         ],
         "mode": "lines",
         "opacity": 0.6,
         "type": "scattergeo"
        },
        {
         "lat": [
          42.315407,
          48.019573
         ],
         "line": {
          "color": "blue",
          "width": 1
         },
         "locationmode": "ISO-3",
         "lon": [
          43.356892,
          66.923684
         ],
         "mode": "lines",
         "opacity": 0.6,
         "type": "scattergeo"
        },
        {
         "lat": [
          42.315407,
          31.046051
         ],
         "line": {
          "color": "blue",
          "width": 1
         },
         "locationmode": "ISO-3",
         "lon": [
          43.356892,
          34.851612
         ],
         "mode": "lines",
         "opacity": 0.6,
         "type": "scattergeo"
        },
        {
         "lat": [
          -16.290154,
          -16.290154
         ],
         "line": {
          "color": "blue",
          "width": 1
         },
         "locationmode": "ISO-3",
         "lon": [
          -63.588653,
          -63.588653
         ],
         "mode": "lines",
         "opacity": 0.6,
         "type": "scattergeo"
        },
        {
         "lat": [
          -16.290154,
          46.818188
         ],
         "line": {
          "color": "blue",
          "width": 1
         },
         "locationmode": "ISO-3",
         "lon": [
          -63.588653,
          8.227512
         ],
         "mode": "lines",
         "opacity": 0.6,
         "type": "scattergeo"
        },
        {
         "lat": [
          -16.290154,
          39.074208
         ],
         "line": {
          "color": "blue",
          "width": 1
         },
         "locationmode": "ISO-3",
         "lon": [
          -63.588653,
          21.824312
         ],
         "mode": "lines",
         "opacity": 0.6,
         "type": "scattergeo"
        },
        {
         "lat": [
          -16.290154,
          -38.416097
         ],
         "line": {
          "color": "blue",
          "width": 1
         },
         "locationmode": "ISO-3",
         "lon": [
          -63.588653,
          -63.616672
         ],
         "mode": "lines",
         "opacity": 0.6,
         "type": "scattergeo"
        },
        {
         "lat": [
          -16.290154,
          -14.235004
         ],
         "line": {
          "color": "blue",
          "width": 1
         },
         "locationmode": "ISO-3",
         "lon": [
          -63.588653,
          -51.92528
         ],
         "mode": "lines",
         "opacity": 0.6,
         "type": "scattergeo"
        },
        {
         "lat": [
          -16.290154,
          -32.522779
         ],
         "line": {
          "color": "blue",
          "width": 1
         },
         "locationmode": "ISO-3",
         "lon": [
          -63.588653,
          -55.765835
         ],
         "mode": "lines",
         "opacity": 0.6,
         "type": "scattergeo"
        },
        {
         "lat": [
          -16.290154,
          41.153332
         ],
         "line": {
          "color": "blue",
          "width": 1
         },
         "locationmode": "ISO-3",
         "lon": [
          -63.588653,
          20.168331
         ],
         "mode": "lines",
         "opacity": 0.6,
         "type": "scattergeo"
        },
        {
         "lat": [
          -16.290154,
          -1.831239
         ],
         "line": {
          "color": "blue",
          "width": 1
         },
         "locationmode": "ISO-3",
         "lon": [
          -63.588653,
          -78.183406
         ],
         "mode": "lines",
         "opacity": 0.6,
         "type": "scattergeo"
        },
        {
         "lat": [
          -16.290154,
          4.570868
         ],
         "line": {
          "color": "blue",
          "width": 1
         },
         "locationmode": "ISO-3",
         "lon": [
          -63.588653,
          -74.297333
         ],
         "mode": "lines",
         "opacity": 0.6,
         "type": "scattergeo"
        },
        {
         "lat": [
          -16.290154,
          -35.675147
         ],
         "line": {
          "color": "blue",
          "width": 1
         },
         "locationmode": "ISO-3",
         "lon": [
          -63.588653,
          -71.542969
         ],
         "mode": "lines",
         "opacity": 0.6,
         "type": "scattergeo"
        },
        {
         "lat": [
          -16.290154,
          -23.442503
         ],
         "line": {
          "color": "blue",
          "width": 1
         },
         "locationmode": "ISO-3",
         "lon": [
          -63.588653,
          -58.443832
         ],
         "mode": "lines",
         "opacity": 0.6,
         "type": "scattergeo"
        },
        {
         "lat": [
          -16.290154,
          -9.189967
         ],
         "line": {
          "color": "blue",
          "width": 1
         },
         "locationmode": "ISO-3",
         "lon": [
          -63.588653,
          -75.015152
         ],
         "mode": "lines",
         "opacity": 0.6,
         "type": "scattergeo"
        },
        {
         "lat": [
          -16.290154,
          15.783471
         ],
         "line": {
          "color": "blue",
          "width": 1
         },
         "locationmode": "ISO-3",
         "lon": [
          -63.588653,
          -90.230759
         ],
         "mode": "lines",
         "opacity": 0.6,
         "type": "scattergeo"
        },
        {
         "lat": [
          -16.290154,
          60.128161
         ],
         "line": {
          "color": "blue",
          "width": 1
         },
         "locationmode": "ISO-3",
         "lon": [
          -63.588653,
          18.643501
         ],
         "mode": "lines",
         "opacity": 0.6,
         "type": "scattergeo"
        },
        {
         "lat": [
          15.783471,
          37.09024
         ],
         "line": {
          "color": "blue",
          "width": 1
         },
         "locationmode": "ISO-3",
         "lon": [
          -90.230759,
          -95.712891
         ],
         "mode": "lines",
         "opacity": 0.6,
         "type": "scattergeo"
        },
        {
         "lat": [
          15.783471,
          9.748917
         ],
         "line": {
          "color": "blue",
          "width": 1
         },
         "locationmode": "ISO-3",
         "lon": [
          -90.230759,
          -83.753428
         ],
         "mode": "lines",
         "opacity": 0.6,
         "type": "scattergeo"
        },
        {
         "lat": [
          15.783471,
          40.463667
         ],
         "line": {
          "color": "blue",
          "width": 1
         },
         "locationmode": "ISO-3",
         "lon": [
          -90.230759,
          -3.74922
         ],
         "mode": "lines",
         "opacity": 0.6,
         "type": "scattergeo"
        },
        {
         "lat": [
          15.783471,
          -32.522779
         ],
         "line": {
          "color": "blue",
          "width": 1
         },
         "locationmode": "ISO-3",
         "lon": [
          -90.230759,
          -55.765835
         ],
         "mode": "lines",
         "opacity": 0.6,
         "type": "scattergeo"
        },
        {
         "lat": [
          15.783471,
          15.783471
         ],
         "line": {
          "color": "blue",
          "width": 1
         },
         "locationmode": "ISO-3",
         "lon": [
          -90.230759,
          -90.230759
         ],
         "mode": "lines",
         "opacity": 0.6,
         "type": "scattergeo"
        },
        {
         "lat": [
          15.783471,
          15.199999
         ],
         "line": {
          "color": "blue",
          "width": 1
         },
         "locationmode": "ISO-3",
         "lon": [
          -90.230759,
          -86.241905
         ],
         "mode": "lines",
         "opacity": 0.6,
         "type": "scattergeo"
        },
        {
         "lat": [
          15.783471,
          -38.416097
         ],
         "line": {
          "color": "blue",
          "width": 1
         },
         "locationmode": "ISO-3",
         "lon": [
          -90.230759,
          -63.616672
         ],
         "mode": "lines",
         "opacity": 0.6,
         "type": "scattergeo"
        },
        {
         "lat": [
          15.199999,
          -32.522779
         ],
         "line": {
          "color": "blue",
          "width": 1
         },
         "locationmode": "ISO-3",
         "lon": [
          -86.241905,
          -55.765835
         ],
         "mode": "lines",
         "opacity": 0.6,
         "type": "scattergeo"
        },
        {
         "lat": [
          15.199999,
          15.199999
         ],
         "line": {
          "color": "blue",
          "width": 1
         },
         "locationmode": "ISO-3",
         "lon": [
          -86.241905,
          -86.241905
         ],
         "mode": "lines",
         "opacity": 0.6,
         "type": "scattergeo"
        },
        {
         "lat": [
          15.199999,
          9.748917
         ],
         "line": {
          "color": "blue",
          "width": 1
         },
         "locationmode": "ISO-3",
         "lon": [
          -86.241905,
          -83.753428
         ],
         "mode": "lines",
         "opacity": 0.6,
         "type": "scattergeo"
        },
        {
         "lat": [
          15.199999,
          13.794185
         ],
         "line": {
          "color": "blue",
          "width": 1
         },
         "locationmode": "ISO-3",
         "lon": [
          -86.241905,
          -88.89653
         ],
         "mode": "lines",
         "opacity": 0.6,
         "type": "scattergeo"
        },
        {
         "lat": [
          15.199999,
          15.783471
         ],
         "line": {
          "color": "blue",
          "width": 1
         },
         "locationmode": "ISO-3",
         "lon": [
          -86.241905,
          -90.230759
         ],
         "mode": "lines",
         "opacity": 0.6,
         "type": "scattergeo"
        },
        {
         "lat": [
          15.199999,
          35.86166
         ],
         "line": {
          "color": "blue",
          "width": 1
         },
         "locationmode": "ISO-3",
         "lon": [
          -86.241905,
          104.195397
         ],
         "mode": "lines",
         "opacity": 0.6,
         "type": "scattergeo"
        },
        {
         "lat": [
          15.199999,
          -23.442503
         ],
         "line": {
          "color": "blue",
          "width": 1
         },
         "locationmode": "ISO-3",
         "lon": [
          -86.241905,
          -58.443832
         ],
         "mode": "lines",
         "opacity": 0.6,
         "type": "scattergeo"
        },
        {
         "lat": [
          15.199999,
          32.427908
         ],
         "line": {
          "color": "blue",
          "width": 1
         },
         "locationmode": "ISO-3",
         "lon": [
          -86.241905,
          53.688046
         ],
         "mode": "lines",
         "opacity": 0.6,
         "type": "scattergeo"
        },
        {
         "lat": [
          61.892635,
          61.892635
         ],
         "line": {
          "color": "blue",
          "width": 1
         },
         "locationmode": "ISO-3",
         "lon": [
          -6.911806,
          -6.911806
         ],
         "mode": "lines",
         "opacity": 0.6,
         "type": "scattergeo"
        },
        {
         "lat": [
          61.892635,
          55.378051
         ],
         "line": {
          "color": "blue",
          "width": 1
         },
         "locationmode": "ISO-3",
         "lon": [
          -6.911806,
          -3.435973
         ],
         "mode": "lines",
         "opacity": 0.6,
         "type": "scattergeo"
        },
        {
         "lat": [
          61.892635,
          60.472024
         ],
         "line": {
          "color": "blue",
          "width": 1
         },
         "locationmode": "ISO-3",
         "lon": [
          -6.911806,
          8.468946
         ],
         "mode": "lines",
         "opacity": 0.6,
         "type": "scattergeo"
        },
        {
         "lat": [
          61.892635,
          64.963051
         ],
         "line": {
          "color": "blue",
          "width": 1
         },
         "locationmode": "ISO-3",
         "lon": [
          -6.911806,
          -19.020835
         ],
         "mode": "lines",
         "opacity": 0.6,
         "type": "scattergeo"
        },
        {
         "lat": [
          61.892635,
          56.26392
         ],
         "line": {
          "color": "blue",
          "width": 1
         },
         "locationmode": "ISO-3",
         "lon": [
          -6.911806,
          9.501785
         ],
         "mode": "lines",
         "opacity": 0.6,
         "type": "scattergeo"
        },
        {
         "lat": [
          58.595272,
          52.132633
         ],
         "line": {
          "color": "blue",
          "width": 1
         },
         "locationmode": "ISO-3",
         "lon": [
          25.013607,
          5.291266
         ],
         "mode": "lines",
         "opacity": 0.6,
         "type": "scattergeo"
        },
        {
         "lat": [
          58.595272,
          60.128161
         ],
         "line": {
          "color": "blue",
          "width": 1
         },
         "locationmode": "ISO-3",
         "lon": [
          25.013607,
          18.643501
         ],
         "mode": "lines",
         "opacity": 0.6,
         "type": "scattergeo"
        },
        {
         "lat": [
          58.595272,
          61.52401
         ],
         "line": {
          "color": "blue",
          "width": 1
         },
         "locationmode": "ISO-3",
         "lon": [
          25.013607,
          105.318756
         ],
         "mode": "lines",
         "opacity": 0.6,
         "type": "scattergeo"
        },
        {
         "lat": [
          58.595272,
          58.595272
         ],
         "line": {
          "color": "blue",
          "width": 1
         },
         "locationmode": "ISO-3",
         "lon": [
          25.013607,
          25.013607
         ],
         "mode": "lines",
         "opacity": 0.6,
         "type": "scattergeo"
        },
        {
         "lat": [
          58.595272,
          56.26392
         ],
         "line": {
          "color": "blue",
          "width": 1
         },
         "locationmode": "ISO-3",
         "lon": [
          25.013607,
          9.501785
         ],
         "mode": "lines",
         "opacity": 0.6,
         "type": "scattergeo"
        },
        {
         "lat": [
          58.595272,
          61.92411
         ],
         "line": {
          "color": "blue",
          "width": 1
         },
         "locationmode": "ISO-3",
         "lon": [
          25.013607,
          25.748151
         ],
         "mode": "lines",
         "opacity": 0.6,
         "type": "scattergeo"
        },
        {
         "lat": [
          58.595272,
          48.019573
         ],
         "line": {
          "color": "blue",
          "width": 1
         },
         "locationmode": "ISO-3",
         "lon": [
          25.013607,
          66.923684
         ],
         "mode": "lines",
         "opacity": 0.6,
         "type": "scattergeo"
        },
        {
         "lat": [
          58.595272,
          55.169438
         ],
         "line": {
          "color": "blue",
          "width": 1
         },
         "locationmode": "ISO-3",
         "lon": [
          25.013607,
          23.881275
         ],
         "mode": "lines",
         "opacity": 0.6,
         "type": "scattergeo"
        },
        {
         "lat": [
          58.595272,
          60.472024
         ],
         "line": {
          "color": "blue",
          "width": 1
         },
         "locationmode": "ISO-3",
         "lon": [
          25.013607,
          8.468946
         ],
         "mode": "lines",
         "opacity": 0.6,
         "type": "scattergeo"
        },
        {
         "lat": [
          47.411631,
          40.143105
         ],
         "line": {
          "color": "blue",
          "width": 1
         },
         "locationmode": "ISO-3",
         "lon": [
          28.369885,
          47.576927
         ],
         "mode": "lines",
         "opacity": 0.6,
         "type": "scattergeo"
        },
        {
         "lat": [
          47.411631,
          47.411631
         ],
         "line": {
          "color": "blue",
          "width": 1
         },
         "locationmode": "ISO-3",
         "lon": [
          28.369885,
          28.369885
         ],
         "mode": "lines",
         "opacity": 0.6,
         "type": "scattergeo"
        },
        {
         "lat": [
          47.411631,
          45.943161
         ],
         "line": {
          "color": "blue",
          "width": 1
         },
         "locationmode": "ISO-3",
         "lon": [
          28.369885,
          24.96676
         ],
         "mode": "lines",
         "opacity": 0.6,
         "type": "scattergeo"
        },
        {
         "lat": [
          47.411631,
          31.046051
         ],
         "line": {
          "color": "blue",
          "width": 1
         },
         "locationmode": "ISO-3",
         "lon": [
          28.369885,
          34.851612
         ],
         "mode": "lines",
         "opacity": 0.6,
         "type": "scattergeo"
        },
        {
         "lat": [
          47.411631,
          53.709807
         ],
         "line": {
          "color": "blue",
          "width": 1
         },
         "locationmode": "ISO-3",
         "lon": [
          28.369885,
          27.953389
         ],
         "mode": "lines",
         "opacity": 0.6,
         "type": "scattergeo"
        },
        {
         "lat": [
          47.411631,
          42.315407
         ],
         "line": {
          "color": "blue",
          "width": 1
         },
         "locationmode": "ISO-3",
         "lon": [
          28.369885,
          43.356892
         ],
         "mode": "lines",
         "opacity": 0.6,
         "type": "scattergeo"
        },
        {
         "lat": [
          22.396428,
          22.396428
         ],
         "line": {
          "color": "blue",
          "width": 1
         },
         "locationmode": "ISO-3",
         "lon": [
          114.109497,
          114.109497
         ],
         "mode": "lines",
         "opacity": 0.6,
         "type": "scattergeo"
        },
        {
         "lat": [
          22.396428,
          51.165691
         ],
         "line": {
          "color": "blue",
          "width": 1
         },
         "locationmode": "ISO-3",
         "lon": [
          114.109497,
          10.451526
         ],
         "mode": "lines",
         "opacity": 0.6,
         "type": "scattergeo"
        },
        {
         "lat": [
          22.396428,
          51.919438
         ],
         "line": {
          "color": "blue",
          "width": 1
         },
         "locationmode": "ISO-3",
         "lon": [
          114.109497,
          19.145136
         ],
         "mode": "lines",
         "opacity": 0.6,
         "type": "scattergeo"
        },
        {
         "lat": [
          1.373333,
          -30.559482
         ],
         "line": {
          "color": "blue",
          "width": 1
         },
         "locationmode": "ISO-3",
         "lon": [
          32.290275,
          22.937506
         ],
         "mode": "lines",
         "opacity": 0.6,
         "type": "scattergeo"
        },
        {
         "lat": [
          1.373333,
          1.373333
         ],
         "line": {
          "color": "blue",
          "width": 1
         },
         "locationmode": "ISO-3",
         "lon": [
          32.290275,
          32.290275
         ],
         "mode": "lines",
         "opacity": 0.6,
         "type": "scattergeo"
        },
        {
         "lat": [
          1.373333,
          64.963051
         ],
         "line": {
          "color": "blue",
          "width": 1
         },
         "locationmode": "ISO-3",
         "lon": [
          32.290275,
          -19.020835
         ],
         "mode": "lines",
         "opacity": 0.6,
         "type": "scattergeo"
        },
        {
         "lat": [
          40.069099,
          45.943161
         ],
         "line": {
          "color": "blue",
          "width": 1
         },
         "locationmode": "ISO-3",
         "lon": [
          45.038189,
          24.96676
         ],
         "mode": "lines",
         "opacity": 0.6,
         "type": "scattergeo"
        },
        {
         "lat": [
          40.069099,
          40.069099
         ],
         "line": {
          "color": "blue",
          "width": 1
         },
         "locationmode": "ISO-3",
         "lon": [
          45.038189,
          45.038189
         ],
         "mode": "lines",
         "opacity": 0.6,
         "type": "scattergeo"
        },
        {
         "lat": [
          40.069099,
          55.169438
         ],
         "line": {
          "color": "blue",
          "width": 1
         },
         "locationmode": "ISO-3",
         "lon": [
          45.038189,
          23.881275
         ],
         "mode": "lines",
         "opacity": 0.6,
         "type": "scattergeo"
        },
        {
         "lat": [
          42.602636,
          48.379433
         ],
         "line": {
          "color": "blue",
          "width": 1
         },
         "locationmode": "ISO-3",
         "lon": [
          20.902977,
          31.16558
         ],
         "mode": "lines",
         "opacity": 0.6,
         "type": "scattergeo"
        },
        {
         "lat": [
          8.537981,
          41.87194
         ],
         "line": {
          "color": "blue",
          "width": 1
         },
         "locationmode": "ISO-3",
         "lon": [
          -80.782127,
          12.56738
         ],
         "mode": "lines",
         "opacity": 0.6,
         "type": "scattergeo"
        },
        {
         "lat": [
          8.537981,
          4.570868
         ],
         "line": {
          "color": "blue",
          "width": 1
         },
         "locationmode": "ISO-3",
         "lon": [
          -80.782127,
          -74.297333
         ],
         "mode": "lines",
         "opacity": 0.6,
         "type": "scattergeo"
        },
        {
         "lat": [
          8.537981,
          -32.522779
         ],
         "line": {
          "color": "blue",
          "width": 1
         },
         "locationmode": "ISO-3",
         "lon": [
          -80.782127,
          -55.765835
         ],
         "mode": "lines",
         "opacity": 0.6,
         "type": "scattergeo"
        },
        {
         "lat": [
          8.537981,
          13.794185
         ],
         "line": {
          "color": "blue",
          "width": 1
         },
         "locationmode": "ISO-3",
         "lon": [
          -80.782127,
          -88.89653
         ],
         "mode": "lines",
         "opacity": 0.6,
         "type": "scattergeo"
        },
        {
         "lat": [
          8.537981,
          8.537981
         ],
         "line": {
          "color": "blue",
          "width": 1
         },
         "locationmode": "ISO-3",
         "lon": [
          -80.782127,
          -80.782127
         ],
         "mode": "lines",
         "opacity": 0.6,
         "type": "scattergeo"
        },
        {
         "lat": [
          8.537981,
          42.546245
         ],
         "line": {
          "color": "blue",
          "width": 1
         },
         "locationmode": "ISO-3",
         "lon": [
          -80.782127,
          1.601554
         ],
         "mode": "lines",
         "opacity": 0.6,
         "type": "scattergeo"
        },
        {
         "lat": [
          8.537981,
          -14.235004
         ],
         "line": {
          "color": "blue",
          "width": 1
         },
         "locationmode": "ISO-3",
         "lon": [
          -80.782127,
          -51.92528
         ],
         "mode": "lines",
         "opacity": 0.6,
         "type": "scattergeo"
        },
        {
         "lat": [
          43.94236,
          43.94236
         ],
         "line": {
          "color": "blue",
          "width": 1
         },
         "locationmode": "ISO-3",
         "lon": [
          12.457777,
          12.457777
         ],
         "mode": "lines",
         "opacity": 0.6,
         "type": "scattergeo"
        },
        {
         "lat": [
          43.94236,
          41.87194
         ],
         "line": {
          "color": "blue",
          "width": 1
         },
         "locationmode": "ISO-3",
         "lon": [
          12.457777,
          12.56738
         ],
         "mode": "lines",
         "opacity": 0.6,
         "type": "scattergeo"
        },
        {
         "lat": [
          42.546245,
          40.463667
         ],
         "line": {
          "color": "blue",
          "width": 1
         },
         "locationmode": "ISO-3",
         "lon": [
          1.601554,
          -3.74922
         ],
         "mode": "lines",
         "opacity": 0.6,
         "type": "scattergeo"
        },
        {
         "lat": [
          13.794185,
          8.537981
         ],
         "line": {
          "color": "blue",
          "width": 1
         },
         "locationmode": "ISO-3",
         "lon": [
          -88.89653,
          -80.782127
         ],
         "mode": "lines",
         "opacity": 0.6,
         "type": "scattergeo"
        },
        {
         "lat": [
          13.794185,
          4.570868
         ],
         "line": {
          "color": "blue",
          "width": 1
         },
         "locationmode": "ISO-3",
         "lon": [
          -88.89653,
          -74.297333
         ],
         "mode": "lines",
         "opacity": 0.6,
         "type": "scattergeo"
        },
        {
         "lat": [
          13.794185,
          39.399872
         ],
         "line": {
          "color": "blue",
          "width": 1
         },
         "locationmode": "ISO-3",
         "lon": [
          -88.89653,
          -8.224454
         ],
         "mode": "lines",
         "opacity": 0.6,
         "type": "scattergeo"
        },
        {
         "lat": [
          13.794185,
          13.794185
         ],
         "line": {
          "color": "blue",
          "width": 1
         },
         "locationmode": "ISO-3",
         "lon": [
          -88.89653,
          -88.89653
         ],
         "mode": "lines",
         "opacity": 0.6,
         "type": "scattergeo"
        },
        {
         "lat": [
          13.794185,
          -32.522779
         ],
         "line": {
          "color": "blue",
          "width": 1
         },
         "locationmode": "ISO-3",
         "lon": [
          -88.89653,
          -55.765835
         ],
         "mode": "lines",
         "opacity": 0.6,
         "type": "scattergeo"
        },
        {
         "lat": [
          13.794185,
          9.748917
         ],
         "line": {
          "color": "blue",
          "width": 1
         },
         "locationmode": "ISO-3",
         "lon": [
          -88.89653,
          -83.753428
         ],
         "mode": "lines",
         "opacity": 0.6,
         "type": "scattergeo"
        },
        {
         "lat": [
          13.794185,
          23.634501
         ],
         "line": {
          "color": "blue",
          "width": 1
         },
         "locationmode": "ISO-3",
         "lon": [
          -88.89653,
          -102.552784
         ],
         "mode": "lines",
         "opacity": 0.6,
         "type": "scattergeo"
        },
        {
         "lat": [
          13.794185,
          15.783471
         ],
         "line": {
          "color": "blue",
          "width": 1
         },
         "locationmode": "ISO-3",
         "lon": [
          -88.89653,
          -90.230759
         ],
         "mode": "lines",
         "opacity": 0.6,
         "type": "scattergeo"
        },
        {
         "lat": [
          13.794185,
          15.199999
         ],
         "line": {
          "color": "blue",
          "width": 1
         },
         "locationmode": "ISO-3",
         "lon": [
          -88.89653,
          -86.241905
         ],
         "mode": "lines",
         "opacity": 0.6,
         "type": "scattergeo"
        },
        {
         "lat": [
          13.794185,
          12.865416
         ],
         "line": {
          "color": "blue",
          "width": 1
         },
         "locationmode": "ISO-3",
         "lon": [
          -88.89653,
          -85.207229
         ],
         "mode": "lines",
         "opacity": 0.6,
         "type": "scattergeo"
        },
        {
         "lat": [
          14.058324,
          49.817492
         ],
         "line": {
          "color": "blue",
          "width": 1
         },
         "locationmode": "ISO-3",
         "lon": [
          108.277199,
          15.472962
         ],
         "mode": "lines",
         "opacity": 0.6,
         "type": "scattergeo"
        },
        {
         "lat": [
          14.058324,
          61.52401
         ],
         "line": {
          "color": "blue",
          "width": 1
         },
         "locationmode": "ISO-3",
         "lon": [
          108.277199,
          105.318756
         ],
         "mode": "lines",
         "opacity": 0.6,
         "type": "scattergeo"
        },
        {
         "lat": [
          21.512583,
          21.512583
         ],
         "line": {
          "color": "blue",
          "width": 1
         },
         "locationmode": "ISO-3",
         "lon": [
          55.923255,
          55.923255
         ],
         "mode": "lines",
         "opacity": 0.6,
         "type": "scattergeo"
        },
        {
         "lat": [
          21.512583,
          25.354826
         ],
         "line": {
          "color": "blue",
          "width": 1
         },
         "locationmode": "ISO-3",
         "lon": [
          55.923255,
          51.183884
         ],
         "mode": "lines",
         "opacity": 0.6,
         "type": "scattergeo"
        },
        {
         "lat": [
          -16.578193,
          -16.578193
         ],
         "line": {
          "color": "blue",
          "width": 1
         },
         "locationmode": "ISO-3",
         "lon": [
          179.414413,
          179.414413
         ],
         "mode": "lines",
         "opacity": 0.6,
         "type": "scattergeo"
        },
        {
         "lat": [
          -16.578193,
          -25.274398
         ],
         "line": {
          "color": "blue",
          "width": 1
         },
         "locationmode": "ISO-3",
         "lon": [
          179.414413,
          133.775136
         ],
         "mode": "lines",
         "opacity": 0.6,
         "type": "scattergeo"
        },
        {
         "lat": [
          20.593684,
          20.593684
         ],
         "line": {
          "color": "blue",
          "width": 1
         },
         "locationmode": "ISO-3",
         "lon": [
          78.96288,
          78.96288
         ],
         "mode": "lines",
         "opacity": 0.6,
         "type": "scattergeo"
        },
        {
         "lat": [
          38.861034,
          38.861034
         ],
         "line": {
          "color": "blue",
          "width": 1
         },
         "locationmode": "ISO-3",
         "lon": [
          71.276093,
          71.276093
         ],
         "mode": "lines",
         "opacity": 0.6,
         "type": "scattergeo"
        },
        {
         "lat": [
          38.861034,
          61.52401
         ],
         "line": {
          "color": "blue",
          "width": 1
         },
         "locationmode": "ISO-3",
         "lon": [
          71.276093,
          105.318756
         ],
         "mode": "lines",
         "opacity": 0.6,
         "type": "scattergeo"
        },
        {
         "lat": [
          15.870032,
          15.870032
         ],
         "line": {
          "color": "blue",
          "width": 1
         },
         "locationmode": "ISO-3",
         "lon": [
          100.992541,
          100.992541
         ],
         "mode": "lines",
         "opacity": 0.6,
         "type": "scattergeo"
        },
        {
         "lat": [
          -0.789275,
          -0.789275
         ],
         "line": {
          "color": "blue",
          "width": 1
         },
         "locationmode": "ISO-3",
         "lon": [
          113.921327,
          113.921327
         ],
         "mode": "lines",
         "opacity": 0.6,
         "type": "scattergeo"
        },
        {
         "lat": [
          -0.789275,
          -38.416097
         ],
         "line": {
          "color": "blue",
          "width": 1
         },
         "locationmode": "ISO-3",
         "lon": [
          113.921327,
          -63.616672
         ],
         "mode": "lines",
         "opacity": 0.6,
         "type": "scattergeo"
        },
        {
         "lat": [
          -0.789275,
          55.378051
         ],
         "line": {
          "color": "blue",
          "width": 1
         },
         "locationmode": "ISO-3",
         "lon": [
          113.921327,
          -3.435973
         ],
         "mode": "lines",
         "opacity": 0.6,
         "type": "scattergeo"
        },
        {
         "lat": [
          51.165691,
          47.516231,
          55.378051,
          44.016521,
          49.817492,
          46.151241,
          35.126413,
          39.074208,
          40.463667,
          52.132633,
          41.87194,
          45.1,
          36.204824,
          -14.235004,
          61.52401,
          50.503887,
          60.472024,
          51.919438,
          47.162494,
          42.733883,
          37.09024,
          38.963745,
          35.86166,
          56.26392,
          60.128161,
          25.354826,
          -9.189967,
          64.963051,
          -25.274398,
          46.818188,
          31.046051,
          39.399872,
          45.943161,
          46.227638,
          33.886917,
          42.708678,
          7.946527,
          49.815273,
          9.081999,
          41.608635,
          -38.416097,
          35.907757,
          4.210484,
          61.92411,
          48.379433,
          40.143105,
          43.915886,
          23.634501,
          48.669026,
          4.570868,
          -1.831239,
          -32.522779,
          -35.675147,
          9.748917,
          33.854721,
          35.937496,
          23.885942,
          23.424076,
          53.41291,
          31.791702,
          41.153332,
          -30.559482,
          32.427908,
          -23.442503,
          28.033886,
          1.352083,
          18.109581,
          6.42375,
          53.709807,
          48.019573,
          56.879635,
          41.377491,
          55.169438,
          42.315407,
          -16.290154,
          15.783471,
          15.199999,
          61.892635,
          58.595272,
          47.411631,
          22.396428,
          1.373333,
          40.069099,
          42.602636,
          8.537981,
          43.94236,
          42.546245,
          13.794185,
          14.058324,
          21.512583,
          -16.578193,
          20.593684,
          38.861034,
          15.870032,
          -0.789275,
          12.865416
         ],
         "locationmode": "ISO-3",
         "lon": [
          10.451526,
          14.550072,
          -3.435973,
          21.005859,
          15.472962,
          14.995463,
          33.429859,
          21.824312,
          -3.74922,
          5.291266,
          12.56738,
          15.2,
          138.252924,
          -51.92528,
          105.318756,
          4.469936,
          8.468946,
          19.145136,
          19.503304,
          25.48583,
          -95.712891,
          35.243322,
          104.195397,
          9.501785,
          18.643501,
          51.183884,
          -75.015152,
          -19.020835,
          133.775136,
          8.227512,
          34.851612,
          -8.224454,
          24.96676,
          2.213749,
          9.537499,
          19.37439,
          -1.023194,
          6.129583,
          8.675277,
          21.745275,
          -63.616672,
          127.766922,
          101.975766,
          25.748151,
          31.16558,
          47.576927,
          17.679076,
          -102.552784,
          19.699024,
          -74.297333,
          -78.183406,
          -55.765835,
          -71.542969,
          -83.753428,
          35.862285,
          14.375416,
          45.079162,
          53.847818,
          -8.24389,
          -7.09262,
          20.168331,
          22.937506,
          53.688046,
          -58.443832,
          1.659626,
          103.819836,
          -77.297508,
          -66.58973,
          27.953389,
          66.923684,
          24.603189,
          64.585262,
          23.881275,
          43.356892,
          -63.588653,
          -90.230759,
          -86.241905,
          -6.911806,
          25.013607,
          28.369885,
          114.109497,
          32.290275,
          45.038189,
          20.902977,
          -80.782127,
          12.457777,
          1.601554,
          -88.89653,
          108.277199,
          55.923255,
          179.414413,
          78.96288,
          71.276093,
          100.992541,
          113.921327,
          -85.207229
         ],
         "marker": {
          "color": "red",
          "size": 10
         },
         "mode": "markers",
         "text": [
          "DE",
          "AT",
          "GB",
          "RS",
          "CZ",
          "SI",
          "CY",
          "GR",
          "ES",
          "NL",
          "IT",
          "HR",
          "JP",
          "BR",
          "RU",
          "BE",
          "NO",
          "PL",
          "HU",
          "BG",
          "US",
          "TR",
          "CN",
          "DK",
          "SE",
          "QA",
          "PE",
          "IS",
          "AU",
          "CH",
          "IL",
          "PT",
          "RO",
          "FR",
          "TN",
          "ME",
          "GH",
          "LU",
          "NG",
          "MK",
          "AR",
          "KR",
          "MY",
          "FI",
          "UA",
          "AZ",
          "BA",
          "MX",
          "SK",
          "CO",
          "EC",
          "UY",
          "CL",
          "CR",
          "LB",
          "MT",
          "SA",
          "AE",
          "IE",
          "MA",
          "AL",
          "ZA",
          "IR",
          "PY",
          "DZ",
          "SG",
          "JM",
          "VE",
          "BY",
          "KZ",
          "LV",
          "UZ",
          "LT",
          "GE",
          "BO",
          "GT",
          "HN",
          "FO",
          "EE",
          "MD",
          "HK",
          "UG",
          "AM",
          "XK",
          "PA",
          "SM",
          "AD",
          "SV",
          "VN",
          "OM",
          "FJ",
          "IN",
          "TJ",
          "TH",
          "ID",
          "NI"
         ],
         "type": "scattergeo"
        }
       ],
       "layout": {
        "geo": {
         "projection": {
          "type": "equirectangular"
         },
         "showcoastlines": true,
         "showframe": false
        },
        "showlegend": false,
        "template": {
         "data": {
          "bar": [
           {
            "error_x": {
             "color": "#2a3f5f"
            },
            "error_y": {
             "color": "#2a3f5f"
            },
            "marker": {
             "line": {
              "color": "#E5ECF6",
              "width": 0.5
             },
             "pattern": {
              "fillmode": "overlay",
              "size": 10,
              "solidity": 0.2
             }
            },
            "type": "bar"
           }
          ],
          "barpolar": [
           {
            "marker": {
             "line": {
              "color": "#E5ECF6",
              "width": 0.5
             },
             "pattern": {
              "fillmode": "overlay",
              "size": 10,
              "solidity": 0.2
             }
            },
            "type": "barpolar"
           }
          ],
          "carpet": [
           {
            "aaxis": {
             "endlinecolor": "#2a3f5f",
             "gridcolor": "white",
             "linecolor": "white",
             "minorgridcolor": "white",
             "startlinecolor": "#2a3f5f"
            },
            "baxis": {
             "endlinecolor": "#2a3f5f",
             "gridcolor": "white",
             "linecolor": "white",
             "minorgridcolor": "white",
             "startlinecolor": "#2a3f5f"
            },
            "type": "carpet"
           }
          ],
          "choropleth": [
           {
            "colorbar": {
             "outlinewidth": 0,
             "ticks": ""
            },
            "type": "choropleth"
           }
          ],
          "contour": [
           {
            "colorbar": {
             "outlinewidth": 0,
             "ticks": ""
            },
            "colorscale": [
             [
              0,
              "#0d0887"
             ],
             [
              0.1111111111111111,
              "#46039f"
             ],
             [
              0.2222222222222222,
              "#7201a8"
             ],
             [
              0.3333333333333333,
              "#9c179e"
             ],
             [
              0.4444444444444444,
              "#bd3786"
             ],
             [
              0.5555555555555556,
              "#d8576b"
             ],
             [
              0.6666666666666666,
              "#ed7953"
             ],
             [
              0.7777777777777778,
              "#fb9f3a"
             ],
             [
              0.8888888888888888,
              "#fdca26"
             ],
             [
              1,
              "#f0f921"
             ]
            ],
            "type": "contour"
           }
          ],
          "contourcarpet": [
           {
            "colorbar": {
             "outlinewidth": 0,
             "ticks": ""
            },
            "type": "contourcarpet"
           }
          ],
          "heatmap": [
           {
            "colorbar": {
             "outlinewidth": 0,
             "ticks": ""
            },
            "colorscale": [
             [
              0,
              "#0d0887"
             ],
             [
              0.1111111111111111,
              "#46039f"
             ],
             [
              0.2222222222222222,
              "#7201a8"
             ],
             [
              0.3333333333333333,
              "#9c179e"
             ],
             [
              0.4444444444444444,
              "#bd3786"
             ],
             [
              0.5555555555555556,
              "#d8576b"
             ],
             [
              0.6666666666666666,
              "#ed7953"
             ],
             [
              0.7777777777777778,
              "#fb9f3a"
             ],
             [
              0.8888888888888888,
              "#fdca26"
             ],
             [
              1,
              "#f0f921"
             ]
            ],
            "type": "heatmap"
           }
          ],
          "heatmapgl": [
           {
            "colorbar": {
             "outlinewidth": 0,
             "ticks": ""
            },
            "colorscale": [
             [
              0,
              "#0d0887"
             ],
             [
              0.1111111111111111,
              "#46039f"
             ],
             [
              0.2222222222222222,
              "#7201a8"
             ],
             [
              0.3333333333333333,
              "#9c179e"
             ],
             [
              0.4444444444444444,
              "#bd3786"
             ],
             [
              0.5555555555555556,
              "#d8576b"
             ],
             [
              0.6666666666666666,
              "#ed7953"
             ],
             [
              0.7777777777777778,
              "#fb9f3a"
             ],
             [
              0.8888888888888888,
              "#fdca26"
             ],
             [
              1,
              "#f0f921"
             ]
            ],
            "type": "heatmapgl"
           }
          ],
          "histogram": [
           {
            "marker": {
             "pattern": {
              "fillmode": "overlay",
              "size": 10,
              "solidity": 0.2
             }
            },
            "type": "histogram"
           }
          ],
          "histogram2d": [
           {
            "colorbar": {
             "outlinewidth": 0,
             "ticks": ""
            },
            "colorscale": [
             [
              0,
              "#0d0887"
             ],
             [
              0.1111111111111111,
              "#46039f"
             ],
             [
              0.2222222222222222,
              "#7201a8"
             ],
             [
              0.3333333333333333,
              "#9c179e"
             ],
             [
              0.4444444444444444,
              "#bd3786"
             ],
             [
              0.5555555555555556,
              "#d8576b"
             ],
             [
              0.6666666666666666,
              "#ed7953"
             ],
             [
              0.7777777777777778,
              "#fb9f3a"
             ],
             [
              0.8888888888888888,
              "#fdca26"
             ],
             [
              1,
              "#f0f921"
             ]
            ],
            "type": "histogram2d"
           }
          ],
          "histogram2dcontour": [
           {
            "colorbar": {
             "outlinewidth": 0,
             "ticks": ""
            },
            "colorscale": [
             [
              0,
              "#0d0887"
             ],
             [
              0.1111111111111111,
              "#46039f"
             ],
             [
              0.2222222222222222,
              "#7201a8"
             ],
             [
              0.3333333333333333,
              "#9c179e"
             ],
             [
              0.4444444444444444,
              "#bd3786"
             ],
             [
              0.5555555555555556,
              "#d8576b"
             ],
             [
              0.6666666666666666,
              "#ed7953"
             ],
             [
              0.7777777777777778,
              "#fb9f3a"
             ],
             [
              0.8888888888888888,
              "#fdca26"
             ],
             [
              1,
              "#f0f921"
             ]
            ],
            "type": "histogram2dcontour"
           }
          ],
          "mesh3d": [
           {
            "colorbar": {
             "outlinewidth": 0,
             "ticks": ""
            },
            "type": "mesh3d"
           }
          ],
          "parcoords": [
           {
            "line": {
             "colorbar": {
              "outlinewidth": 0,
              "ticks": ""
             }
            },
            "type": "parcoords"
           }
          ],
          "pie": [
           {
            "automargin": true,
            "type": "pie"
           }
          ],
          "scatter": [
           {
            "fillpattern": {
             "fillmode": "overlay",
             "size": 10,
             "solidity": 0.2
            },
            "type": "scatter"
           }
          ],
          "scatter3d": [
           {
            "line": {
             "colorbar": {
              "outlinewidth": 0,
              "ticks": ""
             }
            },
            "marker": {
             "colorbar": {
              "outlinewidth": 0,
              "ticks": ""
             }
            },
            "type": "scatter3d"
           }
          ],
          "scattercarpet": [
           {
            "marker": {
             "colorbar": {
              "outlinewidth": 0,
              "ticks": ""
             }
            },
            "type": "scattercarpet"
           }
          ],
          "scattergeo": [
           {
            "marker": {
             "colorbar": {
              "outlinewidth": 0,
              "ticks": ""
             }
            },
            "type": "scattergeo"
           }
          ],
          "scattergl": [
           {
            "marker": {
             "colorbar": {
              "outlinewidth": 0,
              "ticks": ""
             }
            },
            "type": "scattergl"
           }
          ],
          "scattermapbox": [
           {
            "marker": {
             "colorbar": {
              "outlinewidth": 0,
              "ticks": ""
             }
            },
            "type": "scattermapbox"
           }
          ],
          "scatterpolar": [
           {
            "marker": {
             "colorbar": {
              "outlinewidth": 0,
              "ticks": ""
             }
            },
            "type": "scatterpolar"
           }
          ],
          "scatterpolargl": [
           {
            "marker": {
             "colorbar": {
              "outlinewidth": 0,
              "ticks": ""
             }
            },
            "type": "scatterpolargl"
           }
          ],
          "scatterternary": [
           {
            "marker": {
             "colorbar": {
              "outlinewidth": 0,
              "ticks": ""
             }
            },
            "type": "scatterternary"
           }
          ],
          "surface": [
           {
            "colorbar": {
             "outlinewidth": 0,
             "ticks": ""
            },
            "colorscale": [
             [
              0,
              "#0d0887"
             ],
             [
              0.1111111111111111,
              "#46039f"
             ],
             [
              0.2222222222222222,
              "#7201a8"
             ],
             [
              0.3333333333333333,
              "#9c179e"
             ],
             [
              0.4444444444444444,
              "#bd3786"
             ],
             [
              0.5555555555555556,
              "#d8576b"
             ],
             [
              0.6666666666666666,
              "#ed7953"
             ],
             [
              0.7777777777777778,
              "#fb9f3a"
             ],
             [
              0.8888888888888888,
              "#fdca26"
             ],
             [
              1,
              "#f0f921"
             ]
            ],
            "type": "surface"
           }
          ],
          "table": [
           {
            "cells": {
             "fill": {
              "color": "#EBF0F8"
             },
             "line": {
              "color": "white"
             }
            },
            "header": {
             "fill": {
              "color": "#C8D4E3"
             },
             "line": {
              "color": "white"
             }
            },
            "type": "table"
           }
          ]
         },
         "layout": {
          "annotationdefaults": {
           "arrowcolor": "#2a3f5f",
           "arrowhead": 0,
           "arrowwidth": 1
          },
          "autotypenumbers": "strict",
          "coloraxis": {
           "colorbar": {
            "outlinewidth": 0,
            "ticks": ""
           }
          },
          "colorscale": {
           "diverging": [
            [
             0,
             "#8e0152"
            ],
            [
             0.1,
             "#c51b7d"
            ],
            [
             0.2,
             "#de77ae"
            ],
            [
             0.3,
             "#f1b6da"
            ],
            [
             0.4,
             "#fde0ef"
            ],
            [
             0.5,
             "#f7f7f7"
            ],
            [
             0.6,
             "#e6f5d0"
            ],
            [
             0.7,
             "#b8e186"
            ],
            [
             0.8,
             "#7fbc41"
            ],
            [
             0.9,
             "#4d9221"
            ],
            [
             1,
             "#276419"
            ]
           ],
           "sequential": [
            [
             0,
             "#0d0887"
            ],
            [
             0.1111111111111111,
             "#46039f"
            ],
            [
             0.2222222222222222,
             "#7201a8"
            ],
            [
             0.3333333333333333,
             "#9c179e"
            ],
            [
             0.4444444444444444,
             "#bd3786"
            ],
            [
             0.5555555555555556,
             "#d8576b"
            ],
            [
             0.6666666666666666,
             "#ed7953"
            ],
            [
             0.7777777777777778,
             "#fb9f3a"
            ],
            [
             0.8888888888888888,
             "#fdca26"
            ],
            [
             1,
             "#f0f921"
            ]
           ],
           "sequentialminus": [
            [
             0,
             "#0d0887"
            ],
            [
             0.1111111111111111,
             "#46039f"
            ],
            [
             0.2222222222222222,
             "#7201a8"
            ],
            [
             0.3333333333333333,
             "#9c179e"
            ],
            [
             0.4444444444444444,
             "#bd3786"
            ],
            [
             0.5555555555555556,
             "#d8576b"
            ],
            [
             0.6666666666666666,
             "#ed7953"
            ],
            [
             0.7777777777777778,
             "#fb9f3a"
            ],
            [
             0.8888888888888888,
             "#fdca26"
            ],
            [
             1,
             "#f0f921"
            ]
           ]
          },
          "colorway": [
           "#636efa",
           "#EF553B",
           "#00cc96",
           "#ab63fa",
           "#FFA15A",
           "#19d3f3",
           "#FF6692",
           "#B6E880",
           "#FF97FF",
           "#FECB52"
          ],
          "font": {
           "color": "#2a3f5f"
          },
          "geo": {
           "bgcolor": "white",
           "lakecolor": "white",
           "landcolor": "#E5ECF6",
           "showlakes": true,
           "showland": true,
           "subunitcolor": "white"
          },
          "hoverlabel": {
           "align": "left"
          },
          "hovermode": "closest",
          "mapbox": {
           "style": "light"
          },
          "paper_bgcolor": "white",
          "plot_bgcolor": "#E5ECF6",
          "polar": {
           "angularaxis": {
            "gridcolor": "white",
            "linecolor": "white",
            "ticks": ""
           },
           "bgcolor": "#E5ECF6",
           "radialaxis": {
            "gridcolor": "white",
            "linecolor": "white",
            "ticks": ""
           }
          },
          "scene": {
           "xaxis": {
            "backgroundcolor": "#E5ECF6",
            "gridcolor": "white",
            "gridwidth": 2,
            "linecolor": "white",
            "showbackground": true,
            "ticks": "",
            "zerolinecolor": "white"
           },
           "yaxis": {
            "backgroundcolor": "#E5ECF6",
            "gridcolor": "white",
            "gridwidth": 2,
            "linecolor": "white",
            "showbackground": true,
            "ticks": "",
            "zerolinecolor": "white"
           },
           "zaxis": {
            "backgroundcolor": "#E5ECF6",
            "gridcolor": "white",
            "gridwidth": 2,
            "linecolor": "white",
            "showbackground": true,
            "ticks": "",
            "zerolinecolor": "white"
           }
          },
          "shapedefaults": {
           "line": {
            "color": "#2a3f5f"
           }
          },
          "ternary": {
           "aaxis": {
            "gridcolor": "white",
            "linecolor": "white",
            "ticks": ""
           },
           "baxis": {
            "gridcolor": "white",
            "linecolor": "white",
            "ticks": ""
           },
           "bgcolor": "#E5ECF6",
           "caxis": {
            "gridcolor": "white",
            "linecolor": "white",
            "ticks": ""
           }
          },
          "title": {
           "x": 0.05
          },
          "xaxis": {
           "automargin": true,
           "gridcolor": "white",
           "linecolor": "white",
           "ticks": "",
           "title": {
            "standoff": 15
           },
           "zerolinecolor": "white",
           "zerolinewidth": 2
          },
          "yaxis": {
           "automargin": true,
           "gridcolor": "white",
           "linecolor": "white",
           "ticks": "",
           "title": {
            "standoff": 15
           },
           "zerolinecolor": "white",
           "zerolinewidth": 2
          }
         }
        },
        "title": {
         "text": "Teste"
        }
       }
      }
     },
     "metadata": {},
     "output_type": "display_data"
    }
   ],
   "source": [
    "\n",
    "edge_trace = []\n",
    "for edge in G.edges(data=True):\n",
    "    origin = edge[0]\n",
    "    destination = edge[1]\n",
    "    weight = edge[2]['weight']\n",
    "\n",
    "    edge_trace.append(\n",
    "        go.Scattergeo(\n",
    "            locationmode='ISO-3',\n",
    "            lon=[country_coords.loc[origin, 'lon'],\n",
    "                 country_coords.loc[destination, 'lon']],\n",
    "            lat=[country_coords.loc[origin, 'lat'],\n",
    "                 country_coords.loc[destination, 'lat']],\n",
    "            mode='lines',\n",
    "            line=dict(width=weight, color='blue'),\n",
    "            opacity=0.6,\n",
    "        )\n",
    "    )\n",
    "\n",
    "node_trace = go.Scattergeo(\n",
    "    locationmode='ISO-3',\n",
    "    lon=[country_coords.loc[country, 'lon'] for country in G.nodes],\n",
    "    lat=[country_coords.loc[country, 'lat'] for country in G.nodes],\n",
    "    mode='markers',\n",
    "    marker=dict(size=10, color='red'),\n",
    "    text=[country for country in G.nodes]\n",
    ")\n",
    "\n",
    "fig = go.Figure(data=edge_trace + [node_trace])\n",
    "\n",
    "fig.update_layout(\n",
    "    title = 'Teste',\n",
    "    showlegend = False,\n",
    "    geo = dict(showframe = False, showcoastlines = True, projection_type = 'equirectangular')\n",
    ")\n",
    "\n",
    "fig.show()"
   ]
  }
 ],
 "metadata": {
  "kernelspec": {
   "display_name": ".venv",
   "language": "python",
   "name": "python3"
  },
  "language_info": {
   "codemirror_mode": {
    "name": "ipython",
    "version": 3
   },
   "file_extension": ".py",
   "mimetype": "text/x-python",
   "name": "python",
   "nbconvert_exporter": "python",
   "pygments_lexer": "ipython3",
   "version": "3.12.4"
  }
 },
 "nbformat": 4,
 "nbformat_minor": 2
}
